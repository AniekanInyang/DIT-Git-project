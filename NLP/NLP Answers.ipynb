{
 "cells": [
  {
   "cell_type": "code",
   "execution_count": 1,
   "metadata": {},
   "outputs": [],
   "source": [
    "# Import standrad libraries to injest the CSV file and read in the CSV file\n",
    "import pandas as pd\n"
   ]
  },
  {
   "cell_type": "code",
   "execution_count": 2,
   "metadata": {},
   "outputs": [
    {
     "data": {
      "text/html": [
       "<div>\n",
       "<style scoped>\n",
       "    .dataframe tbody tr th:only-of-type {\n",
       "        vertical-align: middle;\n",
       "    }\n",
       "\n",
       "    .dataframe tbody tr th {\n",
       "        vertical-align: top;\n",
       "    }\n",
       "\n",
       "    .dataframe thead th {\n",
       "        text-align: right;\n",
       "    }\n",
       "</style>\n",
       "<table border=\"1\" class=\"dataframe\">\n",
       "  <thead>\n",
       "    <tr style=\"text-align: right;\">\n",
       "      <th></th>\n",
       "      <th>id</th>\n",
       "      <th>articles</th>\n",
       "    </tr>\n",
       "  </thead>\n",
       "  <tbody>\n",
       "    <tr>\n",
       "      <th>0</th>\n",
       "      <td>1</td>\n",
       "      <td>What does it mean to be successful? Perhaps, o...</td>\n",
       "    </tr>\n",
       "    <tr>\n",
       "      <th>1</th>\n",
       "      <td>2</td>\n",
       "      <td>Much has been made of Africa&amp;rsquo;s unfavorab...</td>\n",
       "    </tr>\n",
       "    <tr>\n",
       "      <th>2</th>\n",
       "      <td>3</td>\n",
       "      <td>A few days after a Damaris Wambui Kamau and he...</td>\n",
       "    </tr>\n",
       "    <tr>\n",
       "      <th>3</th>\n",
       "      <td>4</td>\n",
       "      <td>\\n\\n\\n\\nJust a few hours after their release o...</td>\n",
       "    </tr>\n",
       "    <tr>\n",
       "      <th>4</th>\n",
       "      <td>5</td>\n",
       "      <td>IPOA is investigating the murder of four peopl...</td>\n",
       "    </tr>\n",
       "  </tbody>\n",
       "</table>\n",
       "</div>"
      ],
      "text/plain": [
       "   id                                           articles\n",
       "0   1  What does it mean to be successful? Perhaps, o...\n",
       "1   2  Much has been made of Africa&rsquo;s unfavorab...\n",
       "2   3  A few days after a Damaris Wambui Kamau and he...\n",
       "3   4  \\n\\n\\n\\nJust a few hours after their release o...\n",
       "4   5  IPOA is investigating the murder of four peopl..."
      ]
     },
     "execution_count": 2,
     "metadata": {},
     "output_type": "execute_result"
    }
   ],
   "source": [
    "#View the data\n",
    "\n",
    "df=pd.read_csv('articles.csv')\n",
    "df.head()"
   ]
  },
  {
   "cell_type": "code",
   "execution_count": null,
   "metadata": {},
   "outputs": [],
   "source": []
  },
  {
   "cell_type": "code",
   "execution_count": 3,
   "metadata": {},
   "outputs": [
    {
     "name": "stdout",
     "output_type": "stream",
     "text": [
      "7\n"
     ]
    }
   ],
   "source": [
    "# Count the email addresses contained in entire dataset\n",
    "\n",
    "# import standard package\n",
    "import re\n",
    "\n",
    "# Enter your regex pattern here. This may take several tries!\n",
    "articles= df['articles']\n",
    "full_article=[]\n",
    "\n",
    "for article in articles:\n",
    "    full_article.append(article)\n",
    "\n",
    "full_article=' '.join(str(x) for x in full_article)\n",
    "\n",
    "pattern=r'\\w+@\\w+.\\w{3}'\n",
    "\n",
    "count=re.findall(pattern, full_article)\n",
    "#print(count)\n",
    "print(len(count))"
   ]
  },
  {
   "cell_type": "code",
   "execution_count": null,
   "metadata": {},
   "outputs": [],
   "source": []
  },
  {
   "cell_type": "code",
   "execution_count": 4,
   "metadata": {},
   "outputs": [],
   "source": [
    "# Run this cell to perform standard imports\n",
    "import spacy\n",
    "nlp = spacy.load('en_core_web_sm')"
   ]
  },
  {
   "cell_type": "code",
   "execution_count": 5,
   "metadata": {},
   "outputs": [],
   "source": [
    "# Create an article object from the 'google-phd-program.txt' file\n",
    "\n",
    "\n",
    "with open('google-phd-program.txt', encoding=\"utf-8\") as f:\n",
    "    doc=nlp(f.read())\n",
    "    \n",
    "#print(doc)\n",
    "\n",
    "\n"
   ]
  },
  {
   "cell_type": "code",
   "execution_count": 6,
   "metadata": {},
   "outputs": [
    {
     "data": {
      "text/plain": [
       "24"
      ]
     },
     "execution_count": 6,
     "metadata": {},
     "output_type": "execute_result"
    }
   ],
   "source": [
    "# How many sentences are conatined in the file\n",
    "\n",
    "sentences= [sentence for sentence in doc.sents]\n",
    "len(sentences)"
   ]
  },
  {
   "cell_type": "code",
   "execution_count": 7,
   "metadata": {},
   "outputs": [
    {
     "data": {
      "text/plain": [
       "Instead of receiving a boring paper diploma at the end of their PhDs, Google PhD graduates receive a priceless note handwritten by Jeff Dean on a napkin that says, “You have a PhD now."
      ]
     },
     "execution_count": 7,
     "metadata": {},
     "output_type": "execute_result"
    }
   ],
   "source": [
    "# Print out the FOURTEENTH sentence\n",
    "\n",
    "sentences[13]"
   ]
  },
  {
   "cell_type": "code",
   "execution_count": 8,
   "metadata": {
    "scrolled": true
   },
   "outputs": [
    {
     "name": "stdout",
     "output_type": "stream",
     "text": [
      "Instead         ADV     advmod     instead\n",
      "of              ADP     prep       of\n",
      "receiving       VERB    pcomp      receive\n",
      "a               DET     det        a\n",
      "boring          ADJ     amod       boring\n",
      "paper           NOUN    compound   paper\n",
      "diploma         NOUN    dobj       diploma\n",
      "at              ADP     prep       at\n",
      "the             DET     det        the\n",
      "end             NOUN    pobj       end\n",
      "of              ADP     prep       of\n",
      "their           ADJ     poss       -PRON-\n",
      "PhDs            PROPN   pobj       phds\n",
      ",               PUNCT   punct      ,\n",
      "Google          PROPN   compound   google\n",
      "PhD             NOUN    compound   phd\n",
      "graduates       VERB    nsubj      graduate\n",
      "receive         VERB    ROOT       receive\n",
      "a               DET     det        a\n",
      "priceless       ADJ     amod       priceless\n",
      "note            NOUN    dobj       note\n",
      "handwritten     ADJ     acl        handwritten\n",
      "by              ADP     agent      by\n",
      "Jeff            PROPN   compound   jeff\n",
      "Dean            PROPN   pobj       dean\n",
      "on              ADP     prep       on\n",
      "a               DET     det        a\n",
      "napkin          NOUN    pobj       napkin\n",
      "that            ADJ     nsubj      that\n",
      "says            VERB    relcl      say\n",
      ",               PUNCT   punct      ,\n",
      "“               PUNCT   punct      \"\n",
      "You             PRON    nsubj      -PRON-\n",
      "have            VERB    ccomp      have\n",
      "a               DET     det        a\n",
      "PhD             NOUN    dobj       phd\n",
      "now             ADV     advmod     now\n",
      ".               PUNCT   punct      .\n"
     ]
    }
   ],
   "source": [
    "# For each token in the sentence above, print its text, POS tag,\n",
    "# dep tag and lemma. \n",
    "#Have values line up in columns like in the print output.\n",
    "\n",
    "for token  in sentences[13]:\n",
    "    print(f\"{token.text:{15}} {token.pos_:{7}} {token.dep_:{10}} {token.lemma_}\")"
   ]
  },
  {
   "cell_type": "code",
   "execution_count": null,
   "metadata": {},
   "outputs": [],
   "source": []
  },
  {
   "cell_type": "code",
   "execution_count": 9,
   "metadata": {},
   "outputs": [
    {
     "name": "stdout",
     "output_type": "stream",
     "text": [
      "Google Brain    PERSON     People, including fictional\n",
      "DeepMind        GPE        Countries, cities, states\n",
      "FAIR            ORG        Companies, agencies, institutions, etc.\n",
      "Stanford        ORG        Companies, agencies, institutions, etc.\n",
      "Berkeley        GPE        Countries, cities, states\n",
      "MIT             ORG        Companies, agencies, institutions, etc.\n"
     ]
    }
   ],
   "source": [
    "# Extract entites in the SECOND sentence\n",
    "\n",
    "def show_entity(doc):\n",
    "    if doc.ents:\n",
    "        for ent in doc.ents:\n",
    "            print(f\"{ent.text:{15}} {ent.label_:{10}} {str(spacy.explain(ent.label_))}\")\n",
    "        \n",
    "show_entity(sentences[1])"
   ]
  },
  {
   "cell_type": "code",
   "execution_count": null,
   "metadata": {},
   "outputs": [],
   "source": []
  },
  {
   "cell_type": "code",
   "execution_count": 10,
   "metadata": {},
   "outputs": [],
   "source": [
    "# Write a matcher called 'AI' that finds all occurrences\n",
    "# of the phrase \"Artificial Intelligence\" and word 'AI' in the article\n",
    "\n",
    "# First Run this standard import and call\n",
    "from spacy.matcher import Matcher\n",
    "matcher = Matcher(nlp.vocab)"
   ]
  },
  {
   "cell_type": "code",
   "execution_count": null,
   "metadata": {},
   "outputs": [],
   "source": []
  },
  {
   "cell_type": "code",
   "execution_count": 11,
   "metadata": {},
   "outputs": [],
   "source": [
    "# Create the patterns and add it to matcher:\n",
    "\n",
    "pattern1 = [{'ORTH': 'Artificial'}, {'ORTH': 'Intelligence'}]\n",
    "pattern2 = [{'ORTH': 'artificial'}, {'ORTH': 'intelligence'}]\n",
    "pattern3 = [{'ORTH': 'AI'}]\n",
    "matcher.add('AI', None, pattern1,pattern2, pattern3)"
   ]
  },
  {
   "cell_type": "code",
   "execution_count": 12,
   "metadata": {},
   "outputs": [
    {
     "name": "stdout",
     "output_type": "stream",
     "text": [
      "[(5530044837203964789, 12, 13), (5530044837203964789, 47, 49), (5530044837203964789, 138, 139), (5530044837203964789, 155, 157), (5530044837203964789, 285, 286), (5530044837203964789, 408, 409), (5530044837203964789, 421, 422), (5530044837203964789, 458, 459)]\n"
     ]
    }
   ],
   "source": [
    "# Create a list of matches called \"found_matches\" and print the list:\n",
    "\n",
    "found_matches = matcher(doc)\n",
    "print((found_matches))"
   ]
  },
  {
   "cell_type": "code",
   "execution_count": null,
   "metadata": {},
   "outputs": [],
   "source": []
  },
  {
   "cell_type": "code",
   "execution_count": 13,
   "metadata": {},
   "outputs": [
    {
     "data": {
      "text/plain": [
       "It’s extremely difficult to find people with talent in Machine Learning and Artificial Intelligence these days, and it pained us to see so many of our amazing interns decline our return offers to go back to school for PhDs."
      ]
     },
     "execution_count": 13,
     "metadata": {},
     "output_type": "execute_result"
    }
   ],
   "source": [
    "# Write a FUNCTION that takes in a index and prints the sentence\n",
    "#in which the match at that index is found\n",
    "\n",
    "def print_match_sent(index):\n",
    "    for sent in sentences:\n",
    "        if found_matches[index][1] < sent.end:\n",
    "            #print(sent)\n",
    "            return sent\n"
   ]
  },
  {
   "cell_type": "code",
   "execution_count": 14,
   "metadata": {},
   "outputs": [
    {
     "data": {
      "text/plain": [
       "It’s extremely difficult to find people with talent in Machine Learning and Artificial Intelligence these days, and it pained us to see so many of our amazing interns decline our return offers to go back to school for PhDs."
      ]
     },
     "execution_count": 14,
     "metadata": {},
     "output_type": "execute_result"
    }
   ],
   "source": [
    "# print the sentence where the FOURTH match is \n",
    "print_match_sent(3)"
   ]
  },
  {
   "cell_type": "code",
   "execution_count": 15,
   "metadata": {},
   "outputs": [
    {
     "data": {
      "text/plain": [
       "In the meantime, Google is already planning for the next way to find top AI talent."
      ]
     },
     "execution_count": 15,
     "metadata": {},
     "output_type": "execute_result"
    }
   ],
   "source": [
    "# print the sentence where the last match is \n",
    "print_match_sent(-1)"
   ]
  },
  {
   "cell_type": "code",
   "execution_count": null,
   "metadata": {},
   "outputs": [],
   "source": []
  },
  {
   "cell_type": "code",
   "execution_count": 16,
   "metadata": {},
   "outputs": [],
   "source": [
    "# RUN THIS CELL to perform standard imports:\n",
    "from spacy import displacy"
   ]
  },
  {
   "cell_type": "code",
   "execution_count": 17,
   "metadata": {},
   "outputs": [],
   "source": [
    "POS_counts = doc.count_by(spacy.attrs.POS)"
   ]
  },
  {
   "cell_type": "code",
   "execution_count": 18,
   "metadata": {},
   "outputs": [
    {
     "name": "stdout",
     "output_type": "stream",
     "text": [
      "83. ADJ  : 48\n",
      "84. ADP  : 56\n",
      "85. ADV  : 22\n",
      "88. CCONJ: 11\n",
      "89. DET  : 30\n",
      "90. INTJ : 1\n",
      "91. NOUN : 116\n",
      "92. NUM  : 3\n",
      "93. PART : 15\n",
      "94. PRON : 10\n",
      "95. PROPN: 37\n",
      "96. PUNCT: 62\n",
      "99. VERB : 71\n",
      "102. SPACE: 6\n"
     ]
    }
   ],
   "source": [
    "# Provide a frequency list of POS tags from the entire article\n",
    "\n",
    "for key,value in sorted(POS_counts.items()):\n",
    "    print(f'{key}. {doc.vocab[key].text:{5}}: {value}')"
   ]
  },
  {
   "cell_type": "code",
   "execution_count": 19,
   "metadata": {},
   "outputs": [
    {
     "name": "stdout",
     "output_type": "stream",
     "text": [
      "116/488 = 23.77%\n"
     ]
    }
   ],
   "source": [
    "# What percentage of tokens are nouns?\n",
    "\n",
    "percent = 100*POS_counts[91]/len(doc)\n",
    "\n",
    "print(f'{POS_counts[91]}/{len(doc)} = {percent:{.4}}%')"
   ]
  },
  {
   "cell_type": "code",
   "execution_count": 20,
   "metadata": {},
   "outputs": [
    {
     "data": {
      "text/html": [
       "<div class=\"entities\" style=\"line-height: 2.5\">In a move that is completely unsurprising to many, \n",
       "<mark class=\"entity\" style=\"background: #7aecec; padding: 0.45em 0.6em; margin: 0 0.25em; line-height: 1; border-radius: 0.35em; box-decoration-break: clone; -webkit-box-decoration-break: clone\">\n",
       "    Google\n",
       "    <span style=\"font-size: 0.8em; font-weight: bold; line-height: 1; border-radius: 0.35em; text-transform: uppercase; vertical-align: middle; margin-left: 0.5rem\">ORG</span>\n",
       "</mark>\n",
       "’s \n",
       "<mark class=\"entity\" style=\"background: #feca74; padding: 0.45em 0.6em; margin: 0 0.25em; line-height: 1; border-radius: 0.35em; box-decoration-break: clone; -webkit-box-decoration-break: clone\">\n",
       "    AI\n",
       "    <span style=\"font-size: 0.8em; font-weight: bold; line-height: 1; border-radius: 0.35em; text-transform: uppercase; vertical-align: middle; margin-left: 0.5rem\">GPE</span>\n",
       "</mark>\n",
       " research division has announced that they are issuing \n",
       "<mark class=\"entity\" style=\"background: #f0d0ff; padding: 0.45em 0.6em; margin: 0 0.25em; line-height: 1; border-radius: 0.35em; box-decoration-break: clone; -webkit-box-decoration-break: clone\">\n",
       "    PhD\n",
       "    <span style=\"font-size: 0.8em; font-weight: bold; line-height: 1; border-radius: 0.35em; text-transform: uppercase; vertical-align: middle; margin-left: 0.5rem\">WORK_OF_ART</span>\n",
       "</mark>\n",
       " degrees to select employees.\n",
       "<mark class=\"entity\" style=\"background: #feca74; padding: 0.45em 0.6em; margin: 0 0.25em; line-height: 1; border-radius: 0.35em; box-decoration-break: clone; -webkit-box-decoration-break: clone\">\n",
       "    \n",
       "\n",
       "    <span style=\"font-size: 0.8em; font-weight: bold; line-height: 1; border-radius: 0.35em; text-transform: uppercase; vertical-align: middle; margin-left: 0.5rem\">GPE</span>\n",
       "</mark>\n",
       "Industry research organizations like \n",
       "<mark class=\"entity\" style=\"background: #aa9cfc; padding: 0.45em 0.6em; margin: 0 0.25em; line-height: 1; border-radius: 0.35em; box-decoration-break: clone; -webkit-box-decoration-break: clone\">\n",
       "    Google Brain\n",
       "    <span style=\"font-size: 0.8em; font-weight: bold; line-height: 1; border-radius: 0.35em; text-transform: uppercase; vertical-align: middle; margin-left: 0.5rem\">PERSON</span>\n",
       "</mark>\n",
       ", \n",
       "<mark class=\"entity\" style=\"background: #feca74; padding: 0.45em 0.6em; margin: 0 0.25em; line-height: 1; border-radius: 0.35em; box-decoration-break: clone; -webkit-box-decoration-break: clone\">\n",
       "    DeepMind\n",
       "    <span style=\"font-size: 0.8em; font-weight: bold; line-height: 1; border-radius: 0.35em; text-transform: uppercase; vertical-align: middle; margin-left: 0.5rem\">GPE</span>\n",
       "</mark>\n",
       ", and \n",
       "<mark class=\"entity\" style=\"background: #7aecec; padding: 0.45em 0.6em; margin: 0 0.25em; line-height: 1; border-radius: 0.35em; box-decoration-break: clone; -webkit-box-decoration-break: clone\">\n",
       "    FAIR\n",
       "    <span style=\"font-size: 0.8em; font-weight: bold; line-height: 1; border-radius: 0.35em; text-transform: uppercase; vertical-align: middle; margin-left: 0.5rem\">ORG</span>\n",
       "</mark>\n",
       " are well known as heavy hitters in the artificial intelligence research community, publishing as many papers (if not more) as academic institutions like \n",
       "<mark class=\"entity\" style=\"background: #7aecec; padding: 0.45em 0.6em; margin: 0 0.25em; line-height: 1; border-radius: 0.35em; box-decoration-break: clone; -webkit-box-decoration-break: clone\">\n",
       "    Stanford\n",
       "    <span style=\"font-size: 0.8em; font-weight: bold; line-height: 1; border-radius: 0.35em; text-transform: uppercase; vertical-align: middle; margin-left: 0.5rem\">ORG</span>\n",
       "</mark>\n",
       ", \n",
       "<mark class=\"entity\" style=\"background: #feca74; padding: 0.45em 0.6em; margin: 0 0.25em; line-height: 1; border-radius: 0.35em; box-decoration-break: clone; -webkit-box-decoration-break: clone\">\n",
       "    Berkeley\n",
       "    <span style=\"font-size: 0.8em; font-weight: bold; line-height: 1; border-radius: 0.35em; text-transform: uppercase; vertical-align: middle; margin-left: 0.5rem\">GPE</span>\n",
       "</mark>\n",
       ", and \n",
       "<mark class=\"entity\" style=\"background: #7aecec; padding: 0.45em 0.6em; margin: 0 0.25em; line-height: 1; border-radius: 0.35em; box-decoration-break: clone; -webkit-box-decoration-break: clone\">\n",
       "    MIT\n",
       "    <span style=\"font-size: 0.8em; font-weight: bold; line-height: 1; border-radius: 0.35em; text-transform: uppercase; vertical-align: middle; margin-left: 0.5rem\">ORG</span>\n",
       "</mark>\n",
       ". Many top professors from academia have migrated over to industry research labs as well, sacrificing the security of academic tenure for fat stacks of money. Although \n",
       "<mark class=\"entity\" style=\"background: #7aecec; padding: 0.45em 0.6em; margin: 0 0.25em; line-height: 1; border-radius: 0.35em; box-decoration-break: clone; -webkit-box-decoration-break: clone\">\n",
       "    Google\n",
       "    <span style=\"font-size: 0.8em; font-weight: bold; line-height: 1; border-radius: 0.35em; text-transform: uppercase; vertical-align: middle; margin-left: 0.5rem\">ORG</span>\n",
       "</mark>\n",
       " has previously experimented with research residencies, this is the \n",
       "<mark class=\"entity\" style=\"background: #e4e7d2; padding: 0.45em 0.6em; margin: 0 0.25em; line-height: 1; border-radius: 0.35em; box-decoration-break: clone; -webkit-box-decoration-break: clone\">\n",
       "    first\n",
       "    <span style=\"font-size: 0.8em; font-weight: bold; line-height: 1; border-radius: 0.35em; text-transform: uppercase; vertical-align: middle; margin-left: 0.5rem\">ORDINAL</span>\n",
       "</mark>\n",
       " time that they have issued postgraduate degrees.\n",
       "<mark class=\"entity\" style=\"background: #feca74; padding: 0.45em 0.6em; margin: 0 0.25em; line-height: 1; border-radius: 0.35em; box-decoration-break: clone; -webkit-box-decoration-break: clone\">\n",
       "    \n",
       "\n",
       "    <span style=\"font-size: 0.8em; font-weight: bold; line-height: 1; border-radius: 0.35em; text-transform: uppercase; vertical-align: middle; margin-left: 0.5rem\">GPE</span>\n",
       "</mark>\n",
       "According to a representative, the tech giant decided to issue \n",
       "<mark class=\"entity\" style=\"background: #7aecec; padding: 0.45em 0.6em; margin: 0 0.25em; line-height: 1; border-radius: 0.35em; box-decoration-break: clone; -webkit-box-decoration-break: clone\">\n",
       "    PhDs\n",
       "    <span style=\"font-size: 0.8em; font-weight: bold; line-height: 1; border-radius: 0.35em; text-transform: uppercase; vertical-align: middle; margin-left: 0.5rem\">ORG</span>\n",
       "</mark>\n",
       " in order to attract scarce \n",
       "<mark class=\"entity\" style=\"background: #aa9cfc; padding: 0.45em 0.6em; margin: 0 0.25em; line-height: 1; border-radius: 0.35em; box-decoration-break: clone; -webkit-box-decoration-break: clone\">\n",
       "    AI\n",
       "    <span style=\"font-size: 0.8em; font-weight: bold; line-height: 1; border-radius: 0.35em; text-transform: uppercase; vertical-align: middle; margin-left: 0.5rem\">PERSON</span>\n",
       "</mark>\n",
       " talent. “It’s extremely difficult to find people with talent in \n",
       "<mark class=\"entity\" style=\"background: #7aecec; padding: 0.45em 0.6em; margin: 0 0.25em; line-height: 1; border-radius: 0.35em; box-decoration-break: clone; -webkit-box-decoration-break: clone\">\n",
       "    Machine Learning and Artificial Intelligence\n",
       "    <span style=\"font-size: 0.8em; font-weight: bold; line-height: 1; border-radius: 0.35em; text-transform: uppercase; vertical-align: middle; margin-left: 0.5rem\">ORG</span>\n",
       "</mark>\n",
       " \n",
       "<mark class=\"entity\" style=\"background: #bfe1d9; padding: 0.45em 0.6em; margin: 0 0.25em; line-height: 1; border-radius: 0.35em; box-decoration-break: clone; -webkit-box-decoration-break: clone\">\n",
       "    these days\n",
       "    <span style=\"font-size: 0.8em; font-weight: bold; line-height: 1; border-radius: 0.35em; text-transform: uppercase; vertical-align: middle; margin-left: 0.5rem\">DATE</span>\n",
       "</mark>\n",
       ", and it pained us to see so many of our amazing interns decline our return offers to go back to school for \n",
       "<mark class=\"entity\" style=\"background: #7aecec; padding: 0.45em 0.6em; margin: 0 0.25em; line-height: 1; border-radius: 0.35em; box-decoration-break: clone; -webkit-box-decoration-break: clone\">\n",
       "    PhDs\n",
       "    <span style=\"font-size: 0.8em; font-weight: bold; line-height: 1; border-radius: 0.35em; text-transform: uppercase; vertical-align: middle; margin-left: 0.5rem\">ORG</span>\n",
       "</mark>\n",
       ". With the \n",
       "<mark class=\"entity\" style=\"background: #7aecec; padding: 0.45em 0.6em; margin: 0 0.25em; line-height: 1; border-radius: 0.35em; box-decoration-break: clone; -webkit-box-decoration-break: clone\">\n",
       "    Google\n",
       "    <span style=\"font-size: 0.8em; font-weight: bold; line-height: 1; border-radius: 0.35em; text-transform: uppercase; vertical-align: middle; margin-left: 0.5rem\">ORG</span>\n",
       "</mark>\n",
       " PhD program, we can continue to get the best talent while supporting our student-employees with world class resources and technology.”\n",
       "<mark class=\"entity\" style=\"background: #feca74; padding: 0.45em 0.6em; margin: 0 0.25em; line-height: 1; border-radius: 0.35em; box-decoration-break: clone; -webkit-box-decoration-break: clone\">\n",
       "    \n",
       "\n",
       "    <span style=\"font-size: 0.8em; font-weight: bold; line-height: 1; border-radius: 0.35em; text-transform: uppercase; vertical-align: middle; margin-left: 0.5rem\">GPE</span>\n",
       "</mark>\n",
       "For graduate students, the \n",
       "<mark class=\"entity\" style=\"background: #7aecec; padding: 0.45em 0.6em; margin: 0 0.25em; line-height: 1; border-radius: 0.35em; box-decoration-break: clone; -webkit-box-decoration-break: clone\">\n",
       "    Google\n",
       "    <span style=\"font-size: 0.8em; font-weight: bold; line-height: 1; border-radius: 0.35em; text-transform: uppercase; vertical-align: middle; margin-left: 0.5rem\">ORG</span>\n",
       "</mark>\n",
       " PhD program is a sweet deal. There is already a well-known pipeline where top graduate students do their \n",
       "<mark class=\"entity\" style=\"background: #7aecec; padding: 0.45em 0.6em; margin: 0 0.25em; line-height: 1; border-radius: 0.35em; box-decoration-break: clone; -webkit-box-decoration-break: clone\">\n",
       "    PhDs\n",
       "    <span style=\"font-size: 0.8em; font-weight: bold; line-height: 1; border-radius: 0.35em; text-transform: uppercase; vertical-align: middle; margin-left: 0.5rem\">ORG</span>\n",
       "</mark>\n",
       " at a university, intern at industry research groups during \n",
       "<mark class=\"entity\" style=\"background: #bfe1d9; padding: 0.45em 0.6em; margin: 0 0.25em; line-height: 1; border-radius: 0.35em; box-decoration-break: clone; -webkit-box-decoration-break: clone\">\n",
       "    the summer\n",
       "    <span style=\"font-size: 0.8em; font-weight: bold; line-height: 1; border-radius: 0.35em; text-transform: uppercase; vertical-align: middle; margin-left: 0.5rem\">DATE</span>\n",
       "</mark>\n",
       ", and then sign on full time after graduation with the promise of \n",
       "<mark class=\"entity\" style=\"background: #e4e7d2; padding: 0.45em 0.6em; margin: 0 0.25em; line-height: 1; border-radius: 0.35em; box-decoration-break: clone; -webkit-box-decoration-break: clone\">\n",
       "    million-dollar\n",
       "    <span style=\"font-size: 0.8em; font-weight: bold; line-height: 1; border-radius: 0.35em; text-transform: uppercase; vertical-align: middle; margin-left: 0.5rem\">MONEY</span>\n",
       "</mark>\n",
       " compensation packages and the freedom to set their own research agendas.\n",
       "<mark class=\"entity\" style=\"background: #feca74; padding: 0.45em 0.6em; margin: 0 0.25em; line-height: 1; border-radius: 0.35em; box-decoration-break: clone; -webkit-box-decoration-break: clone\">\n",
       "    \n",
       "\n",
       "    <span style=\"font-size: 0.8em; font-weight: bold; line-height: 1; border-radius: 0.35em; text-transform: uppercase; vertical-align: middle; margin-left: 0.5rem\">GPE</span>\n",
       "</mark>\n",
       "However, aspiring \n",
       "<mark class=\"entity\" style=\"background: #feca74; padding: 0.45em 0.6em; margin: 0 0.25em; line-height: 1; border-radius: 0.35em; box-decoration-break: clone; -webkit-box-decoration-break: clone\">\n",
       "    AI\n",
       "    <span style=\"font-size: 0.8em; font-weight: bold; line-height: 1; border-radius: 0.35em; text-transform: uppercase; vertical-align: middle; margin-left: 0.5rem\">GPE</span>\n",
       "</mark>\n",
       " researchers must still struggle through the difficulties of academia: \n",
       "<mark class=\"entity\" style=\"background: #bfe1d9; padding: 0.45em 0.6em; margin: 0 0.25em; line-height: 1; border-radius: 0.35em; box-decoration-break: clone; -webkit-box-decoration-break: clone\">\n",
       "    four to six years\n",
       "    <span style=\"font-size: 0.8em; font-weight: bold; line-height: 1; border-radius: 0.35em; text-transform: uppercase; vertical-align: middle; margin-left: 0.5rem\">DATE</span>\n",
       "</mark>\n",
       " of low pay, begging for funding, and advisors who can be sadistic, micromanaging, or absent. In contrast, \n",
       "<mark class=\"entity\" style=\"background: #7aecec; padding: 0.45em 0.6em; margin: 0 0.25em; line-height: 1; border-radius: 0.35em; box-decoration-break: clone; -webkit-box-decoration-break: clone\">\n",
       "    Google\n",
       "    <span style=\"font-size: 0.8em; font-weight: bold; line-height: 1; border-radius: 0.35em; text-transform: uppercase; vertical-align: middle; margin-left: 0.5rem\">ORG</span>\n",
       "</mark>\n",
       " offers researchers massive computational resources and motivates their \n",
       "<mark class=\"entity\" style=\"background: #f0d0ff; padding: 0.45em 0.6em; margin: 0 0.25em; line-height: 1; border-radius: 0.35em; box-decoration-break: clone; -webkit-box-decoration-break: clone\">\n",
       "    PhD\n",
       "    <span style=\"font-size: 0.8em; font-weight: bold; line-height: 1; border-radius: 0.35em; text-transform: uppercase; vertical-align: middle; margin-left: 0.5rem\">WORK_OF_ART</span>\n",
       "</mark>\n",
       " advisors with a potent combination of vegan snacks, kombucha, and equity refreshers. Instead of receiving a boring paper diploma at the end of their \n",
       "<mark class=\"entity\" style=\"background: #7aecec; padding: 0.45em 0.6em; margin: 0 0.25em; line-height: 1; border-radius: 0.35em; box-decoration-break: clone; -webkit-box-decoration-break: clone\">\n",
       "    PhDs\n",
       "    <span style=\"font-size: 0.8em; font-weight: bold; line-height: 1; border-radius: 0.35em; text-transform: uppercase; vertical-align: middle; margin-left: 0.5rem\">ORG</span>\n",
       "</mark>\n",
       ", \n",
       "<mark class=\"entity\" style=\"background: #7aecec; padding: 0.45em 0.6em; margin: 0 0.25em; line-height: 1; border-radius: 0.35em; box-decoration-break: clone; -webkit-box-decoration-break: clone\">\n",
       "    Google\n",
       "    <span style=\"font-size: 0.8em; font-weight: bold; line-height: 1; border-radius: 0.35em; text-transform: uppercase; vertical-align: middle; margin-left: 0.5rem\">ORG</span>\n",
       "</mark>\n",
       " PhD graduates receive a priceless note handwritten by \n",
       "<mark class=\"entity\" style=\"background: #aa9cfc; padding: 0.45em 0.6em; margin: 0 0.25em; line-height: 1; border-radius: 0.35em; box-decoration-break: clone; -webkit-box-decoration-break: clone\">\n",
       "    Jeff Dean\n",
       "    <span style=\"font-size: 0.8em; font-weight: bold; line-height: 1; border-radius: 0.35em; text-transform: uppercase; vertical-align: middle; margin-left: 0.5rem\">PERSON</span>\n",
       "</mark>\n",
       " on a napkin that says, “You have a \n",
       "<mark class=\"entity\" style=\"background: #f0d0ff; padding: 0.45em 0.6em; margin: 0 0.25em; line-height: 1; border-radius: 0.35em; box-decoration-break: clone; -webkit-box-decoration-break: clone\">\n",
       "    PhD\n",
       "    <span style=\"font-size: 0.8em; font-weight: bold; line-height: 1; border-radius: 0.35em; text-transform: uppercase; vertical-align: middle; margin-left: 0.5rem\">WORK_OF_ART</span>\n",
       "</mark>\n",
       " now.”\n",
       "<mark class=\"entity\" style=\"background: #feca74; padding: 0.45em 0.6em; margin: 0 0.25em; line-height: 1; border-radius: 0.35em; box-decoration-break: clone; -webkit-box-decoration-break: clone\">\n",
       "    \n",
       "\n",
       "    <span style=\"font-size: 0.8em; font-weight: bold; line-height: 1; border-radius: 0.35em; text-transform: uppercase; vertical-align: middle; margin-left: 0.5rem\">GPE</span>\n",
       "</mark>\n",
       "Other tech companies are scrambling to build their own research groups so they are not left behind in the “AI revolution.” Halting Problem reached out to a representative from \n",
       "<mark class=\"entity\" style=\"background: #7aecec; padding: 0.45em 0.6em; margin: 0 0.25em; line-height: 1; border-radius: 0.35em; box-decoration-break: clone; -webkit-box-decoration-break: clone\">\n",
       "    Salesforce AI Research\n",
       "    <span style=\"font-size: 0.8em; font-weight: bold; line-height: 1; border-radius: 0.35em; text-transform: uppercase; vertical-align: middle; margin-left: 0.5rem\">ORG</span>\n",
       "</mark>\n",
       " who said, “What? \n",
       "<mark class=\"entity\" style=\"background: #7aecec; padding: 0.45em 0.6em; margin: 0 0.25em; line-height: 1; border-radius: 0.35em; box-decoration-break: clone; -webkit-box-decoration-break: clone\">\n",
       "    Google\n",
       "    <span style=\"font-size: 0.8em; font-weight: bold; line-height: 1; border-radius: 0.35em; text-transform: uppercase; vertical-align: middle; margin-left: 0.5rem\">ORG</span>\n",
       "</mark>\n",
       " is doing it? Well, guess we are too.”\n",
       "<mark class=\"entity\" style=\"background: #feca74; padding: 0.45em 0.6em; margin: 0 0.25em; line-height: 1; border-radius: 0.35em; box-decoration-break: clone; -webkit-box-decoration-break: clone\">\n",
       "    \n",
       "\n",
       "    <span style=\"font-size: 0.8em; font-weight: bold; line-height: 1; border-radius: 0.35em; text-transform: uppercase; vertical-align: middle; margin-left: 0.5rem\">GPE</span>\n",
       "</mark>\n",
       "In the meantime, \n",
       "<mark class=\"entity\" style=\"background: #7aecec; padding: 0.45em 0.6em; margin: 0 0.25em; line-height: 1; border-radius: 0.35em; box-decoration-break: clone; -webkit-box-decoration-break: clone\">\n",
       "    Google\n",
       "    <span style=\"font-size: 0.8em; font-weight: bold; line-height: 1; border-radius: 0.35em; text-transform: uppercase; vertical-align: middle; margin-left: 0.5rem\">ORG</span>\n",
       "</mark>\n",
       " is already planning for the next way to find top \n",
       "<mark class=\"entity\" style=\"background: #aa9cfc; padding: 0.45em 0.6em; margin: 0 0.25em; line-height: 1; border-radius: 0.35em; box-decoration-break: clone; -webkit-box-decoration-break: clone\">\n",
       "    AI\n",
       "    <span style=\"font-size: 0.8em; font-weight: bold; line-height: 1; border-radius: 0.35em; text-transform: uppercase; vertical-align: middle; margin-left: 0.5rem\">PERSON</span>\n",
       "</mark>\n",
       " talent. According to a knowledgeable source, \n",
       "<mark class=\"entity\" style=\"background: #7aecec; padding: 0.45em 0.6em; margin: 0 0.25em; line-height: 1; border-radius: 0.35em; box-decoration-break: clone; -webkit-box-decoration-break: clone\">\n",
       "    Google\n",
       "    <span style=\"font-size: 0.8em; font-weight: bold; line-height: 1; border-radius: 0.35em; text-transform: uppercase; vertical-align: middle; margin-left: 0.5rem\">ORG</span>\n",
       "</mark>\n",
       " is in talks with \n",
       "<mark class=\"entity\" style=\"background: #7aecec; padding: 0.45em 0.6em; margin: 0 0.25em; line-height: 1; border-radius: 0.35em; box-decoration-break: clone; -webkit-box-decoration-break: clone\">\n",
       "    Khan Academy\n",
       "    <span style=\"font-size: 0.8em; font-weight: bold; line-height: 1; border-radius: 0.35em; text-transform: uppercase; vertical-align: middle; margin-left: 0.5rem\">ORG</span>\n",
       "</mark>\n",
       " to create a “machine learning kindergarten” program that teaches children \n",
       "<mark class=\"entity\" style=\"background: #feca74; padding: 0.45em 0.6em; margin: 0 0.25em; line-height: 1; border-radius: 0.35em; box-decoration-break: clone; -webkit-box-decoration-break: clone\">\n",
       "    Tensorflow\n",
       "    <span style=\"font-size: 0.8em; font-weight: bold; line-height: 1; border-radius: 0.35em; text-transform: uppercase; vertical-align: middle; margin-left: 0.5rem\">GPE</span>\n",
       "</mark>\n",
       ".</div>"
      ],
      "text/plain": [
       "<IPython.core.display.HTML object>"
      ]
     },
     "metadata": {},
     "output_type": "display_data"
    }
   ],
   "source": [
    "# Display the named entity visualization for the entire article\n",
    "from spacy import displacy\n",
    "displacy.render(doc, style='ent', jupyter=True, options={'distance': 110})"
   ]
  },
  {
   "cell_type": "code",
   "execution_count": null,
   "metadata": {},
   "outputs": [],
   "source": []
  },
  {
   "cell_type": "code",
   "execution_count": 21,
   "metadata": {},
   "outputs": [
    {
     "name": "stderr",
     "output_type": "stream",
     "text": [
      "C:\\Users\\Edidiong Wilson\\Anaconda3\\envs\\nlp_course\\lib\\site-packages\\nltk\\twitter\\__init__.py:20: UserWarning: The twython library has not been installed. Some functionality from the twitter package will not be available.\n",
      "  warnings.warn(\"The twython library has not been installed. \"\n"
     ]
    }
   ],
   "source": [
    "# Import SentimentIntensityAnalyzer and create an sid object\n",
    "from nltk.sentiment.vader import SentimentIntensityAnalyzer\n",
    "\n",
    "sid = SentimentIntensityAnalyzer()\n",
    "# kindly ignore the warning"
   ]
  },
  {
   "cell_type": "code",
   "execution_count": 22,
   "metadata": {},
   "outputs": [
    {
     "name": "stdout",
     "output_type": "stream",
     "text": [
      "Interesting Concept.\n",
      "Industry does not have the patience to wait for students to graduate from their respective schools.\n",
      "The topic of research will be driven by the firm, which means that it would be one small cog/nut in the firm’s vast service offering.\n",
      "The absence of freedom to choose their own topic of research might be detrimental to innovation in the long run.\n",
      "Innovation, if it happens, will be incremental.\n",
      "We can forget about path breaking discoveries.\n"
     ]
    }
   ],
   "source": [
    "# using 'open' read in the comment.txt file \n",
    "with open('comment.txt', encoding='UTF-8') as f:\n",
    "    comment=(f.read())\n",
    "#print(comment)\n"
   ]
  },
  {
   "cell_type": "code",
   "execution_count": 24,
   "metadata": {},
   "outputs": [
    {
     "data": {
      "text/plain": [
       "{'neg': 0.022, 'neu': 0.809, 'pos': 0.17, 'compound': 0.9186}"
      ]
     },
     "execution_count": 24,
     "metadata": {},
     "output_type": "execute_result"
    }
   ],
   "source": [
    "# Obtain the sid scores for the comment\n",
    "\n",
    "sid.polarity_scores(comment)"
   ]
  },
  {
   "cell_type": "code",
   "execution_count": null,
   "metadata": {},
   "outputs": [],
   "source": []
  },
  {
   "cell_type": "code",
   "execution_count": 25,
   "metadata": {},
   "outputs": [],
   "source": [
    "# Write fucntion to take in a comment and returns whether it was \n",
    "# \"Positive\", \"Negative\" or \"Neutral\"\n",
    "\n",
    "def comment_sentiment(comment):\n",
    "    scores = sid.polarity_scores(comment)\n",
    "    if scores['compound'] == 0:\n",
    "        return 'Neutral'\n",
    "    elif scores['compound'] > 0:\n",
    "        return 'Positive'\n",
    "    else:\n",
    "        return 'Negative'"
   ]
  },
  {
   "cell_type": "code",
   "execution_count": 26,
   "metadata": {},
   "outputs": [],
   "source": [
    "my_comment= '''\n",
    "Selected employees are set to receive PhD degrees from Google\\'s AI research division.\n",
    "This is a GOOD initiative. This i think is beacuse of the scarcity of excellent AI talents.\n",
    "It is nice to know also that Google will offer massive computational resources that will motivate the students'\n",
    "'''\n",
    "\n",
    "\n"
   ]
  },
  {
   "cell_type": "code",
   "execution_count": 27,
   "metadata": {},
   "outputs": [
    {
     "data": {
      "text/plain": [
       "'Positive'"
      ]
     },
     "execution_count": 27,
     "metadata": {},
     "output_type": "execute_result"
    }
   ],
   "source": [
    "# Test your function on your comment above:\n",
    "\n",
    "comment_sentiment(comment)"
   ]
  },
  {
   "cell_type": "code",
   "execution_count": null,
   "metadata": {},
   "outputs": [],
   "source": []
  },
  {
   "cell_type": "code",
   "execution_count": 28,
   "metadata": {},
   "outputs": [],
   "source": [
    "# Import the required packages i.e Countvectorizer, LDA\n",
    "\n",
    "from sklearn.feature_extraction.text import CountVectorizer\n",
    "from sklearn.decomposition import LatentDirichletAllocation"
   ]
  },
  {
   "cell_type": "code",
   "execution_count": 29,
   "metadata": {},
   "outputs": [
    {
     "data": {
      "text/plain": [
       "<1001x10339 sparse matrix of type '<class 'numpy.int64'>'\n",
       "\twith 109044 stored elements in Compressed Sparse Row format>"
      ]
     },
     "execution_count": 29,
     "metadata": {},
     "output_type": "execute_result"
    }
   ],
   "source": [
    "# Using the CV object, Fit and transform the countvectorizer \n",
    "# on the articles using the params giving above\n",
    "\n",
    "cv=CountVectorizer(max_df=0.9, min_df=2, stop_words='english')\n",
    "dtm=cv.fit_transform(df['articles'])\n",
    "dtm"
   ]
  },
  {
   "cell_type": "code",
   "execution_count": null,
   "metadata": {},
   "outputs": [],
   "source": []
  },
  {
   "cell_type": "code",
   "execution_count": 30,
   "metadata": {},
   "outputs": [
    {
     "data": {
      "text/plain": [
       "LatentDirichletAllocation(batch_size=128, doc_topic_prior=None,\n",
       "             evaluate_every=-1, learning_decay=0.7,\n",
       "             learning_method='batch', learning_offset=10.0,\n",
       "             max_doc_update_iter=100, max_iter=10, mean_change_tol=0.001,\n",
       "             n_components=10, n_jobs=None, n_topics=None, perp_tol=0.1,\n",
       "             random_state=10, topic_word_prior=None,\n",
       "             total_samples=1000000.0, verbose=0)"
      ]
     },
     "execution_count": 30,
     "metadata": {},
     "output_type": "execute_result"
    }
   ],
   "source": [
    "#Fit LDA object to the sparse matrix fron the count vectorizer\n",
    "# Extracting 10 TOPICS with a RANDOM STATE of 10\n",
    "\n",
    "LDA = LatentDirichletAllocation(n_components=10,random_state=10)\n",
    "\n",
    "LDA.fit(dtm)"
   ]
  },
  {
   "cell_type": "code",
   "execution_count": 31,
   "metadata": {},
   "outputs": [
    {
     "name": "stdout",
     "output_type": "stream",
     "text": [
      "THE TOP 20 WORDS FOR TOPIC #0\n",
      "['nigerian', 'police', 'south', 'statement', 'federal', 'according', 'states', 'national', 'security', 'buhari', 'people', 'nigeria', 'state', 'country', 'government', 'rsquo', 'president', 'rdquo', 'said', 'ldquo']\n",
      "\n",
      "\n",
      "THE TOP 20 WORDS FOR TOPIC #1\n",
      "['general', 'rsquo', 'capital', 'market', 'business', 'programme', 'new', '2019', 'sec', 'rdquo', 'nigerian', 'nigeria', 'african', 'development', 'commission', 'company', '000', 'ldquo', 'africa', 'said']\n",
      "\n",
      "\n",
      "THE TOP 20 WORDS FOR TOPIC #2\n",
      "['officers', '000', 'year', 'air', 'airlines', 'million', 'new', 'according', 'army', 'police', 'oil', 'project', 'government', 'state', 'nigeria', 'nigerian', 'rdquo', 'rsquo', 'ldquo', 'said']\n",
      "\n",
      "\n",
      "THE TOP 20 WORDS FOR TOPIC #3\n",
      "['year', 'respondent', 'server', 'candidate', 'president', 'rdquo', 'apc', 'party', 'national', 'plastic', 'atiku', 'results', 'said', 'buhari', 'inec', 'rsquo', 'pdp', 'election', 'ldquo', 'presidential']\n",
      "\n",
      "\n",
      "THE TOP 20 WORDS FOR TOPIC #4\n",
      "['energy', 'increase', 'africa', 'government', 'new', 'tax', 'market', 'agency', 'development', 'state', 'nnpc', 'national', 'million', 'according', 'gas', 'nigeria', 'rdquo', 'rsquo', 'ldquo', 'said']\n",
      "\n",
      "\n",
      "THE TOP 20 WORDS FOR TOPIC #5\n",
      "['match', 'club', 'egypt', 'group', 'rohr', '2019', 'time', 'ldquo', 'world', 'game', 'rdquo', 'nations', 'players', 'africa', 'nigeria', 'team', 'rsquo', 'super', 'cup', 'eagles']\n",
      "\n",
      "\n",
      "THE TOP 20 WORDS FOR TOPIC #6\n",
      "['parties', 'nigeria', 'buhari', 'pdp', 'people', 'political', 'presidential', 'court', 'state', 'inec', 'electoral', 'commission', 'party', 'president', 'elections', 'rsquo', 'rdquo', 'ldquo', 'said', 'election']\n",
      "\n",
      "\n",
      "THE TOP 20 WORDS FOR TOPIC #7\n",
      "['2019', 'stock', 'banks', 'years', 'report', '2018', 'said', 'shares', 'company', 'year', 'cbn', 'mtn', 'market', 'according', 'exchange', 'billion', 'percent', 'million', 'nigeria', 'bank']\n",
      "\n",
      "\n",
      "THE TOP 20 WORDS FOR TOPIC #8\n",
      "['world', 'child', 'new', 'singer', 'instagram', 'love', 'don', 'man', 'know', 'years', 'time', 'life', 'people', 'just', 'like', 'said', 'lsquo', 'rdquo', 'ldquo', 'rsquo']\n",
      "\n",
      "\n",
      "THE TOP 20 WORDS FOR TOPIC #9\n",
      "['minute', 'manchester', 'city', 'second', 'half', 'minutes', 'win', 'premier', 'arsenal', 'champions', 'united', 'team', 'game', 'club', 'season', 'goals', 'goal', 'chelsea', 'rsquo', 'league']\n",
      "\n",
      "\n"
     ]
    }
   ],
   "source": [
    "# View the the TOP 20 words of the all Topics \n",
    "\n",
    "for index,topic in enumerate(LDA.components_):\n",
    "    print(f'THE TOP 20 WORDS FOR TOPIC #{index}')\n",
    "    print([cv.get_feature_names()[i] for i in topic.argsort()[-20:]])\n",
    "    print('\\n')"
   ]
  },
  {
   "cell_type": "code",
   "execution_count": 32,
   "metadata": {},
   "outputs": [],
   "source": [
    "# Transform the sparse data on the fitted LDA object\n",
    "\n",
    "topic_results = LDA.transform(dtm)\n",
    "\n",
    "# Create a new column called 'Topic_lda' and save the Topic id's in it\n",
    "\n",
    "df['Topic_lda']=topic_results.argmax(axis=1)\n"
   ]
  },
  {
   "cell_type": "code",
   "execution_count": 33,
   "metadata": {},
   "outputs": [
    {
     "data": {
      "text/html": [
       "<div>\n",
       "<style scoped>\n",
       "    .dataframe tbody tr th:only-of-type {\n",
       "        vertical-align: middle;\n",
       "    }\n",
       "\n",
       "    .dataframe tbody tr th {\n",
       "        vertical-align: top;\n",
       "    }\n",
       "\n",
       "    .dataframe thead th {\n",
       "        text-align: right;\n",
       "    }\n",
       "</style>\n",
       "<table border=\"1\" class=\"dataframe\">\n",
       "  <thead>\n",
       "    <tr style=\"text-align: right;\">\n",
       "      <th></th>\n",
       "      <th>id</th>\n",
       "      <th>articles</th>\n",
       "      <th>Topic_lda</th>\n",
       "    </tr>\n",
       "  </thead>\n",
       "  <tbody>\n",
       "    <tr>\n",
       "      <th>0</th>\n",
       "      <td>1</td>\n",
       "      <td>What does it mean to be successful? Perhaps, o...</td>\n",
       "      <td>3</td>\n",
       "    </tr>\n",
       "    <tr>\n",
       "      <th>1</th>\n",
       "      <td>2</td>\n",
       "      <td>Much has been made of Africa&amp;rsquo;s unfavorab...</td>\n",
       "      <td>4</td>\n",
       "    </tr>\n",
       "    <tr>\n",
       "      <th>2</th>\n",
       "      <td>3</td>\n",
       "      <td>A few days after a Damaris Wambui Kamau and he...</td>\n",
       "      <td>0</td>\n",
       "    </tr>\n",
       "    <tr>\n",
       "      <th>3</th>\n",
       "      <td>4</td>\n",
       "      <td>\\n\\n\\n\\nJust a few hours after their release o...</td>\n",
       "      <td>0</td>\n",
       "    </tr>\n",
       "    <tr>\n",
       "      <th>4</th>\n",
       "      <td>5</td>\n",
       "      <td>IPOA is investigating the murder of four peopl...</td>\n",
       "      <td>0</td>\n",
       "    </tr>\n",
       "  </tbody>\n",
       "</table>\n",
       "</div>"
      ],
      "text/plain": [
       "   id                                           articles  Topic_lda\n",
       "0   1  What does it mean to be successful? Perhaps, o...          3\n",
       "1   2  Much has been made of Africa&rsquo;s unfavorab...          4\n",
       "2   3  A few days after a Damaris Wambui Kamau and he...          0\n",
       "3   4  \\n\\n\\n\\nJust a few hours after their release o...          0\n",
       "4   5  IPOA is investigating the murder of four peopl...          0"
      ]
     },
     "execution_count": 33,
     "metadata": {},
     "output_type": "execute_result"
    }
   ],
   "source": [
    "# View the dataframe now\n",
    "df.head()"
   ]
  },
  {
   "cell_type": "code",
   "execution_count": null,
   "metadata": {},
   "outputs": [],
   "source": []
  },
  {
   "cell_type": "code",
   "execution_count": 34,
   "metadata": {},
   "outputs": [],
   "source": [
    "# Create a label dictionary for each topic, kinda like mine,\n",
    "#please go through the words in each topic to figure out a fitting \n",
    "#label for that topic and create a dictionary mapping each topic id \n",
    "#to its corresponding label (which is at your discretion)\n",
    "\n",
    "label_dict = {\n",
    "    0:'security',\n",
    "    1:'economy',\n",
    "    2:'economy',\n",
    "    3:'election',\n",
    "    4:'economy',\n",
    "    5:'football',\n",
    "    6:'election',\n",
    "    7:'stock',\n",
    "    8:'social',\n",
    "    9:'football'\n",
    "}\n",
    "\n",
    "\n"
   ]
  },
  {
   "cell_type": "code",
   "execution_count": 35,
   "metadata": {},
   "outputs": [],
   "source": [
    "# Create a new column called 'lda_labels' based on the map created above\n",
    "\n",
    "df['lda_labels']=df['Topic_lda'].map(label_dict)"
   ]
  },
  {
   "cell_type": "code",
   "execution_count": 36,
   "metadata": {},
   "outputs": [
    {
     "data": {
      "text/html": [
       "<div>\n",
       "<style scoped>\n",
       "    .dataframe tbody tr th:only-of-type {\n",
       "        vertical-align: middle;\n",
       "    }\n",
       "\n",
       "    .dataframe tbody tr th {\n",
       "        vertical-align: top;\n",
       "    }\n",
       "\n",
       "    .dataframe thead th {\n",
       "        text-align: right;\n",
       "    }\n",
       "</style>\n",
       "<table border=\"1\" class=\"dataframe\">\n",
       "  <thead>\n",
       "    <tr style=\"text-align: right;\">\n",
       "      <th></th>\n",
       "      <th>id</th>\n",
       "      <th>articles</th>\n",
       "      <th>Topic_lda</th>\n",
       "      <th>lda_labels</th>\n",
       "    </tr>\n",
       "  </thead>\n",
       "  <tbody>\n",
       "    <tr>\n",
       "      <th>0</th>\n",
       "      <td>1</td>\n",
       "      <td>What does it mean to be successful? Perhaps, o...</td>\n",
       "      <td>3</td>\n",
       "      <td>election</td>\n",
       "    </tr>\n",
       "    <tr>\n",
       "      <th>1</th>\n",
       "      <td>2</td>\n",
       "      <td>Much has been made of Africa&amp;rsquo;s unfavorab...</td>\n",
       "      <td>4</td>\n",
       "      <td>economy</td>\n",
       "    </tr>\n",
       "    <tr>\n",
       "      <th>2</th>\n",
       "      <td>3</td>\n",
       "      <td>A few days after a Damaris Wambui Kamau and he...</td>\n",
       "      <td>0</td>\n",
       "      <td>security</td>\n",
       "    </tr>\n",
       "    <tr>\n",
       "      <th>3</th>\n",
       "      <td>4</td>\n",
       "      <td>\\n\\n\\n\\nJust a few hours after their release o...</td>\n",
       "      <td>0</td>\n",
       "      <td>security</td>\n",
       "    </tr>\n",
       "    <tr>\n",
       "      <th>4</th>\n",
       "      <td>5</td>\n",
       "      <td>IPOA is investigating the murder of four peopl...</td>\n",
       "      <td>0</td>\n",
       "      <td>security</td>\n",
       "    </tr>\n",
       "  </tbody>\n",
       "</table>\n",
       "</div>"
      ],
      "text/plain": [
       "   id                                           articles  Topic_lda lda_labels\n",
       "0   1  What does it mean to be successful? Perhaps, o...          3   election\n",
       "1   2  Much has been made of Africa&rsquo;s unfavorab...          4    economy\n",
       "2   3  A few days after a Damaris Wambui Kamau and he...          0   security\n",
       "3   4  \\n\\n\\n\\nJust a few hours after their release o...          0   security\n",
       "4   5  IPOA is investigating the murder of four peopl...          0   security"
      ]
     },
     "execution_count": 36,
     "metadata": {},
     "output_type": "execute_result"
    }
   ],
   "source": [
    "df.head()"
   ]
  },
  {
   "cell_type": "code",
   "execution_count": null,
   "metadata": {},
   "outputs": [],
   "source": []
  },
  {
   "cell_type": "code",
   "execution_count": 37,
   "metadata": {},
   "outputs": [],
   "source": [
    "# Import the required packages i.e tfidfvectorizer, NMF\n",
    "\n",
    "from sklearn.feature_extraction.text import TfidfVectorizer\n",
    "from sklearn.decomposition import NMF"
   ]
  },
  {
   "cell_type": "code",
   "execution_count": 38,
   "metadata": {},
   "outputs": [
    {
     "data": {
      "text/plain": [
       "<1001x10339 sparse matrix of type '<class 'numpy.float64'>'\n",
       "\twith 109044 stored elements in Compressed Sparse Row format>"
      ]
     },
     "execution_count": 38,
     "metadata": {},
     "output_type": "execute_result"
    }
   ],
   "source": [
    "# Fit and transform the tfidfvectorizer on the articles using the params giving above\n",
    "\n",
    "tfidf = TfidfVectorizer(max_df=0.9, min_df=2, stop_words='english')\n",
    "\n",
    "dtm = tfidf.fit_transform(df['articles'])\n",
    "dtm"
   ]
  },
  {
   "cell_type": "code",
   "execution_count": 39,
   "metadata": {},
   "outputs": [
    {
     "data": {
      "text/plain": [
       "NMF(alpha=0.0, beta_loss='frobenius', init=None, l1_ratio=0.0, max_iter=200,\n",
       "  n_components=10, random_state=10, shuffle=False, solver='cd', tol=0.0001,\n",
       "  verbose=0)"
      ]
     },
     "execution_count": 39,
     "metadata": {},
     "output_type": "execute_result"
    }
   ],
   "source": [
    "# Fit an NMF instance to the sparse matrix from the tfidfvectorizer\n",
    "# Extracting 10 topics with a random state of 10\n",
    "\n",
    "nmf_model = NMF(n_components=10,random_state=10)\n",
    "nmf_model.fit(dtm)"
   ]
  },
  {
   "cell_type": "code",
   "execution_count": null,
   "metadata": {},
   "outputs": [],
   "source": []
  },
  {
   "cell_type": "code",
   "execution_count": 40,
   "metadata": {},
   "outputs": [
    {
     "name": "stdout",
     "output_type": "stream",
     "text": [
      "THE TOP 20 WORDS FOR TOPIC #0\n",
      "['national', 'administration', 'governors', 'federal', 'herdsmen', 'army', 'north', 'military', 'nigerians', 'people', 'rdquo', 'nigeria', 'security', 'said', 'buhari', 'state', 'country', 'ldquo', 'government', 'president']\n",
      "\n",
      "\n",
      "THE TOP 20 WORDS FOR TOPIC #1\n",
      "['obi', 'match', 'burundi', 'injury', 'ighalo', 'coach', 'group', 'gernot', 'afcon', 'nigeria', 'egypt', 'mikel', 'nations', 'players', 'team', 'africa', 'rohr', 'cup', 'super', 'eagles']\n",
      "\n",
      "\n",
      "THE TOP 20 WORDS FOR TOPIC #2\n",
      "['official', 'long', 'just', 'singer', 'man', 'songs', 'people', 'really', 'new', 'want', 'time', 'like', 'feel', 'world', 'don', 've', 'music', 'hellip', 'lsquo', 'rsquo']\n",
      "\n",
      "\n",
      "THE TOP 20 WORDS FOR TOPIC #3\n",
      "['oil', 'plc', 'board', 'investors', 'million', 'said', 'percent', 'securities', 'billion', 'nigeria', 'nse', 'stock', 'commission', 'sec', 'shares', 'listing', 'exchange', 'market', 'mtn', 'company']\n",
      "\n",
      "\n",
      "THE TOP 20 WORDS FOR TOPIC #4\n",
      "['goals', 'window', 'appearances', 'old', 'deal', 'city', 'summer', 'international', 'turkish', 'fenerbahce', 'player', 'premier', 'year', 'transfer', 'loan', 'moses', 'league', 'club', 'season', 'chelsea']\n",
      "\n",
      "\n",
      "THE TOP 20 WORDS FOR TOPIC #5\n",
      "['ldquo', 'abubakar', 'votes', 'democratic', 'national', 'said', 'state', 'president', 'candidate', 'commission', 'apc', 'buhari', 'atiku', 'presidential', 'electoral', 'pdp', 'elections', 'party', 'inec', 'election']\n",
      "\n",
      "\n",
      "THE TOP 20 WORDS FOR TOPIC #6\n",
      "['score', 'arsenal', 'scored', 'liverpool', 'united', 'falcons', 'team', 'second', 'half', 'final', 'minutes', 'goals', 'match', 'barcelona', 'champions', 'win', 'minute', 'league', 'goal', 'game']\n",
      "\n",
      "\n",
      "THE TOP 20 WORDS FOR TOPIC #7\n",
      "['time', 'people', 'old', 'like', 'love', 'god', 'just', 'know', 'wrote', 'police', 'instagram', 'actor', 'children', 'life', 'ndash', 'family', 'rsquo', 'said', 'rdquo', 'ldquo']\n",
      "\n",
      "\n",
      "THE TOP 20 WORDS FOR TOPIC #8\n",
      "['growth', 'merger', 'loans', 'development', 'nexim', 'sector', 'central', 'billion', 'customers', 'said', 'banking', 'plc', 'emefiele', 'nigeria', 'access', 'diamond', 'financial', 'banks', 'cbn', 'bank']\n",
      "\n",
      "\n",
      "THE TOP 20 WORDS FOR TOPIC #9\n",
      "['known', 'boys', 'fashola', 'nigerian', 'davido', 'musician', 'ldquo', 'guilty', 'money', 'jail', 'justice', 'bail', 'crimes', 'singer', 'fraud', 'court', 'yahoo', 'naira', 'efcc', 'marley']\n",
      "\n",
      "\n"
     ]
    }
   ],
   "source": [
    "# View the the TOP 20 words of the all Topics \n",
    "\n",
    "for index,topic in enumerate(nmf_model.components_):\n",
    "    print(f'THE TOP 20 WORDS FOR TOPIC #{index}')\n",
    "    print([tfidf.get_feature_names()[i] for i in topic.argsort()[-20:]])\n",
    "    print('\\n')"
   ]
  },
  {
   "cell_type": "code",
   "execution_count": 41,
   "metadata": {},
   "outputs": [
    {
     "data": {
      "text/html": [
       "<div>\n",
       "<style scoped>\n",
       "    .dataframe tbody tr th:only-of-type {\n",
       "        vertical-align: middle;\n",
       "    }\n",
       "\n",
       "    .dataframe tbody tr th {\n",
       "        vertical-align: top;\n",
       "    }\n",
       "\n",
       "    .dataframe thead th {\n",
       "        text-align: right;\n",
       "    }\n",
       "</style>\n",
       "<table border=\"1\" class=\"dataframe\">\n",
       "  <thead>\n",
       "    <tr style=\"text-align: right;\">\n",
       "      <th></th>\n",
       "      <th>id</th>\n",
       "      <th>articles</th>\n",
       "      <th>Topic_lda</th>\n",
       "      <th>lda_labels</th>\n",
       "      <th>Topic_nmf</th>\n",
       "    </tr>\n",
       "  </thead>\n",
       "  <tbody>\n",
       "    <tr>\n",
       "      <th>0</th>\n",
       "      <td>1</td>\n",
       "      <td>What does it mean to be successful? Perhaps, o...</td>\n",
       "      <td>3</td>\n",
       "      <td>election</td>\n",
       "      <td>2</td>\n",
       "    </tr>\n",
       "    <tr>\n",
       "      <th>1</th>\n",
       "      <td>2</td>\n",
       "      <td>Much has been made of Africa&amp;rsquo;s unfavorab...</td>\n",
       "      <td>4</td>\n",
       "      <td>economy</td>\n",
       "      <td>3</td>\n",
       "    </tr>\n",
       "    <tr>\n",
       "      <th>2</th>\n",
       "      <td>3</td>\n",
       "      <td>A few days after a Damaris Wambui Kamau and he...</td>\n",
       "      <td>0</td>\n",
       "      <td>security</td>\n",
       "      <td>7</td>\n",
       "    </tr>\n",
       "    <tr>\n",
       "      <th>3</th>\n",
       "      <td>4</td>\n",
       "      <td>\\n\\n\\n\\nJust a few hours after their release o...</td>\n",
       "      <td>0</td>\n",
       "      <td>security</td>\n",
       "      <td>7</td>\n",
       "    </tr>\n",
       "    <tr>\n",
       "      <th>4</th>\n",
       "      <td>5</td>\n",
       "      <td>IPOA is investigating the murder of four peopl...</td>\n",
       "      <td>0</td>\n",
       "      <td>security</td>\n",
       "      <td>7</td>\n",
       "    </tr>\n",
       "  </tbody>\n",
       "</table>\n",
       "</div>"
      ],
      "text/plain": [
       "   id                                           articles  Topic_lda  \\\n",
       "0   1  What does it mean to be successful? Perhaps, o...          3   \n",
       "1   2  Much has been made of Africa&rsquo;s unfavorab...          4   \n",
       "2   3  A few days after a Damaris Wambui Kamau and he...          0   \n",
       "3   4  \\n\\n\\n\\nJust a few hours after their release o...          0   \n",
       "4   5  IPOA is investigating the murder of four peopl...          0   \n",
       "\n",
       "  lda_labels  Topic_nmf  \n",
       "0   election          2  \n",
       "1    economy          3  \n",
       "2   security          7  \n",
       "3   security          7  \n",
       "4   security          7  "
      ]
     },
     "execution_count": 41,
     "metadata": {},
     "output_type": "execute_result"
    }
   ],
   "source": [
    "# Transforn the data on the fitted NMF instance\n",
    "topic_results = nmf_model.transform(dtm)\n",
    "\n",
    "# Create a new column called Topic_nmf and save the Topic id's in it\n",
    "\n",
    "df['Topic_nmf'] = topic_results.argmax(axis=1)\n",
    "\n",
    "df.head()\n"
   ]
  },
  {
   "cell_type": "code",
   "execution_count": null,
   "metadata": {
    "scrolled": true
   },
   "outputs": [],
   "source": [
    "\n"
   ]
  },
  {
   "cell_type": "code",
   "execution_count": 42,
   "metadata": {},
   "outputs": [],
   "source": [
    "#Using the same set of labels now rearrange them to suit the topics \n",
    "#i.e if topic 7 for lda was labeled election, but now topic 7 looks \n",
    "#to be social, then modify the labels_dict accordingly to suit NMF\n",
    "\n",
    "label_dict = {\n",
    "    0:'security',\n",
    "    1:'football',\n",
    "    2:'social',\n",
    "    3:'stock',\n",
    "    4:'football',\n",
    "    5:'election',\n",
    "    6:'football',\n",
    "    7:'social',\n",
    "    8:'economy',\n",
    "    9:'social'\n",
    "}\n",
    "# maintaining the six unique labels"
   ]
  },
  {
   "cell_type": "code",
   "execution_count": 43,
   "metadata": {},
   "outputs": [],
   "source": [
    "# Create a new column called lda_labels based on the map created above\n",
    "df['nmf_labels']=df['Topic_nmf'].map(label_dict)"
   ]
  },
  {
   "cell_type": "code",
   "execution_count": 44,
   "metadata": {},
   "outputs": [
    {
     "data": {
      "text/html": [
       "<div>\n",
       "<style scoped>\n",
       "    .dataframe tbody tr th:only-of-type {\n",
       "        vertical-align: middle;\n",
       "    }\n",
       "\n",
       "    .dataframe tbody tr th {\n",
       "        vertical-align: top;\n",
       "    }\n",
       "\n",
       "    .dataframe thead th {\n",
       "        text-align: right;\n",
       "    }\n",
       "</style>\n",
       "<table border=\"1\" class=\"dataframe\">\n",
       "  <thead>\n",
       "    <tr style=\"text-align: right;\">\n",
       "      <th></th>\n",
       "      <th>id</th>\n",
       "      <th>articles</th>\n",
       "      <th>Topic_lda</th>\n",
       "      <th>lda_labels</th>\n",
       "      <th>Topic_nmf</th>\n",
       "      <th>nmf_labels</th>\n",
       "    </tr>\n",
       "  </thead>\n",
       "  <tbody>\n",
       "    <tr>\n",
       "      <th>0</th>\n",
       "      <td>1</td>\n",
       "      <td>What does it mean to be successful? Perhaps, o...</td>\n",
       "      <td>3</td>\n",
       "      <td>election</td>\n",
       "      <td>2</td>\n",
       "      <td>social</td>\n",
       "    </tr>\n",
       "    <tr>\n",
       "      <th>1</th>\n",
       "      <td>2</td>\n",
       "      <td>Much has been made of Africa&amp;rsquo;s unfavorab...</td>\n",
       "      <td>4</td>\n",
       "      <td>economy</td>\n",
       "      <td>3</td>\n",
       "      <td>stock</td>\n",
       "    </tr>\n",
       "    <tr>\n",
       "      <th>2</th>\n",
       "      <td>3</td>\n",
       "      <td>A few days after a Damaris Wambui Kamau and he...</td>\n",
       "      <td>0</td>\n",
       "      <td>security</td>\n",
       "      <td>7</td>\n",
       "      <td>social</td>\n",
       "    </tr>\n",
       "    <tr>\n",
       "      <th>3</th>\n",
       "      <td>4</td>\n",
       "      <td>\\n\\n\\n\\nJust a few hours after their release o...</td>\n",
       "      <td>0</td>\n",
       "      <td>security</td>\n",
       "      <td>7</td>\n",
       "      <td>social</td>\n",
       "    </tr>\n",
       "    <tr>\n",
       "      <th>4</th>\n",
       "      <td>5</td>\n",
       "      <td>IPOA is investigating the murder of four peopl...</td>\n",
       "      <td>0</td>\n",
       "      <td>security</td>\n",
       "      <td>7</td>\n",
       "      <td>social</td>\n",
       "    </tr>\n",
       "  </tbody>\n",
       "</table>\n",
       "</div>"
      ],
      "text/plain": [
       "   id                                           articles  Topic_lda  \\\n",
       "0   1  What does it mean to be successful? Perhaps, o...          3   \n",
       "1   2  Much has been made of Africa&rsquo;s unfavorab...          4   \n",
       "2   3  A few days after a Damaris Wambui Kamau and he...          0   \n",
       "3   4  \\n\\n\\n\\nJust a few hours after their release o...          0   \n",
       "4   5  IPOA is investigating the murder of four peopl...          0   \n",
       "\n",
       "  lda_labels  Topic_nmf nmf_labels  \n",
       "0   election          2     social  \n",
       "1    economy          3      stock  \n",
       "2   security          7     social  \n",
       "3   security          7     social  \n",
       "4   security          7     social  "
      ]
     },
     "execution_count": 44,
     "metadata": {},
     "output_type": "execute_result"
    }
   ],
   "source": [
    "df.head()"
   ]
  },
  {
   "cell_type": "code",
   "execution_count": null,
   "metadata": {},
   "outputs": [],
   "source": []
  },
  {
   "cell_type": "code",
   "execution_count": 47,
   "metadata": {},
   "outputs": [
    {
     "data": {
      "text/plain": [
       "650"
      ]
     },
     "execution_count": 47,
     "metadata": {},
     "output_type": "execute_result"
    }
   ],
   "source": [
    "# How many of the articles share the same label \n",
    "\n",
    "\n",
    "equal_labels= df['lda_labels']==df['nmf_labels']\n",
    "equal_labels.sum()"
   ]
  },
  {
   "cell_type": "code",
   "execution_count": 50,
   "metadata": {},
   "outputs": [
    {
     "name": "stdout",
     "output_type": "stream",
     "text": [
      "64.94 %\n"
     ]
    }
   ],
   "source": [
    "# What % of our articles were labelled with the same label by both topic models\n",
    "\n",
    "percent_label=(equal_labels.sum()/len(articles))*100\n",
    "print(f\"{percent_label:.2f} %\")"
   ]
  },
  {
   "cell_type": "code",
   "execution_count": 53,
   "metadata": {},
   "outputs": [],
   "source": [
    "# Read in the oliver-twist-0-9.txt text\n",
    "\n",
    "with open('oliver-twist-0-9.txt') as f:\n",
    "    text=f.read()"
   ]
  },
  {
   "cell_type": "code",
   "execution_count": null,
   "metadata": {},
   "outputs": [],
   "source": []
  },
  {
   "cell_type": "code",
   "execution_count": 51,
   "metadata": {},
   "outputs": [],
   "source": [
    "# Import standard libraries\n",
    "import spacy\n",
    "nlp = spacy.load('en',disable=['parser', 'tagger','ner'])\n",
    "# Increase the allowable max lentgh\n",
    "nlp.max_length = 1198623"
   ]
  },
  {
   "cell_type": "code",
   "execution_count": 54,
   "metadata": {},
   "outputs": [],
   "source": [
    "# Run this function to seperate punctuations\n",
    "def separate_punc(doc_text):\n",
    "    \n",
    "    return [token.text.lower() for token in nlp(doc_text) if token.text not in '\\n\\n \\n\\n\\n!\"-#$%&()--.*+,-/:;<=>?@[\\\\]^_`{|}~\\t\\n ']\n",
    "tokens = separate_punc(text)"
   ]
  },
  {
   "cell_type": "code",
   "execution_count": 55,
   "metadata": {},
   "outputs": [],
   "source": [
    "# organize into sequences of tokens\n",
    "train_len = 25+1 # 50 training words , then one target word\n",
    "\n",
    "# Empty list of sequences\n",
    "text_sequences = []\n",
    "\n",
    "for i in range(train_len, len(tokens)):\n",
    "    \n",
    "    # Grab train_len# amount of characters\n",
    "    seq = tokens[i-train_len:i]\n",
    "    \n",
    "    # Add to list of sequences\n",
    "    text_sequences.append(seq)\n"
   ]
  },
  {
   "cell_type": "code",
   "execution_count": null,
   "metadata": {},
   "outputs": [],
   "source": []
  },
  {
   "cell_type": "code",
   "execution_count": 56,
   "metadata": {},
   "outputs": [
    {
     "name": "stderr",
     "output_type": "stream",
     "text": [
      "Using TensorFlow backend.\n"
     ]
    }
   ],
   "source": [
    "from keras.preprocessing.text import Tokenizer\n",
    "import numpy as np"
   ]
  },
  {
   "cell_type": "code",
   "execution_count": 59,
   "metadata": {},
   "outputs": [],
   "source": [
    "tokenizer=Tokenizer()\n",
    "tokenizer.fit_on_texts(text_sequences)\n",
    "sequences= tokenizer.texts_to_sequences(text_sequences)"
   ]
  },
  {
   "cell_type": "code",
   "execution_count": 60,
   "metadata": {},
   "outputs": [],
   "source": [
    "vocabulary_size = len(tokenizer.word_counts)\n",
    "sequences = np.array(sequences)"
   ]
  },
  {
   "cell_type": "code",
   "execution_count": null,
   "metadata": {},
   "outputs": [],
   "source": []
  },
  {
   "cell_type": "code",
   "execution_count": 61,
   "metadata": {},
   "outputs": [],
   "source": [
    "import keras\n",
    "from keras.models import Sequential\n",
    "from keras.layers import Dense,LSTM,Embedding"
   ]
  },
  {
   "cell_type": "code",
   "execution_count": null,
   "metadata": {},
   "outputs": [],
   "source": []
  },
  {
   "cell_type": "code",
   "execution_count": 65,
   "metadata": {},
   "outputs": [],
   "source": [
    "# create your own custom model\n",
    "def create_model(vocabulary_size, seq_len):\n",
    "    \n",
    "    #CODE IN HERE\n",
    "    \n",
    "    model=Sequential()\n",
    "    model.add(Embedding(input_dim= vocabulary_size, output_dim=seq_len))\n",
    "    model.add(LSTM(100 ,return_sequences=True))\n",
    "    model.add(LSTM(100))\n",
    "    model.add(Dense(100, activation='relu'))\n",
    "    model.add(Dense(vocabulary_size, activation='softmax'))\n",
    "    model.compile(loss='categorical_crossentropy', optimizer='adam', metrics=['accuracy'])\n",
    "    model.summary()\n",
    "    \n",
    "    \n",
    "    return model\n",
    "    "
   ]
  },
  {
   "cell_type": "code",
   "execution_count": null,
   "metadata": {},
   "outputs": [],
   "source": []
  },
  {
   "cell_type": "code",
   "execution_count": 66,
   "metadata": {},
   "outputs": [],
   "source": [
    "from keras.utils import to_categorical"
   ]
  },
  {
   "cell_type": "code",
   "execution_count": 67,
   "metadata": {},
   "outputs": [],
   "source": [
    "# Train / Test Split\n",
    "X = sequences[:,:-1]\n",
    "y = sequences[:,-1]\n",
    "y = to_categorical(y, num_classes=vocabulary_size+1)\n",
    "seq_len = X.shape[1]"
   ]
  },
  {
   "cell_type": "code",
   "execution_count": 68,
   "metadata": {},
   "outputs": [],
   "source": [
    "from pickle import dump,load"
   ]
  },
  {
   "cell_type": "code",
   "execution_count": 69,
   "metadata": {},
   "outputs": [
    {
     "name": "stdout",
     "output_type": "stream",
     "text": [
      "WARNING:tensorflow:From C:\\Users\\Edidiong Wilson\\Anaconda3\\envs\\nlp_course\\lib\\site-packages\\tensorflow\\python\\framework\\op_def_library.py:263: colocate_with (from tensorflow.python.framework.ops) is deprecated and will be removed in a future version.\n",
      "Instructions for updating:\n",
      "Colocations handled automatically by placer.\n",
      "_________________________________________________________________\n",
      "Layer (type)                 Output Shape              Param #   \n",
      "=================================================================\n",
      "embedding_1 (Embedding)      (None, None, 25)          109300    \n",
      "_________________________________________________________________\n",
      "lstm_1 (LSTM)                (None, None, 100)         50400     \n",
      "_________________________________________________________________\n",
      "lstm_2 (LSTM)                (None, 100)               80400     \n",
      "_________________________________________________________________\n",
      "dense_1 (Dense)              (None, 100)               10100     \n",
      "_________________________________________________________________\n",
      "dense_2 (Dense)              (None, 4372)              441572    \n",
      "=================================================================\n",
      "Total params: 691,772\n",
      "Trainable params: 691,772\n",
      "Non-trainable params: 0\n",
      "_________________________________________________________________\n",
      "WARNING:tensorflow:From C:\\Users\\Edidiong Wilson\\Anaconda3\\envs\\nlp_course\\lib\\site-packages\\tensorflow\\python\\ops\\math_ops.py:3066: to_int32 (from tensorflow.python.ops.math_ops) is deprecated and will be removed in a future version.\n",
      "Instructions for updating:\n",
      "Use tf.cast instead.\n",
      "Epoch 1/30\n"
     ]
    },
    {
     "name": "stdout",
     "output_type": "stream",
     "text": [
      "27136/30742 [=========================>....] - ETA: 16:59 - loss: 8.3830 - acc: 0.0000e+ - ETA: 8:55 - loss: 8.3826 - acc: 0.0000e+00 - ETA: 6:15 - loss: 8.3822 - acc: 0.0052    - ETA: 4:52 - loss: 8.3818 - acc: 0.005 - ETA: 4:04 - loss: 8.3812 - acc: 0.007 - ETA: 3:31 - loss: 8.3806 - acc: 0.010 - ETA: 3:08 - loss: 8.3797 - acc: 0.013 - ETA: 2:50 - loss: 8.3790 - acc: 0.013 - ETA: 2:37 - loss: 8.3777 - acc: 0.016 - ETA: 2:26 - loss: 8.3765 - acc: 0.015 - ETA: 2:17 - loss: 8.3746 - acc: 0.014 - ETA: 2:10 - loss: 8.3718 - acc: 0.015 - ETA: 2:02 - loss: 8.3678 - acc: 0.015 - ETA: 1:56 - loss: 8.3616 - acc: 0.015 - ETA: 1:51 - loss: 8.3540 - acc: 0.015 - ETA: 1:46 - loss: 8.3432 - acc: 0.016 - ETA: 1:42 - loss: 8.3257 - acc: 0.017 - ETA: 1:38 - loss: 8.3054 - acc: 0.016 - ETA: 1:35 - loss: 8.2738 - acc: 0.015 - ETA: 1:32 - loss: 8.2392 - acc: 0.015 - ETA: 1:29 - loss: 8.1943 - acc: 0.015 - ETA: 1:27 - loss: 8.1387 - acc: 0.014 - ETA: 1:24 - loss: 8.0936 - acc: 0.014 - ETA: 1:22 - loss: 8.0279 - acc: 0.014 - ETA: 1:20 - loss: 7.9753 - acc: 0.014 - ETA: 1:19 - loss: 7.9243 - acc: 0.016 - ETA: 1:17 - loss: 7.8767 - acc: 0.018 - ETA: 1:16 - loss: 7.8294 - acc: 0.020 - ETA: 1:14 - loss: 7.7920 - acc: 0.022 - ETA: 1:13 - loss: 7.7574 - acc: 0.023 - ETA: 1:12 - loss: 7.7313 - acc: 0.024 - ETA: 1:10 - loss: 7.6866 - acc: 0.025 - ETA: 1:09 - loss: 7.6464 - acc: 0.027 - ETA: 1:09 - loss: 7.6247 - acc: 0.028 - ETA: 1:08 - loss: 7.5863 - acc: 0.029 - ETA: 1:07 - loss: 7.5587 - acc: 0.029 - ETA: 1:06 - loss: 7.5344 - acc: 0.029 - ETA: 1:05 - loss: 7.5318 - acc: 0.029 - ETA: 1:05 - loss: 7.5033 - acc: 0.030 - ETA: 1:04 - loss: 7.4858 - acc: 0.030 - ETA: 1:03 - loss: 7.4571 - acc: 0.031 - ETA: 1:02 - loss: 7.4308 - acc: 0.032 - ETA: 1:01 - loss: 7.4075 - acc: 0.033 - ETA: 1:00 - loss: 7.3866 - acc: 0.033 - ETA: 59s - loss: 7.3654 - acc: 0.034 - ETA: 59s - loss: 7.3516 - acc: 0.03 - ETA: 58s - loss: 7.3389 - acc: 0.03 - ETA: 57s - loss: 7.3269 - acc: 0.03 - ETA: 56s - loss: 7.3078 - acc: 0.03 - ETA: 56s - loss: 7.3011 - acc: 0.03 - ETA: 55s - loss: 7.2868 - acc: 0.03 - ETA: 55s - loss: 7.2698 - acc: 0.03 - ETA: 54s - loss: 7.2561 - acc: 0.03 - ETA: 54s - loss: 7.2432 - acc: 0.03 - ETA: 53s - loss: 7.2308 - acc: 0.03 - ETA: 53s - loss: 7.2264 - acc: 0.03 - ETA: 52s - loss: 7.2128 - acc: 0.03 - ETA: 52s - loss: 7.2035 - acc: 0.03 - ETA: 51s - loss: 7.1927 - acc: 0.03 - ETA: 51s - loss: 7.1842 - acc: 0.04 - ETA: 50s - loss: 7.1707 - acc: 0.04 - ETA: 50s - loss: 7.1655 - acc: 0.04 - ETA: 49s - loss: 7.1622 - acc: 0.04 - ETA: 49s - loss: 7.1524 - acc: 0.04 - ETA: 48s - loss: 7.1429 - acc: 0.04 - ETA: 48s - loss: 7.1316 - acc: 0.04 - ETA: 47s - loss: 7.1274 - acc: 0.04 - ETA: 47s - loss: 7.1158 - acc: 0.04 - ETA: 46s - loss: 7.1101 - acc: 0.04 - ETA: 46s - loss: 7.1040 - acc: 0.04 - ETA: 46s - loss: 7.1006 - acc: 0.04 - ETA: 45s - loss: 7.0907 - acc: 0.04 - ETA: 45s - loss: 7.0846 - acc: 0.04 - ETA: 44s - loss: 7.0754 - acc: 0.04 - ETA: 44s - loss: 7.0670 - acc: 0.04 - ETA: 43s - loss: 7.0607 - acc: 0.04 - ETA: 43s - loss: 7.0516 - acc: 0.04 - ETA: 43s - loss: 7.0473 - acc: 0.04 - ETA: 42s - loss: 7.0428 - acc: 0.04 - ETA: 42s - loss: 7.0321 - acc: 0.04 - ETA: 42s - loss: 7.0243 - acc: 0.04 - ETA: 41s - loss: 7.0155 - acc: 0.04 - ETA: 41s - loss: 7.0111 - acc: 0.04 - ETA: 41s - loss: 7.0090 - acc: 0.04 - ETA: 40s - loss: 7.0016 - acc: 0.04 - ETA: 40s - loss: 6.9949 - acc: 0.04 - ETA: 39s - loss: 6.9884 - acc: 0.04 - ETA: 39s - loss: 6.9867 - acc: 0.04 - ETA: 39s - loss: 6.9793 - acc: 0.04 - ETA: 38s - loss: 6.9729 - acc: 0.04 - ETA: 38s - loss: 6.9676 - acc: 0.04 - ETA: 38s - loss: 6.9602 - acc: 0.04 - ETA: 37s - loss: 6.9530 - acc: 0.04 - ETA: 37s - loss: 6.9476 - acc: 0.04 - ETA: 37s - loss: 6.9447 - acc: 0.04 - ETA: 36s - loss: 6.9462 - acc: 0.04 - ETA: 36s - loss: 6.9395 - acc: 0.04 - ETA: 36s - loss: 6.9371 - acc: 0.04 - ETA: 35s - loss: 6.9353 - acc: 0.04 - ETA: 35s - loss: 6.9320 - acc: 0.04 - ETA: 35s - loss: 6.9275 - acc: 0.04 - ETA: 34s - loss: 6.9227 - acc: 0.05 - ETA: 34s - loss: 6.9163 - acc: 0.05 - ETA: 34s - loss: 6.9107 - acc: 0.05 - ETA: 34s - loss: 6.9079 - acc: 0.05 - ETA: 33s - loss: 6.9049 - acc: 0.05 - ETA: 33s - loss: 6.9032 - acc: 0.05 - ETA: 33s - loss: 6.8992 - acc: 0.05 - ETA: 32s - loss: 6.8928 - acc: 0.05 - ETA: 32s - loss: 6.8937 - acc: 0.05 - ETA: 32s - loss: 6.8907 - acc: 0.05 - ETA: 31s - loss: 6.8855 - acc: 0.05 - ETA: 31s - loss: 6.8823 - acc: 0.05 - ETA: 31s - loss: 6.8807 - acc: 0.05 - ETA: 31s - loss: 6.8730 - acc: 0.05 - ETA: 30s - loss: 6.8686 - acc: 0.05 - ETA: 30s - loss: 6.8674 - acc: 0.05 - ETA: 30s - loss: 6.8610 - acc: 0.05 - ETA: 29s - loss: 6.8608 - acc: 0.05 - ETA: 29s - loss: 6.8570 - acc: 0.05 - ETA: 29s - loss: 6.8536 - acc: 0.05 - ETA: 29s - loss: 6.8527 - acc: 0.05 - ETA: 28s - loss: 6.8484 - acc: 0.05 - ETA: 28s - loss: 6.8474 - acc: 0.05 - ETA: 28s - loss: 6.8428 - acc: 0.05 - ETA: 27s - loss: 6.8403 - acc: 0.05 - ETA: 27s - loss: 6.8375 - acc: 0.05 - ETA: 27s - loss: 6.8371 - acc: 0.05 - ETA: 27s - loss: 6.8346 - acc: 0.05 - ETA: 26s - loss: 6.8289 - acc: 0.05 - ETA: 26s - loss: 6.8256 - acc: 0.05 - ETA: 26s - loss: 6.8224 - acc: 0.05 - ETA: 26s - loss: 6.8156 - acc: 0.05 - ETA: 25s - loss: 6.8145 - acc: 0.05 - ETA: 25s - loss: 6.8129 - acc: 0.05 - ETA: 25s - loss: 6.8104 - acc: 0.05 - ETA: 24s - loss: 6.8093 - acc: 0.05 - ETA: 24s - loss: 6.8081 - acc: 0.05 - ETA: 24s - loss: 6.8072 - acc: 0.05 - ETA: 24s - loss: 6.8045 - acc: 0.05 - ETA: 23s - loss: 6.8031 - acc: 0.05 - ETA: 23s - loss: 6.8008 - acc: 0.05 - ETA: 23s - loss: 6.7988 - acc: 0.05 - ETA: 22s - loss: 6.7977 - acc: 0.05 - ETA: 22s - loss: 6.7964 - acc: 0.05 - ETA: 22s - loss: 6.7950 - acc: 0.05 - ETA: 22s - loss: 6.7934 - acc: 0.05 - ETA: 21s - loss: 6.7910 - acc: 0.05 - ETA: 21s - loss: 6.7882 - acc: 0.05 - ETA: 21s - loss: 6.7850 - acc: 0.05 - ETA: 21s - loss: 6.7793 - acc: 0.05 - ETA: 20s - loss: 6.7784 - acc: 0.05 - ETA: 20s - loss: 6.7785 - acc: 0.05 - ETA: 20s - loss: 6.7754 - acc: 0.05 - ETA: 20s - loss: 6.7731 - acc: 0.05 - ETA: 19s - loss: 6.7708 - acc: 0.05 - ETA: 19s - loss: 6.7694 - acc: 0.05 - ETA: 19s - loss: 6.7683 - acc: 0.05 - ETA: 19s - loss: 6.7635 - acc: 0.05 - ETA: 18s - loss: 6.7589 - acc: 0.05 - ETA: 18s - loss: 6.7555 - acc: 0.05 - ETA: 18s - loss: 6.7524 - acc: 0.05 - ETA: 18s - loss: 6.7491 - acc: 0.05 - ETA: 17s - loss: 6.7485 - acc: 0.05 - ETA: 17s - loss: 6.7461 - acc: 0.05 - ETA: 17s - loss: 6.7468 - acc: 0.05 - ETA: 17s - loss: 6.7441 - acc: 0.05 - ETA: 16s - loss: 6.7436 - acc: 0.05 - ETA: 16s - loss: 6.7410 - acc: 0.05 - ETA: 16s - loss: 6.7376 - acc: 0.05 - ETA: 16s - loss: 6.7348 - acc: 0.05 - ETA: 15s - loss: 6.7311 - acc: 0.05 - ETA: 15s - loss: 6.7298 - acc: 0.05 - ETA: 15s - loss: 6.7300 - acc: 0.05 - ETA: 15s - loss: 6.7322 - acc: 0.05 - ETA: 14s - loss: 6.7298 - acc: 0.05 - ETA: 14s - loss: 6.7263 - acc: 0.05 - ETA: 14s - loss: 6.7240 - acc: 0.05 - ETA: 14s - loss: 6.7233 - acc: 0.05 - ETA: 13s - loss: 6.7210 - acc: 0.05 - ETA: 13s - loss: 6.7212 - acc: 0.05 - ETA: 13s - loss: 6.7181 - acc: 0.05 - ETA: 13s - loss: 6.7177 - acc: 0.05 - ETA: 13s - loss: 6.7157 - acc: 0.05 - ETA: 12s - loss: 6.7132 - acc: 0.05 - ETA: 12s - loss: 6.7112 - acc: 0.05 - ETA: 12s - loss: 6.7099 - acc: 0.05 - ETA: 12s - loss: 6.7088 - acc: 0.05 - ETA: 11s - loss: 6.7050 - acc: 0.05 - ETA: 11s - loss: 6.7036 - acc: 0.05 - ETA: 11s - loss: 6.7020 - acc: 0.05 - ETA: 11s - loss: 6.7017 - acc: 0.05 - ETA: 10s - loss: 6.7020 - acc: 0.05 - ETA: 10s - loss: 6.7016 - acc: 0.05 - ETA: 10s - loss: 6.7036 - acc: 0.05 - ETA: 10s - loss: 6.7034 - acc: 0.05 - ETA: 9s - loss: 6.7033 - acc: 0.0562 - ETA: 9s - loss: 6.7000 - acc: 0.056 - ETA: 9s - loss: 6.6985 - acc: 0.056 - ETA: 9s - loss: 6.6972 - acc: 0.056 - ETA: 9s - loss: 6.6934 - acc: 0.056 - ETA: 8s - loss: 6.6915 - acc: 0.056 - ETA: 8s - loss: 6.6903 - acc: 0.056 - ETA: 8s - loss: 6.6898 - acc: 0.056 - ETA: 8s - loss: 6.6889 - acc: 0.057 - ETA: 7s - loss: 6.6889 - acc: 0.057 - ETA: 7s - loss: 6.6886 - acc: 0.057 - ETA: 7s - loss: 6.6874 - acc: 0.057 - ETA: 7s - loss: 6.6869 - acc: 0.057 - ETA: 6s - loss: 6.6852 - acc: 0.057 - ETA: 6s - loss: 6.6843 - acc: 0.057 - ETA: 6s - loss: 6.6836 - acc: 0.0573"
     ]
    },
    {
     "name": "stdout",
     "output_type": "stream",
     "text": [
      "30742/30742 [==============================] - ETA: 6s - loss: 6.6821 - acc: 0.057 - ETA: 6s - loss: 6.6821 - acc: 0.057 - ETA: 5s - loss: 6.6818 - acc: 0.057 - ETA: 5s - loss: 6.6792 - acc: 0.057 - ETA: 5s - loss: 6.6790 - acc: 0.057 - ETA: 5s - loss: 6.6774 - acc: 0.057 - ETA: 4s - loss: 6.6759 - acc: 0.057 - ETA: 4s - loss: 6.6731 - acc: 0.057 - ETA: 4s - loss: 6.6733 - acc: 0.057 - ETA: 4s - loss: 6.6725 - acc: 0.057 - ETA: 3s - loss: 6.6711 - acc: 0.057 - ETA: 3s - loss: 6.6706 - acc: 0.057 - ETA: 3s - loss: 6.6684 - acc: 0.057 - ETA: 3s - loss: 6.6700 - acc: 0.057 - ETA: 3s - loss: 6.6672 - acc: 0.057 - ETA: 2s - loss: 6.6673 - acc: 0.057 - ETA: 2s - loss: 6.6681 - acc: 0.057 - ETA: 2s - loss: 6.6673 - acc: 0.057 - ETA: 2s - loss: 6.6665 - acc: 0.057 - ETA: 1s - loss: 6.6647 - acc: 0.057 - ETA: 1s - loss: 6.6627 - acc: 0.057 - ETA: 1s - loss: 6.6628 - acc: 0.057 - ETA: 1s - loss: 6.6616 - acc: 0.057 - ETA: 0s - loss: 6.6603 - acc: 0.057 - ETA: 0s - loss: 6.6615 - acc: 0.057 - ETA: 0s - loss: 6.6613 - acc: 0.057 - ETA: 0s - loss: 6.6601 - acc: 0.057 - ETA: 0s - loss: 6.6602 - acc: 0.057 - 54s 2ms/step - loss: 6.6595 - acc: 0.0575\n",
      "Epoch 2/30\n"
     ]
    },
    {
     "name": "stdout",
     "output_type": "stream",
     "text": [
      "27520/30742 [=========================>....] - ETA: 44s - loss: 5.9756 - acc: 0.08 - ETA: 45s - loss: 6.1435 - acc: 0.08 - ETA: 46s - loss: 6.1871 - acc: 0.07 - ETA: 46s - loss: 6.2160 - acc: 0.07 - ETA: 45s - loss: 6.2511 - acc: 0.06 - ETA: 45s - loss: 6.2104 - acc: 0.06 - ETA: 44s - loss: 6.1761 - acc: 0.06 - ETA: 44s - loss: 6.1736 - acc: 0.06 - ETA: 44s - loss: 6.2207 - acc: 0.06 - ETA: 44s - loss: 6.1968 - acc: 0.06 - ETA: 44s - loss: 6.1958 - acc: 0.06 - ETA: 44s - loss: 6.1944 - acc: 0.06 - ETA: 44s - loss: 6.1559 - acc: 0.07 - ETA: 44s - loss: 6.1761 - acc: 0.07 - ETA: 44s - loss: 6.1820 - acc: 0.07 - ETA: 45s - loss: 6.1773 - acc: 0.07 - ETA: 45s - loss: 6.1983 - acc: 0.07 - ETA: 45s - loss: 6.2018 - acc: 0.07 - ETA: 44s - loss: 6.1908 - acc: 0.07 - ETA: 44s - loss: 6.1989 - acc: 0.07 - ETA: 44s - loss: 6.2101 - acc: 0.06 - ETA: 43s - loss: 6.2074 - acc: 0.06 - ETA: 43s - loss: 6.2142 - acc: 0.06 - ETA: 43s - loss: 6.2273 - acc: 0.06 - ETA: 43s - loss: 6.2285 - acc: 0.06 - ETA: 42s - loss: 6.2309 - acc: 0.06 - ETA: 42s - loss: 6.2337 - acc: 0.06 - ETA: 42s - loss: 6.2360 - acc: 0.06 - ETA: 42s - loss: 6.2318 - acc: 0.06 - ETA: 42s - loss: 6.2264 - acc: 0.06 - ETA: 41s - loss: 6.2325 - acc: 0.06 - ETA: 41s - loss: 6.2495 - acc: 0.06 - ETA: 41s - loss: 6.2528 - acc: 0.06 - ETA: 40s - loss: 6.2560 - acc: 0.06 - ETA: 40s - loss: 6.2509 - acc: 0.06 - ETA: 40s - loss: 6.2434 - acc: 0.06 - ETA: 40s - loss: 6.2465 - acc: 0.06 - ETA: 39s - loss: 6.2520 - acc: 0.06 - ETA: 39s - loss: 6.2450 - acc: 0.06 - ETA: 39s - loss: 6.2497 - acc: 0.06 - ETA: 39s - loss: 6.2512 - acc: 0.06 - ETA: 38s - loss: 6.2500 - acc: 0.06 - ETA: 38s - loss: 6.2520 - acc: 0.06 - ETA: 38s - loss: 6.2569 - acc: 0.06 - ETA: 38s - loss: 6.2599 - acc: 0.06 - ETA: 38s - loss: 6.2624 - acc: 0.06 - ETA: 37s - loss: 6.2731 - acc: 0.06 - ETA: 37s - loss: 6.2694 - acc: 0.06 - ETA: 37s - loss: 6.2729 - acc: 0.06 - ETA: 37s - loss: 6.2725 - acc: 0.06 - ETA: 36s - loss: 6.2763 - acc: 0.06 - ETA: 36s - loss: 6.2839 - acc: 0.06 - ETA: 36s - loss: 6.2825 - acc: 0.06 - ETA: 36s - loss: 6.2845 - acc: 0.06 - ETA: 36s - loss: 6.2838 - acc: 0.06 - ETA: 35s - loss: 6.2888 - acc: 0.06 - ETA: 35s - loss: 6.2880 - acc: 0.06 - ETA: 35s - loss: 6.2907 - acc: 0.06 - ETA: 35s - loss: 6.2893 - acc: 0.06 - ETA: 34s - loss: 6.2904 - acc: 0.06 - ETA: 34s - loss: 6.2911 - acc: 0.06 - ETA: 34s - loss: 6.2887 - acc: 0.06 - ETA: 34s - loss: 6.2872 - acc: 0.06 - ETA: 34s - loss: 6.2891 - acc: 0.06 - ETA: 34s - loss: 6.2896 - acc: 0.06 - ETA: 33s - loss: 6.2894 - acc: 0.06 - ETA: 33s - loss: 6.2920 - acc: 0.06 - ETA: 33s - loss: 6.2927 - acc: 0.06 - ETA: 33s - loss: 6.2971 - acc: 0.06 - ETA: 33s - loss: 6.2946 - acc: 0.06 - ETA: 32s - loss: 6.2944 - acc: 0.06 - ETA: 32s - loss: 6.2959 - acc: 0.06 - ETA: 32s - loss: 6.2950 - acc: 0.06 - ETA: 32s - loss: 6.2927 - acc: 0.06 - ETA: 32s - loss: 6.2925 - acc: 0.06 - ETA: 31s - loss: 6.2931 - acc: 0.06 - ETA: 31s - loss: 6.2912 - acc: 0.06 - ETA: 31s - loss: 6.2874 - acc: 0.06 - ETA: 31s - loss: 6.2905 - acc: 0.06 - ETA: 31s - loss: 6.2881 - acc: 0.06 - ETA: 30s - loss: 6.2866 - acc: 0.06 - ETA: 30s - loss: 6.2863 - acc: 0.06 - ETA: 30s - loss: 6.2840 - acc: 0.06 - ETA: 30s - loss: 6.2854 - acc: 0.06 - ETA: 30s - loss: 6.2877 - acc: 0.06 - ETA: 30s - loss: 6.2886 - acc: 0.06 - ETA: 29s - loss: 6.2840 - acc: 0.06 - ETA: 29s - loss: 6.2824 - acc: 0.06 - ETA: 29s - loss: 6.2809 - acc: 0.06 - ETA: 29s - loss: 6.2777 - acc: 0.06 - ETA: 29s - loss: 6.2780 - acc: 0.06 - ETA: 28s - loss: 6.2800 - acc: 0.06 - ETA: 28s - loss: 6.2768 - acc: 0.06 - ETA: 28s - loss: 6.2780 - acc: 0.06 - ETA: 28s - loss: 6.2787 - acc: 0.06 - ETA: 28s - loss: 6.2809 - acc: 0.06 - ETA: 28s - loss: 6.2808 - acc: 0.06 - ETA: 27s - loss: 6.2786 - acc: 0.06 - ETA: 27s - loss: 6.2763 - acc: 0.06 - ETA: 27s - loss: 6.2767 - acc: 0.06 - ETA: 27s - loss: 6.2752 - acc: 0.06 - ETA: 27s - loss: 6.2767 - acc: 0.06 - ETA: 26s - loss: 6.2734 - acc: 0.06 - ETA: 26s - loss: 6.2724 - acc: 0.06 - ETA: 26s - loss: 6.2702 - acc: 0.06 - ETA: 26s - loss: 6.2667 - acc: 0.06 - ETA: 26s - loss: 6.2694 - acc: 0.06 - ETA: 25s - loss: 6.2681 - acc: 0.06 - ETA: 25s - loss: 6.2719 - acc: 0.06 - ETA: 25s - loss: 6.2686 - acc: 0.06 - ETA: 25s - loss: 6.2701 - acc: 0.06 - ETA: 25s - loss: 6.2691 - acc: 0.06 - ETA: 24s - loss: 6.2711 - acc: 0.06 - ETA: 24s - loss: 6.2693 - acc: 0.06 - ETA: 24s - loss: 6.2677 - acc: 0.06 - ETA: 24s - loss: 6.2656 - acc: 0.06 - ETA: 24s - loss: 6.2642 - acc: 0.06 - ETA: 24s - loss: 6.2636 - acc: 0.06 - ETA: 23s - loss: 6.2643 - acc: 0.06 - ETA: 23s - loss: 6.2624 - acc: 0.06 - ETA: 23s - loss: 6.2625 - acc: 0.06 - ETA: 23s - loss: 6.2612 - acc: 0.06 - ETA: 23s - loss: 6.2615 - acc: 0.06 - ETA: 23s - loss: 6.2612 - acc: 0.06 - ETA: 22s - loss: 6.2612 - acc: 0.06 - ETA: 22s - loss: 6.2607 - acc: 0.06 - ETA: 22s - loss: 6.2613 - acc: 0.06 - ETA: 22s - loss: 6.2592 - acc: 0.06 - ETA: 22s - loss: 6.2574 - acc: 0.06 - ETA: 21s - loss: 6.2580 - acc: 0.06 - ETA: 21s - loss: 6.2572 - acc: 0.06 - ETA: 21s - loss: 6.2575 - acc: 0.06 - ETA: 21s - loss: 6.2570 - acc: 0.06 - ETA: 21s - loss: 6.2569 - acc: 0.06 - ETA: 20s - loss: 6.2577 - acc: 0.06 - ETA: 20s - loss: 6.2574 - acc: 0.06 - ETA: 20s - loss: 6.2576 - acc: 0.06 - ETA: 20s - loss: 6.2591 - acc: 0.06 - ETA: 20s - loss: 6.2568 - acc: 0.06 - ETA: 19s - loss: 6.2545 - acc: 0.06 - ETA: 19s - loss: 6.2549 - acc: 0.06 - ETA: 19s - loss: 6.2554 - acc: 0.06 - ETA: 19s - loss: 6.2594 - acc: 0.06 - ETA: 19s - loss: 6.2587 - acc: 0.06 - ETA: 18s - loss: 6.2611 - acc: 0.06 - ETA: 18s - loss: 6.2632 - acc: 0.06 - ETA: 18s - loss: 6.2638 - acc: 0.06 - ETA: 18s - loss: 6.2622 - acc: 0.06 - ETA: 18s - loss: 6.2627 - acc: 0.06 - ETA: 18s - loss: 6.2616 - acc: 0.06 - ETA: 17s - loss: 6.2626 - acc: 0.06 - ETA: 17s - loss: 6.2588 - acc: 0.06 - ETA: 17s - loss: 6.2591 - acc: 0.06 - ETA: 17s - loss: 6.2585 - acc: 0.06 - ETA: 17s - loss: 6.2578 - acc: 0.06 - ETA: 16s - loss: 6.2589 - acc: 0.06 - ETA: 16s - loss: 6.2574 - acc: 0.06 - ETA: 16s - loss: 6.2591 - acc: 0.06 - ETA: 16s - loss: 6.2574 - acc: 0.06 - ETA: 16s - loss: 6.2575 - acc: 0.06 - ETA: 16s - loss: 6.2584 - acc: 0.06 - ETA: 15s - loss: 6.2573 - acc: 0.06 - ETA: 15s - loss: 6.2573 - acc: 0.06 - ETA: 15s - loss: 6.2558 - acc: 0.06 - ETA: 15s - loss: 6.2568 - acc: 0.06 - ETA: 14s - loss: 6.2544 - acc: 0.06 - ETA: 14s - loss: 6.2556 - acc: 0.06 - ETA: 14s - loss: 6.2559 - acc: 0.06 - ETA: 14s - loss: 6.2574 - acc: 0.06 - ETA: 14s - loss: 6.2588 - acc: 0.06 - ETA: 13s - loss: 6.2594 - acc: 0.06 - ETA: 13s - loss: 6.2612 - acc: 0.06 - ETA: 13s - loss: 6.2594 - acc: 0.06 - ETA: 13s - loss: 6.2591 - acc: 0.06 - ETA: 13s - loss: 6.2591 - acc: 0.06 - ETA: 12s - loss: 6.2602 - acc: 0.06 - ETA: 12s - loss: 6.2590 - acc: 0.06 - ETA: 12s - loss: 6.2608 - acc: 0.06 - ETA: 12s - loss: 6.2593 - acc: 0.06 - ETA: 12s - loss: 6.2576 - acc: 0.06 - ETA: 11s - loss: 6.2584 - acc: 0.06 - ETA: 11s - loss: 6.2589 - acc: 0.06 - ETA: 11s - loss: 6.2573 - acc: 0.06 - ETA: 11s - loss: 6.2595 - acc: 0.06 - ETA: 11s - loss: 6.2584 - acc: 0.06 - ETA: 10s - loss: 6.2571 - acc: 0.06 - ETA: 10s - loss: 6.2541 - acc: 0.06 - ETA: 10s - loss: 6.2536 - acc: 0.06 - ETA: 10s - loss: 6.2544 - acc: 0.06 - ETA: 10s - loss: 6.2532 - acc: 0.06 - ETA: 9s - loss: 6.2526 - acc: 0.0625 - ETA: 9s - loss: 6.2520 - acc: 0.062 - ETA: 9s - loss: 6.2501 - acc: 0.062 - ETA: 9s - loss: 6.2499 - acc: 0.062 - ETA: 9s - loss: 6.2470 - acc: 0.062 - ETA: 8s - loss: 6.2489 - acc: 0.062 - ETA: 8s - loss: 6.2466 - acc: 0.062 - ETA: 8s - loss: 6.2478 - acc: 0.062 - ETA: 8s - loss: 6.2481 - acc: 0.062 - ETA: 8s - loss: 6.2490 - acc: 0.062 - ETA: 7s - loss: 6.2491 - acc: 0.062 - ETA: 7s - loss: 6.2502 - acc: 0.062 - ETA: 7s - loss: 6.2496 - acc: 0.061 - ETA: 7s - loss: 6.2476 - acc: 0.062 - ETA: 7s - loss: 6.2442 - acc: 0.062 - ETA: 6s - loss: 6.2467 - acc: 0.062 - ETA: 6s - loss: 6.2475 - acc: 0.062 - ETA: 6s - loss: 6.2478 - acc: 0.062 - ETA: 6s - loss: 6.2463 - acc: 0.062 - ETA: 6s - loss: 6.2471 - acc: 0.062 - ETA: 5s - loss: 6.2482 - acc: 0.062 - ETA: 5s - loss: 6.2477 - acc: 0.062 - ETA: 5s - loss: 6.2470 - acc: 0.062 - ETA: 5s - loss: 6.2464 - acc: 0.062 - ETA: 5s - loss: 6.2482 - acc: 0.0622"
     ]
    },
    {
     "name": "stdout",
     "output_type": "stream",
     "text": [
      "30742/30742 [==============================] - ETA: 4s - loss: 6.2476 - acc: 0.062 - ETA: 4s - loss: 6.2472 - acc: 0.062 - ETA: 4s - loss: 6.2471 - acc: 0.062 - ETA: 4s - loss: 6.2457 - acc: 0.062 - ETA: 4s - loss: 6.2452 - acc: 0.062 - ETA: 3s - loss: 6.2449 - acc: 0.062 - ETA: 3s - loss: 6.2466 - acc: 0.062 - ETA: 3s - loss: 6.2458 - acc: 0.062 - ETA: 3s - loss: 6.2476 - acc: 0.062 - ETA: 3s - loss: 6.2476 - acc: 0.062 - ETA: 2s - loss: 6.2488 - acc: 0.062 - ETA: 2s - loss: 6.2474 - acc: 0.062 - ETA: 2s - loss: 6.2455 - acc: 0.062 - ETA: 2s - loss: 6.2448 - acc: 0.062 - ETA: 2s - loss: 6.2453 - acc: 0.062 - ETA: 1s - loss: 6.2454 - acc: 0.062 - ETA: 1s - loss: 6.2466 - acc: 0.062 - ETA: 1s - loss: 6.2461 - acc: 0.062 - ETA: 1s - loss: 6.2448 - acc: 0.062 - ETA: 1s - loss: 6.2440 - acc: 0.062 - ETA: 0s - loss: 6.2454 - acc: 0.062 - ETA: 0s - loss: 6.2465 - acc: 0.062 - ETA: 0s - loss: 6.2476 - acc: 0.062 - ETA: 0s - loss: 6.2481 - acc: 0.062 - ETA: 0s - loss: 6.2475 - acc: 0.061 - 48s 2ms/step - loss: 6.2470 - acc: 0.0620\n",
      "Epoch 3/30\n"
     ]
    },
    {
     "name": "stdout",
     "output_type": "stream",
     "text": [
      "27520/30742 [=========================>....] - ETA: 43s - loss: 6.0744 - acc: 0.07 - ETA: 44s - loss: 6.0308 - acc: 0.05 - ETA: 43s - loss: 6.0882 - acc: 0.05 - ETA: 43s - loss: 6.0421 - acc: 0.06 - ETA: 43s - loss: 6.0541 - acc: 0.06 - ETA: 43s - loss: 6.0335 - acc: 0.06 - ETA: 43s - loss: 5.9837 - acc: 0.06 - ETA: 43s - loss: 6.0088 - acc: 0.06 - ETA: 42s - loss: 5.9706 - acc: 0.06 - ETA: 42s - loss: 5.9622 - acc: 0.06 - ETA: 42s - loss: 5.9777 - acc: 0.06 - ETA: 42s - loss: 5.9958 - acc: 0.06 - ETA: 42s - loss: 6.0051 - acc: 0.06 - ETA: 41s - loss: 6.0086 - acc: 0.06 - ETA: 41s - loss: 6.0160 - acc: 0.06 - ETA: 41s - loss: 6.0254 - acc: 0.06 - ETA: 41s - loss: 6.0492 - acc: 0.06 - ETA: 41s - loss: 6.0634 - acc: 0.06 - ETA: 40s - loss: 6.0497 - acc: 0.06 - ETA: 40s - loss: 6.0562 - acc: 0.06 - ETA: 40s - loss: 6.0402 - acc: 0.06 - ETA: 40s - loss: 6.0417 - acc: 0.06 - ETA: 40s - loss: 6.0402 - acc: 0.06 - ETA: 40s - loss: 6.0341 - acc: 0.06 - ETA: 39s - loss: 6.0297 - acc: 0.06 - ETA: 39s - loss: 6.0387 - acc: 0.06 - ETA: 39s - loss: 6.0567 - acc: 0.06 - ETA: 39s - loss: 6.0622 - acc: 0.06 - ETA: 39s - loss: 6.0562 - acc: 0.06 - ETA: 39s - loss: 6.0480 - acc: 0.06 - ETA: 38s - loss: 6.0411 - acc: 0.06 - ETA: 38s - loss: 6.0409 - acc: 0.06 - ETA: 38s - loss: 6.0498 - acc: 0.05 - ETA: 38s - loss: 6.0556 - acc: 0.05 - ETA: 38s - loss: 6.0438 - acc: 0.05 - ETA: 37s - loss: 6.0361 - acc: 0.05 - ETA: 37s - loss: 6.0479 - acc: 0.05 - ETA: 37s - loss: 6.0386 - acc: 0.06 - ETA: 37s - loss: 6.0331 - acc: 0.06 - ETA: 37s - loss: 6.0357 - acc: 0.06 - ETA: 37s - loss: 6.0454 - acc: 0.06 - ETA: 36s - loss: 6.0512 - acc: 0.06 - ETA: 36s - loss: 6.0461 - acc: 0.06 - ETA: 36s - loss: 6.0466 - acc: 0.06 - ETA: 36s - loss: 6.0439 - acc: 0.06 - ETA: 36s - loss: 6.0469 - acc: 0.06 - ETA: 35s - loss: 6.0487 - acc: 0.06 - ETA: 35s - loss: 6.0484 - acc: 0.06 - ETA: 35s - loss: 6.0475 - acc: 0.06 - ETA: 35s - loss: 6.0431 - acc: 0.06 - ETA: 35s - loss: 6.0404 - acc: 0.06 - ETA: 35s - loss: 6.0435 - acc: 0.06 - ETA: 34s - loss: 6.0425 - acc: 0.06 - ETA: 34s - loss: 6.0404 - acc: 0.06 - ETA: 34s - loss: 6.0419 - acc: 0.06 - ETA: 34s - loss: 6.0404 - acc: 0.06 - ETA: 34s - loss: 6.0384 - acc: 0.06 - ETA: 33s - loss: 6.0332 - acc: 0.06 - ETA: 33s - loss: 6.0292 - acc: 0.06 - ETA: 33s - loss: 6.0220 - acc: 0.06 - ETA: 33s - loss: 6.0162 - acc: 0.06 - ETA: 33s - loss: 6.0199 - acc: 0.06 - ETA: 33s - loss: 6.0192 - acc: 0.06 - ETA: 32s - loss: 6.0224 - acc: 0.06 - ETA: 32s - loss: 6.0154 - acc: 0.06 - ETA: 32s - loss: 6.0125 - acc: 0.06 - ETA: 32s - loss: 6.0165 - acc: 0.06 - ETA: 32s - loss: 6.0162 - acc: 0.06 - ETA: 31s - loss: 6.0143 - acc: 0.06 - ETA: 31s - loss: 6.0119 - acc: 0.06 - ETA: 31s - loss: 6.0137 - acc: 0.06 - ETA: 31s - loss: 6.0149 - acc: 0.06 - ETA: 31s - loss: 6.0220 - acc: 0.06 - ETA: 31s - loss: 6.0229 - acc: 0.06 - ETA: 30s - loss: 6.0230 - acc: 0.06 - ETA: 30s - loss: 6.0306 - acc: 0.06 - ETA: 30s - loss: 6.0320 - acc: 0.06 - ETA: 30s - loss: 6.0332 - acc: 0.06 - ETA: 30s - loss: 6.0305 - acc: 0.06 - ETA: 30s - loss: 6.0322 - acc: 0.06 - ETA: 29s - loss: 6.0342 - acc: 0.06 - ETA: 29s - loss: 6.0335 - acc: 0.06 - ETA: 29s - loss: 6.0356 - acc: 0.06 - ETA: 29s - loss: 6.0386 - acc: 0.06 - ETA: 29s - loss: 6.0408 - acc: 0.06 - ETA: 28s - loss: 6.0425 - acc: 0.06 - ETA: 28s - loss: 6.0446 - acc: 0.06 - ETA: 28s - loss: 6.0415 - acc: 0.06 - ETA: 28s - loss: 6.0428 - acc: 0.06 - ETA: 28s - loss: 6.0454 - acc: 0.06 - ETA: 27s - loss: 6.0446 - acc: 0.06 - ETA: 27s - loss: 6.0475 - acc: 0.06 - ETA: 27s - loss: 6.0489 - acc: 0.06 - ETA: 27s - loss: 6.0554 - acc: 0.06 - ETA: 27s - loss: 6.0543 - acc: 0.06 - ETA: 27s - loss: 6.0554 - acc: 0.06 - ETA: 26s - loss: 6.0594 - acc: 0.06 - ETA: 26s - loss: 6.0617 - acc: 0.06 - ETA: 26s - loss: 6.0619 - acc: 0.06 - ETA: 26s - loss: 6.0607 - acc: 0.06 - ETA: 26s - loss: 6.0660 - acc: 0.06 - ETA: 25s - loss: 6.0634 - acc: 0.06 - ETA: 25s - loss: 6.0639 - acc: 0.06 - ETA: 25s - loss: 6.0635 - acc: 0.06 - ETA: 25s - loss: 6.0651 - acc: 0.06 - ETA: 25s - loss: 6.0628 - acc: 0.06 - ETA: 25s - loss: 6.0627 - acc: 0.06 - ETA: 24s - loss: 6.0616 - acc: 0.06 - ETA: 24s - loss: 6.0624 - acc: 0.06 - ETA: 24s - loss: 6.0679 - acc: 0.06 - ETA: 24s - loss: 6.0634 - acc: 0.06 - ETA: 24s - loss: 6.0654 - acc: 0.06 - ETA: 23s - loss: 6.0665 - acc: 0.06 - ETA: 23s - loss: 6.0697 - acc: 0.06 - ETA: 23s - loss: 6.0718 - acc: 0.06 - ETA: 23s - loss: 6.0697 - acc: 0.06 - ETA: 23s - loss: 6.0681 - acc: 0.06 - ETA: 22s - loss: 6.0668 - acc: 0.06 - ETA: 22s - loss: 6.0639 - acc: 0.06 - ETA: 22s - loss: 6.0650 - acc: 0.06 - ETA: 22s - loss: 6.0649 - acc: 0.06 - ETA: 22s - loss: 6.0717 - acc: 0.06 - ETA: 22s - loss: 6.0729 - acc: 0.06 - ETA: 21s - loss: 6.0749 - acc: 0.06 - ETA: 21s - loss: 6.0748 - acc: 0.06 - ETA: 21s - loss: 6.0775 - acc: 0.06 - ETA: 21s - loss: 6.0767 - acc: 0.06 - ETA: 21s - loss: 6.0803 - acc: 0.06 - ETA: 20s - loss: 6.0818 - acc: 0.06 - ETA: 20s - loss: 6.0836 - acc: 0.06 - ETA: 20s - loss: 6.0835 - acc: 0.06 - ETA: 20s - loss: 6.0818 - acc: 0.06 - ETA: 20s - loss: 6.0792 - acc: 0.06 - ETA: 19s - loss: 6.0784 - acc: 0.06 - ETA: 19s - loss: 6.0791 - acc: 0.06 - ETA: 19s - loss: 6.0796 - acc: 0.06 - ETA: 19s - loss: 6.0763 - acc: 0.06 - ETA: 19s - loss: 6.0757 - acc: 0.06 - ETA: 19s - loss: 6.0762 - acc: 0.06 - ETA: 18s - loss: 6.0773 - acc: 0.06 - ETA: 18s - loss: 6.0773 - acc: 0.06 - ETA: 18s - loss: 6.0794 - acc: 0.06 - ETA: 18s - loss: 6.0789 - acc: 0.06 - ETA: 18s - loss: 6.0783 - acc: 0.06 - ETA: 17s - loss: 6.0782 - acc: 0.06 - ETA: 17s - loss: 6.0786 - acc: 0.06 - ETA: 17s - loss: 6.0789 - acc: 0.06 - ETA: 17s - loss: 6.0808 - acc: 0.06 - ETA: 17s - loss: 6.0824 - acc: 0.06 - ETA: 16s - loss: 6.0831 - acc: 0.06 - ETA: 16s - loss: 6.0847 - acc: 0.06 - ETA: 16s - loss: 6.0860 - acc: 0.06 - ETA: 16s - loss: 6.0855 - acc: 0.06 - ETA: 16s - loss: 6.0849 - acc: 0.06 - ETA: 16s - loss: 6.0855 - acc: 0.06 - ETA: 15s - loss: 6.0846 - acc: 0.06 - ETA: 15s - loss: 6.0878 - acc: 0.06 - ETA: 15s - loss: 6.0878 - acc: 0.06 - ETA: 15s - loss: 6.0863 - acc: 0.06 - ETA: 15s - loss: 6.0874 - acc: 0.06 - ETA: 14s - loss: 6.0866 - acc: 0.06 - ETA: 14s - loss: 6.0863 - acc: 0.06 - ETA: 14s - loss: 6.0884 - acc: 0.06 - ETA: 14s - loss: 6.0888 - acc: 0.06 - ETA: 14s - loss: 6.0890 - acc: 0.06 - ETA: 13s - loss: 6.0884 - acc: 0.06 - ETA: 13s - loss: 6.0868 - acc: 0.06 - ETA: 13s - loss: 6.0869 - acc: 0.06 - ETA: 13s - loss: 6.0878 - acc: 0.06 - ETA: 13s - loss: 6.0866 - acc: 0.06 - ETA: 13s - loss: 6.0869 - acc: 0.06 - ETA: 12s - loss: 6.0846 - acc: 0.06 - ETA: 12s - loss: 6.0850 - acc: 0.06 - ETA: 12s - loss: 6.0852 - acc: 0.06 - ETA: 12s - loss: 6.0872 - acc: 0.06 - ETA: 12s - loss: 6.0862 - acc: 0.06 - ETA: 11s - loss: 6.0854 - acc: 0.06 - ETA: 11s - loss: 6.0872 - acc: 0.06 - ETA: 11s - loss: 6.0884 - acc: 0.06 - ETA: 11s - loss: 6.0890 - acc: 0.06 - ETA: 11s - loss: 6.0880 - acc: 0.06 - ETA: 10s - loss: 6.0879 - acc: 0.06 - ETA: 10s - loss: 6.0856 - acc: 0.06 - ETA: 10s - loss: 6.0861 - acc: 0.06 - ETA: 10s - loss: 6.0864 - acc: 0.06 - ETA: 10s - loss: 6.0855 - acc: 0.06 - ETA: 10s - loss: 6.0847 - acc: 0.06 - ETA: 9s - loss: 6.0819 - acc: 0.0632 - ETA: 9s - loss: 6.0812 - acc: 0.063 - ETA: 9s - loss: 6.0813 - acc: 0.063 - ETA: 9s - loss: 6.0814 - acc: 0.063 - ETA: 9s - loss: 6.0801 - acc: 0.063 - ETA: 8s - loss: 6.0805 - acc: 0.063 - ETA: 8s - loss: 6.0796 - acc: 0.063 - ETA: 8s - loss: 6.0789 - acc: 0.063 - ETA: 8s - loss: 6.0767 - acc: 0.063 - ETA: 8s - loss: 6.0769 - acc: 0.063 - ETA: 7s - loss: 6.0786 - acc: 0.063 - ETA: 7s - loss: 6.0793 - acc: 0.063 - ETA: 7s - loss: 6.0794 - acc: 0.063 - ETA: 7s - loss: 6.0798 - acc: 0.063 - ETA: 7s - loss: 6.0807 - acc: 0.063 - ETA: 7s - loss: 6.0815 - acc: 0.063 - ETA: 6s - loss: 6.0811 - acc: 0.063 - ETA: 6s - loss: 6.0810 - acc: 0.063 - ETA: 6s - loss: 6.0813 - acc: 0.063 - ETA: 6s - loss: 6.0820 - acc: 0.063 - ETA: 6s - loss: 6.0813 - acc: 0.063 - ETA: 5s - loss: 6.0802 - acc: 0.064 - ETA: 5s - loss: 6.0818 - acc: 0.064 - ETA: 5s - loss: 6.0809 - acc: 0.064 - ETA: 5s - loss: 6.0824 - acc: 0.063 - ETA: 5s - loss: 6.0817 - acc: 0.063 - ETA: 4s - loss: 6.0811 - acc: 0.063 - ETA: 4s - loss: 6.0832 - acc: 0.0637"
     ]
    },
    {
     "name": "stdout",
     "output_type": "stream",
     "text": [
      "30742/30742 [==============================] - ETA: 4s - loss: 6.0834 - acc: 0.063 - ETA: 4s - loss: 6.0846 - acc: 0.063 - ETA: 4s - loss: 6.0837 - acc: 0.063 - ETA: 3s - loss: 6.0836 - acc: 0.063 - ETA: 3s - loss: 6.0832 - acc: 0.064 - ETA: 3s - loss: 6.0835 - acc: 0.063 - ETA: 3s - loss: 6.0839 - acc: 0.064 - ETA: 3s - loss: 6.0829 - acc: 0.064 - ETA: 3s - loss: 6.0826 - acc: 0.064 - ETA: 2s - loss: 6.0821 - acc: 0.064 - ETA: 2s - loss: 6.0826 - acc: 0.064 - ETA: 2s - loss: 6.0826 - acc: 0.064 - ETA: 2s - loss: 6.0832 - acc: 0.064 - ETA: 2s - loss: 6.0816 - acc: 0.064 - ETA: 1s - loss: 6.0804 - acc: 0.064 - ETA: 1s - loss: 6.0802 - acc: 0.064 - ETA: 1s - loss: 6.0805 - acc: 0.063 - ETA: 1s - loss: 6.0785 - acc: 0.064 - ETA: 1s - loss: 6.0771 - acc: 0.063 - ETA: 0s - loss: 6.0766 - acc: 0.064 - ETA: 0s - loss: 6.0769 - acc: 0.063 - ETA: 0s - loss: 6.0752 - acc: 0.063 - ETA: 0s - loss: 6.0756 - acc: 0.063 - ETA: 0s - loss: 6.0741 - acc: 0.063 - ETA: 0s - loss: 6.0744 - acc: 0.064 - 45s 1ms/step - loss: 6.0747 - acc: 0.0640\n",
      "Epoch 4/30\n"
     ]
    },
    {
     "name": "stdout",
     "output_type": "stream",
     "text": [
      "27520/30742 [=========================>....] - ETA: 43s - loss: 5.7904 - acc: 0.07 - ETA: 42s - loss: 5.9277 - acc: 0.06 - ETA: 43s - loss: 5.9096 - acc: 0.06 - ETA: 43s - loss: 5.8807 - acc: 0.06 - ETA: 43s - loss: 5.9112 - acc: 0.06 - ETA: 43s - loss: 5.9496 - acc: 0.06 - ETA: 43s - loss: 5.9089 - acc: 0.06 - ETA: 43s - loss: 5.8966 - acc: 0.07 - ETA: 42s - loss: 5.9382 - acc: 0.06 - ETA: 42s - loss: 5.9199 - acc: 0.06 - ETA: 42s - loss: 5.9040 - acc: 0.06 - ETA: 42s - loss: 5.8961 - acc: 0.06 - ETA: 42s - loss: 5.9069 - acc: 0.06 - ETA: 42s - loss: 5.8846 - acc: 0.06 - ETA: 41s - loss: 5.8962 - acc: 0.06 - ETA: 41s - loss: 5.9092 - acc: 0.06 - ETA: 41s - loss: 5.9003 - acc: 0.06 - ETA: 41s - loss: 5.8858 - acc: 0.06 - ETA: 41s - loss: 5.8816 - acc: 0.06 - ETA: 41s - loss: 5.8647 - acc: 0.06 - ETA: 40s - loss: 5.8724 - acc: 0.06 - ETA: 40s - loss: 5.8675 - acc: 0.07 - ETA: 40s - loss: 5.8692 - acc: 0.07 - ETA: 40s - loss: 5.8810 - acc: 0.06 - ETA: 40s - loss: 5.8949 - acc: 0.06 - ETA: 39s - loss: 5.9101 - acc: 0.06 - ETA: 39s - loss: 5.8971 - acc: 0.06 - ETA: 39s - loss: 5.9123 - acc: 0.06 - ETA: 39s - loss: 5.9089 - acc: 0.06 - ETA: 39s - loss: 5.9117 - acc: 0.06 - ETA: 39s - loss: 5.9173 - acc: 0.07 - ETA: 39s - loss: 5.9286 - acc: 0.06 - ETA: 38s - loss: 5.9290 - acc: 0.06 - ETA: 38s - loss: 5.9308 - acc: 0.06 - ETA: 38s - loss: 5.9302 - acc: 0.06 - ETA: 38s - loss: 5.9259 - acc: 0.06 - ETA: 38s - loss: 5.9306 - acc: 0.06 - ETA: 37s - loss: 5.9288 - acc: 0.06 - ETA: 37s - loss: 5.9298 - acc: 0.06 - ETA: 37s - loss: 5.9308 - acc: 0.06 - ETA: 37s - loss: 5.9483 - acc: 0.06 - ETA: 37s - loss: 5.9451 - acc: 0.06 - ETA: 36s - loss: 5.9512 - acc: 0.06 - ETA: 36s - loss: 5.9492 - acc: 0.06 - ETA: 36s - loss: 5.9505 - acc: 0.06 - ETA: 36s - loss: 5.9561 - acc: 0.06 - ETA: 36s - loss: 5.9511 - acc: 0.06 - ETA: 35s - loss: 5.9475 - acc: 0.06 - ETA: 35s - loss: 5.9450 - acc: 0.06 - ETA: 35s - loss: 5.9503 - acc: 0.06 - ETA: 35s - loss: 5.9420 - acc: 0.06 - ETA: 35s - loss: 5.9502 - acc: 0.06 - ETA: 35s - loss: 5.9544 - acc: 0.06 - ETA: 34s - loss: 5.9575 - acc: 0.06 - ETA: 34s - loss: 5.9606 - acc: 0.06 - ETA: 34s - loss: 5.9578 - acc: 0.06 - ETA: 34s - loss: 5.9558 - acc: 0.06 - ETA: 34s - loss: 5.9559 - acc: 0.06 - ETA: 33s - loss: 5.9576 - acc: 0.06 - ETA: 33s - loss: 5.9588 - acc: 0.06 - ETA: 33s - loss: 5.9647 - acc: 0.06 - ETA: 33s - loss: 5.9659 - acc: 0.06 - ETA: 33s - loss: 5.9622 - acc: 0.06 - ETA: 33s - loss: 5.9621 - acc: 0.06 - ETA: 33s - loss: 5.9597 - acc: 0.06 - ETA: 32s - loss: 5.9585 - acc: 0.06 - ETA: 32s - loss: 5.9512 - acc: 0.06 - ETA: 32s - loss: 5.9583 - acc: 0.06 - ETA: 32s - loss: 5.9578 - acc: 0.06 - ETA: 32s - loss: 5.9549 - acc: 0.06 - ETA: 32s - loss: 5.9565 - acc: 0.06 - ETA: 31s - loss: 5.9590 - acc: 0.06 - ETA: 31s - loss: 5.9549 - acc: 0.06 - ETA: 31s - loss: 5.9549 - acc: 0.06 - ETA: 31s - loss: 5.9544 - acc: 0.06 - ETA: 31s - loss: 5.9557 - acc: 0.06 - ETA: 31s - loss: 5.9528 - acc: 0.06 - ETA: 30s - loss: 5.9574 - acc: 0.06 - ETA: 30s - loss: 5.9554 - acc: 0.06 - ETA: 30s - loss: 5.9614 - acc: 0.06 - ETA: 30s - loss: 5.9643 - acc: 0.06 - ETA: 30s - loss: 5.9586 - acc: 0.06 - ETA: 29s - loss: 5.9578 - acc: 0.06 - ETA: 29s - loss: 5.9606 - acc: 0.06 - ETA: 29s - loss: 5.9586 - acc: 0.06 - ETA: 29s - loss: 5.9564 - acc: 0.06 - ETA: 29s - loss: 5.9547 - acc: 0.06 - ETA: 28s - loss: 5.9586 - acc: 0.06 - ETA: 28s - loss: 5.9561 - acc: 0.06 - ETA: 28s - loss: 5.9586 - acc: 0.06 - ETA: 28s - loss: 5.9566 - acc: 0.06 - ETA: 28s - loss: 5.9592 - acc: 0.06 - ETA: 27s - loss: 5.9586 - acc: 0.06 - ETA: 27s - loss: 5.9515 - acc: 0.06 - ETA: 27s - loss: 5.9518 - acc: 0.06 - ETA: 27s - loss: 5.9479 - acc: 0.06 - ETA: 27s - loss: 5.9470 - acc: 0.06 - ETA: 26s - loss: 5.9487 - acc: 0.06 - ETA: 26s - loss: 5.9491 - acc: 0.06 - ETA: 26s - loss: 5.9490 - acc: 0.06 - ETA: 26s - loss: 5.9544 - acc: 0.06 - ETA: 26s - loss: 5.9560 - acc: 0.06 - ETA: 25s - loss: 5.9574 - acc: 0.06 - ETA: 25s - loss: 5.9565 - acc: 0.06 - ETA: 25s - loss: 5.9571 - acc: 0.06 - ETA: 25s - loss: 5.9595 - acc: 0.06 - ETA: 25s - loss: 5.9570 - acc: 0.06 - ETA: 25s - loss: 5.9566 - acc: 0.06 - ETA: 24s - loss: 5.9547 - acc: 0.06 - ETA: 24s - loss: 5.9536 - acc: 0.06 - ETA: 24s - loss: 5.9531 - acc: 0.06 - ETA: 24s - loss: 5.9546 - acc: 0.06 - ETA: 24s - loss: 5.9547 - acc: 0.06 - ETA: 23s - loss: 5.9528 - acc: 0.06 - ETA: 23s - loss: 5.9525 - acc: 0.06 - ETA: 23s - loss: 5.9496 - acc: 0.06 - ETA: 23s - loss: 5.9537 - acc: 0.06 - ETA: 23s - loss: 5.9543 - acc: 0.06 - ETA: 22s - loss: 5.9513 - acc: 0.06 - ETA: 22s - loss: 5.9531 - acc: 0.06 - ETA: 22s - loss: 5.9512 - acc: 0.06 - ETA: 22s - loss: 5.9519 - acc: 0.06 - ETA: 22s - loss: 5.9532 - acc: 0.06 - ETA: 21s - loss: 5.9502 - acc: 0.06 - ETA: 21s - loss: 5.9493 - acc: 0.06 - ETA: 21s - loss: 5.9466 - acc: 0.06 - ETA: 21s - loss: 5.9491 - acc: 0.06 - ETA: 21s - loss: 5.9495 - acc: 0.07 - ETA: 21s - loss: 5.9522 - acc: 0.07 - ETA: 20s - loss: 5.9518 - acc: 0.07 - ETA: 20s - loss: 5.9501 - acc: 0.07 - ETA: 20s - loss: 5.9484 - acc: 0.07 - ETA: 20s - loss: 5.9476 - acc: 0.07 - ETA: 20s - loss: 5.9471 - acc: 0.07 - ETA: 19s - loss: 5.9472 - acc: 0.07 - ETA: 19s - loss: 5.9504 - acc: 0.07 - ETA: 19s - loss: 5.9504 - acc: 0.07 - ETA: 19s - loss: 5.9481 - acc: 0.07 - ETA: 19s - loss: 5.9453 - acc: 0.07 - ETA: 18s - loss: 5.9466 - acc: 0.07 - ETA: 18s - loss: 5.9447 - acc: 0.07 - ETA: 18s - loss: 5.9442 - acc: 0.07 - ETA: 18s - loss: 5.9448 - acc: 0.07 - ETA: 18s - loss: 5.9436 - acc: 0.07 - ETA: 17s - loss: 5.9441 - acc: 0.07 - ETA: 17s - loss: 5.9439 - acc: 0.07 - ETA: 17s - loss: 5.9458 - acc: 0.07 - ETA: 17s - loss: 5.9466 - acc: 0.07 - ETA: 17s - loss: 5.9457 - acc: 0.07 - ETA: 17s - loss: 5.9467 - acc: 0.07 - ETA: 16s - loss: 5.9460 - acc: 0.07 - ETA: 16s - loss: 5.9471 - acc: 0.07 - ETA: 16s - loss: 5.9472 - acc: 0.07 - ETA: 16s - loss: 5.9458 - acc: 0.07 - ETA: 16s - loss: 5.9460 - acc: 0.07 - ETA: 15s - loss: 5.9457 - acc: 0.07 - ETA: 15s - loss: 5.9449 - acc: 0.07 - ETA: 15s - loss: 5.9435 - acc: 0.07 - ETA: 15s - loss: 5.9427 - acc: 0.07 - ETA: 15s - loss: 5.9409 - acc: 0.07 - ETA: 15s - loss: 5.9415 - acc: 0.07 - ETA: 14s - loss: 5.9418 - acc: 0.07 - ETA: 14s - loss: 5.9432 - acc: 0.07 - ETA: 14s - loss: 5.9440 - acc: 0.07 - ETA: 14s - loss: 5.9423 - acc: 0.07 - ETA: 14s - loss: 5.9419 - acc: 0.07 - ETA: 13s - loss: 5.9414 - acc: 0.07 - ETA: 13s - loss: 5.9410 - acc: 0.07 - ETA: 13s - loss: 5.9418 - acc: 0.07 - ETA: 13s - loss: 5.9411 - acc: 0.07 - ETA: 13s - loss: 5.9415 - acc: 0.07 - ETA: 12s - loss: 5.9416 - acc: 0.07 - ETA: 12s - loss: 5.9421 - acc: 0.07 - ETA: 12s - loss: 5.9419 - acc: 0.07 - ETA: 12s - loss: 5.9417 - acc: 0.07 - ETA: 12s - loss: 5.9426 - acc: 0.07 - ETA: 11s - loss: 5.9412 - acc: 0.07 - ETA: 11s - loss: 5.9436 - acc: 0.07 - ETA: 11s - loss: 5.9429 - acc: 0.07 - ETA: 11s - loss: 5.9412 - acc: 0.07 - ETA: 11s - loss: 5.9399 - acc: 0.07 - ETA: 11s - loss: 5.9390 - acc: 0.07 - ETA: 10s - loss: 5.9382 - acc: 0.07 - ETA: 10s - loss: 5.9380 - acc: 0.07 - ETA: 10s - loss: 5.9371 - acc: 0.07 - ETA: 10s - loss: 5.9369 - acc: 0.07 - ETA: 10s - loss: 5.9361 - acc: 0.07 - ETA: 9s - loss: 5.9358 - acc: 0.0735 - ETA: 9s - loss: 5.9370 - acc: 0.073 - ETA: 9s - loss: 5.9403 - acc: 0.073 - ETA: 9s - loss: 5.9393 - acc: 0.073 - ETA: 9s - loss: 5.9387 - acc: 0.073 - ETA: 8s - loss: 5.9393 - acc: 0.073 - ETA: 8s - loss: 5.9394 - acc: 0.073 - ETA: 8s - loss: 5.9385 - acc: 0.073 - ETA: 8s - loss: 5.9396 - acc: 0.073 - ETA: 8s - loss: 5.9398 - acc: 0.073 - ETA: 7s - loss: 5.9378 - acc: 0.073 - ETA: 7s - loss: 5.9372 - acc: 0.073 - ETA: 7s - loss: 5.9359 - acc: 0.073 - ETA: 7s - loss: 5.9363 - acc: 0.073 - ETA: 7s - loss: 5.9365 - acc: 0.073 - ETA: 7s - loss: 5.9366 - acc: 0.073 - ETA: 6s - loss: 5.9368 - acc: 0.073 - ETA: 6s - loss: 5.9368 - acc: 0.073 - ETA: 6s - loss: 5.9369 - acc: 0.073 - ETA: 6s - loss: 5.9371 - acc: 0.073 - ETA: 6s - loss: 5.9370 - acc: 0.073 - ETA: 5s - loss: 5.9390 - acc: 0.073 - ETA: 5s - loss: 5.9395 - acc: 0.073 - ETA: 5s - loss: 5.9404 - acc: 0.073 - ETA: 5s - loss: 5.9408 - acc: 0.073 - ETA: 5s - loss: 5.9408 - acc: 0.073 - ETA: 4s - loss: 5.9406 - acc: 0.073 - ETA: 4s - loss: 5.9400 - acc: 0.0729"
     ]
    },
    {
     "name": "stdout",
     "output_type": "stream",
     "text": [
      "30742/30742 [==============================] - ETA: 4s - loss: 5.9392 - acc: 0.073 - ETA: 4s - loss: 5.9390 - acc: 0.073 - ETA: 4s - loss: 5.9406 - acc: 0.073 - ETA: 4s - loss: 5.9399 - acc: 0.073 - ETA: 3s - loss: 5.9374 - acc: 0.073 - ETA: 3s - loss: 5.9391 - acc: 0.073 - ETA: 3s - loss: 5.9407 - acc: 0.072 - ETA: 3s - loss: 5.9404 - acc: 0.072 - ETA: 3s - loss: 5.9415 - acc: 0.072 - ETA: 2s - loss: 5.9409 - acc: 0.073 - ETA: 2s - loss: 5.9393 - acc: 0.073 - ETA: 2s - loss: 5.9392 - acc: 0.073 - ETA: 2s - loss: 5.9382 - acc: 0.073 - ETA: 2s - loss: 5.9396 - acc: 0.073 - ETA: 1s - loss: 5.9380 - acc: 0.073 - ETA: 1s - loss: 5.9398 - acc: 0.073 - ETA: 1s - loss: 5.9386 - acc: 0.073 - ETA: 1s - loss: 5.9368 - acc: 0.073 - ETA: 1s - loss: 5.9350 - acc: 0.073 - ETA: 0s - loss: 5.9337 - acc: 0.073 - ETA: 0s - loss: 5.9339 - acc: 0.073 - ETA: 0s - loss: 5.9352 - acc: 0.073 - ETA: 0s - loss: 5.9352 - acc: 0.073 - ETA: 0s - loss: 5.9347 - acc: 0.073 - ETA: 0s - loss: 5.9353 - acc: 0.073 - 46s 1ms/step - loss: 5.9361 - acc: 0.0735\n",
      "Epoch 5/30\n"
     ]
    },
    {
     "name": "stdout",
     "output_type": "stream",
     "text": [
      "27520/30742 [=========================>....] - ETA: 43s - loss: 5.7081 - acc: 0.07 - ETA: 43s - loss: 5.8141 - acc: 0.08 - ETA: 43s - loss: 5.8817 - acc: 0.07 - ETA: 43s - loss: 5.8225 - acc: 0.08 - ETA: 43s - loss: 5.7862 - acc: 0.08 - ETA: 43s - loss: 5.7857 - acc: 0.08 - ETA: 43s - loss: 5.8132 - acc: 0.08 - ETA: 43s - loss: 5.8419 - acc: 0.08 - ETA: 42s - loss: 5.8606 - acc: 0.07 - ETA: 42s - loss: 5.8476 - acc: 0.07 - ETA: 42s - loss: 5.8320 - acc: 0.07 - ETA: 42s - loss: 5.8310 - acc: 0.07 - ETA: 42s - loss: 5.8562 - acc: 0.07 - ETA: 41s - loss: 5.8667 - acc: 0.07 - ETA: 41s - loss: 5.8596 - acc: 0.07 - ETA: 41s - loss: 5.8679 - acc: 0.07 - ETA: 41s - loss: 5.8728 - acc: 0.07 - ETA: 41s - loss: 5.8722 - acc: 0.07 - ETA: 41s - loss: 5.8734 - acc: 0.07 - ETA: 40s - loss: 5.8597 - acc: 0.07 - ETA: 40s - loss: 5.8509 - acc: 0.07 - ETA: 40s - loss: 5.8329 - acc: 0.07 - ETA: 40s - loss: 5.8362 - acc: 0.07 - ETA: 40s - loss: 5.8307 - acc: 0.07 - ETA: 40s - loss: 5.8392 - acc: 0.07 - ETA: 39s - loss: 5.8325 - acc: 0.07 - ETA: 39s - loss: 5.8407 - acc: 0.07 - ETA: 39s - loss: 5.8392 - acc: 0.07 - ETA: 39s - loss: 5.8357 - acc: 0.07 - ETA: 39s - loss: 5.8271 - acc: 0.07 - ETA: 38s - loss: 5.8254 - acc: 0.07 - ETA: 38s - loss: 5.8258 - acc: 0.07 - ETA: 38s - loss: 5.8232 - acc: 0.07 - ETA: 38s - loss: 5.8066 - acc: 0.07 - ETA: 38s - loss: 5.8037 - acc: 0.07 - ETA: 38s - loss: 5.7998 - acc: 0.07 - ETA: 37s - loss: 5.7954 - acc: 0.07 - ETA: 37s - loss: 5.8039 - acc: 0.07 - ETA: 37s - loss: 5.7960 - acc: 0.07 - ETA: 37s - loss: 5.7957 - acc: 0.07 - ETA: 37s - loss: 5.8037 - acc: 0.07 - ETA: 36s - loss: 5.8106 - acc: 0.07 - ETA: 36s - loss: 5.8068 - acc: 0.07 - ETA: 36s - loss: 5.8089 - acc: 0.07 - ETA: 36s - loss: 5.8100 - acc: 0.07 - ETA: 36s - loss: 5.8083 - acc: 0.07 - ETA: 36s - loss: 5.8152 - acc: 0.07 - ETA: 35s - loss: 5.8162 - acc: 0.07 - ETA: 35s - loss: 5.8109 - acc: 0.07 - ETA: 35s - loss: 5.8069 - acc: 0.07 - ETA: 35s - loss: 5.8070 - acc: 0.07 - ETA: 35s - loss: 5.8041 - acc: 0.07 - ETA: 34s - loss: 5.8101 - acc: 0.07 - ETA: 34s - loss: 5.8125 - acc: 0.07 - ETA: 34s - loss: 5.8101 - acc: 0.07 - ETA: 34s - loss: 5.8042 - acc: 0.07 - ETA: 34s - loss: 5.8035 - acc: 0.07 - ETA: 34s - loss: 5.8051 - acc: 0.07 - ETA: 33s - loss: 5.8088 - acc: 0.07 - ETA: 33s - loss: 5.8005 - acc: 0.07 - ETA: 33s - loss: 5.8011 - acc: 0.07 - ETA: 33s - loss: 5.8006 - acc: 0.07 - ETA: 33s - loss: 5.7968 - acc: 0.07 - ETA: 32s - loss: 5.7977 - acc: 0.07 - ETA: 32s - loss: 5.7969 - acc: 0.07 - ETA: 32s - loss: 5.7996 - acc: 0.07 - ETA: 32s - loss: 5.8023 - acc: 0.07 - ETA: 32s - loss: 5.8021 - acc: 0.07 - ETA: 32s - loss: 5.8000 - acc: 0.07 - ETA: 31s - loss: 5.8012 - acc: 0.07 - ETA: 31s - loss: 5.8058 - acc: 0.07 - ETA: 31s - loss: 5.8095 - acc: 0.07 - ETA: 31s - loss: 5.8112 - acc: 0.07 - ETA: 31s - loss: 5.8096 - acc: 0.07 - ETA: 30s - loss: 5.8119 - acc: 0.07 - ETA: 30s - loss: 5.8121 - acc: 0.07 - ETA: 30s - loss: 5.8154 - acc: 0.07 - ETA: 30s - loss: 5.8168 - acc: 0.07 - ETA: 30s - loss: 5.8161 - acc: 0.07 - ETA: 30s - loss: 5.8164 - acc: 0.07 - ETA: 29s - loss: 5.8176 - acc: 0.07 - ETA: 29s - loss: 5.8141 - acc: 0.07 - ETA: 29s - loss: 5.8154 - acc: 0.07 - ETA: 29s - loss: 5.8143 - acc: 0.07 - ETA: 29s - loss: 5.8130 - acc: 0.07 - ETA: 28s - loss: 5.8130 - acc: 0.07 - ETA: 28s - loss: 5.8105 - acc: 0.07 - ETA: 28s - loss: 5.8140 - acc: 0.07 - ETA: 28s - loss: 5.8147 - acc: 0.07 - ETA: 28s - loss: 5.8164 - acc: 0.07 - ETA: 28s - loss: 5.8123 - acc: 0.07 - ETA: 27s - loss: 5.8138 - acc: 0.07 - ETA: 27s - loss: 5.8131 - acc: 0.07 - ETA: 27s - loss: 5.8128 - acc: 0.07 - ETA: 27s - loss: 5.8116 - acc: 0.07 - ETA: 27s - loss: 5.8139 - acc: 0.07 - ETA: 26s - loss: 5.8150 - acc: 0.07 - ETA: 26s - loss: 5.8174 - acc: 0.07 - ETA: 26s - loss: 5.8154 - acc: 0.07 - ETA: 26s - loss: 5.8195 - acc: 0.07 - ETA: 26s - loss: 5.8193 - acc: 0.07 - ETA: 25s - loss: 5.8193 - acc: 0.07 - ETA: 25s - loss: 5.8188 - acc: 0.07 - ETA: 25s - loss: 5.8176 - acc: 0.07 - ETA: 25s - loss: 5.8201 - acc: 0.07 - ETA: 25s - loss: 5.8221 - acc: 0.07 - ETA: 25s - loss: 5.8231 - acc: 0.07 - ETA: 24s - loss: 5.8226 - acc: 0.07 - ETA: 24s - loss: 5.8270 - acc: 0.07 - ETA: 24s - loss: 5.8272 - acc: 0.07 - ETA: 24s - loss: 5.8279 - acc: 0.07 - ETA: 24s - loss: 5.8259 - acc: 0.07 - ETA: 23s - loss: 5.8282 - acc: 0.07 - ETA: 23s - loss: 5.8255 - acc: 0.07 - ETA: 23s - loss: 5.8253 - acc: 0.07 - ETA: 23s - loss: 5.8259 - acc: 0.07 - ETA: 23s - loss: 5.8229 - acc: 0.07 - ETA: 22s - loss: 5.8224 - acc: 0.07 - ETA: 22s - loss: 5.8241 - acc: 0.07 - ETA: 22s - loss: 5.8235 - acc: 0.07 - ETA: 22s - loss: 5.8256 - acc: 0.07 - ETA: 22s - loss: 5.8251 - acc: 0.07 - ETA: 22s - loss: 5.8229 - acc: 0.07 - ETA: 21s - loss: 5.8217 - acc: 0.07 - ETA: 21s - loss: 5.8208 - acc: 0.07 - ETA: 21s - loss: 5.8179 - acc: 0.07 - ETA: 21s - loss: 5.8184 - acc: 0.07 - ETA: 21s - loss: 5.8191 - acc: 0.07 - ETA: 20s - loss: 5.8187 - acc: 0.07 - ETA: 20s - loss: 5.8177 - acc: 0.07 - ETA: 20s - loss: 5.8176 - acc: 0.07 - ETA: 20s - loss: 5.8193 - acc: 0.07 - ETA: 20s - loss: 5.8190 - acc: 0.07 - ETA: 19s - loss: 5.8188 - acc: 0.07 - ETA: 19s - loss: 5.8215 - acc: 0.07 - ETA: 19s - loss: 5.8218 - acc: 0.07 - ETA: 19s - loss: 5.8220 - acc: 0.07 - ETA: 19s - loss: 5.8191 - acc: 0.07 - ETA: 19s - loss: 5.8211 - acc: 0.07 - ETA: 18s - loss: 5.8207 - acc: 0.07 - ETA: 18s - loss: 5.8198 - acc: 0.07 - ETA: 18s - loss: 5.8177 - acc: 0.07 - ETA: 18s - loss: 5.8167 - acc: 0.07 - ETA: 18s - loss: 5.8198 - acc: 0.07 - ETA: 17s - loss: 5.8192 - acc: 0.07 - ETA: 17s - loss: 5.8205 - acc: 0.07 - ETA: 17s - loss: 5.8197 - acc: 0.07 - ETA: 17s - loss: 5.8191 - acc: 0.07 - ETA: 17s - loss: 5.8184 - acc: 0.07 - ETA: 16s - loss: 5.8197 - acc: 0.07 - ETA: 16s - loss: 5.8202 - acc: 0.07 - ETA: 16s - loss: 5.8196 - acc: 0.07 - ETA: 16s - loss: 5.8188 - acc: 0.07 - ETA: 16s - loss: 5.8200 - acc: 0.07 - ETA: 16s - loss: 5.8211 - acc: 0.07 - ETA: 15s - loss: 5.8231 - acc: 0.07 - ETA: 15s - loss: 5.8243 - acc: 0.07 - ETA: 15s - loss: 5.8258 - acc: 0.07 - ETA: 15s - loss: 5.8275 - acc: 0.07 - ETA: 15s - loss: 5.8245 - acc: 0.07 - ETA: 14s - loss: 5.8255 - acc: 0.07 - ETA: 14s - loss: 5.8240 - acc: 0.07 - ETA: 14s - loss: 5.8243 - acc: 0.07 - ETA: 14s - loss: 5.8249 - acc: 0.07 - ETA: 14s - loss: 5.8248 - acc: 0.07 - ETA: 13s - loss: 5.8240 - acc: 0.07 - ETA: 13s - loss: 5.8222 - acc: 0.07 - ETA: 13s - loss: 5.8210 - acc: 0.07 - ETA: 13s - loss: 5.8213 - acc: 0.07 - ETA: 13s - loss: 5.8226 - acc: 0.07 - ETA: 13s - loss: 5.8244 - acc: 0.07 - ETA: 12s - loss: 5.8229 - acc: 0.07 - ETA: 12s - loss: 5.8233 - acc: 0.07 - ETA: 12s - loss: 5.8227 - acc: 0.07 - ETA: 12s - loss: 5.8233 - acc: 0.07 - ETA: 12s - loss: 5.8213 - acc: 0.07 - ETA: 11s - loss: 5.8231 - acc: 0.07 - ETA: 11s - loss: 5.8228 - acc: 0.07 - ETA: 11s - loss: 5.8234 - acc: 0.07 - ETA: 11s - loss: 5.8238 - acc: 0.07 - ETA: 11s - loss: 5.8246 - acc: 0.07 - ETA: 10s - loss: 5.8251 - acc: 0.07 - ETA: 10s - loss: 5.8252 - acc: 0.07 - ETA: 10s - loss: 5.8225 - acc: 0.07 - ETA: 10s - loss: 5.8248 - acc: 0.07 - ETA: 10s - loss: 5.8268 - acc: 0.07 - ETA: 10s - loss: 5.8259 - acc: 0.07 - ETA: 9s - loss: 5.8268 - acc: 0.0768 - ETA: 9s - loss: 5.8285 - acc: 0.076 - ETA: 9s - loss: 5.8264 - acc: 0.076 - ETA: 9s - loss: 5.8265 - acc: 0.076 - ETA: 9s - loss: 5.8263 - acc: 0.076 - ETA: 8s - loss: 5.8283 - acc: 0.076 - ETA: 8s - loss: 5.8281 - acc: 0.076 - ETA: 8s - loss: 5.8291 - acc: 0.076 - ETA: 8s - loss: 5.8297 - acc: 0.076 - ETA: 8s - loss: 5.8263 - acc: 0.076 - ETA: 7s - loss: 5.8276 - acc: 0.077 - ETA: 7s - loss: 5.8266 - acc: 0.077 - ETA: 7s - loss: 5.8262 - acc: 0.077 - ETA: 7s - loss: 5.8261 - acc: 0.077 - ETA: 7s - loss: 5.8248 - acc: 0.077 - ETA: 7s - loss: 5.8245 - acc: 0.077 - ETA: 6s - loss: 5.8247 - acc: 0.077 - ETA: 6s - loss: 5.8258 - acc: 0.076 - ETA: 6s - loss: 5.8249 - acc: 0.076 - ETA: 6s - loss: 5.8251 - acc: 0.076 - ETA: 6s - loss: 5.8254 - acc: 0.076 - ETA: 5s - loss: 5.8246 - acc: 0.076 - ETA: 5s - loss: 5.8260 - acc: 0.076 - ETA: 5s - loss: 5.8279 - acc: 0.076 - ETA: 5s - loss: 5.8285 - acc: 0.076 - ETA: 5s - loss: 5.8290 - acc: 0.076 - ETA: 4s - loss: 5.8289 - acc: 0.076 - ETA: 4s - loss: 5.8288 - acc: 0.0764"
     ]
    },
    {
     "name": "stdout",
     "output_type": "stream",
     "text": [
      "30742/30742 [==============================] - ETA: 4s - loss: 5.8280 - acc: 0.076 - ETA: 4s - loss: 5.8272 - acc: 0.076 - ETA: 4s - loss: 5.8285 - acc: 0.076 - ETA: 3s - loss: 5.8284 - acc: 0.076 - ETA: 3s - loss: 5.8295 - acc: 0.076 - ETA: 3s - loss: 5.8301 - acc: 0.076 - ETA: 3s - loss: 5.8313 - acc: 0.076 - ETA: 3s - loss: 5.8311 - acc: 0.076 - ETA: 3s - loss: 5.8312 - acc: 0.076 - ETA: 2s - loss: 5.8306 - acc: 0.076 - ETA: 2s - loss: 5.8297 - acc: 0.076 - ETA: 2s - loss: 5.8298 - acc: 0.076 - ETA: 2s - loss: 5.8293 - acc: 0.076 - ETA: 2s - loss: 5.8295 - acc: 0.076 - ETA: 1s - loss: 5.8304 - acc: 0.076 - ETA: 1s - loss: 5.8298 - acc: 0.076 - ETA: 1s - loss: 5.8299 - acc: 0.076 - ETA: 1s - loss: 5.8302 - acc: 0.076 - ETA: 1s - loss: 5.8294 - acc: 0.076 - ETA: 0s - loss: 5.8295 - acc: 0.076 - ETA: 0s - loss: 5.8289 - acc: 0.076 - ETA: 0s - loss: 5.8295 - acc: 0.076 - ETA: 0s - loss: 5.8308 - acc: 0.076 - ETA: 0s - loss: 5.8317 - acc: 0.076 - ETA: 0s - loss: 5.8337 - acc: 0.076 - 45s 1ms/step - loss: 5.8345 - acc: 0.0761\n",
      "Epoch 6/30\n"
     ]
    },
    {
     "name": "stdout",
     "output_type": "stream",
     "text": [
      "27520/30742 [=========================>....] - ETA: 44s - loss: 5.6806 - acc: 0.06 - ETA: 44s - loss: 5.4576 - acc: 0.09 - ETA: 43s - loss: 5.5169 - acc: 0.10 - ETA: 44s - loss: 5.5688 - acc: 0.09 - ETA: 43s - loss: 5.5664 - acc: 0.09 - ETA: 43s - loss: 5.6316 - acc: 0.09 - ETA: 43s - loss: 5.6774 - acc: 0.09 - ETA: 42s - loss: 5.6619 - acc: 0.09 - ETA: 42s - loss: 5.6879 - acc: 0.09 - ETA: 42s - loss: 5.6799 - acc: 0.09 - ETA: 42s - loss: 5.6758 - acc: 0.09 - ETA: 42s - loss: 5.6659 - acc: 0.09 - ETA: 42s - loss: 5.6772 - acc: 0.09 - ETA: 42s - loss: 5.6902 - acc: 0.08 - ETA: 41s - loss: 5.6980 - acc: 0.08 - ETA: 41s - loss: 5.7097 - acc: 0.08 - ETA: 41s - loss: 5.7057 - acc: 0.08 - ETA: 41s - loss: 5.6991 - acc: 0.08 - ETA: 41s - loss: 5.7174 - acc: 0.08 - ETA: 40s - loss: 5.7204 - acc: 0.08 - ETA: 40s - loss: 5.7029 - acc: 0.08 - ETA: 40s - loss: 5.7160 - acc: 0.08 - ETA: 40s - loss: 5.7234 - acc: 0.08 - ETA: 40s - loss: 5.7257 - acc: 0.08 - ETA: 39s - loss: 5.7388 - acc: 0.08 - ETA: 39s - loss: 5.7402 - acc: 0.07 - ETA: 39s - loss: 5.7486 - acc: 0.07 - ETA: 39s - loss: 5.7422 - acc: 0.07 - ETA: 39s - loss: 5.7409 - acc: 0.07 - ETA: 39s - loss: 5.7251 - acc: 0.07 - ETA: 38s - loss: 5.7309 - acc: 0.07 - ETA: 38s - loss: 5.7467 - acc: 0.07 - ETA: 38s - loss: 5.7422 - acc: 0.07 - ETA: 38s - loss: 5.7273 - acc: 0.07 - ETA: 38s - loss: 5.7250 - acc: 0.07 - ETA: 37s - loss: 5.7394 - acc: 0.07 - ETA: 37s - loss: 5.7409 - acc: 0.07 - ETA: 37s - loss: 5.7405 - acc: 0.07 - ETA: 37s - loss: 5.7358 - acc: 0.07 - ETA: 37s - loss: 5.7337 - acc: 0.07 - ETA: 37s - loss: 5.7265 - acc: 0.08 - ETA: 36s - loss: 5.7180 - acc: 0.08 - ETA: 36s - loss: 5.7124 - acc: 0.07 - ETA: 36s - loss: 5.7153 - acc: 0.07 - ETA: 36s - loss: 5.7194 - acc: 0.07 - ETA: 36s - loss: 5.7183 - acc: 0.07 - ETA: 36s - loss: 5.7204 - acc: 0.07 - ETA: 35s - loss: 5.7114 - acc: 0.07 - ETA: 35s - loss: 5.7118 - acc: 0.07 - ETA: 35s - loss: 5.7083 - acc: 0.07 - ETA: 35s - loss: 5.7121 - acc: 0.07 - ETA: 35s - loss: 5.7080 - acc: 0.07 - ETA: 34s - loss: 5.7104 - acc: 0.07 - ETA: 34s - loss: 5.7133 - acc: 0.07 - ETA: 34s - loss: 5.7146 - acc: 0.07 - ETA: 34s - loss: 5.7138 - acc: 0.07 - ETA: 34s - loss: 5.7113 - acc: 0.07 - ETA: 34s - loss: 5.7041 - acc: 0.07 - ETA: 33s - loss: 5.7032 - acc: 0.07 - ETA: 33s - loss: 5.7018 - acc: 0.07 - ETA: 33s - loss: 5.7008 - acc: 0.07 - ETA: 33s - loss: 5.7007 - acc: 0.07 - ETA: 33s - loss: 5.7068 - acc: 0.07 - ETA: 32s - loss: 5.7055 - acc: 0.07 - ETA: 32s - loss: 5.7075 - acc: 0.07 - ETA: 32s - loss: 5.7026 - acc: 0.07 - ETA: 32s - loss: 5.6948 - acc: 0.07 - ETA: 32s - loss: 5.6947 - acc: 0.07 - ETA: 32s - loss: 5.6968 - acc: 0.07 - ETA: 31s - loss: 5.7004 - acc: 0.07 - ETA: 31s - loss: 5.6999 - acc: 0.07 - ETA: 31s - loss: 5.6945 - acc: 0.08 - ETA: 31s - loss: 5.6960 - acc: 0.07 - ETA: 31s - loss: 5.6965 - acc: 0.07 - ETA: 31s - loss: 5.6979 - acc: 0.08 - ETA: 30s - loss: 5.6994 - acc: 0.08 - ETA: 30s - loss: 5.7009 - acc: 0.08 - ETA: 30s - loss: 5.7020 - acc: 0.08 - ETA: 30s - loss: 5.7033 - acc: 0.08 - ETA: 30s - loss: 5.7064 - acc: 0.08 - ETA: 29s - loss: 5.7110 - acc: 0.08 - ETA: 29s - loss: 5.7146 - acc: 0.08 - ETA: 29s - loss: 5.7165 - acc: 0.08 - ETA: 29s - loss: 5.7136 - acc: 0.08 - ETA: 29s - loss: 5.7133 - acc: 0.08 - ETA: 28s - loss: 5.7105 - acc: 0.07 - ETA: 28s - loss: 5.7106 - acc: 0.07 - ETA: 28s - loss: 5.7064 - acc: 0.07 - ETA: 28s - loss: 5.7087 - acc: 0.07 - ETA: 28s - loss: 5.7134 - acc: 0.07 - ETA: 28s - loss: 5.7111 - acc: 0.07 - ETA: 27s - loss: 5.7112 - acc: 0.07 - ETA: 27s - loss: 5.7128 - acc: 0.07 - ETA: 27s - loss: 5.7123 - acc: 0.07 - ETA: 27s - loss: 5.7114 - acc: 0.07 - ETA: 27s - loss: 5.7111 - acc: 0.07 - ETA: 26s - loss: 5.7137 - acc: 0.07 - ETA: 26s - loss: 5.7165 - acc: 0.07 - ETA: 26s - loss: 5.7176 - acc: 0.07 - ETA: 26s - loss: 5.7192 - acc: 0.07 - ETA: 26s - loss: 5.7203 - acc: 0.08 - ETA: 25s - loss: 5.7184 - acc: 0.08 - ETA: 25s - loss: 5.7169 - acc: 0.08 - ETA: 25s - loss: 5.7176 - acc: 0.08 - ETA: 25s - loss: 5.7200 - acc: 0.08 - ETA: 25s - loss: 5.7184 - acc: 0.08 - ETA: 25s - loss: 5.7189 - acc: 0.08 - ETA: 24s - loss: 5.7173 - acc: 0.08 - ETA: 24s - loss: 5.7196 - acc: 0.08 - ETA: 24s - loss: 5.7168 - acc: 0.08 - ETA: 24s - loss: 5.7190 - acc: 0.08 - ETA: 24s - loss: 5.7157 - acc: 0.08 - ETA: 23s - loss: 5.7188 - acc: 0.08 - ETA: 23s - loss: 5.7200 - acc: 0.08 - ETA: 23s - loss: 5.7203 - acc: 0.08 - ETA: 23s - loss: 5.7217 - acc: 0.08 - ETA: 23s - loss: 5.7218 - acc: 0.08 - ETA: 22s - loss: 5.7251 - acc: 0.07 - ETA: 22s - loss: 5.7274 - acc: 0.07 - ETA: 22s - loss: 5.7275 - acc: 0.07 - ETA: 22s - loss: 5.7305 - acc: 0.07 - ETA: 22s - loss: 5.7290 - acc: 0.07 - ETA: 22s - loss: 5.7268 - acc: 0.07 - ETA: 21s - loss: 5.7241 - acc: 0.07 - ETA: 21s - loss: 5.7230 - acc: 0.07 - ETA: 21s - loss: 5.7238 - acc: 0.08 - ETA: 21s - loss: 5.7234 - acc: 0.08 - ETA: 21s - loss: 5.7236 - acc: 0.07 - ETA: 20s - loss: 5.7258 - acc: 0.08 - ETA: 20s - loss: 5.7245 - acc: 0.08 - ETA: 20s - loss: 5.7264 - acc: 0.08 - ETA: 20s - loss: 5.7262 - acc: 0.08 - ETA: 20s - loss: 5.7270 - acc: 0.08 - ETA: 19s - loss: 5.7262 - acc: 0.08 - ETA: 19s - loss: 5.7252 - acc: 0.08 - ETA: 19s - loss: 5.7255 - acc: 0.08 - ETA: 19s - loss: 5.7276 - acc: 0.07 - ETA: 19s - loss: 5.7288 - acc: 0.07 - ETA: 19s - loss: 5.7287 - acc: 0.07 - ETA: 18s - loss: 5.7287 - acc: 0.08 - ETA: 18s - loss: 5.7292 - acc: 0.08 - ETA: 18s - loss: 5.7293 - acc: 0.08 - ETA: 18s - loss: 5.7307 - acc: 0.08 - ETA: 18s - loss: 5.7305 - acc: 0.08 - ETA: 17s - loss: 5.7317 - acc: 0.08 - ETA: 17s - loss: 5.7297 - acc: 0.08 - ETA: 17s - loss: 5.7300 - acc: 0.08 - ETA: 17s - loss: 5.7312 - acc: 0.08 - ETA: 17s - loss: 5.7285 - acc: 0.08 - ETA: 16s - loss: 5.7276 - acc: 0.08 - ETA: 16s - loss: 5.7296 - acc: 0.08 - ETA: 16s - loss: 5.7310 - acc: 0.07 - ETA: 16s - loss: 5.7304 - acc: 0.07 - ETA: 16s - loss: 5.7311 - acc: 0.08 - ETA: 16s - loss: 5.7338 - acc: 0.07 - ETA: 15s - loss: 5.7336 - acc: 0.07 - ETA: 15s - loss: 5.7347 - acc: 0.07 - ETA: 15s - loss: 5.7351 - acc: 0.07 - ETA: 15s - loss: 5.7336 - acc: 0.07 - ETA: 15s - loss: 5.7350 - acc: 0.07 - ETA: 14s - loss: 5.7379 - acc: 0.07 - ETA: 14s - loss: 5.7373 - acc: 0.07 - ETA: 14s - loss: 5.7367 - acc: 0.07 - ETA: 14s - loss: 5.7385 - acc: 0.07 - ETA: 14s - loss: 5.7402 - acc: 0.07 - ETA: 13s - loss: 5.7410 - acc: 0.07 - ETA: 13s - loss: 5.7395 - acc: 0.07 - ETA: 13s - loss: 5.7380 - acc: 0.07 - ETA: 13s - loss: 5.7379 - acc: 0.07 - ETA: 13s - loss: 5.7398 - acc: 0.07 - ETA: 13s - loss: 5.7387 - acc: 0.07 - ETA: 12s - loss: 5.7389 - acc: 0.07 - ETA: 12s - loss: 5.7387 - acc: 0.07 - ETA: 12s - loss: 5.7379 - acc: 0.07 - ETA: 12s - loss: 5.7369 - acc: 0.07 - ETA: 12s - loss: 5.7378 - acc: 0.07 - ETA: 11s - loss: 5.7406 - acc: 0.07 - ETA: 11s - loss: 5.7398 - acc: 0.07 - ETA: 11s - loss: 5.7391 - acc: 0.07 - ETA: 11s - loss: 5.7386 - acc: 0.07 - ETA: 11s - loss: 5.7410 - acc: 0.07 - ETA: 10s - loss: 5.7396 - acc: 0.07 - ETA: 10s - loss: 5.7413 - acc: 0.07 - ETA: 10s - loss: 5.7412 - acc: 0.07 - ETA: 10s - loss: 5.7434 - acc: 0.07 - ETA: 10s - loss: 5.7432 - acc: 0.07 - ETA: 10s - loss: 5.7451 - acc: 0.07 - ETA: 9s - loss: 5.7443 - acc: 0.0785 - ETA: 9s - loss: 5.7451 - acc: 0.078 - ETA: 9s - loss: 5.7459 - acc: 0.078 - ETA: 9s - loss: 5.7465 - acc: 0.078 - ETA: 9s - loss: 5.7456 - acc: 0.078 - ETA: 8s - loss: 5.7459 - acc: 0.078 - ETA: 8s - loss: 5.7458 - acc: 0.078 - ETA: 8s - loss: 5.7444 - acc: 0.079 - ETA: 8s - loss: 5.7444 - acc: 0.079 - ETA: 8s - loss: 5.7441 - acc: 0.079 - ETA: 7s - loss: 5.7433 - acc: 0.079 - ETA: 7s - loss: 5.7421 - acc: 0.079 - ETA: 7s - loss: 5.7421 - acc: 0.078 - ETA: 7s - loss: 5.7416 - acc: 0.078 - ETA: 7s - loss: 5.7436 - acc: 0.078 - ETA: 7s - loss: 5.7446 - acc: 0.079 - ETA: 6s - loss: 5.7458 - acc: 0.078 - ETA: 6s - loss: 5.7465 - acc: 0.078 - ETA: 6s - loss: 5.7477 - acc: 0.078 - ETA: 6s - loss: 5.7487 - acc: 0.078 - ETA: 6s - loss: 5.7488 - acc: 0.078 - ETA: 5s - loss: 5.7481 - acc: 0.078 - ETA: 5s - loss: 5.7453 - acc: 0.079 - ETA: 5s - loss: 5.7430 - acc: 0.079 - ETA: 5s - loss: 5.7434 - acc: 0.079 - ETA: 5s - loss: 5.7449 - acc: 0.079 - ETA: 4s - loss: 5.7465 - acc: 0.079 - ETA: 4s - loss: 5.7469 - acc: 0.0791"
     ]
    },
    {
     "name": "stdout",
     "output_type": "stream",
     "text": [
      "30742/30742 [==============================] - ETA: 4s - loss: 5.7484 - acc: 0.079 - ETA: 4s - loss: 5.7489 - acc: 0.079 - ETA: 4s - loss: 5.7500 - acc: 0.079 - ETA: 4s - loss: 5.7501 - acc: 0.079 - ETA: 3s - loss: 5.7512 - acc: 0.079 - ETA: 3s - loss: 5.7511 - acc: 0.079 - ETA: 3s - loss: 5.7492 - acc: 0.079 - ETA: 3s - loss: 5.7498 - acc: 0.079 - ETA: 3s - loss: 5.7498 - acc: 0.079 - ETA: 2s - loss: 5.7492 - acc: 0.079 - ETA: 2s - loss: 5.7486 - acc: 0.079 - ETA: 2s - loss: 5.7477 - acc: 0.079 - ETA: 2s - loss: 5.7475 - acc: 0.079 - ETA: 2s - loss: 5.7486 - acc: 0.079 - ETA: 1s - loss: 5.7486 - acc: 0.079 - ETA: 1s - loss: 5.7497 - acc: 0.079 - ETA: 1s - loss: 5.7507 - acc: 0.079 - ETA: 1s - loss: 5.7522 - acc: 0.079 - ETA: 1s - loss: 5.7516 - acc: 0.079 - ETA: 0s - loss: 5.7517 - acc: 0.079 - ETA: 0s - loss: 5.7516 - acc: 0.079 - ETA: 0s - loss: 5.7522 - acc: 0.079 - ETA: 0s - loss: 5.7515 - acc: 0.079 - ETA: 0s - loss: 5.7529 - acc: 0.079 - ETA: 0s - loss: 5.7519 - acc: 0.079 - 45s 1ms/step - loss: 5.7520 - acc: 0.0798\n",
      "Epoch 7/30\n"
     ]
    },
    {
     "name": "stdout",
     "output_type": "stream",
     "text": [
      "27520/30742 [=========================>....] - ETA: 43s - loss: 5.3948 - acc: 0.10 - ETA: 43s - loss: 5.5428 - acc: 0.08 - ETA: 43s - loss: 5.5339 - acc: 0.08 - ETA: 43s - loss: 5.4973 - acc: 0.08 - ETA: 43s - loss: 5.4580 - acc: 0.08 - ETA: 43s - loss: 5.4850 - acc: 0.08 - ETA: 43s - loss: 5.5303 - acc: 0.08 - ETA: 42s - loss: 5.5344 - acc: 0.08 - ETA: 42s - loss: 5.5210 - acc: 0.08 - ETA: 42s - loss: 5.5429 - acc: 0.08 - ETA: 42s - loss: 5.5419 - acc: 0.08 - ETA: 42s - loss: 5.5436 - acc: 0.08 - ETA: 42s - loss: 5.5546 - acc: 0.08 - ETA: 41s - loss: 5.5693 - acc: 0.08 - ETA: 41s - loss: 5.5787 - acc: 0.08 - ETA: 41s - loss: 5.5988 - acc: 0.08 - ETA: 41s - loss: 5.5864 - acc: 0.08 - ETA: 41s - loss: 5.6014 - acc: 0.08 - ETA: 41s - loss: 5.6213 - acc: 0.08 - ETA: 40s - loss: 5.6323 - acc: 0.08 - ETA: 40s - loss: 5.6289 - acc: 0.08 - ETA: 40s - loss: 5.6344 - acc: 0.08 - ETA: 40s - loss: 5.6383 - acc: 0.08 - ETA: 40s - loss: 5.6431 - acc: 0.08 - ETA: 39s - loss: 5.6468 - acc: 0.08 - ETA: 39s - loss: 5.6371 - acc: 0.08 - ETA: 39s - loss: 5.6332 - acc: 0.08 - ETA: 39s - loss: 5.6386 - acc: 0.08 - ETA: 39s - loss: 5.6365 - acc: 0.08 - ETA: 39s - loss: 5.6388 - acc: 0.08 - ETA: 39s - loss: 5.6450 - acc: 0.08 - ETA: 39s - loss: 5.6533 - acc: 0.08 - ETA: 38s - loss: 5.6533 - acc: 0.08 - ETA: 38s - loss: 5.6548 - acc: 0.08 - ETA: 38s - loss: 5.6494 - acc: 0.08 - ETA: 38s - loss: 5.6490 - acc: 0.08 - ETA: 38s - loss: 5.6432 - acc: 0.08 - ETA: 37s - loss: 5.6412 - acc: 0.08 - ETA: 37s - loss: 5.6451 - acc: 0.08 - ETA: 37s - loss: 5.6465 - acc: 0.08 - ETA: 37s - loss: 5.6545 - acc: 0.08 - ETA: 37s - loss: 5.6493 - acc: 0.08 - ETA: 37s - loss: 5.6501 - acc: 0.08 - ETA: 37s - loss: 5.6511 - acc: 0.08 - ETA: 37s - loss: 5.6499 - acc: 0.08 - ETA: 37s - loss: 5.6545 - acc: 0.08 - ETA: 37s - loss: 5.6547 - acc: 0.08 - ETA: 36s - loss: 5.6577 - acc: 0.08 - ETA: 36s - loss: 5.6630 - acc: 0.08 - ETA: 36s - loss: 5.6650 - acc: 0.08 - ETA: 36s - loss: 5.6566 - acc: 0.08 - ETA: 36s - loss: 5.6610 - acc: 0.08 - ETA: 35s - loss: 5.6636 - acc: 0.08 - ETA: 35s - loss: 5.6593 - acc: 0.08 - ETA: 35s - loss: 5.6592 - acc: 0.08 - ETA: 35s - loss: 5.6615 - acc: 0.08 - ETA: 35s - loss: 5.6580 - acc: 0.08 - ETA: 34s - loss: 5.6581 - acc: 0.08 - ETA: 34s - loss: 5.6586 - acc: 0.08 - ETA: 34s - loss: 5.6599 - acc: 0.08 - ETA: 34s - loss: 5.6558 - acc: 0.08 - ETA: 34s - loss: 5.6528 - acc: 0.08 - ETA: 33s - loss: 5.6548 - acc: 0.08 - ETA: 33s - loss: 5.6536 - acc: 0.08 - ETA: 33s - loss: 5.6526 - acc: 0.08 - ETA: 33s - loss: 5.6533 - acc: 0.08 - ETA: 33s - loss: 5.6561 - acc: 0.08 - ETA: 33s - loss: 5.6572 - acc: 0.08 - ETA: 32s - loss: 5.6541 - acc: 0.08 - ETA: 32s - loss: 5.6547 - acc: 0.08 - ETA: 32s - loss: 5.6570 - acc: 0.08 - ETA: 32s - loss: 5.6655 - acc: 0.08 - ETA: 32s - loss: 5.6639 - acc: 0.08 - ETA: 31s - loss: 5.6654 - acc: 0.08 - ETA: 31s - loss: 5.6643 - acc: 0.08 - ETA: 31s - loss: 5.6614 - acc: 0.08 - ETA: 31s - loss: 5.6592 - acc: 0.08 - ETA: 31s - loss: 5.6543 - acc: 0.08 - ETA: 30s - loss: 5.6593 - acc: 0.08 - ETA: 30s - loss: 5.6655 - acc: 0.08 - ETA: 30s - loss: 5.6667 - acc: 0.08 - ETA: 30s - loss: 5.6681 - acc: 0.08 - ETA: 30s - loss: 5.6685 - acc: 0.08 - ETA: 29s - loss: 5.6633 - acc: 0.08 - ETA: 29s - loss: 5.6636 - acc: 0.08 - ETA: 29s - loss: 5.6646 - acc: 0.08 - ETA: 29s - loss: 5.6642 - acc: 0.08 - ETA: 29s - loss: 5.6647 - acc: 0.08 - ETA: 28s - loss: 5.6628 - acc: 0.08 - ETA: 28s - loss: 5.6602 - acc: 0.08 - ETA: 28s - loss: 5.6552 - acc: 0.08 - ETA: 28s - loss: 5.6520 - acc: 0.08 - ETA: 28s - loss: 5.6547 - acc: 0.08 - ETA: 28s - loss: 5.6535 - acc: 0.08 - ETA: 27s - loss: 5.6486 - acc: 0.08 - ETA: 27s - loss: 5.6493 - acc: 0.08 - ETA: 27s - loss: 5.6500 - acc: 0.08 - ETA: 27s - loss: 5.6488 - acc: 0.08 - ETA: 27s - loss: 5.6509 - acc: 0.08 - ETA: 27s - loss: 5.6487 - acc: 0.08 - ETA: 26s - loss: 5.6458 - acc: 0.08 - ETA: 26s - loss: 5.6463 - acc: 0.08 - ETA: 26s - loss: 5.6466 - acc: 0.08 - ETA: 26s - loss: 5.6462 - acc: 0.08 - ETA: 26s - loss: 5.6489 - acc: 0.08 - ETA: 25s - loss: 5.6496 - acc: 0.08 - ETA: 25s - loss: 5.6510 - acc: 0.08 - ETA: 25s - loss: 5.6491 - acc: 0.08 - ETA: 25s - loss: 5.6493 - acc: 0.08 - ETA: 25s - loss: 5.6490 - acc: 0.08 - ETA: 24s - loss: 5.6478 - acc: 0.08 - ETA: 24s - loss: 5.6511 - acc: 0.08 - ETA: 24s - loss: 5.6515 - acc: 0.08 - ETA: 24s - loss: 5.6522 - acc: 0.08 - ETA: 24s - loss: 5.6548 - acc: 0.08 - ETA: 24s - loss: 5.6557 - acc: 0.08 - ETA: 23s - loss: 5.6556 - acc: 0.08 - ETA: 23s - loss: 5.6544 - acc: 0.08 - ETA: 23s - loss: 5.6529 - acc: 0.08 - ETA: 23s - loss: 5.6505 - acc: 0.08 - ETA: 23s - loss: 5.6523 - acc: 0.08 - ETA: 22s - loss: 5.6517 - acc: 0.08 - ETA: 22s - loss: 5.6502 - acc: 0.08 - ETA: 22s - loss: 5.6476 - acc: 0.08 - ETA: 22s - loss: 5.6436 - acc: 0.08 - ETA: 22s - loss: 5.6439 - acc: 0.08 - ETA: 21s - loss: 5.6432 - acc: 0.08 - ETA: 21s - loss: 5.6441 - acc: 0.08 - ETA: 21s - loss: 5.6458 - acc: 0.08 - ETA: 21s - loss: 5.6447 - acc: 0.08 - ETA: 21s - loss: 5.6446 - acc: 0.08 - ETA: 21s - loss: 5.6468 - acc: 0.08 - ETA: 20s - loss: 5.6463 - acc: 0.08 - ETA: 20s - loss: 5.6470 - acc: 0.08 - ETA: 20s - loss: 5.6447 - acc: 0.08 - ETA: 20s - loss: 5.6461 - acc: 0.08 - ETA: 20s - loss: 5.6461 - acc: 0.08 - ETA: 19s - loss: 5.6468 - acc: 0.08 - ETA: 19s - loss: 5.6489 - acc: 0.08 - ETA: 19s - loss: 5.6501 - acc: 0.08 - ETA: 19s - loss: 5.6496 - acc: 0.08 - ETA: 19s - loss: 5.6464 - acc: 0.08 - ETA: 19s - loss: 5.6471 - acc: 0.08 - ETA: 18s - loss: 5.6475 - acc: 0.08 - ETA: 18s - loss: 5.6490 - acc: 0.08 - ETA: 18s - loss: 5.6486 - acc: 0.08 - ETA: 18s - loss: 5.6494 - acc: 0.08 - ETA: 18s - loss: 5.6509 - acc: 0.08 - ETA: 17s - loss: 5.6510 - acc: 0.08 - ETA: 17s - loss: 5.6527 - acc: 0.08 - ETA: 17s - loss: 5.6546 - acc: 0.08 - ETA: 17s - loss: 5.6536 - acc: 0.08 - ETA: 17s - loss: 5.6531 - acc: 0.08 - ETA: 17s - loss: 5.6504 - acc: 0.08 - ETA: 16s - loss: 5.6507 - acc: 0.08 - ETA: 16s - loss: 5.6521 - acc: 0.08 - ETA: 16s - loss: 5.6519 - acc: 0.08 - ETA: 16s - loss: 5.6533 - acc: 0.08 - ETA: 16s - loss: 5.6534 - acc: 0.08 - ETA: 15s - loss: 5.6538 - acc: 0.08 - ETA: 15s - loss: 5.6524 - acc: 0.08 - ETA: 15s - loss: 5.6554 - acc: 0.08 - ETA: 15s - loss: 5.6585 - acc: 0.08 - ETA: 15s - loss: 5.6605 - acc: 0.08 - ETA: 14s - loss: 5.6604 - acc: 0.08 - ETA: 14s - loss: 5.6593 - acc: 0.08 - ETA: 14s - loss: 5.6607 - acc: 0.08 - ETA: 14s - loss: 5.6620 - acc: 0.08 - ETA: 14s - loss: 5.6634 - acc: 0.08 - ETA: 13s - loss: 5.6654 - acc: 0.08 - ETA: 13s - loss: 5.6670 - acc: 0.08 - ETA: 13s - loss: 5.6660 - acc: 0.08 - ETA: 13s - loss: 5.6637 - acc: 0.08 - ETA: 13s - loss: 5.6628 - acc: 0.08 - ETA: 12s - loss: 5.6656 - acc: 0.08 - ETA: 12s - loss: 5.6649 - acc: 0.08 - ETA: 12s - loss: 5.6655 - acc: 0.08 - ETA: 12s - loss: 5.6650 - acc: 0.08 - ETA: 12s - loss: 5.6648 - acc: 0.08 - ETA: 11s - loss: 5.6647 - acc: 0.08 - ETA: 11s - loss: 5.6647 - acc: 0.08 - ETA: 11s - loss: 5.6661 - acc: 0.08 - ETA: 11s - loss: 5.6657 - acc: 0.08 - ETA: 11s - loss: 5.6661 - acc: 0.08 - ETA: 10s - loss: 5.6653 - acc: 0.08 - ETA: 10s - loss: 5.6629 - acc: 0.08 - ETA: 10s - loss: 5.6628 - acc: 0.08 - ETA: 10s - loss: 5.6646 - acc: 0.08 - ETA: 10s - loss: 5.6627 - acc: 0.08 - ETA: 9s - loss: 5.6633 - acc: 0.0840 - ETA: 9s - loss: 5.6642 - acc: 0.084 - ETA: 9s - loss: 5.6639 - acc: 0.084 - ETA: 9s - loss: 5.6628 - acc: 0.084 - ETA: 9s - loss: 5.6624 - acc: 0.084 - ETA: 8s - loss: 5.6621 - acc: 0.084 - ETA: 8s - loss: 5.6621 - acc: 0.084 - ETA: 8s - loss: 5.6627 - acc: 0.084 - ETA: 8s - loss: 5.6618 - acc: 0.084 - ETA: 8s - loss: 5.6630 - acc: 0.084 - ETA: 7s - loss: 5.6632 - acc: 0.084 - ETA: 7s - loss: 5.6619 - acc: 0.084 - ETA: 7s - loss: 5.6624 - acc: 0.084 - ETA: 7s - loss: 5.6650 - acc: 0.084 - ETA: 7s - loss: 5.6662 - acc: 0.084 - ETA: 6s - loss: 5.6670 - acc: 0.084 - ETA: 6s - loss: 5.6669 - acc: 0.084 - ETA: 6s - loss: 5.6671 - acc: 0.084 - ETA: 6s - loss: 5.6679 - acc: 0.084 - ETA: 6s - loss: 5.6680 - acc: 0.084 - ETA: 5s - loss: 5.6679 - acc: 0.084 - ETA: 5s - loss: 5.6671 - acc: 0.084 - ETA: 5s - loss: 5.6684 - acc: 0.084 - ETA: 5s - loss: 5.6691 - acc: 0.084 - ETA: 5s - loss: 5.6697 - acc: 0.084 - ETA: 5s - loss: 5.6711 - acc: 0.0844"
     ]
    },
    {
     "name": "stdout",
     "output_type": "stream",
     "text": [
      "30742/30742 [==============================] - ETA: 4s - loss: 5.6699 - acc: 0.084 - ETA: 4s - loss: 5.6692 - acc: 0.084 - ETA: 4s - loss: 5.6693 - acc: 0.084 - ETA: 4s - loss: 5.6711 - acc: 0.084 - ETA: 4s - loss: 5.6720 - acc: 0.084 - ETA: 3s - loss: 5.6712 - acc: 0.084 - ETA: 3s - loss: 5.6704 - acc: 0.084 - ETA: 3s - loss: 5.6713 - acc: 0.084 - ETA: 3s - loss: 5.6684 - acc: 0.084 - ETA: 3s - loss: 5.6704 - acc: 0.084 - ETA: 2s - loss: 5.6708 - acc: 0.084 - ETA: 2s - loss: 5.6726 - acc: 0.084 - ETA: 2s - loss: 5.6715 - acc: 0.084 - ETA: 2s - loss: 5.6738 - acc: 0.084 - ETA: 2s - loss: 5.6738 - acc: 0.084 - ETA: 1s - loss: 5.6750 - acc: 0.084 - ETA: 1s - loss: 5.6743 - acc: 0.084 - ETA: 1s - loss: 5.6757 - acc: 0.084 - ETA: 1s - loss: 5.6769 - acc: 0.084 - ETA: 1s - loss: 5.6765 - acc: 0.084 - ETA: 0s - loss: 5.6779 - acc: 0.084 - ETA: 0s - loss: 5.6762 - acc: 0.084 - ETA: 0s - loss: 5.6779 - acc: 0.084 - ETA: 0s - loss: 5.6776 - acc: 0.084 - ETA: 0s - loss: 5.6780 - acc: 0.084 - 48s 2ms/step - loss: 5.6779 - acc: 0.0849\n",
      "Epoch 8/30\n"
     ]
    },
    {
     "name": "stdout",
     "output_type": "stream",
     "text": [
      "27520/30742 [=========================>....] - ETA: 44s - loss: 5.6817 - acc: 0.06 - ETA: 43s - loss: 5.7479 - acc: 0.07 - ETA: 43s - loss: 5.7079 - acc: 0.08 - ETA: 43s - loss: 5.6794 - acc: 0.08 - ETA: 43s - loss: 5.6172 - acc: 0.08 - ETA: 43s - loss: 5.6043 - acc: 0.08 - ETA: 43s - loss: 5.6217 - acc: 0.08 - ETA: 43s - loss: 5.5918 - acc: 0.08 - ETA: 42s - loss: 5.5587 - acc: 0.08 - ETA: 42s - loss: 5.5733 - acc: 0.08 - ETA: 42s - loss: 5.5316 - acc: 0.08 - ETA: 42s - loss: 5.5537 - acc: 0.08 - ETA: 42s - loss: 5.5654 - acc: 0.08 - ETA: 42s - loss: 5.5515 - acc: 0.08 - ETA: 41s - loss: 5.5405 - acc: 0.08 - ETA: 41s - loss: 5.5323 - acc: 0.08 - ETA: 41s - loss: 5.5584 - acc: 0.08 - ETA: 41s - loss: 5.5512 - acc: 0.08 - ETA: 41s - loss: 5.5869 - acc: 0.08 - ETA: 40s - loss: 5.6093 - acc: 0.08 - ETA: 40s - loss: 5.6088 - acc: 0.08 - ETA: 40s - loss: 5.6207 - acc: 0.07 - ETA: 40s - loss: 5.6070 - acc: 0.08 - ETA: 40s - loss: 5.6149 - acc: 0.08 - ETA: 40s - loss: 5.6137 - acc: 0.08 - ETA: 39s - loss: 5.6080 - acc: 0.07 - ETA: 39s - loss: 5.5967 - acc: 0.08 - ETA: 39s - loss: 5.5874 - acc: 0.08 - ETA: 39s - loss: 5.5934 - acc: 0.08 - ETA: 39s - loss: 5.5878 - acc: 0.08 - ETA: 39s - loss: 5.5860 - acc: 0.08 - ETA: 38s - loss: 5.5882 - acc: 0.08 - ETA: 38s - loss: 5.5763 - acc: 0.08 - ETA: 38s - loss: 5.5811 - acc: 0.08 - ETA: 38s - loss: 5.5785 - acc: 0.08 - ETA: 38s - loss: 5.5914 - acc: 0.08 - ETA: 37s - loss: 5.5890 - acc: 0.08 - ETA: 37s - loss: 5.5810 - acc: 0.08 - ETA: 37s - loss: 5.5847 - acc: 0.08 - ETA: 37s - loss: 5.5909 - acc: 0.08 - ETA: 37s - loss: 5.5965 - acc: 0.08 - ETA: 37s - loss: 5.5920 - acc: 0.08 - ETA: 36s - loss: 5.5970 - acc: 0.08 - ETA: 36s - loss: 5.5944 - acc: 0.08 - ETA: 36s - loss: 5.5993 - acc: 0.08 - ETA: 36s - loss: 5.5958 - acc: 0.08 - ETA: 36s - loss: 5.5900 - acc: 0.08 - ETA: 36s - loss: 5.5836 - acc: 0.08 - ETA: 35s - loss: 5.5789 - acc: 0.08 - ETA: 35s - loss: 5.5771 - acc: 0.08 - ETA: 35s - loss: 5.5803 - acc: 0.08 - ETA: 35s - loss: 5.5781 - acc: 0.08 - ETA: 35s - loss: 5.5793 - acc: 0.08 - ETA: 34s - loss: 5.5799 - acc: 0.08 - ETA: 34s - loss: 5.5703 - acc: 0.08 - ETA: 34s - loss: 5.5701 - acc: 0.08 - ETA: 34s - loss: 5.5665 - acc: 0.08 - ETA: 34s - loss: 5.5727 - acc: 0.08 - ETA: 34s - loss: 5.5711 - acc: 0.08 - ETA: 33s - loss: 5.5676 - acc: 0.08 - ETA: 33s - loss: 5.5697 - acc: 0.08 - ETA: 33s - loss: 5.5770 - acc: 0.08 - ETA: 33s - loss: 5.5792 - acc: 0.08 - ETA: 33s - loss: 5.5749 - acc: 0.08 - ETA: 33s - loss: 5.5745 - acc: 0.08 - ETA: 32s - loss: 5.5764 - acc: 0.08 - ETA: 32s - loss: 5.5730 - acc: 0.08 - ETA: 32s - loss: 5.5770 - acc: 0.08 - ETA: 32s - loss: 5.5794 - acc: 0.08 - ETA: 32s - loss: 5.5770 - acc: 0.08 - ETA: 31s - loss: 5.5809 - acc: 0.08 - ETA: 31s - loss: 5.5866 - acc: 0.08 - ETA: 31s - loss: 5.5849 - acc: 0.08 - ETA: 31s - loss: 5.5853 - acc: 0.08 - ETA: 31s - loss: 5.5821 - acc: 0.08 - ETA: 30s - loss: 5.5826 - acc: 0.08 - ETA: 30s - loss: 5.5883 - acc: 0.08 - ETA: 30s - loss: 5.5902 - acc: 0.08 - ETA: 30s - loss: 5.5886 - acc: 0.08 - ETA: 30s - loss: 5.5899 - acc: 0.08 - ETA: 29s - loss: 5.5934 - acc: 0.08 - ETA: 29s - loss: 5.5886 - acc: 0.08 - ETA: 29s - loss: 5.5882 - acc: 0.08 - ETA: 29s - loss: 5.5899 - acc: 0.08 - ETA: 29s - loss: 5.5906 - acc: 0.08 - ETA: 29s - loss: 5.5863 - acc: 0.08 - ETA: 28s - loss: 5.5840 - acc: 0.08 - ETA: 28s - loss: 5.5843 - acc: 0.08 - ETA: 28s - loss: 5.5853 - acc: 0.08 - ETA: 28s - loss: 5.5875 - acc: 0.08 - ETA: 28s - loss: 5.5909 - acc: 0.08 - ETA: 27s - loss: 5.5912 - acc: 0.08 - ETA: 27s - loss: 5.5936 - acc: 0.08 - ETA: 27s - loss: 5.5979 - acc: 0.08 - ETA: 27s - loss: 5.5984 - acc: 0.08 - ETA: 27s - loss: 5.5984 - acc: 0.08 - ETA: 26s - loss: 5.5991 - acc: 0.08 - ETA: 26s - loss: 5.6005 - acc: 0.08 - ETA: 26s - loss: 5.5968 - acc: 0.08 - ETA: 26s - loss: 5.5918 - acc: 0.08 - ETA: 26s - loss: 5.5938 - acc: 0.08 - ETA: 26s - loss: 5.5939 - acc: 0.08 - ETA: 25s - loss: 5.5933 - acc: 0.08 - ETA: 25s - loss: 5.5949 - acc: 0.08 - ETA: 25s - loss: 5.5949 - acc: 0.08 - ETA: 25s - loss: 5.5932 - acc: 0.08 - ETA: 25s - loss: 5.5947 - acc: 0.08 - ETA: 24s - loss: 5.5957 - acc: 0.08 - ETA: 24s - loss: 5.5963 - acc: 0.08 - ETA: 24s - loss: 5.5958 - acc: 0.08 - ETA: 24s - loss: 5.5961 - acc: 0.08 - ETA: 24s - loss: 5.5952 - acc: 0.08 - ETA: 23s - loss: 5.5937 - acc: 0.08 - ETA: 23s - loss: 5.5927 - acc: 0.08 - ETA: 23s - loss: 5.5932 - acc: 0.08 - ETA: 23s - loss: 5.5943 - acc: 0.08 - ETA: 23s - loss: 5.5922 - acc: 0.08 - ETA: 23s - loss: 5.5913 - acc: 0.08 - ETA: 22s - loss: 5.5915 - acc: 0.08 - ETA: 22s - loss: 5.5900 - acc: 0.08 - ETA: 22s - loss: 5.5899 - acc: 0.08 - ETA: 22s - loss: 5.5879 - acc: 0.08 - ETA: 22s - loss: 5.5893 - acc: 0.08 - ETA: 21s - loss: 5.5902 - acc: 0.08 - ETA: 21s - loss: 5.5883 - acc: 0.08 - ETA: 21s - loss: 5.5867 - acc: 0.08 - ETA: 21s - loss: 5.5893 - acc: 0.08 - ETA: 21s - loss: 5.5890 - acc: 0.08 - ETA: 21s - loss: 5.5902 - acc: 0.08 - ETA: 20s - loss: 5.5906 - acc: 0.08 - ETA: 20s - loss: 5.5894 - acc: 0.08 - ETA: 20s - loss: 5.5909 - acc: 0.08 - ETA: 20s - loss: 5.5890 - acc: 0.08 - ETA: 20s - loss: 5.5895 - acc: 0.08 - ETA: 19s - loss: 5.5925 - acc: 0.08 - ETA: 19s - loss: 5.5934 - acc: 0.08 - ETA: 19s - loss: 5.5938 - acc: 0.08 - ETA: 19s - loss: 5.5936 - acc: 0.08 - ETA: 19s - loss: 5.5936 - acc: 0.08 - ETA: 18s - loss: 5.5932 - acc: 0.08 - ETA: 18s - loss: 5.5946 - acc: 0.08 - ETA: 18s - loss: 5.5963 - acc: 0.08 - ETA: 18s - loss: 5.5956 - acc: 0.08 - ETA: 18s - loss: 5.5961 - acc: 0.08 - ETA: 18s - loss: 5.5980 - acc: 0.08 - ETA: 17s - loss: 5.6012 - acc: 0.08 - ETA: 17s - loss: 5.6016 - acc: 0.08 - ETA: 17s - loss: 5.6027 - acc: 0.08 - ETA: 17s - loss: 5.6033 - acc: 0.08 - ETA: 17s - loss: 5.6040 - acc: 0.08 - ETA: 16s - loss: 5.6037 - acc: 0.08 - ETA: 16s - loss: 5.6026 - acc: 0.08 - ETA: 16s - loss: 5.6001 - acc: 0.08 - ETA: 16s - loss: 5.6009 - acc: 0.08 - ETA: 16s - loss: 5.6014 - acc: 0.08 - ETA: 15s - loss: 5.6012 - acc: 0.08 - ETA: 15s - loss: 5.6015 - acc: 0.08 - ETA: 15s - loss: 5.6010 - acc: 0.08 - ETA: 15s - loss: 5.6002 - acc: 0.08 - ETA: 15s - loss: 5.6007 - acc: 0.08 - ETA: 14s - loss: 5.6019 - acc: 0.08 - ETA: 14s - loss: 5.6015 - acc: 0.08 - ETA: 14s - loss: 5.6011 - acc: 0.08 - ETA: 14s - loss: 5.6022 - acc: 0.08 - ETA: 14s - loss: 5.6018 - acc: 0.08 - ETA: 14s - loss: 5.6032 - acc: 0.08 - ETA: 13s - loss: 5.6037 - acc: 0.08 - ETA: 13s - loss: 5.6029 - acc: 0.08 - ETA: 13s - loss: 5.6020 - acc: 0.08 - ETA: 13s - loss: 5.6019 - acc: 0.08 - ETA: 13s - loss: 5.6020 - acc: 0.08 - ETA: 12s - loss: 5.6028 - acc: 0.08 - ETA: 12s - loss: 5.6057 - acc: 0.08 - ETA: 12s - loss: 5.6059 - acc: 0.08 - ETA: 12s - loss: 5.6065 - acc: 0.08 - ETA: 12s - loss: 5.6064 - acc: 0.08 - ETA: 11s - loss: 5.6064 - acc: 0.08 - ETA: 11s - loss: 5.6050 - acc: 0.08 - ETA: 11s - loss: 5.6030 - acc: 0.08 - ETA: 11s - loss: 5.6046 - acc: 0.08 - ETA: 11s - loss: 5.6047 - acc: 0.08 - ETA: 11s - loss: 5.6080 - acc: 0.08 - ETA: 10s - loss: 5.6074 - acc: 0.08 - ETA: 10s - loss: 5.6066 - acc: 0.08 - ETA: 10s - loss: 5.6054 - acc: 0.08 - ETA: 10s - loss: 5.6043 - acc: 0.08 - ETA: 10s - loss: 5.6051 - acc: 0.08 - ETA: 9s - loss: 5.6074 - acc: 0.0866 - ETA: 9s - loss: 5.6082 - acc: 0.086 - ETA: 9s - loss: 5.6078 - acc: 0.086 - ETA: 9s - loss: 5.6072 - acc: 0.086 - ETA: 9s - loss: 5.6084 - acc: 0.086 - ETA: 8s - loss: 5.6088 - acc: 0.086 - ETA: 8s - loss: 5.6071 - acc: 0.086 - ETA: 8s - loss: 5.6076 - acc: 0.086 - ETA: 8s - loss: 5.6079 - acc: 0.087 - ETA: 8s - loss: 5.6088 - acc: 0.087 - ETA: 7s - loss: 5.6096 - acc: 0.087 - ETA: 7s - loss: 5.6071 - acc: 0.087 - ETA: 7s - loss: 5.6085 - acc: 0.087 - ETA: 7s - loss: 5.6072 - acc: 0.087 - ETA: 7s - loss: 5.6066 - acc: 0.087 - ETA: 7s - loss: 5.6089 - acc: 0.087 - ETA: 6s - loss: 5.6085 - acc: 0.087 - ETA: 6s - loss: 5.6085 - acc: 0.087 - ETA: 6s - loss: 5.6085 - acc: 0.086 - ETA: 6s - loss: 5.6109 - acc: 0.086 - ETA: 6s - loss: 5.6103 - acc: 0.087 - ETA: 5s - loss: 5.6102 - acc: 0.087 - ETA: 5s - loss: 5.6081 - acc: 0.087 - ETA: 5s - loss: 5.6077 - acc: 0.087 - ETA: 5s - loss: 5.6067 - acc: 0.087 - ETA: 5s - loss: 5.6088 - acc: 0.087 - ETA: 4s - loss: 5.6090 - acc: 0.087 - ETA: 4s - loss: 5.6091 - acc: 0.0874"
     ]
    },
    {
     "name": "stdout",
     "output_type": "stream",
     "text": [
      "30742/30742 [==============================] - ETA: 4s - loss: 5.6096 - acc: 0.087 - ETA: 4s - loss: 5.6109 - acc: 0.087 - ETA: 4s - loss: 5.6122 - acc: 0.087 - ETA: 4s - loss: 5.6132 - acc: 0.087 - ETA: 3s - loss: 5.6121 - acc: 0.087 - ETA: 3s - loss: 5.6130 - acc: 0.087 - ETA: 3s - loss: 5.6126 - acc: 0.087 - ETA: 3s - loss: 5.6118 - acc: 0.087 - ETA: 3s - loss: 5.6116 - acc: 0.086 - ETA: 2s - loss: 5.6117 - acc: 0.086 - ETA: 2s - loss: 5.6122 - acc: 0.086 - ETA: 2s - loss: 5.6124 - acc: 0.086 - ETA: 2s - loss: 5.6117 - acc: 0.086 - ETA: 2s - loss: 5.6103 - acc: 0.086 - ETA: 1s - loss: 5.6106 - acc: 0.086 - ETA: 1s - loss: 5.6094 - acc: 0.087 - ETA: 1s - loss: 5.6108 - acc: 0.086 - ETA: 1s - loss: 5.6101 - acc: 0.086 - ETA: 1s - loss: 5.6094 - acc: 0.086 - ETA: 0s - loss: 5.6103 - acc: 0.086 - ETA: 0s - loss: 5.6098 - acc: 0.086 - ETA: 0s - loss: 5.6106 - acc: 0.086 - ETA: 0s - loss: 5.6103 - acc: 0.086 - ETA: 0s - loss: 5.6107 - acc: 0.086 - ETA: 0s - loss: 5.6113 - acc: 0.086 - 46s 1ms/step - loss: 5.6114 - acc: 0.0866\n",
      "Epoch 9/30\n"
     ]
    },
    {
     "name": "stdout",
     "output_type": "stream",
     "text": [
      "27520/30742 [=========================>....] - ETA: 44s - loss: 5.5943 - acc: 0.14 - ETA: 44s - loss: 5.7043 - acc: 0.10 - ETA: 44s - loss: 5.6070 - acc: 0.09 - ETA: 43s - loss: 5.5264 - acc: 0.09 - ETA: 43s - loss: 5.5031 - acc: 0.09 - ETA: 43s - loss: 5.4877 - acc: 0.09 - ETA: 43s - loss: 5.4639 - acc: 0.09 - ETA: 43s - loss: 5.4829 - acc: 0.09 - ETA: 43s - loss: 5.4677 - acc: 0.09 - ETA: 42s - loss: 5.4793 - acc: 0.09 - ETA: 42s - loss: 5.5197 - acc: 0.09 - ETA: 42s - loss: 5.5125 - acc: 0.09 - ETA: 42s - loss: 5.5234 - acc: 0.09 - ETA: 42s - loss: 5.5275 - acc: 0.09 - ETA: 41s - loss: 5.5287 - acc: 0.09 - ETA: 41s - loss: 5.5304 - acc: 0.09 - ETA: 41s - loss: 5.5421 - acc: 0.08 - ETA: 41s - loss: 5.5454 - acc: 0.08 - ETA: 41s - loss: 5.5448 - acc: 0.08 - ETA: 40s - loss: 5.5396 - acc: 0.08 - ETA: 40s - loss: 5.5374 - acc: 0.08 - ETA: 40s - loss: 5.5306 - acc: 0.09 - ETA: 40s - loss: 5.5199 - acc: 0.08 - ETA: 40s - loss: 5.5191 - acc: 0.08 - ETA: 40s - loss: 5.5336 - acc: 0.08 - ETA: 39s - loss: 5.5217 - acc: 0.08 - ETA: 39s - loss: 5.5090 - acc: 0.08 - ETA: 39s - loss: 5.5030 - acc: 0.08 - ETA: 39s - loss: 5.5117 - acc: 0.08 - ETA: 39s - loss: 5.5155 - acc: 0.08 - ETA: 39s - loss: 5.5174 - acc: 0.08 - ETA: 38s - loss: 5.5170 - acc: 0.09 - ETA: 38s - loss: 5.5218 - acc: 0.09 - ETA: 38s - loss: 5.5320 - acc: 0.09 - ETA: 38s - loss: 5.5279 - acc: 0.08 - ETA: 38s - loss: 5.5176 - acc: 0.09 - ETA: 37s - loss: 5.5082 - acc: 0.09 - ETA: 37s - loss: 5.4998 - acc: 0.09 - ETA: 37s - loss: 5.5100 - acc: 0.09 - ETA: 37s - loss: 5.5135 - acc: 0.09 - ETA: 37s - loss: 5.5119 - acc: 0.09 - ETA: 37s - loss: 5.5131 - acc: 0.09 - ETA: 36s - loss: 5.5124 - acc: 0.08 - ETA: 36s - loss: 5.5154 - acc: 0.08 - ETA: 36s - loss: 5.5133 - acc: 0.09 - ETA: 36s - loss: 5.5130 - acc: 0.09 - ETA: 36s - loss: 5.5084 - acc: 0.09 - ETA: 36s - loss: 5.5105 - acc: 0.08 - ETA: 35s - loss: 5.5085 - acc: 0.08 - ETA: 35s - loss: 5.5078 - acc: 0.09 - ETA: 35s - loss: 5.5039 - acc: 0.09 - ETA: 35s - loss: 5.5085 - acc: 0.08 - ETA: 35s - loss: 5.5056 - acc: 0.08 - ETA: 34s - loss: 5.5087 - acc: 0.09 - ETA: 34s - loss: 5.5098 - acc: 0.09 - ETA: 34s - loss: 5.5068 - acc: 0.09 - ETA: 34s - loss: 5.5122 - acc: 0.08 - ETA: 34s - loss: 5.5106 - acc: 0.08 - ETA: 34s - loss: 5.5102 - acc: 0.08 - ETA: 33s - loss: 5.5098 - acc: 0.08 - ETA: 33s - loss: 5.5125 - acc: 0.08 - ETA: 33s - loss: 5.5104 - acc: 0.08 - ETA: 33s - loss: 5.5120 - acc: 0.08 - ETA: 33s - loss: 5.5072 - acc: 0.09 - ETA: 32s - loss: 5.5115 - acc: 0.08 - ETA: 32s - loss: 5.5074 - acc: 0.08 - ETA: 32s - loss: 5.5024 - acc: 0.09 - ETA: 32s - loss: 5.4989 - acc: 0.09 - ETA: 32s - loss: 5.5001 - acc: 0.09 - ETA: 31s - loss: 5.5012 - acc: 0.09 - ETA: 31s - loss: 5.5043 - acc: 0.09 - ETA: 31s - loss: 5.5045 - acc: 0.09 - ETA: 31s - loss: 5.5020 - acc: 0.09 - ETA: 31s - loss: 5.5023 - acc: 0.09 - ETA: 31s - loss: 5.5045 - acc: 0.09 - ETA: 30s - loss: 5.5102 - acc: 0.09 - ETA: 30s - loss: 5.5120 - acc: 0.09 - ETA: 30s - loss: 5.5116 - acc: 0.08 - ETA: 30s - loss: 5.5150 - acc: 0.08 - ETA: 30s - loss: 5.5187 - acc: 0.08 - ETA: 29s - loss: 5.5225 - acc: 0.08 - ETA: 29s - loss: 5.5216 - acc: 0.08 - ETA: 29s - loss: 5.5220 - acc: 0.08 - ETA: 29s - loss: 5.5221 - acc: 0.08 - ETA: 29s - loss: 5.5238 - acc: 0.08 - ETA: 29s - loss: 5.5255 - acc: 0.08 - ETA: 28s - loss: 5.5272 - acc: 0.08 - ETA: 28s - loss: 5.5291 - acc: 0.08 - ETA: 28s - loss: 5.5284 - acc: 0.08 - ETA: 28s - loss: 5.5284 - acc: 0.08 - ETA: 28s - loss: 5.5287 - acc: 0.08 - ETA: 27s - loss: 5.5311 - acc: 0.08 - ETA: 27s - loss: 5.5323 - acc: 0.08 - ETA: 27s - loss: 5.5331 - acc: 0.08 - ETA: 27s - loss: 5.5287 - acc: 0.08 - ETA: 27s - loss: 5.5252 - acc: 0.08 - ETA: 26s - loss: 5.5236 - acc: 0.08 - ETA: 26s - loss: 5.5193 - acc: 0.08 - ETA: 26s - loss: 5.5217 - acc: 0.08 - ETA: 26s - loss: 5.5267 - acc: 0.08 - ETA: 26s - loss: 5.5277 - acc: 0.08 - ETA: 25s - loss: 5.5233 - acc: 0.08 - ETA: 25s - loss: 5.5255 - acc: 0.08 - ETA: 25s - loss: 5.5254 - acc: 0.08 - ETA: 25s - loss: 5.5266 - acc: 0.08 - ETA: 25s - loss: 5.5258 - acc: 0.08 - ETA: 25s - loss: 5.5254 - acc: 0.08 - ETA: 24s - loss: 5.5240 - acc: 0.08 - ETA: 24s - loss: 5.5220 - acc: 0.08 - ETA: 24s - loss: 5.5214 - acc: 0.09 - ETA: 24s - loss: 5.5201 - acc: 0.08 - ETA: 24s - loss: 5.5199 - acc: 0.08 - ETA: 23s - loss: 5.5229 - acc: 0.08 - ETA: 23s - loss: 5.5220 - acc: 0.08 - ETA: 23s - loss: 5.5226 - acc: 0.08 - ETA: 23s - loss: 5.5236 - acc: 0.08 - ETA: 23s - loss: 5.5255 - acc: 0.08 - ETA: 23s - loss: 5.5258 - acc: 0.08 - ETA: 22s - loss: 5.5287 - acc: 0.08 - ETA: 22s - loss: 5.5318 - acc: 0.08 - ETA: 22s - loss: 5.5333 - acc: 0.08 - ETA: 22s - loss: 5.5343 - acc: 0.08 - ETA: 22s - loss: 5.5359 - acc: 0.08 - ETA: 22s - loss: 5.5339 - acc: 0.08 - ETA: 21s - loss: 5.5360 - acc: 0.08 - ETA: 21s - loss: 5.5365 - acc: 0.08 - ETA: 21s - loss: 5.5381 - acc: 0.08 - ETA: 21s - loss: 5.5410 - acc: 0.08 - ETA: 21s - loss: 5.5418 - acc: 0.08 - ETA: 20s - loss: 5.5440 - acc: 0.08 - ETA: 20s - loss: 5.5459 - acc: 0.08 - ETA: 20s - loss: 5.5456 - acc: 0.08 - ETA: 20s - loss: 5.5467 - acc: 0.08 - ETA: 20s - loss: 5.5473 - acc: 0.08 - ETA: 19s - loss: 5.5442 - acc: 0.08 - ETA: 19s - loss: 5.5465 - acc: 0.08 - ETA: 19s - loss: 5.5456 - acc: 0.08 - ETA: 19s - loss: 5.5427 - acc: 0.08 - ETA: 19s - loss: 5.5414 - acc: 0.08 - ETA: 19s - loss: 5.5404 - acc: 0.08 - ETA: 18s - loss: 5.5419 - acc: 0.08 - ETA: 18s - loss: 5.5417 - acc: 0.08 - ETA: 18s - loss: 5.5408 - acc: 0.08 - ETA: 18s - loss: 5.5403 - acc: 0.08 - ETA: 18s - loss: 5.5392 - acc: 0.08 - ETA: 17s - loss: 5.5387 - acc: 0.08 - ETA: 17s - loss: 5.5374 - acc: 0.08 - ETA: 17s - loss: 5.5365 - acc: 0.08 - ETA: 17s - loss: 5.5365 - acc: 0.08 - ETA: 17s - loss: 5.5384 - acc: 0.08 - ETA: 16s - loss: 5.5388 - acc: 0.08 - ETA: 16s - loss: 5.5383 - acc: 0.08 - ETA: 16s - loss: 5.5401 - acc: 0.08 - ETA: 16s - loss: 5.5409 - acc: 0.08 - ETA: 16s - loss: 5.5420 - acc: 0.08 - ETA: 15s - loss: 5.5419 - acc: 0.08 - ETA: 15s - loss: 5.5406 - acc: 0.08 - ETA: 15s - loss: 5.5412 - acc: 0.08 - ETA: 15s - loss: 5.5416 - acc: 0.08 - ETA: 15s - loss: 5.5405 - acc: 0.08 - ETA: 15s - loss: 5.5413 - acc: 0.08 - ETA: 14s - loss: 5.5429 - acc: 0.08 - ETA: 14s - loss: 5.5425 - acc: 0.08 - ETA: 14s - loss: 5.5448 - acc: 0.08 - ETA: 14s - loss: 5.5423 - acc: 0.08 - ETA: 14s - loss: 5.5421 - acc: 0.08 - ETA: 13s - loss: 5.5441 - acc: 0.08 - ETA: 13s - loss: 5.5442 - acc: 0.08 - ETA: 13s - loss: 5.5442 - acc: 0.08 - ETA: 13s - loss: 5.5436 - acc: 0.08 - ETA: 13s - loss: 5.5442 - acc: 0.08 - ETA: 12s - loss: 5.5426 - acc: 0.08 - ETA: 12s - loss: 5.5425 - acc: 0.08 - ETA: 12s - loss: 5.5426 - acc: 0.08 - ETA: 12s - loss: 5.5431 - acc: 0.08 - ETA: 12s - loss: 5.5401 - acc: 0.08 - ETA: 11s - loss: 5.5382 - acc: 0.08 - ETA: 11s - loss: 5.5377 - acc: 0.08 - ETA: 11s - loss: 5.5362 - acc: 0.08 - ETA: 11s - loss: 5.5346 - acc: 0.08 - ETA: 11s - loss: 5.5346 - acc: 0.08 - ETA: 11s - loss: 5.5337 - acc: 0.08 - ETA: 10s - loss: 5.5336 - acc: 0.08 - ETA: 10s - loss: 5.5327 - acc: 0.08 - ETA: 10s - loss: 5.5351 - acc: 0.08 - ETA: 10s - loss: 5.5350 - acc: 0.08 - ETA: 10s - loss: 5.5367 - acc: 0.08 - ETA: 9s - loss: 5.5380 - acc: 0.0879 - ETA: 9s - loss: 5.5376 - acc: 0.088 - ETA: 9s - loss: 5.5380 - acc: 0.087 - ETA: 9s - loss: 5.5352 - acc: 0.087 - ETA: 9s - loss: 5.5341 - acc: 0.088 - ETA: 8s - loss: 5.5339 - acc: 0.088 - ETA: 8s - loss: 5.5344 - acc: 0.088 - ETA: 8s - loss: 5.5358 - acc: 0.088 - ETA: 8s - loss: 5.5370 - acc: 0.088 - ETA: 8s - loss: 5.5359 - acc: 0.088 - ETA: 7s - loss: 5.5365 - acc: 0.088 - ETA: 7s - loss: 5.5351 - acc: 0.088 - ETA: 7s - loss: 5.5357 - acc: 0.088 - ETA: 7s - loss: 5.5354 - acc: 0.088 - ETA: 7s - loss: 5.5352 - acc: 0.088 - ETA: 7s - loss: 5.5360 - acc: 0.088 - ETA: 6s - loss: 5.5327 - acc: 0.088 - ETA: 6s - loss: 5.5325 - acc: 0.088 - ETA: 6s - loss: 5.5330 - acc: 0.088 - ETA: 6s - loss: 5.5320 - acc: 0.088 - ETA: 6s - loss: 5.5331 - acc: 0.088 - ETA: 5s - loss: 5.5342 - acc: 0.088 - ETA: 5s - loss: 5.5339 - acc: 0.088 - ETA: 5s - loss: 5.5348 - acc: 0.088 - ETA: 5s - loss: 5.5342 - acc: 0.088 - ETA: 5s - loss: 5.5354 - acc: 0.088 - ETA: 4s - loss: 5.5361 - acc: 0.088 - ETA: 4s - loss: 5.5358 - acc: 0.0886"
     ]
    },
    {
     "name": "stdout",
     "output_type": "stream",
     "text": [
      "30742/30742 [==============================] - ETA: 4s - loss: 5.5357 - acc: 0.088 - ETA: 4s - loss: 5.5357 - acc: 0.088 - ETA: 4s - loss: 5.5345 - acc: 0.088 - ETA: 4s - loss: 5.5357 - acc: 0.088 - ETA: 3s - loss: 5.5362 - acc: 0.088 - ETA: 3s - loss: 5.5352 - acc: 0.088 - ETA: 3s - loss: 5.5358 - acc: 0.088 - ETA: 3s - loss: 5.5361 - acc: 0.088 - ETA: 3s - loss: 5.5371 - acc: 0.088 - ETA: 2s - loss: 5.5383 - acc: 0.088 - ETA: 2s - loss: 5.5394 - acc: 0.088 - ETA: 2s - loss: 5.5401 - acc: 0.088 - ETA: 2s - loss: 5.5405 - acc: 0.088 - ETA: 2s - loss: 5.5411 - acc: 0.088 - ETA: 1s - loss: 5.5417 - acc: 0.088 - ETA: 1s - loss: 5.5414 - acc: 0.088 - ETA: 1s - loss: 5.5413 - acc: 0.088 - ETA: 1s - loss: 5.5415 - acc: 0.088 - ETA: 1s - loss: 5.5427 - acc: 0.088 - ETA: 0s - loss: 5.5448 - acc: 0.088 - ETA: 0s - loss: 5.5444 - acc: 0.088 - ETA: 0s - loss: 5.5442 - acc: 0.088 - ETA: 0s - loss: 5.5442 - acc: 0.088 - ETA: 0s - loss: 5.5444 - acc: 0.088 - ETA: 0s - loss: 5.5436 - acc: 0.088 - 46s 1ms/step - loss: 5.5432 - acc: 0.0883\n",
      "Epoch 10/30\n"
     ]
    },
    {
     "name": "stdout",
     "output_type": "stream",
     "text": [
      "27520/30742 [=========================>....] - ETA: 42s - loss: 5.6469 - acc: 0.06 - ETA: 43s - loss: 5.6011 - acc: 0.05 - ETA: 43s - loss: 5.5424 - acc: 0.06 - ETA: 43s - loss: 5.4943 - acc: 0.07 - ETA: 43s - loss: 5.5391 - acc: 0.06 - ETA: 43s - loss: 5.5753 - acc: 0.06 - ETA: 43s - loss: 5.5345 - acc: 0.06 - ETA: 42s - loss: 5.5188 - acc: 0.07 - ETA: 42s - loss: 5.4867 - acc: 0.07 - ETA: 42s - loss: 5.4671 - acc: 0.07 - ETA: 42s - loss: 5.4448 - acc: 0.08 - ETA: 42s - loss: 5.4335 - acc: 0.08 - ETA: 42s - loss: 5.4364 - acc: 0.08 - ETA: 41s - loss: 5.4679 - acc: 0.08 - ETA: 41s - loss: 5.4862 - acc: 0.08 - ETA: 41s - loss: 5.4735 - acc: 0.08 - ETA: 41s - loss: 5.4897 - acc: 0.08 - ETA: 41s - loss: 5.4842 - acc: 0.08 - ETA: 41s - loss: 5.4968 - acc: 0.08 - ETA: 40s - loss: 5.4876 - acc: 0.08 - ETA: 40s - loss: 5.4897 - acc: 0.08 - ETA: 40s - loss: 5.4934 - acc: 0.08 - ETA: 40s - loss: 5.4804 - acc: 0.08 - ETA: 40s - loss: 5.4827 - acc: 0.08 - ETA: 40s - loss: 5.4735 - acc: 0.08 - ETA: 40s - loss: 5.4849 - acc: 0.08 - ETA: 39s - loss: 5.5090 - acc: 0.08 - ETA: 39s - loss: 5.4956 - acc: 0.08 - ETA: 39s - loss: 5.4926 - acc: 0.08 - ETA: 39s - loss: 5.4815 - acc: 0.08 - ETA: 39s - loss: 5.4844 - acc: 0.08 - ETA: 38s - loss: 5.4828 - acc: 0.08 - ETA: 38s - loss: 5.4850 - acc: 0.08 - ETA: 38s - loss: 5.4841 - acc: 0.08 - ETA: 38s - loss: 5.4801 - acc: 0.08 - ETA: 38s - loss: 5.4835 - acc: 0.08 - ETA: 38s - loss: 5.4827 - acc: 0.08 - ETA: 37s - loss: 5.4751 - acc: 0.08 - ETA: 37s - loss: 5.4789 - acc: 0.08 - ETA: 37s - loss: 5.4827 - acc: 0.08 - ETA: 37s - loss: 5.4805 - acc: 0.08 - ETA: 37s - loss: 5.4824 - acc: 0.08 - ETA: 36s - loss: 5.4871 - acc: 0.08 - ETA: 36s - loss: 5.4850 - acc: 0.08 - ETA: 36s - loss: 5.4776 - acc: 0.08 - ETA: 36s - loss: 5.4815 - acc: 0.08 - ETA: 36s - loss: 5.4858 - acc: 0.08 - ETA: 36s - loss: 5.4926 - acc: 0.08 - ETA: 36s - loss: 5.4916 - acc: 0.08 - ETA: 35s - loss: 5.4843 - acc: 0.08 - ETA: 35s - loss: 5.4890 - acc: 0.08 - ETA: 35s - loss: 5.4807 - acc: 0.08 - ETA: 35s - loss: 5.4806 - acc: 0.08 - ETA: 35s - loss: 5.4757 - acc: 0.08 - ETA: 34s - loss: 5.4846 - acc: 0.08 - ETA: 34s - loss: 5.4850 - acc: 0.08 - ETA: 34s - loss: 5.4740 - acc: 0.08 - ETA: 34s - loss: 5.4717 - acc: 0.08 - ETA: 34s - loss: 5.4734 - acc: 0.08 - ETA: 33s - loss: 5.4726 - acc: 0.08 - ETA: 33s - loss: 5.4718 - acc: 0.08 - ETA: 33s - loss: 5.4752 - acc: 0.08 - ETA: 33s - loss: 5.4708 - acc: 0.08 - ETA: 33s - loss: 5.4672 - acc: 0.08 - ETA: 33s - loss: 5.4659 - acc: 0.08 - ETA: 32s - loss: 5.4670 - acc: 0.08 - ETA: 32s - loss: 5.4643 - acc: 0.08 - ETA: 32s - loss: 5.4636 - acc: 0.08 - ETA: 32s - loss: 5.4609 - acc: 0.08 - ETA: 32s - loss: 5.4632 - acc: 0.09 - ETA: 31s - loss: 5.4608 - acc: 0.08 - ETA: 31s - loss: 5.4642 - acc: 0.08 - ETA: 31s - loss: 5.4637 - acc: 0.08 - ETA: 31s - loss: 5.4629 - acc: 0.08 - ETA: 31s - loss: 5.4627 - acc: 0.08 - ETA: 30s - loss: 5.4616 - acc: 0.08 - ETA: 30s - loss: 5.4627 - acc: 0.08 - ETA: 30s - loss: 5.4577 - acc: 0.08 - ETA: 30s - loss: 5.4595 - acc: 0.08 - ETA: 30s - loss: 5.4615 - acc: 0.08 - ETA: 29s - loss: 5.4582 - acc: 0.08 - ETA: 29s - loss: 5.4570 - acc: 0.08 - ETA: 29s - loss: 5.4576 - acc: 0.08 - ETA: 29s - loss: 5.4545 - acc: 0.08 - ETA: 29s - loss: 5.4534 - acc: 0.09 - ETA: 29s - loss: 5.4558 - acc: 0.08 - ETA: 28s - loss: 5.4548 - acc: 0.08 - ETA: 28s - loss: 5.4492 - acc: 0.09 - ETA: 28s - loss: 5.4480 - acc: 0.09 - ETA: 28s - loss: 5.4500 - acc: 0.09 - ETA: 28s - loss: 5.4502 - acc: 0.09 - ETA: 27s - loss: 5.4506 - acc: 0.09 - ETA: 27s - loss: 5.4539 - acc: 0.09 - ETA: 27s - loss: 5.4557 - acc: 0.09 - ETA: 27s - loss: 5.4556 - acc: 0.09 - ETA: 27s - loss: 5.4537 - acc: 0.09 - ETA: 27s - loss: 5.4566 - acc: 0.08 - ETA: 26s - loss: 5.4584 - acc: 0.08 - ETA: 26s - loss: 5.4590 - acc: 0.08 - ETA: 26s - loss: 5.4589 - acc: 0.08 - ETA: 26s - loss: 5.4601 - acc: 0.08 - ETA: 26s - loss: 5.4568 - acc: 0.08 - ETA: 25s - loss: 5.4603 - acc: 0.08 - ETA: 25s - loss: 5.4624 - acc: 0.08 - ETA: 25s - loss: 5.4596 - acc: 0.08 - ETA: 25s - loss: 5.4571 - acc: 0.08 - ETA: 25s - loss: 5.4547 - acc: 0.09 - ETA: 24s - loss: 5.4528 - acc: 0.09 - ETA: 24s - loss: 5.4505 - acc: 0.09 - ETA: 24s - loss: 5.4450 - acc: 0.09 - ETA: 24s - loss: 5.4445 - acc: 0.09 - ETA: 24s - loss: 5.4446 - acc: 0.09 - ETA: 23s - loss: 5.4470 - acc: 0.09 - ETA: 23s - loss: 5.4484 - acc: 0.09 - ETA: 23s - loss: 5.4487 - acc: 0.08 - ETA: 23s - loss: 5.4516 - acc: 0.08 - ETA: 23s - loss: 5.4504 - acc: 0.09 - ETA: 23s - loss: 5.4505 - acc: 0.09 - ETA: 22s - loss: 5.4528 - acc: 0.09 - ETA: 22s - loss: 5.4536 - acc: 0.09 - ETA: 22s - loss: 5.4549 - acc: 0.09 - ETA: 22s - loss: 5.4588 - acc: 0.09 - ETA: 22s - loss: 5.4596 - acc: 0.09 - ETA: 21s - loss: 5.4658 - acc: 0.08 - ETA: 21s - loss: 5.4661 - acc: 0.09 - ETA: 21s - loss: 5.4675 - acc: 0.08 - ETA: 21s - loss: 5.4656 - acc: 0.09 - ETA: 21s - loss: 5.4648 - acc: 0.09 - ETA: 20s - loss: 5.4621 - acc: 0.09 - ETA: 20s - loss: 5.4646 - acc: 0.09 - ETA: 20s - loss: 5.4642 - acc: 0.09 - ETA: 20s - loss: 5.4645 - acc: 0.09 - ETA: 20s - loss: 5.4658 - acc: 0.09 - ETA: 20s - loss: 5.4651 - acc: 0.09 - ETA: 19s - loss: 5.4670 - acc: 0.09 - ETA: 19s - loss: 5.4660 - acc: 0.09 - ETA: 19s - loss: 5.4643 - acc: 0.09 - ETA: 19s - loss: 5.4662 - acc: 0.09 - ETA: 19s - loss: 5.4666 - acc: 0.09 - ETA: 18s - loss: 5.4663 - acc: 0.09 - ETA: 18s - loss: 5.4670 - acc: 0.09 - ETA: 18s - loss: 5.4683 - acc: 0.09 - ETA: 18s - loss: 5.4683 - acc: 0.09 - ETA: 18s - loss: 5.4668 - acc: 0.09 - ETA: 17s - loss: 5.4670 - acc: 0.09 - ETA: 17s - loss: 5.4651 - acc: 0.09 - ETA: 17s - loss: 5.4679 - acc: 0.09 - ETA: 17s - loss: 5.4693 - acc: 0.09 - ETA: 17s - loss: 5.4686 - acc: 0.09 - ETA: 17s - loss: 5.4686 - acc: 0.09 - ETA: 16s - loss: 5.4682 - acc: 0.09 - ETA: 16s - loss: 5.4687 - acc: 0.09 - ETA: 16s - loss: 5.4678 - acc: 0.09 - ETA: 16s - loss: 5.4675 - acc: 0.09 - ETA: 16s - loss: 5.4668 - acc: 0.09 - ETA: 15s - loss: 5.4657 - acc: 0.09 - ETA: 15s - loss: 5.4662 - acc: 0.09 - ETA: 15s - loss: 5.4647 - acc: 0.09 - ETA: 15s - loss: 5.4671 - acc: 0.09 - ETA: 15s - loss: 5.4657 - acc: 0.09 - ETA: 14s - loss: 5.4658 - acc: 0.09 - ETA: 14s - loss: 5.4670 - acc: 0.09 - ETA: 14s - loss: 5.4661 - acc: 0.09 - ETA: 14s - loss: 5.4665 - acc: 0.09 - ETA: 14s - loss: 5.4677 - acc: 0.09 - ETA: 14s - loss: 5.4677 - acc: 0.09 - ETA: 13s - loss: 5.4681 - acc: 0.09 - ETA: 13s - loss: 5.4672 - acc: 0.09 - ETA: 13s - loss: 5.4660 - acc: 0.09 - ETA: 13s - loss: 5.4655 - acc: 0.09 - ETA: 13s - loss: 5.4670 - acc: 0.09 - ETA: 12s - loss: 5.4646 - acc: 0.09 - ETA: 12s - loss: 5.4649 - acc: 0.09 - ETA: 12s - loss: 5.4637 - acc: 0.09 - ETA: 12s - loss: 5.4626 - acc: 0.09 - ETA: 12s - loss: 5.4648 - acc: 0.09 - ETA: 11s - loss: 5.4659 - acc: 0.09 - ETA: 11s - loss: 5.4668 - acc: 0.09 - ETA: 11s - loss: 5.4676 - acc: 0.09 - ETA: 11s - loss: 5.4665 - acc: 0.09 - ETA: 11s - loss: 5.4675 - acc: 0.09 - ETA: 11s - loss: 5.4683 - acc: 0.09 - ETA: 10s - loss: 5.4655 - acc: 0.09 - ETA: 10s - loss: 5.4650 - acc: 0.09 - ETA: 10s - loss: 5.4664 - acc: 0.09 - ETA: 10s - loss: 5.4660 - acc: 0.09 - ETA: 10s - loss: 5.4650 - acc: 0.09 - ETA: 9s - loss: 5.4643 - acc: 0.0930 - ETA: 9s - loss: 5.4643 - acc: 0.092 - ETA: 9s - loss: 5.4660 - acc: 0.092 - ETA: 9s - loss: 5.4658 - acc: 0.092 - ETA: 9s - loss: 5.4651 - acc: 0.092 - ETA: 8s - loss: 5.4661 - acc: 0.092 - ETA: 8s - loss: 5.4678 - acc: 0.092 - ETA: 8s - loss: 5.4673 - acc: 0.092 - ETA: 8s - loss: 5.4664 - acc: 0.093 - ETA: 8s - loss: 5.4655 - acc: 0.092 - ETA: 7s - loss: 5.4650 - acc: 0.092 - ETA: 7s - loss: 5.4640 - acc: 0.093 - ETA: 7s - loss: 5.4637 - acc: 0.093 - ETA: 7s - loss: 5.4631 - acc: 0.093 - ETA: 7s - loss: 5.4641 - acc: 0.093 - ETA: 7s - loss: 5.4650 - acc: 0.093 - ETA: 6s - loss: 5.4648 - acc: 0.093 - ETA: 6s - loss: 5.4666 - acc: 0.092 - ETA: 6s - loss: 5.4657 - acc: 0.092 - ETA: 6s - loss: 5.4659 - acc: 0.092 - ETA: 6s - loss: 5.4663 - acc: 0.092 - ETA: 5s - loss: 5.4656 - acc: 0.092 - ETA: 5s - loss: 5.4668 - acc: 0.092 - ETA: 5s - loss: 5.4671 - acc: 0.092 - ETA: 5s - loss: 5.4660 - acc: 0.092 - ETA: 5s - loss: 5.4656 - acc: 0.092 - ETA: 4s - loss: 5.4661 - acc: 0.092 - ETA: 4s - loss: 5.4680 - acc: 0.0924"
     ]
    },
    {
     "name": "stdout",
     "output_type": "stream",
     "text": [
      "30742/30742 [==============================] - ETA: 4s - loss: 5.4679 - acc: 0.092 - ETA: 4s - loss: 5.4678 - acc: 0.092 - ETA: 4s - loss: 5.4689 - acc: 0.092 - ETA: 4s - loss: 5.4707 - acc: 0.092 - ETA: 3s - loss: 5.4720 - acc: 0.092 - ETA: 3s - loss: 5.4717 - acc: 0.092 - ETA: 3s - loss: 5.4723 - acc: 0.092 - ETA: 3s - loss: 5.4721 - acc: 0.092 - ETA: 3s - loss: 5.4718 - acc: 0.092 - ETA: 2s - loss: 5.4717 - acc: 0.092 - ETA: 2s - loss: 5.4717 - acc: 0.092 - ETA: 2s - loss: 5.4730 - acc: 0.092 - ETA: 2s - loss: 5.4730 - acc: 0.092 - ETA: 2s - loss: 5.4735 - acc: 0.092 - ETA: 1s - loss: 5.4737 - acc: 0.091 - ETA: 1s - loss: 5.4739 - acc: 0.092 - ETA: 1s - loss: 5.4729 - acc: 0.092 - ETA: 1s - loss: 5.4722 - acc: 0.092 - ETA: 1s - loss: 5.4721 - acc: 0.092 - ETA: 0s - loss: 5.4719 - acc: 0.092 - ETA: 0s - loss: 5.4719 - acc: 0.092 - ETA: 0s - loss: 5.4713 - acc: 0.092 - ETA: 0s - loss: 5.4721 - acc: 0.092 - ETA: 0s - loss: 5.4738 - acc: 0.092 - ETA: 0s - loss: 5.4733 - acc: 0.092 - 45s 1ms/step - loss: 5.4733 - acc: 0.0923\n",
      "Epoch 11/30\n"
     ]
    },
    {
     "name": "stdout",
     "output_type": "stream",
     "text": [
      "27520/30742 [=========================>....] - ETA: 44s - loss: 5.3339 - acc: 0.09 - ETA: 44s - loss: 5.3067 - acc: 0.09 - ETA: 44s - loss: 5.4385 - acc: 0.09 - ETA: 43s - loss: 5.3730 - acc: 0.10 - ETA: 43s - loss: 5.4463 - acc: 0.10 - ETA: 43s - loss: 5.4108 - acc: 0.10 - ETA: 43s - loss: 5.4173 - acc: 0.10 - ETA: 43s - loss: 5.4463 - acc: 0.09 - ETA: 43s - loss: 5.4383 - acc: 0.09 - ETA: 42s - loss: 5.4348 - acc: 0.09 - ETA: 42s - loss: 5.4037 - acc: 0.09 - ETA: 42s - loss: 5.3634 - acc: 0.10 - ETA: 42s - loss: 5.3916 - acc: 0.09 - ETA: 42s - loss: 5.3863 - acc: 0.09 - ETA: 41s - loss: 5.3963 - acc: 0.09 - ETA: 41s - loss: 5.3849 - acc: 0.09 - ETA: 41s - loss: 5.3686 - acc: 0.09 - ETA: 41s - loss: 5.3698 - acc: 0.09 - ETA: 41s - loss: 5.3579 - acc: 0.09 - ETA: 41s - loss: 5.3473 - acc: 0.10 - ETA: 40s - loss: 5.3441 - acc: 0.10 - ETA: 40s - loss: 5.3358 - acc: 0.10 - ETA: 40s - loss: 5.3298 - acc: 0.10 - ETA: 40s - loss: 5.3404 - acc: 0.10 - ETA: 40s - loss: 5.3270 - acc: 0.10 - ETA: 39s - loss: 5.3373 - acc: 0.10 - ETA: 39s - loss: 5.3364 - acc: 0.10 - ETA: 39s - loss: 5.3391 - acc: 0.10 - ETA: 39s - loss: 5.3551 - acc: 0.09 - ETA: 39s - loss: 5.3474 - acc: 0.09 - ETA: 38s - loss: 5.3484 - acc: 0.10 - ETA: 38s - loss: 5.3478 - acc: 0.10 - ETA: 38s - loss: 5.3520 - acc: 0.09 - ETA: 38s - loss: 5.3670 - acc: 0.09 - ETA: 38s - loss: 5.3669 - acc: 0.09 - ETA: 38s - loss: 5.3643 - acc: 0.09 - ETA: 37s - loss: 5.3654 - acc: 0.09 - ETA: 37s - loss: 5.3620 - acc: 0.09 - ETA: 37s - loss: 5.3675 - acc: 0.09 - ETA: 37s - loss: 5.3668 - acc: 0.09 - ETA: 37s - loss: 5.3719 - acc: 0.09 - ETA: 37s - loss: 5.3683 - acc: 0.09 - ETA: 36s - loss: 5.3646 - acc: 0.09 - ETA: 36s - loss: 5.3710 - acc: 0.09 - ETA: 36s - loss: 5.3658 - acc: 0.09 - ETA: 36s - loss: 5.3659 - acc: 0.09 - ETA: 36s - loss: 5.3721 - acc: 0.09 - ETA: 35s - loss: 5.3783 - acc: 0.09 - ETA: 35s - loss: 5.3778 - acc: 0.09 - ETA: 35s - loss: 5.3855 - acc: 0.09 - ETA: 35s - loss: 5.3815 - acc: 0.09 - ETA: 35s - loss: 5.3849 - acc: 0.09 - ETA: 35s - loss: 5.3868 - acc: 0.09 - ETA: 34s - loss: 5.3835 - acc: 0.09 - ETA: 34s - loss: 5.3813 - acc: 0.09 - ETA: 34s - loss: 5.3858 - acc: 0.09 - ETA: 34s - loss: 5.3843 - acc: 0.09 - ETA: 34s - loss: 5.3849 - acc: 0.09 - ETA: 33s - loss: 5.3822 - acc: 0.09 - ETA: 33s - loss: 5.3793 - acc: 0.09 - ETA: 33s - loss: 5.3835 - acc: 0.09 - ETA: 33s - loss: 5.3830 - acc: 0.09 - ETA: 33s - loss: 5.3804 - acc: 0.09 - ETA: 33s - loss: 5.3825 - acc: 0.09 - ETA: 32s - loss: 5.3830 - acc: 0.09 - ETA: 32s - loss: 5.3851 - acc: 0.09 - ETA: 32s - loss: 5.3853 - acc: 0.09 - ETA: 32s - loss: 5.3802 - acc: 0.09 - ETA: 32s - loss: 5.3767 - acc: 0.09 - ETA: 31s - loss: 5.3777 - acc: 0.09 - ETA: 31s - loss: 5.3790 - acc: 0.09 - ETA: 31s - loss: 5.3781 - acc: 0.09 - ETA: 31s - loss: 5.3752 - acc: 0.09 - ETA: 31s - loss: 5.3711 - acc: 0.09 - ETA: 30s - loss: 5.3722 - acc: 0.09 - ETA: 30s - loss: 5.3694 - acc: 0.09 - ETA: 30s - loss: 5.3706 - acc: 0.09 - ETA: 30s - loss: 5.3704 - acc: 0.09 - ETA: 30s - loss: 5.3734 - acc: 0.09 - ETA: 30s - loss: 5.3754 - acc: 0.09 - ETA: 29s - loss: 5.3755 - acc: 0.09 - ETA: 29s - loss: 5.3773 - acc: 0.09 - ETA: 29s - loss: 5.3766 - acc: 0.09 - ETA: 29s - loss: 5.3756 - acc: 0.09 - ETA: 29s - loss: 5.3737 - acc: 0.09 - ETA: 28s - loss: 5.3765 - acc: 0.09 - ETA: 28s - loss: 5.3758 - acc: 0.09 - ETA: 28s - loss: 5.3747 - acc: 0.09 - ETA: 28s - loss: 5.3726 - acc: 0.09 - ETA: 28s - loss: 5.3722 - acc: 0.09 - ETA: 27s - loss: 5.3721 - acc: 0.09 - ETA: 27s - loss: 5.3703 - acc: 0.09 - ETA: 27s - loss: 5.3687 - acc: 0.09 - ETA: 27s - loss: 5.3703 - acc: 0.09 - ETA: 27s - loss: 5.3732 - acc: 0.09 - ETA: 27s - loss: 5.3750 - acc: 0.09 - ETA: 26s - loss: 5.3731 - acc: 0.09 - ETA: 26s - loss: 5.3761 - acc: 0.09 - ETA: 26s - loss: 5.3793 - acc: 0.09 - ETA: 26s - loss: 5.3785 - acc: 0.09 - ETA: 26s - loss: 5.3836 - acc: 0.09 - ETA: 25s - loss: 5.3816 - acc: 0.09 - ETA: 25s - loss: 5.3837 - acc: 0.09 - ETA: 25s - loss: 5.3829 - acc: 0.09 - ETA: 25s - loss: 5.3842 - acc: 0.09 - ETA: 25s - loss: 5.3827 - acc: 0.09 - ETA: 25s - loss: 5.3864 - acc: 0.09 - ETA: 24s - loss: 5.3853 - acc: 0.09 - ETA: 24s - loss: 5.3855 - acc: 0.09 - ETA: 24s - loss: 5.3825 - acc: 0.09 - ETA: 24s - loss: 5.3822 - acc: 0.09 - ETA: 24s - loss: 5.3816 - acc: 0.09 - ETA: 23s - loss: 5.3812 - acc: 0.09 - ETA: 23s - loss: 5.3838 - acc: 0.09 - ETA: 23s - loss: 5.3827 - acc: 0.09 - ETA: 23s - loss: 5.3800 - acc: 0.09 - ETA: 23s - loss: 5.3795 - acc: 0.09 - ETA: 23s - loss: 5.3790 - acc: 0.09 - ETA: 22s - loss: 5.3812 - acc: 0.09 - ETA: 22s - loss: 5.3808 - acc: 0.09 - ETA: 22s - loss: 5.3817 - acc: 0.09 - ETA: 22s - loss: 5.3811 - acc: 0.09 - ETA: 22s - loss: 5.3842 - acc: 0.09 - ETA: 21s - loss: 5.3868 - acc: 0.09 - ETA: 21s - loss: 5.3880 - acc: 0.09 - ETA: 21s - loss: 5.3874 - acc: 0.09 - ETA: 21s - loss: 5.3862 - acc: 0.09 - ETA: 21s - loss: 5.3875 - acc: 0.09 - ETA: 20s - loss: 5.3917 - acc: 0.09 - ETA: 20s - loss: 5.3910 - acc: 0.09 - ETA: 20s - loss: 5.3907 - acc: 0.09 - ETA: 20s - loss: 5.3896 - acc: 0.09 - ETA: 20s - loss: 5.3898 - acc: 0.09 - ETA: 20s - loss: 5.3913 - acc: 0.09 - ETA: 19s - loss: 5.3904 - acc: 0.09 - ETA: 19s - loss: 5.3905 - acc: 0.09 - ETA: 19s - loss: 5.3891 - acc: 0.09 - ETA: 19s - loss: 5.3888 - acc: 0.09 - ETA: 19s - loss: 5.3878 - acc: 0.09 - ETA: 18s - loss: 5.3893 - acc: 0.09 - ETA: 18s - loss: 5.3901 - acc: 0.09 - ETA: 18s - loss: 5.3902 - acc: 0.09 - ETA: 18s - loss: 5.3897 - acc: 0.09 - ETA: 18s - loss: 5.3915 - acc: 0.09 - ETA: 17s - loss: 5.3908 - acc: 0.09 - ETA: 17s - loss: 5.3906 - acc: 0.09 - ETA: 17s - loss: 5.3893 - acc: 0.09 - ETA: 17s - loss: 5.3901 - acc: 0.09 - ETA: 17s - loss: 5.3907 - acc: 0.09 - ETA: 17s - loss: 5.3909 - acc: 0.09 - ETA: 16s - loss: 5.3932 - acc: 0.09 - ETA: 16s - loss: 5.3939 - acc: 0.09 - ETA: 16s - loss: 5.3941 - acc: 0.09 - ETA: 16s - loss: 5.3944 - acc: 0.09 - ETA: 16s - loss: 5.3974 - acc: 0.09 - ETA: 15s - loss: 5.3950 - acc: 0.09 - ETA: 15s - loss: 5.3946 - acc: 0.09 - ETA: 15s - loss: 5.3948 - acc: 0.09 - ETA: 15s - loss: 5.3947 - acc: 0.09 - ETA: 15s - loss: 5.3934 - acc: 0.09 - ETA: 14s - loss: 5.3916 - acc: 0.09 - ETA: 14s - loss: 5.3911 - acc: 0.09 - ETA: 14s - loss: 5.3905 - acc: 0.09 - ETA: 14s - loss: 5.3900 - acc: 0.09 - ETA: 14s - loss: 5.3903 - acc: 0.09 - ETA: 14s - loss: 5.3899 - acc: 0.09 - ETA: 13s - loss: 5.3940 - acc: 0.09 - ETA: 13s - loss: 5.3955 - acc: 0.09 - ETA: 13s - loss: 5.3956 - acc: 0.09 - ETA: 13s - loss: 5.3948 - acc: 0.09 - ETA: 13s - loss: 5.3943 - acc: 0.09 - ETA: 12s - loss: 5.3935 - acc: 0.09 - ETA: 12s - loss: 5.3950 - acc: 0.09 - ETA: 12s - loss: 5.3947 - acc: 0.09 - ETA: 12s - loss: 5.3937 - acc: 0.09 - ETA: 12s - loss: 5.3938 - acc: 0.09 - ETA: 11s - loss: 5.3948 - acc: 0.09 - ETA: 11s - loss: 5.3943 - acc: 0.09 - ETA: 11s - loss: 5.3935 - acc: 0.09 - ETA: 11s - loss: 5.3937 - acc: 0.09 - ETA: 11s - loss: 5.3925 - acc: 0.09 - ETA: 10s - loss: 5.3918 - acc: 0.09 - ETA: 10s - loss: 5.3917 - acc: 0.09 - ETA: 10s - loss: 5.3909 - acc: 0.09 - ETA: 10s - loss: 5.3916 - acc: 0.09 - ETA: 10s - loss: 5.3901 - acc: 0.09 - ETA: 10s - loss: 5.3888 - acc: 0.09 - ETA: 9s - loss: 5.3887 - acc: 0.0966 - ETA: 9s - loss: 5.3891 - acc: 0.096 - ETA: 9s - loss: 5.3880 - acc: 0.096 - ETA: 9s - loss: 5.3875 - acc: 0.096 - ETA: 9s - loss: 5.3872 - acc: 0.097 - ETA: 8s - loss: 5.3863 - acc: 0.097 - ETA: 8s - loss: 5.3859 - acc: 0.097 - ETA: 8s - loss: 5.3829 - acc: 0.097 - ETA: 8s - loss: 5.3839 - acc: 0.097 - ETA: 8s - loss: 5.3829 - acc: 0.097 - ETA: 7s - loss: 5.3838 - acc: 0.097 - ETA: 7s - loss: 5.3835 - acc: 0.097 - ETA: 7s - loss: 5.3834 - acc: 0.097 - ETA: 7s - loss: 5.3828 - acc: 0.097 - ETA: 7s - loss: 5.3813 - acc: 0.097 - ETA: 7s - loss: 5.3789 - acc: 0.097 - ETA: 6s - loss: 5.3773 - acc: 0.097 - ETA: 6s - loss: 5.3773 - acc: 0.097 - ETA: 6s - loss: 5.3783 - acc: 0.097 - ETA: 6s - loss: 5.3793 - acc: 0.097 - ETA: 6s - loss: 5.3806 - acc: 0.097 - ETA: 5s - loss: 5.3811 - acc: 0.097 - ETA: 5s - loss: 5.3814 - acc: 0.097 - ETA: 5s - loss: 5.3822 - acc: 0.098 - ETA: 5s - loss: 5.3827 - acc: 0.097 - ETA: 5s - loss: 5.3825 - acc: 0.098 - ETA: 4s - loss: 5.3815 - acc: 0.098 - ETA: 4s - loss: 5.3840 - acc: 0.0981"
     ]
    },
    {
     "name": "stdout",
     "output_type": "stream",
     "text": [
      "30742/30742 [==============================] - ETA: 4s - loss: 5.3831 - acc: 0.098 - ETA: 4s - loss: 5.3827 - acc: 0.098 - ETA: 4s - loss: 5.3828 - acc: 0.098 - ETA: 4s - loss: 5.3807 - acc: 0.098 - ETA: 3s - loss: 5.3813 - acc: 0.098 - ETA: 3s - loss: 5.3831 - acc: 0.098 - ETA: 3s - loss: 5.3843 - acc: 0.098 - ETA: 3s - loss: 5.3858 - acc: 0.098 - ETA: 3s - loss: 5.3875 - acc: 0.098 - ETA: 2s - loss: 5.3883 - acc: 0.098 - ETA: 2s - loss: 5.3879 - acc: 0.098 - ETA: 2s - loss: 5.3891 - acc: 0.098 - ETA: 2s - loss: 5.3907 - acc: 0.098 - ETA: 2s - loss: 5.3911 - acc: 0.098 - ETA: 1s - loss: 5.3903 - acc: 0.098 - ETA: 1s - loss: 5.3898 - acc: 0.098 - ETA: 1s - loss: 5.3890 - acc: 0.098 - ETA: 1s - loss: 5.3907 - acc: 0.098 - ETA: 1s - loss: 5.3909 - acc: 0.098 - ETA: 0s - loss: 5.3928 - acc: 0.098 - ETA: 0s - loss: 5.3940 - acc: 0.098 - ETA: 0s - loss: 5.3950 - acc: 0.098 - ETA: 0s - loss: 5.3961 - acc: 0.098 - ETA: 0s - loss: 5.3968 - acc: 0.098 - ETA: 0s - loss: 5.3981 - acc: 0.098 - 46s 1ms/step - loss: 5.3980 - acc: 0.0985\n",
      "Epoch 12/30\n"
     ]
    },
    {
     "name": "stdout",
     "output_type": "stream",
     "text": [
      "26368/30742 [========================>.....] - ETA: 56s - loss: 5.2940 - acc: 0.08 - ETA: 56s - loss: 5.1891 - acc: 0.10 - ETA: 1:07 - loss: 5.2318 - acc: 0.099 - ETA: 1:06 - loss: 5.1766 - acc: 0.119 - ETA: 1:01 - loss: 5.1990 - acc: 0.110 - ETA: 58s - loss: 5.2343 - acc: 0.109 - ETA: 1:03 - loss: 5.2133 - acc: 0.115 - ETA: 1:03 - loss: 5.2574 - acc: 0.110 - ETA: 1:01 - loss: 5.2802 - acc: 0.110 - ETA: 59s - loss: 5.2772 - acc: 0.108 - ETA: 58s - loss: 5.2854 - acc: 0.11 - ETA: 56s - loss: 5.3088 - acc: 0.10 - ETA: 55s - loss: 5.2923 - acc: 0.11 - ETA: 53s - loss: 5.2754 - acc: 0.11 - ETA: 52s - loss: 5.2884 - acc: 0.11 - ETA: 51s - loss: 5.2748 - acc: 0.11 - ETA: 51s - loss: 5.2726 - acc: 0.11 - ETA: 50s - loss: 5.2671 - acc: 0.11 - ETA: 49s - loss: 5.2800 - acc: 0.11 - ETA: 49s - loss: 5.2793 - acc: 0.11 - ETA: 48s - loss: 5.3017 - acc: 0.10 - ETA: 47s - loss: 5.3053 - acc: 0.10 - ETA: 47s - loss: 5.3152 - acc: 0.10 - ETA: 46s - loss: 5.3173 - acc: 0.10 - ETA: 46s - loss: 5.3170 - acc: 0.10 - ETA: 45s - loss: 5.3215 - acc: 0.10 - ETA: 45s - loss: 5.3203 - acc: 0.10 - ETA: 45s - loss: 5.3220 - acc: 0.10 - ETA: 44s - loss: 5.3154 - acc: 0.11 - ETA: 44s - loss: 5.3323 - acc: 0.10 - ETA: 44s - loss: 5.3316 - acc: 0.10 - ETA: 43s - loss: 5.3307 - acc: 0.10 - ETA: 43s - loss: 5.3306 - acc: 0.10 - ETA: 43s - loss: 5.3292 - acc: 0.10 - ETA: 42s - loss: 5.3391 - acc: 0.10 - ETA: 18:19 - loss: 5.3267 - acc: 0.10 - ETA: 17:45 - loss: 5.3337 - acc: 0.10 - ETA: 17:13 - loss: 5.3269 - acc: 0.10 - ETA: 16:42 - loss: 5.3267 - acc: 0.11 - ETA: 16:13 - loss: 5.3316 - acc: 0.10 - ETA: 15:46 - loss: 5.3338 - acc: 0.10 - ETA: 15:20 - loss: 5.3310 - acc: 0.10 - ETA: 14:55 - loss: 5.3283 - acc: 0.10 - ETA: 14:31 - loss: 5.3257 - acc: 0.10 - ETA: 14:08 - loss: 5.3211 - acc: 0.10 - ETA: 13:46 - loss: 5.3177 - acc: 0.10 - ETA: 13:25 - loss: 5.3222 - acc: 0.10 - ETA: 13:05 - loss: 5.3107 - acc: 0.11 - ETA: 12:46 - loss: 5.3095 - acc: 0.11 - ETA: 12:27 - loss: 5.3033 - acc: 0.11 - ETA: 12:09 - loss: 5.3078 - acc: 0.11 - ETA: 11:53 - loss: 5.3122 - acc: 0.11 - ETA: 11:40 - loss: 5.3069 - acc: 0.11 - ETA: 11:24 - loss: 5.3058 - acc: 0.11 - ETA: 11:10 - loss: 5.3078 - acc: 0.10 - ETA: 10:55 - loss: 5.3077 - acc: 0.11 - ETA: 10:41 - loss: 5.3081 - acc: 0.11 - ETA: 10:27 - loss: 5.3078 - acc: 0.11 - ETA: 10:14 - loss: 5.3028 - acc: 0.11 - ETA: 10:01 - loss: 5.3032 - acc: 0.11 - ETA: 9:48 - loss: 5.3033 - acc: 0.1108 - ETA: 9:36 - loss: 5.3064 - acc: 0.110 - ETA: 9:24 - loss: 5.3069 - acc: 0.110 - ETA: 9:13 - loss: 5.3162 - acc: 0.110 - ETA: 9:02 - loss: 5.3202 - acc: 0.110 - ETA: 8:51 - loss: 5.3192 - acc: 0.110 - ETA: 8:42 - loss: 5.3197 - acc: 0.110 - ETA: 8:32 - loss: 5.3200 - acc: 0.109 - ETA: 8:23 - loss: 5.3212 - acc: 0.109 - ETA: 8:13 - loss: 5.3208 - acc: 0.110 - ETA: 8:04 - loss: 5.3198 - acc: 0.109 - ETA: 7:55 - loss: 5.3203 - acc: 0.110 - ETA: 7:46 - loss: 5.3180 - acc: 0.110 - ETA: 7:38 - loss: 5.3198 - acc: 0.109 - ETA: 7:29 - loss: 5.3188 - acc: 0.109 - ETA: 7:21 - loss: 5.3128 - acc: 0.109 - ETA: 7:13 - loss: 5.3103 - acc: 0.109 - ETA: 7:05 - loss: 5.3102 - acc: 0.109 - ETA: 6:58 - loss: 5.3132 - acc: 0.109 - ETA: 6:50 - loss: 5.3150 - acc: 0.108 - ETA: 6:43 - loss: 5.3110 - acc: 0.109 - ETA: 6:36 - loss: 5.3108 - acc: 0.109 - ETA: 6:29 - loss: 5.3087 - acc: 0.109 - ETA: 6:22 - loss: 5.3113 - acc: 0.109 - ETA: 6:16 - loss: 5.3086 - acc: 0.109 - ETA: 6:09 - loss: 5.3109 - acc: 0.110 - ETA: 6:03 - loss: 5.3081 - acc: 0.110 - ETA: 5:57 - loss: 5.3091 - acc: 0.110 - ETA: 5:51 - loss: 5.3087 - acc: 0.109 - ETA: 5:45 - loss: 5.3085 - acc: 0.109 - ETA: 5:40 - loss: 5.3059 - acc: 0.109 - ETA: 5:34 - loss: 5.3082 - acc: 0.109 - ETA: 5:28 - loss: 5.3096 - acc: 0.109 - ETA: 5:23 - loss: 5.3079 - acc: 0.109 - ETA: 5:18 - loss: 5.3068 - acc: 0.110 - ETA: 5:13 - loss: 5.3090 - acc: 0.109 - ETA: 5:08 - loss: 5.3075 - acc: 0.110 - ETA: 5:03 - loss: 5.3071 - acc: 0.109 - ETA: 4:58 - loss: 5.3080 - acc: 0.110 - ETA: 4:53 - loss: 5.3098 - acc: 0.109 - ETA: 4:48 - loss: 5.3107 - acc: 0.109 - ETA: 4:44 - loss: 5.3079 - acc: 0.109 - ETA: 4:39 - loss: 5.3059 - acc: 0.109 - ETA: 4:35 - loss: 5.3091 - acc: 0.109 - ETA: 4:30 - loss: 5.3104 - acc: 0.109 - ETA: 4:26 - loss: 5.3114 - acc: 0.109 - ETA: 4:22 - loss: 5.3116 - acc: 0.110 - ETA: 4:18 - loss: 5.3120 - acc: 0.110 - ETA: 4:14 - loss: 5.3093 - acc: 0.110 - ETA: 4:10 - loss: 5.3109 - acc: 0.110 - ETA: 4:06 - loss: 5.3073 - acc: 0.110 - ETA: 4:02 - loss: 5.3071 - acc: 0.110 - ETA: 3:58 - loss: 5.3054 - acc: 0.110 - ETA: 3:54 - loss: 5.3010 - acc: 0.110 - ETA: 3:51 - loss: 5.3021 - acc: 0.110 - ETA: 3:47 - loss: 5.3043 - acc: 0.110 - ETA: 3:43 - loss: 5.3002 - acc: 0.110 - ETA: 3:40 - loss: 5.2992 - acc: 0.110 - ETA: 3:37 - loss: 5.2976 - acc: 0.110 - ETA: 3:33 - loss: 5.2973 - acc: 0.110 - ETA: 3:30 - loss: 5.2974 - acc: 0.110 - ETA: 3:27 - loss: 5.2967 - acc: 0.111 - ETA: 3:23 - loss: 5.2962 - acc: 0.111 - ETA: 3:20 - loss: 5.2951 - acc: 0.111 - ETA: 3:17 - loss: 5.2951 - acc: 0.110 - ETA: 3:14 - loss: 5.2974 - acc: 0.111 - ETA: 3:11 - loss: 5.2965 - acc: 0.111 - ETA: 3:08 - loss: 5.2981 - acc: 0.111 - ETA: 3:05 - loss: 5.2990 - acc: 0.111 - ETA: 3:02 - loss: 5.2997 - acc: 0.110 - ETA: 2:59 - loss: 5.3012 - acc: 0.110 - ETA: 2:56 - loss: 5.3007 - acc: 0.110 - ETA: 2:54 - loss: 5.3008 - acc: 0.110 - ETA: 2:51 - loss: 5.2990 - acc: 0.110 - ETA: 2:48 - loss: 5.2978 - acc: 0.110 - ETA: 2:45 - loss: 5.2962 - acc: 0.110 - ETA: 2:43 - loss: 5.2956 - acc: 0.110 - ETA: 2:40 - loss: 5.2964 - acc: 0.110 - ETA: 2:38 - loss: 5.2942 - acc: 0.110 - ETA: 2:35 - loss: 5.2945 - acc: 0.110 - ETA: 2:33 - loss: 5.2970 - acc: 0.110 - ETA: 2:30 - loss: 5.2935 - acc: 0.110 - ETA: 2:28 - loss: 5.2930 - acc: 0.110 - ETA: 2:25 - loss: 5.2929 - acc: 0.110 - ETA: 2:23 - loss: 5.2921 - acc: 0.110 - ETA: 2:21 - loss: 5.2905 - acc: 0.110 - ETA: 2:18 - loss: 5.2924 - acc: 0.110 - ETA: 2:16 - loss: 5.2925 - acc: 0.110 - ETA: 2:14 - loss: 5.2930 - acc: 0.110 - ETA: 2:11 - loss: 5.2936 - acc: 0.110 - ETA: 2:09 - loss: 5.2941 - acc: 0.110 - ETA: 2:07 - loss: 5.2933 - acc: 0.110 - ETA: 2:05 - loss: 5.2952 - acc: 0.110 - ETA: 2:03 - loss: 5.2932 - acc: 0.110 - ETA: 2:01 - loss: 5.2938 - acc: 0.110 - ETA: 1:59 - loss: 5.2966 - acc: 0.110 - ETA: 1:57 - loss: 5.2964 - acc: 0.110 - ETA: 1:55 - loss: 5.2969 - acc: 0.110 - ETA: 1:53 - loss: 5.2962 - acc: 0.110 - ETA: 1:51 - loss: 5.2973 - acc: 0.110 - ETA: 1:49 - loss: 5.2966 - acc: 0.111 - ETA: 1:47 - loss: 5.2977 - acc: 0.111 - ETA: 1:45 - loss: 5.3010 - acc: 0.110 - ETA: 1:43 - loss: 5.3005 - acc: 0.111 - ETA: 1:41 - loss: 5.2997 - acc: 0.111 - ETA: 1:39 - loss: 5.3011 - acc: 0.111 - ETA: 1:37 - loss: 5.3022 - acc: 0.111 - ETA: 1:35 - loss: 5.3028 - acc: 0.111 - ETA: 1:34 - loss: 5.3004 - acc: 0.111 - ETA: 1:32 - loss: 5.3005 - acc: 0.111 - ETA: 1:30 - loss: 5.3006 - acc: 0.111 - ETA: 1:28 - loss: 5.3009 - acc: 0.111 - ETA: 1:27 - loss: 5.3018 - acc: 0.111 - ETA: 1:25 - loss: 5.3025 - acc: 0.111 - ETA: 1:23 - loss: 5.3025 - acc: 0.111 - ETA: 1:21 - loss: 5.3022 - acc: 0.111 - ETA: 1:20 - loss: 5.3000 - acc: 0.112 - ETA: 1:18 - loss: 5.3017 - acc: 0.112 - ETA: 1:17 - loss: 5.3005 - acc: 0.112 - ETA: 1:15 - loss: 5.3000 - acc: 0.112 - ETA: 1:13 - loss: 5.3002 - acc: 0.112 - ETA: 1:12 - loss: 5.3029 - acc: 0.112 - ETA: 1:10 - loss: 5.3013 - acc: 0.112 - ETA: 1:09 - loss: 5.3015 - acc: 0.112 - ETA: 1:07 - loss: 5.3002 - acc: 0.112 - ETA: 1:06 - loss: 5.3000 - acc: 0.112 - ETA: 1:04 - loss: 5.2990 - acc: 0.112 - ETA: 1:03 - loss: 5.2983 - acc: 0.112 - ETA: 1:01 - loss: 5.2976 - acc: 0.112 - ETA: 1:00 - loss: 5.2954 - acc: 0.112 - ETA: 58s - loss: 5.2954 - acc: 0.112 - ETA: 57s - loss: 5.2968 - acc: 0.11 - ETA: 55s - loss: 5.2967 - acc: 0.11 - ETA: 54s - loss: 5.2976 - acc: 0.11 - ETA: 52s - loss: 5.2986 - acc: 0.11 - ETA: 51s - loss: 5.3005 - acc: 0.11 - ETA: 50s - loss: 5.2996 - acc: 0.11 - ETA: 48s - loss: 5.2996 - acc: 0.11 - ETA: 47s - loss: 5.3011 - acc: 0.11 - ETA: 46s - loss: 5.3023 - acc: 0.11 - ETA: 44s - loss: 5.3032 - acc: 0.11 - ETA: 43s - loss: 5.3008 - acc: 0.11 - ETA: 42s - loss: 5.3018 - acc: 0.11 - ETA: 40s - loss: 5.3021 - acc: 0.11 - ETA: 39s - loss: 5.3045 - acc: 0.11 - ETA: 38s - loss: 5.3041 - acc: 0.1121"
     ]
    },
    {
     "name": "stdout",
     "output_type": "stream",
     "text": [
      "30742/30742 [==============================] - ETA: 37s - loss: 5.3047 - acc: 0.11 - ETA: 35s - loss: 5.3052 - acc: 0.11 - ETA: 34s - loss: 5.3039 - acc: 0.11 - ETA: 33s - loss: 5.3036 - acc: 0.11 - ETA: 32s - loss: 5.3043 - acc: 0.11 - ETA: 30s - loss: 5.3042 - acc: 0.11 - ETA: 29s - loss: 5.3047 - acc: 0.11 - ETA: 28s - loss: 5.3059 - acc: 0.11 - ETA: 27s - loss: 5.3067 - acc: 0.11 - ETA: 26s - loss: 5.3068 - acc: 0.11 - ETA: 24s - loss: 5.3101 - acc: 0.11 - ETA: 23s - loss: 5.3110 - acc: 0.11 - ETA: 22s - loss: 5.3114 - acc: 0.11 - ETA: 21s - loss: 5.3124 - acc: 0.11 - ETA: 20s - loss: 5.3120 - acc: 0.11 - ETA: 19s - loss: 5.3116 - acc: 0.11 - ETA: 18s - loss: 5.3112 - acc: 0.11 - ETA: 16s - loss: 5.3120 - acc: 0.11 - ETA: 15s - loss: 5.3109 - acc: 0.11 - ETA: 14s - loss: 5.3121 - acc: 0.11 - ETA: 13s - loss: 5.3128 - acc: 0.11 - ETA: 12s - loss: 5.3126 - acc: 0.11 - ETA: 11s - loss: 5.3127 - acc: 0.11 - ETA: 10s - loss: 5.3133 - acc: 0.11 - ETA: 9s - loss: 5.3145 - acc: 0.1123 - ETA: 8s - loss: 5.3158 - acc: 0.112 - ETA: 7s - loss: 5.3185 - acc: 0.112 - ETA: 6s - loss: 5.3200 - acc: 0.111 - ETA: 5s - loss: 5.3207 - acc: 0.111 - ETA: 4s - loss: 5.3209 - acc: 0.111 - ETA: 3s - loss: 5.3199 - acc: 0.111 - ETA: 2s - loss: 5.3195 - acc: 0.112 - ETA: 1s - loss: 5.3188 - acc: 0.112 - ETA: 0s - loss: 5.3192 - acc: 0.112 - 237s 8ms/step - loss: 5.3196 - acc: 0.1122\n",
      "Epoch 13/30\n"
     ]
    },
    {
     "name": "stdout",
     "output_type": "stream",
     "text": [
      "27520/30742 [=========================>....] - ETA: 43s - loss: 4.9741 - acc: 0.13 - ETA: 43s - loss: 4.8850 - acc: 0.12 - ETA: 43s - loss: 4.9620 - acc: 0.13 - ETA: 44s - loss: 5.0131 - acc: 0.13 - ETA: 44s - loss: 5.1370 - acc: 0.12 - ETA: 43s - loss: 5.1608 - acc: 0.12 - ETA: 43s - loss: 5.1518 - acc: 0.12 - ETA: 43s - loss: 5.1477 - acc: 0.12 - ETA: 43s - loss: 5.1866 - acc: 0.12 - ETA: 42s - loss: 5.1935 - acc: 0.12 - ETA: 42s - loss: 5.1934 - acc: 0.12 - ETA: 42s - loss: 5.1970 - acc: 0.11 - ETA: 42s - loss: 5.2006 - acc: 0.11 - ETA: 42s - loss: 5.1981 - acc: 0.11 - ETA: 42s - loss: 5.1887 - acc: 0.11 - ETA: 41s - loss: 5.2001 - acc: 0.11 - ETA: 41s - loss: 5.1740 - acc: 0.11 - ETA: 41s - loss: 5.1802 - acc: 0.11 - ETA: 41s - loss: 5.1785 - acc: 0.11 - ETA: 41s - loss: 5.1646 - acc: 0.11 - ETA: 41s - loss: 5.1643 - acc: 0.11 - ETA: 41s - loss: 5.1763 - acc: 0.11 - ETA: 41s - loss: 5.1533 - acc: 0.12 - ETA: 40s - loss: 5.1570 - acc: 0.12 - ETA: 40s - loss: 5.1658 - acc: 0.12 - ETA: 40s - loss: 5.1757 - acc: 0.11 - ETA: 40s - loss: 5.1696 - acc: 0.12 - ETA: 40s - loss: 5.1676 - acc: 0.12 - ETA: 39s - loss: 5.1636 - acc: 0.12 - ETA: 39s - loss: 5.1607 - acc: 0.12 - ETA: 39s - loss: 5.1662 - acc: 0.12 - ETA: 39s - loss: 5.1562 - acc: 0.12 - ETA: 39s - loss: 5.1680 - acc: 0.12 - ETA: 38s - loss: 5.1706 - acc: 0.12 - ETA: 38s - loss: 5.1687 - acc: 0.12 - ETA: 38s - loss: 5.1606 - acc: 0.12 - ETA: 38s - loss: 5.1564 - acc: 0.12 - ETA: 38s - loss: 5.1528 - acc: 0.12 - ETA: 37s - loss: 5.1547 - acc: 0.12 - ETA: 37s - loss: 5.1553 - acc: 0.12 - ETA: 37s - loss: 5.1609 - acc: 0.12 - ETA: 37s - loss: 5.1701 - acc: 0.12 - ETA: 37s - loss: 5.1693 - acc: 0.12 - ETA: 37s - loss: 5.1687 - acc: 0.12 - ETA: 37s - loss: 5.1676 - acc: 0.12 - ETA: 37s - loss: 5.1746 - acc: 0.12 - ETA: 37s - loss: 5.1910 - acc: 0.12 - ETA: 36s - loss: 5.1939 - acc: 0.12 - ETA: 36s - loss: 5.1989 - acc: 0.12 - ETA: 36s - loss: 5.2120 - acc: 0.12 - ETA: 36s - loss: 5.2139 - acc: 0.11 - ETA: 36s - loss: 5.2143 - acc: 0.12 - ETA: 35s - loss: 5.2157 - acc: 0.12 - ETA: 35s - loss: 5.2106 - acc: 0.12 - ETA: 35s - loss: 5.2116 - acc: 0.12 - ETA: 35s - loss: 5.2100 - acc: 0.12 - ETA: 35s - loss: 5.2123 - acc: 0.12 - ETA: 34s - loss: 5.2115 - acc: 0.12 - ETA: 34s - loss: 5.2159 - acc: 0.12 - ETA: 34s - loss: 5.2186 - acc: 0.12 - ETA: 34s - loss: 5.2172 - acc: 0.12 - ETA: 34s - loss: 5.2143 - acc: 0.12 - ETA: 33s - loss: 5.2181 - acc: 0.12 - ETA: 33s - loss: 5.2248 - acc: 0.12 - ETA: 33s - loss: 5.2255 - acc: 0.12 - ETA: 33s - loss: 5.2286 - acc: 0.12 - ETA: 33s - loss: 5.2244 - acc: 0.12 - ETA: 32s - loss: 5.2251 - acc: 0.12 - ETA: 32s - loss: 5.2259 - acc: 0.12 - ETA: 32s - loss: 5.2290 - acc: 0.12 - ETA: 32s - loss: 5.2333 - acc: 0.12 - ETA: 32s - loss: 5.2382 - acc: 0.12 - ETA: 31s - loss: 5.2354 - acc: 0.12 - ETA: 31s - loss: 5.2377 - acc: 0.12 - ETA: 31s - loss: 5.2334 - acc: 0.12 - ETA: 31s - loss: 5.2369 - acc: 0.12 - ETA: 31s - loss: 5.2339 - acc: 0.12 - ETA: 31s - loss: 5.2295 - acc: 0.12 - ETA: 30s - loss: 5.2316 - acc: 0.12 - ETA: 30s - loss: 5.2312 - acc: 0.12 - ETA: 30s - loss: 5.2243 - acc: 0.12 - ETA: 30s - loss: 5.2198 - acc: 0.12 - ETA: 30s - loss: 5.2227 - acc: 0.12 - ETA: 29s - loss: 5.2205 - acc: 0.12 - ETA: 29s - loss: 5.2213 - acc: 0.12 - ETA: 29s - loss: 5.2233 - acc: 0.12 - ETA: 29s - loss: 5.2284 - acc: 0.12 - ETA: 29s - loss: 5.2324 - acc: 0.12 - ETA: 28s - loss: 5.2374 - acc: 0.12 - ETA: 28s - loss: 5.2389 - acc: 0.12 - ETA: 28s - loss: 5.2399 - acc: 0.12 - ETA: 28s - loss: 5.2367 - acc: 0.12 - ETA: 28s - loss: 5.2397 - acc: 0.11 - ETA: 27s - loss: 5.2440 - acc: 0.11 - ETA: 27s - loss: 5.2438 - acc: 0.12 - ETA: 27s - loss: 5.2436 - acc: 0.12 - ETA: 27s - loss: 5.2434 - acc: 0.12 - ETA: 27s - loss: 5.2441 - acc: 0.12 - ETA: 27s - loss: 5.2465 - acc: 0.12 - ETA: 26s - loss: 5.2464 - acc: 0.12 - ETA: 26s - loss: 5.2418 - acc: 0.12 - ETA: 26s - loss: 5.2463 - acc: 0.12 - ETA: 26s - loss: 5.2445 - acc: 0.12 - ETA: 26s - loss: 5.2455 - acc: 0.12 - ETA: 25s - loss: 5.2446 - acc: 0.12 - ETA: 25s - loss: 5.2452 - acc: 0.12 - ETA: 25s - loss: 5.2439 - acc: 0.12 - ETA: 25s - loss: 5.2427 - acc: 0.12 - ETA: 25s - loss: 5.2454 - acc: 0.12 - ETA: 24s - loss: 5.2439 - acc: 0.11 - ETA: 24s - loss: 5.2466 - acc: 0.11 - ETA: 24s - loss: 5.2461 - acc: 0.11 - ETA: 24s - loss: 5.2450 - acc: 0.11 - ETA: 24s - loss: 5.2469 - acc: 0.11 - ETA: 23s - loss: 5.2461 - acc: 0.11 - ETA: 23s - loss: 5.2494 - acc: 0.11 - ETA: 23s - loss: 5.2490 - acc: 0.11 - ETA: 23s - loss: 5.2492 - acc: 0.11 - ETA: 23s - loss: 5.2456 - acc: 0.11 - ETA: 23s - loss: 5.2465 - acc: 0.11 - ETA: 22s - loss: 5.2465 - acc: 0.12 - ETA: 22s - loss: 5.2484 - acc: 0.11 - ETA: 22s - loss: 5.2480 - acc: 0.12 - ETA: 22s - loss: 5.2445 - acc: 0.12 - ETA: 22s - loss: 5.2471 - acc: 0.12 - ETA: 21s - loss: 5.2472 - acc: 0.12 - ETA: 21s - loss: 5.2465 - acc: 0.12 - ETA: 21s - loss: 5.2488 - acc: 0.12 - ETA: 21s - loss: 5.2504 - acc: 0.11 - ETA: 21s - loss: 5.2480 - acc: 0.12 - ETA: 20s - loss: 5.2481 - acc: 0.12 - ETA: 20s - loss: 5.2473 - acc: 0.12 - ETA: 20s - loss: 5.2493 - acc: 0.11 - ETA: 20s - loss: 5.2510 - acc: 0.11 - ETA: 20s - loss: 5.2498 - acc: 0.12 - ETA: 19s - loss: 5.2458 - acc: 0.12 - ETA: 19s - loss: 5.2475 - acc: 0.11 - ETA: 19s - loss: 5.2488 - acc: 0.12 - ETA: 19s - loss: 5.2500 - acc: 0.11 - ETA: 19s - loss: 5.2507 - acc: 0.12 - ETA: 19s - loss: 5.2513 - acc: 0.11 - ETA: 18s - loss: 5.2516 - acc: 0.11 - ETA: 18s - loss: 5.2512 - acc: 0.12 - ETA: 18s - loss: 5.2525 - acc: 0.12 - ETA: 18s - loss: 5.2528 - acc: 0.11 - ETA: 18s - loss: 5.2526 - acc: 0.11 - ETA: 17s - loss: 5.2519 - acc: 0.11 - ETA: 17s - loss: 5.2501 - acc: 0.11 - ETA: 17s - loss: 5.2514 - acc: 0.11 - ETA: 17s - loss: 5.2507 - acc: 0.12 - ETA: 17s - loss: 5.2516 - acc: 0.12 - ETA: 16s - loss: 5.2534 - acc: 0.12 - ETA: 16s - loss: 5.2528 - acc: 0.12 - ETA: 16s - loss: 5.2524 - acc: 0.12 - ETA: 16s - loss: 5.2553 - acc: 0.11 - ETA: 16s - loss: 5.2563 - acc: 0.12 - ETA: 15s - loss: 5.2575 - acc: 0.12 - ETA: 15s - loss: 5.2582 - acc: 0.12 - ETA: 15s - loss: 5.2567 - acc: 0.11 - ETA: 15s - loss: 5.2566 - acc: 0.11 - ETA: 15s - loss: 5.2567 - acc: 0.12 - ETA: 14s - loss: 5.2574 - acc: 0.12 - ETA: 14s - loss: 5.2580 - acc: 0.12 - ETA: 14s - loss: 5.2606 - acc: 0.11 - ETA: 14s - loss: 5.2609 - acc: 0.11 - ETA: 14s - loss: 5.2593 - acc: 0.11 - ETA: 14s - loss: 5.2580 - acc: 0.11 - ETA: 13s - loss: 5.2586 - acc: 0.11 - ETA: 13s - loss: 5.2600 - acc: 0.11 - ETA: 13s - loss: 5.2615 - acc: 0.11 - ETA: 13s - loss: 5.2633 - acc: 0.11 - ETA: 13s - loss: 5.2630 - acc: 0.11 - ETA: 12s - loss: 5.2640 - acc: 0.11 - ETA: 12s - loss: 5.2640 - acc: 0.11 - ETA: 12s - loss: 5.2637 - acc: 0.11 - ETA: 12s - loss: 5.2641 - acc: 0.11 - ETA: 12s - loss: 5.2665 - acc: 0.11 - ETA: 11s - loss: 5.2657 - acc: 0.11 - ETA: 11s - loss: 5.2655 - acc: 0.11 - ETA: 11s - loss: 5.2655 - acc: 0.11 - ETA: 11s - loss: 5.2661 - acc: 0.11 - ETA: 11s - loss: 5.2678 - acc: 0.11 - ETA: 10s - loss: 5.2661 - acc: 0.11 - ETA: 10s - loss: 5.2660 - acc: 0.11 - ETA: 10s - loss: 5.2638 - acc: 0.11 - ETA: 10s - loss: 5.2664 - acc: 0.11 - ETA: 10s - loss: 5.2662 - acc: 0.11 - ETA: 9s - loss: 5.2642 - acc: 0.1193 - ETA: 9s - loss: 5.2619 - acc: 0.119 - ETA: 9s - loss: 5.2613 - acc: 0.119 - ETA: 9s - loss: 5.2605 - acc: 0.119 - ETA: 9s - loss: 5.2601 - acc: 0.119 - ETA: 9s - loss: 5.2614 - acc: 0.119 - ETA: 8s - loss: 5.2606 - acc: 0.119 - ETA: 8s - loss: 5.2603 - acc: 0.119 - ETA: 8s - loss: 5.2596 - acc: 0.120 - ETA: 8s - loss: 5.2599 - acc: 0.120 - ETA: 8s - loss: 5.2604 - acc: 0.120 - ETA: 7s - loss: 5.2597 - acc: 0.120 - ETA: 7s - loss: 5.2602 - acc: 0.119 - ETA: 7s - loss: 5.2577 - acc: 0.119 - ETA: 7s - loss: 5.2563 - acc: 0.120 - ETA: 7s - loss: 5.2551 - acc: 0.120 - ETA: 6s - loss: 5.2561 - acc: 0.120 - ETA: 6s - loss: 5.2564 - acc: 0.120 - ETA: 6s - loss: 5.2574 - acc: 0.120 - ETA: 6s - loss: 5.2589 - acc: 0.120 - ETA: 6s - loss: 5.2587 - acc: 0.120 - ETA: 5s - loss: 5.2596 - acc: 0.120 - ETA: 5s - loss: 5.2610 - acc: 0.120 - ETA: 5s - loss: 5.2615 - acc: 0.120 - ETA: 5s - loss: 5.2606 - acc: 0.120 - ETA: 5s - loss: 5.2607 - acc: 0.119 - ETA: 5s - loss: 5.2606 - acc: 0.119 - ETA: 4s - loss: 5.2612 - acc: 0.1197"
     ]
    },
    {
     "name": "stdout",
     "output_type": "stream",
     "text": [
      "30742/30742 [==============================] - ETA: 4s - loss: 5.2628 - acc: 0.119 - ETA: 4s - loss: 5.2619 - acc: 0.119 - ETA: 4s - loss: 5.2610 - acc: 0.120 - ETA: 4s - loss: 5.2597 - acc: 0.120 - ETA: 3s - loss: 5.2610 - acc: 0.120 - ETA: 3s - loss: 5.2600 - acc: 0.120 - ETA: 3s - loss: 5.2591 - acc: 0.120 - ETA: 3s - loss: 5.2595 - acc: 0.120 - ETA: 3s - loss: 5.2598 - acc: 0.120 - ETA: 2s - loss: 5.2587 - acc: 0.120 - ETA: 2s - loss: 5.2580 - acc: 0.120 - ETA: 2s - loss: 5.2582 - acc: 0.120 - ETA: 2s - loss: 5.2594 - acc: 0.120 - ETA: 2s - loss: 5.2604 - acc: 0.120 - ETA: 1s - loss: 5.2598 - acc: 0.120 - ETA: 1s - loss: 5.2598 - acc: 0.120 - ETA: 1s - loss: 5.2607 - acc: 0.120 - ETA: 1s - loss: 5.2601 - acc: 0.120 - ETA: 1s - loss: 5.2596 - acc: 0.120 - ETA: 0s - loss: 5.2600 - acc: 0.120 - ETA: 0s - loss: 5.2608 - acc: 0.120 - ETA: 0s - loss: 5.2602 - acc: 0.120 - ETA: 0s - loss: 5.2594 - acc: 0.120 - ETA: 0s - loss: 5.2598 - acc: 0.120 - ETA: 0s - loss: 5.2585 - acc: 0.120 - 46s 1ms/step - loss: 5.2586 - acc: 0.1206\n",
      "Epoch 14/30\n"
     ]
    },
    {
     "name": "stdout",
     "output_type": "stream",
     "text": [
      "27520/30742 [=========================>....] - ETA: 44s - loss: 4.9855 - acc: 0.14 - ETA: 45s - loss: 5.0106 - acc: 0.14 - ETA: 45s - loss: 5.0747 - acc: 0.14 - ETA: 44s - loss: 5.0845 - acc: 0.14 - ETA: 44s - loss: 5.0111 - acc: 0.15 - ETA: 44s - loss: 5.0080 - acc: 0.16 - ETA: 43s - loss: 4.9875 - acc: 0.15 - ETA: 43s - loss: 4.9947 - acc: 0.15 - ETA: 43s - loss: 5.0485 - acc: 0.15 - ETA: 43s - loss: 5.0895 - acc: 0.14 - ETA: 43s - loss: 5.0830 - acc: 0.14 - ETA: 42s - loss: 5.0927 - acc: 0.14 - ETA: 43s - loss: 5.0940 - acc: 0.13 - ETA: 42s - loss: 5.1157 - acc: 0.13 - ETA: 42s - loss: 5.1379 - acc: 0.13 - ETA: 42s - loss: 5.1274 - acc: 0.13 - ETA: 42s - loss: 5.1208 - acc: 0.12 - ETA: 41s - loss: 5.1122 - acc: 0.12 - ETA: 41s - loss: 5.1147 - acc: 0.12 - ETA: 41s - loss: 5.1097 - acc: 0.12 - ETA: 41s - loss: 5.1040 - acc: 0.13 - ETA: 41s - loss: 5.1015 - acc: 0.13 - ETA: 41s - loss: 5.1011 - acc: 0.13 - ETA: 40s - loss: 5.1004 - acc: 0.13 - ETA: 40s - loss: 5.0928 - acc: 0.13 - ETA: 40s - loss: 5.0851 - acc: 0.13 - ETA: 40s - loss: 5.0796 - acc: 0.13 - ETA: 40s - loss: 5.0880 - acc: 0.13 - ETA: 39s - loss: 5.0850 - acc: 0.13 - ETA: 39s - loss: 5.0969 - acc: 0.13 - ETA: 39s - loss: 5.1019 - acc: 0.13 - ETA: 39s - loss: 5.0991 - acc: 0.13 - ETA: 39s - loss: 5.1014 - acc: 0.13 - ETA: 38s - loss: 5.1040 - acc: 0.13 - ETA: 38s - loss: 5.1028 - acc: 0.13 - ETA: 38s - loss: 5.1027 - acc: 0.13 - ETA: 38s - loss: 5.0977 - acc: 0.13 - ETA: 38s - loss: 5.1109 - acc: 0.13 - ETA: 37s - loss: 5.1215 - acc: 0.13 - ETA: 37s - loss: 5.1231 - acc: 0.13 - ETA: 37s - loss: 5.1290 - acc: 0.13 - ETA: 37s - loss: 5.1383 - acc: 0.12 - ETA: 37s - loss: 5.1397 - acc: 0.12 - ETA: 37s - loss: 5.1421 - acc: 0.12 - ETA: 36s - loss: 5.1436 - acc: 0.12 - ETA: 36s - loss: 5.1399 - acc: 0.12 - ETA: 36s - loss: 5.1386 - acc: 0.12 - ETA: 36s - loss: 5.1396 - acc: 0.12 - ETA: 36s - loss: 5.1423 - acc: 0.12 - ETA: 35s - loss: 5.1431 - acc: 0.12 - ETA: 35s - loss: 5.1493 - acc: 0.12 - ETA: 35s - loss: 5.1539 - acc: 0.12 - ETA: 35s - loss: 5.1568 - acc: 0.12 - ETA: 35s - loss: 5.1531 - acc: 0.12 - ETA: 34s - loss: 5.1482 - acc: 0.12 - ETA: 34s - loss: 5.1407 - acc: 0.12 - ETA: 34s - loss: 5.1428 - acc: 0.12 - ETA: 34s - loss: 5.1418 - acc: 0.12 - ETA: 34s - loss: 5.1455 - acc: 0.12 - ETA: 34s - loss: 5.1455 - acc: 0.12 - ETA: 33s - loss: 5.1425 - acc: 0.12 - ETA: 33s - loss: 5.1380 - acc: 0.12 - ETA: 33s - loss: 5.1326 - acc: 0.12 - ETA: 33s - loss: 5.1371 - acc: 0.12 - ETA: 33s - loss: 5.1373 - acc: 0.12 - ETA: 32s - loss: 5.1388 - acc: 0.12 - ETA: 32s - loss: 5.1396 - acc: 0.12 - ETA: 32s - loss: 5.1376 - acc: 0.12 - ETA: 32s - loss: 5.1371 - acc: 0.12 - ETA: 32s - loss: 5.1421 - acc: 0.12 - ETA: 31s - loss: 5.1435 - acc: 0.12 - ETA: 31s - loss: 5.1452 - acc: 0.12 - ETA: 31s - loss: 5.1469 - acc: 0.12 - ETA: 31s - loss: 5.1459 - acc: 0.12 - ETA: 31s - loss: 5.1464 - acc: 0.12 - ETA: 31s - loss: 5.1544 - acc: 0.12 - ETA: 30s - loss: 5.1515 - acc: 0.12 - ETA: 30s - loss: 5.1478 - acc: 0.12 - ETA: 30s - loss: 5.1472 - acc: 0.12 - ETA: 30s - loss: 5.1459 - acc: 0.12 - ETA: 30s - loss: 5.1466 - acc: 0.12 - ETA: 29s - loss: 5.1416 - acc: 0.12 - ETA: 29s - loss: 5.1471 - acc: 0.12 - ETA: 29s - loss: 5.1434 - acc: 0.12 - ETA: 29s - loss: 5.1475 - acc: 0.12 - ETA: 29s - loss: 5.1443 - acc: 0.12 - ETA: 28s - loss: 5.1440 - acc: 0.12 - ETA: 28s - loss: 5.1427 - acc: 0.12 - ETA: 28s - loss: 5.1465 - acc: 0.12 - ETA: 28s - loss: 5.1432 - acc: 0.12 - ETA: 28s - loss: 5.1466 - acc: 0.12 - ETA: 28s - loss: 5.1435 - acc: 0.12 - ETA: 27s - loss: 5.1469 - acc: 0.12 - ETA: 27s - loss: 5.1489 - acc: 0.12 - ETA: 27s - loss: 5.1506 - acc: 0.12 - ETA: 27s - loss: 5.1515 - acc: 0.12 - ETA: 27s - loss: 5.1529 - acc: 0.12 - ETA: 26s - loss: 5.1506 - acc: 0.12 - ETA: 26s - loss: 5.1497 - acc: 0.12 - ETA: 26s - loss: 5.1508 - acc: 0.12 - ETA: 26s - loss: 5.1531 - acc: 0.12 - ETA: 26s - loss: 5.1495 - acc: 0.12 - ETA: 25s - loss: 5.1509 - acc: 0.12 - ETA: 25s - loss: 5.1550 - acc: 0.12 - ETA: 25s - loss: 5.1575 - acc: 0.12 - ETA: 25s - loss: 5.1586 - acc: 0.12 - ETA: 25s - loss: 5.1617 - acc: 0.12 - ETA: 25s - loss: 5.1601 - acc: 0.12 - ETA: 24s - loss: 5.1614 - acc: 0.12 - ETA: 24s - loss: 5.1598 - acc: 0.12 - ETA: 24s - loss: 5.1608 - acc: 0.12 - ETA: 24s - loss: 5.1614 - acc: 0.12 - ETA: 24s - loss: 5.1592 - acc: 0.12 - ETA: 23s - loss: 5.1573 - acc: 0.12 - ETA: 23s - loss: 5.1568 - acc: 0.12 - ETA: 23s - loss: 5.1604 - acc: 0.12 - ETA: 23s - loss: 5.1590 - acc: 0.12 - ETA: 23s - loss: 5.1589 - acc: 0.12 - ETA: 22s - loss: 5.1573 - acc: 0.12 - ETA: 22s - loss: 5.1563 - acc: 0.12 - ETA: 22s - loss: 5.1547 - acc: 0.12 - ETA: 22s - loss: 5.1537 - acc: 0.12 - ETA: 22s - loss: 5.1531 - acc: 0.12 - ETA: 21s - loss: 5.1551 - acc: 0.12 - ETA: 21s - loss: 5.1565 - acc: 0.12 - ETA: 21s - loss: 5.1561 - acc: 0.12 - ETA: 21s - loss: 5.1565 - acc: 0.12 - ETA: 21s - loss: 5.1564 - acc: 0.12 - ETA: 21s - loss: 5.1573 - acc: 0.12 - ETA: 20s - loss: 5.1599 - acc: 0.12 - ETA: 20s - loss: 5.1571 - acc: 0.12 - ETA: 20s - loss: 5.1556 - acc: 0.12 - ETA: 20s - loss: 5.1549 - acc: 0.12 - ETA: 20s - loss: 5.1549 - acc: 0.12 - ETA: 19s - loss: 5.1572 - acc: 0.12 - ETA: 19s - loss: 5.1564 - acc: 0.12 - ETA: 19s - loss: 5.1580 - acc: 0.12 - ETA: 19s - loss: 5.1594 - acc: 0.12 - ETA: 19s - loss: 5.1615 - acc: 0.12 - ETA: 18s - loss: 5.1603 - acc: 0.12 - ETA: 18s - loss: 5.1625 - acc: 0.12 - ETA: 18s - loss: 5.1606 - acc: 0.12 - ETA: 18s - loss: 5.1614 - acc: 0.12 - ETA: 18s - loss: 5.1638 - acc: 0.12 - ETA: 18s - loss: 5.1635 - acc: 0.12 - ETA: 17s - loss: 5.1626 - acc: 0.12 - ETA: 17s - loss: 5.1607 - acc: 0.12 - ETA: 17s - loss: 5.1588 - acc: 0.12 - ETA: 17s - loss: 5.1602 - acc: 0.12 - ETA: 17s - loss: 5.1564 - acc: 0.12 - ETA: 16s - loss: 5.1567 - acc: 0.12 - ETA: 16s - loss: 5.1543 - acc: 0.12 - ETA: 16s - loss: 5.1538 - acc: 0.12 - ETA: 16s - loss: 5.1549 - acc: 0.12 - ETA: 16s - loss: 5.1538 - acc: 0.12 - ETA: 15s - loss: 5.1527 - acc: 0.12 - ETA: 15s - loss: 5.1497 - acc: 0.12 - ETA: 15s - loss: 5.1485 - acc: 0.12 - ETA: 15s - loss: 5.1489 - acc: 0.12 - ETA: 15s - loss: 5.1498 - acc: 0.12 - ETA: 15s - loss: 5.1496 - acc: 0.12 - ETA: 14s - loss: 5.1512 - acc: 0.12 - ETA: 14s - loss: 5.1534 - acc: 0.12 - ETA: 14s - loss: 5.1553 - acc: 0.12 - ETA: 14s - loss: 5.1547 - acc: 0.12 - ETA: 14s - loss: 5.1533 - acc: 0.12 - ETA: 13s - loss: 5.1515 - acc: 0.12 - ETA: 13s - loss: 5.1529 - acc: 0.12 - ETA: 13s - loss: 5.1536 - acc: 0.12 - ETA: 13s - loss: 5.1525 - acc: 0.12 - ETA: 13s - loss: 5.1541 - acc: 0.12 - ETA: 12s - loss: 5.1535 - acc: 0.12 - ETA: 12s - loss: 5.1552 - acc: 0.12 - ETA: 12s - loss: 5.1544 - acc: 0.12 - ETA: 12s - loss: 5.1551 - acc: 0.12 - ETA: 12s - loss: 5.1541 - acc: 0.12 - ETA: 11s - loss: 5.1542 - acc: 0.12 - ETA: 11s - loss: 5.1537 - acc: 0.12 - ETA: 11s - loss: 5.1533 - acc: 0.12 - ETA: 11s - loss: 5.1543 - acc: 0.12 - ETA: 11s - loss: 5.1550 - acc: 0.12 - ETA: 11s - loss: 5.1551 - acc: 0.12 - ETA: 10s - loss: 5.1532 - acc: 0.12 - ETA: 10s - loss: 5.1523 - acc: 0.12 - ETA: 10s - loss: 5.1530 - acc: 0.12 - ETA: 10s - loss: 5.1537 - acc: 0.12 - ETA: 10s - loss: 5.1558 - acc: 0.12 - ETA: 9s - loss: 5.1585 - acc: 0.1283 - ETA: 9s - loss: 5.1571 - acc: 0.128 - ETA: 9s - loss: 5.1564 - acc: 0.128 - ETA: 9s - loss: 5.1568 - acc: 0.128 - ETA: 9s - loss: 5.1585 - acc: 0.128 - ETA: 8s - loss: 5.1579 - acc: 0.128 - ETA: 8s - loss: 5.1581 - acc: 0.128 - ETA: 8s - loss: 5.1576 - acc: 0.128 - ETA: 8s - loss: 5.1558 - acc: 0.128 - ETA: 8s - loss: 5.1551 - acc: 0.129 - ETA: 8s - loss: 5.1560 - acc: 0.129 - ETA: 7s - loss: 5.1566 - acc: 0.129 - ETA: 7s - loss: 5.1562 - acc: 0.129 - ETA: 7s - loss: 5.1572 - acc: 0.128 - ETA: 7s - loss: 5.1592 - acc: 0.128 - ETA: 7s - loss: 5.1586 - acc: 0.128 - ETA: 6s - loss: 5.1589 - acc: 0.128 - ETA: 6s - loss: 5.1582 - acc: 0.128 - ETA: 6s - loss: 5.1597 - acc: 0.128 - ETA: 6s - loss: 5.1584 - acc: 0.128 - ETA: 6s - loss: 5.1595 - acc: 0.128 - ETA: 5s - loss: 5.1590 - acc: 0.128 - ETA: 5s - loss: 5.1602 - acc: 0.128 - ETA: 5s - loss: 5.1624 - acc: 0.128 - ETA: 5s - loss: 5.1634 - acc: 0.128 - ETA: 5s - loss: 5.1635 - acc: 0.128 - ETA: 4s - loss: 5.1633 - acc: 0.128 - ETA: 4s - loss: 5.1638 - acc: 0.1286"
     ]
    },
    {
     "name": "stdout",
     "output_type": "stream",
     "text": [
      "30742/30742 [==============================] - ETA: 4s - loss: 5.1641 - acc: 0.128 - ETA: 4s - loss: 5.1642 - acc: 0.128 - ETA: 4s - loss: 5.1627 - acc: 0.128 - ETA: 4s - loss: 5.1634 - acc: 0.128 - ETA: 3s - loss: 5.1644 - acc: 0.128 - ETA: 3s - loss: 5.1646 - acc: 0.128 - ETA: 3s - loss: 5.1639 - acc: 0.128 - ETA: 3s - loss: 5.1646 - acc: 0.128 - ETA: 3s - loss: 5.1648 - acc: 0.128 - ETA: 2s - loss: 5.1645 - acc: 0.128 - ETA: 2s - loss: 5.1641 - acc: 0.128 - ETA: 2s - loss: 5.1625 - acc: 0.128 - ETA: 2s - loss: 5.1616 - acc: 0.129 - ETA: 2s - loss: 5.1612 - acc: 0.129 - ETA: 1s - loss: 5.1602 - acc: 0.129 - ETA: 1s - loss: 5.1601 - acc: 0.129 - ETA: 1s - loss: 5.1598 - acc: 0.129 - ETA: 1s - loss: 5.1614 - acc: 0.129 - ETA: 1s - loss: 5.1617 - acc: 0.129 - ETA: 0s - loss: 5.1617 - acc: 0.129 - ETA: 0s - loss: 5.1631 - acc: 0.129 - ETA: 0s - loss: 5.1632 - acc: 0.129 - ETA: 0s - loss: 5.1623 - acc: 0.129 - ETA: 0s - loss: 5.1615 - acc: 0.129 - ETA: 0s - loss: 5.1617 - acc: 0.129 - 46s 1ms/step - loss: 5.1622 - acc: 0.1297\n",
      "Epoch 15/30\n"
     ]
    },
    {
     "name": "stdout",
     "output_type": "stream",
     "text": [
      "27520/30742 [=========================>....] - ETA: 43s - loss: 5.3967 - acc: 0.10 - ETA: 44s - loss: 5.0508 - acc: 0.10 - ETA: 44s - loss: 4.9563 - acc: 0.11 - ETA: 43s - loss: 5.0039 - acc: 0.12 - ETA: 43s - loss: 5.0126 - acc: 0.12 - ETA: 44s - loss: 5.0220 - acc: 0.13 - ETA: 43s - loss: 4.9554 - acc: 0.14 - ETA: 43s - loss: 4.9936 - acc: 0.13 - ETA: 43s - loss: 5.0174 - acc: 0.13 - ETA: 43s - loss: 5.0359 - acc: 0.13 - ETA: 43s - loss: 5.0014 - acc: 0.14 - ETA: 43s - loss: 5.0034 - acc: 0.14 - ETA: 43s - loss: 4.9964 - acc: 0.14 - ETA: 42s - loss: 5.0084 - acc: 0.14 - ETA: 42s - loss: 5.0100 - acc: 0.14 - ETA: 42s - loss: 4.9973 - acc: 0.14 - ETA: 42s - loss: 4.9983 - acc: 0.14 - ETA: 42s - loss: 4.9875 - acc: 0.14 - ETA: 41s - loss: 4.9836 - acc: 0.14 - ETA: 41s - loss: 5.0054 - acc: 0.14 - ETA: 41s - loss: 5.0000 - acc: 0.14 - ETA: 41s - loss: 4.9986 - acc: 0.14 - ETA: 41s - loss: 4.9929 - acc: 0.14 - ETA: 40s - loss: 4.9973 - acc: 0.14 - ETA: 40s - loss: 5.0005 - acc: 0.13 - ETA: 40s - loss: 5.0159 - acc: 0.13 - ETA: 40s - loss: 5.0098 - acc: 0.13 - ETA: 40s - loss: 5.0086 - acc: 0.13 - ETA: 39s - loss: 4.9940 - acc: 0.13 - ETA: 39s - loss: 5.0073 - acc: 0.13 - ETA: 39s - loss: 5.0020 - acc: 0.13 - ETA: 39s - loss: 5.0132 - acc: 0.13 - ETA: 39s - loss: 5.0172 - acc: 0.13 - ETA: 39s - loss: 5.0046 - acc: 0.13 - ETA: 38s - loss: 5.0126 - acc: 0.13 - ETA: 38s - loss: 5.0255 - acc: 0.13 - ETA: 38s - loss: 5.0175 - acc: 0.13 - ETA: 38s - loss: 5.0189 - acc: 0.13 - ETA: 38s - loss: 5.0214 - acc: 0.13 - ETA: 37s - loss: 5.0214 - acc: 0.13 - ETA: 37s - loss: 5.0195 - acc: 0.13 - ETA: 37s - loss: 5.0260 - acc: 0.13 - ETA: 37s - loss: 5.0264 - acc: 0.13 - ETA: 37s - loss: 5.0274 - acc: 0.13 - ETA: 36s - loss: 5.0277 - acc: 0.13 - ETA: 36s - loss: 5.0238 - acc: 0.13 - ETA: 36s - loss: 5.0259 - acc: 0.13 - ETA: 36s - loss: 5.0264 - acc: 0.13 - ETA: 36s - loss: 5.0366 - acc: 0.13 - ETA: 35s - loss: 5.0377 - acc: 0.13 - ETA: 35s - loss: 5.0389 - acc: 0.13 - ETA: 35s - loss: 5.0358 - acc: 0.13 - ETA: 35s - loss: 5.0311 - acc: 0.13 - ETA: 35s - loss: 5.0304 - acc: 0.13 - ETA: 35s - loss: 5.0271 - acc: 0.13 - ETA: 34s - loss: 5.0268 - acc: 0.13 - ETA: 34s - loss: 5.0259 - acc: 0.13 - ETA: 34s - loss: 5.0229 - acc: 0.13 - ETA: 34s - loss: 5.0165 - acc: 0.13 - ETA: 34s - loss: 5.0235 - acc: 0.13 - ETA: 33s - loss: 5.0200 - acc: 0.13 - ETA: 33s - loss: 5.0244 - acc: 0.13 - ETA: 33s - loss: 5.0203 - acc: 0.13 - ETA: 33s - loss: 5.0233 - acc: 0.13 - ETA: 33s - loss: 5.0240 - acc: 0.13 - ETA: 33s - loss: 5.0198 - acc: 0.13 - ETA: 32s - loss: 5.0209 - acc: 0.13 - ETA: 32s - loss: 5.0165 - acc: 0.13 - ETA: 32s - loss: 5.0200 - acc: 0.13 - ETA: 32s - loss: 5.0214 - acc: 0.13 - ETA: 32s - loss: 5.0220 - acc: 0.13 - ETA: 31s - loss: 5.0227 - acc: 0.13 - ETA: 31s - loss: 5.0250 - acc: 0.13 - ETA: 31s - loss: 5.0262 - acc: 0.13 - ETA: 31s - loss: 5.0289 - acc: 0.13 - ETA: 31s - loss: 5.0302 - acc: 0.13 - ETA: 30s - loss: 5.0270 - acc: 0.13 - ETA: 30s - loss: 5.0272 - acc: 0.13 - ETA: 30s - loss: 5.0280 - acc: 0.13 - ETA: 30s - loss: 5.0320 - acc: 0.13 - ETA: 30s - loss: 5.0299 - acc: 0.13 - ETA: 29s - loss: 5.0304 - acc: 0.13 - ETA: 29s - loss: 5.0330 - acc: 0.13 - ETA: 29s - loss: 5.0325 - acc: 0.13 - ETA: 29s - loss: 5.0350 - acc: 0.13 - ETA: 29s - loss: 5.0369 - acc: 0.13 - ETA: 29s - loss: 5.0397 - acc: 0.13 - ETA: 28s - loss: 5.0386 - acc: 0.13 - ETA: 28s - loss: 5.0361 - acc: 0.13 - ETA: 28s - loss: 5.0388 - acc: 0.13 - ETA: 28s - loss: 5.0384 - acc: 0.13 - ETA: 28s - loss: 5.0376 - acc: 0.13 - ETA: 27s - loss: 5.0334 - acc: 0.13 - ETA: 27s - loss: 5.0349 - acc: 0.13 - ETA: 27s - loss: 5.0327 - acc: 0.13 - ETA: 27s - loss: 5.0347 - acc: 0.13 - ETA: 27s - loss: 5.0353 - acc: 0.13 - ETA: 27s - loss: 5.0320 - acc: 0.13 - ETA: 26s - loss: 5.0341 - acc: 0.13 - ETA: 26s - loss: 5.0311 - acc: 0.13 - ETA: 26s - loss: 5.0324 - acc: 0.13 - ETA: 26s - loss: 5.0324 - acc: 0.13 - ETA: 26s - loss: 5.0318 - acc: 0.13 - ETA: 25s - loss: 5.0358 - acc: 0.13 - ETA: 25s - loss: 5.0387 - acc: 0.13 - ETA: 25s - loss: 5.0407 - acc: 0.13 - ETA: 25s - loss: 5.0418 - acc: 0.13 - ETA: 25s - loss: 5.0414 - acc: 0.13 - ETA: 24s - loss: 5.0402 - acc: 0.13 - ETA: 24s - loss: 5.0407 - acc: 0.13 - ETA: 24s - loss: 5.0428 - acc: 0.13 - ETA: 24s - loss: 5.0442 - acc: 0.13 - ETA: 24s - loss: 5.0458 - acc: 0.13 - ETA: 23s - loss: 5.0459 - acc: 0.13 - ETA: 23s - loss: 5.0484 - acc: 0.13 - ETA: 23s - loss: 5.0523 - acc: 0.13 - ETA: 23s - loss: 5.0517 - acc: 0.13 - ETA: 23s - loss: 5.0533 - acc: 0.13 - ETA: 23s - loss: 5.0521 - acc: 0.13 - ETA: 22s - loss: 5.0500 - acc: 0.13 - ETA: 22s - loss: 5.0499 - acc: 0.13 - ETA: 22s - loss: 5.0510 - acc: 0.13 - ETA: 22s - loss: 5.0510 - acc: 0.13 - ETA: 22s - loss: 5.0544 - acc: 0.13 - ETA: 21s - loss: 5.0540 - acc: 0.13 - ETA: 21s - loss: 5.0529 - acc: 0.13 - ETA: 21s - loss: 5.0549 - acc: 0.13 - ETA: 21s - loss: 5.0564 - acc: 0.13 - ETA: 21s - loss: 5.0533 - acc: 0.13 - ETA: 20s - loss: 5.0530 - acc: 0.13 - ETA: 20s - loss: 5.0556 - acc: 0.13 - ETA: 20s - loss: 5.0547 - acc: 0.13 - ETA: 20s - loss: 5.0543 - acc: 0.13 - ETA: 20s - loss: 5.0520 - acc: 0.13 - ETA: 19s - loss: 5.0500 - acc: 0.13 - ETA: 19s - loss: 5.0508 - acc: 0.13 - ETA: 19s - loss: 5.0504 - acc: 0.13 - ETA: 19s - loss: 5.0495 - acc: 0.13 - ETA: 19s - loss: 5.0499 - acc: 0.13 - ETA: 19s - loss: 5.0505 - acc: 0.13 - ETA: 18s - loss: 5.0508 - acc: 0.13 - ETA: 18s - loss: 5.0505 - acc: 0.13 - ETA: 18s - loss: 5.0516 - acc: 0.13 - ETA: 18s - loss: 5.0541 - acc: 0.13 - ETA: 18s - loss: 5.0541 - acc: 0.13 - ETA: 17s - loss: 5.0571 - acc: 0.13 - ETA: 17s - loss: 5.0576 - acc: 0.13 - ETA: 17s - loss: 5.0608 - acc: 0.13 - ETA: 17s - loss: 5.0619 - acc: 0.13 - ETA: 17s - loss: 5.0653 - acc: 0.13 - ETA: 16s - loss: 5.0655 - acc: 0.13 - ETA: 16s - loss: 5.0656 - acc: 0.13 - ETA: 16s - loss: 5.0657 - acc: 0.13 - ETA: 16s - loss: 5.0669 - acc: 0.13 - ETA: 16s - loss: 5.0661 - acc: 0.13 - ETA: 16s - loss: 5.0652 - acc: 0.13 - ETA: 15s - loss: 5.0669 - acc: 0.13 - ETA: 15s - loss: 5.0690 - acc: 0.13 - ETA: 15s - loss: 5.0680 - acc: 0.13 - ETA: 15s - loss: 5.0678 - acc: 0.13 - ETA: 15s - loss: 5.0682 - acc: 0.13 - ETA: 14s - loss: 5.0687 - acc: 0.13 - ETA: 14s - loss: 5.0678 - acc: 0.13 - ETA: 14s - loss: 5.0675 - acc: 0.13 - ETA: 14s - loss: 5.0678 - acc: 0.13 - ETA: 14s - loss: 5.0677 - acc: 0.13 - ETA: 13s - loss: 5.0699 - acc: 0.13 - ETA: 13s - loss: 5.0683 - acc: 0.13 - ETA: 13s - loss: 5.0674 - acc: 0.13 - ETA: 13s - loss: 5.0685 - acc: 0.13 - ETA: 13s - loss: 5.0701 - acc: 0.13 - ETA: 12s - loss: 5.0723 - acc: 0.13 - ETA: 12s - loss: 5.0738 - acc: 0.13 - ETA: 12s - loss: 5.0731 - acc: 0.13 - ETA: 12s - loss: 5.0706 - acc: 0.13 - ETA: 12s - loss: 5.0705 - acc: 0.13 - ETA: 12s - loss: 5.0727 - acc: 0.13 - ETA: 11s - loss: 5.0723 - acc: 0.13 - ETA: 11s - loss: 5.0717 - acc: 0.13 - ETA: 11s - loss: 5.0722 - acc: 0.13 - ETA: 11s - loss: 5.0714 - acc: 0.13 - ETA: 11s - loss: 5.0717 - acc: 0.13 - ETA: 10s - loss: 5.0706 - acc: 0.13 - ETA: 10s - loss: 5.0709 - acc: 0.13 - ETA: 10s - loss: 5.0705 - acc: 0.13 - ETA: 10s - loss: 5.0709 - acc: 0.13 - ETA: 10s - loss: 5.0727 - acc: 0.13 - ETA: 9s - loss: 5.0727 - acc: 0.1350 - ETA: 9s - loss: 5.0727 - acc: 0.134 - ETA: 9s - loss: 5.0748 - acc: 0.134 - ETA: 9s - loss: 5.0739 - acc: 0.134 - ETA: 9s - loss: 5.0744 - acc: 0.134 - ETA: 9s - loss: 5.0742 - acc: 0.134 - ETA: 8s - loss: 5.0750 - acc: 0.134 - ETA: 8s - loss: 5.0746 - acc: 0.134 - ETA: 8s - loss: 5.0753 - acc: 0.134 - ETA: 8s - loss: 5.0750 - acc: 0.134 - ETA: 8s - loss: 5.0745 - acc: 0.135 - ETA: 7s - loss: 5.0735 - acc: 0.135 - ETA: 7s - loss: 5.0738 - acc: 0.135 - ETA: 7s - loss: 5.0738 - acc: 0.134 - ETA: 7s - loss: 5.0740 - acc: 0.134 - ETA: 7s - loss: 5.0750 - acc: 0.134 - ETA: 6s - loss: 5.0750 - acc: 0.134 - ETA: 6s - loss: 5.0758 - acc: 0.134 - ETA: 6s - loss: 5.0763 - acc: 0.134 - ETA: 6s - loss: 5.0750 - acc: 0.134 - ETA: 6s - loss: 5.0773 - acc: 0.134 - ETA: 5s - loss: 5.0771 - acc: 0.133 - ETA: 5s - loss: 5.0779 - acc: 0.133 - ETA: 5s - loss: 5.0780 - acc: 0.133 - ETA: 5s - loss: 5.0798 - acc: 0.133 - ETA: 5s - loss: 5.0794 - acc: 0.133 - ETA: 4s - loss: 5.0790 - acc: 0.133 - ETA: 4s - loss: 5.0806 - acc: 0.1337"
     ]
    },
    {
     "name": "stdout",
     "output_type": "stream",
     "text": [
      "30742/30742 [==============================] - ETA: 4s - loss: 5.0818 - acc: 0.133 - ETA: 4s - loss: 5.0834 - acc: 0.133 - ETA: 4s - loss: 5.0834 - acc: 0.133 - ETA: 4s - loss: 5.0841 - acc: 0.133 - ETA: 3s - loss: 5.0833 - acc: 0.133 - ETA: 3s - loss: 5.0835 - acc: 0.133 - ETA: 3s - loss: 5.0836 - acc: 0.133 - ETA: 3s - loss: 5.0824 - acc: 0.134 - ETA: 3s - loss: 5.0821 - acc: 0.134 - ETA: 2s - loss: 5.0829 - acc: 0.133 - ETA: 2s - loss: 5.0836 - acc: 0.134 - ETA: 2s - loss: 5.0842 - acc: 0.133 - ETA: 2s - loss: 5.0857 - acc: 0.134 - ETA: 2s - loss: 5.0847 - acc: 0.134 - ETA: 1s - loss: 5.0826 - acc: 0.134 - ETA: 1s - loss: 5.0828 - acc: 0.134 - ETA: 1s - loss: 5.0819 - acc: 0.134 - ETA: 1s - loss: 5.0829 - acc: 0.134 - ETA: 1s - loss: 5.0826 - acc: 0.134 - ETA: 0s - loss: 5.0836 - acc: 0.134 - ETA: 0s - loss: 5.0838 - acc: 0.134 - ETA: 0s - loss: 5.0842 - acc: 0.134 - ETA: 0s - loss: 5.0850 - acc: 0.134 - ETA: 0s - loss: 5.0841 - acc: 0.134 - ETA: 0s - loss: 5.0841 - acc: 0.134 - 46s 1ms/step - loss: 5.0842 - acc: 0.1348\n",
      "Epoch 16/30\n"
     ]
    },
    {
     "name": "stdout",
     "output_type": "stream",
     "text": [
      "27520/30742 [=========================>....] - ETA: 45s - loss: 4.9711 - acc: 0.10 - ETA: 45s - loss: 4.9720 - acc: 0.12 - ETA: 44s - loss: 5.1496 - acc: 0.13 - ETA: 44s - loss: 5.1404 - acc: 0.12 - ETA: 44s - loss: 5.0824 - acc: 0.12 - ETA: 44s - loss: 5.1090 - acc: 0.11 - ETA: 44s - loss: 5.0579 - acc: 0.11 - ETA: 44s - loss: 4.9875 - acc: 0.13 - ETA: 43s - loss: 4.9841 - acc: 0.12 - ETA: 43s - loss: 4.9807 - acc: 0.13 - ETA: 43s - loss: 5.0029 - acc: 0.13 - ETA: 43s - loss: 5.0051 - acc: 0.13 - ETA: 42s - loss: 5.0021 - acc: 0.13 - ETA: 42s - loss: 5.0222 - acc: 0.13 - ETA: 43s - loss: 5.0200 - acc: 0.13 - ETA: 42s - loss: 5.0275 - acc: 0.13 - ETA: 42s - loss: 5.0275 - acc: 0.13 - ETA: 42s - loss: 5.0268 - acc: 0.13 - ETA: 42s - loss: 5.0179 - acc: 0.14 - ETA: 41s - loss: 4.9893 - acc: 0.14 - ETA: 41s - loss: 4.9850 - acc: 0.13 - ETA: 41s - loss: 4.9913 - acc: 0.13 - ETA: 41s - loss: 4.9832 - acc: 0.14 - ETA: 40s - loss: 4.9760 - acc: 0.13 - ETA: 40s - loss: 4.9804 - acc: 0.14 - ETA: 40s - loss: 4.9723 - acc: 0.14 - ETA: 40s - loss: 4.9622 - acc: 0.14 - ETA: 40s - loss: 4.9613 - acc: 0.14 - ETA: 39s - loss: 4.9652 - acc: 0.14 - ETA: 39s - loss: 4.9651 - acc: 0.14 - ETA: 39s - loss: 4.9736 - acc: 0.14 - ETA: 39s - loss: 4.9718 - acc: 0.14 - ETA: 39s - loss: 4.9707 - acc: 0.14 - ETA: 39s - loss: 4.9659 - acc: 0.14 - ETA: 38s - loss: 4.9689 - acc: 0.13 - ETA: 38s - loss: 4.9722 - acc: 0.13 - ETA: 38s - loss: 4.9606 - acc: 0.13 - ETA: 38s - loss: 4.9719 - acc: 0.13 - ETA: 38s - loss: 4.9722 - acc: 0.13 - ETA: 37s - loss: 4.9731 - acc: 0.13 - ETA: 37s - loss: 4.9709 - acc: 0.13 - ETA: 37s - loss: 4.9667 - acc: 0.13 - ETA: 37s - loss: 4.9717 - acc: 0.13 - ETA: 37s - loss: 4.9688 - acc: 0.13 - ETA: 36s - loss: 4.9747 - acc: 0.13 - ETA: 36s - loss: 4.9791 - acc: 0.13 - ETA: 36s - loss: 4.9775 - acc: 0.13 - ETA: 36s - loss: 4.9745 - acc: 0.13 - ETA: 36s - loss: 4.9764 - acc: 0.13 - ETA: 36s - loss: 4.9819 - acc: 0.13 - ETA: 35s - loss: 4.9804 - acc: 0.13 - ETA: 35s - loss: 4.9795 - acc: 0.13 - ETA: 35s - loss: 4.9741 - acc: 0.13 - ETA: 35s - loss: 4.9749 - acc: 0.13 - ETA: 35s - loss: 4.9700 - acc: 0.13 - ETA: 34s - loss: 4.9707 - acc: 0.13 - ETA: 34s - loss: 4.9756 - acc: 0.13 - ETA: 34s - loss: 4.9772 - acc: 0.13 - ETA: 34s - loss: 4.9784 - acc: 0.13 - ETA: 34s - loss: 4.9796 - acc: 0.13 - ETA: 33s - loss: 4.9867 - acc: 0.13 - ETA: 33s - loss: 4.9819 - acc: 0.13 - ETA: 33s - loss: 4.9830 - acc: 0.13 - ETA: 33s - loss: 4.9808 - acc: 0.13 - ETA: 33s - loss: 4.9832 - acc: 0.14 - ETA: 33s - loss: 4.9863 - acc: 0.13 - ETA: 32s - loss: 4.9864 - acc: 0.13 - ETA: 32s - loss: 4.9906 - acc: 0.13 - ETA: 32s - loss: 4.9899 - acc: 0.13 - ETA: 32s - loss: 4.9887 - acc: 0.13 - ETA: 32s - loss: 4.9949 - acc: 0.13 - ETA: 31s - loss: 4.9920 - acc: 0.13 - ETA: 31s - loss: 4.9898 - acc: 0.13 - ETA: 31s - loss: 4.9925 - acc: 0.13 - ETA: 31s - loss: 4.9885 - acc: 0.14 - ETA: 31s - loss: 4.9885 - acc: 0.14 - ETA: 30s - loss: 4.9864 - acc: 0.14 - ETA: 30s - loss: 4.9862 - acc: 0.14 - ETA: 30s - loss: 4.9865 - acc: 0.14 - ETA: 30s - loss: 4.9903 - acc: 0.14 - ETA: 30s - loss: 4.9924 - acc: 0.14 - ETA: 29s - loss: 4.9913 - acc: 0.14 - ETA: 29s - loss: 4.9901 - acc: 0.14 - ETA: 29s - loss: 4.9899 - acc: 0.14 - ETA: 29s - loss: 4.9930 - acc: 0.13 - ETA: 29s - loss: 4.9922 - acc: 0.13 - ETA: 29s - loss: 4.9898 - acc: 0.14 - ETA: 28s - loss: 4.9891 - acc: 0.14 - ETA: 28s - loss: 4.9906 - acc: 0.13 - ETA: 28s - loss: 4.9895 - acc: 0.13 - ETA: 28s - loss: 4.9899 - acc: 0.13 - ETA: 28s - loss: 4.9882 - acc: 0.13 - ETA: 27s - loss: 4.9891 - acc: 0.13 - ETA: 27s - loss: 4.9894 - acc: 0.13 - ETA: 27s - loss: 4.9893 - acc: 0.13 - ETA: 27s - loss: 4.9874 - acc: 0.13 - ETA: 27s - loss: 4.9862 - acc: 0.13 - ETA: 27s - loss: 4.9871 - acc: 0.13 - ETA: 26s - loss: 4.9881 - acc: 0.13 - ETA: 26s - loss: 4.9891 - acc: 0.13 - ETA: 26s - loss: 4.9917 - acc: 0.13 - ETA: 26s - loss: 4.9951 - acc: 0.13 - ETA: 26s - loss: 4.9953 - acc: 0.13 - ETA: 25s - loss: 4.9953 - acc: 0.13 - ETA: 25s - loss: 4.9967 - acc: 0.13 - ETA: 25s - loss: 4.9961 - acc: 0.13 - ETA: 25s - loss: 4.9949 - acc: 0.13 - ETA: 25s - loss: 4.9918 - acc: 0.14 - ETA: 24s - loss: 4.9931 - acc: 0.13 - ETA: 24s - loss: 4.9928 - acc: 0.14 - ETA: 24s - loss: 4.9895 - acc: 0.14 - ETA: 24s - loss: 4.9902 - acc: 0.14 - ETA: 24s - loss: 4.9912 - acc: 0.13 - ETA: 23s - loss: 4.9936 - acc: 0.14 - ETA: 23s - loss: 4.9959 - acc: 0.13 - ETA: 23s - loss: 4.9938 - acc: 0.14 - ETA: 23s - loss: 4.9956 - acc: 0.13 - ETA: 23s - loss: 4.9957 - acc: 0.14 - ETA: 23s - loss: 4.9971 - acc: 0.14 - ETA: 22s - loss: 4.9994 - acc: 0.13 - ETA: 22s - loss: 4.9981 - acc: 0.13 - ETA: 22s - loss: 5.0007 - acc: 0.13 - ETA: 22s - loss: 5.0024 - acc: 0.13 - ETA: 22s - loss: 5.0022 - acc: 0.13 - ETA: 21s - loss: 5.0041 - acc: 0.14 - ETA: 21s - loss: 5.0050 - acc: 0.14 - ETA: 21s - loss: 5.0038 - acc: 0.14 - ETA: 21s - loss: 5.0023 - acc: 0.14 - ETA: 21s - loss: 5.0050 - acc: 0.14 - ETA: 20s - loss: 5.0047 - acc: 0.14 - ETA: 20s - loss: 5.0041 - acc: 0.14 - ETA: 20s - loss: 5.0036 - acc: 0.14 - ETA: 20s - loss: 5.0041 - acc: 0.14 - ETA: 20s - loss: 5.0038 - acc: 0.14 - ETA: 19s - loss: 5.0018 - acc: 0.14 - ETA: 19s - loss: 5.0019 - acc: 0.14 - ETA: 19s - loss: 5.0039 - acc: 0.14 - ETA: 19s - loss: 5.0053 - acc: 0.14 - ETA: 19s - loss: 5.0051 - acc: 0.14 - ETA: 19s - loss: 5.0034 - acc: 0.14 - ETA: 18s - loss: 5.0017 - acc: 0.14 - ETA: 18s - loss: 5.0015 - acc: 0.14 - ETA: 18s - loss: 5.0026 - acc: 0.14 - ETA: 18s - loss: 5.0031 - acc: 0.14 - ETA: 18s - loss: 5.0051 - acc: 0.14 - ETA: 17s - loss: 5.0059 - acc: 0.14 - ETA: 17s - loss: 5.0074 - acc: 0.14 - ETA: 17s - loss: 5.0054 - acc: 0.14 - ETA: 17s - loss: 5.0047 - acc: 0.14 - ETA: 17s - loss: 5.0035 - acc: 0.14 - ETA: 16s - loss: 5.0029 - acc: 0.14 - ETA: 16s - loss: 5.0055 - acc: 0.14 - ETA: 16s - loss: 5.0077 - acc: 0.14 - ETA: 16s - loss: 5.0060 - acc: 0.14 - ETA: 16s - loss: 5.0057 - acc: 0.14 - ETA: 15s - loss: 5.0065 - acc: 0.14 - ETA: 15s - loss: 5.0055 - acc: 0.14 - ETA: 15s - loss: 5.0060 - acc: 0.14 - ETA: 15s - loss: 5.0043 - acc: 0.14 - ETA: 15s - loss: 5.0051 - acc: 0.14 - ETA: 15s - loss: 5.0056 - acc: 0.14 - ETA: 14s - loss: 5.0066 - acc: 0.14 - ETA: 14s - loss: 5.0068 - acc: 0.14 - ETA: 14s - loss: 5.0054 - acc: 0.14 - ETA: 14s - loss: 5.0059 - acc: 0.14 - ETA: 14s - loss: 5.0063 - acc: 0.14 - ETA: 13s - loss: 5.0084 - acc: 0.14 - ETA: 13s - loss: 5.0074 - acc: 0.14 - ETA: 13s - loss: 5.0067 - acc: 0.13 - ETA: 13s - loss: 5.0052 - acc: 0.13 - ETA: 13s - loss: 5.0065 - acc: 0.13 - ETA: 12s - loss: 5.0082 - acc: 0.13 - ETA: 12s - loss: 5.0077 - acc: 0.13 - ETA: 12s - loss: 5.0064 - acc: 0.13 - ETA: 12s - loss: 5.0063 - acc: 0.13 - ETA: 12s - loss: 5.0057 - acc: 0.13 - ETA: 12s - loss: 5.0046 - acc: 0.13 - ETA: 11s - loss: 5.0058 - acc: 0.13 - ETA: 11s - loss: 5.0074 - acc: 0.13 - ETA: 11s - loss: 5.0071 - acc: 0.13 - ETA: 11s - loss: 5.0068 - acc: 0.13 - ETA: 11s - loss: 5.0079 - acc: 0.13 - ETA: 10s - loss: 5.0083 - acc: 0.13 - ETA: 10s - loss: 5.0087 - acc: 0.13 - ETA: 10s - loss: 5.0079 - acc: 0.13 - ETA: 10s - loss: 5.0079 - acc: 0.13 - ETA: 10s - loss: 5.0055 - acc: 0.13 - ETA: 9s - loss: 5.0047 - acc: 0.1400 - ETA: 9s - loss: 5.0058 - acc: 0.140 - ETA: 9s - loss: 5.0067 - acc: 0.139 - ETA: 9s - loss: 5.0068 - acc: 0.139 - ETA: 9s - loss: 5.0054 - acc: 0.140 - ETA: 8s - loss: 5.0062 - acc: 0.139 - ETA: 8s - loss: 5.0050 - acc: 0.140 - ETA: 8s - loss: 5.0061 - acc: 0.139 - ETA: 8s - loss: 5.0074 - acc: 0.139 - ETA: 8s - loss: 5.0097 - acc: 0.139 - ETA: 8s - loss: 5.0098 - acc: 0.139 - ETA: 7s - loss: 5.0101 - acc: 0.139 - ETA: 7s - loss: 5.0109 - acc: 0.139 - ETA: 7s - loss: 5.0106 - acc: 0.139 - ETA: 7s - loss: 5.0104 - acc: 0.139 - ETA: 7s - loss: 5.0097 - acc: 0.140 - ETA: 6s - loss: 5.0098 - acc: 0.140 - ETA: 6s - loss: 5.0093 - acc: 0.139 - ETA: 6s - loss: 5.0090 - acc: 0.139 - ETA: 6s - loss: 5.0088 - acc: 0.139 - ETA: 6s - loss: 5.0087 - acc: 0.139 - ETA: 5s - loss: 5.0074 - acc: 0.140 - ETA: 5s - loss: 5.0073 - acc: 0.140 - ETA: 5s - loss: 5.0090 - acc: 0.140 - ETA: 5s - loss: 5.0084 - acc: 0.140 - ETA: 5s - loss: 5.0071 - acc: 0.140 - ETA: 5s - loss: 5.0076 - acc: 0.140 - ETA: 4s - loss: 5.0075 - acc: 0.1403"
     ]
    },
    {
     "name": "stdout",
     "output_type": "stream",
     "text": [
      "30742/30742 [==============================] - ETA: 4s - loss: 5.0083 - acc: 0.140 - ETA: 4s - loss: 5.0073 - acc: 0.140 - ETA: 4s - loss: 5.0067 - acc: 0.140 - ETA: 4s - loss: 5.0055 - acc: 0.140 - ETA: 3s - loss: 5.0061 - acc: 0.140 - ETA: 3s - loss: 5.0050 - acc: 0.140 - ETA: 3s - loss: 5.0054 - acc: 0.140 - ETA: 3s - loss: 5.0062 - acc: 0.140 - ETA: 3s - loss: 5.0064 - acc: 0.140 - ETA: 2s - loss: 5.0056 - acc: 0.140 - ETA: 2s - loss: 5.0032 - acc: 0.140 - ETA: 2s - loss: 5.0038 - acc: 0.140 - ETA: 2s - loss: 5.0055 - acc: 0.140 - ETA: 2s - loss: 5.0050 - acc: 0.140 - ETA: 1s - loss: 5.0049 - acc: 0.140 - ETA: 1s - loss: 5.0052 - acc: 0.140 - ETA: 1s - loss: 5.0069 - acc: 0.139 - ETA: 1s - loss: 5.0085 - acc: 0.139 - ETA: 1s - loss: 5.0086 - acc: 0.139 - ETA: 0s - loss: 5.0081 - acc: 0.139 - ETA: 0s - loss: 5.0084 - acc: 0.140 - ETA: 0s - loss: 5.0090 - acc: 0.140 - ETA: 0s - loss: 5.0096 - acc: 0.140 - ETA: 0s - loss: 5.0096 - acc: 0.140 - ETA: 0s - loss: 5.0092 - acc: 0.140 - 46s 2ms/step - loss: 5.0094 - acc: 0.1402\n",
      "Epoch 17/30\n"
     ]
    },
    {
     "name": "stdout",
     "output_type": "stream",
     "text": [
      "27520/30742 [=========================>....] - ETA: 49s - loss: 4.7105 - acc: 0.12 - ETA: 49s - loss: 4.7745 - acc: 0.14 - ETA: 47s - loss: 4.8228 - acc: 0.13 - ETA: 49s - loss: 4.8628 - acc: 0.14 - ETA: 48s - loss: 4.8390 - acc: 0.14 - ETA: 47s - loss: 4.7990 - acc: 0.15 - ETA: 47s - loss: 4.7799 - acc: 0.16 - ETA: 47s - loss: 4.7558 - acc: 0.16 - ETA: 47s - loss: 4.7850 - acc: 0.15 - ETA: 47s - loss: 4.7604 - acc: 0.15 - ETA: 47s - loss: 4.7901 - acc: 0.15 - ETA: 46s - loss: 4.7713 - acc: 0.15 - ETA: 46s - loss: 4.7895 - acc: 0.16 - ETA: 46s - loss: 4.7818 - acc: 0.16 - ETA: 45s - loss: 4.7904 - acc: 0.16 - ETA: 45s - loss: 4.7900 - acc: 0.15 - ETA: 45s - loss: 4.8118 - acc: 0.15 - ETA: 45s - loss: 4.8131 - acc: 0.15 - ETA: 44s - loss: 4.8158 - acc: 0.15 - ETA: 44s - loss: 4.8088 - acc: 0.15 - ETA: 44s - loss: 4.8001 - acc: 0.15 - ETA: 44s - loss: 4.8107 - acc: 0.15 - ETA: 43s - loss: 4.8277 - acc: 0.15 - ETA: 43s - loss: 4.8391 - acc: 0.15 - ETA: 43s - loss: 4.8492 - acc: 0.15 - ETA: 43s - loss: 4.8616 - acc: 0.15 - ETA: 43s - loss: 4.8636 - acc: 0.15 - ETA: 42s - loss: 4.8762 - acc: 0.15 - ETA: 42s - loss: 4.8788 - acc: 0.15 - ETA: 42s - loss: 4.8839 - acc: 0.15 - ETA: 42s - loss: 4.8884 - acc: 0.15 - ETA: 42s - loss: 4.8903 - acc: 0.15 - ETA: 41s - loss: 4.8989 - acc: 0.15 - ETA: 41s - loss: 4.9005 - acc: 0.14 - ETA: 41s - loss: 4.9007 - acc: 0.14 - ETA: 41s - loss: 4.9111 - acc: 0.14 - ETA: 41s - loss: 4.9038 - acc: 0.14 - ETA: 40s - loss: 4.9028 - acc: 0.14 - ETA: 40s - loss: 4.9036 - acc: 0.14 - ETA: 40s - loss: 4.9026 - acc: 0.15 - ETA: 40s - loss: 4.8941 - acc: 0.15 - ETA: 39s - loss: 4.8940 - acc: 0.15 - ETA: 39s - loss: 4.8883 - acc: 0.15 - ETA: 39s - loss: 4.8903 - acc: 0.15 - ETA: 39s - loss: 4.8964 - acc: 0.15 - ETA: 39s - loss: 4.8986 - acc: 0.15 - ETA: 38s - loss: 4.8953 - acc: 0.15 - ETA: 38s - loss: 4.8856 - acc: 0.15 - ETA: 38s - loss: 4.8821 - acc: 0.15 - ETA: 38s - loss: 4.8722 - acc: 0.15 - ETA: 38s - loss: 4.8728 - acc: 0.15 - ETA: 37s - loss: 4.8763 - acc: 0.15 - ETA: 37s - loss: 4.8717 - acc: 0.15 - ETA: 37s - loss: 4.8696 - acc: 0.15 - ETA: 37s - loss: 4.8671 - acc: 0.15 - ETA: 37s - loss: 4.8723 - acc: 0.15 - ETA: 36s - loss: 4.8729 - acc: 0.15 - ETA: 36s - loss: 4.8734 - acc: 0.15 - ETA: 36s - loss: 4.8694 - acc: 0.15 - ETA: 36s - loss: 4.8729 - acc: 0.15 - ETA: 36s - loss: 4.8741 - acc: 0.15 - ETA: 35s - loss: 4.8688 - acc: 0.15 - ETA: 35s - loss: 4.8723 - acc: 0.15 - ETA: 35s - loss: 4.8705 - acc: 0.15 - ETA: 35s - loss: 4.8699 - acc: 0.15 - ETA: 35s - loss: 4.8682 - acc: 0.15 - ETA: 34s - loss: 4.8691 - acc: 0.15 - ETA: 34s - loss: 4.8696 - acc: 0.15 - ETA: 34s - loss: 4.8698 - acc: 0.15 - ETA: 34s - loss: 4.8653 - acc: 0.15 - ETA: 33s - loss: 4.8658 - acc: 0.15 - ETA: 33s - loss: 4.8682 - acc: 0.15 - ETA: 33s - loss: 4.8724 - acc: 0.15 - ETA: 33s - loss: 4.8685 - acc: 0.15 - ETA: 33s - loss: 4.8696 - acc: 0.15 - ETA: 33s - loss: 4.8698 - acc: 0.15 - ETA: 32s - loss: 4.8699 - acc: 0.15 - ETA: 32s - loss: 4.8725 - acc: 0.15 - ETA: 32s - loss: 4.8720 - acc: 0.15 - ETA: 32s - loss: 4.8713 - acc: 0.15 - ETA: 32s - loss: 4.8739 - acc: 0.15 - ETA: 31s - loss: 4.8772 - acc: 0.14 - ETA: 31s - loss: 4.8793 - acc: 0.14 - ETA: 31s - loss: 4.8758 - acc: 0.14 - ETA: 31s - loss: 4.8766 - acc: 0.14 - ETA: 31s - loss: 4.8770 - acc: 0.14 - ETA: 30s - loss: 4.8812 - acc: 0.14 - ETA: 30s - loss: 4.8856 - acc: 0.14 - ETA: 30s - loss: 4.8833 - acc: 0.14 - ETA: 30s - loss: 4.8823 - acc: 0.15 - ETA: 30s - loss: 4.8830 - acc: 0.15 - ETA: 29s - loss: 4.8847 - acc: 0.15 - ETA: 29s - loss: 4.8820 - acc: 0.15 - ETA: 29s - loss: 4.8805 - acc: 0.14 - ETA: 29s - loss: 4.8805 - acc: 0.15 - ETA: 28s - loss: 4.8832 - acc: 0.14 - ETA: 28s - loss: 4.8826 - acc: 0.14 - ETA: 28s - loss: 4.8871 - acc: 0.14 - ETA: 28s - loss: 4.8885 - acc: 0.14 - ETA: 28s - loss: 4.8890 - acc: 0.14 - ETA: 28s - loss: 4.8898 - acc: 0.14 - ETA: 27s - loss: 4.8918 - acc: 0.14 - ETA: 27s - loss: 4.8969 - acc: 0.14 - ETA: 27s - loss: 4.8967 - acc: 0.14 - ETA: 27s - loss: 4.8981 - acc: 0.14 - ETA: 27s - loss: 4.8997 - acc: 0.14 - ETA: 26s - loss: 4.8992 - acc: 0.14 - ETA: 26s - loss: 4.9016 - acc: 0.14 - ETA: 26s - loss: 4.9042 - acc: 0.14 - ETA: 26s - loss: 4.9018 - acc: 0.14 - ETA: 25s - loss: 4.9008 - acc: 0.14 - ETA: 25s - loss: 4.9048 - acc: 0.14 - ETA: 25s - loss: 4.9053 - acc: 0.14 - ETA: 25s - loss: 4.9059 - acc: 0.14 - ETA: 25s - loss: 4.9061 - acc: 0.14 - ETA: 24s - loss: 4.9063 - acc: 0.14 - ETA: 24s - loss: 4.9046 - acc: 0.14 - ETA: 24s - loss: 4.9037 - acc: 0.14 - ETA: 24s - loss: 4.9060 - acc: 0.14 - ETA: 24s - loss: 4.9065 - acc: 0.14 - ETA: 23s - loss: 4.9067 - acc: 0.14 - ETA: 23s - loss: 4.9075 - acc: 0.14 - ETA: 23s - loss: 4.9090 - acc: 0.14 - ETA: 23s - loss: 4.9117 - acc: 0.14 - ETA: 23s - loss: 4.9114 - acc: 0.14 - ETA: 22s - loss: 4.9152 - acc: 0.14 - ETA: 22s - loss: 4.9156 - acc: 0.14 - ETA: 22s - loss: 4.9158 - acc: 0.14 - ETA: 22s - loss: 4.9156 - acc: 0.14 - ETA: 22s - loss: 4.9137 - acc: 0.14 - ETA: 21s - loss: 4.9138 - acc: 0.14 - ETA: 21s - loss: 4.9146 - acc: 0.14 - ETA: 21s - loss: 4.9135 - acc: 0.14 - ETA: 21s - loss: 4.9111 - acc: 0.14 - ETA: 21s - loss: 4.9134 - acc: 0.14 - ETA: 20s - loss: 4.9128 - acc: 0.14 - ETA: 20s - loss: 4.9129 - acc: 0.14 - ETA: 20s - loss: 4.9179 - acc: 0.14 - ETA: 20s - loss: 4.9183 - acc: 0.14 - ETA: 20s - loss: 4.9169 - acc: 0.14 - ETA: 19s - loss: 4.9161 - acc: 0.14 - ETA: 19s - loss: 4.9158 - acc: 0.14 - ETA: 19s - loss: 4.9171 - acc: 0.14 - ETA: 19s - loss: 4.9192 - acc: 0.14 - ETA: 19s - loss: 4.9198 - acc: 0.14 - ETA: 18s - loss: 4.9178 - acc: 0.14 - ETA: 18s - loss: 4.9174 - acc: 0.14 - ETA: 18s - loss: 4.9174 - acc: 0.14 - ETA: 18s - loss: 4.9175 - acc: 0.14 - ETA: 18s - loss: 4.9187 - acc: 0.14 - ETA: 17s - loss: 4.9181 - acc: 0.14 - ETA: 17s - loss: 4.9192 - acc: 0.14 - ETA: 17s - loss: 4.9193 - acc: 0.14 - ETA: 17s - loss: 4.9176 - acc: 0.14 - ETA: 17s - loss: 4.9157 - acc: 0.14 - ETA: 16s - loss: 4.9195 - acc: 0.14 - ETA: 16s - loss: 4.9202 - acc: 0.14 - ETA: 16s - loss: 4.9203 - acc: 0.14 - ETA: 16s - loss: 4.9215 - acc: 0.14 - ETA: 16s - loss: 4.9217 - acc: 0.14 - ETA: 15s - loss: 4.9238 - acc: 0.14 - ETA: 15s - loss: 4.9238 - acc: 0.14 - ETA: 15s - loss: 4.9241 - acc: 0.14 - ETA: 15s - loss: 4.9243 - acc: 0.14 - ETA: 15s - loss: 4.9258 - acc: 0.14 - ETA: 14s - loss: 4.9250 - acc: 0.14 - ETA: 14s - loss: 4.9260 - acc: 0.14 - ETA: 14s - loss: 4.9255 - acc: 0.14 - ETA: 14s - loss: 4.9268 - acc: 0.14 - ETA: 14s - loss: 4.9264 - acc: 0.14 - ETA: 13s - loss: 4.9255 - acc: 0.14 - ETA: 13s - loss: 4.9240 - acc: 0.14 - ETA: 13s - loss: 4.9244 - acc: 0.14 - ETA: 13s - loss: 4.9240 - acc: 0.14 - ETA: 13s - loss: 4.9251 - acc: 0.14 - ETA: 12s - loss: 4.9259 - acc: 0.14 - ETA: 12s - loss: 4.9262 - acc: 0.14 - ETA: 12s - loss: 4.9256 - acc: 0.14 - ETA: 12s - loss: 4.9242 - acc: 0.14 - ETA: 12s - loss: 4.9229 - acc: 0.14 - ETA: 11s - loss: 4.9217 - acc: 0.14 - ETA: 11s - loss: 4.9210 - acc: 0.14 - ETA: 11s - loss: 4.9208 - acc: 0.14 - ETA: 11s - loss: 4.9209 - acc: 0.14 - ETA: 11s - loss: 4.9228 - acc: 0.14 - ETA: 10s - loss: 4.9223 - acc: 0.14 - ETA: 10s - loss: 4.9221 - acc: 0.14 - ETA: 10s - loss: 4.9206 - acc: 0.14 - ETA: 10s - loss: 4.9203 - acc: 0.14 - ETA: 10s - loss: 4.9194 - acc: 0.14 - ETA: 9s - loss: 4.9217 - acc: 0.1455 - ETA: 9s - loss: 4.9203 - acc: 0.145 - ETA: 9s - loss: 4.9215 - acc: 0.145 - ETA: 9s - loss: 4.9239 - acc: 0.145 - ETA: 9s - loss: 4.9239 - acc: 0.145 - ETA: 8s - loss: 4.9241 - acc: 0.145 - ETA: 8s - loss: 4.9256 - acc: 0.145 - ETA: 8s - loss: 4.9259 - acc: 0.145 - ETA: 8s - loss: 4.9267 - acc: 0.145 - ETA: 8s - loss: 4.9277 - acc: 0.145 - ETA: 7s - loss: 4.9296 - acc: 0.144 - ETA: 7s - loss: 4.9303 - acc: 0.145 - ETA: 7s - loss: 4.9294 - acc: 0.145 - ETA: 7s - loss: 4.9298 - acc: 0.144 - ETA: 7s - loss: 4.9300 - acc: 0.144 - ETA: 6s - loss: 4.9307 - acc: 0.144 - ETA: 6s - loss: 4.9300 - acc: 0.144 - ETA: 6s - loss: 4.9312 - acc: 0.144 - ETA: 6s - loss: 4.9314 - acc: 0.144 - ETA: 6s - loss: 4.9314 - acc: 0.144 - ETA: 5s - loss: 4.9310 - acc: 0.144 - ETA: 5s - loss: 4.9318 - acc: 0.144 - ETA: 5s - loss: 4.9316 - acc: 0.144 - ETA: 5s - loss: 4.9338 - acc: 0.144 - ETA: 5s - loss: 4.9349 - acc: 0.1445"
     ]
    },
    {
     "name": "stdout",
     "output_type": "stream",
     "text": [
      "30742/30742 [==============================] - ETA: 4s - loss: 4.9348 - acc: 0.144 - ETA: 4s - loss: 4.9349 - acc: 0.144 - ETA: 4s - loss: 4.9353 - acc: 0.144 - ETA: 4s - loss: 4.9352 - acc: 0.144 - ETA: 4s - loss: 4.9347 - acc: 0.144 - ETA: 3s - loss: 4.9345 - acc: 0.145 - ETA: 3s - loss: 4.9327 - acc: 0.145 - ETA: 3s - loss: 4.9339 - acc: 0.145 - ETA: 3s - loss: 4.9338 - acc: 0.145 - ETA: 3s - loss: 4.9334 - acc: 0.145 - ETA: 2s - loss: 4.9332 - acc: 0.145 - ETA: 2s - loss: 4.9338 - acc: 0.144 - ETA: 2s - loss: 4.9340 - acc: 0.144 - ETA: 2s - loss: 4.9327 - acc: 0.144 - ETA: 2s - loss: 4.9322 - acc: 0.144 - ETA: 1s - loss: 4.9325 - acc: 0.144 - ETA: 1s - loss: 4.9324 - acc: 0.144 - ETA: 1s - loss: 4.9323 - acc: 0.145 - ETA: 1s - loss: 4.9331 - acc: 0.144 - ETA: 1s - loss: 4.9340 - acc: 0.144 - ETA: 0s - loss: 4.9348 - acc: 0.144 - ETA: 0s - loss: 4.9342 - acc: 0.144 - ETA: 0s - loss: 4.9342 - acc: 0.144 - ETA: 0s - loss: 4.9339 - acc: 0.144 - ETA: 0s - loss: 4.9345 - acc: 0.144 - 48s 2ms/step - loss: 4.9335 - acc: 0.1445\n",
      "Epoch 18/30\n"
     ]
    },
    {
     "name": "stdout",
     "output_type": "stream",
     "text": [
      "27520/30742 [=========================>....] - ETA: 45s - loss: 5.1090 - acc: 0.08 - ETA: 45s - loss: 4.8914 - acc: 0.14 - ETA: 45s - loss: 4.9597 - acc: 0.14 - ETA: 45s - loss: 4.9765 - acc: 0.14 - ETA: 45s - loss: 4.9183 - acc: 0.14 - ETA: 45s - loss: 4.8207 - acc: 0.15 - ETA: 44s - loss: 4.8049 - acc: 0.15 - ETA: 44s - loss: 4.7962 - acc: 0.15 - ETA: 44s - loss: 4.8152 - acc: 0.15 - ETA: 44s - loss: 4.8210 - acc: 0.15 - ETA: 44s - loss: 4.8401 - acc: 0.14 - ETA: 43s - loss: 4.8428 - acc: 0.14 - ETA: 43s - loss: 4.8409 - acc: 0.14 - ETA: 43s - loss: 4.8241 - acc: 0.14 - ETA: 43s - loss: 4.8095 - acc: 0.15 - ETA: 42s - loss: 4.8077 - acc: 0.15 - ETA: 42s - loss: 4.8010 - acc: 0.15 - ETA: 42s - loss: 4.7823 - acc: 0.15 - ETA: 42s - loss: 4.7725 - acc: 0.15 - ETA: 41s - loss: 4.7911 - acc: 0.15 - ETA: 41s - loss: 4.7937 - acc: 0.15 - ETA: 41s - loss: 4.7823 - acc: 0.15 - ETA: 41s - loss: 4.7765 - acc: 0.15 - ETA: 41s - loss: 4.7794 - acc: 0.15 - ETA: 41s - loss: 4.7713 - acc: 0.15 - ETA: 41s - loss: 4.7627 - acc: 0.15 - ETA: 40s - loss: 4.7685 - acc: 0.15 - ETA: 40s - loss: 4.7591 - acc: 0.15 - ETA: 40s - loss: 4.7603 - acc: 0.15 - ETA: 40s - loss: 4.7594 - acc: 0.15 - ETA: 39s - loss: 4.7760 - acc: 0.15 - ETA: 39s - loss: 4.7800 - acc: 0.15 - ETA: 39s - loss: 4.7694 - acc: 0.15 - ETA: 39s - loss: 4.7761 - acc: 0.15 - ETA: 39s - loss: 4.7817 - acc: 0.15 - ETA: 38s - loss: 4.7797 - acc: 0.15 - ETA: 38s - loss: 4.7881 - acc: 0.15 - ETA: 38s - loss: 4.7903 - acc: 0.15 - ETA: 38s - loss: 4.7860 - acc: 0.15 - ETA: 38s - loss: 4.7860 - acc: 0.15 - ETA: 37s - loss: 4.7928 - acc: 0.15 - ETA: 37s - loss: 4.7967 - acc: 0.15 - ETA: 37s - loss: 4.8107 - acc: 0.14 - ETA: 37s - loss: 4.8114 - acc: 0.15 - ETA: 37s - loss: 4.8147 - acc: 0.14 - ETA: 36s - loss: 4.8179 - acc: 0.14 - ETA: 36s - loss: 4.8173 - acc: 0.14 - ETA: 36s - loss: 4.8137 - acc: 0.15 - ETA: 36s - loss: 4.8136 - acc: 0.14 - ETA: 36s - loss: 4.8130 - acc: 0.15 - ETA: 36s - loss: 4.8128 - acc: 0.15 - ETA: 35s - loss: 4.8203 - acc: 0.14 - ETA: 35s - loss: 4.8184 - acc: 0.14 - ETA: 35s - loss: 4.8257 - acc: 0.14 - ETA: 35s - loss: 4.8255 - acc: 0.14 - ETA: 35s - loss: 4.8256 - acc: 0.14 - ETA: 34s - loss: 4.8296 - acc: 0.14 - ETA: 34s - loss: 4.8316 - acc: 0.14 - ETA: 34s - loss: 4.8272 - acc: 0.14 - ETA: 34s - loss: 4.8318 - acc: 0.14 - ETA: 34s - loss: 4.8343 - acc: 0.14 - ETA: 33s - loss: 4.8391 - acc: 0.14 - ETA: 33s - loss: 4.8419 - acc: 0.14 - ETA: 33s - loss: 4.8411 - acc: 0.14 - ETA: 33s - loss: 4.8393 - acc: 0.14 - ETA: 33s - loss: 4.8469 - acc: 0.14 - ETA: 32s - loss: 4.8514 - acc: 0.14 - ETA: 32s - loss: 4.8581 - acc: 0.14 - ETA: 32s - loss: 4.8585 - acc: 0.14 - ETA: 32s - loss: 4.8562 - acc: 0.14 - ETA: 32s - loss: 4.8556 - acc: 0.14 - ETA: 31s - loss: 4.8568 - acc: 0.14 - ETA: 31s - loss: 4.8547 - acc: 0.14 - ETA: 31s - loss: 4.8547 - acc: 0.14 - ETA: 31s - loss: 4.8546 - acc: 0.14 - ETA: 31s - loss: 4.8558 - acc: 0.14 - ETA: 31s - loss: 4.8535 - acc: 0.14 - ETA: 30s - loss: 4.8532 - acc: 0.14 - ETA: 30s - loss: 4.8531 - acc: 0.14 - ETA: 30s - loss: 4.8579 - acc: 0.14 - ETA: 30s - loss: 4.8622 - acc: 0.14 - ETA: 30s - loss: 4.8610 - acc: 0.14 - ETA: 29s - loss: 4.8596 - acc: 0.14 - ETA: 29s - loss: 4.8628 - acc: 0.14 - ETA: 29s - loss: 4.8635 - acc: 0.14 - ETA: 29s - loss: 4.8630 - acc: 0.14 - ETA: 29s - loss: 4.8657 - acc: 0.14 - ETA: 29s - loss: 4.8642 - acc: 0.14 - ETA: 28s - loss: 4.8624 - acc: 0.14 - ETA: 28s - loss: 4.8643 - acc: 0.14 - ETA: 28s - loss: 4.8631 - acc: 0.14 - ETA: 28s - loss: 4.8640 - acc: 0.14 - ETA: 28s - loss: 4.8623 - acc: 0.14 - ETA: 27s - loss: 4.8618 - acc: 0.14 - ETA: 27s - loss: 4.8625 - acc: 0.14 - ETA: 27s - loss: 4.8659 - acc: 0.14 - ETA: 27s - loss: 4.8627 - acc: 0.14 - ETA: 27s - loss: 4.8600 - acc: 0.14 - ETA: 27s - loss: 4.8585 - acc: 0.14 - ETA: 26s - loss: 4.8655 - acc: 0.14 - ETA: 26s - loss: 4.8634 - acc: 0.14 - ETA: 26s - loss: 4.8622 - acc: 0.14 - ETA: 26s - loss: 4.8635 - acc: 0.14 - ETA: 26s - loss: 4.8632 - acc: 0.14 - ETA: 25s - loss: 4.8611 - acc: 0.14 - ETA: 25s - loss: 4.8621 - acc: 0.14 - ETA: 25s - loss: 4.8634 - acc: 0.14 - ETA: 25s - loss: 4.8634 - acc: 0.14 - ETA: 25s - loss: 4.8611 - acc: 0.14 - ETA: 24s - loss: 4.8586 - acc: 0.14 - ETA: 24s - loss: 4.8603 - acc: 0.14 - ETA: 24s - loss: 4.8613 - acc: 0.14 - ETA: 24s - loss: 4.8635 - acc: 0.14 - ETA: 24s - loss: 4.8614 - acc: 0.14 - ETA: 23s - loss: 4.8605 - acc: 0.14 - ETA: 23s - loss: 4.8596 - acc: 0.14 - ETA: 23s - loss: 4.8558 - acc: 0.14 - ETA: 23s - loss: 4.8553 - acc: 0.14 - ETA: 23s - loss: 4.8530 - acc: 0.14 - ETA: 22s - loss: 4.8535 - acc: 0.14 - ETA: 22s - loss: 4.8571 - acc: 0.14 - ETA: 22s - loss: 4.8568 - acc: 0.14 - ETA: 22s - loss: 4.8583 - acc: 0.14 - ETA: 22s - loss: 4.8583 - acc: 0.14 - ETA: 22s - loss: 4.8602 - acc: 0.14 - ETA: 21s - loss: 4.8618 - acc: 0.14 - ETA: 21s - loss: 4.8625 - acc: 0.14 - ETA: 21s - loss: 4.8634 - acc: 0.14 - ETA: 21s - loss: 4.8638 - acc: 0.14 - ETA: 21s - loss: 4.8623 - acc: 0.14 - ETA: 20s - loss: 4.8630 - acc: 0.14 - ETA: 20s - loss: 4.8637 - acc: 0.14 - ETA: 20s - loss: 4.8631 - acc: 0.14 - ETA: 20s - loss: 4.8643 - acc: 0.14 - ETA: 20s - loss: 4.8647 - acc: 0.14 - ETA: 19s - loss: 4.8639 - acc: 0.14 - ETA: 19s - loss: 4.8626 - acc: 0.14 - ETA: 19s - loss: 4.8618 - acc: 0.15 - ETA: 19s - loss: 4.8602 - acc: 0.15 - ETA: 19s - loss: 4.8599 - acc: 0.15 - ETA: 18s - loss: 4.8602 - acc: 0.15 - ETA: 18s - loss: 4.8606 - acc: 0.15 - ETA: 18s - loss: 4.8587 - acc: 0.15 - ETA: 18s - loss: 4.8609 - acc: 0.15 - ETA: 18s - loss: 4.8582 - acc: 0.15 - ETA: 17s - loss: 4.8585 - acc: 0.15 - ETA: 17s - loss: 4.8593 - acc: 0.15 - ETA: 17s - loss: 4.8605 - acc: 0.15 - ETA: 17s - loss: 4.8592 - acc: 0.15 - ETA: 17s - loss: 4.8614 - acc: 0.15 - ETA: 17s - loss: 4.8616 - acc: 0.15 - ETA: 16s - loss: 4.8638 - acc: 0.14 - ETA: 16s - loss: 4.8664 - acc: 0.14 - ETA: 16s - loss: 4.8654 - acc: 0.14 - ETA: 16s - loss: 4.8669 - acc: 0.14 - ETA: 16s - loss: 4.8636 - acc: 0.14 - ETA: 15s - loss: 4.8641 - acc: 0.14 - ETA: 15s - loss: 4.8642 - acc: 0.14 - ETA: 15s - loss: 4.8640 - acc: 0.14 - ETA: 15s - loss: 4.8615 - acc: 0.14 - ETA: 15s - loss: 4.8613 - acc: 0.14 - ETA: 14s - loss: 4.8608 - acc: 0.15 - ETA: 14s - loss: 4.8590 - acc: 0.15 - ETA: 14s - loss: 4.8581 - acc: 0.15 - ETA: 14s - loss: 4.8581 - acc: 0.15 - ETA: 14s - loss: 4.8570 - acc: 0.14 - ETA: 13s - loss: 4.8587 - acc: 0.14 - ETA: 13s - loss: 4.8587 - acc: 0.14 - ETA: 13s - loss: 4.8609 - acc: 0.14 - ETA: 13s - loss: 4.8636 - acc: 0.14 - ETA: 13s - loss: 4.8620 - acc: 0.14 - ETA: 13s - loss: 4.8628 - acc: 0.14 - ETA: 12s - loss: 4.8634 - acc: 0.14 - ETA: 12s - loss: 4.8631 - acc: 0.14 - ETA: 12s - loss: 4.8631 - acc: 0.14 - ETA: 12s - loss: 4.8619 - acc: 0.14 - ETA: 12s - loss: 4.8600 - acc: 0.14 - ETA: 11s - loss: 4.8604 - acc: 0.14 - ETA: 11s - loss: 4.8605 - acc: 0.14 - ETA: 11s - loss: 4.8590 - acc: 0.14 - ETA: 11s - loss: 4.8590 - acc: 0.14 - ETA: 11s - loss: 4.8601 - acc: 0.14 - ETA: 10s - loss: 4.8590 - acc: 0.14 - ETA: 10s - loss: 4.8584 - acc: 0.14 - ETA: 10s - loss: 4.8580 - acc: 0.14 - ETA: 10s - loss: 4.8560 - acc: 0.14 - ETA: 10s - loss: 4.8566 - acc: 0.14 - ETA: 9s - loss: 4.8572 - acc: 0.1493 - ETA: 9s - loss: 4.8583 - acc: 0.149 - ETA: 9s - loss: 4.8577 - acc: 0.149 - ETA: 9s - loss: 4.8576 - acc: 0.149 - ETA: 9s - loss: 4.8570 - acc: 0.149 - ETA: 9s - loss: 4.8583 - acc: 0.149 - ETA: 8s - loss: 4.8582 - acc: 0.149 - ETA: 8s - loss: 4.8573 - acc: 0.149 - ETA: 8s - loss: 4.8586 - acc: 0.148 - ETA: 8s - loss: 4.8571 - acc: 0.149 - ETA: 8s - loss: 4.8566 - acc: 0.149 - ETA: 7s - loss: 4.8561 - acc: 0.149 - ETA: 7s - loss: 4.8548 - acc: 0.149 - ETA: 7s - loss: 4.8539 - acc: 0.149 - ETA: 7s - loss: 4.8532 - acc: 0.149 - ETA: 7s - loss: 4.8537 - acc: 0.150 - ETA: 6s - loss: 4.8519 - acc: 0.150 - ETA: 6s - loss: 4.8528 - acc: 0.150 - ETA: 6s - loss: 4.8541 - acc: 0.150 - ETA: 6s - loss: 4.8546 - acc: 0.149 - ETA: 6s - loss: 4.8537 - acc: 0.149 - ETA: 5s - loss: 4.8553 - acc: 0.149 - ETA: 5s - loss: 4.8556 - acc: 0.149 - ETA: 5s - loss: 4.8559 - acc: 0.149 - ETA: 5s - loss: 4.8558 - acc: 0.149 - ETA: 5s - loss: 4.8541 - acc: 0.150 - ETA: 4s - loss: 4.8555 - acc: 0.150 - ETA: 4s - loss: 4.8555 - acc: 0.1501"
     ]
    },
    {
     "name": "stdout",
     "output_type": "stream",
     "text": [
      "30742/30742 [==============================] - ETA: 4s - loss: 4.8570 - acc: 0.150 - ETA: 4s - loss: 4.8570 - acc: 0.150 - ETA: 4s - loss: 4.8585 - acc: 0.149 - ETA: 4s - loss: 4.8584 - acc: 0.150 - ETA: 3s - loss: 4.8586 - acc: 0.150 - ETA: 3s - loss: 4.8574 - acc: 0.150 - ETA: 3s - loss: 4.8577 - acc: 0.150 - ETA: 3s - loss: 4.8576 - acc: 0.149 - ETA: 3s - loss: 4.8580 - acc: 0.149 - ETA: 2s - loss: 4.8587 - acc: 0.149 - ETA: 2s - loss: 4.8572 - acc: 0.149 - ETA: 2s - loss: 4.8588 - acc: 0.149 - ETA: 2s - loss: 4.8597 - acc: 0.149 - ETA: 2s - loss: 4.8606 - acc: 0.149 - ETA: 1s - loss: 4.8598 - acc: 0.149 - ETA: 1s - loss: 4.8601 - acc: 0.149 - ETA: 1s - loss: 4.8600 - acc: 0.149 - ETA: 1s - loss: 4.8604 - acc: 0.149 - ETA: 1s - loss: 4.8616 - acc: 0.149 - ETA: 0s - loss: 4.8617 - acc: 0.149 - ETA: 0s - loss: 4.8610 - acc: 0.149 - ETA: 0s - loss: 4.8619 - acc: 0.149 - ETA: 0s - loss: 4.8617 - acc: 0.149 - ETA: 0s - loss: 4.8612 - acc: 0.149 - ETA: 0s - loss: 4.8616 - acc: 0.149 - 46s 1ms/step - loss: 4.8617 - acc: 0.1493\n",
      "Epoch 19/30\n"
     ]
    },
    {
     "name": "stdout",
     "output_type": "stream",
     "text": [
      "27520/30742 [=========================>....] - ETA: 47s - loss: 4.6027 - acc: 0.14 - ETA: 46s - loss: 4.6330 - acc: 0.16 - ETA: 45s - loss: 4.5635 - acc: 0.16 - ETA: 44s - loss: 4.6668 - acc: 0.15 - ETA: 44s - loss: 4.6424 - acc: 0.14 - ETA: 44s - loss: 4.7021 - acc: 0.14 - ETA: 44s - loss: 4.6944 - acc: 0.14 - ETA: 43s - loss: 4.7335 - acc: 0.14 - ETA: 43s - loss: 4.7398 - acc: 0.14 - ETA: 43s - loss: 4.7183 - acc: 0.14 - ETA: 43s - loss: 4.7368 - acc: 0.14 - ETA: 43s - loss: 4.7063 - acc: 0.15 - ETA: 42s - loss: 4.6894 - acc: 0.15 - ETA: 42s - loss: 4.6837 - acc: 0.15 - ETA: 42s - loss: 4.6818 - acc: 0.15 - ETA: 42s - loss: 4.6559 - acc: 0.15 - ETA: 42s - loss: 4.6660 - acc: 0.15 - ETA: 42s - loss: 4.6660 - acc: 0.15 - ETA: 41s - loss: 4.6728 - acc: 0.15 - ETA: 41s - loss: 4.6932 - acc: 0.15 - ETA: 41s - loss: 4.7144 - acc: 0.15 - ETA: 41s - loss: 4.7170 - acc: 0.15 - ETA: 41s - loss: 4.7198 - acc: 0.15 - ETA: 41s - loss: 4.7113 - acc: 0.15 - ETA: 40s - loss: 4.7170 - acc: 0.15 - ETA: 40s - loss: 4.7182 - acc: 0.15 - ETA: 40s - loss: 4.7176 - acc: 0.15 - ETA: 40s - loss: 4.7187 - acc: 0.15 - ETA: 40s - loss: 4.7063 - acc: 0.15 - ETA: 39s - loss: 4.7004 - acc: 0.15 - ETA: 39s - loss: 4.7018 - acc: 0.15 - ETA: 39s - loss: 4.6960 - acc: 0.15 - ETA: 39s - loss: 4.6968 - acc: 0.15 - ETA: 39s - loss: 4.6918 - acc: 0.15 - ETA: 38s - loss: 4.6911 - acc: 0.15 - ETA: 38s - loss: 4.6961 - acc: 0.15 - ETA: 38s - loss: 4.7069 - acc: 0.15 - ETA: 38s - loss: 4.7068 - acc: 0.16 - ETA: 38s - loss: 4.7025 - acc: 0.16 - ETA: 38s - loss: 4.7038 - acc: 0.16 - ETA: 37s - loss: 4.7112 - acc: 0.16 - ETA: 37s - loss: 4.7137 - acc: 0.15 - ETA: 37s - loss: 4.7218 - acc: 0.15 - ETA: 37s - loss: 4.7208 - acc: 0.15 - ETA: 37s - loss: 4.7235 - acc: 0.15 - ETA: 36s - loss: 4.7315 - acc: 0.15 - ETA: 36s - loss: 4.7332 - acc: 0.15 - ETA: 36s - loss: 4.7312 - acc: 0.15 - ETA: 36s - loss: 4.7324 - acc: 0.15 - ETA: 36s - loss: 4.7378 - acc: 0.15 - ETA: 35s - loss: 4.7340 - acc: 0.15 - ETA: 35s - loss: 4.7380 - acc: 0.15 - ETA: 35s - loss: 4.7405 - acc: 0.15 - ETA: 35s - loss: 4.7404 - acc: 0.15 - ETA: 35s - loss: 4.7438 - acc: 0.15 - ETA: 34s - loss: 4.7426 - acc: 0.15 - ETA: 34s - loss: 4.7462 - acc: 0.15 - ETA: 34s - loss: 4.7473 - acc: 0.15 - ETA: 34s - loss: 4.7490 - acc: 0.15 - ETA: 34s - loss: 4.7495 - acc: 0.15 - ETA: 34s - loss: 4.7516 - acc: 0.15 - ETA: 33s - loss: 4.7483 - acc: 0.15 - ETA: 33s - loss: 4.7492 - acc: 0.15 - ETA: 33s - loss: 4.7478 - acc: 0.15 - ETA: 33s - loss: 4.7440 - acc: 0.15 - ETA: 33s - loss: 4.7504 - acc: 0.15 - ETA: 32s - loss: 4.7502 - acc: 0.15 - ETA: 32s - loss: 4.7471 - acc: 0.15 - ETA: 32s - loss: 4.7477 - acc: 0.15 - ETA: 32s - loss: 4.7506 - acc: 0.15 - ETA: 32s - loss: 4.7555 - acc: 0.15 - ETA: 31s - loss: 4.7567 - acc: 0.15 - ETA: 31s - loss: 4.7563 - acc: 0.15 - ETA: 31s - loss: 4.7560 - acc: 0.15 - ETA: 31s - loss: 4.7570 - acc: 0.15 - ETA: 31s - loss: 4.7594 - acc: 0.15 - ETA: 30s - loss: 4.7592 - acc: 0.15 - ETA: 30s - loss: 4.7607 - acc: 0.15 - ETA: 30s - loss: 4.7594 - acc: 0.15 - ETA: 30s - loss: 4.7577 - acc: 0.15 - ETA: 30s - loss: 4.7581 - acc: 0.15 - ETA: 30s - loss: 4.7563 - acc: 0.15 - ETA: 29s - loss: 4.7601 - acc: 0.15 - ETA: 29s - loss: 4.7584 - acc: 0.15 - ETA: 29s - loss: 4.7635 - acc: 0.15 - ETA: 29s - loss: 4.7633 - acc: 0.15 - ETA: 29s - loss: 4.7651 - acc: 0.15 - ETA: 28s - loss: 4.7643 - acc: 0.15 - ETA: 28s - loss: 4.7645 - acc: 0.15 - ETA: 28s - loss: 4.7634 - acc: 0.15 - ETA: 28s - loss: 4.7628 - acc: 0.15 - ETA: 28s - loss: 4.7593 - acc: 0.15 - ETA: 27s - loss: 4.7573 - acc: 0.15 - ETA: 27s - loss: 4.7565 - acc: 0.15 - ETA: 27s - loss: 4.7543 - acc: 0.15 - ETA: 27s - loss: 4.7541 - acc: 0.15 - ETA: 27s - loss: 4.7562 - acc: 0.15 - ETA: 26s - loss: 4.7562 - acc: 0.15 - ETA: 26s - loss: 4.7576 - acc: 0.15 - ETA: 26s - loss: 4.7574 - acc: 0.15 - ETA: 26s - loss: 4.7544 - acc: 0.15 - ETA: 26s - loss: 4.7532 - acc: 0.15 - ETA: 26s - loss: 4.7531 - acc: 0.15 - ETA: 25s - loss: 4.7508 - acc: 0.15 - ETA: 25s - loss: 4.7502 - acc: 0.15 - ETA: 25s - loss: 4.7540 - acc: 0.15 - ETA: 25s - loss: 4.7551 - acc: 0.15 - ETA: 25s - loss: 4.7572 - acc: 0.15 - ETA: 24s - loss: 4.7618 - acc: 0.15 - ETA: 24s - loss: 4.7634 - acc: 0.15 - ETA: 24s - loss: 4.7615 - acc: 0.15 - ETA: 24s - loss: 4.7627 - acc: 0.15 - ETA: 24s - loss: 4.7645 - acc: 0.15 - ETA: 23s - loss: 4.7648 - acc: 0.15 - ETA: 23s - loss: 4.7641 - acc: 0.15 - ETA: 23s - loss: 4.7654 - acc: 0.15 - ETA: 23s - loss: 4.7673 - acc: 0.15 - ETA: 23s - loss: 4.7664 - acc: 0.15 - ETA: 23s - loss: 4.7673 - acc: 0.15 - ETA: 22s - loss: 4.7681 - acc: 0.15 - ETA: 22s - loss: 4.7685 - acc: 0.15 - ETA: 22s - loss: 4.7674 - acc: 0.15 - ETA: 22s - loss: 4.7698 - acc: 0.15 - ETA: 22s - loss: 4.7672 - acc: 0.15 - ETA: 21s - loss: 4.7681 - acc: 0.15 - ETA: 21s - loss: 4.7690 - acc: 0.15 - ETA: 21s - loss: 4.7696 - acc: 0.15 - ETA: 21s - loss: 4.7703 - acc: 0.15 - ETA: 21s - loss: 4.7719 - acc: 0.15 - ETA: 20s - loss: 4.7698 - acc: 0.15 - ETA: 20s - loss: 4.7702 - acc: 0.15 - ETA: 20s - loss: 4.7698 - acc: 0.15 - ETA: 20s - loss: 4.7675 - acc: 0.15 - ETA: 20s - loss: 4.7671 - acc: 0.15 - ETA: 20s - loss: 4.7676 - acc: 0.15 - ETA: 19s - loss: 4.7679 - acc: 0.15 - ETA: 19s - loss: 4.7679 - acc: 0.15 - ETA: 19s - loss: 4.7689 - acc: 0.15 - ETA: 19s - loss: 4.7692 - acc: 0.15 - ETA: 19s - loss: 4.7669 - acc: 0.15 - ETA: 18s - loss: 4.7696 - acc: 0.15 - ETA: 18s - loss: 4.7700 - acc: 0.15 - ETA: 18s - loss: 4.7697 - acc: 0.15 - ETA: 18s - loss: 4.7709 - acc: 0.15 - ETA: 18s - loss: 4.7692 - acc: 0.15 - ETA: 17s - loss: 4.7681 - acc: 0.15 - ETA: 17s - loss: 4.7673 - acc: 0.15 - ETA: 17s - loss: 4.7670 - acc: 0.15 - ETA: 17s - loss: 4.7679 - acc: 0.15 - ETA: 17s - loss: 4.7681 - acc: 0.15 - ETA: 16s - loss: 4.7677 - acc: 0.15 - ETA: 16s - loss: 4.7682 - acc: 0.15 - ETA: 16s - loss: 4.7679 - acc: 0.15 - ETA: 16s - loss: 4.7669 - acc: 0.15 - ETA: 16s - loss: 4.7681 - acc: 0.15 - ETA: 16s - loss: 4.7683 - acc: 0.15 - ETA: 15s - loss: 4.7667 - acc: 0.15 - ETA: 15s - loss: 4.7682 - acc: 0.15 - ETA: 15s - loss: 4.7691 - acc: 0.15 - ETA: 15s - loss: 4.7676 - acc: 0.15 - ETA: 15s - loss: 4.7664 - acc: 0.15 - ETA: 14s - loss: 4.7686 - acc: 0.15 - ETA: 14s - loss: 4.7683 - acc: 0.15 - ETA: 14s - loss: 4.7695 - acc: 0.15 - ETA: 14s - loss: 4.7661 - acc: 0.15 - ETA: 14s - loss: 4.7657 - acc: 0.15 - ETA: 13s - loss: 4.7660 - acc: 0.15 - ETA: 13s - loss: 4.7650 - acc: 0.15 - ETA: 13s - loss: 4.7664 - acc: 0.15 - ETA: 13s - loss: 4.7654 - acc: 0.15 - ETA: 13s - loss: 4.7655 - acc: 0.15 - ETA: 12s - loss: 4.7673 - acc: 0.15 - ETA: 12s - loss: 4.7701 - acc: 0.15 - ETA: 12s - loss: 4.7704 - acc: 0.15 - ETA: 12s - loss: 4.7721 - acc: 0.15 - ETA: 12s - loss: 4.7717 - acc: 0.15 - ETA: 12s - loss: 4.7729 - acc: 0.15 - ETA: 11s - loss: 4.7743 - acc: 0.15 - ETA: 11s - loss: 4.7739 - acc: 0.15 - ETA: 11s - loss: 4.7739 - acc: 0.15 - ETA: 11s - loss: 4.7746 - acc: 0.15 - ETA: 11s - loss: 4.7760 - acc: 0.15 - ETA: 10s - loss: 4.7770 - acc: 0.15 - ETA: 10s - loss: 4.7791 - acc: 0.15 - ETA: 10s - loss: 4.7775 - acc: 0.15 - ETA: 10s - loss: 4.7777 - acc: 0.15 - ETA: 10s - loss: 4.7785 - acc: 0.15 - ETA: 9s - loss: 4.7798 - acc: 0.1526 - ETA: 9s - loss: 4.7799 - acc: 0.152 - ETA: 9s - loss: 4.7799 - acc: 0.153 - ETA: 9s - loss: 4.7806 - acc: 0.152 - ETA: 9s - loss: 4.7805 - acc: 0.153 - ETA: 8s - loss: 4.7811 - acc: 0.153 - ETA: 8s - loss: 4.7804 - acc: 0.153 - ETA: 8s - loss: 4.7815 - acc: 0.153 - ETA: 8s - loss: 4.7815 - acc: 0.153 - ETA: 8s - loss: 4.7817 - acc: 0.153 - ETA: 8s - loss: 4.7814 - acc: 0.153 - ETA: 7s - loss: 4.7832 - acc: 0.153 - ETA: 7s - loss: 4.7842 - acc: 0.152 - ETA: 7s - loss: 4.7836 - acc: 0.153 - ETA: 7s - loss: 4.7838 - acc: 0.153 - ETA: 7s - loss: 4.7840 - acc: 0.153 - ETA: 6s - loss: 4.7833 - acc: 0.153 - ETA: 6s - loss: 4.7842 - acc: 0.153 - ETA: 6s - loss: 4.7835 - acc: 0.153 - ETA: 6s - loss: 4.7842 - acc: 0.153 - ETA: 6s - loss: 4.7843 - acc: 0.153 - ETA: 5s - loss: 4.7854 - acc: 0.153 - ETA: 5s - loss: 4.7854 - acc: 0.153 - ETA: 5s - loss: 4.7851 - acc: 0.153 - ETA: 5s - loss: 4.7858 - acc: 0.153 - ETA: 5s - loss: 4.7861 - acc: 0.153 - ETA: 4s - loss: 4.7853 - acc: 0.153 - ETA: 4s - loss: 4.7850 - acc: 0.1529"
     ]
    },
    {
     "name": "stdout",
     "output_type": "stream",
     "text": [
      "30742/30742 [==============================] - ETA: 4s - loss: 4.7842 - acc: 0.153 - ETA: 4s - loss: 4.7847 - acc: 0.152 - ETA: 4s - loss: 4.7850 - acc: 0.152 - ETA: 4s - loss: 4.7869 - acc: 0.152 - ETA: 3s - loss: 4.7872 - acc: 0.152 - ETA: 3s - loss: 4.7871 - acc: 0.152 - ETA: 3s - loss: 4.7859 - acc: 0.152 - ETA: 3s - loss: 4.7866 - acc: 0.152 - ETA: 3s - loss: 4.7879 - acc: 0.152 - ETA: 2s - loss: 4.7889 - acc: 0.152 - ETA: 2s - loss: 4.7891 - acc: 0.152 - ETA: 2s - loss: 4.7891 - acc: 0.152 - ETA: 2s - loss: 4.7888 - acc: 0.152 - ETA: 2s - loss: 4.7883 - acc: 0.152 - ETA: 1s - loss: 4.7888 - acc: 0.152 - ETA: 1s - loss: 4.7903 - acc: 0.152 - ETA: 1s - loss: 4.7918 - acc: 0.152 - ETA: 1s - loss: 4.7917 - acc: 0.152 - ETA: 1s - loss: 4.7906 - acc: 0.153 - ETA: 0s - loss: 4.7916 - acc: 0.153 - ETA: 0s - loss: 4.7919 - acc: 0.152 - ETA: 0s - loss: 4.7915 - acc: 0.153 - ETA: 0s - loss: 4.7918 - acc: 0.153 - ETA: 0s - loss: 4.7918 - acc: 0.153 - ETA: 0s - loss: 4.7924 - acc: 0.152 - 46s 1ms/step - loss: 4.7922 - acc: 0.1530\n",
      "Epoch 20/30\n"
     ]
    },
    {
     "name": "stdout",
     "output_type": "stream",
     "text": [
      "27520/30742 [=========================>....] - ETA: 44s - loss: 4.8037 - acc: 0.14 - ETA: 44s - loss: 4.8037 - acc: 0.14 - ETA: 44s - loss: 4.7511 - acc: 0.14 - ETA: 44s - loss: 4.7286 - acc: 0.14 - ETA: 43s - loss: 4.6957 - acc: 0.14 - ETA: 44s - loss: 4.7194 - acc: 0.14 - ETA: 43s - loss: 4.6942 - acc: 0.15 - ETA: 43s - loss: 4.6568 - acc: 0.15 - ETA: 43s - loss: 4.6713 - acc: 0.15 - ETA: 43s - loss: 4.6625 - acc: 0.15 - ETA: 43s - loss: 4.6702 - acc: 0.16 - ETA: 42s - loss: 4.6715 - acc: 0.15 - ETA: 42s - loss: 4.6821 - acc: 0.15 - ETA: 42s - loss: 4.6764 - acc: 0.15 - ETA: 42s - loss: 4.6761 - acc: 0.15 - ETA: 42s - loss: 4.6641 - acc: 0.15 - ETA: 41s - loss: 4.6576 - acc: 0.15 - ETA: 41s - loss: 4.6693 - acc: 0.15 - ETA: 41s - loss: 4.6796 - acc: 0.15 - ETA: 41s - loss: 4.6924 - acc: 0.15 - ETA: 41s - loss: 4.6764 - acc: 0.15 - ETA: 41s - loss: 4.6725 - acc: 0.15 - ETA: 40s - loss: 4.6752 - acc: 0.15 - ETA: 40s - loss: 4.6813 - acc: 0.14 - ETA: 40s - loss: 4.6843 - acc: 0.14 - ETA: 40s - loss: 4.6944 - acc: 0.14 - ETA: 40s - loss: 4.6950 - acc: 0.14 - ETA: 39s - loss: 4.6944 - acc: 0.14 - ETA: 39s - loss: 4.7046 - acc: 0.15 - ETA: 39s - loss: 4.7034 - acc: 0.15 - ETA: 39s - loss: 4.7110 - acc: 0.14 - ETA: 39s - loss: 4.7075 - acc: 0.15 - ETA: 38s - loss: 4.7049 - acc: 0.15 - ETA: 38s - loss: 4.7007 - acc: 0.14 - ETA: 38s - loss: 4.7065 - acc: 0.14 - ETA: 38s - loss: 4.6998 - acc: 0.15 - ETA: 38s - loss: 4.7035 - acc: 0.15 - ETA: 38s - loss: 4.7039 - acc: 0.15 - ETA: 37s - loss: 4.6955 - acc: 0.15 - ETA: 37s - loss: 4.6986 - acc: 0.15 - ETA: 37s - loss: 4.6893 - acc: 0.15 - ETA: 37s - loss: 4.6863 - acc: 0.15 - ETA: 37s - loss: 4.6849 - acc: 0.15 - ETA: 36s - loss: 4.6859 - acc: 0.15 - ETA: 36s - loss: 4.6828 - acc: 0.15 - ETA: 36s - loss: 4.6857 - acc: 0.15 - ETA: 36s - loss: 4.6867 - acc: 0.15 - ETA: 36s - loss: 4.6867 - acc: 0.15 - ETA: 36s - loss: 4.6821 - acc: 0.15 - ETA: 35s - loss: 4.6801 - acc: 0.15 - ETA: 35s - loss: 4.6733 - acc: 0.15 - ETA: 35s - loss: 4.6742 - acc: 0.15 - ETA: 35s - loss: 4.6753 - acc: 0.15 - ETA: 35s - loss: 4.6789 - acc: 0.15 - ETA: 34s - loss: 4.6824 - acc: 0.15 - ETA: 34s - loss: 4.6796 - acc: 0.15 - ETA: 34s - loss: 4.6774 - acc: 0.15 - ETA: 34s - loss: 4.6775 - acc: 0.15 - ETA: 34s - loss: 4.6793 - acc: 0.15 - ETA: 34s - loss: 4.6803 - acc: 0.15 - ETA: 33s - loss: 4.6806 - acc: 0.15 - ETA: 33s - loss: 4.6782 - acc: 0.15 - ETA: 33s - loss: 4.6818 - acc: 0.15 - ETA: 33s - loss: 4.6794 - acc: 0.15 - ETA: 33s - loss: 4.6786 - acc: 0.15 - ETA: 32s - loss: 4.6800 - acc: 0.15 - ETA: 32s - loss: 4.6825 - acc: 0.15 - ETA: 32s - loss: 4.6875 - acc: 0.15 - ETA: 32s - loss: 4.6867 - acc: 0.15 - ETA: 32s - loss: 4.6854 - acc: 0.15 - ETA: 31s - loss: 4.6831 - acc: 0.15 - ETA: 31s - loss: 4.6799 - acc: 0.15 - ETA: 31s - loss: 4.6811 - acc: 0.15 - ETA: 31s - loss: 4.6782 - acc: 0.15 - ETA: 31s - loss: 4.6746 - acc: 0.15 - ETA: 30s - loss: 4.6767 - acc: 0.15 - ETA: 30s - loss: 4.6739 - acc: 0.15 - ETA: 30s - loss: 4.6750 - acc: 0.15 - ETA: 30s - loss: 4.6768 - acc: 0.15 - ETA: 30s - loss: 4.6765 - acc: 0.15 - ETA: 30s - loss: 4.6783 - acc: 0.15 - ETA: 29s - loss: 4.6777 - acc: 0.15 - ETA: 29s - loss: 4.6833 - acc: 0.15 - ETA: 29s - loss: 4.6861 - acc: 0.15 - ETA: 29s - loss: 4.6876 - acc: 0.15 - ETA: 29s - loss: 4.6908 - acc: 0.15 - ETA: 28s - loss: 4.6896 - acc: 0.15 - ETA: 28s - loss: 4.6891 - acc: 0.15 - ETA: 28s - loss: 4.6922 - acc: 0.15 - ETA: 28s - loss: 4.6929 - acc: 0.15 - ETA: 28s - loss: 4.6963 - acc: 0.15 - ETA: 28s - loss: 4.6970 - acc: 0.15 - ETA: 27s - loss: 4.6964 - acc: 0.15 - ETA: 27s - loss: 4.6970 - acc: 0.15 - ETA: 27s - loss: 4.6961 - acc: 0.15 - ETA: 27s - loss: 4.6998 - acc: 0.15 - ETA: 27s - loss: 4.7015 - acc: 0.15 - ETA: 26s - loss: 4.7016 - acc: 0.15 - ETA: 26s - loss: 4.7003 - acc: 0.15 - ETA: 26s - loss: 4.6993 - acc: 0.15 - ETA: 26s - loss: 4.6970 - acc: 0.15 - ETA: 26s - loss: 4.6942 - acc: 0.15 - ETA: 25s - loss: 4.6941 - acc: 0.15 - ETA: 25s - loss: 4.6961 - acc: 0.15 - ETA: 25s - loss: 4.6964 - acc: 0.15 - ETA: 25s - loss: 4.6994 - acc: 0.15 - ETA: 25s - loss: 4.7016 - acc: 0.15 - ETA: 25s - loss: 4.6984 - acc: 0.15 - ETA: 24s - loss: 4.6991 - acc: 0.15 - ETA: 24s - loss: 4.7000 - acc: 0.15 - ETA: 24s - loss: 4.6989 - acc: 0.15 - ETA: 24s - loss: 4.6969 - acc: 0.15 - ETA: 24s - loss: 4.7004 - acc: 0.15 - ETA: 23s - loss: 4.6969 - acc: 0.15 - ETA: 23s - loss: 4.6965 - acc: 0.15 - ETA: 23s - loss: 4.6975 - acc: 0.15 - ETA: 23s - loss: 4.6970 - acc: 0.15 - ETA: 23s - loss: 4.6951 - acc: 0.15 - ETA: 22s - loss: 4.6967 - acc: 0.15 - ETA: 22s - loss: 4.6942 - acc: 0.15 - ETA: 22s - loss: 4.6946 - acc: 0.15 - ETA: 22s - loss: 4.6938 - acc: 0.15 - ETA: 22s - loss: 4.6935 - acc: 0.15 - ETA: 21s - loss: 4.6931 - acc: 0.15 - ETA: 21s - loss: 4.6912 - acc: 0.15 - ETA: 21s - loss: 4.6890 - acc: 0.15 - ETA: 21s - loss: 4.6880 - acc: 0.15 - ETA: 21s - loss: 4.6874 - acc: 0.15 - ETA: 21s - loss: 4.6880 - acc: 0.15 - ETA: 20s - loss: 4.6858 - acc: 0.15 - ETA: 20s - loss: 4.6854 - acc: 0.15 - ETA: 20s - loss: 4.6882 - acc: 0.15 - ETA: 20s - loss: 4.6870 - acc: 0.15 - ETA: 20s - loss: 4.6856 - acc: 0.15 - ETA: 19s - loss: 4.6884 - acc: 0.15 - ETA: 19s - loss: 4.6862 - acc: 0.15 - ETA: 19s - loss: 4.6861 - acc: 0.15 - ETA: 19s - loss: 4.6869 - acc: 0.15 - ETA: 19s - loss: 4.6894 - acc: 0.15 - ETA: 18s - loss: 4.6888 - acc: 0.15 - ETA: 18s - loss: 4.6877 - acc: 0.15 - ETA: 18s - loss: 4.6894 - acc: 0.15 - ETA: 18s - loss: 4.6901 - acc: 0.15 - ETA: 18s - loss: 4.6917 - acc: 0.15 - ETA: 18s - loss: 4.6924 - acc: 0.15 - ETA: 17s - loss: 4.6933 - acc: 0.15 - ETA: 17s - loss: 4.6925 - acc: 0.15 - ETA: 17s - loss: 4.6941 - acc: 0.15 - ETA: 17s - loss: 4.6963 - acc: 0.15 - ETA: 17s - loss: 4.6958 - acc: 0.15 - ETA: 16s - loss: 4.6958 - acc: 0.15 - ETA: 16s - loss: 4.6963 - acc: 0.15 - ETA: 16s - loss: 4.6971 - acc: 0.15 - ETA: 16s - loss: 4.6975 - acc: 0.15 - ETA: 16s - loss: 4.6976 - acc: 0.15 - ETA: 15s - loss: 4.6987 - acc: 0.15 - ETA: 15s - loss: 4.6975 - acc: 0.15 - ETA: 15s - loss: 4.6976 - acc: 0.15 - ETA: 15s - loss: 4.6969 - acc: 0.15 - ETA: 15s - loss: 4.6990 - acc: 0.15 - ETA: 15s - loss: 4.6991 - acc: 0.15 - ETA: 14s - loss: 4.7004 - acc: 0.15 - ETA: 14s - loss: 4.7011 - acc: 0.15 - ETA: 14s - loss: 4.7028 - acc: 0.15 - ETA: 14s - loss: 4.7041 - acc: 0.15 - ETA: 14s - loss: 4.7055 - acc: 0.15 - ETA: 13s - loss: 4.7038 - acc: 0.15 - ETA: 13s - loss: 4.7031 - acc: 0.15 - ETA: 13s - loss: 4.7039 - acc: 0.15 - ETA: 13s - loss: 4.7043 - acc: 0.15 - ETA: 13s - loss: 4.7048 - acc: 0.15 - ETA: 12s - loss: 4.7055 - acc: 0.15 - ETA: 12s - loss: 4.7064 - acc: 0.15 - ETA: 12s - loss: 4.7065 - acc: 0.15 - ETA: 12s - loss: 4.7065 - acc: 0.15 - ETA: 12s - loss: 4.7061 - acc: 0.15 - ETA: 11s - loss: 4.7049 - acc: 0.15 - ETA: 11s - loss: 4.7041 - acc: 0.15 - ETA: 11s - loss: 4.7059 - acc: 0.15 - ETA: 11s - loss: 4.7071 - acc: 0.15 - ETA: 11s - loss: 4.7072 - acc: 0.15 - ETA: 11s - loss: 4.7067 - acc: 0.15 - ETA: 10s - loss: 4.7079 - acc: 0.15 - ETA: 10s - loss: 4.7084 - acc: 0.15 - ETA: 10s - loss: 4.7077 - acc: 0.15 - ETA: 10s - loss: 4.7073 - acc: 0.15 - ETA: 10s - loss: 4.7085 - acc: 0.15 - ETA: 9s - loss: 4.7086 - acc: 0.1570 - ETA: 9s - loss: 4.7081 - acc: 0.157 - ETA: 9s - loss: 4.7063 - acc: 0.156 - ETA: 9s - loss: 4.7060 - acc: 0.156 - ETA: 9s - loss: 4.7054 - acc: 0.157 - ETA: 8s - loss: 4.7055 - acc: 0.156 - ETA: 8s - loss: 4.7067 - acc: 0.157 - ETA: 8s - loss: 4.7056 - acc: 0.157 - ETA: 8s - loss: 4.7060 - acc: 0.157 - ETA: 8s - loss: 4.7062 - acc: 0.157 - ETA: 8s - loss: 4.7064 - acc: 0.156 - ETA: 7s - loss: 4.7055 - acc: 0.157 - ETA: 7s - loss: 4.7052 - acc: 0.157 - ETA: 7s - loss: 4.7058 - acc: 0.157 - ETA: 7s - loss: 4.7048 - acc: 0.157 - ETA: 7s - loss: 4.7047 - acc: 0.156 - ETA: 6s - loss: 4.7050 - acc: 0.156 - ETA: 6s - loss: 4.7065 - acc: 0.156 - ETA: 6s - loss: 4.7074 - acc: 0.156 - ETA: 6s - loss: 4.7076 - acc: 0.156 - ETA: 6s - loss: 4.7092 - acc: 0.156 - ETA: 5s - loss: 4.7085 - acc: 0.156 - ETA: 5s - loss: 4.7081 - acc: 0.156 - ETA: 5s - loss: 4.7074 - acc: 0.156 - ETA: 5s - loss: 4.7088 - acc: 0.156 - ETA: 5s - loss: 4.7096 - acc: 0.155 - ETA: 4s - loss: 4.7088 - acc: 0.155 - ETA: 4s - loss: 4.7087 - acc: 0.1558"
     ]
    },
    {
     "name": "stdout",
     "output_type": "stream",
     "text": [
      "30742/30742 [==============================] - ETA: 4s - loss: 4.7096 - acc: 0.155 - ETA: 4s - loss: 4.7105 - acc: 0.155 - ETA: 4s - loss: 4.7122 - acc: 0.155 - ETA: 4s - loss: 4.7127 - acc: 0.155 - ETA: 3s - loss: 4.7128 - acc: 0.155 - ETA: 3s - loss: 4.7140 - acc: 0.155 - ETA: 3s - loss: 4.7150 - acc: 0.155 - ETA: 3s - loss: 4.7140 - acc: 0.155 - ETA: 3s - loss: 4.7154 - acc: 0.155 - ETA: 2s - loss: 4.7170 - acc: 0.155 - ETA: 2s - loss: 4.7187 - acc: 0.155 - ETA: 2s - loss: 4.7184 - acc: 0.155 - ETA: 2s - loss: 4.7182 - acc: 0.155 - ETA: 2s - loss: 4.7193 - acc: 0.155 - ETA: 1s - loss: 4.7204 - acc: 0.154 - ETA: 1s - loss: 4.7199 - acc: 0.155 - ETA: 1s - loss: 4.7196 - acc: 0.155 - ETA: 1s - loss: 4.7212 - acc: 0.154 - ETA: 1s - loss: 4.7215 - acc: 0.154 - ETA: 0s - loss: 4.7221 - acc: 0.154 - ETA: 0s - loss: 4.7224 - acc: 0.154 - ETA: 0s - loss: 4.7227 - acc: 0.154 - ETA: 0s - loss: 4.7237 - acc: 0.154 - ETA: 0s - loss: 4.7249 - acc: 0.154 - ETA: 0s - loss: 4.7254 - acc: 0.154 - 46s 1ms/step - loss: 4.7257 - acc: 0.1548\n",
      "Epoch 21/30\n"
     ]
    },
    {
     "name": "stdout",
     "output_type": "stream",
     "text": [
      "27520/30742 [=========================>....] - ETA: 42s - loss: 4.5781 - acc: 0.17 - ETA: 44s - loss: 4.5674 - acc: 0.17 - ETA: 43s - loss: 4.5786 - acc: 0.15 - ETA: 43s - loss: 4.6092 - acc: 0.15 - ETA: 43s - loss: 4.5970 - acc: 0.15 - ETA: 44s - loss: 4.5693 - acc: 0.16 - ETA: 44s - loss: 4.5917 - acc: 0.15 - ETA: 44s - loss: 4.5895 - acc: 0.15 - ETA: 43s - loss: 4.5994 - acc: 0.15 - ETA: 43s - loss: 4.5555 - acc: 0.16 - ETA: 43s - loss: 4.5185 - acc: 0.16 - ETA: 43s - loss: 4.5300 - acc: 0.16 - ETA: 43s - loss: 4.5251 - acc: 0.16 - ETA: 42s - loss: 4.5152 - acc: 0.16 - ETA: 42s - loss: 4.5155 - acc: 0.17 - ETA: 42s - loss: 4.5220 - acc: 0.16 - ETA: 42s - loss: 4.5098 - acc: 0.17 - ETA: 41s - loss: 4.5129 - acc: 0.17 - ETA: 41s - loss: 4.5056 - acc: 0.17 - ETA: 41s - loss: 4.5025 - acc: 0.17 - ETA: 41s - loss: 4.5028 - acc: 0.17 - ETA: 41s - loss: 4.5070 - acc: 0.17 - ETA: 41s - loss: 4.5114 - acc: 0.17 - ETA: 40s - loss: 4.5268 - acc: 0.16 - ETA: 40s - loss: 4.5309 - acc: 0.16 - ETA: 40s - loss: 4.5269 - acc: 0.16 - ETA: 40s - loss: 4.5291 - acc: 0.16 - ETA: 40s - loss: 4.5290 - acc: 0.16 - ETA: 39s - loss: 4.5421 - acc: 0.16 - ETA: 39s - loss: 4.5396 - acc: 0.16 - ETA: 39s - loss: 4.5348 - acc: 0.16 - ETA: 39s - loss: 4.5407 - acc: 0.16 - ETA: 39s - loss: 4.5412 - acc: 0.16 - ETA: 38s - loss: 4.5417 - acc: 0.16 - ETA: 38s - loss: 4.5460 - acc: 0.16 - ETA: 38s - loss: 4.5331 - acc: 0.16 - ETA: 38s - loss: 4.5371 - acc: 0.16 - ETA: 38s - loss: 4.5403 - acc: 0.16 - ETA: 37s - loss: 4.5461 - acc: 0.16 - ETA: 37s - loss: 4.5506 - acc: 0.16 - ETA: 37s - loss: 4.5540 - acc: 0.16 - ETA: 37s - loss: 4.5646 - acc: 0.16 - ETA: 37s - loss: 4.5674 - acc: 0.16 - ETA: 37s - loss: 4.5668 - acc: 0.16 - ETA: 36s - loss: 4.5750 - acc: 0.16 - ETA: 36s - loss: 4.5828 - acc: 0.16 - ETA: 36s - loss: 4.5857 - acc: 0.16 - ETA: 36s - loss: 4.5877 - acc: 0.16 - ETA: 36s - loss: 4.5913 - acc: 0.16 - ETA: 36s - loss: 4.5833 - acc: 0.16 - ETA: 35s - loss: 4.5877 - acc: 0.16 - ETA: 35s - loss: 4.5848 - acc: 0.16 - ETA: 35s - loss: 4.5808 - acc: 0.16 - ETA: 35s - loss: 4.5781 - acc: 0.16 - ETA: 35s - loss: 4.5731 - acc: 0.16 - ETA: 34s - loss: 4.5755 - acc: 0.16 - ETA: 34s - loss: 4.5716 - acc: 0.16 - ETA: 34s - loss: 4.5697 - acc: 0.16 - ETA: 34s - loss: 4.5696 - acc: 0.16 - ETA: 34s - loss: 4.5708 - acc: 0.16 - ETA: 33s - loss: 4.5699 - acc: 0.16 - ETA: 33s - loss: 4.5716 - acc: 0.16 - ETA: 33s - loss: 4.5704 - acc: 0.16 - ETA: 33s - loss: 4.5733 - acc: 0.16 - ETA: 33s - loss: 4.5767 - acc: 0.16 - ETA: 33s - loss: 4.5790 - acc: 0.16 - ETA: 32s - loss: 4.5807 - acc: 0.16 - ETA: 32s - loss: 4.5803 - acc: 0.16 - ETA: 32s - loss: 4.5832 - acc: 0.16 - ETA: 32s - loss: 4.5867 - acc: 0.16 - ETA: 32s - loss: 4.5854 - acc: 0.16 - ETA: 31s - loss: 4.5830 - acc: 0.16 - ETA: 31s - loss: 4.5823 - acc: 0.16 - ETA: 31s - loss: 4.5817 - acc: 0.16 - ETA: 31s - loss: 4.5849 - acc: 0.16 - ETA: 31s - loss: 4.5884 - acc: 0.16 - ETA: 30s - loss: 4.5890 - acc: 0.16 - ETA: 30s - loss: 4.5906 - acc: 0.16 - ETA: 30s - loss: 4.5919 - acc: 0.16 - ETA: 30s - loss: 4.5965 - acc: 0.16 - ETA: 30s - loss: 4.5970 - acc: 0.16 - ETA: 29s - loss: 4.5981 - acc: 0.16 - ETA: 29s - loss: 4.5971 - acc: 0.16 - ETA: 29s - loss: 4.6003 - acc: 0.16 - ETA: 29s - loss: 4.5979 - acc: 0.16 - ETA: 29s - loss: 4.5988 - acc: 0.16 - ETA: 29s - loss: 4.5974 - acc: 0.16 - ETA: 28s - loss: 4.5967 - acc: 0.16 - ETA: 28s - loss: 4.5943 - acc: 0.16 - ETA: 28s - loss: 4.5952 - acc: 0.16 - ETA: 28s - loss: 4.5939 - acc: 0.16 - ETA: 28s - loss: 4.5952 - acc: 0.16 - ETA: 27s - loss: 4.5959 - acc: 0.16 - ETA: 27s - loss: 4.5958 - acc: 0.16 - ETA: 27s - loss: 4.5951 - acc: 0.16 - ETA: 27s - loss: 4.5942 - acc: 0.16 - ETA: 27s - loss: 4.5970 - acc: 0.16 - ETA: 26s - loss: 4.6011 - acc: 0.16 - ETA: 26s - loss: 4.6028 - acc: 0.16 - ETA: 26s - loss: 4.6013 - acc: 0.16 - ETA: 26s - loss: 4.6027 - acc: 0.16 - ETA: 26s - loss: 4.6060 - acc: 0.16 - ETA: 26s - loss: 4.6083 - acc: 0.16 - ETA: 25s - loss: 4.6104 - acc: 0.16 - ETA: 25s - loss: 4.6111 - acc: 0.16 - ETA: 25s - loss: 4.6147 - acc: 0.16 - ETA: 25s - loss: 4.6143 - acc: 0.16 - ETA: 25s - loss: 4.6140 - acc: 0.16 - ETA: 24s - loss: 4.6133 - acc: 0.16 - ETA: 24s - loss: 4.6149 - acc: 0.16 - ETA: 24s - loss: 4.6157 - acc: 0.16 - ETA: 24s - loss: 4.6148 - acc: 0.16 - ETA: 24s - loss: 4.6165 - acc: 0.16 - ETA: 23s - loss: 4.6168 - acc: 0.16 - ETA: 23s - loss: 4.6149 - acc: 0.16 - ETA: 23s - loss: 4.6144 - acc: 0.16 - ETA: 23s - loss: 4.6139 - acc: 0.16 - ETA: 23s - loss: 4.6136 - acc: 0.16 - ETA: 22s - loss: 4.6157 - acc: 0.16 - ETA: 22s - loss: 4.6164 - acc: 0.16 - ETA: 22s - loss: 4.6170 - acc: 0.16 - ETA: 22s - loss: 4.6176 - acc: 0.16 - ETA: 22s - loss: 4.6194 - acc: 0.16 - ETA: 22s - loss: 4.6176 - acc: 0.16 - ETA: 21s - loss: 4.6175 - acc: 0.16 - ETA: 21s - loss: 4.6168 - acc: 0.16 - ETA: 21s - loss: 4.6187 - acc: 0.16 - ETA: 21s - loss: 4.6160 - acc: 0.16 - ETA: 21s - loss: 4.6209 - acc: 0.16 - ETA: 20s - loss: 4.6205 - acc: 0.16 - ETA: 20s - loss: 4.6234 - acc: 0.16 - ETA: 20s - loss: 4.6239 - acc: 0.16 - ETA: 20s - loss: 4.6235 - acc: 0.16 - ETA: 20s - loss: 4.6238 - acc: 0.16 - ETA: 19s - loss: 4.6239 - acc: 0.16 - ETA: 19s - loss: 4.6223 - acc: 0.16 - ETA: 19s - loss: 4.6244 - acc: 0.16 - ETA: 19s - loss: 4.6262 - acc: 0.16 - ETA: 19s - loss: 4.6266 - acc: 0.16 - ETA: 19s - loss: 4.6267 - acc: 0.16 - ETA: 18s - loss: 4.6281 - acc: 0.16 - ETA: 18s - loss: 4.6282 - acc: 0.16 - ETA: 18s - loss: 4.6269 - acc: 0.16 - ETA: 18s - loss: 4.6305 - acc: 0.16 - ETA: 18s - loss: 4.6307 - acc: 0.16 - ETA: 17s - loss: 4.6317 - acc: 0.16 - ETA: 17s - loss: 4.6322 - acc: 0.16 - ETA: 17s - loss: 4.6325 - acc: 0.16 - ETA: 17s - loss: 4.6348 - acc: 0.15 - ETA: 17s - loss: 4.6362 - acc: 0.15 - ETA: 16s - loss: 4.6356 - acc: 0.15 - ETA: 16s - loss: 4.6374 - acc: 0.15 - ETA: 16s - loss: 4.6367 - acc: 0.15 - ETA: 16s - loss: 4.6384 - acc: 0.15 - ETA: 16s - loss: 4.6386 - acc: 0.16 - ETA: 15s - loss: 4.6383 - acc: 0.16 - ETA: 15s - loss: 4.6380 - acc: 0.16 - ETA: 15s - loss: 4.6388 - acc: 0.16 - ETA: 15s - loss: 4.6425 - acc: 0.15 - ETA: 15s - loss: 4.6415 - acc: 0.15 - ETA: 15s - loss: 4.6421 - acc: 0.15 - ETA: 14s - loss: 4.6412 - acc: 0.15 - ETA: 14s - loss: 4.6435 - acc: 0.15 - ETA: 14s - loss: 4.6429 - acc: 0.15 - ETA: 14s - loss: 4.6420 - acc: 0.16 - ETA: 14s - loss: 4.6435 - acc: 0.16 - ETA: 13s - loss: 4.6440 - acc: 0.15 - ETA: 13s - loss: 4.6459 - acc: 0.15 - ETA: 13s - loss: 4.6448 - acc: 0.15 - ETA: 13s - loss: 4.6448 - acc: 0.15 - ETA: 13s - loss: 4.6481 - acc: 0.15 - ETA: 12s - loss: 4.6484 - acc: 0.15 - ETA: 12s - loss: 4.6484 - acc: 0.15 - ETA: 12s - loss: 4.6481 - acc: 0.15 - ETA: 12s - loss: 4.6481 - acc: 0.15 - ETA: 12s - loss: 4.6497 - acc: 0.15 - ETA: 12s - loss: 4.6491 - acc: 0.16 - ETA: 11s - loss: 4.6489 - acc: 0.16 - ETA: 11s - loss: 4.6489 - acc: 0.16 - ETA: 11s - loss: 4.6486 - acc: 0.16 - ETA: 11s - loss: 4.6493 - acc: 0.16 - ETA: 11s - loss: 4.6499 - acc: 0.16 - ETA: 10s - loss: 4.6478 - acc: 0.16 - ETA: 10s - loss: 4.6488 - acc: 0.16 - ETA: 10s - loss: 4.6489 - acc: 0.16 - ETA: 10s - loss: 4.6488 - acc: 0.16 - ETA: 10s - loss: 4.6477 - acc: 0.16 - ETA: 9s - loss: 4.6492 - acc: 0.1608 - ETA: 9s - loss: 4.6505 - acc: 0.160 - ETA: 9s - loss: 4.6510 - acc: 0.160 - ETA: 9s - loss: 4.6509 - acc: 0.160 - ETA: 9s - loss: 4.6506 - acc: 0.161 - ETA: 8s - loss: 4.6507 - acc: 0.160 - ETA: 8s - loss: 4.6511 - acc: 0.160 - ETA: 8s - loss: 4.6509 - acc: 0.161 - ETA: 8s - loss: 4.6519 - acc: 0.160 - ETA: 8s - loss: 4.6532 - acc: 0.160 - ETA: 8s - loss: 4.6528 - acc: 0.160 - ETA: 7s - loss: 4.6523 - acc: 0.160 - ETA: 7s - loss: 4.6498 - acc: 0.161 - ETA: 7s - loss: 4.6500 - acc: 0.160 - ETA: 7s - loss: 4.6501 - acc: 0.160 - ETA: 7s - loss: 4.6506 - acc: 0.160 - ETA: 6s - loss: 4.6511 - acc: 0.160 - ETA: 6s - loss: 4.6502 - acc: 0.160 - ETA: 6s - loss: 4.6481 - acc: 0.160 - ETA: 6s - loss: 4.6500 - acc: 0.160 - ETA: 6s - loss: 4.6502 - acc: 0.160 - ETA: 5s - loss: 4.6507 - acc: 0.160 - ETA: 5s - loss: 4.6519 - acc: 0.159 - ETA: 5s - loss: 4.6522 - acc: 0.159 - ETA: 5s - loss: 4.6537 - acc: 0.159 - ETA: 5s - loss: 4.6536 - acc: 0.159 - ETA: 4s - loss: 4.6557 - acc: 0.159 - ETA: 4s - loss: 4.6564 - acc: 0.1591"
     ]
    },
    {
     "name": "stdout",
     "output_type": "stream",
     "text": [
      "30742/30742 [==============================] - ETA: 4s - loss: 4.6566 - acc: 0.159 - ETA: 4s - loss: 4.6562 - acc: 0.159 - ETA: 4s - loss: 4.6564 - acc: 0.159 - ETA: 4s - loss: 4.6572 - acc: 0.159 - ETA: 3s - loss: 4.6576 - acc: 0.159 - ETA: 3s - loss: 4.6568 - acc: 0.159 - ETA: 3s - loss: 4.6562 - acc: 0.159 - ETA: 3s - loss: 4.6576 - acc: 0.159 - ETA: 3s - loss: 4.6583 - acc: 0.159 - ETA: 2s - loss: 4.6590 - acc: 0.159 - ETA: 2s - loss: 4.6596 - acc: 0.159 - ETA: 2s - loss: 4.6606 - acc: 0.158 - ETA: 2s - loss: 4.6614 - acc: 0.158 - ETA: 2s - loss: 4.6609 - acc: 0.158 - ETA: 1s - loss: 4.6625 - acc: 0.158 - ETA: 1s - loss: 4.6639 - acc: 0.158 - ETA: 1s - loss: 4.6637 - acc: 0.158 - ETA: 1s - loss: 4.6640 - acc: 0.158 - ETA: 1s - loss: 4.6658 - acc: 0.158 - ETA: 0s - loss: 4.6653 - acc: 0.158 - ETA: 0s - loss: 4.6649 - acc: 0.158 - ETA: 0s - loss: 4.6637 - acc: 0.158 - ETA: 0s - loss: 4.6629 - acc: 0.158 - ETA: 0s - loss: 4.6621 - acc: 0.158 - ETA: 0s - loss: 4.6639 - acc: 0.158 - 46s 1ms/step - loss: 4.6642 - acc: 0.1584\n",
      "Epoch 22/30\n"
     ]
    },
    {
     "name": "stdout",
     "output_type": "stream",
     "text": [
      "27520/30742 [=========================>....] - ETA: 43s - loss: 4.5571 - acc: 0.14 - ETA: 44s - loss: 4.5439 - acc: 0.15 - ETA: 44s - loss: 4.5772 - acc: 0.15 - ETA: 44s - loss: 4.5373 - acc: 0.16 - ETA: 44s - loss: 4.5057 - acc: 0.17 - ETA: 43s - loss: 4.4971 - acc: 0.17 - ETA: 43s - loss: 4.5300 - acc: 0.16 - ETA: 43s - loss: 4.5175 - acc: 0.16 - ETA: 43s - loss: 4.5211 - acc: 0.16 - ETA: 43s - loss: 4.5084 - acc: 0.16 - ETA: 43s - loss: 4.5260 - acc: 0.16 - ETA: 42s - loss: 4.5445 - acc: 0.16 - ETA: 42s - loss: 4.5400 - acc: 0.15 - ETA: 42s - loss: 4.5472 - acc: 0.15 - ETA: 42s - loss: 4.5595 - acc: 0.15 - ETA: 42s - loss: 4.5612 - acc: 0.15 - ETA: 41s - loss: 4.5553 - acc: 0.15 - ETA: 41s - loss: 4.5698 - acc: 0.15 - ETA: 41s - loss: 4.5611 - acc: 0.16 - ETA: 41s - loss: 4.5664 - acc: 0.16 - ETA: 41s - loss: 4.5520 - acc: 0.16 - ETA: 41s - loss: 4.5391 - acc: 0.16 - ETA: 40s - loss: 4.5407 - acc: 0.16 - ETA: 40s - loss: 4.5246 - acc: 0.16 - ETA: 40s - loss: 4.5224 - acc: 0.16 - ETA: 40s - loss: 4.5248 - acc: 0.16 - ETA: 40s - loss: 4.5186 - acc: 0.16 - ETA: 39s - loss: 4.5177 - acc: 0.16 - ETA: 39s - loss: 4.5235 - acc: 0.16 - ETA: 39s - loss: 4.5190 - acc: 0.16 - ETA: 39s - loss: 4.5197 - acc: 0.16 - ETA: 39s - loss: 4.5246 - acc: 0.16 - ETA: 38s - loss: 4.5193 - acc: 0.16 - ETA: 38s - loss: 4.5197 - acc: 0.16 - ETA: 38s - loss: 4.5246 - acc: 0.16 - ETA: 38s - loss: 4.5353 - acc: 0.16 - ETA: 38s - loss: 4.5405 - acc: 0.16 - ETA: 38s - loss: 4.5345 - acc: 0.16 - ETA: 37s - loss: 4.5330 - acc: 0.16 - ETA: 37s - loss: 4.5285 - acc: 0.16 - ETA: 37s - loss: 4.5244 - acc: 0.16 - ETA: 37s - loss: 4.5223 - acc: 0.16 - ETA: 37s - loss: 4.5275 - acc: 0.16 - ETA: 37s - loss: 4.5283 - acc: 0.16 - ETA: 36s - loss: 4.5296 - acc: 0.16 - ETA: 36s - loss: 4.5335 - acc: 0.16 - ETA: 36s - loss: 4.5342 - acc: 0.16 - ETA: 36s - loss: 4.5279 - acc: 0.16 - ETA: 36s - loss: 4.5254 - acc: 0.16 - ETA: 36s - loss: 4.5238 - acc: 0.16 - ETA: 35s - loss: 4.5269 - acc: 0.16 - ETA: 35s - loss: 4.5325 - acc: 0.16 - ETA: 35s - loss: 4.5443 - acc: 0.16 - ETA: 35s - loss: 4.5432 - acc: 0.16 - ETA: 35s - loss: 4.5403 - acc: 0.16 - ETA: 34s - loss: 4.5377 - acc: 0.16 - ETA: 34s - loss: 4.5383 - acc: 0.16 - ETA: 34s - loss: 4.5414 - acc: 0.16 - ETA: 34s - loss: 4.5384 - acc: 0.16 - ETA: 34s - loss: 4.5359 - acc: 0.16 - ETA: 33s - loss: 4.5351 - acc: 0.16 - ETA: 33s - loss: 4.5365 - acc: 0.16 - ETA: 33s - loss: 4.5312 - acc: 0.16 - ETA: 33s - loss: 4.5266 - acc: 0.16 - ETA: 33s - loss: 4.5260 - acc: 0.16 - ETA: 33s - loss: 4.5304 - acc: 0.16 - ETA: 32s - loss: 4.5303 - acc: 0.16 - ETA: 32s - loss: 4.5292 - acc: 0.16 - ETA: 32s - loss: 4.5302 - acc: 0.16 - ETA: 32s - loss: 4.5341 - acc: 0.16 - ETA: 32s - loss: 4.5351 - acc: 0.16 - ETA: 31s - loss: 4.5299 - acc: 0.16 - ETA: 31s - loss: 4.5323 - acc: 0.16 - ETA: 31s - loss: 4.5315 - acc: 0.16 - ETA: 31s - loss: 4.5374 - acc: 0.16 - ETA: 31s - loss: 4.5375 - acc: 0.16 - ETA: 30s - loss: 4.5401 - acc: 0.16 - ETA: 30s - loss: 4.5411 - acc: 0.16 - ETA: 30s - loss: 4.5407 - acc: 0.16 - ETA: 30s - loss: 4.5410 - acc: 0.16 - ETA: 30s - loss: 4.5400 - acc: 0.16 - ETA: 30s - loss: 4.5359 - acc: 0.16 - ETA: 29s - loss: 4.5338 - acc: 0.16 - ETA: 29s - loss: 4.5340 - acc: 0.16 - ETA: 29s - loss: 4.5359 - acc: 0.16 - ETA: 29s - loss: 4.5372 - acc: 0.16 - ETA: 29s - loss: 4.5353 - acc: 0.16 - ETA: 28s - loss: 4.5339 - acc: 0.16 - ETA: 28s - loss: 4.5358 - acc: 0.16 - ETA: 28s - loss: 4.5367 - acc: 0.16 - ETA: 28s - loss: 4.5368 - acc: 0.16 - ETA: 28s - loss: 4.5347 - acc: 0.16 - ETA: 27s - loss: 4.5356 - acc: 0.16 - ETA: 27s - loss: 4.5359 - acc: 0.16 - ETA: 27s - loss: 4.5373 - acc: 0.16 - ETA: 27s - loss: 4.5378 - acc: 0.16 - ETA: 27s - loss: 4.5390 - acc: 0.16 - ETA: 26s - loss: 4.5413 - acc: 0.16 - ETA: 26s - loss: 4.5413 - acc: 0.16 - ETA: 26s - loss: 4.5453 - acc: 0.16 - ETA: 26s - loss: 4.5452 - acc: 0.16 - ETA: 26s - loss: 4.5470 - acc: 0.16 - ETA: 26s - loss: 4.5483 - acc: 0.16 - ETA: 25s - loss: 4.5485 - acc: 0.16 - ETA: 25s - loss: 4.5496 - acc: 0.16 - ETA: 25s - loss: 4.5511 - acc: 0.16 - ETA: 25s - loss: 4.5498 - acc: 0.16 - ETA: 25s - loss: 4.5541 - acc: 0.16 - ETA: 24s - loss: 4.5542 - acc: 0.16 - ETA: 24s - loss: 4.5552 - acc: 0.16 - ETA: 24s - loss: 4.5564 - acc: 0.16 - ETA: 24s - loss: 4.5574 - acc: 0.16 - ETA: 24s - loss: 4.5595 - acc: 0.16 - ETA: 23s - loss: 4.5610 - acc: 0.16 - ETA: 23s - loss: 4.5601 - acc: 0.16 - ETA: 23s - loss: 4.5606 - acc: 0.16 - ETA: 23s - loss: 4.5585 - acc: 0.16 - ETA: 23s - loss: 4.5634 - acc: 0.16 - ETA: 22s - loss: 4.5663 - acc: 0.16 - ETA: 22s - loss: 4.5683 - acc: 0.16 - ETA: 22s - loss: 4.5690 - acc: 0.16 - ETA: 22s - loss: 4.5727 - acc: 0.16 - ETA: 22s - loss: 4.5738 - acc: 0.16 - ETA: 22s - loss: 4.5737 - acc: 0.16 - ETA: 21s - loss: 4.5770 - acc: 0.16 - ETA: 21s - loss: 4.5777 - acc: 0.16 - ETA: 21s - loss: 4.5790 - acc: 0.16 - ETA: 21s - loss: 4.5785 - acc: 0.16 - ETA: 21s - loss: 4.5780 - acc: 0.16 - ETA: 20s - loss: 4.5785 - acc: 0.16 - ETA: 20s - loss: 4.5787 - acc: 0.16 - ETA: 20s - loss: 4.5778 - acc: 0.16 - ETA: 20s - loss: 4.5755 - acc: 0.16 - ETA: 20s - loss: 4.5729 - acc: 0.16 - ETA: 19s - loss: 4.5732 - acc: 0.16 - ETA: 19s - loss: 4.5723 - acc: 0.16 - ETA: 19s - loss: 4.5738 - acc: 0.16 - ETA: 19s - loss: 4.5748 - acc: 0.16 - ETA: 19s - loss: 4.5758 - acc: 0.16 - ETA: 19s - loss: 4.5773 - acc: 0.16 - ETA: 18s - loss: 4.5779 - acc: 0.16 - ETA: 18s - loss: 4.5772 - acc: 0.16 - ETA: 18s - loss: 4.5782 - acc: 0.16 - ETA: 18s - loss: 4.5806 - acc: 0.16 - ETA: 18s - loss: 4.5801 - acc: 0.16 - ETA: 17s - loss: 4.5812 - acc: 0.16 - ETA: 17s - loss: 4.5809 - acc: 0.16 - ETA: 17s - loss: 4.5832 - acc: 0.16 - ETA: 17s - loss: 4.5840 - acc: 0.16 - ETA: 17s - loss: 4.5840 - acc: 0.16 - ETA: 16s - loss: 4.5846 - acc: 0.16 - ETA: 16s - loss: 4.5862 - acc: 0.16 - ETA: 16s - loss: 4.5858 - acc: 0.16 - ETA: 16s - loss: 4.5878 - acc: 0.16 - ETA: 16s - loss: 4.5872 - acc: 0.16 - ETA: 16s - loss: 4.5857 - acc: 0.16 - ETA: 15s - loss: 4.5864 - acc: 0.16 - ETA: 15s - loss: 4.5867 - acc: 0.16 - ETA: 15s - loss: 4.5865 - acc: 0.16 - ETA: 15s - loss: 4.5867 - acc: 0.16 - ETA: 15s - loss: 4.5855 - acc: 0.16 - ETA: 14s - loss: 4.5861 - acc: 0.16 - ETA: 14s - loss: 4.5848 - acc: 0.16 - ETA: 14s - loss: 4.5857 - acc: 0.16 - ETA: 14s - loss: 4.5859 - acc: 0.16 - ETA: 14s - loss: 4.5858 - acc: 0.16 - ETA: 13s - loss: 4.5857 - acc: 0.16 - ETA: 13s - loss: 4.5873 - acc: 0.16 - ETA: 13s - loss: 4.5875 - acc: 0.16 - ETA: 13s - loss: 4.5877 - acc: 0.16 - ETA: 13s - loss: 4.5888 - acc: 0.16 - ETA: 12s - loss: 4.5898 - acc: 0.16 - ETA: 12s - loss: 4.5889 - acc: 0.16 - ETA: 12s - loss: 4.5893 - acc: 0.16 - ETA: 12s - loss: 4.5908 - acc: 0.16 - ETA: 12s - loss: 4.5894 - acc: 0.16 - ETA: 12s - loss: 4.5898 - acc: 0.16 - ETA: 11s - loss: 4.5911 - acc: 0.16 - ETA: 11s - loss: 4.5938 - acc: 0.16 - ETA: 11s - loss: 4.5948 - acc: 0.16 - ETA: 11s - loss: 4.5952 - acc: 0.16 - ETA: 11s - loss: 4.5962 - acc: 0.16 - ETA: 10s - loss: 4.5965 - acc: 0.16 - ETA: 10s - loss: 4.5953 - acc: 0.16 - ETA: 10s - loss: 4.5951 - acc: 0.16 - ETA: 10s - loss: 4.5963 - acc: 0.16 - ETA: 10s - loss: 4.5969 - acc: 0.16 - ETA: 9s - loss: 4.5960 - acc: 0.1628 - ETA: 9s - loss: 4.5965 - acc: 0.162 - ETA: 9s - loss: 4.5961 - acc: 0.162 - ETA: 9s - loss: 4.5949 - acc: 0.162 - ETA: 9s - loss: 4.5958 - acc: 0.162 - ETA: 8s - loss: 4.5972 - acc: 0.162 - ETA: 8s - loss: 4.5965 - acc: 0.162 - ETA: 8s - loss: 4.5972 - acc: 0.162 - ETA: 8s - loss: 4.5971 - acc: 0.162 - ETA: 8s - loss: 4.5987 - acc: 0.162 - ETA: 8s - loss: 4.5988 - acc: 0.162 - ETA: 7s - loss: 4.5997 - acc: 0.162 - ETA: 7s - loss: 4.5987 - acc: 0.162 - ETA: 7s - loss: 4.5984 - acc: 0.162 - ETA: 7s - loss: 4.5983 - acc: 0.162 - ETA: 7s - loss: 4.5971 - acc: 0.162 - ETA: 6s - loss: 4.5981 - acc: 0.162 - ETA: 6s - loss: 4.5986 - acc: 0.162 - ETA: 6s - loss: 4.5995 - acc: 0.162 - ETA: 6s - loss: 4.5985 - acc: 0.162 - ETA: 6s - loss: 4.5986 - acc: 0.162 - ETA: 5s - loss: 4.5983 - acc: 0.162 - ETA: 5s - loss: 4.5978 - acc: 0.162 - ETA: 5s - loss: 4.5976 - acc: 0.162 - ETA: 5s - loss: 4.5998 - acc: 0.162 - ETA: 5s - loss: 4.6004 - acc: 0.162 - ETA: 4s - loss: 4.6012 - acc: 0.162 - ETA: 4s - loss: 4.5993 - acc: 0.1629"
     ]
    },
    {
     "name": "stdout",
     "output_type": "stream",
     "text": [
      "30742/30742 [==============================] - ETA: 4s - loss: 4.6003 - acc: 0.162 - ETA: 4s - loss: 4.6014 - acc: 0.162 - ETA: 4s - loss: 4.6009 - acc: 0.162 - ETA: 4s - loss: 4.6015 - acc: 0.162 - ETA: 3s - loss: 4.6018 - acc: 0.162 - ETA: 3s - loss: 4.6023 - acc: 0.162 - ETA: 3s - loss: 4.6016 - acc: 0.163 - ETA: 3s - loss: 4.6008 - acc: 0.163 - ETA: 3s - loss: 4.6003 - acc: 0.163 - ETA: 2s - loss: 4.5999 - acc: 0.163 - ETA: 2s - loss: 4.6008 - acc: 0.163 - ETA: 2s - loss: 4.6012 - acc: 0.163 - ETA: 2s - loss: 4.6019 - acc: 0.162 - ETA: 2s - loss: 4.6022 - acc: 0.162 - ETA: 1s - loss: 4.6018 - acc: 0.162 - ETA: 1s - loss: 4.6020 - acc: 0.162 - ETA: 1s - loss: 4.6031 - acc: 0.162 - ETA: 1s - loss: 4.6017 - acc: 0.162 - ETA: 1s - loss: 4.6012 - acc: 0.162 - ETA: 0s - loss: 4.6014 - acc: 0.162 - ETA: 0s - loss: 4.6016 - acc: 0.162 - ETA: 0s - loss: 4.6019 - acc: 0.162 - ETA: 0s - loss: 4.6022 - acc: 0.162 - ETA: 0s - loss: 4.6007 - acc: 0.162 - ETA: 0s - loss: 4.6007 - acc: 0.162 - 46s 1ms/step - loss: 4.6002 - acc: 0.1630\n",
      "Epoch 23/30\n"
     ]
    },
    {
     "name": "stdout",
     "output_type": "stream",
     "text": [
      "27520/30742 [=========================>....] - ETA: 51s - loss: 4.5986 - acc: 0.15 - ETA: 52s - loss: 4.5589 - acc: 0.16 - ETA: 51s - loss: 4.6661 - acc: 0.14 - ETA: 51s - loss: 4.6850 - acc: 0.13 - ETA: 51s - loss: 4.6868 - acc: 0.13 - ETA: 51s - loss: 4.6658 - acc: 0.13 - ETA: 51s - loss: 4.6673 - acc: 0.13 - ETA: 52s - loss: 4.6189 - acc: 0.14 - ETA: 51s - loss: 4.6055 - acc: 0.14 - ETA: 51s - loss: 4.5915 - acc: 0.14 - ETA: 51s - loss: 4.5597 - acc: 0.15 - ETA: 50s - loss: 4.5730 - acc: 0.15 - ETA: 50s - loss: 4.5574 - acc: 0.15 - ETA: 49s - loss: 4.5619 - acc: 0.15 - ETA: 48s - loss: 4.5449 - acc: 0.15 - ETA: 48s - loss: 4.5695 - acc: 0.15 - ETA: 47s - loss: 4.5644 - acc: 0.15 - ETA: 47s - loss: 4.5639 - acc: 0.15 - ETA: 47s - loss: 4.5552 - acc: 0.15 - ETA: 46s - loss: 4.5319 - acc: 0.16 - ETA: 46s - loss: 4.5125 - acc: 0.16 - ETA: 46s - loss: 4.5241 - acc: 0.16 - ETA: 46s - loss: 4.5240 - acc: 0.16 - ETA: 45s - loss: 4.5295 - acc: 0.16 - ETA: 45s - loss: 4.5290 - acc: 0.16 - ETA: 45s - loss: 4.5364 - acc: 0.15 - ETA: 44s - loss: 4.5271 - acc: 0.15 - ETA: 44s - loss: 4.5163 - acc: 0.16 - ETA: 44s - loss: 4.5171 - acc: 0.16 - ETA: 44s - loss: 4.5242 - acc: 0.16 - ETA: 43s - loss: 4.5241 - acc: 0.16 - ETA: 43s - loss: 4.5257 - acc: 0.16 - ETA: 43s - loss: 4.5359 - acc: 0.16 - ETA: 43s - loss: 4.5346 - acc: 0.16 - ETA: 42s - loss: 4.5301 - acc: 0.16 - ETA: 42s - loss: 4.5268 - acc: 0.16 - ETA: 42s - loss: 4.5233 - acc: 0.16 - ETA: 42s - loss: 4.5204 - acc: 0.16 - ETA: 42s - loss: 4.5269 - acc: 0.16 - ETA: 41s - loss: 4.5347 - acc: 0.16 - ETA: 41s - loss: 4.5462 - acc: 0.15 - ETA: 41s - loss: 4.5448 - acc: 0.15 - ETA: 40s - loss: 4.5448 - acc: 0.15 - ETA: 40s - loss: 4.5404 - acc: 0.16 - ETA: 40s - loss: 4.5452 - acc: 0.15 - ETA: 40s - loss: 4.5498 - acc: 0.15 - ETA: 40s - loss: 4.5518 - acc: 0.15 - ETA: 39s - loss: 4.5519 - acc: 0.15 - ETA: 39s - loss: 4.5510 - acc: 0.15 - ETA: 39s - loss: 4.5526 - acc: 0.16 - ETA: 39s - loss: 4.5466 - acc: 0.16 - ETA: 38s - loss: 4.5411 - acc: 0.16 - ETA: 38s - loss: 4.5415 - acc: 0.16 - ETA: 38s - loss: 4.5415 - acc: 0.16 - ETA: 38s - loss: 4.5436 - acc: 0.16 - ETA: 37s - loss: 4.5446 - acc: 0.16 - ETA: 37s - loss: 4.5429 - acc: 0.16 - ETA: 37s - loss: 4.5374 - acc: 0.16 - ETA: 37s - loss: 4.5391 - acc: 0.16 - ETA: 36s - loss: 4.5427 - acc: 0.16 - ETA: 36s - loss: 4.5396 - acc: 0.16 - ETA: 36s - loss: 4.5458 - acc: 0.16 - ETA: 36s - loss: 4.5436 - acc: 0.16 - ETA: 36s - loss: 4.5435 - acc: 0.16 - ETA: 35s - loss: 4.5449 - acc: 0.16 - ETA: 35s - loss: 4.5409 - acc: 0.16 - ETA: 35s - loss: 4.5392 - acc: 0.16 - ETA: 35s - loss: 4.5402 - acc: 0.16 - ETA: 35s - loss: 4.5402 - acc: 0.16 - ETA: 34s - loss: 4.5411 - acc: 0.16 - ETA: 34s - loss: 4.5396 - acc: 0.16 - ETA: 34s - loss: 4.5368 - acc: 0.16 - ETA: 34s - loss: 4.5331 - acc: 0.16 - ETA: 33s - loss: 4.5313 - acc: 0.16 - ETA: 33s - loss: 4.5335 - acc: 0.16 - ETA: 33s - loss: 4.5312 - acc: 0.16 - ETA: 33s - loss: 4.5350 - acc: 0.16 - ETA: 33s - loss: 4.5313 - acc: 0.16 - ETA: 32s - loss: 4.5314 - acc: 0.16 - ETA: 32s - loss: 4.5339 - acc: 0.16 - ETA: 32s - loss: 4.5338 - acc: 0.16 - ETA: 32s - loss: 4.5336 - acc: 0.16 - ETA: 32s - loss: 4.5319 - acc: 0.16 - ETA: 31s - loss: 4.5320 - acc: 0.16 - ETA: 31s - loss: 4.5325 - acc: 0.16 - ETA: 31s - loss: 4.5303 - acc: 0.16 - ETA: 31s - loss: 4.5302 - acc: 0.16 - ETA: 31s - loss: 4.5301 - acc: 0.16 - ETA: 30s - loss: 4.5288 - acc: 0.16 - ETA: 30s - loss: 4.5242 - acc: 0.16 - ETA: 30s - loss: 4.5217 - acc: 0.16 - ETA: 30s - loss: 4.5207 - acc: 0.16 - ETA: 30s - loss: 4.5169 - acc: 0.16 - ETA: 29s - loss: 4.5160 - acc: 0.16 - ETA: 29s - loss: 4.5153 - acc: 0.16 - ETA: 29s - loss: 4.5165 - acc: 0.16 - ETA: 29s - loss: 4.5165 - acc: 0.16 - ETA: 28s - loss: 4.5141 - acc: 0.16 - ETA: 28s - loss: 4.5148 - acc: 0.16 - ETA: 28s - loss: 4.5125 - acc: 0.16 - ETA: 28s - loss: 4.5134 - acc: 0.16 - ETA: 28s - loss: 4.5160 - acc: 0.16 - ETA: 27s - loss: 4.5129 - acc: 0.16 - ETA: 27s - loss: 4.5129 - acc: 0.16 - ETA: 27s - loss: 4.5120 - acc: 0.16 - ETA: 27s - loss: 4.5146 - acc: 0.16 - ETA: 27s - loss: 4.5141 - acc: 0.16 - ETA: 26s - loss: 4.5118 - acc: 0.16 - ETA: 26s - loss: 4.5115 - acc: 0.16 - ETA: 26s - loss: 4.5117 - acc: 0.16 - ETA: 26s - loss: 4.5130 - acc: 0.16 - ETA: 26s - loss: 4.5120 - acc: 0.16 - ETA: 25s - loss: 4.5128 - acc: 0.16 - ETA: 25s - loss: 4.5122 - acc: 0.16 - ETA: 25s - loss: 4.5098 - acc: 0.16 - ETA: 25s - loss: 4.5102 - acc: 0.16 - ETA: 25s - loss: 4.5084 - acc: 0.16 - ETA: 24s - loss: 4.5049 - acc: 0.16 - ETA: 24s - loss: 4.5048 - acc: 0.16 - ETA: 24s - loss: 4.5061 - acc: 0.16 - ETA: 24s - loss: 4.5056 - acc: 0.16 - ETA: 24s - loss: 4.5018 - acc: 0.16 - ETA: 23s - loss: 4.5031 - acc: 0.16 - ETA: 23s - loss: 4.5050 - acc: 0.16 - ETA: 23s - loss: 4.5072 - acc: 0.16 - ETA: 23s - loss: 4.5094 - acc: 0.16 - ETA: 22s - loss: 4.5107 - acc: 0.16 - ETA: 22s - loss: 4.5095 - acc: 0.16 - ETA: 22s - loss: 4.5088 - acc: 0.16 - ETA: 22s - loss: 4.5083 - acc: 0.16 - ETA: 22s - loss: 4.5092 - acc: 0.16 - ETA: 21s - loss: 4.5089 - acc: 0.16 - ETA: 21s - loss: 4.5069 - acc: 0.16 - ETA: 21s - loss: 4.5077 - acc: 0.16 - ETA: 21s - loss: 4.5076 - acc: 0.16 - ETA: 21s - loss: 4.5097 - acc: 0.16 - ETA: 21s - loss: 4.5100 - acc: 0.16 - ETA: 20s - loss: 4.5082 - acc: 0.16 - ETA: 20s - loss: 4.5080 - acc: 0.16 - ETA: 20s - loss: 4.5096 - acc: 0.16 - ETA: 20s - loss: 4.5121 - acc: 0.16 - ETA: 20s - loss: 4.5112 - acc: 0.16 - ETA: 19s - loss: 4.5120 - acc: 0.16 - ETA: 19s - loss: 4.5123 - acc: 0.16 - ETA: 19s - loss: 4.5105 - acc: 0.16 - ETA: 19s - loss: 4.5108 - acc: 0.16 - ETA: 19s - loss: 4.5127 - acc: 0.16 - ETA: 18s - loss: 4.5112 - acc: 0.16 - ETA: 18s - loss: 4.5145 - acc: 0.16 - ETA: 18s - loss: 4.5128 - acc: 0.16 - ETA: 18s - loss: 4.5138 - acc: 0.16 - ETA: 18s - loss: 4.5142 - acc: 0.16 - ETA: 17s - loss: 4.5158 - acc: 0.16 - ETA: 17s - loss: 4.5163 - acc: 0.16 - ETA: 17s - loss: 4.5160 - acc: 0.16 - ETA: 17s - loss: 4.5157 - acc: 0.16 - ETA: 17s - loss: 4.5153 - acc: 0.16 - ETA: 16s - loss: 4.5160 - acc: 0.16 - ETA: 16s - loss: 4.5184 - acc: 0.16 - ETA: 16s - loss: 4.5185 - acc: 0.16 - ETA: 16s - loss: 4.5213 - acc: 0.16 - ETA: 16s - loss: 4.5222 - acc: 0.16 - ETA: 15s - loss: 4.5225 - acc: 0.16 - ETA: 15s - loss: 4.5234 - acc: 0.16 - ETA: 15s - loss: 4.5246 - acc: 0.16 - ETA: 15s - loss: 4.5265 - acc: 0.16 - ETA: 15s - loss: 4.5269 - acc: 0.16 - ETA: 14s - loss: 4.5276 - acc: 0.16 - ETA: 14s - loss: 4.5269 - acc: 0.16 - ETA: 14s - loss: 4.5254 - acc: 0.16 - ETA: 14s - loss: 4.5278 - acc: 0.16 - ETA: 14s - loss: 4.5274 - acc: 0.16 - ETA: 13s - loss: 4.5287 - acc: 0.16 - ETA: 13s - loss: 4.5301 - acc: 0.16 - ETA: 13s - loss: 4.5304 - acc: 0.16 - ETA: 13s - loss: 4.5313 - acc: 0.16 - ETA: 13s - loss: 4.5311 - acc: 0.16 - ETA: 12s - loss: 4.5319 - acc: 0.16 - ETA: 12s - loss: 4.5321 - acc: 0.16 - ETA: 12s - loss: 4.5331 - acc: 0.16 - ETA: 12s - loss: 4.5339 - acc: 0.16 - ETA: 12s - loss: 4.5344 - acc: 0.16 - ETA: 11s - loss: 4.5353 - acc: 0.16 - ETA: 11s - loss: 4.5352 - acc: 0.16 - ETA: 11s - loss: 4.5362 - acc: 0.16 - ETA: 11s - loss: 4.5371 - acc: 0.16 - ETA: 11s - loss: 4.5384 - acc: 0.16 - ETA: 10s - loss: 4.5397 - acc: 0.16 - ETA: 10s - loss: 4.5411 - acc: 0.16 - ETA: 10s - loss: 4.5417 - acc: 0.16 - ETA: 10s - loss: 4.5392 - acc: 0.16 - ETA: 9s - loss: 4.5390 - acc: 0.1649 - ETA: 9s - loss: 4.5385 - acc: 0.165 - ETA: 9s - loss: 4.5376 - acc: 0.165 - ETA: 9s - loss: 4.5376 - acc: 0.165 - ETA: 9s - loss: 4.5366 - acc: 0.165 - ETA: 8s - loss: 4.5364 - acc: 0.165 - ETA: 8s - loss: 4.5355 - acc: 0.165 - ETA: 8s - loss: 4.5355 - acc: 0.165 - ETA: 8s - loss: 4.5352 - acc: 0.165 - ETA: 8s - loss: 4.5355 - acc: 0.165 - ETA: 7s - loss: 4.5357 - acc: 0.165 - ETA: 7s - loss: 4.5360 - acc: 0.165 - ETA: 7s - loss: 4.5359 - acc: 0.165 - ETA: 7s - loss: 4.5377 - acc: 0.165 - ETA: 7s - loss: 4.5386 - acc: 0.165 - ETA: 6s - loss: 4.5395 - acc: 0.165 - ETA: 6s - loss: 4.5385 - acc: 0.165 - ETA: 6s - loss: 4.5387 - acc: 0.165 - ETA: 6s - loss: 4.5372 - acc: 0.165 - ETA: 6s - loss: 4.5385 - acc: 0.165 - ETA: 5s - loss: 4.5380 - acc: 0.165 - ETA: 5s - loss: 4.5378 - acc: 0.164 - ETA: 5s - loss: 4.5369 - acc: 0.164 - ETA: 5s - loss: 4.5367 - acc: 0.1650"
     ]
    },
    {
     "name": "stdout",
     "output_type": "stream",
     "text": [
      "30742/30742 [==============================] - ETA: 5s - loss: 4.5364 - acc: 0.165 - ETA: 4s - loss: 4.5362 - acc: 0.165 - ETA: 4s - loss: 4.5367 - acc: 0.165 - ETA: 4s - loss: 4.5384 - acc: 0.164 - ETA: 4s - loss: 4.5387 - acc: 0.164 - ETA: 3s - loss: 4.5396 - acc: 0.164 - ETA: 3s - loss: 4.5394 - acc: 0.164 - ETA: 3s - loss: 4.5388 - acc: 0.165 - ETA: 3s - loss: 4.5393 - acc: 0.165 - ETA: 3s - loss: 4.5388 - acc: 0.165 - ETA: 2s - loss: 4.5388 - acc: 0.165 - ETA: 2s - loss: 4.5385 - acc: 0.165 - ETA: 2s - loss: 4.5390 - acc: 0.165 - ETA: 2s - loss: 4.5384 - acc: 0.165 - ETA: 2s - loss: 4.5376 - acc: 0.165 - ETA: 1s - loss: 4.5373 - acc: 0.165 - ETA: 1s - loss: 4.5372 - acc: 0.165 - ETA: 1s - loss: 4.5384 - acc: 0.165 - ETA: 1s - loss: 4.5398 - acc: 0.165 - ETA: 1s - loss: 4.5413 - acc: 0.165 - ETA: 0s - loss: 4.5408 - acc: 0.165 - ETA: 0s - loss: 4.5415 - acc: 0.165 - ETA: 0s - loss: 4.5444 - acc: 0.164 - ETA: 0s - loss: 4.5457 - acc: 0.164 - ETA: 0s - loss: 4.5450 - acc: 0.164 - 49s 2ms/step - loss: 4.5451 - acc: 0.1648\n",
      "Epoch 24/30\n"
     ]
    },
    {
     "name": "stdout",
     "output_type": "stream",
     "text": [
      "27520/30742 [=========================>....] - ETA: 44s - loss: 4.4891 - acc: 0.15 - ETA: 45s - loss: 4.4309 - acc: 0.15 - ETA: 44s - loss: 4.3793 - acc: 0.17 - ETA: 44s - loss: 4.4027 - acc: 0.18 - ETA: 44s - loss: 4.4690 - acc: 0.17 - ETA: 43s - loss: 4.4535 - acc: 0.16 - ETA: 43s - loss: 4.4411 - acc: 0.17 - ETA: 43s - loss: 4.4211 - acc: 0.18 - ETA: 43s - loss: 4.4370 - acc: 0.17 - ETA: 43s - loss: 4.4145 - acc: 0.17 - ETA: 43s - loss: 4.4072 - acc: 0.17 - ETA: 42s - loss: 4.4232 - acc: 0.17 - ETA: 42s - loss: 4.4392 - acc: 0.17 - ETA: 42s - loss: 4.4626 - acc: 0.16 - ETA: 42s - loss: 4.4645 - acc: 0.16 - ETA: 42s - loss: 4.4548 - acc: 0.16 - ETA: 41s - loss: 4.4530 - acc: 0.17 - ETA: 41s - loss: 4.4500 - acc: 0.16 - ETA: 41s - loss: 4.4533 - acc: 0.16 - ETA: 41s - loss: 4.4369 - acc: 0.16 - ETA: 41s - loss: 4.4386 - acc: 0.16 - ETA: 41s - loss: 4.4338 - acc: 0.16 - ETA: 40s - loss: 4.4344 - acc: 0.16 - ETA: 40s - loss: 4.4263 - acc: 0.16 - ETA: 40s - loss: 4.4243 - acc: 0.17 - ETA: 40s - loss: 4.4255 - acc: 0.17 - ETA: 40s - loss: 4.4294 - acc: 0.16 - ETA: 40s - loss: 4.4229 - acc: 0.16 - ETA: 39s - loss: 4.4185 - acc: 0.16 - ETA: 39s - loss: 4.4175 - acc: 0.16 - ETA: 39s - loss: 4.4250 - acc: 0.16 - ETA: 39s - loss: 4.4246 - acc: 0.16 - ETA: 39s - loss: 4.4292 - acc: 0.16 - ETA: 38s - loss: 4.4287 - acc: 0.16 - ETA: 38s - loss: 4.4241 - acc: 0.16 - ETA: 38s - loss: 4.4215 - acc: 0.16 - ETA: 38s - loss: 4.4273 - acc: 0.16 - ETA: 38s - loss: 4.4338 - acc: 0.16 - ETA: 37s - loss: 4.4306 - acc: 0.16 - ETA: 37s - loss: 4.4316 - acc: 0.17 - ETA: 37s - loss: 4.4253 - acc: 0.17 - ETA: 37s - loss: 4.4229 - acc: 0.17 - ETA: 37s - loss: 4.4146 - acc: 0.17 - ETA: 37s - loss: 4.4161 - acc: 0.17 - ETA: 36s - loss: 4.4213 - acc: 0.17 - ETA: 36s - loss: 4.4310 - acc: 0.17 - ETA: 36s - loss: 4.4415 - acc: 0.16 - ETA: 36s - loss: 4.4376 - acc: 0.16 - ETA: 36s - loss: 4.4337 - acc: 0.17 - ETA: 35s - loss: 4.4391 - acc: 0.16 - ETA: 35s - loss: 4.4401 - acc: 0.16 - ETA: 35s - loss: 4.4373 - acc: 0.16 - ETA: 35s - loss: 4.4324 - acc: 0.17 - ETA: 35s - loss: 4.4323 - acc: 0.16 - ETA: 34s - loss: 4.4320 - acc: 0.16 - ETA: 34s - loss: 4.4307 - acc: 0.16 - ETA: 34s - loss: 4.4304 - acc: 0.16 - ETA: 34s - loss: 4.4304 - acc: 0.16 - ETA: 34s - loss: 4.4259 - acc: 0.17 - ETA: 34s - loss: 4.4224 - acc: 0.17 - ETA: 33s - loss: 4.4260 - acc: 0.17 - ETA: 33s - loss: 4.4279 - acc: 0.17 - ETA: 33s - loss: 4.4291 - acc: 0.17 - ETA: 33s - loss: 4.4335 - acc: 0.17 - ETA: 33s - loss: 4.4371 - acc: 0.17 - ETA: 32s - loss: 4.4430 - acc: 0.16 - ETA: 32s - loss: 4.4406 - acc: 0.16 - ETA: 32s - loss: 4.4412 - acc: 0.16 - ETA: 32s - loss: 4.4392 - acc: 0.16 - ETA: 32s - loss: 4.4377 - acc: 0.17 - ETA: 32s - loss: 4.4400 - acc: 0.17 - ETA: 31s - loss: 4.4417 - acc: 0.17 - ETA: 31s - loss: 4.4415 - acc: 0.17 - ETA: 31s - loss: 4.4419 - acc: 0.17 - ETA: 31s - loss: 4.4449 - acc: 0.17 - ETA: 31s - loss: 4.4441 - acc: 0.17 - ETA: 30s - loss: 4.4459 - acc: 0.16 - ETA: 30s - loss: 4.4495 - acc: 0.16 - ETA: 30s - loss: 4.4542 - acc: 0.16 - ETA: 30s - loss: 4.4581 - acc: 0.16 - ETA: 30s - loss: 4.4583 - acc: 0.16 - ETA: 29s - loss: 4.4619 - acc: 0.16 - ETA: 29s - loss: 4.4630 - acc: 0.16 - ETA: 29s - loss: 4.4639 - acc: 0.16 - ETA: 29s - loss: 4.4613 - acc: 0.16 - ETA: 29s - loss: 4.4575 - acc: 0.16 - ETA: 28s - loss: 4.4580 - acc: 0.16 - ETA: 28s - loss: 4.4566 - acc: 0.16 - ETA: 28s - loss: 4.4590 - acc: 0.16 - ETA: 28s - loss: 4.4597 - acc: 0.16 - ETA: 28s - loss: 4.4619 - acc: 0.16 - ETA: 28s - loss: 4.4642 - acc: 0.16 - ETA: 27s - loss: 4.4643 - acc: 0.16 - ETA: 27s - loss: 4.4675 - acc: 0.16 - ETA: 27s - loss: 4.4670 - acc: 0.16 - ETA: 27s - loss: 4.4692 - acc: 0.16 - ETA: 27s - loss: 4.4705 - acc: 0.16 - ETA: 26s - loss: 4.4717 - acc: 0.16 - ETA: 26s - loss: 4.4730 - acc: 0.16 - ETA: 26s - loss: 4.4710 - acc: 0.16 - ETA: 26s - loss: 4.4704 - acc: 0.16 - ETA: 26s - loss: 4.4717 - acc: 0.16 - ETA: 25s - loss: 4.4715 - acc: 0.16 - ETA: 25s - loss: 4.4747 - acc: 0.16 - ETA: 25s - loss: 4.4770 - acc: 0.16 - ETA: 25s - loss: 4.4772 - acc: 0.16 - ETA: 25s - loss: 4.4775 - acc: 0.16 - ETA: 25s - loss: 4.4776 - acc: 0.16 - ETA: 24s - loss: 4.4766 - acc: 0.16 - ETA: 24s - loss: 4.4754 - acc: 0.16 - ETA: 24s - loss: 4.4753 - acc: 0.16 - ETA: 24s - loss: 4.4769 - acc: 0.16 - ETA: 24s - loss: 4.4755 - acc: 0.16 - ETA: 23s - loss: 4.4741 - acc: 0.16 - ETA: 23s - loss: 4.4742 - acc: 0.16 - ETA: 23s - loss: 4.4743 - acc: 0.16 - ETA: 23s - loss: 4.4767 - acc: 0.16 - ETA: 23s - loss: 4.4787 - acc: 0.16 - ETA: 22s - loss: 4.4810 - acc: 0.16 - ETA: 22s - loss: 4.4833 - acc: 0.16 - ETA: 22s - loss: 4.4816 - acc: 0.16 - ETA: 22s - loss: 4.4811 - acc: 0.16 - ETA: 22s - loss: 4.4795 - acc: 0.16 - ETA: 22s - loss: 4.4803 - acc: 0.16 - ETA: 21s - loss: 4.4823 - acc: 0.16 - ETA: 21s - loss: 4.4832 - acc: 0.16 - ETA: 21s - loss: 4.4834 - acc: 0.16 - ETA: 21s - loss: 4.4851 - acc: 0.16 - ETA: 21s - loss: 4.4854 - acc: 0.16 - ETA: 20s - loss: 4.4848 - acc: 0.16 - ETA: 20s - loss: 4.4857 - acc: 0.16 - ETA: 20s - loss: 4.4853 - acc: 0.16 - ETA: 20s - loss: 4.4870 - acc: 0.16 - ETA: 20s - loss: 4.4855 - acc: 0.16 - ETA: 19s - loss: 4.4850 - acc: 0.16 - ETA: 19s - loss: 4.4835 - acc: 0.16 - ETA: 19s - loss: 4.4827 - acc: 0.16 - ETA: 19s - loss: 4.4829 - acc: 0.16 - ETA: 19s - loss: 4.4847 - acc: 0.16 - ETA: 19s - loss: 4.4861 - acc: 0.16 - ETA: 18s - loss: 4.4880 - acc: 0.16 - ETA: 18s - loss: 4.4860 - acc: 0.16 - ETA: 18s - loss: 4.4865 - acc: 0.16 - ETA: 18s - loss: 4.4848 - acc: 0.16 - ETA: 18s - loss: 4.4824 - acc: 0.16 - ETA: 17s - loss: 4.4815 - acc: 0.16 - ETA: 17s - loss: 4.4784 - acc: 0.16 - ETA: 17s - loss: 4.4782 - acc: 0.16 - ETA: 17s - loss: 4.4778 - acc: 0.16 - ETA: 17s - loss: 4.4776 - acc: 0.16 - ETA: 16s - loss: 4.4762 - acc: 0.16 - ETA: 16s - loss: 4.4753 - acc: 0.16 - ETA: 16s - loss: 4.4749 - acc: 0.16 - ETA: 16s - loss: 4.4746 - acc: 0.16 - ETA: 16s - loss: 4.4748 - acc: 0.16 - ETA: 15s - loss: 4.4736 - acc: 0.16 - ETA: 15s - loss: 4.4728 - acc: 0.16 - ETA: 15s - loss: 4.4716 - acc: 0.16 - ETA: 15s - loss: 4.4729 - acc: 0.16 - ETA: 15s - loss: 4.4726 - acc: 0.16 - ETA: 15s - loss: 4.4716 - acc: 0.16 - ETA: 14s - loss: 4.4728 - acc: 0.16 - ETA: 14s - loss: 4.4719 - acc: 0.16 - ETA: 14s - loss: 4.4708 - acc: 0.16 - ETA: 14s - loss: 4.4703 - acc: 0.16 - ETA: 14s - loss: 4.4698 - acc: 0.16 - ETA: 13s - loss: 4.4703 - acc: 0.16 - ETA: 13s - loss: 4.4695 - acc: 0.16 - ETA: 13s - loss: 4.4682 - acc: 0.16 - ETA: 13s - loss: 4.4689 - acc: 0.16 - ETA: 13s - loss: 4.4681 - acc: 0.16 - ETA: 12s - loss: 4.4667 - acc: 0.16 - ETA: 12s - loss: 4.4674 - acc: 0.16 - ETA: 12s - loss: 4.4675 - acc: 0.16 - ETA: 12s - loss: 4.4692 - acc: 0.16 - ETA: 12s - loss: 4.4715 - acc: 0.16 - ETA: 12s - loss: 4.4717 - acc: 0.16 - ETA: 11s - loss: 4.4741 - acc: 0.16 - ETA: 11s - loss: 4.4735 - acc: 0.16 - ETA: 11s - loss: 4.4721 - acc: 0.16 - ETA: 11s - loss: 4.4720 - acc: 0.16 - ETA: 11s - loss: 4.4725 - acc: 0.16 - ETA: 10s - loss: 4.4745 - acc: 0.16 - ETA: 10s - loss: 4.4760 - acc: 0.16 - ETA: 10s - loss: 4.4773 - acc: 0.16 - ETA: 10s - loss: 4.4775 - acc: 0.16 - ETA: 10s - loss: 4.4783 - acc: 0.16 - ETA: 9s - loss: 4.4784 - acc: 0.1671 - ETA: 9s - loss: 4.4780 - acc: 0.167 - ETA: 9s - loss: 4.4774 - acc: 0.167 - ETA: 9s - loss: 4.4790 - acc: 0.167 - ETA: 9s - loss: 4.4793 - acc: 0.167 - ETA: 8s - loss: 4.4805 - acc: 0.167 - ETA: 8s - loss: 4.4800 - acc: 0.167 - ETA: 8s - loss: 4.4811 - acc: 0.166 - ETA: 8s - loss: 4.4800 - acc: 0.167 - ETA: 8s - loss: 4.4793 - acc: 0.167 - ETA: 8s - loss: 4.4788 - acc: 0.167 - ETA: 7s - loss: 4.4796 - acc: 0.167 - ETA: 7s - loss: 4.4801 - acc: 0.167 - ETA: 7s - loss: 4.4824 - acc: 0.166 - ETA: 7s - loss: 4.4818 - acc: 0.166 - ETA: 7s - loss: 4.4824 - acc: 0.166 - ETA: 6s - loss: 4.4832 - acc: 0.166 - ETA: 6s - loss: 4.4807 - acc: 0.167 - ETA: 6s - loss: 4.4819 - acc: 0.167 - ETA: 6s - loss: 4.4821 - acc: 0.167 - ETA: 6s - loss: 4.4832 - acc: 0.167 - ETA: 5s - loss: 4.4831 - acc: 0.167 - ETA: 5s - loss: 4.4839 - acc: 0.167 - ETA: 5s - loss: 4.4858 - acc: 0.166 - ETA: 5s - loss: 4.4860 - acc: 0.166 - ETA: 5s - loss: 4.4865 - acc: 0.167 - ETA: 4s - loss: 4.4880 - acc: 0.166 - ETA: 4s - loss: 4.4875 - acc: 0.1669"
     ]
    },
    {
     "name": "stdout",
     "output_type": "stream",
     "text": [
      "30742/30742 [==============================] - ETA: 4s - loss: 4.4866 - acc: 0.167 - ETA: 4s - loss: 4.4860 - acc: 0.167 - ETA: 4s - loss: 4.4855 - acc: 0.167 - ETA: 4s - loss: 4.4860 - acc: 0.167 - ETA: 3s - loss: 4.4866 - acc: 0.167 - ETA: 3s - loss: 4.4860 - acc: 0.167 - ETA: 3s - loss: 4.4848 - acc: 0.167 - ETA: 3s - loss: 4.4850 - acc: 0.167 - ETA: 3s - loss: 4.4856 - acc: 0.167 - ETA: 2s - loss: 4.4860 - acc: 0.167 - ETA: 2s - loss: 4.4870 - acc: 0.167 - ETA: 2s - loss: 4.4874 - acc: 0.167 - ETA: 2s - loss: 4.4871 - acc: 0.167 - ETA: 2s - loss: 4.4887 - acc: 0.167 - ETA: 1s - loss: 4.4886 - acc: 0.167 - ETA: 1s - loss: 4.4876 - acc: 0.167 - ETA: 1s - loss: 4.4873 - acc: 0.167 - ETA: 1s - loss: 4.4888 - acc: 0.167 - ETA: 1s - loss: 4.4896 - acc: 0.167 - ETA: 0s - loss: 4.4894 - acc: 0.167 - ETA: 0s - loss: 4.4898 - acc: 0.167 - ETA: 0s - loss: 4.4895 - acc: 0.167 - ETA: 0s - loss: 4.4906 - acc: 0.167 - ETA: 0s - loss: 4.4920 - acc: 0.167 - ETA: 0s - loss: 4.4930 - acc: 0.166 - 46s 1ms/step - loss: 4.4929 - acc: 0.1669\n",
      "Epoch 25/30\n"
     ]
    },
    {
     "name": "stdout",
     "output_type": "stream",
     "text": [
      "27520/30742 [=========================>....] - ETA: 44s - loss: 4.0371 - acc: 0.19 - ETA: 45s - loss: 4.1472 - acc: 0.18 - ETA: 44s - loss: 4.1994 - acc: 0.17 - ETA: 44s - loss: 4.1953 - acc: 0.19 - ETA: 44s - loss: 4.1895 - acc: 0.19 - ETA: 43s - loss: 4.1962 - acc: 0.19 - ETA: 43s - loss: 4.2534 - acc: 0.18 - ETA: 43s - loss: 4.2373 - acc: 0.18 - ETA: 43s - loss: 4.3030 - acc: 0.17 - ETA: 43s - loss: 4.3081 - acc: 0.17 - ETA: 42s - loss: 4.3024 - acc: 0.17 - ETA: 42s - loss: 4.3201 - acc: 0.17 - ETA: 42s - loss: 4.3493 - acc: 0.17 - ETA: 42s - loss: 4.3279 - acc: 0.17 - ETA: 42s - loss: 4.3355 - acc: 0.17 - ETA: 42s - loss: 4.3476 - acc: 0.17 - ETA: 42s - loss: 4.3615 - acc: 0.17 - ETA: 41s - loss: 4.3570 - acc: 0.17 - ETA: 41s - loss: 4.3558 - acc: 0.17 - ETA: 41s - loss: 4.3506 - acc: 0.17 - ETA: 41s - loss: 4.3477 - acc: 0.17 - ETA: 41s - loss: 4.3297 - acc: 0.17 - ETA: 40s - loss: 4.3273 - acc: 0.17 - ETA: 40s - loss: 4.3262 - acc: 0.17 - ETA: 41s - loss: 4.3266 - acc: 0.17 - ETA: 41s - loss: 4.3276 - acc: 0.17 - ETA: 40s - loss: 4.3352 - acc: 0.17 - ETA: 40s - loss: 4.3333 - acc: 0.17 - ETA: 40s - loss: 4.3261 - acc: 0.17 - ETA: 40s - loss: 4.3252 - acc: 0.17 - ETA: 40s - loss: 4.3274 - acc: 0.17 - ETA: 40s - loss: 4.3238 - acc: 0.17 - ETA: 39s - loss: 4.3164 - acc: 0.17 - ETA: 39s - loss: 4.3111 - acc: 0.17 - ETA: 39s - loss: 4.3054 - acc: 0.17 - ETA: 39s - loss: 4.3004 - acc: 0.17 - ETA: 39s - loss: 4.2995 - acc: 0.17 - ETA: 38s - loss: 4.3005 - acc: 0.17 - ETA: 38s - loss: 4.3049 - acc: 0.17 - ETA: 38s - loss: 4.3050 - acc: 0.17 - ETA: 38s - loss: 4.3129 - acc: 0.17 - ETA: 38s - loss: 4.3134 - acc: 0.17 - ETA: 37s - loss: 4.3119 - acc: 0.17 - ETA: 37s - loss: 4.3133 - acc: 0.17 - ETA: 37s - loss: 4.3134 - acc: 0.17 - ETA: 37s - loss: 4.3117 - acc: 0.17 - ETA: 37s - loss: 4.3167 - acc: 0.17 - ETA: 36s - loss: 4.3205 - acc: 0.17 - ETA: 36s - loss: 4.3242 - acc: 0.17 - ETA: 36s - loss: 4.3241 - acc: 0.17 - ETA: 36s - loss: 4.3281 - acc: 0.17 - ETA: 36s - loss: 4.3321 - acc: 0.17 - ETA: 35s - loss: 4.3335 - acc: 0.17 - ETA: 35s - loss: 4.3330 - acc: 0.17 - ETA: 35s - loss: 4.3329 - acc: 0.17 - ETA: 35s - loss: 4.3274 - acc: 0.17 - ETA: 35s - loss: 4.3273 - acc: 0.17 - ETA: 35s - loss: 4.3333 - acc: 0.17 - ETA: 34s - loss: 4.3346 - acc: 0.17 - ETA: 34s - loss: 4.3331 - acc: 0.17 - ETA: 34s - loss: 4.3360 - acc: 0.17 - ETA: 34s - loss: 4.3417 - acc: 0.17 - ETA: 34s - loss: 4.3441 - acc: 0.17 - ETA: 33s - loss: 4.3447 - acc: 0.17 - ETA: 33s - loss: 4.3484 - acc: 0.17 - ETA: 33s - loss: 4.3503 - acc: 0.17 - ETA: 33s - loss: 4.3558 - acc: 0.17 - ETA: 33s - loss: 4.3567 - acc: 0.17 - ETA: 32s - loss: 4.3607 - acc: 0.17 - ETA: 32s - loss: 4.3598 - acc: 0.17 - ETA: 32s - loss: 4.3587 - acc: 0.17 - ETA: 32s - loss: 4.3602 - acc: 0.17 - ETA: 32s - loss: 4.3631 - acc: 0.17 - ETA: 31s - loss: 4.3640 - acc: 0.17 - ETA: 31s - loss: 4.3609 - acc: 0.17 - ETA: 31s - loss: 4.3605 - acc: 0.17 - ETA: 31s - loss: 4.3670 - acc: 0.17 - ETA: 31s - loss: 4.3683 - acc: 0.17 - ETA: 30s - loss: 4.3688 - acc: 0.17 - ETA: 30s - loss: 4.3676 - acc: 0.17 - ETA: 30s - loss: 4.3662 - acc: 0.17 - ETA: 30s - loss: 4.3670 - acc: 0.17 - ETA: 30s - loss: 4.3677 - acc: 0.17 - ETA: 29s - loss: 4.3689 - acc: 0.17 - ETA: 29s - loss: 4.3715 - acc: 0.17 - ETA: 29s - loss: 4.3717 - acc: 0.17 - ETA: 29s - loss: 4.3717 - acc: 0.17 - ETA: 29s - loss: 4.3736 - acc: 0.17 - ETA: 28s - loss: 4.3735 - acc: 0.17 - ETA: 28s - loss: 4.3731 - acc: 0.17 - ETA: 28s - loss: 4.3730 - acc: 0.17 - ETA: 28s - loss: 4.3732 - acc: 0.17 - ETA: 28s - loss: 4.3760 - acc: 0.16 - ETA: 28s - loss: 4.3764 - acc: 0.16 - ETA: 27s - loss: 4.3738 - acc: 0.16 - ETA: 27s - loss: 4.3757 - acc: 0.16 - ETA: 27s - loss: 4.3778 - acc: 0.16 - ETA: 27s - loss: 4.3782 - acc: 0.16 - ETA: 27s - loss: 4.3805 - acc: 0.16 - ETA: 26s - loss: 4.3800 - acc: 0.16 - ETA: 26s - loss: 4.3797 - acc: 0.16 - ETA: 26s - loss: 4.3799 - acc: 0.16 - ETA: 26s - loss: 4.3806 - acc: 0.16 - ETA: 26s - loss: 4.3799 - acc: 0.16 - ETA: 25s - loss: 4.3806 - acc: 0.16 - ETA: 25s - loss: 4.3808 - acc: 0.16 - ETA: 25s - loss: 4.3836 - acc: 0.16 - ETA: 25s - loss: 4.3804 - acc: 0.16 - ETA: 25s - loss: 4.3791 - acc: 0.16 - ETA: 24s - loss: 4.3799 - acc: 0.16 - ETA: 24s - loss: 4.3795 - acc: 0.16 - ETA: 24s - loss: 4.3812 - acc: 0.16 - ETA: 24s - loss: 4.3798 - acc: 0.16 - ETA: 24s - loss: 4.3799 - acc: 0.16 - ETA: 23s - loss: 4.3803 - acc: 0.16 - ETA: 23s - loss: 4.3821 - acc: 0.16 - ETA: 23s - loss: 4.3825 - acc: 0.16 - ETA: 23s - loss: 4.3835 - acc: 0.16 - ETA: 23s - loss: 4.3834 - acc: 0.16 - ETA: 22s - loss: 4.3833 - acc: 0.16 - ETA: 22s - loss: 4.3814 - acc: 0.16 - ETA: 22s - loss: 4.3835 - acc: 0.16 - ETA: 22s - loss: 4.3862 - acc: 0.16 - ETA: 22s - loss: 4.3853 - acc: 0.16 - ETA: 22s - loss: 4.3870 - acc: 0.16 - ETA: 21s - loss: 4.3874 - acc: 0.16 - ETA: 21s - loss: 4.3877 - acc: 0.16 - ETA: 21s - loss: 4.3879 - acc: 0.16 - ETA: 21s - loss: 4.3875 - acc: 0.16 - ETA: 21s - loss: 4.3896 - acc: 0.16 - ETA: 20s - loss: 4.3901 - acc: 0.16 - ETA: 20s - loss: 4.3925 - acc: 0.16 - ETA: 20s - loss: 4.3946 - acc: 0.16 - ETA: 20s - loss: 4.3950 - acc: 0.16 - ETA: 20s - loss: 4.3941 - acc: 0.16 - ETA: 19s - loss: 4.3951 - acc: 0.16 - ETA: 19s - loss: 4.3954 - acc: 0.16 - ETA: 19s - loss: 4.3981 - acc: 0.16 - ETA: 19s - loss: 4.3980 - acc: 0.16 - ETA: 19s - loss: 4.3981 - acc: 0.16 - ETA: 18s - loss: 4.3994 - acc: 0.16 - ETA: 18s - loss: 4.3985 - acc: 0.16 - ETA: 18s - loss: 4.3987 - acc: 0.16 - ETA: 18s - loss: 4.3983 - acc: 0.16 - ETA: 18s - loss: 4.3980 - acc: 0.16 - ETA: 18s - loss: 4.3970 - acc: 0.16 - ETA: 17s - loss: 4.3972 - acc: 0.16 - ETA: 17s - loss: 4.3979 - acc: 0.16 - ETA: 17s - loss: 4.3984 - acc: 0.16 - ETA: 17s - loss: 4.3998 - acc: 0.16 - ETA: 17s - loss: 4.3988 - acc: 0.16 - ETA: 16s - loss: 4.3972 - acc: 0.16 - ETA: 16s - loss: 4.3964 - acc: 0.16 - ETA: 16s - loss: 4.3946 - acc: 0.16 - ETA: 16s - loss: 4.3939 - acc: 0.16 - ETA: 16s - loss: 4.3959 - acc: 0.16 - ETA: 15s - loss: 4.3976 - acc: 0.16 - ETA: 15s - loss: 4.3961 - acc: 0.16 - ETA: 15s - loss: 4.3957 - acc: 0.16 - ETA: 15s - loss: 4.3981 - acc: 0.16 - ETA: 15s - loss: 4.3993 - acc: 0.16 - ETA: 14s - loss: 4.4005 - acc: 0.16 - ETA: 14s - loss: 4.4008 - acc: 0.16 - ETA: 14s - loss: 4.4027 - acc: 0.16 - ETA: 14s - loss: 4.4019 - acc: 0.16 - ETA: 14s - loss: 4.4039 - acc: 0.16 - ETA: 13s - loss: 4.4030 - acc: 0.16 - ETA: 13s - loss: 4.4050 - acc: 0.16 - ETA: 13s - loss: 4.4051 - acc: 0.16 - ETA: 13s - loss: 4.4041 - acc: 0.16 - ETA: 13s - loss: 4.4034 - acc: 0.16 - ETA: 13s - loss: 4.4046 - acc: 0.16 - ETA: 12s - loss: 4.4072 - acc: 0.16 - ETA: 12s - loss: 4.4068 - acc: 0.16 - ETA: 12s - loss: 4.4066 - acc: 0.16 - ETA: 12s - loss: 4.4066 - acc: 0.16 - ETA: 12s - loss: 4.4084 - acc: 0.16 - ETA: 11s - loss: 4.4117 - acc: 0.16 - ETA: 11s - loss: 4.4114 - acc: 0.16 - ETA: 11s - loss: 4.4109 - acc: 0.16 - ETA: 11s - loss: 4.4130 - acc: 0.16 - ETA: 11s - loss: 4.4143 - acc: 0.16 - ETA: 10s - loss: 4.4154 - acc: 0.16 - ETA: 10s - loss: 4.4169 - acc: 0.16 - ETA: 10s - loss: 4.4170 - acc: 0.16 - ETA: 10s - loss: 4.4178 - acc: 0.16 - ETA: 10s - loss: 4.4174 - acc: 0.16 - ETA: 9s - loss: 4.4178 - acc: 0.1686 - ETA: 9s - loss: 4.4194 - acc: 0.168 - ETA: 9s - loss: 4.4181 - acc: 0.168 - ETA: 9s - loss: 4.4208 - acc: 0.168 - ETA: 9s - loss: 4.4203 - acc: 0.168 - ETA: 9s - loss: 4.4214 - acc: 0.168 - ETA: 8s - loss: 4.4210 - acc: 0.168 - ETA: 8s - loss: 4.4208 - acc: 0.168 - ETA: 8s - loss: 4.4214 - acc: 0.168 - ETA: 8s - loss: 4.4217 - acc: 0.168 - ETA: 8s - loss: 4.4209 - acc: 0.168 - ETA: 7s - loss: 4.4205 - acc: 0.168 - ETA: 7s - loss: 4.4219 - acc: 0.168 - ETA: 7s - loss: 4.4229 - acc: 0.168 - ETA: 7s - loss: 4.4233 - acc: 0.168 - ETA: 7s - loss: 4.4228 - acc: 0.168 - ETA: 6s - loss: 4.4222 - acc: 0.168 - ETA: 6s - loss: 4.4228 - acc: 0.168 - ETA: 6s - loss: 4.4228 - acc: 0.169 - ETA: 6s - loss: 4.4236 - acc: 0.169 - ETA: 6s - loss: 4.4230 - acc: 0.168 - ETA: 5s - loss: 4.4233 - acc: 0.168 - ETA: 5s - loss: 4.4233 - acc: 0.169 - ETA: 5s - loss: 4.4230 - acc: 0.169 - ETA: 5s - loss: 4.4245 - acc: 0.168 - ETA: 5s - loss: 4.4256 - acc: 0.168 - ETA: 5s - loss: 4.4274 - acc: 0.168 - ETA: 4s - loss: 4.4267 - acc: 0.1688"
     ]
    },
    {
     "name": "stdout",
     "output_type": "stream",
     "text": [
      "30742/30742 [==============================] - ETA: 4s - loss: 4.4266 - acc: 0.168 - ETA: 4s - loss: 4.4275 - acc: 0.168 - ETA: 4s - loss: 4.4286 - acc: 0.168 - ETA: 4s - loss: 4.4285 - acc: 0.168 - ETA: 3s - loss: 4.4280 - acc: 0.168 - ETA: 3s - loss: 4.4303 - acc: 0.168 - ETA: 3s - loss: 4.4295 - acc: 0.168 - ETA: 3s - loss: 4.4296 - acc: 0.169 - ETA: 3s - loss: 4.4298 - acc: 0.168 - ETA: 2s - loss: 4.4293 - acc: 0.169 - ETA: 2s - loss: 4.4304 - acc: 0.168 - ETA: 2s - loss: 4.4308 - acc: 0.168 - ETA: 2s - loss: 4.4306 - acc: 0.168 - ETA: 2s - loss: 4.4301 - acc: 0.168 - ETA: 1s - loss: 4.4308 - acc: 0.168 - ETA: 1s - loss: 4.4303 - acc: 0.168 - ETA: 1s - loss: 4.4321 - acc: 0.168 - ETA: 1s - loss: 4.4333 - acc: 0.168 - ETA: 1s - loss: 4.4338 - acc: 0.168 - ETA: 0s - loss: 4.4355 - acc: 0.168 - ETA: 0s - loss: 4.4361 - acc: 0.168 - ETA: 0s - loss: 4.4347 - acc: 0.168 - ETA: 0s - loss: 4.4365 - acc: 0.168 - ETA: 0s - loss: 4.4364 - acc: 0.168 - ETA: 0s - loss: 4.4370 - acc: 0.167 - 46s 1ms/step - loss: 4.4373 - acc: 0.1679\n",
      "Epoch 26/30\n"
     ]
    },
    {
     "name": "stdout",
     "output_type": "stream",
     "text": [
      "27520/30742 [=========================>....] - ETA: 44s - loss: 4.3941 - acc: 0.18 - ETA: 44s - loss: 4.2287 - acc: 0.20 - ETA: 44s - loss: 4.3199 - acc: 0.19 - ETA: 44s - loss: 4.3053 - acc: 0.19 - ETA: 43s - loss: 4.2665 - acc: 0.18 - ETA: 44s - loss: 4.2534 - acc: 0.18 - ETA: 43s - loss: 4.2503 - acc: 0.18 - ETA: 43s - loss: 4.2616 - acc: 0.18 - ETA: 43s - loss: 4.2616 - acc: 0.18 - ETA: 43s - loss: 4.2730 - acc: 0.18 - ETA: 43s - loss: 4.2831 - acc: 0.18 - ETA: 43s - loss: 4.3009 - acc: 0.18 - ETA: 43s - loss: 4.2741 - acc: 0.18 - ETA: 43s - loss: 4.2724 - acc: 0.18 - ETA: 42s - loss: 4.2695 - acc: 0.18 - ETA: 42s - loss: 4.2906 - acc: 0.17 - ETA: 42s - loss: 4.3052 - acc: 0.17 - ETA: 42s - loss: 4.3001 - acc: 0.17 - ETA: 42s - loss: 4.3077 - acc: 0.17 - ETA: 41s - loss: 4.2859 - acc: 0.18 - ETA: 41s - loss: 4.2843 - acc: 0.18 - ETA: 41s - loss: 4.2843 - acc: 0.17 - ETA: 41s - loss: 4.2903 - acc: 0.17 - ETA: 41s - loss: 4.2882 - acc: 0.17 - ETA: 40s - loss: 4.2883 - acc: 0.17 - ETA: 40s - loss: 4.2932 - acc: 0.17 - ETA: 40s - loss: 4.2959 - acc: 0.17 - ETA: 40s - loss: 4.2846 - acc: 0.17 - ETA: 40s - loss: 4.2887 - acc: 0.17 - ETA: 39s - loss: 4.2914 - acc: 0.17 - ETA: 39s - loss: 4.2887 - acc: 0.17 - ETA: 39s - loss: 4.3040 - acc: 0.17 - ETA: 39s - loss: 4.3073 - acc: 0.17 - ETA: 39s - loss: 4.3039 - acc: 0.17 - ETA: 39s - loss: 4.3061 - acc: 0.17 - ETA: 39s - loss: 4.3084 - acc: 0.17 - ETA: 39s - loss: 4.3074 - acc: 0.17 - ETA: 39s - loss: 4.3195 - acc: 0.17 - ETA: 39s - loss: 4.3153 - acc: 0.17 - ETA: 38s - loss: 4.3172 - acc: 0.17 - ETA: 38s - loss: 4.3218 - acc: 0.17 - ETA: 38s - loss: 4.3208 - acc: 0.17 - ETA: 38s - loss: 4.3172 - acc: 0.17 - ETA: 37s - loss: 4.3211 - acc: 0.17 - ETA: 37s - loss: 4.3130 - acc: 0.17 - ETA: 37s - loss: 4.3121 - acc: 0.17 - ETA: 37s - loss: 4.3150 - acc: 0.17 - ETA: 37s - loss: 4.3087 - acc: 0.17 - ETA: 36s - loss: 4.3119 - acc: 0.17 - ETA: 36s - loss: 4.3171 - acc: 0.17 - ETA: 36s - loss: 4.3165 - acc: 0.17 - ETA: 36s - loss: 4.3176 - acc: 0.17 - ETA: 36s - loss: 4.3141 - acc: 0.17 - ETA: 35s - loss: 4.3178 - acc: 0.17 - ETA: 35s - loss: 4.3224 - acc: 0.17 - ETA: 35s - loss: 4.3245 - acc: 0.17 - ETA: 35s - loss: 4.3250 - acc: 0.17 - ETA: 35s - loss: 4.3229 - acc: 0.17 - ETA: 34s - loss: 4.3193 - acc: 0.17 - ETA: 34s - loss: 4.3255 - acc: 0.17 - ETA: 34s - loss: 4.3251 - acc: 0.17 - ETA: 34s - loss: 4.3262 - acc: 0.17 - ETA: 34s - loss: 4.3252 - acc: 0.17 - ETA: 33s - loss: 4.3209 - acc: 0.17 - ETA: 33s - loss: 4.3234 - acc: 0.17 - ETA: 33s - loss: 4.3215 - acc: 0.17 - ETA: 33s - loss: 4.3216 - acc: 0.17 - ETA: 33s - loss: 4.3174 - acc: 0.17 - ETA: 32s - loss: 4.3127 - acc: 0.17 - ETA: 32s - loss: 4.3121 - acc: 0.17 - ETA: 32s - loss: 4.3151 - acc: 0.17 - ETA: 32s - loss: 4.3141 - acc: 0.17 - ETA: 32s - loss: 4.3149 - acc: 0.17 - ETA: 32s - loss: 4.3142 - acc: 0.17 - ETA: 32s - loss: 4.3174 - acc: 0.17 - ETA: 31s - loss: 4.3150 - acc: 0.17 - ETA: 31s - loss: 4.3135 - acc: 0.17 - ETA: 31s - loss: 4.3151 - acc: 0.17 - ETA: 31s - loss: 4.3131 - acc: 0.17 - ETA: 31s - loss: 4.3155 - acc: 0.17 - ETA: 31s - loss: 4.3146 - acc: 0.17 - ETA: 30s - loss: 4.3171 - acc: 0.17 - ETA: 30s - loss: 4.3147 - acc: 0.17 - ETA: 30s - loss: 4.3137 - acc: 0.17 - ETA: 30s - loss: 4.3129 - acc: 0.17 - ETA: 30s - loss: 4.3122 - acc: 0.17 - ETA: 30s - loss: 4.3113 - acc: 0.17 - ETA: 29s - loss: 4.3118 - acc: 0.17 - ETA: 29s - loss: 4.3125 - acc: 0.17 - ETA: 29s - loss: 4.3115 - acc: 0.17 - ETA: 29s - loss: 4.3112 - acc: 0.17 - ETA: 29s - loss: 4.3110 - acc: 0.17 - ETA: 29s - loss: 4.3127 - acc: 0.17 - ETA: 28s - loss: 4.3138 - acc: 0.17 - ETA: 28s - loss: 4.3173 - acc: 0.17 - ETA: 28s - loss: 4.3196 - acc: 0.17 - ETA: 28s - loss: 4.3196 - acc: 0.17 - ETA: 28s - loss: 4.3215 - acc: 0.17 - ETA: 27s - loss: 4.3215 - acc: 0.17 - ETA: 27s - loss: 4.3227 - acc: 0.17 - ETA: 27s - loss: 4.3229 - acc: 0.17 - ETA: 27s - loss: 4.3268 - acc: 0.17 - ETA: 27s - loss: 4.3263 - acc: 0.17 - ETA: 26s - loss: 4.3281 - acc: 0.17 - ETA: 26s - loss: 4.3292 - acc: 0.17 - ETA: 26s - loss: 4.3289 - acc: 0.17 - ETA: 26s - loss: 4.3280 - acc: 0.17 - ETA: 26s - loss: 4.3259 - acc: 0.17 - ETA: 25s - loss: 4.3279 - acc: 0.17 - ETA: 25s - loss: 4.3277 - acc: 0.17 - ETA: 25s - loss: 4.3300 - acc: 0.17 - ETA: 25s - loss: 4.3323 - acc: 0.17 - ETA: 25s - loss: 4.3311 - acc: 0.17 - ETA: 25s - loss: 4.3313 - acc: 0.17 - ETA: 24s - loss: 4.3295 - acc: 0.17 - ETA: 24s - loss: 4.3329 - acc: 0.17 - ETA: 24s - loss: 4.3330 - acc: 0.17 - ETA: 24s - loss: 4.3302 - acc: 0.17 - ETA: 24s - loss: 4.3283 - acc: 0.17 - ETA: 23s - loss: 4.3300 - acc: 0.17 - ETA: 23s - loss: 4.3293 - acc: 0.17 - ETA: 23s - loss: 4.3297 - acc: 0.17 - ETA: 23s - loss: 4.3307 - acc: 0.17 - ETA: 23s - loss: 4.3315 - acc: 0.17 - ETA: 23s - loss: 4.3353 - acc: 0.17 - ETA: 22s - loss: 4.3378 - acc: 0.17 - ETA: 22s - loss: 4.3367 - acc: 0.17 - ETA: 22s - loss: 4.3357 - acc: 0.17 - ETA: 22s - loss: 4.3376 - acc: 0.17 - ETA: 22s - loss: 4.3382 - acc: 0.17 - ETA: 21s - loss: 4.3400 - acc: 0.17 - ETA: 21s - loss: 4.3419 - acc: 0.17 - ETA: 21s - loss: 4.3424 - acc: 0.17 - ETA: 21s - loss: 4.3414 - acc: 0.17 - ETA: 21s - loss: 4.3416 - acc: 0.17 - ETA: 20s - loss: 4.3441 - acc: 0.17 - ETA: 20s - loss: 4.3441 - acc: 0.17 - ETA: 20s - loss: 4.3436 - acc: 0.17 - ETA: 20s - loss: 4.3427 - acc: 0.17 - ETA: 20s - loss: 4.3432 - acc: 0.17 - ETA: 19s - loss: 4.3443 - acc: 0.17 - ETA: 19s - loss: 4.3453 - acc: 0.17 - ETA: 19s - loss: 4.3440 - acc: 0.17 - ETA: 19s - loss: 4.3453 - acc: 0.17 - ETA: 19s - loss: 4.3463 - acc: 0.17 - ETA: 18s - loss: 4.3451 - acc: 0.17 - ETA: 18s - loss: 4.3460 - acc: 0.17 - ETA: 18s - loss: 4.3460 - acc: 0.17 - ETA: 18s - loss: 4.3450 - acc: 0.17 - ETA: 18s - loss: 4.3454 - acc: 0.17 - ETA: 17s - loss: 4.3456 - acc: 0.17 - ETA: 17s - loss: 4.3462 - acc: 0.17 - ETA: 17s - loss: 4.3477 - acc: 0.17 - ETA: 17s - loss: 4.3476 - acc: 0.17 - ETA: 17s - loss: 4.3505 - acc: 0.17 - ETA: 16s - loss: 4.3524 - acc: 0.17 - ETA: 16s - loss: 4.3510 - acc: 0.17 - ETA: 16s - loss: 4.3503 - acc: 0.17 - ETA: 16s - loss: 4.3495 - acc: 0.17 - ETA: 16s - loss: 4.3518 - acc: 0.17 - ETA: 15s - loss: 4.3518 - acc: 0.17 - ETA: 15s - loss: 4.3536 - acc: 0.17 - ETA: 15s - loss: 4.3537 - acc: 0.17 - ETA: 15s - loss: 4.3541 - acc: 0.17 - ETA: 15s - loss: 4.3562 - acc: 0.17 - ETA: 14s - loss: 4.3543 - acc: 0.17 - ETA: 14s - loss: 4.3549 - acc: 0.17 - ETA: 14s - loss: 4.3551 - acc: 0.17 - ETA: 14s - loss: 4.3561 - acc: 0.17 - ETA: 14s - loss: 4.3562 - acc: 0.17 - ETA: 13s - loss: 4.3561 - acc: 0.17 - ETA: 13s - loss: 4.3569 - acc: 0.17 - ETA: 13s - loss: 4.3566 - acc: 0.17 - ETA: 13s - loss: 4.3593 - acc: 0.17 - ETA: 13s - loss: 4.3587 - acc: 0.17 - ETA: 12s - loss: 4.3600 - acc: 0.17 - ETA: 12s - loss: 4.3619 - acc: 0.17 - ETA: 12s - loss: 4.3617 - acc: 0.17 - ETA: 12s - loss: 4.3628 - acc: 0.17 - ETA: 12s - loss: 4.3628 - acc: 0.17 - ETA: 11s - loss: 4.3631 - acc: 0.17 - ETA: 11s - loss: 4.3641 - acc: 0.17 - ETA: 11s - loss: 4.3634 - acc: 0.17 - ETA: 11s - loss: 4.3638 - acc: 0.17 - ETA: 11s - loss: 4.3651 - acc: 0.17 - ETA: 10s - loss: 4.3657 - acc: 0.17 - ETA: 10s - loss: 4.3662 - acc: 0.17 - ETA: 10s - loss: 4.3684 - acc: 0.17 - ETA: 10s - loss: 4.3682 - acc: 0.17 - ETA: 10s - loss: 4.3693 - acc: 0.17 - ETA: 9s - loss: 4.3694 - acc: 0.1721 - ETA: 9s - loss: 4.3689 - acc: 0.172 - ETA: 9s - loss: 4.3690 - acc: 0.172 - ETA: 9s - loss: 4.3692 - acc: 0.172 - ETA: 9s - loss: 4.3677 - acc: 0.172 - ETA: 8s - loss: 4.3676 - acc: 0.172 - ETA: 8s - loss: 4.3687 - acc: 0.172 - ETA: 8s - loss: 4.3700 - acc: 0.172 - ETA: 8s - loss: 4.3706 - acc: 0.172 - ETA: 8s - loss: 4.3710 - acc: 0.172 - ETA: 7s - loss: 4.3728 - acc: 0.172 - ETA: 7s - loss: 4.3716 - acc: 0.172 - ETA: 7s - loss: 4.3714 - acc: 0.172 - ETA: 7s - loss: 4.3712 - acc: 0.172 - ETA: 7s - loss: 4.3718 - acc: 0.172 - ETA: 6s - loss: 4.3720 - acc: 0.172 - ETA: 6s - loss: 4.3716 - acc: 0.172 - ETA: 6s - loss: 4.3724 - acc: 0.172 - ETA: 6s - loss: 4.3734 - acc: 0.172 - ETA: 6s - loss: 4.3734 - acc: 0.172 - ETA: 5s - loss: 4.3718 - acc: 0.173 - ETA: 5s - loss: 4.3726 - acc: 0.172 - ETA: 5s - loss: 4.3730 - acc: 0.172 - ETA: 5s - loss: 4.3736 - acc: 0.172 - ETA: 5s - loss: 4.3751 - acc: 0.1725"
     ]
    },
    {
     "name": "stdout",
     "output_type": "stream",
     "text": [
      "30742/30742 [==============================] - ETA: 4s - loss: 4.3759 - acc: 0.172 - ETA: 4s - loss: 4.3752 - acc: 0.172 - ETA: 4s - loss: 4.3768 - acc: 0.172 - ETA: 4s - loss: 4.3774 - acc: 0.172 - ETA: 4s - loss: 4.3775 - acc: 0.172 - ETA: 3s - loss: 4.3774 - acc: 0.172 - ETA: 3s - loss: 4.3778 - acc: 0.172 - ETA: 3s - loss: 4.3777 - acc: 0.172 - ETA: 3s - loss: 4.3772 - acc: 0.172 - ETA: 3s - loss: 4.3772 - acc: 0.172 - ETA: 2s - loss: 4.3790 - acc: 0.172 - ETA: 2s - loss: 4.3796 - acc: 0.172 - ETA: 2s - loss: 4.3808 - acc: 0.172 - ETA: 2s - loss: 4.3816 - acc: 0.172 - ETA: 2s - loss: 4.3803 - acc: 0.172 - ETA: 1s - loss: 4.3813 - acc: 0.172 - ETA: 1s - loss: 4.3827 - acc: 0.171 - ETA: 1s - loss: 4.3819 - acc: 0.171 - ETA: 1s - loss: 4.3821 - acc: 0.171 - ETA: 1s - loss: 4.3829 - acc: 0.171 - ETA: 0s - loss: 4.3838 - acc: 0.171 - ETA: 0s - loss: 4.3845 - acc: 0.171 - ETA: 0s - loss: 4.3844 - acc: 0.171 - ETA: 0s - loss: 4.3839 - acc: 0.171 - ETA: 0s - loss: 4.3845 - acc: 0.171 - 48s 2ms/step - loss: 4.3841 - acc: 0.1715\n",
      "Epoch 27/30\n"
     ]
    },
    {
     "name": "stdout",
     "output_type": "stream",
     "text": [
      "27520/30742 [=========================>....] - ETA: 42s - loss: 4.3011 - acc: 0.19 - ETA: 45s - loss: 4.3698 - acc: 0.16 - ETA: 44s - loss: 4.3261 - acc: 0.17 - ETA: 44s - loss: 4.3241 - acc: 0.18 - ETA: 44s - loss: 4.2893 - acc: 0.19 - ETA: 44s - loss: 4.2642 - acc: 0.19 - ETA: 44s - loss: 4.2664 - acc: 0.18 - ETA: 44s - loss: 4.2787 - acc: 0.18 - ETA: 44s - loss: 4.2629 - acc: 0.18 - ETA: 43s - loss: 4.2819 - acc: 0.18 - ETA: 43s - loss: 4.2748 - acc: 0.18 - ETA: 43s - loss: 4.2679 - acc: 0.18 - ETA: 43s - loss: 4.2663 - acc: 0.18 - ETA: 43s - loss: 4.2463 - acc: 0.18 - ETA: 43s - loss: 4.2468 - acc: 0.18 - ETA: 43s - loss: 4.2388 - acc: 0.18 - ETA: 43s - loss: 4.2384 - acc: 0.18 - ETA: 43s - loss: 4.2408 - acc: 0.18 - ETA: 42s - loss: 4.2305 - acc: 0.18 - ETA: 42s - loss: 4.2222 - acc: 0.19 - ETA: 42s - loss: 4.2231 - acc: 0.18 - ETA: 42s - loss: 4.2191 - acc: 0.18 - ETA: 42s - loss: 4.2238 - acc: 0.18 - ETA: 42s - loss: 4.2221 - acc: 0.18 - ETA: 42s - loss: 4.2236 - acc: 0.18 - ETA: 41s - loss: 4.2203 - acc: 0.18 - ETA: 41s - loss: 4.2308 - acc: 0.18 - ETA: 41s - loss: 4.2257 - acc: 0.18 - ETA: 41s - loss: 4.2217 - acc: 0.18 - ETA: 41s - loss: 4.2244 - acc: 0.18 - ETA: 40s - loss: 4.2241 - acc: 0.18 - ETA: 40s - loss: 4.2258 - acc: 0.18 - ETA: 40s - loss: 4.2174 - acc: 0.18 - ETA: 40s - loss: 4.2203 - acc: 0.18 - ETA: 40s - loss: 4.2278 - acc: 0.17 - ETA: 40s - loss: 4.2330 - acc: 0.17 - ETA: 40s - loss: 4.2337 - acc: 0.17 - ETA: 40s - loss: 4.2294 - acc: 0.18 - ETA: 40s - loss: 4.2295 - acc: 0.18 - ETA: 40s - loss: 4.2254 - acc: 0.18 - ETA: 39s - loss: 4.2294 - acc: 0.17 - ETA: 39s - loss: 4.2340 - acc: 0.17 - ETA: 39s - loss: 4.2382 - acc: 0.17 - ETA: 39s - loss: 4.2435 - acc: 0.17 - ETA: 39s - loss: 4.2351 - acc: 0.17 - ETA: 38s - loss: 4.2408 - acc: 0.17 - ETA: 38s - loss: 4.2397 - acc: 0.17 - ETA: 38s - loss: 4.2403 - acc: 0.17 - ETA: 38s - loss: 4.2360 - acc: 0.17 - ETA: 38s - loss: 4.2411 - acc: 0.17 - ETA: 37s - loss: 4.2470 - acc: 0.17 - ETA: 37s - loss: 4.2460 - acc: 0.17 - ETA: 37s - loss: 4.2486 - acc: 0.17 - ETA: 37s - loss: 4.2468 - acc: 0.17 - ETA: 37s - loss: 4.2444 - acc: 0.17 - ETA: 37s - loss: 4.2477 - acc: 0.17 - ETA: 36s - loss: 4.2493 - acc: 0.17 - ETA: 36s - loss: 4.2458 - acc: 0.17 - ETA: 36s - loss: 4.2471 - acc: 0.17 - ETA: 36s - loss: 4.2465 - acc: 0.17 - ETA: 35s - loss: 4.2484 - acc: 0.17 - ETA: 35s - loss: 4.2476 - acc: 0.17 - ETA: 35s - loss: 4.2536 - acc: 0.17 - ETA: 35s - loss: 4.2559 - acc: 0.17 - ETA: 35s - loss: 4.2561 - acc: 0.17 - ETA: 35s - loss: 4.2497 - acc: 0.17 - ETA: 35s - loss: 4.2459 - acc: 0.18 - ETA: 35s - loss: 4.2458 - acc: 0.18 - ETA: 35s - loss: 4.2489 - acc: 0.18 - ETA: 35s - loss: 4.2543 - acc: 0.17 - ETA: 35s - loss: 4.2545 - acc: 0.17 - ETA: 35s - loss: 4.2545 - acc: 0.17 - ETA: 35s - loss: 4.2572 - acc: 0.17 - ETA: 34s - loss: 4.2616 - acc: 0.17 - ETA: 34s - loss: 4.2614 - acc: 0.17 - ETA: 34s - loss: 4.2611 - acc: 0.17 - ETA: 34s - loss: 4.2629 - acc: 0.17 - ETA: 34s - loss: 4.2620 - acc: 0.17 - ETA: 34s - loss: 4.2601 - acc: 0.17 - ETA: 34s - loss: 4.2606 - acc: 0.17 - ETA: 34s - loss: 4.2575 - acc: 0.17 - ETA: 33s - loss: 4.2582 - acc: 0.17 - ETA: 33s - loss: 4.2638 - acc: 0.17 - ETA: 33s - loss: 4.2649 - acc: 0.17 - ETA: 33s - loss: 4.2638 - acc: 0.17 - ETA: 33s - loss: 4.2665 - acc: 0.17 - ETA: 33s - loss: 4.2694 - acc: 0.17 - ETA: 32s - loss: 4.2727 - acc: 0.17 - ETA: 32s - loss: 4.2722 - acc: 0.17 - ETA: 32s - loss: 4.2737 - acc: 0.17 - ETA: 32s - loss: 4.2756 - acc: 0.17 - ETA: 32s - loss: 4.2742 - acc: 0.17 - ETA: 32s - loss: 4.2753 - acc: 0.17 - ETA: 32s - loss: 4.2765 - acc: 0.17 - ETA: 32s - loss: 4.2795 - acc: 0.17 - ETA: 32s - loss: 4.2816 - acc: 0.17 - ETA: 31s - loss: 4.2803 - acc: 0.17 - ETA: 31s - loss: 4.2816 - acc: 0.17 - ETA: 31s - loss: 4.2805 - acc: 0.17 - ETA: 31s - loss: 4.2823 - acc: 0.17 - ETA: 31s - loss: 4.2825 - acc: 0.17 - ETA: 31s - loss: 4.2824 - acc: 0.17 - ETA: 30s - loss: 4.2806 - acc: 0.17 - ETA: 30s - loss: 4.2852 - acc: 0.17 - ETA: 30s - loss: 4.2855 - acc: 0.17 - ETA: 30s - loss: 4.2832 - acc: 0.17 - ETA: 30s - loss: 4.2846 - acc: 0.17 - ETA: 29s - loss: 4.2863 - acc: 0.17 - ETA: 29s - loss: 4.2903 - acc: 0.17 - ETA: 29s - loss: 4.2938 - acc: 0.17 - ETA: 29s - loss: 4.2905 - acc: 0.17 - ETA: 28s - loss: 4.2913 - acc: 0.17 - ETA: 28s - loss: 4.2921 - acc: 0.17 - ETA: 28s - loss: 4.2941 - acc: 0.17 - ETA: 28s - loss: 4.2935 - acc: 0.17 - ETA: 28s - loss: 4.2964 - acc: 0.17 - ETA: 27s - loss: 4.2965 - acc: 0.17 - ETA: 27s - loss: 4.2968 - acc: 0.17 - ETA: 27s - loss: 4.2972 - acc: 0.17 - ETA: 27s - loss: 4.2958 - acc: 0.17 - ETA: 27s - loss: 4.2976 - acc: 0.17 - ETA: 26s - loss: 4.2972 - acc: 0.17 - ETA: 26s - loss: 4.2974 - acc: 0.17 - ETA: 26s - loss: 4.2999 - acc: 0.17 - ETA: 26s - loss: 4.3029 - acc: 0.17 - ETA: 25s - loss: 4.3032 - acc: 0.17 - ETA: 25s - loss: 4.3014 - acc: 0.17 - ETA: 25s - loss: 4.3009 - acc: 0.17 - ETA: 25s - loss: 4.3006 - acc: 0.17 - ETA: 25s - loss: 4.3012 - acc: 0.17 - ETA: 24s - loss: 4.3034 - acc: 0.17 - ETA: 24s - loss: 4.3033 - acc: 0.17 - ETA: 24s - loss: 4.3026 - acc: 0.17 - ETA: 24s - loss: 4.3028 - acc: 0.17 - ETA: 23s - loss: 4.3048 - acc: 0.17 - ETA: 23s - loss: 4.3065 - acc: 0.17 - ETA: 23s - loss: 4.3059 - acc: 0.17 - ETA: 23s - loss: 4.3061 - acc: 0.17 - ETA: 23s - loss: 4.3053 - acc: 0.17 - ETA: 22s - loss: 4.3031 - acc: 0.17 - ETA: 22s - loss: 4.3051 - acc: 0.17 - ETA: 22s - loss: 4.3048 - acc: 0.17 - ETA: 22s - loss: 4.3055 - acc: 0.17 - ETA: 22s - loss: 4.3071 - acc: 0.17 - ETA: 21s - loss: 4.3076 - acc: 0.17 - ETA: 21s - loss: 4.3087 - acc: 0.17 - ETA: 21s - loss: 4.3089 - acc: 0.17 - ETA: 21s - loss: 4.3095 - acc: 0.17 - ETA: 21s - loss: 4.3092 - acc: 0.17 - ETA: 20s - loss: 4.3106 - acc: 0.17 - ETA: 20s - loss: 4.3107 - acc: 0.17 - ETA: 20s - loss: 4.3114 - acc: 0.17 - ETA: 20s - loss: 4.3116 - acc: 0.17 - ETA: 19s - loss: 4.3133 - acc: 0.17 - ETA: 19s - loss: 4.3161 - acc: 0.17 - ETA: 19s - loss: 4.3190 - acc: 0.17 - ETA: 19s - loss: 4.3187 - acc: 0.17 - ETA: 18s - loss: 4.3188 - acc: 0.17 - ETA: 18s - loss: 4.3186 - acc: 0.17 - ETA: 18s - loss: 4.3167 - acc: 0.17 - ETA: 18s - loss: 4.3151 - acc: 0.17 - ETA: 18s - loss: 4.3138 - acc: 0.17 - ETA: 17s - loss: 4.3148 - acc: 0.17 - ETA: 17s - loss: 4.3131 - acc: 0.17 - ETA: 17s - loss: 4.3136 - acc: 0.17 - ETA: 17s - loss: 4.3132 - acc: 0.17 - ETA: 16s - loss: 4.3130 - acc: 0.17 - ETA: 16s - loss: 4.3114 - acc: 0.17 - ETA: 16s - loss: 4.3116 - acc: 0.17 - ETA: 16s - loss: 4.3130 - acc: 0.17 - ETA: 15s - loss: 4.3136 - acc: 0.17 - ETA: 15s - loss: 4.3145 - acc: 0.17 - ETA: 15s - loss: 4.3140 - acc: 0.17 - ETA: 15s - loss: 4.3148 - acc: 0.17 - ETA: 14s - loss: 4.3148 - acc: 0.17 - ETA: 14s - loss: 4.3128 - acc: 0.17 - ETA: 14s - loss: 4.3141 - acc: 0.17 - ETA: 14s - loss: 4.3141 - acc: 0.17 - ETA: 14s - loss: 4.3129 - acc: 0.17 - ETA: 13s - loss: 4.3160 - acc: 0.17 - ETA: 13s - loss: 4.3161 - acc: 0.17 - ETA: 13s - loss: 4.3166 - acc: 0.17 - ETA: 13s - loss: 4.3189 - acc: 0.17 - ETA: 12s - loss: 4.3186 - acc: 0.17 - ETA: 12s - loss: 4.3197 - acc: 0.17 - ETA: 12s - loss: 4.3187 - acc: 0.17 - ETA: 12s - loss: 4.3191 - acc: 0.17 - ETA: 11s - loss: 4.3202 - acc: 0.17 - ETA: 11s - loss: 4.3191 - acc: 0.17 - ETA: 11s - loss: 4.3201 - acc: 0.17 - ETA: 11s - loss: 4.3210 - acc: 0.17 - ETA: 11s - loss: 4.3203 - acc: 0.17 - ETA: 10s - loss: 4.3205 - acc: 0.17 - ETA: 10s - loss: 4.3194 - acc: 0.17 - ETA: 10s - loss: 4.3205 - acc: 0.17 - ETA: 10s - loss: 4.3214 - acc: 0.17 - ETA: 9s - loss: 4.3200 - acc: 0.1734 - ETA: 9s - loss: 4.3198 - acc: 0.173 - ETA: 9s - loss: 4.3195 - acc: 0.173 - ETA: 9s - loss: 4.3184 - acc: 0.173 - ETA: 8s - loss: 4.3204 - acc: 0.173 - ETA: 8s - loss: 4.3207 - acc: 0.172 - ETA: 8s - loss: 4.3214 - acc: 0.172 - ETA: 8s - loss: 4.3228 - acc: 0.172 - ETA: 8s - loss: 4.3232 - acc: 0.172 - ETA: 7s - loss: 4.3236 - acc: 0.172 - ETA: 7s - loss: 4.3236 - acc: 0.172 - ETA: 7s - loss: 4.3250 - acc: 0.172 - ETA: 7s - loss: 4.3249 - acc: 0.172 - ETA: 6s - loss: 4.3258 - acc: 0.172 - ETA: 6s - loss: 4.3278 - acc: 0.172 - ETA: 6s - loss: 4.3284 - acc: 0.172 - ETA: 6s - loss: 4.3290 - acc: 0.172 - ETA: 5s - loss: 4.3285 - acc: 0.172 - ETA: 5s - loss: 4.3277 - acc: 0.1725"
     ]
    },
    {
     "name": "stdout",
     "output_type": "stream",
     "text": [
      "30742/30742 [==============================] - ETA: 5s - loss: 4.3280 - acc: 0.172 - ETA: 5s - loss: 4.3287 - acc: 0.172 - ETA: 5s - loss: 4.3289 - acc: 0.172 - ETA: 4s - loss: 4.3294 - acc: 0.172 - ETA: 4s - loss: 4.3305 - acc: 0.172 - ETA: 4s - loss: 4.3311 - acc: 0.172 - ETA: 4s - loss: 4.3322 - acc: 0.172 - ETA: 3s - loss: 4.3335 - acc: 0.172 - ETA: 3s - loss: 4.3346 - acc: 0.171 - ETA: 3s - loss: 4.3345 - acc: 0.172 - ETA: 3s - loss: 4.3347 - acc: 0.171 - ETA: 2s - loss: 4.3350 - acc: 0.171 - ETA: 2s - loss: 4.3360 - acc: 0.171 - ETA: 2s - loss: 4.3364 - acc: 0.171 - ETA: 2s - loss: 4.3380 - acc: 0.171 - ETA: 2s - loss: 4.3379 - acc: 0.171 - ETA: 1s - loss: 4.3376 - acc: 0.171 - ETA: 1s - loss: 4.3368 - acc: 0.171 - ETA: 1s - loss: 4.3364 - acc: 0.171 - ETA: 1s - loss: 4.3360 - acc: 0.171 - ETA: 0s - loss: 4.3367 - acc: 0.171 - ETA: 0s - loss: 4.3360 - acc: 0.171 - ETA: 0s - loss: 4.3362 - acc: 0.171 - ETA: 0s - loss: 4.3364 - acc: 0.171 - ETA: 0s - loss: 4.3354 - acc: 0.172 - 54s 2ms/step - loss: 4.3355 - acc: 0.1723\n",
      "Epoch 28/30\n"
     ]
    },
    {
     "name": "stdout",
     "output_type": "stream",
     "text": [
      "27520/30742 [=========================>....] - ETA: 46s - loss: 3.9773 - acc: 0.28 - ETA: 47s - loss: 4.1814 - acc: 0.20 - ETA: 46s - loss: 4.2708 - acc: 0.18 - ETA: 47s - loss: 4.2534 - acc: 0.18 - ETA: 47s - loss: 4.2477 - acc: 0.17 - ETA: 47s - loss: 4.2775 - acc: 0.17 - ETA: 46s - loss: 4.2068 - acc: 0.18 - ETA: 47s - loss: 4.2123 - acc: 0.17 - ETA: 48s - loss: 4.2170 - acc: 0.17 - ETA: 49s - loss: 4.2173 - acc: 0.17 - ETA: 48s - loss: 4.2157 - acc: 0.17 - ETA: 48s - loss: 4.2454 - acc: 0.16 - ETA: 47s - loss: 4.2203 - acc: 0.17 - ETA: 47s - loss: 4.2006 - acc: 0.17 - ETA: 47s - loss: 4.2097 - acc: 0.17 - ETA: 46s - loss: 4.2152 - acc: 0.17 - ETA: 46s - loss: 4.2253 - acc: 0.17 - ETA: 46s - loss: 4.2402 - acc: 0.17 - ETA: 46s - loss: 4.2317 - acc: 0.17 - ETA: 46s - loss: 4.2267 - acc: 0.17 - ETA: 45s - loss: 4.2269 - acc: 0.17 - ETA: 45s - loss: 4.2121 - acc: 0.17 - ETA: 45s - loss: 4.2160 - acc: 0.17 - ETA: 45s - loss: 4.2292 - acc: 0.17 - ETA: 44s - loss: 4.2318 - acc: 0.17 - ETA: 44s - loss: 4.2269 - acc: 0.17 - ETA: 44s - loss: 4.2172 - acc: 0.17 - ETA: 44s - loss: 4.2088 - acc: 0.17 - ETA: 43s - loss: 4.2011 - acc: 0.17 - ETA: 43s - loss: 4.2017 - acc: 0.17 - ETA: 43s - loss: 4.2025 - acc: 0.17 - ETA: 43s - loss: 4.2055 - acc: 0.17 - ETA: 43s - loss: 4.2094 - acc: 0.17 - ETA: 43s - loss: 4.2087 - acc: 0.17 - ETA: 43s - loss: 4.2032 - acc: 0.17 - ETA: 42s - loss: 4.2042 - acc: 0.17 - ETA: 42s - loss: 4.2039 - acc: 0.17 - ETA: 42s - loss: 4.2004 - acc: 0.17 - ETA: 41s - loss: 4.2044 - acc: 0.17 - ETA: 41s - loss: 4.2033 - acc: 0.17 - ETA: 41s - loss: 4.2020 - acc: 0.17 - ETA: 41s - loss: 4.2083 - acc: 0.17 - ETA: 41s - loss: 4.2037 - acc: 0.17 - ETA: 40s - loss: 4.2084 - acc: 0.17 - ETA: 40s - loss: 4.2099 - acc: 0.17 - ETA: 40s - loss: 4.2090 - acc: 0.17 - ETA: 40s - loss: 4.2071 - acc: 0.17 - ETA: 40s - loss: 4.2053 - acc: 0.17 - ETA: 40s - loss: 4.2056 - acc: 0.17 - ETA: 39s - loss: 4.2040 - acc: 0.17 - ETA: 39s - loss: 4.2074 - acc: 0.17 - ETA: 39s - loss: 4.2135 - acc: 0.17 - ETA: 39s - loss: 4.2109 - acc: 0.17 - ETA: 39s - loss: 4.2099 - acc: 0.17 - ETA: 38s - loss: 4.2110 - acc: 0.17 - ETA: 38s - loss: 4.2133 - acc: 0.17 - ETA: 38s - loss: 4.2132 - acc: 0.17 - ETA: 38s - loss: 4.2113 - acc: 0.17 - ETA: 38s - loss: 4.2086 - acc: 0.17 - ETA: 37s - loss: 4.2035 - acc: 0.17 - ETA: 37s - loss: 4.2078 - acc: 0.17 - ETA: 37s - loss: 4.2085 - acc: 0.17 - ETA: 37s - loss: 4.2005 - acc: 0.18 - ETA: 37s - loss: 4.1986 - acc: 0.18 - ETA: 37s - loss: 4.1993 - acc: 0.18 - ETA: 36s - loss: 4.2020 - acc: 0.18 - ETA: 36s - loss: 4.2050 - acc: 0.18 - ETA: 36s - loss: 4.2045 - acc: 0.18 - ETA: 36s - loss: 4.2037 - acc: 0.17 - ETA: 36s - loss: 4.2039 - acc: 0.18 - ETA: 35s - loss: 4.2013 - acc: 0.18 - ETA: 35s - loss: 4.1974 - acc: 0.18 - ETA: 35s - loss: 4.1956 - acc: 0.18 - ETA: 35s - loss: 4.1983 - acc: 0.18 - ETA: 35s - loss: 4.2003 - acc: 0.18 - ETA: 34s - loss: 4.2022 - acc: 0.18 - ETA: 34s - loss: 4.2020 - acc: 0.18 - ETA: 34s - loss: 4.2087 - acc: 0.17 - ETA: 34s - loss: 4.2084 - acc: 0.17 - ETA: 34s - loss: 4.2069 - acc: 0.17 - ETA: 33s - loss: 4.2034 - acc: 0.17 - ETA: 33s - loss: 4.2028 - acc: 0.17 - ETA: 33s - loss: 4.2065 - acc: 0.17 - ETA: 33s - loss: 4.2095 - acc: 0.17 - ETA: 33s - loss: 4.2093 - acc: 0.17 - ETA: 32s - loss: 4.2098 - acc: 0.17 - ETA: 32s - loss: 4.2077 - acc: 0.17 - ETA: 32s - loss: 4.2083 - acc: 0.17 - ETA: 32s - loss: 4.2099 - acc: 0.17 - ETA: 32s - loss: 4.2084 - acc: 0.17 - ETA: 32s - loss: 4.2092 - acc: 0.17 - ETA: 31s - loss: 4.2049 - acc: 0.17 - ETA: 31s - loss: 4.2040 - acc: 0.17 - ETA: 31s - loss: 4.2068 - acc: 0.17 - ETA: 31s - loss: 4.2074 - acc: 0.17 - ETA: 31s - loss: 4.2075 - acc: 0.17 - ETA: 30s - loss: 4.2068 - acc: 0.17 - ETA: 30s - loss: 4.2077 - acc: 0.17 - ETA: 30s - loss: 4.2116 - acc: 0.17 - ETA: 30s - loss: 4.2119 - acc: 0.17 - ETA: 29s - loss: 4.2100 - acc: 0.17 - ETA: 29s - loss: 4.2116 - acc: 0.17 - ETA: 29s - loss: 4.2127 - acc: 0.17 - ETA: 29s - loss: 4.2157 - acc: 0.17 - ETA: 29s - loss: 4.2183 - acc: 0.17 - ETA: 28s - loss: 4.2211 - acc: 0.17 - ETA: 28s - loss: 4.2218 - acc: 0.17 - ETA: 28s - loss: 4.2248 - acc: 0.17 - ETA: 28s - loss: 4.2235 - acc: 0.17 - ETA: 28s - loss: 4.2215 - acc: 0.17 - ETA: 27s - loss: 4.2225 - acc: 0.17 - ETA: 27s - loss: 4.2230 - acc: 0.17 - ETA: 27s - loss: 4.2250 - acc: 0.17 - ETA: 27s - loss: 4.2245 - acc: 0.17 - ETA: 27s - loss: 4.2222 - acc: 0.17 - ETA: 26s - loss: 4.2227 - acc: 0.17 - ETA: 26s - loss: 4.2254 - acc: 0.17 - ETA: 26s - loss: 4.2275 - acc: 0.17 - ETA: 26s - loss: 4.2278 - acc: 0.17 - ETA: 26s - loss: 4.2273 - acc: 0.17 - ETA: 25s - loss: 4.2275 - acc: 0.17 - ETA: 25s - loss: 4.2304 - acc: 0.17 - ETA: 25s - loss: 4.2298 - acc: 0.17 - ETA: 25s - loss: 4.2278 - acc: 0.17 - ETA: 25s - loss: 4.2271 - acc: 0.17 - ETA: 24s - loss: 4.2284 - acc: 0.17 - ETA: 24s - loss: 4.2314 - acc: 0.17 - ETA: 24s - loss: 4.2333 - acc: 0.17 - ETA: 24s - loss: 4.2311 - acc: 0.17 - ETA: 23s - loss: 4.2328 - acc: 0.17 - ETA: 23s - loss: 4.2351 - acc: 0.17 - ETA: 23s - loss: 4.2358 - acc: 0.17 - ETA: 23s - loss: 4.2387 - acc: 0.17 - ETA: 23s - loss: 4.2386 - acc: 0.17 - ETA: 22s - loss: 4.2381 - acc: 0.17 - ETA: 22s - loss: 4.2412 - acc: 0.17 - ETA: 22s - loss: 4.2431 - acc: 0.17 - ETA: 22s - loss: 4.2461 - acc: 0.17 - ETA: 22s - loss: 4.2453 - acc: 0.17 - ETA: 21s - loss: 4.2458 - acc: 0.17 - ETA: 21s - loss: 4.2487 - acc: 0.17 - ETA: 21s - loss: 4.2507 - acc: 0.17 - ETA: 21s - loss: 4.2520 - acc: 0.17 - ETA: 21s - loss: 4.2529 - acc: 0.17 - ETA: 20s - loss: 4.2550 - acc: 0.17 - ETA: 20s - loss: 4.2559 - acc: 0.17 - ETA: 20s - loss: 4.2550 - acc: 0.17 - ETA: 20s - loss: 4.2543 - acc: 0.17 - ETA: 19s - loss: 4.2546 - acc: 0.17 - ETA: 19s - loss: 4.2553 - acc: 0.17 - ETA: 19s - loss: 4.2546 - acc: 0.17 - ETA: 19s - loss: 4.2538 - acc: 0.17 - ETA: 19s - loss: 4.2525 - acc: 0.17 - ETA: 18s - loss: 4.2524 - acc: 0.17 - ETA: 18s - loss: 4.2500 - acc: 0.17 - ETA: 18s - loss: 4.2500 - acc: 0.17 - ETA: 18s - loss: 4.2523 - acc: 0.17 - ETA: 18s - loss: 4.2524 - acc: 0.17 - ETA: 17s - loss: 4.2549 - acc: 0.17 - ETA: 17s - loss: 4.2549 - acc: 0.17 - ETA: 17s - loss: 4.2539 - acc: 0.17 - ETA: 17s - loss: 4.2525 - acc: 0.17 - ETA: 16s - loss: 4.2541 - acc: 0.17 - ETA: 16s - loss: 4.2546 - acc: 0.17 - ETA: 16s - loss: 4.2539 - acc: 0.17 - ETA: 16s - loss: 4.2553 - acc: 0.17 - ETA: 16s - loss: 4.2574 - acc: 0.17 - ETA: 15s - loss: 4.2575 - acc: 0.17 - ETA: 15s - loss: 4.2599 - acc: 0.17 - ETA: 15s - loss: 4.2601 - acc: 0.17 - ETA: 15s - loss: 4.2613 - acc: 0.17 - ETA: 15s - loss: 4.2619 - acc: 0.17 - ETA: 14s - loss: 4.2616 - acc: 0.17 - ETA: 14s - loss: 4.2623 - acc: 0.17 - ETA: 14s - loss: 4.2620 - acc: 0.17 - ETA: 14s - loss: 4.2636 - acc: 0.17 - ETA: 13s - loss: 4.2633 - acc: 0.17 - ETA: 13s - loss: 4.2637 - acc: 0.17 - ETA: 13s - loss: 4.2637 - acc: 0.17 - ETA: 13s - loss: 4.2649 - acc: 0.17 - ETA: 13s - loss: 4.2653 - acc: 0.17 - ETA: 12s - loss: 4.2664 - acc: 0.17 - ETA: 12s - loss: 4.2661 - acc: 0.17 - ETA: 12s - loss: 4.2672 - acc: 0.17 - ETA: 12s - loss: 4.2653 - acc: 0.17 - ETA: 11s - loss: 4.2662 - acc: 0.17 - ETA: 11s - loss: 4.2659 - acc: 0.17 - ETA: 11s - loss: 4.2682 - acc: 0.17 - ETA: 11s - loss: 4.2682 - acc: 0.17 - ETA: 11s - loss: 4.2690 - acc: 0.17 - ETA: 10s - loss: 4.2687 - acc: 0.17 - ETA: 10s - loss: 4.2690 - acc: 0.17 - ETA: 10s - loss: 4.2703 - acc: 0.17 - ETA: 10s - loss: 4.2698 - acc: 0.17 - ETA: 10s - loss: 4.2701 - acc: 0.17 - ETA: 9s - loss: 4.2704 - acc: 0.1755 - ETA: 9s - loss: 4.2705 - acc: 0.175 - ETA: 9s - loss: 4.2732 - acc: 0.175 - ETA: 9s - loss: 4.2745 - acc: 0.175 - ETA: 8s - loss: 4.2753 - acc: 0.175 - ETA: 8s - loss: 4.2766 - acc: 0.175 - ETA: 8s - loss: 4.2766 - acc: 0.174 - ETA: 8s - loss: 4.2784 - acc: 0.174 - ETA: 8s - loss: 4.2787 - acc: 0.174 - ETA: 7s - loss: 4.2805 - acc: 0.174 - ETA: 7s - loss: 4.2804 - acc: 0.174 - ETA: 7s - loss: 4.2808 - acc: 0.175 - ETA: 7s - loss: 4.2813 - acc: 0.175 - ETA: 6s - loss: 4.2814 - acc: 0.175 - ETA: 6s - loss: 4.2816 - acc: 0.175 - ETA: 6s - loss: 4.2831 - acc: 0.174 - ETA: 6s - loss: 4.2831 - acc: 0.174 - ETA: 6s - loss: 4.2829 - acc: 0.175 - ETA: 5s - loss: 4.2838 - acc: 0.175 - ETA: 5s - loss: 4.2827 - acc: 0.1751"
     ]
    },
    {
     "name": "stdout",
     "output_type": "stream",
     "text": [
      "30742/30742 [==============================] - ETA: 5s - loss: 4.2823 - acc: 0.175 - ETA: 5s - loss: 4.2833 - acc: 0.175 - ETA: 4s - loss: 4.2833 - acc: 0.175 - ETA: 4s - loss: 4.2837 - acc: 0.175 - ETA: 4s - loss: 4.2830 - acc: 0.175 - ETA: 4s - loss: 4.2844 - acc: 0.175 - ETA: 4s - loss: 4.2844 - acc: 0.175 - ETA: 3s - loss: 4.2828 - acc: 0.175 - ETA: 3s - loss: 4.2830 - acc: 0.175 - ETA: 3s - loss: 4.2826 - acc: 0.175 - ETA: 3s - loss: 4.2835 - acc: 0.175 - ETA: 2s - loss: 4.2859 - acc: 0.175 - ETA: 2s - loss: 4.2859 - acc: 0.175 - ETA: 2s - loss: 4.2848 - acc: 0.175 - ETA: 2s - loss: 4.2867 - acc: 0.175 - ETA: 2s - loss: 4.2872 - acc: 0.175 - ETA: 1s - loss: 4.2860 - acc: 0.175 - ETA: 1s - loss: 4.2866 - acc: 0.175 - ETA: 1s - loss: 4.2869 - acc: 0.175 - ETA: 1s - loss: 4.2867 - acc: 0.175 - ETA: 0s - loss: 4.2887 - acc: 0.175 - ETA: 0s - loss: 4.2886 - acc: 0.175 - ETA: 0s - loss: 4.2885 - acc: 0.175 - ETA: 0s - loss: 4.2889 - acc: 0.175 - ETA: 0s - loss: 4.2892 - acc: 0.175 - 54s 2ms/step - loss: 4.2891 - acc: 0.1756\n",
      "Epoch 29/30\n"
     ]
    },
    {
     "name": "stdout",
     "output_type": "stream",
     "text": [
      "27520/30742 [=========================>....] - ETA: 50s - loss: 4.0706 - acc: 0.21 - ETA: 52s - loss: 4.1106 - acc: 0.21 - ETA: 51s - loss: 4.1426 - acc: 0.20 - ETA: 51s - loss: 4.2200 - acc: 0.19 - ETA: 51s - loss: 4.2265 - acc: 0.18 - ETA: 51s - loss: 4.1742 - acc: 0.18 - ETA: 50s - loss: 4.1934 - acc: 0.18 - ETA: 50s - loss: 4.2006 - acc: 0.17 - ETA: 50s - loss: 4.2320 - acc: 0.17 - ETA: 50s - loss: 4.2541 - acc: 0.16 - ETA: 50s - loss: 4.2402 - acc: 0.16 - ETA: 50s - loss: 4.2471 - acc: 0.16 - ETA: 50s - loss: 4.2349 - acc: 0.16 - ETA: 50s - loss: 4.2370 - acc: 0.16 - ETA: 50s - loss: 4.2363 - acc: 0.16 - ETA: 50s - loss: 4.2190 - acc: 0.16 - ETA: 49s - loss: 4.2126 - acc: 0.17 - ETA: 49s - loss: 4.2113 - acc: 0.17 - ETA: 49s - loss: 4.1847 - acc: 0.17 - ETA: 49s - loss: 4.1803 - acc: 0.17 - ETA: 48s - loss: 4.1678 - acc: 0.17 - ETA: 48s - loss: 4.1680 - acc: 0.17 - ETA: 48s - loss: 4.1668 - acc: 0.17 - ETA: 48s - loss: 4.1774 - acc: 0.17 - ETA: 48s - loss: 4.1722 - acc: 0.17 - ETA: 47s - loss: 4.1765 - acc: 0.17 - ETA: 47s - loss: 4.1621 - acc: 0.17 - ETA: 47s - loss: 4.1620 - acc: 0.17 - ETA: 47s - loss: 4.1619 - acc: 0.17 - ETA: 46s - loss: 4.1578 - acc: 0.17 - ETA: 46s - loss: 4.1523 - acc: 0.17 - ETA: 46s - loss: 4.1482 - acc: 0.17 - ETA: 46s - loss: 4.1453 - acc: 0.17 - ETA: 45s - loss: 4.1516 - acc: 0.17 - ETA: 45s - loss: 4.1449 - acc: 0.18 - ETA: 45s - loss: 4.1468 - acc: 0.18 - ETA: 45s - loss: 4.1384 - acc: 0.18 - ETA: 45s - loss: 4.1373 - acc: 0.18 - ETA: 44s - loss: 4.1365 - acc: 0.18 - ETA: 44s - loss: 4.1394 - acc: 0.18 - ETA: 44s - loss: 4.1405 - acc: 0.18 - ETA: 44s - loss: 4.1392 - acc: 0.18 - ETA: 43s - loss: 4.1264 - acc: 0.18 - ETA: 43s - loss: 4.1210 - acc: 0.18 - ETA: 43s - loss: 4.1223 - acc: 0.18 - ETA: 43s - loss: 4.1254 - acc: 0.18 - ETA: 43s - loss: 4.1254 - acc: 0.18 - ETA: 42s - loss: 4.1269 - acc: 0.18 - ETA: 42s - loss: 4.1268 - acc: 0.18 - ETA: 42s - loss: 4.1269 - acc: 0.18 - ETA: 42s - loss: 4.1254 - acc: 0.18 - ETA: 41s - loss: 4.1272 - acc: 0.18 - ETA: 41s - loss: 4.1301 - acc: 0.18 - ETA: 41s - loss: 4.1285 - acc: 0.18 - ETA: 41s - loss: 4.1283 - acc: 0.18 - ETA: 41s - loss: 4.1288 - acc: 0.18 - ETA: 40s - loss: 4.1307 - acc: 0.18 - ETA: 40s - loss: 4.1322 - acc: 0.18 - ETA: 40s - loss: 4.1276 - acc: 0.18 - ETA: 40s - loss: 4.1297 - acc: 0.18 - ETA: 39s - loss: 4.1339 - acc: 0.18 - ETA: 39s - loss: 4.1367 - acc: 0.18 - ETA: 39s - loss: 4.1343 - acc: 0.18 - ETA: 39s - loss: 4.1337 - acc: 0.18 - ETA: 39s - loss: 4.1353 - acc: 0.18 - ETA: 38s - loss: 4.1417 - acc: 0.18 - ETA: 38s - loss: 4.1428 - acc: 0.18 - ETA: 38s - loss: 4.1447 - acc: 0.18 - ETA: 38s - loss: 4.1451 - acc: 0.18 - ETA: 37s - loss: 4.1478 - acc: 0.18 - ETA: 37s - loss: 4.1544 - acc: 0.18 - ETA: 37s - loss: 4.1580 - acc: 0.18 - ETA: 37s - loss: 4.1619 - acc: 0.18 - ETA: 37s - loss: 4.1633 - acc: 0.18 - ETA: 36s - loss: 4.1622 - acc: 0.18 - ETA: 36s - loss: 4.1665 - acc: 0.18 - ETA: 36s - loss: 4.1669 - acc: 0.18 - ETA: 36s - loss: 4.1685 - acc: 0.18 - ETA: 36s - loss: 4.1703 - acc: 0.18 - ETA: 36s - loss: 4.1704 - acc: 0.18 - ETA: 36s - loss: 4.1705 - acc: 0.18 - ETA: 35s - loss: 4.1723 - acc: 0.18 - ETA: 35s - loss: 4.1713 - acc: 0.18 - ETA: 35s - loss: 4.1699 - acc: 0.18 - ETA: 35s - loss: 4.1696 - acc: 0.18 - ETA: 34s - loss: 4.1710 - acc: 0.18 - ETA: 34s - loss: 4.1706 - acc: 0.18 - ETA: 34s - loss: 4.1703 - acc: 0.18 - ETA: 34s - loss: 4.1726 - acc: 0.17 - ETA: 34s - loss: 4.1737 - acc: 0.17 - ETA: 33s - loss: 4.1769 - acc: 0.17 - ETA: 33s - loss: 4.1778 - acc: 0.17 - ETA: 33s - loss: 4.1763 - acc: 0.17 - ETA: 33s - loss: 4.1746 - acc: 0.18 - ETA: 32s - loss: 4.1757 - acc: 0.18 - ETA: 32s - loss: 4.1744 - acc: 0.18 - ETA: 32s - loss: 4.1714 - acc: 0.18 - ETA: 32s - loss: 4.1714 - acc: 0.18 - ETA: 32s - loss: 4.1705 - acc: 0.18 - ETA: 31s - loss: 4.1700 - acc: 0.18 - ETA: 31s - loss: 4.1698 - acc: 0.18 - ETA: 31s - loss: 4.1761 - acc: 0.18 - ETA: 31s - loss: 4.1750 - acc: 0.18 - ETA: 30s - loss: 4.1771 - acc: 0.18 - ETA: 30s - loss: 4.1806 - acc: 0.17 - ETA: 30s - loss: 4.1820 - acc: 0.17 - ETA: 30s - loss: 4.1819 - acc: 0.17 - ETA: 29s - loss: 4.1816 - acc: 0.17 - ETA: 29s - loss: 4.1794 - acc: 0.18 - ETA: 29s - loss: 4.1811 - acc: 0.18 - ETA: 29s - loss: 4.1821 - acc: 0.18 - ETA: 29s - loss: 4.1848 - acc: 0.17 - ETA: 28s - loss: 4.1836 - acc: 0.18 - ETA: 28s - loss: 4.1845 - acc: 0.18 - ETA: 28s - loss: 4.1860 - acc: 0.18 - ETA: 28s - loss: 4.1869 - acc: 0.18 - ETA: 27s - loss: 4.1862 - acc: 0.18 - ETA: 27s - loss: 4.1868 - acc: 0.18 - ETA: 27s - loss: 4.1878 - acc: 0.17 - ETA: 27s - loss: 4.1894 - acc: 0.17 - ETA: 27s - loss: 4.1911 - acc: 0.17 - ETA: 26s - loss: 4.1929 - acc: 0.17 - ETA: 26s - loss: 4.1928 - acc: 0.17 - ETA: 26s - loss: 4.1927 - acc: 0.17 - ETA: 26s - loss: 4.1921 - acc: 0.17 - ETA: 26s - loss: 4.1903 - acc: 0.18 - ETA: 25s - loss: 4.1890 - acc: 0.18 - ETA: 25s - loss: 4.1891 - acc: 0.18 - ETA: 25s - loss: 4.1910 - acc: 0.18 - ETA: 25s - loss: 4.1935 - acc: 0.18 - ETA: 24s - loss: 4.1947 - acc: 0.18 - ETA: 24s - loss: 4.1954 - acc: 0.17 - ETA: 24s - loss: 4.1957 - acc: 0.17 - ETA: 24s - loss: 4.1936 - acc: 0.18 - ETA: 24s - loss: 4.1960 - acc: 0.17 - ETA: 23s - loss: 4.1943 - acc: 0.17 - ETA: 23s - loss: 4.1951 - acc: 0.17 - ETA: 23s - loss: 4.1958 - acc: 0.17 - ETA: 23s - loss: 4.1937 - acc: 0.17 - ETA: 22s - loss: 4.1945 - acc: 0.17 - ETA: 22s - loss: 4.1937 - acc: 0.17 - ETA: 22s - loss: 4.1964 - acc: 0.17 - ETA: 22s - loss: 4.1956 - acc: 0.17 - ETA: 21s - loss: 4.1972 - acc: 0.17 - ETA: 21s - loss: 4.1967 - acc: 0.17 - ETA: 21s - loss: 4.1971 - acc: 0.17 - ETA: 21s - loss: 4.1968 - acc: 0.17 - ETA: 20s - loss: 4.1940 - acc: 0.18 - ETA: 20s - loss: 4.1963 - acc: 0.17 - ETA: 20s - loss: 4.1934 - acc: 0.18 - ETA: 20s - loss: 4.1928 - acc: 0.18 - ETA: 19s - loss: 4.1933 - acc: 0.18 - ETA: 19s - loss: 4.1934 - acc: 0.18 - ETA: 19s - loss: 4.1922 - acc: 0.18 - ETA: 19s - loss: 4.1909 - acc: 0.18 - ETA: 19s - loss: 4.1916 - acc: 0.18 - ETA: 18s - loss: 4.1919 - acc: 0.18 - ETA: 18s - loss: 4.1943 - acc: 0.18 - ETA: 18s - loss: 4.1964 - acc: 0.18 - ETA: 18s - loss: 4.1957 - acc: 0.18 - ETA: 17s - loss: 4.1975 - acc: 0.18 - ETA: 17s - loss: 4.1985 - acc: 0.18 - ETA: 17s - loss: 4.1999 - acc: 0.17 - ETA: 17s - loss: 4.2008 - acc: 0.17 - ETA: 16s - loss: 4.2024 - acc: 0.17 - ETA: 16s - loss: 4.2027 - acc: 0.17 - ETA: 16s - loss: 4.2030 - acc: 0.17 - ETA: 16s - loss: 4.2042 - acc: 0.17 - ETA: 15s - loss: 4.2035 - acc: 0.17 - ETA: 15s - loss: 4.2058 - acc: 0.17 - ETA: 15s - loss: 4.2047 - acc: 0.17 - ETA: 15s - loss: 4.2054 - acc: 0.17 - ETA: 15s - loss: 4.2057 - acc: 0.17 - ETA: 14s - loss: 4.2066 - acc: 0.17 - ETA: 14s - loss: 4.2072 - acc: 0.17 - ETA: 14s - loss: 4.2086 - acc: 0.17 - ETA: 14s - loss: 4.2096 - acc: 0.17 - ETA: 13s - loss: 4.2097 - acc: 0.17 - ETA: 13s - loss: 4.2107 - acc: 0.17 - ETA: 13s - loss: 4.2118 - acc: 0.17 - ETA: 13s - loss: 4.2135 - acc: 0.17 - ETA: 12s - loss: 4.2133 - acc: 0.17 - ETA: 12s - loss: 4.2136 - acc: 0.17 - ETA: 12s - loss: 4.2129 - acc: 0.17 - ETA: 12s - loss: 4.2150 - acc: 0.17 - ETA: 12s - loss: 4.2150 - acc: 0.17 - ETA: 11s - loss: 4.2135 - acc: 0.17 - ETA: 11s - loss: 4.2136 - acc: 0.17 - ETA: 11s - loss: 4.2141 - acc: 0.17 - ETA: 11s - loss: 4.2147 - acc: 0.17 - ETA: 10s - loss: 4.2159 - acc: 0.17 - ETA: 10s - loss: 4.2173 - acc: 0.17 - ETA: 10s - loss: 4.2179 - acc: 0.17 - ETA: 10s - loss: 4.2198 - acc: 0.17 - ETA: 10s - loss: 4.2216 - acc: 0.17 - ETA: 9s - loss: 4.2209 - acc: 0.1783 - ETA: 9s - loss: 4.2219 - acc: 0.178 - ETA: 9s - loss: 4.2209 - acc: 0.178 - ETA: 9s - loss: 4.2211 - acc: 0.178 - ETA: 8s - loss: 4.2210 - acc: 0.178 - ETA: 8s - loss: 4.2211 - acc: 0.178 - ETA: 8s - loss: 4.2223 - acc: 0.178 - ETA: 8s - loss: 4.2246 - acc: 0.177 - ETA: 7s - loss: 4.2247 - acc: 0.177 - ETA: 7s - loss: 4.2242 - acc: 0.178 - ETA: 7s - loss: 4.2255 - acc: 0.178 - ETA: 7s - loss: 4.2281 - acc: 0.177 - ETA: 7s - loss: 4.2300 - acc: 0.177 - ETA: 6s - loss: 4.2298 - acc: 0.177 - ETA: 6s - loss: 4.2307 - acc: 0.177 - ETA: 6s - loss: 4.2312 - acc: 0.177 - ETA: 6s - loss: 4.2330 - acc: 0.177 - ETA: 5s - loss: 4.2332 - acc: 0.177 - ETA: 5s - loss: 4.2329 - acc: 0.178 - ETA: 5s - loss: 4.2351 - acc: 0.1780"
     ]
    },
    {
     "name": "stdout",
     "output_type": "stream",
     "text": [
      "30742/30742 [==============================] - ETA: 5s - loss: 4.2339 - acc: 0.178 - ETA: 5s - loss: 4.2340 - acc: 0.178 - ETA: 4s - loss: 4.2334 - acc: 0.178 - ETA: 4s - loss: 4.2335 - acc: 0.178 - ETA: 4s - loss: 4.2345 - acc: 0.178 - ETA: 4s - loss: 4.2352 - acc: 0.178 - ETA: 3s - loss: 4.2360 - acc: 0.178 - ETA: 3s - loss: 4.2375 - acc: 0.178 - ETA: 3s - loss: 4.2375 - acc: 0.178 - ETA: 3s - loss: 4.2375 - acc: 0.178 - ETA: 3s - loss: 4.2374 - acc: 0.178 - ETA: 2s - loss: 4.2365 - acc: 0.178 - ETA: 2s - loss: 4.2361 - acc: 0.178 - ETA: 2s - loss: 4.2374 - acc: 0.178 - ETA: 2s - loss: 4.2384 - acc: 0.178 - ETA: 2s - loss: 4.2383 - acc: 0.178 - ETA: 1s - loss: 4.2385 - acc: 0.178 - ETA: 1s - loss: 4.2375 - acc: 0.178 - ETA: 1s - loss: 4.2386 - acc: 0.178 - ETA: 1s - loss: 4.2378 - acc: 0.178 - ETA: 0s - loss: 4.2378 - acc: 0.178 - ETA: 0s - loss: 4.2394 - acc: 0.178 - ETA: 0s - loss: 4.2385 - acc: 0.178 - ETA: 0s - loss: 4.2393 - acc: 0.178 - ETA: 0s - loss: 4.2388 - acc: 0.178 - 52s 2ms/step - loss: 4.2388 - acc: 0.1784\n",
      "Epoch 30/30\n"
     ]
    },
    {
     "name": "stdout",
     "output_type": "stream",
     "text": [
      "27520/30742 [=========================>....] - ETA: 43s - loss: 4.3152 - acc: 0.15 - ETA: 44s - loss: 4.2327 - acc: 0.17 - ETA: 45s - loss: 4.0816 - acc: 0.17 - ETA: 45s - loss: 4.1321 - acc: 0.16 - ETA: 45s - loss: 4.1013 - acc: 0.17 - ETA: 45s - loss: 4.0625 - acc: 0.17 - ETA: 45s - loss: 4.0760 - acc: 0.17 - ETA: 44s - loss: 4.0910 - acc: 0.17 - ETA: 44s - loss: 4.1007 - acc: 0.17 - ETA: 44s - loss: 4.1217 - acc: 0.17 - ETA: 45s - loss: 4.1316 - acc: 0.17 - ETA: 45s - loss: 4.1132 - acc: 0.18 - ETA: 46s - loss: 4.1098 - acc: 0.18 - ETA: 46s - loss: 4.1088 - acc: 0.18 - ETA: 46s - loss: 4.0907 - acc: 0.18 - ETA: 46s - loss: 4.0811 - acc: 0.18 - ETA: 46s - loss: 4.0735 - acc: 0.18 - ETA: 45s - loss: 4.0740 - acc: 0.18 - ETA: 45s - loss: 4.0778 - acc: 0.18 - ETA: 45s - loss: 4.0924 - acc: 0.18 - ETA: 45s - loss: 4.0845 - acc: 0.18 - ETA: 45s - loss: 4.0937 - acc: 0.18 - ETA: 44s - loss: 4.0977 - acc: 0.18 - ETA: 44s - loss: 4.0984 - acc: 0.18 - ETA: 44s - loss: 4.1036 - acc: 0.18 - ETA: 43s - loss: 4.0987 - acc: 0.18 - ETA: 43s - loss: 4.0984 - acc: 0.18 - ETA: 43s - loss: 4.0965 - acc: 0.18 - ETA: 43s - loss: 4.1009 - acc: 0.18 - ETA: 42s - loss: 4.1017 - acc: 0.18 - ETA: 42s - loss: 4.1076 - acc: 0.18 - ETA: 42s - loss: 4.1125 - acc: 0.18 - ETA: 42s - loss: 4.1140 - acc: 0.18 - ETA: 42s - loss: 4.1126 - acc: 0.18 - ETA: 41s - loss: 4.1147 - acc: 0.18 - ETA: 41s - loss: 4.1156 - acc: 0.18 - ETA: 41s - loss: 4.1131 - acc: 0.18 - ETA: 41s - loss: 4.1216 - acc: 0.18 - ETA: 40s - loss: 4.1168 - acc: 0.18 - ETA: 40s - loss: 4.1238 - acc: 0.18 - ETA: 40s - loss: 4.1242 - acc: 0.18 - ETA: 40s - loss: 4.1263 - acc: 0.18 - ETA: 40s - loss: 4.1270 - acc: 0.18 - ETA: 39s - loss: 4.1324 - acc: 0.18 - ETA: 39s - loss: 4.1397 - acc: 0.18 - ETA: 39s - loss: 4.1358 - acc: 0.18 - ETA: 39s - loss: 4.1379 - acc: 0.18 - ETA: 39s - loss: 4.1369 - acc: 0.18 - ETA: 38s - loss: 4.1372 - acc: 0.18 - ETA: 38s - loss: 4.1392 - acc: 0.18 - ETA: 38s - loss: 4.1422 - acc: 0.18 - ETA: 38s - loss: 4.1436 - acc: 0.18 - ETA: 37s - loss: 4.1380 - acc: 0.18 - ETA: 37s - loss: 4.1386 - acc: 0.18 - ETA: 37s - loss: 4.1327 - acc: 0.18 - ETA: 37s - loss: 4.1321 - acc: 0.18 - ETA: 37s - loss: 4.1346 - acc: 0.18 - ETA: 36s - loss: 4.1308 - acc: 0.18 - ETA: 36s - loss: 4.1338 - acc: 0.18 - ETA: 36s - loss: 4.1396 - acc: 0.18 - ETA: 36s - loss: 4.1379 - acc: 0.18 - ETA: 36s - loss: 4.1363 - acc: 0.18 - ETA: 35s - loss: 4.1377 - acc: 0.18 - ETA: 35s - loss: 4.1376 - acc: 0.18 - ETA: 35s - loss: 4.1406 - acc: 0.18 - ETA: 35s - loss: 4.1379 - acc: 0.17 - ETA: 35s - loss: 4.1364 - acc: 0.17 - ETA: 35s - loss: 4.1356 - acc: 0.17 - ETA: 34s - loss: 4.1395 - acc: 0.17 - ETA: 34s - loss: 4.1417 - acc: 0.17 - ETA: 34s - loss: 4.1399 - acc: 0.18 - ETA: 34s - loss: 4.1436 - acc: 0.17 - ETA: 34s - loss: 4.1445 - acc: 0.17 - ETA: 34s - loss: 4.1431 - acc: 0.18 - ETA: 34s - loss: 4.1409 - acc: 0.18 - ETA: 33s - loss: 4.1411 - acc: 0.18 - ETA: 33s - loss: 4.1423 - acc: 0.18 - ETA: 33s - loss: 4.1443 - acc: 0.18 - ETA: 33s - loss: 4.1452 - acc: 0.18 - ETA: 33s - loss: 4.1451 - acc: 0.18 - ETA: 33s - loss: 4.1445 - acc: 0.18 - ETA: 32s - loss: 4.1447 - acc: 0.18 - ETA: 32s - loss: 4.1474 - acc: 0.18 - ETA: 32s - loss: 4.1473 - acc: 0.18 - ETA: 32s - loss: 4.1443 - acc: 0.18 - ETA: 32s - loss: 4.1438 - acc: 0.18 - ETA: 31s - loss: 4.1433 - acc: 0.18 - ETA: 31s - loss: 4.1469 - acc: 0.18 - ETA: 31s - loss: 4.1409 - acc: 0.18 - ETA: 31s - loss: 4.1418 - acc: 0.18 - ETA: 31s - loss: 4.1427 - acc: 0.18 - ETA: 31s - loss: 4.1427 - acc: 0.18 - ETA: 30s - loss: 4.1441 - acc: 0.18 - ETA: 30s - loss: 4.1450 - acc: 0.18 - ETA: 30s - loss: 4.1421 - acc: 0.18 - ETA: 30s - loss: 4.1445 - acc: 0.18 - ETA: 30s - loss: 4.1424 - acc: 0.18 - ETA: 30s - loss: 4.1426 - acc: 0.18 - ETA: 29s - loss: 4.1391 - acc: 0.18 - ETA: 29s - loss: 4.1406 - acc: 0.18 - ETA: 29s - loss: 4.1401 - acc: 0.18 - ETA: 29s - loss: 4.1411 - acc: 0.18 - ETA: 29s - loss: 4.1404 - acc: 0.18 - ETA: 29s - loss: 4.1423 - acc: 0.18 - ETA: 28s - loss: 4.1456 - acc: 0.18 - ETA: 28s - loss: 4.1429 - acc: 0.18 - ETA: 28s - loss: 4.1418 - acc: 0.18 - ETA: 28s - loss: 4.1416 - acc: 0.18 - ETA: 28s - loss: 4.1402 - acc: 0.18 - ETA: 27s - loss: 4.1400 - acc: 0.18 - ETA: 27s - loss: 4.1397 - acc: 0.18 - ETA: 27s - loss: 4.1390 - acc: 0.18 - ETA: 27s - loss: 4.1382 - acc: 0.18 - ETA: 26s - loss: 4.1406 - acc: 0.18 - ETA: 26s - loss: 4.1413 - acc: 0.18 - ETA: 26s - loss: 4.1405 - acc: 0.18 - ETA: 26s - loss: 4.1414 - acc: 0.18 - ETA: 26s - loss: 4.1435 - acc: 0.18 - ETA: 25s - loss: 4.1418 - acc: 0.18 - ETA: 25s - loss: 4.1432 - acc: 0.18 - ETA: 25s - loss: 4.1420 - acc: 0.18 - ETA: 25s - loss: 4.1419 - acc: 0.18 - ETA: 25s - loss: 4.1411 - acc: 0.18 - ETA: 24s - loss: 4.1428 - acc: 0.18 - ETA: 24s - loss: 4.1424 - acc: 0.18 - ETA: 24s - loss: 4.1443 - acc: 0.18 - ETA: 24s - loss: 4.1456 - acc: 0.18 - ETA: 24s - loss: 4.1460 - acc: 0.18 - ETA: 23s - loss: 4.1479 - acc: 0.18 - ETA: 23s - loss: 4.1464 - acc: 0.18 - ETA: 23s - loss: 4.1481 - acc: 0.18 - ETA: 23s - loss: 4.1466 - acc: 0.18 - ETA: 23s - loss: 4.1485 - acc: 0.18 - ETA: 22s - loss: 4.1489 - acc: 0.18 - ETA: 22s - loss: 4.1504 - acc: 0.18 - ETA: 22s - loss: 4.1516 - acc: 0.18 - ETA: 22s - loss: 4.1536 - acc: 0.18 - ETA: 22s - loss: 4.1530 - acc: 0.18 - ETA: 21s - loss: 4.1542 - acc: 0.18 - ETA: 21s - loss: 4.1542 - acc: 0.18 - ETA: 21s - loss: 4.1566 - acc: 0.18 - ETA: 21s - loss: 4.1580 - acc: 0.18 - ETA: 21s - loss: 4.1606 - acc: 0.18 - ETA: 20s - loss: 4.1610 - acc: 0.18 - ETA: 20s - loss: 4.1629 - acc: 0.18 - ETA: 20s - loss: 4.1639 - acc: 0.18 - ETA: 20s - loss: 4.1633 - acc: 0.18 - ETA: 19s - loss: 4.1642 - acc: 0.18 - ETA: 19s - loss: 4.1629 - acc: 0.18 - ETA: 19s - loss: 4.1636 - acc: 0.18 - ETA: 19s - loss: 4.1638 - acc: 0.18 - ETA: 19s - loss: 4.1639 - acc: 0.18 - ETA: 18s - loss: 4.1645 - acc: 0.18 - ETA: 18s - loss: 4.1640 - acc: 0.18 - ETA: 18s - loss: 4.1632 - acc: 0.18 - ETA: 18s - loss: 4.1625 - acc: 0.18 - ETA: 18s - loss: 4.1633 - acc: 0.18 - ETA: 17s - loss: 4.1624 - acc: 0.18 - ETA: 17s - loss: 4.1613 - acc: 0.18 - ETA: 17s - loss: 4.1620 - acc: 0.18 - ETA: 17s - loss: 4.1616 - acc: 0.18 - ETA: 17s - loss: 4.1628 - acc: 0.18 - ETA: 16s - loss: 4.1622 - acc: 0.18 - ETA: 16s - loss: 4.1647 - acc: 0.18 - ETA: 16s - loss: 4.1648 - acc: 0.18 - ETA: 16s - loss: 4.1643 - acc: 0.18 - ETA: 15s - loss: 4.1629 - acc: 0.18 - ETA: 15s - loss: 4.1619 - acc: 0.18 - ETA: 15s - loss: 4.1634 - acc: 0.18 - ETA: 15s - loss: 4.1637 - acc: 0.18 - ETA: 15s - loss: 4.1623 - acc: 0.18 - ETA: 14s - loss: 4.1639 - acc: 0.18 - ETA: 14s - loss: 4.1650 - acc: 0.18 - ETA: 14s - loss: 4.1661 - acc: 0.18 - ETA: 14s - loss: 4.1678 - acc: 0.18 - ETA: 14s - loss: 4.1669 - acc: 0.18 - ETA: 13s - loss: 4.1667 - acc: 0.18 - ETA: 13s - loss: 4.1676 - acc: 0.18 - ETA: 13s - loss: 4.1691 - acc: 0.18 - ETA: 13s - loss: 4.1692 - acc: 0.18 - ETA: 13s - loss: 4.1703 - acc: 0.18 - ETA: 12s - loss: 4.1710 - acc: 0.18 - ETA: 12s - loss: 4.1714 - acc: 0.18 - ETA: 12s - loss: 4.1722 - acc: 0.18 - ETA: 12s - loss: 4.1715 - acc: 0.18 - ETA: 11s - loss: 4.1731 - acc: 0.18 - ETA: 11s - loss: 4.1746 - acc: 0.18 - ETA: 11s - loss: 4.1754 - acc: 0.18 - ETA: 11s - loss: 4.1755 - acc: 0.18 - ETA: 11s - loss: 4.1757 - acc: 0.18 - ETA: 10s - loss: 4.1761 - acc: 0.18 - ETA: 10s - loss: 4.1764 - acc: 0.18 - ETA: 10s - loss: 4.1763 - acc: 0.18 - ETA: 10s - loss: 4.1769 - acc: 0.18 - ETA: 10s - loss: 4.1757 - acc: 0.18 - ETA: 9s - loss: 4.1745 - acc: 0.1811 - ETA: 9s - loss: 4.1750 - acc: 0.181 - ETA: 9s - loss: 4.1759 - acc: 0.181 - ETA: 9s - loss: 4.1778 - acc: 0.181 - ETA: 8s - loss: 4.1780 - acc: 0.181 - ETA: 8s - loss: 4.1783 - acc: 0.181 - ETA: 8s - loss: 4.1787 - acc: 0.180 - ETA: 8s - loss: 4.1775 - acc: 0.181 - ETA: 8s - loss: 4.1790 - acc: 0.181 - ETA: 7s - loss: 4.1807 - acc: 0.180 - ETA: 7s - loss: 4.1807 - acc: 0.180 - ETA: 7s - loss: 4.1819 - acc: 0.180 - ETA: 7s - loss: 4.1820 - acc: 0.180 - ETA: 6s - loss: 4.1809 - acc: 0.181 - ETA: 6s - loss: 4.1813 - acc: 0.181 - ETA: 6s - loss: 4.1827 - acc: 0.181 - ETA: 6s - loss: 4.1833 - acc: 0.181 - ETA: 6s - loss: 4.1836 - acc: 0.180 - ETA: 5s - loss: 4.1832 - acc: 0.180 - ETA: 5s - loss: 4.1826 - acc: 0.1810"
     ]
    },
    {
     "name": "stdout",
     "output_type": "stream",
     "text": [
      "30742/30742 [==============================] - ETA: 5s - loss: 4.1840 - acc: 0.181 - ETA: 5s - loss: 4.1832 - acc: 0.181 - ETA: 4s - loss: 4.1826 - acc: 0.181 - ETA: 4s - loss: 4.1827 - acc: 0.181 - ETA: 4s - loss: 4.1857 - acc: 0.181 - ETA: 4s - loss: 4.1862 - acc: 0.180 - ETA: 4s - loss: 4.1851 - acc: 0.181 - ETA: 3s - loss: 4.1848 - acc: 0.180 - ETA: 3s - loss: 4.1855 - acc: 0.180 - ETA: 3s - loss: 4.1857 - acc: 0.180 - ETA: 3s - loss: 4.1864 - acc: 0.180 - ETA: 2s - loss: 4.1874 - acc: 0.180 - ETA: 2s - loss: 4.1880 - acc: 0.180 - ETA: 2s - loss: 4.1879 - acc: 0.180 - ETA: 2s - loss: 4.1884 - acc: 0.180 - ETA: 2s - loss: 4.1869 - acc: 0.180 - ETA: 1s - loss: 4.1874 - acc: 0.180 - ETA: 1s - loss: 4.1875 - acc: 0.180 - ETA: 1s - loss: 4.1878 - acc: 0.180 - ETA: 1s - loss: 4.1886 - acc: 0.180 - ETA: 0s - loss: 4.1897 - acc: 0.180 - ETA: 0s - loss: 4.1903 - acc: 0.180 - ETA: 0s - loss: 4.1904 - acc: 0.180 - ETA: 0s - loss: 4.1914 - acc: 0.180 - ETA: 0s - loss: 4.1927 - acc: 0.180 - 54s 2ms/step - loss: 4.1925 - acc: 0.1801\n"
     ]
    },
    {
     "data": {
      "text/plain": [
       "<keras.callbacks.History at 0x12f07a8f3c8>"
      ]
     },
     "execution_count": 69,
     "metadata": {},
     "output_type": "execute_result"
    }
   ],
   "source": [
    "# define model\n",
    "model = create_model(vocabulary_size+1, seq_len)\n",
    "# fit model\n",
    "model.fit(X, y, batch_size=128, epochs=30,verbose=1)\n"
   ]
  },
  {
   "cell_type": "code",
   "execution_count": 70,
   "metadata": {},
   "outputs": [],
   "source": [
    "# save the model to file\n",
    "model.save('epoch30.h5')\n",
    "# save the tokenizer\n",
    "dump(tokenizer, open('epoch30', 'wb'))"
   ]
  },
  {
   "cell_type": "code",
   "execution_count": null,
   "metadata": {},
   "outputs": [],
   "source": []
  },
  {
   "cell_type": "code",
   "execution_count": 71,
   "metadata": {},
   "outputs": [],
   "source": [
    "from random import randint\n",
    "from pickle import load\n",
    "from keras.models import load_model\n",
    "from keras.preprocessing.sequence import pad_sequences"
   ]
  },
  {
   "cell_type": "code",
   "execution_count": 72,
   "metadata": {},
   "outputs": [],
   "source": [
    "def generate_text(model, tokenizer, seq_len, seed_text, num_gen_words):\n",
    "    '''\n",
    "    INPUTS:\n",
    "    model : model that was trained on text data\n",
    "    tokenizer : tokenizer that was fit on text data\n",
    "    seq_len : length of training sequence\n",
    "    seed_text : raw string text to serve as the seed\n",
    "    num_gen_words : number of words to be generated by model\n",
    "    '''\n",
    "    \n",
    "    # Final Output\n",
    "    output_text = []\n",
    "    \n",
    "    # Intial Seed Sequence\n",
    "    input_text = seed_text\n",
    "    \n",
    "    # Create num_gen_words\n",
    "    for i in range(num_gen_words):\n",
    "        \n",
    "        # Take the input text string and encode it to a sequence\n",
    "        encoded_text = tokenizer.texts_to_sequences([input_text])[0]\n",
    "        \n",
    "        # Pad sequences to our trained rate (50 words in the video)\n",
    "        pad_encoded = pad_sequences([encoded_text], maxlen=seq_len, truncating='pre')\n",
    "        \n",
    "        # Predict Class Probabilities for each word\n",
    "        pred_word_ind = model.predict_classes(pad_encoded, verbose=0)[0]\n",
    "        \n",
    "        # Grab word\n",
    "        pred_word = tokenizer.index_word[pred_word_ind] \n",
    "        \n",
    "        # Update the sequence of input text (shifting one over with the new word)\n",
    "        input_text += ' ' + pred_word\n",
    "        \n",
    "        output_text.append(pred_word)\n",
    "        \n",
    "    # Make it look like a sentence.\n",
    "    return ' '.join(output_text)"
   ]
  },
  {
   "cell_type": "code",
   "execution_count": 73,
   "metadata": {},
   "outputs": [],
   "source": [
    "import random\n",
    "random.seed(102)\n",
    "random_pick = random.randint(0,len(text_sequences))\n",
    "random_seed_text = text_sequences[random_pick]\n",
    "seed_text = ' '.join(random_seed_text)"
   ]
  },
  {
   "cell_type": "code",
   "execution_count": 74,
   "metadata": {},
   "outputs": [
    {
     "data": {
      "text/plain": [
       "'and a great deal of which the very old gentleman and the very deal of which was a great deal of which was a great deal of which was a'"
      ]
     },
     "execution_count": 74,
     "metadata": {},
     "output_type": "execute_result"
    }
   ],
   "source": [
    "generate_text(model,tokenizer,seq_len,seed_text=seed_text,num_gen_words=30)"
   ]
  },
  {
   "cell_type": "code",
   "execution_count": null,
   "metadata": {},
   "outputs": [],
   "source": []
  },
  {
   "cell_type": "code",
   "execution_count": null,
   "metadata": {},
   "outputs": [],
   "source": []
  }
 ],
 "metadata": {
  "kernelspec": {
   "display_name": "Python 3",
   "language": "python",
   "name": "python3"
  },
  "language_info": {
   "codemirror_mode": {
    "name": "ipython",
    "version": 3
   },
   "file_extension": ".py",
   "mimetype": "text/x-python",
   "name": "python",
   "nbconvert_exporter": "python",
   "pygments_lexer": "ipython3",
   "version": "3.7.4"
  }
 },
 "nbformat": 4,
 "nbformat_minor": 2
}
