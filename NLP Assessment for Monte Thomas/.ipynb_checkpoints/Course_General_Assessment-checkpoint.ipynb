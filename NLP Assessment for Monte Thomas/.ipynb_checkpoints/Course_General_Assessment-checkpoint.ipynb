{
 "cells": [
  {
   "cell_type": "markdown",
   "metadata": {},
   "source": [
    "# ASSESSMENT\n",
    "    Data: 1. articles.csv - contains 1000 articles that cuta cross      various fields\n",
    "    Data: 2. google-phd-program.txt - a short article on google's proposed new PhD program.\n",
    "    Data: 3. comment.txt - A comment to google article.\n",
    "    \n",
    "    Data: 4. oliver-twist-0-9.txt - Chapters 1-9 of the charles dickens popular book Oliver Twist\n",
    "    \n",
    "    \n",
    "    Instruction: Read the command in each cell and write code to give the same output "
   ]
  },
  {
   "cell_type": "markdown",
   "metadata": {},
   "source": [
    "# A) Regular Expressions"
   ]
  },
  {
   "cell_type": "code",
   "execution_count": 18,
   "metadata": {},
   "outputs": [],
   "source": [
    "# Import standrad libraries to injest the CSV file and read in the CSV file\n",
    "import pandas as pd\n"
   ]
  },
  {
   "cell_type": "code",
   "execution_count": 19,
   "metadata": {},
   "outputs": [
    {
     "data": {
      "text/html": [
       "<div>\n",
       "<style scoped>\n",
       "    .dataframe tbody tr th:only-of-type {\n",
       "        vertical-align: middle;\n",
       "    }\n",
       "\n",
       "    .dataframe tbody tr th {\n",
       "        vertical-align: top;\n",
       "    }\n",
       "\n",
       "    .dataframe thead th {\n",
       "        text-align: right;\n",
       "    }\n",
       "</style>\n",
       "<table border=\"1\" class=\"dataframe\">\n",
       "  <thead>\n",
       "    <tr style=\"text-align: right;\">\n",
       "      <th></th>\n",
       "      <th>id</th>\n",
       "      <th>articles</th>\n",
       "    </tr>\n",
       "  </thead>\n",
       "  <tbody>\n",
       "    <tr>\n",
       "      <th>0</th>\n",
       "      <td>1</td>\n",
       "      <td>What does it mean to be successful? Perhaps, o...</td>\n",
       "    </tr>\n",
       "    <tr>\n",
       "      <th>1</th>\n",
       "      <td>2</td>\n",
       "      <td>Much has been made of Africa&amp;rsquo;s unfavorab...</td>\n",
       "    </tr>\n",
       "    <tr>\n",
       "      <th>2</th>\n",
       "      <td>3</td>\n",
       "      <td>A few days after a Damaris Wambui Kamau and he...</td>\n",
       "    </tr>\n",
       "    <tr>\n",
       "      <th>3</th>\n",
       "      <td>4</td>\n",
       "      <td>\\n\\n\\n\\nJust a few hours after their release o...</td>\n",
       "    </tr>\n",
       "    <tr>\n",
       "      <th>4</th>\n",
       "      <td>5</td>\n",
       "      <td>IPOA is investigating the murder of four peopl...</td>\n",
       "    </tr>\n",
       "  </tbody>\n",
       "</table>\n",
       "</div>"
      ],
      "text/plain": [
       "   id                                           articles\n",
       "0   1  What does it mean to be successful? Perhaps, o...\n",
       "1   2  Much has been made of Africa&rsquo;s unfavorab...\n",
       "2   3  A few days after a Damaris Wambui Kamau and he...\n",
       "3   4  \\n\\n\\n\\nJust a few hours after their release o...\n",
       "4   5  IPOA is investigating the murder of four peopl..."
      ]
     },
     "execution_count": 19,
     "metadata": {},
     "output_type": "execute_result"
    }
   ],
   "source": [
    "#View the data\n",
    "df = pd.read_csv('articles.csv')\n",
    "df.head()"
   ]
  },
  {
   "cell_type": "code",
   "execution_count": null,
   "metadata": {},
   "outputs": [],
   "source": []
  },
  {
   "cell_type": "code",
   "execution_count": 20,
   "metadata": {},
   "outputs": [],
   "source": [
    "# Count the email addresses contained in entire dataset"
   ]
  },
  {
   "cell_type": "code",
   "execution_count": 21,
   "metadata": {},
   "outputs": [
    {
     "ename": "TypeError",
     "evalue": "expected string or bytes-like object",
     "output_type": "error",
     "traceback": [
      "\u001b[1;31m---------------------------------------------------------------------------\u001b[0m",
      "\u001b[1;31mTypeError\u001b[0m                                 Traceback (most recent call last)",
      "\u001b[1;32m<ipython-input-21-a5fb04ef2967>\u001b[0m in \u001b[0;36m<module>\u001b[1;34m\u001b[0m\n\u001b[0;32m      7\u001b[0m \u001b[0mpattern\u001b[0m \u001b[1;33m=\u001b[0m \u001b[1;34mr'[\\w\\.-]+@[\\w\\.-]+'\u001b[0m\u001b[1;33m\u001b[0m\u001b[1;33m\u001b[0m\u001b[0m\n\u001b[0;32m      8\u001b[0m \u001b[1;33m\u001b[0m\u001b[0m\n\u001b[1;32m----> 9\u001b[1;33m \u001b[0memail_addresses\u001b[0m \u001b[1;33m=\u001b[0m \u001b[0mre\u001b[0m\u001b[1;33m.\u001b[0m\u001b[0mfindall\u001b[0m\u001b[1;33m(\u001b[0m\u001b[0mpattern\u001b[0m\u001b[1;33m,\u001b[0m \u001b[0mdf\u001b[0m\u001b[1;33m[\u001b[0m\u001b[1;34m'articles'\u001b[0m\u001b[1;33m]\u001b[0m\u001b[1;33m)\u001b[0m\u001b[1;33m\u001b[0m\u001b[1;33m\u001b[0m\u001b[0m\n\u001b[0m\u001b[0;32m     10\u001b[0m \u001b[1;33m\u001b[0m\u001b[0m\n\u001b[0;32m     11\u001b[0m \u001b[1;33m\u001b[0m\u001b[0m\n",
      "\u001b[1;32m~\\Anaconda3\\lib\\re.py\u001b[0m in \u001b[0;36mfindall\u001b[1;34m(pattern, string, flags)\u001b[0m\n\u001b[0;32m    221\u001b[0m \u001b[1;33m\u001b[0m\u001b[0m\n\u001b[0;32m    222\u001b[0m     Empty matches are included in the result.\"\"\"\n\u001b[1;32m--> 223\u001b[1;33m     \u001b[1;32mreturn\u001b[0m \u001b[0m_compile\u001b[0m\u001b[1;33m(\u001b[0m\u001b[0mpattern\u001b[0m\u001b[1;33m,\u001b[0m \u001b[0mflags\u001b[0m\u001b[1;33m)\u001b[0m\u001b[1;33m.\u001b[0m\u001b[0mfindall\u001b[0m\u001b[1;33m(\u001b[0m\u001b[0mstring\u001b[0m\u001b[1;33m)\u001b[0m\u001b[1;33m\u001b[0m\u001b[1;33m\u001b[0m\u001b[0m\n\u001b[0m\u001b[0;32m    224\u001b[0m \u001b[1;33m\u001b[0m\u001b[0m\n\u001b[0;32m    225\u001b[0m \u001b[1;32mdef\u001b[0m \u001b[0mfinditer\u001b[0m\u001b[1;33m(\u001b[0m\u001b[0mpattern\u001b[0m\u001b[1;33m,\u001b[0m \u001b[0mstring\u001b[0m\u001b[1;33m,\u001b[0m \u001b[0mflags\u001b[0m\u001b[1;33m=\u001b[0m\u001b[1;36m0\u001b[0m\u001b[1;33m)\u001b[0m\u001b[1;33m:\u001b[0m\u001b[1;33m\u001b[0m\u001b[1;33m\u001b[0m\u001b[0m\n",
      "\u001b[1;31mTypeError\u001b[0m: expected string or bytes-like object"
     ]
    }
   ],
   "source": [
    "# import standard package\n",
    "import re \n",
    "\n",
    "# Enter your regex pattern here. This may take several tries!\n",
    "\n",
    "#pattern = r'\\w+@\\w+.\\w{3}'\n",
    "pattern = r'[\\w\\.-]+@[\\w\\.-]+'\n",
    "\n",
    "email_addresses = re.findall(pattern, df['articles'])\n",
    "\n",
    "\n",
    "\n",
    "#print(count)\n",
    "print(email_addresses)"
   ]
  },
  {
   "cell_type": "code",
   "execution_count": 22,
   "metadata": {
    "scrolled": true
   },
   "outputs": [],
   "source": [
    "# import standard package\n",
    "import re \n",
    "\n",
    "# Enter your regex pattern here. This may take several tries!\n",
    "\n",
    "\n",
    "\n",
    "\n",
    "\n",
    "#print(count)"
   ]
  },
  {
   "cell_type": "markdown",
   "metadata": {},
   "source": [
    "# NLP Basics"
   ]
  },
  {
   "cell_type": "code",
   "execution_count": 23,
   "metadata": {},
   "outputs": [],
   "source": [
    "# Run this cell to perform standard imports\n",
    "import spacy\n",
    "nlp = spacy.load('en_core_web_lg')"
   ]
  },
  {
   "cell_type": "code",
   "execution_count": 24,
   "metadata": {},
   "outputs": [
    {
     "data": {
      "text/plain": [
       "In a move that is completely unsurprising to many, Google’s AI research division has announced that they are issuing PhD degrees to select employees.\n",
       "Industry research organizations like Google Brain, DeepMind, and FAIR are well known as heavy hitters in the artificial intelligence research community, publishing as many papers (if not more) as academic institutions like Stanford, Berkeley, and MIT. Many top professors from academia have migrated over to industry research labs as well, sacrificing the security of academic tenure for fat stacks of money. Although Google has previously experimented with research residencies, this is the first time that they have issued postgraduate degrees.\n",
       "According to a representative, the tech giant decided to issue PhDs in order to attract scarce AI talent. “It’s extremely difficult to find people with talent in Machine Learning and Artificial Intelligence these days, and it pained us to see so many of our amazing interns decline our return offers to go back to school for PhDs. With the Google PhD program, we can continue to get the best talent while supporting our student-employees with world class resources and technology.”\n",
       "For graduate students, the Google PhD program is a sweet deal. There is already a well-known pipeline where top graduate students do their PhDs at a university, intern at industry research groups during the summer, and then sign on full time after graduation with the promise of million-dollar compensation packages and the freedom to set their own research agendas.\n",
       "However, aspiring AI researchers must still struggle through the difficulties of academia: four to six years of low pay, begging for funding, and advisors who can be sadistic, micromanaging, or absent. In contrast, Google offers researchers massive computational resources and motivates their PhD advisors with a potent combination of vegan snacks, kombucha, and equity refreshers. Instead of receiving a boring paper diploma at the end of their PhDs, Google PhD graduates receive a priceless note handwritten by Jeff Dean on a napkin that says, “You have a PhD now.”\n",
       "Other tech companies are scrambling to build their own research groups so they are not left behind in the “AI revolution.” Halting Problem reached out to a representative from Salesforce AI Research who said, “What? Google is doing it? Well, guess we are too.”\n",
       "In the meantime, Google is already planning for the next way to find top AI talent. According to a knowledgeable source, Google is in talks with Khan Academy to create a “machine learning kindergarten” program that teaches children Tensorflow."
      ]
     },
     "execution_count": 24,
     "metadata": {},
     "output_type": "execute_result"
    }
   ],
   "source": [
    "# Create an article object from the 'google-phd-program.txt' file\n",
    "\n",
    "with open('google-phd-program.txt',encoding=\"utf8\") as f:\n",
    "    doc = nlp(f.read())\n",
    "\n",
    "#View some part of the opened doc\n",
    "doc"
   ]
  },
  {
   "cell_type": "code",
   "execution_count": 25,
   "metadata": {},
   "outputs": [
    {
     "data": {
      "text/plain": [
       "20"
      ]
     },
     "execution_count": 25,
     "metadata": {},
     "output_type": "execute_result"
    }
   ],
   "source": [
    "# How many sentences are conatined in the file\n",
    "\n",
    "sentences = [sent for sent in doc.sents]\n",
    "\n",
    "len(sentences)"
   ]
  },
  {
   "cell_type": "code",
   "execution_count": null,
   "metadata": {},
   "outputs": [],
   "source": []
  },
  {
   "cell_type": "code",
   "execution_count": 26,
   "metadata": {},
   "outputs": [
    {
     "data": {
      "text/plain": [
       "'Other tech companies are scrambling to build their own research groups so they are not left behind in the “AI revolution.”'"
      ]
     },
     "execution_count": 26,
     "metadata": {},
     "output_type": "execute_result"
    }
   ],
   "source": [
    "#This is the actual output from running the instruction on my end\n",
    "# Print out the FOURTEENTH sentence\n",
    "\n",
    "sentences[14].text"
   ]
  },
  {
   "cell_type": "code",
   "execution_count": 27,
   "metadata": {},
   "outputs": [
    {
     "name": "stdout",
     "output_type": "stream",
     "text": [
      "Other           ADJ   amod       other          \n",
      "tech            NOUN  compound   tech           \n",
      "companies       NOUN  nsubj      company        \n",
      "are             AUX   aux        be             \n",
      "scrambling      VERB  ROOT       scramble       \n",
      "to              PART  aux        to             \n",
      "build           VERB  xcomp      build          \n",
      "their           PRON  poss       -PRON-         \n",
      "own             ADJ   amod       own            \n",
      "research        NOUN  compound   research       \n",
      "groups          NOUN  dobj       group          \n",
      "so              SCONJ mark       so             \n",
      "they            PRON  nsubjpass  -PRON-         \n",
      "are             AUX   auxpass    be             \n",
      "not             PART  neg        not            \n",
      "left            VERB  advcl      leave          \n",
      "behind          ADV   prt        behind         \n",
      "in              ADP   prep       in             \n",
      "the             DET   det        the            \n",
      "“               PUNCT punct      \"              \n",
      "AI              PROPN compound   AI             \n",
      "revolution      NOUN  pobj       revolution     \n",
      ".               PUNCT punct      .              \n",
      "”               PUNCT punct      \"              \n"
     ]
    }
   ],
   "source": [
    "#Because of the skew in the previous cell. This is my output for the current problem\n",
    "# For each token in the sentence above, print its text, POS tag,\n",
    "# dep tag and lemma. \n",
    "#Have values line up in columns like in the print output.\n",
    "\n",
    "\n",
    "for token in sentences[14]:\n",
    "    print(f'{token.text:{15}} {token.pos_:{5}} {token.dep_:{10}} {token.lemma_:{15}}')"
   ]
  },
  {
   "cell_type": "code",
   "execution_count": null,
   "metadata": {},
   "outputs": [],
   "source": []
  },
  {
   "cell_type": "code",
   "execution_count": 28,
   "metadata": {},
   "outputs": [
    {
     "name": "stdout",
     "output_type": "stream",
     "text": [
      "Google Brain, DeepMind    ORG        Companies, agencies, institutions, etc.\n",
      "Stanford                  GPE        Countries, cities, states\n",
      "Berkeley                  GPE        Countries, cities, states\n",
      "MIT                       ORG        Companies, agencies, institutions, etc.\n"
     ]
    }
   ],
   "source": [
    "# Extract entites in the SECOND sentence\n",
    "second_sentence = sentences[1]\n",
    "\n",
    "def show_ents(doc):\n",
    "    if doc.ents:\n",
    "        for ent in doc.ents:\n",
    "            #print(ent.text + '  '+ent.label_ + '       ' + str(spacy.explain(ent.label_)))\n",
    "            print(f'{ent.text:{25}} {ent.label_:{10}} {str(spacy.explain(ent.label_))}')\n",
    "            \n",
    "    else:\n",
    "            print('No entities found')\n",
    "            \n",
    "show_ents(second_sentence)\n",
    "            "
   ]
  },
  {
   "cell_type": "code",
   "execution_count": null,
   "metadata": {},
   "outputs": [],
   "source": []
  },
  {
   "cell_type": "code",
   "execution_count": 29,
   "metadata": {},
   "outputs": [],
   "source": [
    "# Write a matcher called 'AI' that finds all occurrences\n",
    "# of the phrase \"Artificial Intelligence\" and word 'AI' in the article\n",
    "\n",
    "# First Run this standard import and call\n",
    "from spacy.matcher import Matcher\n",
    "matcher = Matcher(nlp.vocab)"
   ]
  },
  {
   "cell_type": "code",
   "execution_count": 30,
   "metadata": {},
   "outputs": [],
   "source": [
    "# Create the patterns and add it to matcher:\n",
    "\n",
    "pattern1 = [{'LOWER': 'artificial'}, {'IS_SPACE': True, 'OP':'*'}, {'LOWER': 'intelligence'}]\n",
    "pattern2 = [{'LOWER': 'ai'}]\n",
    "\n",
    "matcher.add('artificialintelligence', None, pattern1,pattern2)\n"
   ]
  },
  {
   "cell_type": "code",
   "execution_count": 31,
   "metadata": {},
   "outputs": [
    {
     "name": "stdout",
     "output_type": "stream",
     "text": [
      "[(556048528694107086, 12, 13), (556048528694107086, 47, 49), (556048528694107086, 138, 139), (556048528694107086, 155, 157), (556048528694107086, 285, 286), (556048528694107086, 408, 409), (556048528694107086, 421, 422), (556048528694107086, 458, 459)]\n"
     ]
    }
   ],
   "source": [
    "# Create a list of matches called \"found_matches\" and print the list:\n",
    "\n",
    "found_matches = matcher(doc)\n",
    "print(found_matches)"
   ]
  },
  {
   "cell_type": "code",
   "execution_count": null,
   "metadata": {},
   "outputs": [],
   "source": []
  },
  {
   "cell_type": "code",
   "execution_count": 32,
   "metadata": {},
   "outputs": [],
   "source": [
    "# Write a FUNCTION that takes in a index and prints the sentence\n",
    "#in which the match at that index is found\n",
    "\n",
    "def print_match_sent(index):\n",
    "    for sent in sentences:\n",
    "        if found_matches[index][1] < sent.end:    \n",
    "            return sent"
   ]
  },
  {
   "cell_type": "code",
   "execution_count": 33,
   "metadata": {
    "scrolled": true
   },
   "outputs": [
    {
     "data": {
      "text/plain": [
       "“It’s extremely difficult to find people with talent in Machine Learning and Artificial Intelligence these days, and it pained us to see so many of our amazing interns decline our return offers to go back to school for PhDs."
      ]
     },
     "execution_count": 33,
     "metadata": {},
     "output_type": "execute_result"
    }
   ],
   "source": [
    "# print the sentence where the FOURTH match is \n",
    "print_match_sent(3)"
   ]
  },
  {
   "cell_type": "code",
   "execution_count": 34,
   "metadata": {},
   "outputs": [
    {
     "data": {
      "text/plain": [
       "In the meantime, Google is already planning for the next way to find top AI talent."
      ]
     },
     "execution_count": 34,
     "metadata": {},
     "output_type": "execute_result"
    }
   ],
   "source": [
    "# print the sentence where the last match is \n",
    "print_match_sent(-1)\n"
   ]
  },
  {
   "cell_type": "markdown",
   "metadata": {},
   "source": [
    "## POS Tagging"
   ]
  },
  {
   "cell_type": "code",
   "execution_count": 35,
   "metadata": {},
   "outputs": [],
   "source": [
    "# RUN THIS CELL to perform standard imports:\n",
    "from spacy import displacy"
   ]
  },
  {
   "cell_type": "code",
   "execution_count": 36,
   "metadata": {},
   "outputs": [
    {
     "name": "stdout",
     "output_type": "stream",
     "text": [
      "84. ADJ  : 38\n",
      "85. ADP  : 48\n",
      "86. ADV  : 19\n",
      "87. AUX  : 23\n",
      "89. CCONJ: 11\n",
      "90. DET  : 30\n",
      "91. INTJ : 1\n",
      "92. NOUN : 110\n",
      "93. NUM  : 3\n",
      "94. PART : 15\n",
      "95. PRON : 26\n",
      "96. PROPN: 38\n",
      "97. PUNCT: 62\n",
      "98. SCONJ: 10\n",
      "100. VERB : 48\n",
      "103. SPACE: 6\n"
     ]
    }
   ],
   "source": [
    "# Provide a frequency list of POS tags from the entire article\n",
    "\n",
    "POS_counts = doc.count_by(spacy.attrs.POS)\n",
    "\n",
    "for k,v in sorted(POS_counts.items()):\n",
    "    print(f'{k}. {doc.vocab[k].text:{5}}: {v}')\n",
    "\n",
    "\n"
   ]
  },
  {
   "cell_type": "code",
   "execution_count": 37,
   "metadata": {},
   "outputs": [
    {
     "name": "stdout",
     "output_type": "stream",
     "text": [
      "110/488 = 22.54%\n"
     ]
    }
   ],
   "source": [
    "# What percentage of tokens are nouns?\n",
    "\n",
    "percent = 100*POS_counts[92]/len(doc)\n",
    "\n",
    "print(f'{POS_counts[92]}/{len(doc)} = {percent:{.4}}%')\n"
   ]
  },
  {
   "cell_type": "code",
   "execution_count": 38,
   "metadata": {},
   "outputs": [
    {
     "data": {
      "text/html": [
       "<div class=\"entities\" style=\"line-height: 2.5; direction: ltr\">In a move that is completely unsurprising to many, \n",
       "<mark class=\"entity\" style=\"background: #7aecec; padding: 0.45em 0.6em; margin: 0 0.25em; line-height: 1; border-radius: 0.35em; box-decoration-break: clone; -webkit-box-decoration-break: clone\">\n",
       "    Google\n",
       "    <span style=\"font-size: 0.8em; font-weight: bold; line-height: 1; border-radius: 0.35em; text-transform: uppercase; vertical-align: middle; margin-left: 0.5rem\">ORG</span>\n",
       "</mark>\n",
       "’s AI research division has announced that they are issuing \n",
       "<mark class=\"entity\" style=\"background: #f0d0ff; padding: 0.45em 0.6em; margin: 0 0.25em; line-height: 1; border-radius: 0.35em; box-decoration-break: clone; -webkit-box-decoration-break: clone\">\n",
       "    PhD\n",
       "    <span style=\"font-size: 0.8em; font-weight: bold; line-height: 1; border-radius: 0.35em; text-transform: uppercase; vertical-align: middle; margin-left: 0.5rem\">WORK_OF_ART</span>\n",
       "</mark>\n",
       " degrees to select employees.\n",
       "</div>"
      ],
      "text/plain": [
       "<IPython.core.display.HTML object>"
      ]
     },
     "metadata": {},
     "output_type": "display_data"
    },
    {
     "data": {
      "text/html": [
       "<div class=\"entities\" style=\"line-height: 2.5; direction: ltr\">Industry research organizations like \n",
       "<mark class=\"entity\" style=\"background: #7aecec; padding: 0.45em 0.6em; margin: 0 0.25em; line-height: 1; border-radius: 0.35em; box-decoration-break: clone; -webkit-box-decoration-break: clone\">\n",
       "    Google Brain, DeepMind\n",
       "    <span style=\"font-size: 0.8em; font-weight: bold; line-height: 1; border-radius: 0.35em; text-transform: uppercase; vertical-align: middle; margin-left: 0.5rem\">ORG</span>\n",
       "</mark>\n",
       ", and FAIR are well known as heavy hitters in the artificial intelligence research community, publishing as many papers (if not more) as academic institutions like \n",
       "<mark class=\"entity\" style=\"background: #feca74; padding: 0.45em 0.6em; margin: 0 0.25em; line-height: 1; border-radius: 0.35em; box-decoration-break: clone; -webkit-box-decoration-break: clone\">\n",
       "    Stanford\n",
       "    <span style=\"font-size: 0.8em; font-weight: bold; line-height: 1; border-radius: 0.35em; text-transform: uppercase; vertical-align: middle; margin-left: 0.5rem\">GPE</span>\n",
       "</mark>\n",
       ", \n",
       "<mark class=\"entity\" style=\"background: #feca74; padding: 0.45em 0.6em; margin: 0 0.25em; line-height: 1; border-radius: 0.35em; box-decoration-break: clone; -webkit-box-decoration-break: clone\">\n",
       "    Berkeley\n",
       "    <span style=\"font-size: 0.8em; font-weight: bold; line-height: 1; border-radius: 0.35em; text-transform: uppercase; vertical-align: middle; margin-left: 0.5rem\">GPE</span>\n",
       "</mark>\n",
       ", and \n",
       "<mark class=\"entity\" style=\"background: #7aecec; padding: 0.45em 0.6em; margin: 0 0.25em; line-height: 1; border-radius: 0.35em; box-decoration-break: clone; -webkit-box-decoration-break: clone\">\n",
       "    MIT\n",
       "    <span style=\"font-size: 0.8em; font-weight: bold; line-height: 1; border-radius: 0.35em; text-transform: uppercase; vertical-align: middle; margin-left: 0.5rem\">ORG</span>\n",
       "</mark>\n",
       ".</div>"
      ],
      "text/plain": [
       "<IPython.core.display.HTML object>"
      ]
     },
     "metadata": {},
     "output_type": "display_data"
    },
    {
     "name": "stderr",
     "output_type": "stream",
     "text": [
      "C:\\Users\\USER\\Anaconda3\\lib\\runpy.py:193: UserWarning: [W006] No entities to visualize found in Doc object. If this is surprising to you, make sure the Doc was processed using a model that supports named entity recognition, and check the `doc.ents` property manually if necessary.\n",
      "  \"__main__\", mod_spec)\n"
     ]
    },
    {
     "data": {
      "text/html": [
       "<div class=\"entities\" style=\"line-height: 2.5; direction: ltr\">Many top professors from academia have migrated over to industry research labs as well, sacrificing the security of academic tenure for fat stacks of money.</div>"
      ],
      "text/plain": [
       "<IPython.core.display.HTML object>"
      ]
     },
     "metadata": {},
     "output_type": "display_data"
    },
    {
     "data": {
      "text/html": [
       "<div class=\"entities\" style=\"line-height: 2.5; direction: ltr\">Although \n",
       "<mark class=\"entity\" style=\"background: #7aecec; padding: 0.45em 0.6em; margin: 0 0.25em; line-height: 1; border-radius: 0.35em; box-decoration-break: clone; -webkit-box-decoration-break: clone\">\n",
       "    Google\n",
       "    <span style=\"font-size: 0.8em; font-weight: bold; line-height: 1; border-radius: 0.35em; text-transform: uppercase; vertical-align: middle; margin-left: 0.5rem\">ORG</span>\n",
       "</mark>\n",
       " has previously experimented with research residencies, this is the \n",
       "<mark class=\"entity\" style=\"background: #e4e7d2; padding: 0.45em 0.6em; margin: 0 0.25em; line-height: 1; border-radius: 0.35em; box-decoration-break: clone; -webkit-box-decoration-break: clone\">\n",
       "    first\n",
       "    <span style=\"font-size: 0.8em; font-weight: bold; line-height: 1; border-radius: 0.35em; text-transform: uppercase; vertical-align: middle; margin-left: 0.5rem\">ORDINAL</span>\n",
       "</mark>\n",
       " time that they have issued postgraduate degrees.\n",
       "</div>"
      ],
      "text/plain": [
       "<IPython.core.display.HTML object>"
      ]
     },
     "metadata": {},
     "output_type": "display_data"
    },
    {
     "name": "stderr",
     "output_type": "stream",
     "text": [
      "C:\\Users\\USER\\Anaconda3\\lib\\runpy.py:193: UserWarning: [W006] No entities to visualize found in Doc object. If this is surprising to you, make sure the Doc was processed using a model that supports named entity recognition, and check the `doc.ents` property manually if necessary.\n",
      "  \"__main__\", mod_spec)\n"
     ]
    },
    {
     "data": {
      "text/html": [
       "<div class=\"entities\" style=\"line-height: 2.5; direction: ltr\">According to a representative, the tech giant decided to issue PhDs in order to attract scarce AI talent.</div>"
      ],
      "text/plain": [
       "<IPython.core.display.HTML object>"
      ]
     },
     "metadata": {},
     "output_type": "display_data"
    },
    {
     "data": {
      "text/html": [
       "<div class=\"entities\" style=\"line-height: 2.5; direction: ltr\">“It’s extremely difficult to find people with talent in \n",
       "<mark class=\"entity\" style=\"background: #7aecec; padding: 0.45em 0.6em; margin: 0 0.25em; line-height: 1; border-radius: 0.35em; box-decoration-break: clone; -webkit-box-decoration-break: clone\">\n",
       "    Machine Learning and Artificial Intelligence\n",
       "    <span style=\"font-size: 0.8em; font-weight: bold; line-height: 1; border-radius: 0.35em; text-transform: uppercase; vertical-align: middle; margin-left: 0.5rem\">ORG</span>\n",
       "</mark>\n",
       " \n",
       "<mark class=\"entity\" style=\"background: #bfe1d9; padding: 0.45em 0.6em; margin: 0 0.25em; line-height: 1; border-radius: 0.35em; box-decoration-break: clone; -webkit-box-decoration-break: clone\">\n",
       "    these days\n",
       "    <span style=\"font-size: 0.8em; font-weight: bold; line-height: 1; border-radius: 0.35em; text-transform: uppercase; vertical-align: middle; margin-left: 0.5rem\">DATE</span>\n",
       "</mark>\n",
       ", and it pained us to see so many of our amazing interns decline our return offers to go back to school for \n",
       "<mark class=\"entity\" style=\"background: #c887fb; padding: 0.45em 0.6em; margin: 0 0.25em; line-height: 1; border-radius: 0.35em; box-decoration-break: clone; -webkit-box-decoration-break: clone\">\n",
       "    PhDs\n",
       "    <span style=\"font-size: 0.8em; font-weight: bold; line-height: 1; border-radius: 0.35em; text-transform: uppercase; vertical-align: middle; margin-left: 0.5rem\">NORP</span>\n",
       "</mark>\n",
       ".</div>"
      ],
      "text/plain": [
       "<IPython.core.display.HTML object>"
      ]
     },
     "metadata": {},
     "output_type": "display_data"
    },
    {
     "data": {
      "text/html": [
       "<div class=\"entities\" style=\"line-height: 2.5; direction: ltr\">With the \n",
       "<mark class=\"entity\" style=\"background: #7aecec; padding: 0.45em 0.6em; margin: 0 0.25em; line-height: 1; border-radius: 0.35em; box-decoration-break: clone; -webkit-box-decoration-break: clone\">\n",
       "    Google\n",
       "    <span style=\"font-size: 0.8em; font-weight: bold; line-height: 1; border-radius: 0.35em; text-transform: uppercase; vertical-align: middle; margin-left: 0.5rem\">ORG</span>\n",
       "</mark>\n",
       " PhD program, we can continue to get the best talent while supporting our student-employees with world class resources and technology.”\n",
       "</div>"
      ],
      "text/plain": [
       "<IPython.core.display.HTML object>"
      ]
     },
     "metadata": {},
     "output_type": "display_data"
    },
    {
     "data": {
      "text/html": [
       "<div class=\"entities\" style=\"line-height: 2.5; direction: ltr\">For graduate students, the \n",
       "<mark class=\"entity\" style=\"background: #7aecec; padding: 0.45em 0.6em; margin: 0 0.25em; line-height: 1; border-radius: 0.35em; box-decoration-break: clone; -webkit-box-decoration-break: clone\">\n",
       "    Google\n",
       "    <span style=\"font-size: 0.8em; font-weight: bold; line-height: 1; border-radius: 0.35em; text-transform: uppercase; vertical-align: middle; margin-left: 0.5rem\">ORG</span>\n",
       "</mark>\n",
       " PhD program is a sweet deal.</div>"
      ],
      "text/plain": [
       "<IPython.core.display.HTML object>"
      ]
     },
     "metadata": {},
     "output_type": "display_data"
    },
    {
     "data": {
      "text/html": [
       "<div class=\"entities\" style=\"line-height: 2.5; direction: ltr\">There is already a well-known pipeline where top graduate students do their PhDs at a university, intern at industry research groups during \n",
       "<mark class=\"entity\" style=\"background: #bfe1d9; padding: 0.45em 0.6em; margin: 0 0.25em; line-height: 1; border-radius: 0.35em; box-decoration-break: clone; -webkit-box-decoration-break: clone\">\n",
       "    the summer\n",
       "    <span style=\"font-size: 0.8em; font-weight: bold; line-height: 1; border-radius: 0.35em; text-transform: uppercase; vertical-align: middle; margin-left: 0.5rem\">DATE</span>\n",
       "</mark>\n",
       ", and then sign on full time after graduation with the promise of \n",
       "<mark class=\"entity\" style=\"background: #e4e7d2; padding: 0.45em 0.6em; margin: 0 0.25em; line-height: 1; border-radius: 0.35em; box-decoration-break: clone; -webkit-box-decoration-break: clone\">\n",
       "    million-dollar\n",
       "    <span style=\"font-size: 0.8em; font-weight: bold; line-height: 1; border-radius: 0.35em; text-transform: uppercase; vertical-align: middle; margin-left: 0.5rem\">MONEY</span>\n",
       "</mark>\n",
       " compensation packages and the freedom to set their own research agendas.\n",
       "</div>"
      ],
      "text/plain": [
       "<IPython.core.display.HTML object>"
      ]
     },
     "metadata": {},
     "output_type": "display_data"
    },
    {
     "name": "stderr",
     "output_type": "stream",
     "text": [
      "C:\\Users\\USER\\Anaconda3\\lib\\runpy.py:193: UserWarning: [W006] No entities to visualize found in Doc object. If this is surprising to you, make sure the Doc was processed using a model that supports named entity recognition, and check the `doc.ents` property manually if necessary.\n",
      "  \"__main__\", mod_spec)\n"
     ]
    },
    {
     "data": {
      "text/html": [
       "<div class=\"entities\" style=\"line-height: 2.5; direction: ltr\">However, aspiring AI researchers must still struggle through the difficulties of academia:</div>"
      ],
      "text/plain": [
       "<IPython.core.display.HTML object>"
      ]
     },
     "metadata": {},
     "output_type": "display_data"
    },
    {
     "data": {
      "text/html": [
       "<div class=\"entities\" style=\"line-height: 2.5; direction: ltr\">\n",
       "<mark class=\"entity\" style=\"background: #bfe1d9; padding: 0.45em 0.6em; margin: 0 0.25em; line-height: 1; border-radius: 0.35em; box-decoration-break: clone; -webkit-box-decoration-break: clone\">\n",
       "    four to six years\n",
       "    <span style=\"font-size: 0.8em; font-weight: bold; line-height: 1; border-radius: 0.35em; text-transform: uppercase; vertical-align: middle; margin-left: 0.5rem\">DATE</span>\n",
       "</mark>\n",
       " of low pay,</div>"
      ],
      "text/plain": [
       "<IPython.core.display.HTML object>"
      ]
     },
     "metadata": {},
     "output_type": "display_data"
    },
    {
     "name": "stderr",
     "output_type": "stream",
     "text": [
      "C:\\Users\\USER\\Anaconda3\\lib\\runpy.py:193: UserWarning: [W006] No entities to visualize found in Doc object. If this is surprising to you, make sure the Doc was processed using a model that supports named entity recognition, and check the `doc.ents` property manually if necessary.\n",
      "  \"__main__\", mod_spec)\n"
     ]
    },
    {
     "data": {
      "text/html": [
       "<div class=\"entities\" style=\"line-height: 2.5; direction: ltr\">begging for funding, and advisors who can be sadistic, micromanaging, or absent.</div>"
      ],
      "text/plain": [
       "<IPython.core.display.HTML object>"
      ]
     },
     "metadata": {},
     "output_type": "display_data"
    },
    {
     "data": {
      "text/html": [
       "<div class=\"entities\" style=\"line-height: 2.5; direction: ltr\">In contrast, \n",
       "<mark class=\"entity\" style=\"background: #7aecec; padding: 0.45em 0.6em; margin: 0 0.25em; line-height: 1; border-radius: 0.35em; box-decoration-break: clone; -webkit-box-decoration-break: clone\">\n",
       "    Google\n",
       "    <span style=\"font-size: 0.8em; font-weight: bold; line-height: 1; border-radius: 0.35em; text-transform: uppercase; vertical-align: middle; margin-left: 0.5rem\">ORG</span>\n",
       "</mark>\n",
       " offers researchers massive computational resources and motivates their \n",
       "<mark class=\"entity\" style=\"background: #bfeeb7; padding: 0.45em 0.6em; margin: 0 0.25em; line-height: 1; border-radius: 0.35em; box-decoration-break: clone; -webkit-box-decoration-break: clone\">\n",
       "    PhD\n",
       "    <span style=\"font-size: 0.8em; font-weight: bold; line-height: 1; border-radius: 0.35em; text-transform: uppercase; vertical-align: middle; margin-left: 0.5rem\">PRODUCT</span>\n",
       "</mark>\n",
       " advisors with a potent combination of vegan snacks, kombucha, and equity refreshers.</div>"
      ],
      "text/plain": [
       "<IPython.core.display.HTML object>"
      ]
     },
     "metadata": {},
     "output_type": "display_data"
    },
    {
     "data": {
      "text/html": [
       "<div class=\"entities\" style=\"line-height: 2.5; direction: ltr\">Instead of receiving a boring paper diploma at the end of their PhDs, \n",
       "<mark class=\"entity\" style=\"background: #aa9cfc; padding: 0.45em 0.6em; margin: 0 0.25em; line-height: 1; border-radius: 0.35em; box-decoration-break: clone; -webkit-box-decoration-break: clone\">\n",
       "    Google PhD\n",
       "    <span style=\"font-size: 0.8em; font-weight: bold; line-height: 1; border-radius: 0.35em; text-transform: uppercase; vertical-align: middle; margin-left: 0.5rem\">PERSON</span>\n",
       "</mark>\n",
       " graduates receive a priceless note handwritten by \n",
       "<mark class=\"entity\" style=\"background: #aa9cfc; padding: 0.45em 0.6em; margin: 0 0.25em; line-height: 1; border-radius: 0.35em; box-decoration-break: clone; -webkit-box-decoration-break: clone\">\n",
       "    Jeff Dean\n",
       "    <span style=\"font-size: 0.8em; font-weight: bold; line-height: 1; border-radius: 0.35em; text-transform: uppercase; vertical-align: middle; margin-left: 0.5rem\">PERSON</span>\n",
       "</mark>\n",
       " on a napkin that says, “You have a \n",
       "<mark class=\"entity\" style=\"background: #aa9cfc; padding: 0.45em 0.6em; margin: 0 0.25em; line-height: 1; border-radius: 0.35em; box-decoration-break: clone; -webkit-box-decoration-break: clone\">\n",
       "    PhD\n",
       "    <span style=\"font-size: 0.8em; font-weight: bold; line-height: 1; border-radius: 0.35em; text-transform: uppercase; vertical-align: middle; margin-left: 0.5rem\">PERSON</span>\n",
       "</mark>\n",
       " now.”\n",
       "</div>"
      ],
      "text/plain": [
       "<IPython.core.display.HTML object>"
      ]
     },
     "metadata": {},
     "output_type": "display_data"
    },
    {
     "name": "stderr",
     "output_type": "stream",
     "text": [
      "C:\\Users\\USER\\Anaconda3\\lib\\runpy.py:193: UserWarning: [W006] No entities to visualize found in Doc object. If this is surprising to you, make sure the Doc was processed using a model that supports named entity recognition, and check the `doc.ents` property manually if necessary.\n",
      "  \"__main__\", mod_spec)\n"
     ]
    },
    {
     "data": {
      "text/html": [
       "<div class=\"entities\" style=\"line-height: 2.5; direction: ltr\">Other tech companies are scrambling to build their own research groups so they are not left behind in the “AI revolution.”</div>"
      ],
      "text/plain": [
       "<IPython.core.display.HTML object>"
      ]
     },
     "metadata": {},
     "output_type": "display_data"
    },
    {
     "data": {
      "text/html": [
       "<div class=\"entities\" style=\"line-height: 2.5; direction: ltr\">Halting Problem reached out to a representative from \n",
       "<mark class=\"entity\" style=\"background: #7aecec; padding: 0.45em 0.6em; margin: 0 0.25em; line-height: 1; border-radius: 0.35em; box-decoration-break: clone; -webkit-box-decoration-break: clone\">\n",
       "    Salesforce AI Research\n",
       "    <span style=\"font-size: 0.8em; font-weight: bold; line-height: 1; border-radius: 0.35em; text-transform: uppercase; vertical-align: middle; margin-left: 0.5rem\">ORG</span>\n",
       "</mark>\n",
       " who said, “What?</div>"
      ],
      "text/plain": [
       "<IPython.core.display.HTML object>"
      ]
     },
     "metadata": {},
     "output_type": "display_data"
    },
    {
     "data": {
      "text/html": [
       "<div class=\"entities\" style=\"line-height: 2.5; direction: ltr\">\n",
       "<mark class=\"entity\" style=\"background: #7aecec; padding: 0.45em 0.6em; margin: 0 0.25em; line-height: 1; border-radius: 0.35em; box-decoration-break: clone; -webkit-box-decoration-break: clone\">\n",
       "    Google\n",
       "    <span style=\"font-size: 0.8em; font-weight: bold; line-height: 1; border-radius: 0.35em; text-transform: uppercase; vertical-align: middle; margin-left: 0.5rem\">ORG</span>\n",
       "</mark>\n",
       " is doing it?</div>"
      ],
      "text/plain": [
       "<IPython.core.display.HTML object>"
      ]
     },
     "metadata": {},
     "output_type": "display_data"
    },
    {
     "name": "stderr",
     "output_type": "stream",
     "text": [
      "C:\\Users\\USER\\Anaconda3\\lib\\runpy.py:193: UserWarning: [W006] No entities to visualize found in Doc object. If this is surprising to you, make sure the Doc was processed using a model that supports named entity recognition, and check the `doc.ents` property manually if necessary.\n",
      "  \"__main__\", mod_spec)\n"
     ]
    },
    {
     "data": {
      "text/html": [
       "<div class=\"entities\" style=\"line-height: 2.5; direction: ltr\">Well, guess we are too.”\n",
       "</div>"
      ],
      "text/plain": [
       "<IPython.core.display.HTML object>"
      ]
     },
     "metadata": {},
     "output_type": "display_data"
    },
    {
     "data": {
      "text/html": [
       "<div class=\"entities\" style=\"line-height: 2.5; direction: ltr\">In the meantime, \n",
       "<mark class=\"entity\" style=\"background: #7aecec; padding: 0.45em 0.6em; margin: 0 0.25em; line-height: 1; border-radius: 0.35em; box-decoration-break: clone; -webkit-box-decoration-break: clone\">\n",
       "    Google\n",
       "    <span style=\"font-size: 0.8em; font-weight: bold; line-height: 1; border-radius: 0.35em; text-transform: uppercase; vertical-align: middle; margin-left: 0.5rem\">ORG</span>\n",
       "</mark>\n",
       " is already planning for the next way to find top AI talent.</div>"
      ],
      "text/plain": [
       "<IPython.core.display.HTML object>"
      ]
     },
     "metadata": {},
     "output_type": "display_data"
    },
    {
     "data": {
      "text/html": [
       "<div class=\"entities\" style=\"line-height: 2.5; direction: ltr\">According to a knowledgeable source, \n",
       "<mark class=\"entity\" style=\"background: #7aecec; padding: 0.45em 0.6em; margin: 0 0.25em; line-height: 1; border-radius: 0.35em; box-decoration-break: clone; -webkit-box-decoration-break: clone\">\n",
       "    Google\n",
       "    <span style=\"font-size: 0.8em; font-weight: bold; line-height: 1; border-radius: 0.35em; text-transform: uppercase; vertical-align: middle; margin-left: 0.5rem\">ORG</span>\n",
       "</mark>\n",
       " is in talks with \n",
       "<mark class=\"entity\" style=\"background: #7aecec; padding: 0.45em 0.6em; margin: 0 0.25em; line-height: 1; border-radius: 0.35em; box-decoration-break: clone; -webkit-box-decoration-break: clone\">\n",
       "    Khan Academy\n",
       "    <span style=\"font-size: 0.8em; font-weight: bold; line-height: 1; border-radius: 0.35em; text-transform: uppercase; vertical-align: middle; margin-left: 0.5rem\">ORG</span>\n",
       "</mark>\n",
       " to create a “machine learning kindergarten” program that teaches children \n",
       "<mark class=\"entity\" style=\"background: #aa9cfc; padding: 0.45em 0.6em; margin: 0 0.25em; line-height: 1; border-radius: 0.35em; box-decoration-break: clone; -webkit-box-decoration-break: clone\">\n",
       "    Tensorflow\n",
       "    <span style=\"font-size: 0.8em; font-weight: bold; line-height: 1; border-radius: 0.35em; text-transform: uppercase; vertical-align: middle; margin-left: 0.5rem\">PERSON</span>\n",
       "</mark>\n",
       ".</div>"
      ],
      "text/plain": [
       "<IPython.core.display.HTML object>"
      ]
     },
     "metadata": {},
     "output_type": "display_data"
    }
   ],
   "source": [
    "# Display the named entity visualization for the entire article\n",
    "\n",
    "for sent in doc.sents:\n",
    "    displacy.render(nlp(sent.text), style='ent', jupyter=True)"
   ]
  },
  {
   "cell_type": "code",
   "execution_count": null,
   "metadata": {},
   "outputs": [],
   "source": [
    "# OPTIONAL : Which named entity do you think is not well tagged\n",
    "\n",
    "# Answer here and why:\n",
    "#Tensorflow - Person : I don't think this is properly tagged\n",
    "#PhD/Google PhD - Person : This is also another improper tag\n",
    "#Machine Learning and Artficial Intelligence - This shouldn't be an org tag\n",
    "\n",
    "\n"
   ]
  },
  {
   "cell_type": "markdown",
   "metadata": {},
   "source": [
    "## Perform VADER Sentiment Analysis on the Comment file"
   ]
  },
  {
   "cell_type": "code",
   "execution_count": 39,
   "metadata": {},
   "outputs": [],
   "source": [
    "# Import SentimentIntensityAnalyzer and create an sid object\n",
    "from nltk.sentiment.vader import SentimentIntensityAnalyzer\n",
    "\n",
    "sid = SentimentIntensityAnalyzer()\n",
    "# kindly ignore the warning"
   ]
  },
  {
   "cell_type": "code",
   "execution_count": 49,
   "metadata": {},
   "outputs": [
    {
     "data": {
      "text/plain": [
       "Interesting Concept.\n",
       "Industry does not have the patience to wait for students to graduate from their respective schools.\n",
       "The topic of research will be driven by the firm, which means that it would be one small cog/nut in the firm’s vast service offering.\n",
       "The absence of freedom to choose their own topic of research might be detrimental to innovation in the long run.\n",
       "Innovation, if it happens, will be incremental.\n",
       "We can forget about path breaking discoveries."
      ]
     },
     "execution_count": 49,
     "metadata": {},
     "output_type": "execute_result"
    }
   ],
   "source": [
    "# using 'open' read in the comment.txt file \n",
    "with open('comment.txt',encoding=\"utf8\") as g:\n",
    "    the_comment = nlp(g.read())\n",
    "\n",
    "#View some part of the opened doc\n",
    "the_comment\n"
   ]
  },
  {
   "cell_type": "code",
   "execution_count": 52,
   "metadata": {},
   "outputs": [
    {
     "data": {
      "text/plain": [
       "{'neg': 0.022, 'neu': 0.809, 'pos': 0.17, 'compound': 0.9186}"
      ]
     },
     "execution_count": 52,
     "metadata": {},
     "output_type": "execute_result"
    }
   ],
   "source": [
    "# Obtain the sid scores for the comment\n",
    "sid.polarity_scores(the_comment.text)"
   ]
  },
  {
   "cell_type": "code",
   "execution_count": 55,
   "metadata": {},
   "outputs": [
    {
     "data": {
      "text/plain": [
       "'Positive'"
      ]
     },
     "execution_count": 55,
     "metadata": {},
     "output_type": "execute_result"
    }
   ],
   "source": [
    "# Write fucntion to take in a comment and returns whether it was \n",
    "# \"Positive\", \"Negative\" or \"Neutral\"\n",
    "\n",
    "def comment_sentiment(comment):\n",
    "    scores = sid.polarity_scores(comment)\n",
    "    if scores['compound'] == 0:\n",
    "        return 'Neutral'\n",
    "    elif scores['compound'] > 0:\n",
    "        return 'Positive'\n",
    "    else:\n",
    "        return 'Negative'\n",
    "comment_sentiment(the_comment.text)"
   ]
  },
  {
   "cell_type": "code",
   "execution_count": 63,
   "metadata": {},
   "outputs": [
    {
     "data": {
      "text/plain": [
       "\"\\ncomment = 'I think the math works out well for google as they get\\n           to have great talent working for them, but I'm not sure\\n           if its gonna be a fufilling experience for the grad \\n           studentes as there are certain systems built around \\n           traditional PhD programs that make it work so well,\\n           so much so that it attracts these same great talent'\\n\""
      ]
     },
     "execution_count": 63,
     "metadata": {},
     "output_type": "execute_result"
    }
   ],
   "source": [
    "# Write a comment of the article (AFTER READING IT please) as one continuous string or (multiple sentences are ok)\n",
    "comment = 'What Google and the other big tech companies are thinking of delving into around Artificial Intellignece and other fields isgood, but I feel it may still have an adverse effect on the tech in the long run'\n",
    "\n",
    "\n",
    "\n",
    "# As an example here is my own comment, please do not use mine.\n",
    "'''\n",
    "comment = 'I think the math works out well for google as they get\n",
    "           to have great talent working for them, but I\\'m not sure\n",
    "           if its gonna be a fufilling experience for the grad \n",
    "           studentes as there are certain systems built around \n",
    "           traditional PhD programs that make it work so well,\n",
    "           so much so that it attracts these same great talent'\n",
    "'''"
   ]
  },
  {
   "cell_type": "code",
   "execution_count": 64,
   "metadata": {},
   "outputs": [
    {
     "data": {
      "text/plain": [
       "'Negative'"
      ]
     },
     "execution_count": 64,
     "metadata": {},
     "output_type": "execute_result"
    }
   ],
   "source": [
    "# Test your function on your comment above:\n",
    "comment_sentiment(comment)"
   ]
  },
  {
   "cell_type": "markdown",
   "metadata": {},
   "source": [
    "# Topic Modelling with LDA and NMF\n",
    "First we'd look at LDA then NMF and at the end see how both pan out."
   ]
  },
  {
   "cell_type": "markdown",
   "metadata": {},
   "source": [
    "# Preprocessing for LDA\n",
    "Task: Use Count Vectorization to create a vectorized document sparse matrix. Use a max_df=0.9 and min_df=2 parameters."
   ]
  },
  {
   "cell_type": "code",
   "execution_count": 65,
   "metadata": {},
   "outputs": [],
   "source": [
    "# Import the required packages i.e Countvectorizer, LDA\n",
    "\n",
    "from sklearn.feature_extraction.text import CountVectorizer\n",
    "from sklearn.decomposition import LatentDirichletAllocation"
   ]
  },
  {
   "cell_type": "code",
   "execution_count": 66,
   "metadata": {},
   "outputs": [
    {
     "data": {
      "text/plain": [
       "<1001x10339 sparse matrix of type '<class 'numpy.int64'>'\n",
       "\twith 109044 stored elements in Compressed Sparse Row format>"
      ]
     },
     "execution_count": 66,
     "metadata": {},
     "output_type": "execute_result"
    }
   ],
   "source": [
    "# Using the CV object, Fit and transform the countvectorizer \n",
    "# on the articles using the params giving above\n",
    "\n",
    "cv = CountVectorizer(max_df=0.90, min_df=2, stop_words='english')\n",
    "dtm = cv.fit_transform(df['articles'])\n",
    "dtm"
   ]
  },
  {
   "cell_type": "code",
   "execution_count": 67,
   "metadata": {},
   "outputs": [
    {
     "data": {
      "text/plain": [
       "LatentDirichletAllocation(batch_size=128, doc_topic_prior=None,\n",
       "             evaluate_every=-1, learning_decay=0.7,\n",
       "             learning_method='batch', learning_offset=10.0,\n",
       "             max_doc_update_iter=100, max_iter=10, mean_change_tol=0.001,\n",
       "             n_components=10, n_jobs=None, n_topics=None, perp_tol=0.1,\n",
       "             random_state=10, topic_word_prior=None,\n",
       "             total_samples=1000000.0, verbose=0)"
      ]
     },
     "execution_count": 67,
     "metadata": {},
     "output_type": "execute_result"
    }
   ],
   "source": [
    "#Fit LDA object to the sparse matrix fron the count vectorizer\n",
    "# Extracting 10 TOPICS with a RANDOM STATE of 10\n",
    "\n",
    "LDA = LatentDirichletAllocation(n_components=10,random_state=10)\n",
    "LDA.fit(dtm)"
   ]
  },
  {
   "cell_type": "code",
   "execution_count": 68,
   "metadata": {},
   "outputs": [
    {
     "name": "stdout",
     "output_type": "stream",
     "text": [
      "THE TOP 20 WORDS FOR TOPIC #0\n",
      "['nigerian', 'police', 'south', 'statement', 'federal', 'according', 'states', 'national', 'security', 'buhari', 'people', 'nigeria', 'state', 'country', 'government', 'rsquo', 'president', 'rdquo', 'said', 'ldquo']\n",
      "\n",
      "\n",
      "THE TOP 20 WORDS FOR TOPIC #1\n",
      "['general', 'rsquo', 'capital', 'market', 'business', 'programme', 'new', '2019', 'sec', 'rdquo', 'nigerian', 'nigeria', 'african', 'development', 'commission', 'company', '000', 'ldquo', 'africa', 'said']\n",
      "\n",
      "\n",
      "THE TOP 20 WORDS FOR TOPIC #2\n",
      "['officers', '000', 'year', 'air', 'airlines', 'million', 'new', 'according', 'army', 'police', 'oil', 'project', 'government', 'state', 'nigeria', 'nigerian', 'rdquo', 'rsquo', 'ldquo', 'said']\n",
      "\n",
      "\n",
      "THE TOP 20 WORDS FOR TOPIC #3\n",
      "['year', 'respondent', 'server', 'candidate', 'president', 'rdquo', 'apc', 'party', 'national', 'plastic', 'atiku', 'results', 'said', 'buhari', 'inec', 'rsquo', 'pdp', 'election', 'ldquo', 'presidential']\n",
      "\n",
      "\n",
      "THE TOP 20 WORDS FOR TOPIC #4\n",
      "['energy', 'increase', 'africa', 'government', 'new', 'tax', 'market', 'agency', 'development', 'state', 'nnpc', 'national', 'million', 'according', 'gas', 'nigeria', 'rdquo', 'rsquo', 'ldquo', 'said']\n",
      "\n",
      "\n",
      "THE TOP 20 WORDS FOR TOPIC #5\n",
      "['match', 'club', 'egypt', 'group', 'rohr', '2019', 'time', 'ldquo', 'world', 'game', 'rdquo', 'nations', 'players', 'africa', 'nigeria', 'team', 'rsquo', 'super', 'cup', 'eagles']\n",
      "\n",
      "\n",
      "THE TOP 20 WORDS FOR TOPIC #6\n",
      "['parties', 'nigeria', 'buhari', 'pdp', 'people', 'political', 'presidential', 'court', 'state', 'inec', 'electoral', 'commission', 'party', 'president', 'elections', 'rsquo', 'rdquo', 'ldquo', 'said', 'election']\n",
      "\n",
      "\n",
      "THE TOP 20 WORDS FOR TOPIC #7\n",
      "['2019', 'stock', 'banks', 'years', 'report', '2018', 'said', 'shares', 'company', 'year', 'cbn', 'mtn', 'market', 'according', 'exchange', 'billion', 'percent', 'million', 'nigeria', 'bank']\n",
      "\n",
      "\n",
      "THE TOP 20 WORDS FOR TOPIC #8\n",
      "['world', 'child', 'new', 'singer', 'instagram', 'love', 'don', 'man', 'know', 'years', 'time', 'life', 'people', 'just', 'like', 'said', 'lsquo', 'rdquo', 'ldquo', 'rsquo']\n",
      "\n",
      "\n",
      "THE TOP 20 WORDS FOR TOPIC #9\n",
      "['minute', 'manchester', 'city', 'second', 'half', 'minutes', 'win', 'premier', 'arsenal', 'champions', 'united', 'team', 'game', 'club', 'season', 'goals', 'goal', 'chelsea', 'rsquo', 'league']\n",
      "\n",
      "\n"
     ]
    }
   ],
   "source": [
    "# View the the TOP 20 words of the all Topics \n",
    "\n",
    "for index,topic in enumerate(LDA.components_):\n",
    "    print(f'THE TOP 20 WORDS FOR TOPIC #{index}')\n",
    "    print([cv.get_feature_names()[i] for i in topic.argsort()[-20:]])\n",
    "    print('\\n')\n",
    "\n"
   ]
  },
  {
   "cell_type": "code",
   "execution_count": 69,
   "metadata": {},
   "outputs": [],
   "source": [
    "# Transform the sparse data on the fitted LDA object\n",
    "\n",
    "topic_results = LDA.transform(dtm)\n",
    "\n",
    "\n",
    "# Create a new column called 'Topic_lda' and save the Topic id's in it\n",
    "\n",
    "topic_results.argmax(axis=1)\n",
    "\n",
    "df['Topic_lda'] = topic_results.argmax(axis=1)\n",
    "\n",
    "\n",
    "\n",
    "\n"
   ]
  },
  {
   "cell_type": "code",
   "execution_count": 70,
   "metadata": {},
   "outputs": [
    {
     "data": {
      "text/html": [
       "<div>\n",
       "<style scoped>\n",
       "    .dataframe tbody tr th:only-of-type {\n",
       "        vertical-align: middle;\n",
       "    }\n",
       "\n",
       "    .dataframe tbody tr th {\n",
       "        vertical-align: top;\n",
       "    }\n",
       "\n",
       "    .dataframe thead th {\n",
       "        text-align: right;\n",
       "    }\n",
       "</style>\n",
       "<table border=\"1\" class=\"dataframe\">\n",
       "  <thead>\n",
       "    <tr style=\"text-align: right;\">\n",
       "      <th></th>\n",
       "      <th>id</th>\n",
       "      <th>articles</th>\n",
       "      <th>Topic_lda</th>\n",
       "    </tr>\n",
       "  </thead>\n",
       "  <tbody>\n",
       "    <tr>\n",
       "      <th>0</th>\n",
       "      <td>1</td>\n",
       "      <td>What does it mean to be successful? Perhaps, o...</td>\n",
       "      <td>3</td>\n",
       "    </tr>\n",
       "    <tr>\n",
       "      <th>1</th>\n",
       "      <td>2</td>\n",
       "      <td>Much has been made of Africa&amp;rsquo;s unfavorab...</td>\n",
       "      <td>4</td>\n",
       "    </tr>\n",
       "    <tr>\n",
       "      <th>2</th>\n",
       "      <td>3</td>\n",
       "      <td>A few days after a Damaris Wambui Kamau and he...</td>\n",
       "      <td>0</td>\n",
       "    </tr>\n",
       "    <tr>\n",
       "      <th>3</th>\n",
       "      <td>4</td>\n",
       "      <td>\\n\\n\\n\\nJust a few hours after their release o...</td>\n",
       "      <td>0</td>\n",
       "    </tr>\n",
       "    <tr>\n",
       "      <th>4</th>\n",
       "      <td>5</td>\n",
       "      <td>IPOA is investigating the murder of four peopl...</td>\n",
       "      <td>0</td>\n",
       "    </tr>\n",
       "    <tr>\n",
       "      <th>5</th>\n",
       "      <td>1436</td>\n",
       "      <td>Former President Jerry John Rawlings has calle...</td>\n",
       "      <td>0</td>\n",
       "    </tr>\n",
       "    <tr>\n",
       "      <th>6</th>\n",
       "      <td>6</td>\n",
       "      <td>David L. Poulson who served in Erie in North P...</td>\n",
       "      <td>0</td>\n",
       "    </tr>\n",
       "    <tr>\n",
       "      <th>7</th>\n",
       "      <td>7</td>\n",
       "      <td>In what started as a campaign strategy to a pr...</td>\n",
       "      <td>1</td>\n",
       "    </tr>\n",
       "    <tr>\n",
       "      <th>8</th>\n",
       "      <td>8</td>\n",
       "      <td>\\n\\n\\n\\n\\n\\n\\n\\n\\n\\n\\n\\nThe fight for position...</td>\n",
       "      <td>0</td>\n",
       "    </tr>\n",
       "    <tr>\n",
       "      <th>9</th>\n",
       "      <td>9</td>\n",
       "      <td>Much has been made of Africa&amp;rsquo;s unfavorab...</td>\n",
       "      <td>4</td>\n",
       "    </tr>\n",
       "  </tbody>\n",
       "</table>\n",
       "</div>"
      ],
      "text/plain": [
       "     id                                           articles  Topic_lda\n",
       "0     1  What does it mean to be successful? Perhaps, o...          3\n",
       "1     2  Much has been made of Africa&rsquo;s unfavorab...          4\n",
       "2     3  A few days after a Damaris Wambui Kamau and he...          0\n",
       "3     4  \\n\\n\\n\\nJust a few hours after their release o...          0\n",
       "4     5  IPOA is investigating the murder of four peopl...          0\n",
       "5  1436  Former President Jerry John Rawlings has calle...          0\n",
       "6     6  David L. Poulson who served in Erie in North P...          0\n",
       "7     7  In what started as a campaign strategy to a pr...          1\n",
       "8     8  \\n\\n\\n\\n\\n\\n\\n\\n\\n\\n\\n\\nThe fight for position...          0\n",
       "9     9  Much has been made of Africa&rsquo;s unfavorab...          4"
      ]
     },
     "execution_count": 70,
     "metadata": {},
     "output_type": "execute_result"
    }
   ],
   "source": [
    "# View the dataframe now\n",
    "df.head(10)\n"
   ]
  },
  {
   "cell_type": "code",
   "execution_count": 71,
   "metadata": {},
   "outputs": [],
   "source": [
    "# Create a label dictionary for each topic, kinda like mine,\n",
    "#please go through the words in each topic to figure out a fitting \n",
    "#label for that topic and create a dictionary mapping each topic id \n",
    "#to its corresponding label (which is at your discretion)\n",
    "\n",
    "label_dict = {\n",
    "    0:'security',\n",
    "    1:'economy',\n",
    "    2:'economy',\n",
    "    3:'election',\n",
    "    4:'economy',\n",
    "    5:'football',\n",
    "    6:'election',\n",
    "    7:'stock',\n",
    "    8:'social',\n",
    "    9:'football'\n",
    "}\n",
    "\n",
    "# there seem to be just 6 unique labels\n",
    "#label_dict ={0:'Security',1:'Economy',2:'Economy',3:'Election',4:'Intl economy',5:'CAF football',6:'Politics',7:'Stock',8:'Soocial Media',9:'Premiership Football'}"
   ]
  },
  {
   "cell_type": "code",
   "execution_count": 72,
   "metadata": {
    "scrolled": true
   },
   "outputs": [
    {
     "data": {
      "text/html": [
       "<div>\n",
       "<style scoped>\n",
       "    .dataframe tbody tr th:only-of-type {\n",
       "        vertical-align: middle;\n",
       "    }\n",
       "\n",
       "    .dataframe tbody tr th {\n",
       "        vertical-align: top;\n",
       "    }\n",
       "\n",
       "    .dataframe thead th {\n",
       "        text-align: right;\n",
       "    }\n",
       "</style>\n",
       "<table border=\"1\" class=\"dataframe\">\n",
       "  <thead>\n",
       "    <tr style=\"text-align: right;\">\n",
       "      <th></th>\n",
       "      <th>id</th>\n",
       "      <th>articles</th>\n",
       "      <th>Topic_lda</th>\n",
       "      <th>lda_labels</th>\n",
       "    </tr>\n",
       "  </thead>\n",
       "  <tbody>\n",
       "    <tr>\n",
       "      <th>0</th>\n",
       "      <td>1</td>\n",
       "      <td>What does it mean to be successful? Perhaps, o...</td>\n",
       "      <td>3</td>\n",
       "      <td>election</td>\n",
       "    </tr>\n",
       "    <tr>\n",
       "      <th>1</th>\n",
       "      <td>2</td>\n",
       "      <td>Much has been made of Africa&amp;rsquo;s unfavorab...</td>\n",
       "      <td>4</td>\n",
       "      <td>economy</td>\n",
       "    </tr>\n",
       "    <tr>\n",
       "      <th>2</th>\n",
       "      <td>3</td>\n",
       "      <td>A few days after a Damaris Wambui Kamau and he...</td>\n",
       "      <td>0</td>\n",
       "      <td>security</td>\n",
       "    </tr>\n",
       "    <tr>\n",
       "      <th>3</th>\n",
       "      <td>4</td>\n",
       "      <td>\\n\\n\\n\\nJust a few hours after their release o...</td>\n",
       "      <td>0</td>\n",
       "      <td>security</td>\n",
       "    </tr>\n",
       "    <tr>\n",
       "      <th>4</th>\n",
       "      <td>5</td>\n",
       "      <td>IPOA is investigating the murder of four peopl...</td>\n",
       "      <td>0</td>\n",
       "      <td>security</td>\n",
       "    </tr>\n",
       "  </tbody>\n",
       "</table>\n",
       "</div>"
      ],
      "text/plain": [
       "   id                                           articles  Topic_lda lda_labels\n",
       "0   1  What does it mean to be successful? Perhaps, o...          3   election\n",
       "1   2  Much has been made of Africa&rsquo;s unfavorab...          4    economy\n",
       "2   3  A few days after a Damaris Wambui Kamau and he...          0   security\n",
       "3   4  \\n\\n\\n\\nJust a few hours after their release o...          0   security\n",
       "4   5  IPOA is investigating the murder of four peopl...          0   security"
      ]
     },
     "execution_count": 72,
     "metadata": {},
     "output_type": "execute_result"
    }
   ],
   "source": [
    "# Create a new column called 'lda_labels' based on the map created above\n",
    "\n",
    "df['lda_labels'] = df['Topic_lda'].map(label_dict)\n",
    "df.head()"
   ]
  },
  {
   "cell_type": "markdown",
   "metadata": {},
   "source": [
    "# Preprocessing for NMF\n",
    "Task: Use TF-IDF Vectorization to create a vectorized document term matrix. Use a max_df=0.9 and min_df=2 parameters."
   ]
  },
  {
   "cell_type": "code",
   "execution_count": 73,
   "metadata": {},
   "outputs": [],
   "source": [
    "# Import the required packages i.e tfidfvectorizer, NMF\n",
    "\n",
    "from sklearn.feature_extraction.text import TfidfVectorizer\n",
    "from sklearn.decomposition import NMF"
   ]
  },
  {
   "cell_type": "code",
   "execution_count": 74,
   "metadata": {},
   "outputs": [
    {
     "data": {
      "text/plain": [
       "<1001x10339 sparse matrix of type '<class 'numpy.float64'>'\n",
       "\twith 109044 stored elements in Compressed Sparse Row format>"
      ]
     },
     "execution_count": 74,
     "metadata": {},
     "output_type": "execute_result"
    }
   ],
   "source": [
    "# Fit and transform the tfidfvectorizer on the articles using the params giving above\n",
    "\n",
    "tfidf = TfidfVectorizer(max_df=0.90, min_df=2, stop_words='english')\n",
    "dtm = tfidf.fit_transform(df['articles'])\n",
    "dtm"
   ]
  },
  {
   "cell_type": "code",
   "execution_count": 75,
   "metadata": {},
   "outputs": [
    {
     "data": {
      "text/plain": [
       "NMF(alpha=0.0, beta_loss='frobenius', init=None, l1_ratio=0.0, max_iter=200,\n",
       "  n_components=10, random_state=10, shuffle=False, solver='cd', tol=0.0001,\n",
       "  verbose=0)"
      ]
     },
     "execution_count": 75,
     "metadata": {},
     "output_type": "execute_result"
    }
   ],
   "source": [
    "# Fit an NMF instance to the sparse matrix from the tfidfvectorizer\n",
    "# Extracting 10 topics with a random state of 10\n",
    "\n",
    "nmf_model = NMF(n_components=10,random_state=10)\n",
    "nmf_model.fit(dtm)"
   ]
  },
  {
   "cell_type": "code",
   "execution_count": 76,
   "metadata": {},
   "outputs": [
    {
     "name": "stdout",
     "output_type": "stream",
     "text": [
      "THE TOP 20 WORDS FOR TOPIC #0\n",
      "['national', 'administration', 'governors', 'federal', 'herdsmen', 'army', 'north', 'military', 'nigerians', 'people', 'rdquo', 'nigeria', 'security', 'said', 'buhari', 'state', 'country', 'ldquo', 'government', 'president']\n",
      "\n",
      "\n",
      "THE TOP 20 WORDS FOR TOPIC #1\n",
      "['obi', 'match', 'burundi', 'injury', 'ighalo', 'coach', 'group', 'gernot', 'afcon', 'nigeria', 'egypt', 'mikel', 'nations', 'players', 'team', 'africa', 'rohr', 'cup', 'super', 'eagles']\n",
      "\n",
      "\n",
      "THE TOP 20 WORDS FOR TOPIC #2\n",
      "['official', 'long', 'just', 'singer', 'man', 'songs', 'people', 'really', 'new', 'want', 'time', 'like', 'feel', 'world', 'don', 've', 'music', 'hellip', 'lsquo', 'rsquo']\n",
      "\n",
      "\n",
      "THE TOP 20 WORDS FOR TOPIC #3\n",
      "['oil', 'plc', 'board', 'investors', 'million', 'said', 'percent', 'securities', 'billion', 'nigeria', 'nse', 'stock', 'commission', 'sec', 'shares', 'listing', 'exchange', 'market', 'mtn', 'company']\n",
      "\n",
      "\n",
      "THE TOP 20 WORDS FOR TOPIC #4\n",
      "['goals', 'window', 'appearances', 'old', 'deal', 'city', 'summer', 'international', 'turkish', 'fenerbahce', 'player', 'premier', 'year', 'transfer', 'loan', 'moses', 'league', 'club', 'season', 'chelsea']\n",
      "\n",
      "\n",
      "THE TOP 20 WORDS FOR TOPIC #5\n",
      "['ldquo', 'abubakar', 'votes', 'democratic', 'national', 'said', 'state', 'president', 'candidate', 'commission', 'apc', 'buhari', 'atiku', 'presidential', 'electoral', 'pdp', 'elections', 'party', 'inec', 'election']\n",
      "\n",
      "\n",
      "THE TOP 20 WORDS FOR TOPIC #6\n",
      "['score', 'arsenal', 'scored', 'liverpool', 'united', 'falcons', 'team', 'second', 'half', 'final', 'minutes', 'goals', 'match', 'barcelona', 'champions', 'win', 'minute', 'league', 'goal', 'game']\n",
      "\n",
      "\n",
      "THE TOP 20 WORDS FOR TOPIC #7\n",
      "['time', 'people', 'old', 'like', 'love', 'god', 'just', 'know', 'wrote', 'police', 'instagram', 'actor', 'children', 'life', 'ndash', 'family', 'rsquo', 'said', 'rdquo', 'ldquo']\n",
      "\n",
      "\n",
      "THE TOP 20 WORDS FOR TOPIC #8\n",
      "['growth', 'merger', 'loans', 'development', 'nexim', 'sector', 'central', 'billion', 'customers', 'said', 'banking', 'plc', 'emefiele', 'nigeria', 'access', 'diamond', 'financial', 'banks', 'cbn', 'bank']\n",
      "\n",
      "\n",
      "THE TOP 20 WORDS FOR TOPIC #9\n",
      "['known', 'boys', 'fashola', 'nigerian', 'davido', 'musician', 'ldquo', 'guilty', 'money', 'jail', 'justice', 'bail', 'crimes', 'singer', 'fraud', 'court', 'yahoo', 'naira', 'efcc', 'marley']\n",
      "\n",
      "\n"
     ]
    }
   ],
   "source": [
    "# View the the TOP 20 words of the all Topics \n",
    "\n",
    "for index,topic in enumerate(nmf_model.components_):\n",
    "    print(f'THE TOP 20 WORDS FOR TOPIC #{index}')\n",
    "    print([tfidf.get_feature_names()[i] for i in topic.argsort()[-20:]])\n",
    "    print('\\n')\n",
    "\n"
   ]
  },
  {
   "cell_type": "code",
   "execution_count": 77,
   "metadata": {},
   "outputs": [
    {
     "data": {
      "text/html": [
       "<div>\n",
       "<style scoped>\n",
       "    .dataframe tbody tr th:only-of-type {\n",
       "        vertical-align: middle;\n",
       "    }\n",
       "\n",
       "    .dataframe tbody tr th {\n",
       "        vertical-align: top;\n",
       "    }\n",
       "\n",
       "    .dataframe thead th {\n",
       "        text-align: right;\n",
       "    }\n",
       "</style>\n",
       "<table border=\"1\" class=\"dataframe\">\n",
       "  <thead>\n",
       "    <tr style=\"text-align: right;\">\n",
       "      <th></th>\n",
       "      <th>id</th>\n",
       "      <th>articles</th>\n",
       "      <th>Topic_lda</th>\n",
       "      <th>lda_labels</th>\n",
       "      <th>Topic_nmf</th>\n",
       "    </tr>\n",
       "  </thead>\n",
       "  <tbody>\n",
       "    <tr>\n",
       "      <th>0</th>\n",
       "      <td>1</td>\n",
       "      <td>What does it mean to be successful? Perhaps, o...</td>\n",
       "      <td>3</td>\n",
       "      <td>election</td>\n",
       "      <td>2</td>\n",
       "    </tr>\n",
       "    <tr>\n",
       "      <th>1</th>\n",
       "      <td>2</td>\n",
       "      <td>Much has been made of Africa&amp;rsquo;s unfavorab...</td>\n",
       "      <td>4</td>\n",
       "      <td>economy</td>\n",
       "      <td>3</td>\n",
       "    </tr>\n",
       "    <tr>\n",
       "      <th>2</th>\n",
       "      <td>3</td>\n",
       "      <td>A few days after a Damaris Wambui Kamau and he...</td>\n",
       "      <td>0</td>\n",
       "      <td>security</td>\n",
       "      <td>7</td>\n",
       "    </tr>\n",
       "    <tr>\n",
       "      <th>3</th>\n",
       "      <td>4</td>\n",
       "      <td>\\n\\n\\n\\nJust a few hours after their release o...</td>\n",
       "      <td>0</td>\n",
       "      <td>security</td>\n",
       "      <td>7</td>\n",
       "    </tr>\n",
       "    <tr>\n",
       "      <th>4</th>\n",
       "      <td>5</td>\n",
       "      <td>IPOA is investigating the murder of four peopl...</td>\n",
       "      <td>0</td>\n",
       "      <td>security</td>\n",
       "      <td>7</td>\n",
       "    </tr>\n",
       "    <tr>\n",
       "      <th>5</th>\n",
       "      <td>1436</td>\n",
       "      <td>Former President Jerry John Rawlings has calle...</td>\n",
       "      <td>0</td>\n",
       "      <td>security</td>\n",
       "      <td>0</td>\n",
       "    </tr>\n",
       "    <tr>\n",
       "      <th>6</th>\n",
       "      <td>6</td>\n",
       "      <td>David L. Poulson who served in Erie in North P...</td>\n",
       "      <td>0</td>\n",
       "      <td>security</td>\n",
       "      <td>9</td>\n",
       "    </tr>\n",
       "    <tr>\n",
       "      <th>7</th>\n",
       "      <td>7</td>\n",
       "      <td>In what started as a campaign strategy to a pr...</td>\n",
       "      <td>1</td>\n",
       "      <td>economy</td>\n",
       "      <td>0</td>\n",
       "    </tr>\n",
       "    <tr>\n",
       "      <th>8</th>\n",
       "      <td>8</td>\n",
       "      <td>\\n\\n\\n\\n\\n\\n\\n\\n\\n\\n\\n\\nThe fight for position...</td>\n",
       "      <td>0</td>\n",
       "      <td>security</td>\n",
       "      <td>7</td>\n",
       "    </tr>\n",
       "    <tr>\n",
       "      <th>9</th>\n",
       "      <td>9</td>\n",
       "      <td>Much has been made of Africa&amp;rsquo;s unfavorab...</td>\n",
       "      <td>4</td>\n",
       "      <td>economy</td>\n",
       "      <td>3</td>\n",
       "    </tr>\n",
       "  </tbody>\n",
       "</table>\n",
       "</div>"
      ],
      "text/plain": [
       "     id                                           articles  Topic_lda  \\\n",
       "0     1  What does it mean to be successful? Perhaps, o...          3   \n",
       "1     2  Much has been made of Africa&rsquo;s unfavorab...          4   \n",
       "2     3  A few days after a Damaris Wambui Kamau and he...          0   \n",
       "3     4  \\n\\n\\n\\nJust a few hours after their release o...          0   \n",
       "4     5  IPOA is investigating the murder of four peopl...          0   \n",
       "5  1436  Former President Jerry John Rawlings has calle...          0   \n",
       "6     6  David L. Poulson who served in Erie in North P...          0   \n",
       "7     7  In what started as a campaign strategy to a pr...          1   \n",
       "8     8  \\n\\n\\n\\n\\n\\n\\n\\n\\n\\n\\n\\nThe fight for position...          0   \n",
       "9     9  Much has been made of Africa&rsquo;s unfavorab...          4   \n",
       "\n",
       "  lda_labels  Topic_nmf  \n",
       "0   election          2  \n",
       "1    economy          3  \n",
       "2   security          7  \n",
       "3   security          7  \n",
       "4   security          7  \n",
       "5   security          0  \n",
       "6   security          9  \n",
       "7    economy          0  \n",
       "8   security          7  \n",
       "9    economy          3  "
      ]
     },
     "execution_count": 77,
     "metadata": {},
     "output_type": "execute_result"
    }
   ],
   "source": [
    "# Transforn the data on the fitted NMF instance\n",
    "topic_results = nmf_model.transform(dtm)\n",
    "\n",
    "# Create a new column called Topic_nmf and save the Topic id's in it\n",
    "\n",
    "topic_results.argmax(axis=1)\n",
    "\n",
    "df['Topic_nmf'] = topic_results.argmax(axis=1)\n",
    "\n",
    "df.head(10)\n",
    "\n"
   ]
  },
  {
   "cell_type": "code",
   "execution_count": 78,
   "metadata": {},
   "outputs": [],
   "source": [
    "#Using the same set of labels now rearrange them to suit the topics \n",
    "#i.e if topic 7 for lda was labeled election, but now topic 7 looks \n",
    "#to be social, then modify the labels_dict accordingly to suit NMF\n",
    "\n",
    "label_dict_NMF = {\n",
    "    0:'security',\n",
    "    1:'football',\n",
    "    2:'social',\n",
    "    3:'stock',\n",
    "    4:'football',\n",
    "    5:'election',\n",
    "    6:'football',\n",
    "    7:'social',\n",
    "    8:'economy',\n",
    "    9:'social'\n",
    "}\n",
    "# maintaining the six unique labels"
   ]
  },
  {
   "cell_type": "code",
   "execution_count": 79,
   "metadata": {},
   "outputs": [
    {
     "data": {
      "text/html": [
       "<div>\n",
       "<style scoped>\n",
       "    .dataframe tbody tr th:only-of-type {\n",
       "        vertical-align: middle;\n",
       "    }\n",
       "\n",
       "    .dataframe tbody tr th {\n",
       "        vertical-align: top;\n",
       "    }\n",
       "\n",
       "    .dataframe thead th {\n",
       "        text-align: right;\n",
       "    }\n",
       "</style>\n",
       "<table border=\"1\" class=\"dataframe\">\n",
       "  <thead>\n",
       "    <tr style=\"text-align: right;\">\n",
       "      <th></th>\n",
       "      <th>id</th>\n",
       "      <th>articles</th>\n",
       "      <th>Topic_lda</th>\n",
       "      <th>lda_labels</th>\n",
       "      <th>Topic_nmf</th>\n",
       "      <th>nmf_labels</th>\n",
       "    </tr>\n",
       "  </thead>\n",
       "  <tbody>\n",
       "    <tr>\n",
       "      <th>0</th>\n",
       "      <td>1</td>\n",
       "      <td>What does it mean to be successful? Perhaps, o...</td>\n",
       "      <td>3</td>\n",
       "      <td>election</td>\n",
       "      <td>2</td>\n",
       "      <td>stock</td>\n",
       "    </tr>\n",
       "    <tr>\n",
       "      <th>1</th>\n",
       "      <td>2</td>\n",
       "      <td>Much has been made of Africa&amp;rsquo;s unfavorab...</td>\n",
       "      <td>4</td>\n",
       "      <td>economy</td>\n",
       "      <td>3</td>\n",
       "      <td>football</td>\n",
       "    </tr>\n",
       "    <tr>\n",
       "      <th>2</th>\n",
       "      <td>3</td>\n",
       "      <td>A few days after a Damaris Wambui Kamau and he...</td>\n",
       "      <td>0</td>\n",
       "      <td>security</td>\n",
       "      <td>7</td>\n",
       "      <td>security</td>\n",
       "    </tr>\n",
       "    <tr>\n",
       "      <th>3</th>\n",
       "      <td>4</td>\n",
       "      <td>\\n\\n\\n\\nJust a few hours after their release o...</td>\n",
       "      <td>0</td>\n",
       "      <td>security</td>\n",
       "      <td>7</td>\n",
       "      <td>security</td>\n",
       "    </tr>\n",
       "    <tr>\n",
       "      <th>4</th>\n",
       "      <td>5</td>\n",
       "      <td>IPOA is investigating the murder of four peopl...</td>\n",
       "      <td>0</td>\n",
       "      <td>security</td>\n",
       "      <td>7</td>\n",
       "      <td>security</td>\n",
       "    </tr>\n",
       "  </tbody>\n",
       "</table>\n",
       "</div>"
      ],
      "text/plain": [
       "   id                                           articles  Topic_lda  \\\n",
       "0   1  What does it mean to be successful? Perhaps, o...          3   \n",
       "1   2  Much has been made of Africa&rsquo;s unfavorab...          4   \n",
       "2   3  A few days after a Damaris Wambui Kamau and he...          0   \n",
       "3   4  \\n\\n\\n\\nJust a few hours after their release o...          0   \n",
       "4   5  IPOA is investigating the murder of four peopl...          0   \n",
       "\n",
       "  lda_labels  Topic_nmf nmf_labels  \n",
       "0   election          2      stock  \n",
       "1    economy          3   football  \n",
       "2   security          7   security  \n",
       "3   security          7   security  \n",
       "4   security          7   security  "
      ]
     },
     "execution_count": 79,
     "metadata": {},
     "output_type": "execute_result"
    }
   ],
   "source": [
    "# Create a new column called lda_labels based on the map created above\n",
    "df['nmf_labels'] = df['Topic_lda'].map(label_dict_NMF)\n",
    "df.head()"
   ]
  },
  {
   "cell_type": "code",
   "execution_count": null,
   "metadata": {},
   "outputs": [],
   "source": []
  },
  {
   "cell_type": "code",
   "execution_count": 82,
   "metadata": {},
   "outputs": [
    {
     "data": {
      "text/plain": [
       "223"
      ]
     },
     "execution_count": 82,
     "metadata": {},
     "output_type": "execute_result"
    }
   ],
   "source": [
    "# How many of the articles share the same label \n",
    "\n",
    "len(df[df['lda_labels'] == df['nmf_labels']])"
   ]
  },
  {
   "cell_type": "code",
   "execution_count": 84,
   "metadata": {},
   "outputs": [
    {
     "data": {
      "text/plain": [
       "22.27772227772228"
      ]
     },
     "execution_count": 84,
     "metadata": {},
     "output_type": "execute_result"
    }
   ],
   "source": [
    "# What % of our articles were labelled with the same label by both topic models\n",
    "\n",
    "(len(df[df['lda_labels'] == df['nmf_labels']])/len(df))*100"
   ]
  },
  {
   "cell_type": "markdown",
   "metadata": {},
   "source": [
    "# Optional Challenge: Text Generation with Neural Networks"
   ]
  },
  {
   "cell_type": "code",
   "execution_count": 85,
   "metadata": {},
   "outputs": [
    {
     "data": {
      "text/plain": [
       "'TREATS OF THE PLACE WHERE OLIVER TWIST WAS BORN AND OF THE\\nCIRCUMSTANCES ATTENDING HIS BIRTH\\n\\nAmong other public buildings in a certain town, which for many reasons\\nit will be prudent to refrain from mentioning, and to which I will\\nassign no fictitious name, there is one anciently common to most towns,\\ngreat or small: to wit, a workhouse; and in this workhouse was born; on\\na day and date which I need not trouble myself to repeat, inasmuch as\\nit can be of no possible consequence to the reader, in this stage of\\nthe business at all events; the item of mortality whose name is\\nprefixed to the head of this chapter.\\n\\nFor a long time after it was ushered into this world of sorrow and\\ntrouble, by the parish surgeon, it remained a matter of considerable\\ndoubt whether the child would survive to bear any name at all; in which\\ncase it is somewhat more than probable that these memoirs would never\\nhave appeared; or, if they had, that being comprised within a couple of\\npages, they would have possessed the inestimable merit of being the\\nmost concise and faithful specimen of biography, extant in the\\nliterature of any age or country.\\n\\nAlthough I am not disposed to maintain that the being born in a\\nworkhouse, is in itself the most fortunate and enviable circumstance\\nthat can possibly befall a human being, I do mean to say that in this\\nparticular instance, it was the best thing for Oliver Twist that could\\nby possibility have occurred.  The fact is, that there was considerable\\ndifficulty in inducing Oliver to take upon himself the office of\\nrespiration,--a troublesome practice, but one which custom has rendered\\nnecessary to our easy existence; and for some time he lay gasping on a\\nlittle flock mattress, rather unequally poised between this world and\\nthe next: the balance being decidedly in favour of the latter.  Now,\\nif, during this brief period, Oliver had been surrounded by careful\\ngrandmothers, anxious aunts, experienced nurses, and doctors of\\nprofound wisdom, he would most inevitably and indubitably have been\\nkilled in no time.  There being nobody by, however, but a pauper old\\nwoman, who was rendered rather misty by an unwonted allowance of beer;\\nand a parish surgeon who did such matters by contract; Oliver and\\nNature fought out the point between them.  The result was, that, after\\na few struggles, Oliver breathed, sneezed, and proceeded to advertise\\nto the inmates of the workhouse the fact of a new burden having been\\nimposed  upon the parish, by setting up as loud a cry as could\\nreasonably have been expected from a male infant who had not been\\npossessed of that very useful appendage, a voice, for a much longer\\nspace of time than three minutes and a quarter.\\n\\nAs Oliver gave this first proof of the free and proper action of his\\nlungs, the patchwork coverlet which was carelessly flung over the iron\\nbedstead, rustled; the pale face of a young woman was raised feebly\\nfrom the pillow; and a faint voice imperfectly articulated the words,\\n\\'Let me see the child, and die.\\'\\n\\nThe surgeon had been sitting with his face turned towards the fire:\\ngiving the palms of his hands a warm and a rub alternately.  As the\\nyoung woman spoke, he rose, and advancing to the bed\\'s head, said, with\\nmore kindness than might have been expected of him:\\n\\n\\'Oh, you must not talk about dying yet.\\'\\n\\n\\'Lor bless her dear heart, no!\\' interposed the nurse, hastily\\ndepositing in her pocket a green glass bottle, the contents of which\\nshe had been tasting in a corner with evident satisfaction.\\n\\n\\'Lor bless her dear heart, when she has lived as long as I have, sir,\\nand had thirteen children of her own, and all on \\'em dead except two,\\nand them in the wurkus with me, she\\'ll know better than to take on in\\nthat way, bless her dear heart!  Think what it is to be a mother,\\nthere\\'s a dear young lamb do.\\'\\n\\nApparently this consolatory perspective of a mother\\'s prospects failed\\nin producing its due effect.  The patient shook her head, and stretched\\nout her hand towards the child.\\n\\nThe surgeon deposited it in her arms.  She imprinted her cold white\\nlips passionately on its forehead; passed her hands over her face;\\ngazed wildly round; shuddered; fell back--and died. They chafed her\\nbreast, hands, and temples; but the blood had stopped forever.  They\\ntalked of hope and comfort. They had been strangers too long.\\n\\n\\'It\\'s all over, Mrs. Thingummy!\\' said the surgeon at last.\\n\\n\\'Ah, poor dear, so it is!\\' said the nurse, picking up the cork of the\\ngreen bottle, which had fallen out on the pillow, as she stooped to\\ntake up the child.  \\'Poor dear!\\'\\n\\n\\'You needn\\'t mind sending up to me, if the child cries, nurse,\\' said\\nthe surgeon, putting on his gloves with great deliberation. \\'It\\'s very\\nlikely it _will_ be troublesome. Give it a little gruel if it is.\\'  He\\nput on his hat, and, pausing by the bed-side on his way to the door,\\nadded, \\'She was a good-looking girl, too; where did she come from?\\'\\n\\n\\'She was brought here last night,\\' replied the old woman, \\'by the\\noverseer\\'s order.  She was found lying in the street.  She had walked\\nsome distance, for her shoes were worn to pieces; but where she came\\nfrom, or where she was going to, nobody knows.\\'\\n\\nThe surgeon leaned over the body, and raised the left hand.  \\'The old\\nstory,\\' he said, shaking his head: \\'no wedding-ring, I see. Ah!\\nGood-night!\\'\\n\\nThe medical gentleman walked away to dinner; and the nurse, having once\\nmore applied herself to the green bottle, sat down on a low chair\\nbefore the fire, and proceeded to dress the infant.\\n\\nWhat an excellent example of the power of dress, young Oliver Twist\\nwas!  Wrapped in the blanket which had hitherto formed his only\\ncovering, he might have been the child of a nobleman or a beggar; it\\nwould have been hard for the haughtiest stranger to have assigned him\\nhis proper station in society.  But now that he was enveloped in the\\nold calico robes which had grown yellow in the same service, he was\\nbadged and ticketed, and fell into his place at once--a parish\\nchild--the orphan of a workhouse--the humble, half-starved drudge--to\\nbe cuffed and buffeted through the world--despised by all, and pitied\\nby none.\\n\\nOliver cried lustily. If he could have known that he was an orphan,\\nleft to the tender mercies of church-wardens and overseers, perhaps he\\nwould have cried the louder.\\n\\nTREATS OF OLIVER TWIST\\'S GROWTH, EDUCATION, AND BOARD\\n\\nFor the next eight or ten months, Oliver was the victim of a systematic\\ncourse of treachery and deception.  He was brought up by hand.  The\\nhungry and destitute situation of the infant orphan was duly reported\\nby the workhouse authorities to the parish authorities.  The parish\\nauthorities inquired with dignity of the workhouse authorities, whether\\nthere was no female then domiciled in \\'the house\\' who was in a\\nsituation to impart to Oliver Twist, the consolation and nourishment of\\nwhich he stood in need.  The workhouse authorities replied with\\nhumility, that there was not. Upon this, the parish authorities\\nmagnanimously and humanely resolved, that Oliver should be \\'farmed,\\'\\nor, in other words, that he should be dispatched to a branch-workhouse\\nsome three miles off, where twenty or thirty other juvenile offenders\\nagainst the poor-laws, rolled about the floor all day, without the\\ninconvenience of too much food or too much clothing, under the parental\\nsuperintendence of an elderly female, who received the culprits at and\\nfor the consideration of sevenpence-halfpenny per small head per week.\\nSevenpence-halfpenny\\'s worth per week is a good round diet for a child;\\na great deal may be got for sevenpence-halfpenny, quite enough to\\noverload its stomach, and make it uncomfortable. The elderly female was\\na woman of wisdom and experience; she knew what was good for children;\\nand she had a very accurate perception of what was good for herself.\\nSo, she appropriated the greater part of the weekly stipend to her own\\nuse, and consigned the rising parochial generation to even a shorter\\nallowance than was originally provided for them.  Thereby finding in\\nthe lowest depth a deeper still; and proving herself a very great\\nexperimental philosopher.\\n\\nEverybody knows the story of another experimental philosopher who had a\\ngreat theory about a horse being able to live without eating, and who\\ndemonstrated it so well, that he had got his own horse down to a straw\\na day, and would unquestionably have rendered him a very spirited and\\nrampacious animal on nothing at all, if he had not died,\\nfour-and-twenty hours before he was to have had his first comfortable\\nbait of air.  Unfortunately for, the experimental philosophy of the\\nfemale to whose protecting care Oliver Twist was delivered over, a\\nsimilar result usually attended the operation of _her_ system; for at\\nthe very moment when the child had contrived to exist upon the smallest\\npossible portion of the weakest possible food, it did perversely happen\\nin eight and a half cases out of ten, either that it sickened from want\\nand cold, or fell into the fire from neglect, or got half-smothered by\\naccident; in any one of which cases, the miserable little being was\\nusually summoned into another world, and there gathered to the fathers\\nit had never known in this.\\n\\nOccasionally, when there was some more than usually interesting inquest\\nupon a parish child who had been overlooked in turning up a bedstead,\\nor inadvertently scalded to death when there happened to be a\\nwashing--though the latter accident was very scarce, anything\\napproaching to a washing being of rare occurrence in the farm--the jury\\nwould take it into their heads to ask troublesome questions, or the\\nparishioners would rebelliously affix their signatures to a\\nremonstrance.  But these impertinences were speedily checked by the\\nevidence of the surgeon, and the testimony of the beadle; the former of\\nwhom had always opened the body and found nothing inside (which was\\nvery probable indeed), and the latter of whom invariably swore whatever\\nthe parish wanted; which was very self-devotional.  Besides, the board\\nmade periodical pilgrimages to the farm, and always sent the beadle the\\nday before, to say they were going.  The children were neat and clean\\nto behold, when _they_ went; and what more would the people have!\\n\\nIt cannot be expected that this system of farming would produce any\\nvery extraordinary or luxuriant crop.  Oliver Twist\\'s ninth birthday\\nfound him a pale thin child, somewhat diminutive in stature, and\\ndecidedly small in circumference.  But nature or inheritance had\\nimplanted a good sturdy spirit in Oliver\\'s breast.  It had had plenty\\nof room to expand, thanks to the spare diet of the establishment; and\\nperhaps to this circumstance may be attributed his having any ninth\\nbirth-day at all.  Be this as it may, however, it was his ninth\\nbirthday; and he was keeping it in the coal-cellar with a select party\\nof two other young gentleman, who, after participating with him in a\\nsound thrashing, had been locked up for atrociously presuming to be\\nhungry, when Mrs. Mann, the good lady of the house, was unexpectedly\\nstartled by the apparition of Mr. Bumble, the beadle, striving to undo\\nthe wicket of the garden-gate.\\n\\n\\'Goodness gracious!  Is that you, Mr. Bumble, sir?\\' said Mrs. Mann,\\nthrusting her head out of the window in well-affected ecstasies of joy.\\n\\'(Susan, take Oliver and them two brats upstairs, and wash \\'em\\ndirectly.)--My heart alive!  Mr. Bumble, how glad I am to see you,\\nsure-ly!\\'\\n\\nNow, Mr. Bumble was a fat man, and a choleric; so, instead of\\nresponding to this open-hearted salutation in a kindred spirit, he gave\\nthe little wicket a tremendous shake, and then bestowed upon it a kick\\nwhich could have emanated from no leg but a beadle\\'s.\\n\\n\\'Lor, only think,\\' said Mrs. Mann, running out,--for the three boys had\\nbeen removed by this time,--\\'only think of that!  That I should have\\nforgotten that the gate was bolted on the inside, on account of them\\ndear children!  Walk in sir; walk in, pray, Mr. Bumble, do, sir.\\'\\n\\nAlthough this invitation was accompanied with a curtsey that might have\\nsoftened the heart of a church-warden, it by no means mollified the\\nbeadle.\\n\\n\\'Do you think this respectful or proper conduct, Mrs. Mann,\\' inquired\\nMr. Bumble, grasping his cane, \\'to keep the parish officers a waiting\\nat your garden-gate, when they come here upon porochial business with\\nthe porochial orphans?  Are you aweer, Mrs. Mann, that you are, as I\\nmay say, a porochial delegate, and a stipendiary?\\'\\n\\n\\'I\\'m sure Mr. Bumble, that I was only a telling one or two of the dear\\nchildren as is so fond of you, that it was you a coming,\\' replied Mrs.\\nMann with great humility.\\n\\nMr. Bumble had a great idea of his oratorical powers and his\\nimportance.  He had displayed the one, and vindicated the other. He\\nrelaxed.\\n\\n\\'Well, well, Mrs. Mann,\\' he replied in a calmer tone; \\'it may be as you\\nsay; it may be.  Lead the way in, Mrs. Mann, for I come on business,\\nand have something to say.\\'\\n\\nMrs. Mann ushered the beadle into a small parlour with a brick floor;\\nplaced a seat for him; and officiously deposited his cocked hat and\\ncane on the table before him.  Mr. Bumble wiped from his forehead the\\nperspiration which his walk had engendered, glanced complacently at the\\ncocked hat, and smiled.  Yes, he smiled.  Beadles are but men: and Mr.\\nBumble smiled.\\n\\n\\'Now don\\'t you be offended at what I\\'m a going to say,\\' observed Mrs.\\nMann, with captivating sweetness.  \\'You\\'ve had a long walk, you know,\\nor I wouldn\\'t mention it.  Now, will you take a little drop of\\nsomethink, Mr. Bumble?\\'\\n\\n\\'Not a drop.  Nor a drop,\\' said Mr. Bumble, waving his right hand in a\\ndignified, but placid manner.\\n\\n\\'I think you will,\\' said Mrs. Mann, who had noticed the tone of the\\nrefusal, and the gesture that had accompanied it.  \\'Just a leetle drop,\\nwith a little cold water, and a lump of sugar.\\'\\n\\nMr. Bumble coughed.\\n\\n\\'Now, just a leetle drop,\\' said Mrs. Mann persuasively.\\n\\n\\'What is it?\\' inquired the beadle.\\n\\n\\'Why, it\\'s what I\\'m obliged to keep a little of in the house, to put\\ninto the blessed infants\\' Daffy, when they ain\\'t well, Mr. Bumble,\\'\\nreplied Mrs. Mann as she opened a corner cupboard, and took down a\\nbottle and glass.  \\'It\\'s gin.  I\\'ll not deceive you, Mr. B.  It\\'s gin.\\'\\n\\n\\'Do you give the children Daffy, Mrs. Mann?\\' inquired Bumble, following\\nwith his eyes the interesting process of mixing.\\n\\n\\'Ah, bless \\'em, that I do, dear as it is,\\' replied the nurse. \\'I\\ncouldn\\'t see \\'em suffer before my very eyes, you know sir.\\'\\n\\n\\'No\\'; said Mr. Bumble approvingly; \\'no, you could not.  You are a\\nhumane woman, Mrs. Mann.\\'  (Here she set down the glass.)  \\'I shall\\ntake a early opportunity of mentioning it to the board, Mrs. Mann.\\'\\n(He drew it towards him.)  \\'You feel as a mother, Mrs. Mann.\\'  (He\\nstirred the gin-and-water.) \\'I--I drink your health with cheerfulness,\\nMrs. Mann\\'; and he swallowed half of it.\\n\\n\\'And now about business,\\' said the beadle, taking out a leathern\\npocket-book.  \\'The child that was half-baptized Oliver Twist, is nine\\nyear old to-day.\\'\\n\\n\\'Bless him!\\' interposed Mrs. Mann, inflaming her left eye with the\\ncorner of her apron.\\n\\n\\'And notwithstanding a offered reward of ten pound, which was\\nafterwards increased to twenty pound.  Notwithstanding the most\\nsuperlative, and, I may say, supernat\\'ral exertions on the part of this\\nparish,\\' said Bumble, \\'we have never been able to discover who is his\\nfather, or what was his mother\\'s settlement, name, or condition.\\'\\n\\nMrs. Mann raised her hands in astonishment; but added, after a moment\\'s\\nreflection, \\'How comes he to have any name at all, then?\\'\\n\\nThe beadle drew himself up with great pride, and said, \\'I inwented it.\\'\\n\\n\\'You, Mr. Bumble!\\'\\n\\n\\'I, Mrs. Mann.  We name our fondlings in alphabetical order. The last\\nwas a S,--Swubble, I named him. This was a T,--Twist, I named _him_.\\nThe next one comes will be Unwin, and the next Vilkins.  I have got\\nnames ready made to the end of the alphabet, and all the way through it\\nagain, when we come to Z.\\'\\n\\n\\'Why, you\\'re quite a literary character, sir!\\' said Mrs. Mann.\\n\\n\\'Well, well,\\' said the beadle, evidently gratified with the compliment;\\n\\'perhaps I may be.  Perhaps I may be, Mrs. Mann.\\' He finished the\\ngin-and-water, and added, \\'Oliver being now too old to remain here, the\\nboard have determined to have him back into the house.  I have come out\\nmyself to take him there.  So let me see him at once.\\'\\n\\n\\'I\\'ll fetch him directly,\\' said Mrs. Mann, leaving the room for that\\npurpose.  Oliver, having had by this time as much of the outer coat of\\ndirt which encrusted his face and hands, removed, as could be scrubbed\\noff in one washing, was led into the room by his benevolent protectress.\\n\\n\\'Make a bow to the gentleman, Oliver,\\' said Mrs. Mann.\\n\\nOliver made a bow, which was divided between the beadle on the chair,\\nand the cocked hat on the table.\\n\\n\\'Will you go along with me, Oliver?\\' said Mr. Bumble, in a majestic\\nvoice.\\n\\nOliver was about to say that he would go along with anybody with great\\nreadiness, when, glancing upward, he caught sight of Mrs. Mann, who had\\ngot behind the beadle\\'s chair, and was shaking her fist at him with a\\nfurious countenance.  He took the hint at once, for the fist had been\\ntoo often impressed upon his body not to be deeply impressed upon his\\nrecollection.\\n\\n\\'Will she go with me?\\' inquired poor Oliver.\\n\\n\\'No, she can\\'t,\\' replied Mr. Bumble.  \\'But she\\'ll come and see you\\nsometimes.\\'\\n\\nThis was no very great consolation to the child.  Young as he was,\\nhowever, he had sense enough to make a feint of feeling great regret at\\ngoing away.  It was no very difficult matter for the boy to call tears\\ninto his eyes.  Hunger and recent ill-usage are great assistants if you\\nwant to cry; and Oliver cried very naturally indeed.  Mrs. Mann gave\\nhim a thousand embraces, and what Oliver wanted a great deal more, a\\npiece of bread and butter, less he should seem too hungry when he got\\nto the workhouse. With the slice of bread in his hand, and the little\\nbrown-cloth parish cap on his head, Oliver was then led away by Mr.\\nBumble from the wretched home where one kind word or look had never\\nlighted the gloom of his infant years.  And yet he burst into an agony\\nof childish grief, as the cottage-gate closed after him.  Wretched as\\nwere the little companions in misery he was leaving behind, they were\\nthe only friends he had ever known; and a sense of his loneliness in\\nthe great wide world, sank into the child\\'s heart for the first time.\\n\\nMr. Bumble walked on with long strides; little Oliver, firmly grasping\\nhis gold-laced cuff, trotted beside him, inquiring at the end of every\\nquarter of a mile whether they were \\'nearly there.\\' To these\\ninterrogations Mr. Bumble returned very brief and snappish replies; for\\nthe temporary blandness which gin-and-water awakens in some bosoms had\\nby this time evaporated; and he was once again a beadle.\\n\\nOliver had not been within the walls of the workhouse a quarter of an\\nhour, and had scarcely completed the demolition of a second slice of\\nbread, when Mr. Bumble, who had handed him over to the care of an old\\nwoman, returned; and, telling him it was a board night, informed him\\nthat the board had said he was to appear before it forthwith.\\n\\nNot having a very clearly defined notion of what a live board was,\\nOliver was rather astounded by this intelligence, and was not quite\\ncertain whether he ought to laugh or cry.  He had no time to think\\nabout the matter, however; for Mr. Bumble gave him a tap on the head,\\nwith his cane, to wake him up: and another on the back to make him\\nlively: and bidding him to follow, conducted him into a large\\nwhite-washed room, where eight or ten fat gentlemen were sitting round\\na table.  At the top of the table, seated in an arm-chair rather higher\\nthan the rest, was a particularly fat gentleman with a very round, red\\nface.\\n\\n\\'Bow to the board,\\' said Bumble.  Oliver brushed away two or three\\ntears that were lingering in his eyes; and seeing no board but the\\ntable, fortunately bowed to that.\\n\\n\\'What\\'s your name, boy?\\' said the gentleman in the high chair.\\n\\nOliver was frightened at the sight of so many gentlemen, which made him\\ntremble: and the beadle gave him another tap behind, which made him\\ncry.  These two causes made him answer in a very low and hesitating\\nvoice; whereupon a gentleman in a white waistcoat said he was a fool.\\nWhich was a capital way of raising his spirits, and putting him quite\\nat his ease.\\n\\n\\'Boy,\\' said the gentleman in the high chair, \\'listen to me. You know\\nyou\\'re an orphan, I suppose?\\'\\n\\n\\'What\\'s that, sir?\\' inquired poor Oliver.\\n\\n\\'The boy _is_ a fool--I thought he was,\\' said the gentleman in the\\nwhite waistcoat.\\n\\n\\'Hush!\\' said the gentleman who had spoken first.  \\'You know you\\'ve got\\nno father or mother, and that you were brought up by the parish, don\\'t\\nyou?\\'\\n\\n\\'Yes, sir,\\' replied Oliver, weeping bitterly.\\n\\n\\'What are you crying for?\\' inquired the gentleman in the white\\nwaistcoat.  And to be sure it was very extraordinary.  What _could_ the\\nboy be crying for?\\n\\n\\'I hope you say your prayers every night,\\' said another gentleman in a\\ngruff voice; \\'and pray for the people who feed you, and take care of\\nyou--like a Christian.\\'\\n\\n\\'Yes, sir,\\' stammered the boy.  The gentleman who spoke last was\\nunconsciously right.  It would have been very like a Christian, and a\\nmarvellously good Christian too, if Oliver had prayed for the people\\nwho fed and took care of _him_. But he hadn\\'t, because nobody had\\ntaught him.\\n\\n\\'Well!  You have come here to be educated, and taught a useful trade,\\'\\nsaid the red-faced gentleman in the high chair.\\n\\n\\'So you\\'ll begin to pick oakum to-morrow morning at six o\\'clock,\\' added\\nthe surly one in the white waistcoat.\\n\\nFor the combination of both these blessings in the one simple process\\nof picking oakum, Oliver bowed low by the direction of the beadle, and\\nwas then hurried away to a large ward; where, on a rough, hard bed, he\\nsobbed himself to sleep.  What a novel illustration of the tender laws\\nof England!  They let the paupers go to sleep!\\n\\nPoor Oliver!  He little thought, as he lay sleeping in happy\\nunconsciousness of all around him, that the board had that very day\\narrived at a decision which would exercise the most material influence\\nover all his future fortunes.  But they had.  And this was it:\\n\\nThe members of this board were very sage, deep, philosophical men; and\\nwhen they came to turn their attention to the workhouse, they found out\\nat once, what ordinary folks would never have discovered--the poor\\npeople liked it!  It was a regular place of public entertainment for\\nthe poorer classes; a tavern where there was nothing to pay; a public\\nbreakfast, dinner, tea, and supper all the year round; a brick and\\nmortar elysium, where it was all play and no work.  \\'Oho!\\' said the\\nboard, looking very knowing; \\'we are the fellows to set this to rights;\\nwe\\'ll stop it all, in no time.\\'  So, they established the rule, that\\nall poor people should have the alternative (for they would compel\\nnobody, not they), of being starved by a gradual process in the house,\\nor by a quick one out of it.  With this view, they contracted with the\\nwater-works to lay on an unlimited supply of water; and with a\\ncorn-factor to supply periodically small quantities of oatmeal; and\\nissued three meals of thin gruel a day, with an onion twice a week, and\\nhalf a roll of Sundays.  They made a great many other wise and humane\\nregulations, having reference to the ladies, which it is not necessary\\nto repeat; kindly undertook to divorce poor married people, in\\nconsequence of the great expense of a suit in Doctors\\' Commons; and,\\ninstead of compelling a man to support his family, as they had\\ntheretofore done, took his family away from him, and made him a\\nbachelor!  There is no saying how many applicants for relief, under\\nthese last two heads, might have started up in all classes of society,\\nif it had not been coupled with the workhouse; but the board were\\nlong-headed men, and had provided for this difficulty.  The relief was\\ninseparable from the workhouse and the gruel; and that frightened\\npeople.\\n\\nFor the first six months after Oliver Twist was removed, the system was\\nin full operation.  It was rather expensive at first, in consequence of\\nthe increase in the undertaker\\'s bill, and the necessity of taking in\\nthe clothes of all the paupers, which fluttered loosely on their\\nwasted, shrunken forms, after a week or two\\'s gruel.  But the number of\\nworkhouse inmates got thin as well as the paupers; and the board were\\nin ecstasies.\\n\\nThe room in which the boys were fed, was a large stone hall, with a\\ncopper at one end: out of which the master, dressed in an apron for the\\npurpose, and assisted by one or two women, ladled the gruel at\\nmealtimes.  Of this festive composition each boy had one porringer, and\\nno more--except on occasions of great public rejoicing, when he had two\\nounces and a quarter of bread besides.\\n\\nThe bowls never wanted washing.  The boys polished them with their\\nspoons till they shone again; and when they had performed this\\noperation (which never took very long, the spoons being nearly as large\\nas the bowls), they would sit staring at the copper, with such eager\\neyes, as if they could have devoured the very bricks of which it was\\ncomposed; employing themselves, meanwhile, in sucking their fingers\\nmost assiduously, with the view of catching up any stray splashes of\\ngruel that might have been cast thereon.  Boys have generally excellent\\nappetites. Oliver Twist and his companions suffered the tortures of\\nslow starvation for three months: at last they got so voracious and\\nwild with hunger, that one boy, who was tall for his age, and hadn\\'t\\nbeen used to that sort of thing (for his father had kept a small\\ncook-shop), hinted darkly to his companions, that unless he had another\\nbasin of gruel per diem, he was afraid he might some night happen to\\neat the boy who slept next him, who happened to be a weakly youth of\\ntender age.  He had a wild, hungry eye; and they implicitly believed\\nhim. A council was held; lots were cast who should walk up to the\\nmaster after supper that evening, and ask for more; and it fell to\\nOliver Twist.\\n\\nThe evening arrived; the boys took their places.  The master, in his\\ncook\\'s uniform, stationed himself at the copper; his pauper assistants\\nranged themselves behind him; the gruel was served out; and a long\\ngrace was said over the short commons.  The gruel disappeared; the boys\\nwhispered each other, and winked at Oliver; while his next neighbors\\nnudged him.  Child as he was, he was desperate with hunger, and\\nreckless with misery.  He rose from the table; and advancing to the\\nmaster, basin and spoon in hand, said: somewhat alarmed at his own\\ntemerity:\\n\\n\\'Please, sir, I want some more.\\'\\n\\nThe master was a fat, healthy man; but he turned very pale. He gazed in\\nstupefied astonishment on the small rebel for some seconds, and then\\nclung for support to the copper.  The assistants were paralysed with\\nwonder; the boys with fear.\\n\\n\\'What!\\' said the master at length, in a faint voice.\\n\\n\\'Please, sir,\\' replied Oliver, \\'I want some more.\\'\\n\\nThe master aimed a blow at Oliver\\'s head with the ladle; pinioned him\\nin his arm; and shrieked aloud for the beadle.\\n\\nThe board were sitting in solemn conclave, when Mr. Bumble rushed into\\nthe room in great excitement, and addressing the gentleman in the high\\nchair, said,\\n\\n\\'Mr. Limbkins, I beg your pardon, sir!  Oliver Twist has asked for\\nmore!\\'\\n\\nThere was a general start.  Horror was depicted on every countenance.\\n\\n\\'For _more_!\\' said Mr. Limbkins.  \\'Compose yourself, Bumble, and answer\\nme distinctly.  Do I understand that he asked for more, after he had\\neaten the supper allotted by the dietary?\\'\\n\\n\\'He did, sir,\\' replied Bumble.\\n\\n\\'That boy will be hung,\\' said the gentleman in the white waistcoat.  \\'I\\nknow that boy will be hung.\\'\\n\\nNobody controverted the prophetic gentleman\\'s opinion.  An animated\\ndiscussion took place.  Oliver was ordered into instant confinement;\\nand a bill was next morning pasted on the outside of the gate, offering\\na reward of five pounds to anybody who would take Oliver Twist off the\\nhands of the parish.  In other words, five pounds and Oliver Twist were\\noffered to any man or woman who wanted an apprentice to any trade,\\nbusiness, or calling.\\n\\n\\'I never was more convinced of anything in my life,\\' said the gentleman\\nin the white waistcoat, as he knocked at the gate and read the bill\\nnext morning: \\'I never was more convinced of anything in my life, than\\nI am that that boy will come to be hung.\\'\\n\\nAs I purpose to show in the sequel whether the white waistcoated\\ngentleman was right or not, I should perhaps mar the interest of this\\nnarrative (supposing it to possess any at all), if I ventured to hint\\njust yet, whether the life of Oliver Twist had this violent termination\\nor no.\\n\\nRELATES HOW OLIVER TWIST WAS VERY NEAR GETTING A PLACE WHICH WOULD NOT\\nHAVE BEEN A SINECURE\\n\\nFor a week after the commission of the impious and profane offence of\\nasking for more, Oliver remained a close prisoner in the dark and\\nsolitary room to which he had been consigned by the wisdom and mercy of\\nthe board.  It appears, at first sight not unreasonable to suppose,\\nthat, if he had entertained a becoming feeling of respect for the\\nprediction of the gentleman in the white waistcoat, he would have\\nestablished that sage individual\\'s prophetic character, once and for\\never, by tying one end of his pocket-handkerchief to a hook in the\\nwall, and attaching himself to the other.  To the performance of this\\nfeat, however, there was one obstacle: namely, that\\npocket-handkerchiefs being decided articles of luxury, had been, for\\nall future times and ages, removed from the noses of paupers by the\\nexpress order of the board, in council assembled: solemnly given and\\npronounced under their hands and seals.  There was a still greater\\nobstacle in Oliver\\'s youth and childishness.  He only cried bitterly\\nall day; and, when the long, dismal night came on, spread his little\\nhands before his eyes to shut out the darkness, and crouching in the\\ncorner, tried to sleep: ever and anon waking with a start and tremble,\\nand drawing himself closer and closer to the wall, as if to feel even\\nits cold hard surface were a protection in the gloom and loneliness\\nwhich surrounded him.\\n\\nLet it not be supposed by the enemies of \\'the system,\\' that, during the\\nperiod of his solitary incarceration, Oliver was denied the benefit of\\nexercise, the pleasure of society, or the advantages of religious\\nconsolation.  As for exercise, it was nice cold weather, and he was\\nallowed to perform his ablutions every morning under the pump, in a\\nstone yard, in the presence of Mr. Bumble, who prevented his catching\\ncold, and caused a tingling sensation to pervade his frame, by repeated\\napplications of the cane.  As for society, he was carried every other\\nday into the hall where the boys dined, and there sociably flogged as a\\npublic warning and example.  And so far from being denied the\\nadvantages of religious consolation, he was kicked into the same\\napartment every evening at prayer-time, and there permitted to listen\\nto, and console his mind with, a general supplication of the boys,\\ncontaining a special clause, therein inserted by authority of the\\nboard, in which they entreated to be made good, virtuous, contented,\\nand obedient, and to be guarded from the sins and vices of Oliver\\nTwist: whom the supplication distinctly set forth to be under the\\nexclusive patronage and protection of the powers of wickedness, and an\\narticle direct from the manufactory of the very Devil himself.\\n\\nIt chanced one morning, while Oliver\\'s affairs were in this auspicious\\nand comfortable state, that Mr. Gamfield, chimney-sweep, went his way\\ndown the High Street, deeply cogitating in his mind his ways and means\\nof paying certain arrears of rent, for which his landlord had become\\nrather pressing.  Mr. Gamfield\\'s most sanguine estimate of his finances\\ncould not raise them within full five pounds of the desired amount;\\nand, in a species of arithmetical desperation, he was alternately\\ncudgelling his brains and his donkey, when passing the workhouse, his\\neyes encountered the bill on the gate.\\n\\n\\'Wo--o!\\' said Mr. Gamfield to the donkey.\\n\\nThe donkey was in a state of profound abstraction: wondering, probably,\\nwhether he was destined to be regaled with a cabbage-stalk or two when\\nhe had disposed of the two sacks of soot with which the little cart was\\nladen; so, without noticing the word of command, he jogged onward.\\n\\nMr. Gamfield growled a fierce imprecation on the donkey generally, but\\nmore particularly on his eyes; and, running after him, bestowed a blow\\non his head, which would inevitably have beaten in any skull but a\\ndonkey\\'s.  Then, catching hold of the bridle, he gave his jaw a sharp\\nwrench, by way of gentle reminder that he was not his own master; and\\nby these means turned him round.  He then gave him another blow on the\\nhead, just to stun him till he came back again.  Having completed these\\narrangements, he walked up to the gate, to read the bill.\\n\\nThe gentleman with the white waistcoat was standing at the gate with\\nhis hands behind him, after having delivered himself of some profound\\nsentiments in the board-room.  Having witnessed the little dispute\\nbetween Mr. Gamfield and the donkey, he smiled joyously when that\\nperson came up to read the bill, for he saw at once that Mr. Gamfield\\nwas exactly the sort of master Oliver Twist wanted.  Mr. Gamfield\\nsmiled, too, as he perused the document; for five pounds was just the\\nsum he had been wishing for; and, as to the boy with which it was\\nencumbered, Mr. Gamfield, knowing what the dietary of the workhouse\\nwas, well knew he would be a nice small pattern, just the very thing\\nfor register stoves.  So, he spelt the bill through again, from\\nbeginning to end; and then, touching his fur cap in token of humility,\\naccosted the gentleman in the white waistcoat.\\n\\n\\'This here boy, sir, wot the parish wants to \\'prentis,\\' said Mr.\\nGamfield.\\n\\n\\'Ay, my man,\\' said the gentleman in the white waistcoat, with a\\ncondescending smile.  \\'What of him?\\'\\n\\n\\'If the parish vould like him to learn a right pleasant trade, in a\\ngood \\'spectable chimbley-sweepin\\' bisness,\\' said Mr. Gamfield, \\'I wants\\na \\'prentis, and I am ready to take him.\\'\\n\\n\\'Walk in,\\' said the gentleman in the white waistcoat.  Mr. Gamfield\\nhaving lingered behind, to give the donkey another blow on the head,\\nand another wrench of the jaw, as a caution not to run away in his\\nabsence, followed the gentleman with the white waistcoat into the room\\nwhere Oliver had first seen him.\\n\\n\\'It\\'s a nasty trade,\\' said Mr. Limbkins, when Gamfield had again stated\\nhis wish.\\n\\n\\'Young boys have been smothered in chimneys before now,\\' said another\\ngentleman.\\n\\n\\'That\\'s acause they damped the straw afore they lit it in the chimbley\\nto make \\'em come down again,\\' said Gamfield; \\'that\\'s all smoke, and no\\nblaze; vereas smoke ain\\'t o\\' no use at all in making a boy come down,\\nfor it only sinds him to sleep, and that\\'s wot he likes.  Boys is wery\\nobstinit, and wery lazy, Gen\\'l\\'men, and there\\'s nothink like a good hot\\nblaze to make \\'em come down vith a run.  It\\'s humane too, gen\\'l\\'men,\\nacause, even if they\\'ve stuck in the chimbley, roasting their feet\\nmakes \\'em struggle to hextricate theirselves.\\'\\n\\nThe gentleman in the white waistcoat appeared very much amused by this\\nexplanation; but his mirth was speedily checked by a look from Mr.\\nLimbkins.  The board then proceeded to converse among themselves for a\\nfew minutes, but in so low a tone, that the words \\'saving of\\nexpenditure,\\' \\'looked well in the accounts,\\' \\'have a printed report\\npublished,\\' were alone audible.  These only chanced to be heard,\\nindeed, or account of their being very frequently repeated with great\\nemphasis.\\n\\nAt length the whispering ceased; and the members of the board, having\\nresumed their seats and their solemnity, Mr. Limbkins said:\\n\\n\\'We have considered your proposition, and we don\\'t approve of it.\\'\\n\\n\\'Not at all,\\' said the gentleman in the white waistcoat.\\n\\n\\'Decidedly not,\\' added the other members.\\n\\nAs Mr. Gamfield did happen to labour under the slight imputation of\\nhaving bruised three or four boys to death already, it occurred to him\\nthat the board had, perhaps, in some unaccountable freak, taken it into\\ntheir heads that this extraneous circumstance ought to influence their\\nproceedings. It was very unlike their general mode of doing business,\\nif they had; but still, as he had no particular wish to revive the\\nrumour, he twisted his cap in his hands, and walked slowly from the\\ntable.\\n\\n\\'So you won\\'t let me have him, gen\\'l\\'men?\\' said Mr. Gamfield, pausing\\nnear the door.\\n\\n\\'No,\\' replied Mr. Limbkins; \\'at least, as it\\'s a nasty business, we\\nthink you ought to take something less than the premium we offered.\\'\\n\\nMr. Gamfield\\'s countenance brightened, as, with a quick step, he\\nreturned to the table, and said,\\n\\n\\'What\\'ll you give, gen\\'l\\'men?  Come!  Don\\'t be too hard on a poor man.\\nWhat\\'ll you give?\\'\\n\\n\\'I should say, three pound ten was plenty,\\' said Mr. Limbkins.\\n\\n\\'Ten shillings too much,\\' said the gentleman in the white waistcoat.\\n\\n\\'Come!\\' said Gamfield; \\'say four pound, gen\\'l\\'men.  Say four pound, and\\nyou\\'ve got rid of him for good and all.  There!\\'\\n\\n\\'Three pound ten,\\' repeated Mr. Limbkins, firmly.\\n\\n\\'Come!  I\\'ll split the diff\\'erence, gen\\'l\\'men,\\' urged Gamfield. \\'Three\\npound fifteen.\\'\\n\\n\\'Not a farthing more,\\' was the firm reply of Mr. Limbkins.\\n\\n\\'You\\'re desperate hard upon me, gen\\'l\\'men,\\' said Gamfield, wavering.\\n\\n\\'Pooh!  pooh!  nonsense!\\' said the gentleman in the white waistcoat.\\n\\'He\\'d be cheap with nothing at all, as a premium. Take him, you silly\\nfellow!  He\\'s just the boy for you.  He wants the stick, now and then:\\nit\\'ll do him good; and his board needn\\'t come very expensive, for he\\nhasn\\'t been overfed since he was born.  Ha!  ha!  ha!\\'\\n\\nMr. Gamfield gave an arch look at the faces round the table, and,\\nobserving a smile on all of them, gradually broke into a smile himself.\\nThe bargain was made.  Mr. Bumble, was at once instructed that Oliver\\nTwist and his indentures were to be conveyed before the magistrate, for\\nsignature and approval, that very afternoon.\\n\\nIn pursuance of this determination, little Oliver, to his excessive\\nastonishment, was released from bondage, and ordered to put himself\\ninto a clean shirt.  He had hardly achieved this very unusual gymnastic\\nperformance, when Mr. Bumble brought him, with his own hands, a basin\\nof gruel, and the holiday allowance of two ounces and a quarter of\\nbread. At this tremendous sight, Oliver began to cry very piteously:\\nthinking, not unnaturally, that the board must have determined to kill\\nhim for some useful purpose, or they never would have begun to fatten\\nhim up in that way.\\n\\n\\'Don\\'t make your eyes red, Oliver, but eat your food and be thankful,\\'\\nsaid Mr. Bumble, in a tone of impressive pomposity. \\'You\\'re a going to\\nbe made a \\'prentice of, Oliver.\\'\\n\\n\\'A prentice, sir!\\' said the child, trembling.\\n\\n\\'Yes, Oliver,\\' said Mr. Bumble.  \\'The kind and blessed gentleman which\\nis so many parents to you, Oliver, when you have none of your own: are\\na going to \\'prentice\\' you: and to set you up in life, and make a man of\\nyou: although the expense to the parish is three pound ten!--three\\npound ten, Oliver!--seventy shillins--one hundred and forty\\nsixpences!--and all for a naughty orphan which nobody can\\'t love.\\'\\n\\nAs Mr. Bumble paused to take breath, after delivering this address in\\nan awful voice, the tears rolled down the poor child\\'s face, and he\\nsobbed bitterly.\\n\\n\\'Come,\\' said Mr. Bumble, somewhat less pompously, for it was gratifying\\nto his feelings to observe the effect his eloquence had produced;\\n\\'Come, Oliver!  Wipe your eyes with the cuffs of your jacket, and don\\'t\\ncry into your gruel; that\\'s a very foolish action, Oliver.\\'  It\\ncertainly was, for there was quite enough water in it already.\\n\\nOn their way to the magistrate, Mr. Bumble instructed Oliver that all\\nhe would have to do, would be to look very happy, and say, when the\\ngentleman asked him if he wanted to be apprenticed, that he should like\\nit very much indeed; both of which injunctions Oliver promised to obey:\\nthe rather as Mr. Bumble threw in a gentle hint, that if he failed in\\neither particular, there was no telling what would be done to him. When\\nthey arrived at the office, he was shut up in a little room by himself,\\nand admonished by Mr. Bumble to stay there, until he came back to fetch\\nhim.\\n\\nThere the boy remained, with a palpitating heart, for half an hour.  At\\nthe expiration of which time Mr. Bumble thrust in his head, unadorned\\nwith the cocked hat, and said aloud:\\n\\n\\'Now, Oliver, my dear, come to the gentleman.\\'  As Mr. Bumble said\\nthis, he put on a grim and threatening look, and added, in a low voice,\\n\\'Mind what I told you, you young rascal!\\'\\n\\nOliver stared innocently in Mr. Bumble\\'s face at this somewhat\\ncontradictory style of address; but that gentleman prevented his\\noffering any remark thereupon, by leading him at once into an adjoining\\nroom: the door of which was open. It was a large room, with a great\\nwindow.  Behind a desk, sat two old gentleman with powdered heads: one\\nof whom was reading the newspaper; while the other was perusing, with\\nthe aid of a pair of tortoise-shell spectacles, a small piece of\\nparchment which lay before him.  Mr. Limbkins was standing in front of\\nthe desk on one side; and Mr. Gamfield, with a partially washed face,\\non the other; while two or three bluff-looking men, in top-boots, were\\nlounging about.\\n\\nThe old gentleman with the spectacles gradually dozed off, over the\\nlittle bit of parchment; and there was a short pause, after Oliver had\\nbeen stationed by Mr. Bumble in front of the desk.\\n\\n\\'This is the boy, your worship,\\' said Mr. Bumble.\\n\\nThe old gentleman who was reading the newspaper raised his head for a\\nmoment, and pulled the other old gentleman by the sleeve; whereupon,\\nthe last-mentioned old gentleman woke up.\\n\\n\\'Oh, is this the boy?\\' said the old gentleman.\\n\\n\\'This is him, sir,\\' replied Mr. Bumble.  \\'Bow to the magistrate, my\\ndear.\\'\\n\\nOliver roused himself, and made his best obeisance.  He had been\\nwondering, with his eyes fixed on the magistrates\\' powder, whether all\\nboards were born with that white stuff on their heads, and were boards\\nfrom thenceforth on that account.\\n\\n\\'Well,\\' said the old gentleman, \\'I suppose he\\'s fond of\\nchimney-sweeping?\\'\\n\\n\\'He doats on it, your worship,\\' replied Bumble; giving Oliver a sly\\npinch, to intimate that he had better not say he didn\\'t.\\n\\n\\'And he _will_ be a sweep, will he?\\' inquired the old gentleman.\\n\\n\\'If we was to bind him to any other trade to-morrow, he\\'d run away\\nsimultaneous, your worship,\\' replied Bumble.\\n\\n\\'And this man that\\'s to be his master--you, sir--you\\'ll treat him well,\\nand feed him, and do all that sort of thing, will you?\\' said the old\\ngentleman.\\n\\n\\'When I says I will, I means I will,\\' replied Mr. Gamfield doggedly.\\n\\n\\'You\\'re a rough speaker, my friend, but you look an honest,\\nopen-hearted man,\\' said the old gentleman: turning his spectacles in\\nthe direction of the candidate for Oliver\\'s premium, whose villainous\\ncountenance was a regular stamped receipt for cruelty.  But the\\nmagistrate was half blind and half childish, so he couldn\\'t reasonably\\nbe expected to discern what other people did.\\n\\n\\'I hope I am, sir,\\' said Mr. Gamfield, with an ugly leer.\\n\\n\\'I have no doubt you are, my friend,\\' replied the old gentleman: fixing\\nhis spectacles more firmly on his nose, and looking about him for the\\ninkstand.\\n\\nIt was the critical moment of Oliver\\'s fate.  If the inkstand had been\\nwhere the old gentleman thought it was, he would have dipped his pen\\ninto it, and signed the indentures, and Oliver would have been\\nstraightway hurried off.  But, as it chanced to be immediately under\\nhis nose, it followed, as a matter of course, that he looked all over\\nhis desk for it, without finding it; and happening in the course of his\\nsearch to look straight before him, his gaze encountered the pale and\\nterrified face of Oliver Twist: who, despite all the admonitory looks\\nand pinches of Bumble, was regarding the repulsive countenance of his\\nfuture master, with a mingled expression of horror and fear, too\\npalpable to be mistaken, even by a half-blind magistrate.\\n\\nThe old gentleman stopped, laid down his pen, and looked from Oliver to\\nMr. Limbkins; who attempted to take snuff with a cheerful and\\nunconcerned aspect.\\n\\n\\'My boy!\\' said the old gentleman, \\'you look pale and alarmed. What is\\nthe matter?\\'\\n\\n\\'Stand a little away from him, Beadle,\\' said the other magistrate:\\nlaying aside the paper, and leaning forward with an expression of\\ninterest.  \\'Now, boy, tell us what\\'s the matter: don\\'t be afraid.\\'\\n\\nOliver fell on his knees, and clasping his hands together, prayed that\\nthey would order him back to the dark room--that they would starve\\nhim--beat him--kill him if they pleased--rather than send him away with\\nthat dreadful man.\\n\\n\\'Well!\\' said Mr. Bumble, raising his hands and eyes with most\\nimpressive solemnity.  \\'Well! of all the artful and designing orphans\\nthat ever I see, Oliver, you are one of the most bare-facedest.\\'\\n\\n\\'Hold your tongue, Beadle,\\' said the second old gentleman, when Mr.\\nBumble had given vent to this compound adjective.\\n\\n\\'I beg your worship\\'s pardon,\\' said Mr. Bumble, incredulous of having\\nheard aright.  \\'Did your worship speak to me?\\'\\n\\n\\'Yes.  Hold your tongue.\\'\\n\\nMr. Bumble was stupefied with astonishment.  A beadle ordered to hold\\nhis tongue!  A moral revolution!\\n\\nThe old gentleman in the tortoise-shell spectacles looked at his\\ncompanion, he nodded significantly.\\n\\n\\'We refuse to sanction these indentures,\\' said the old gentleman:\\ntossing aside the piece of parchment as he spoke.\\n\\n\\'I hope,\\' stammered Mr. Limbkins:  \\'I hope the magistrates will not\\nform the opinion that the authorities have been guilty of any improper\\nconduct, on the unsupported testimony of a child.\\'\\n\\n\\'The magistrates are not called upon to pronounce any opinion on the\\nmatter,\\' said the second old gentleman sharply.  \\'Take the boy back to\\nthe workhouse, and treat him kindly.  He seems to want it.\\'\\n\\nThat same evening, the gentleman in the white waistcoat most positively\\nand decidedly affirmed, not only that Oliver would be hung, but that he\\nwould be drawn and quartered into the bargain. Mr. Bumble shook his\\nhead with gloomy mystery, and said he wished he might come to good;\\nwhereunto Mr. Gamfield replied, that he wished he might come to him;\\nwhich, although he agreed with the beadle in most matters, would seem\\nto be a wish of a totally opposite description.\\n\\nThe next morning, the public were once informed that Oliver Twist was\\nagain To Let, and that five pounds would be paid to anybody who would\\ntake possession of him.\\n\\nOLIVER, BEING OFFERED ANOTHER PLACE, MAKES HIS FIRST ENTRY INTO PUBLIC\\nLIFE\\n\\nIn great families, when an advantageous place cannot be obtained,\\neither in possession, reversion, remainder, or expectancy, for the\\nyoung man who is growing up, it is a very general custom to send him to\\nsea.  The board, in imitation of so wise and salutary an example, took\\ncounsel together on the expediency of shipping off Oliver Twist, in\\nsome small trading vessel bound to a good unhealthy port.  This\\nsuggested itself as the very best thing that could possibly be done\\nwith him: the probability being, that the skipper would flog him to\\ndeath, in a playful mood, some day after dinner, or would knock his\\nbrains out with an iron bar; both pastimes being, as is pretty\\ngenerally known, very favourite and common recreations among gentleman\\nof that class.  The more the case presented itself to the board, in\\nthis point of view, the more manifold the advantages of the step\\nappeared; so, they came to the conclusion that the only way of\\nproviding for Oliver effectually, was to send him to sea without delay.\\n\\nMr. Bumble had been despatched to make various preliminary inquiries,\\nwith the view of finding out some captain or other who wanted a\\ncabin-boy without any friends; and was returning to the workhouse to\\ncommunicate the result of his mission; when he encountered at the gate,\\nno less a person than Mr. Sowerberry, the parochial undertaker.\\n\\nMr. Sowerberry was a tall gaunt, large-jointed man, attired in a suit\\nof threadbare black, with darned cotton stockings of the same colour,\\nand shoes to answer.  His features were not naturally intended to wear\\na smiling aspect, but he was in general rather given to professional\\njocosity.  His step was elastic, and his face betokened inward\\npleasantry, as he advanced to Mr. Bumble, and shook him cordially by\\nthe hand.\\n\\n\\'I have taken the measure of the two women that died last night, Mr.\\nBumble,\\' said the undertaker.\\n\\n\\'You\\'ll make your fortune, Mr. Sowerberry,\\' said the beadle, as he\\nthrust his thumb and forefinger into the proffered snuff-box of the\\nundertaker: which was an ingenious little model of a patent coffin.  \\'I\\nsay you\\'ll make your fortune, Mr. Sowerberry,\\' repeated Mr. Bumble,\\ntapping the undertaker on the shoulder, in a friendly manner, with his\\ncane.\\n\\n\\'Think so?\\' said the undertaker in a tone which half admitted and half\\ndisputed the probability of the event.  \\'The prices allowed by the\\nboard are very small, Mr. Bumble.\\'\\n\\n\\'So are the coffins,\\' replied the beadle: with precisely as near an\\napproach to a laugh as a great official ought to indulge in.\\n\\nMr. Sowerberry was much tickled at this: as of course he ought to be;\\nand laughed a long time without cessation.  \\'Well, well, Mr. Bumble,\\'\\nhe said at length, \\'there\\'s no denying that, since the new system of\\nfeeding has come in, the coffins are something narrower and more\\nshallow than they used to be; but we must have some profit, Mr. Bumble.\\nWell-seasoned timber is an expensive article, sir; and all the iron\\nhandles come, by canal, from Birmingham.\\'\\n\\n\\'Well, well,\\' said Mr. Bumble, \\'every trade has its drawbacks. A fair\\nprofit is, of course, allowable.\\'\\n\\n\\'Of course, of course,\\' replied the undertaker; \\'and if I don\\'t get a\\nprofit upon this or that particular article, why, I make it up in the\\nlong-run, you see--he! he! he!\\'\\n\\n\\'Just so,\\' said Mr. Bumble.\\n\\n\\'Though I must say,\\' continued the undertaker, resuming the current of\\nobservations which the beadle had interrupted: \\'though I must say, Mr.\\nBumble, that I have to contend against one very great disadvantage:\\nwhich is, that all the stout people go off the quickest.  The people\\nwho have been better off, and have paid rates for many years, are the\\nfirst to sink when they come into the house; and let me tell you, Mr.\\nBumble, that three or four inches over one\\'s calculation makes a great\\nhole in one\\'s profits: especially when one has a family to provide for,\\nsir.\\'\\n\\nAs Mr. Sowerberry said this, with the becoming indignation of an\\nill-used man; and as Mr. Bumble felt that it rather tended to convey a\\nreflection on the honour of the parish; the latter gentleman thought it\\nadvisable to change the subject.  Oliver Twist being uppermost in his\\nmind, he made him his theme.\\n\\n\\'By the bye,\\' said Mr. Bumble, \\'you don\\'t know anybody who wants a boy,\\ndo you?  A porochial \\'prentis, who is at present a dead-weight; a\\nmillstone, as I may say, round the porochial throat?  Liberal terms,\\nMr. Sowerberry, liberal terms?\\'  As Mr. Bumble spoke, he raised his\\ncane to the bill above him, and gave three distinct raps upon the words\\n\\'five pounds\\':  which were printed thereon in Roman capitals of\\ngigantic size.\\n\\n\\'Gadso!\\' said the undertaker: taking Mr. Bumble by the gilt-edged\\nlappel of his official coat; \\'that\\'s just the very thing I wanted to\\nspeak to you about.  You know--dear me, what a very elegant button this\\nis, Mr. Bumble!  I never noticed it before.\\'\\n\\n\\'Yes, I think it rather pretty,\\' said the beadle, glancing proudly\\ndownwards at the large brass buttons which embellished his coat. \\'The\\ndie is the same as the porochial seal--the Good Samaritan healing the\\nsick and bruised man. The board presented it to me on Newyear\\'s\\nmorning, Mr. Sowerberry.  I put it on, I remember, for the first time,\\nto attend the inquest on that reduced tradesman, who died in a doorway\\nat midnight.\\'\\n\\n\\'I recollect,\\' said the undertaker. \\'The jury brought it in, \"Died from\\nexposure to the cold, and want of the common necessaries of life,\"\\ndidn\\'t they?\\'\\n\\nMr. Bumble nodded.\\n\\n\\'And they made it a special verdict, I think,\\' said the undertaker, \\'by\\nadding some words to the effect, that if the relieving officer had--\\'\\n\\n\\'Tush!  Foolery!\\' interposed the beadle.  \\'If the board attended to all\\nthe nonsense that ignorant jurymen talk, they\\'d have enough to do.\\'\\n\\n\\'Very true,\\' said the undertaker; \\'they would indeed.\\'\\n\\n\\'Juries,\\' said Mr. Bumble, grasping his cane tightly, as was his wont\\nwhen working into a passion: \\'juries is ineddicated, vulgar, grovelling\\nwretches.\\'\\n\\n\\'So they are,\\' said the undertaker.\\n\\n\\'They haven\\'t no more philosophy nor political economy about \\'em than\\nthat,\\' said the beadle, snapping his fingers contemptuously.\\n\\n\\'No more they have,\\' acquiesced the undertaker.\\n\\n\\'I despise \\'em,\\' said the beadle, growing very red in the face.\\n\\n\\'So do I,\\' rejoined the undertaker.\\n\\n\\'And I only wish we\\'d a jury of the independent sort, in the house for\\na week or two,\\' said the beadle; \\'the rules and regulations of the\\nboard would soon bring their spirit down for \\'em.\\'\\n\\n\\'Let \\'em alone for that,\\' replied the undertaker.  So saying, he\\nsmiled, approvingly: to calm the rising wrath of the indignant parish\\nofficer.\\n\\nMr Bumble lifted off his cocked hat; took a handkerchief from the\\ninside of the crown; wiped from his forehead the perspiration which his\\nrage had engendered; fixed the cocked hat on again; and, turning to the\\nundertaker, said in a calmer voice:\\n\\n\\'Well; what about the boy?\\'\\n\\n\\'Oh!\\' replied the undertaker; \\'why, you know, Mr. Bumble, I pay a good\\ndeal towards the poor\\'s rates.\\'\\n\\n\\'Hem!\\' said Mr. Bumble.  \\'Well?\\'\\n\\n\\'Well,\\' replied the undertaker, \\'I was thinking that if I pay so much\\ntowards \\'em, I\\'ve a right to get as much out of \\'em as I can, Mr.\\nBumble; and so--I think I\\'ll take the boy myself.\\'\\n\\nMr. Bumble grasped the undertaker by the arm, and led him into the\\nbuilding.  Mr. Sowerberry was closeted with the board for five minutes;\\nand it was arranged that Oliver should go to him that evening \\'upon\\nliking\\'--a phrase which means, in the case of a parish apprentice, that\\nif the master find, upon a short trial, that he can get enough work out\\nof a boy without putting too much food into him, he shall have him for\\na term of years, to do what he likes with.\\n\\nWhen little Oliver was taken before \\'the gentlemen\\' that evening; and\\ninformed that he was to go, that night, as general house-lad to a\\ncoffin-maker\\'s; and that if he complained of his situation, or ever\\ncame back to the parish again, he would be sent to sea, there to be\\ndrowned, or knocked on the head, as the case might be, he evinced so\\nlittle emotion, that they by common consent pronounced him a hardened\\nyoung rascal, and ordered Mr. Bumble to remove him forthwith.\\n\\nNow, although it was very natural that the board, of all people in the\\nworld, should feel in a great state of virtuous astonishment and horror\\nat the smallest tokens of want of feeling on the part of anybody, they\\nwere rather out, in this particular instance.  The simple fact was,\\nthat Oliver, instead of possessing too little feeling, possessed rather\\ntoo much; and was in a fair way of being reduced, for life, to a state\\nof brutal stupidity and sullenness by the ill usage he had received.\\nHe heard the news of his destination, in perfect silence; and, having\\nhad his luggage put into his hand--which was not very difficult to\\ncarry, inasmuch as it was all comprised within the limits of a brown\\npaper parcel, about half a foot square by three inches deep--he pulled\\nhis cap over his eyes; and once more attaching himself to Mr. Bumble\\'s\\ncoat cuff, was led away by that dignitary to a new scene of suffering.\\n\\nFor some time, Mr. Bumble drew Oliver along, without notice or remark;\\nfor the beadle carried his head very erect, as a beadle always should:\\nand, it being a windy day, little Oliver was completely enshrouded by\\nthe skirts of Mr. Bumble\\'s coat as they blew open, and disclosed to\\ngreat advantage his flapped waistcoat and drab plush knee-breeches.  As\\nthey drew near to their destination, however, Mr. Bumble thought it\\nexpedient to look down, and see that the boy was in good order for\\ninspection by his new master: which he accordingly did, with a fit and\\nbecoming air of gracious patronage.\\n\\n\\'Oliver!\\'  said Mr. Bumble.\\n\\n\\'Yes, sir,\\' replied Oliver, in a low, tremulous voice.\\n\\n\\'Pull that cap off your eyes, and hold up your head, sir.\\'\\n\\nAlthough Oliver did as he was desired, at once; and passed the back of\\nhis unoccupied hand briskly across his eyes, he left a tear in them\\nwhen he looked up at his conductor.  As Mr. Bumble gazed sternly upon\\nhim, it rolled down his cheek. It was followed by another, and another.\\nThe child made a strong effort, but it was an unsuccessful one.\\nWithdrawing his other hand from Mr. Bumble\\'s he covered his face with\\nboth; and wept until the tears sprung out from between his chin and\\nbony fingers.\\n\\n\\'Well!\\' exclaimed Mr. Bumble, stopping short, and darting at his little\\ncharge a look of intense malignity.  \\'Well!  Of _all_ the\\nungratefullest, and worst-disposed boys as ever I see, Oliver, you are\\nthe--\\'\\n\\n\\'No, no, sir,\\' sobbed Oliver, clinging to the hand which held the\\nwell-known cane; \\'no, no, sir; I will be good indeed; indeed, indeed I\\nwill, sir!  I am a very little boy, sir; and it is so--so--\\'\\n\\n\\'So what?\\' inquired Mr. Bumble in amazement.\\n\\n\\'So lonely, sir!  So very lonely!\\' cried the child.  \\'Everybody hates\\nme.  Oh! sir, don\\'t, don\\'t pray be cross to me!\\'  The child beat his\\nhand upon his heart; and looked in his companion\\'s face, with tears of\\nreal agony.\\n\\nMr. Bumble regarded Oliver\\'s piteous and helpless look, with some\\nastonishment, for a few seconds; hemmed three or four times in a husky\\nmanner; and after muttering something about \\'that troublesome cough,\\'\\nbade Oliver dry his eyes and be a good boy. Then once more taking his\\nhand, he walked on with him in silence.\\n\\nThe undertaker, who had just put up the shutters of his shop, was\\nmaking some entries in his day-book by the light of a most appropriate\\ndismal candle, when Mr. Bumble entered.\\n\\n\\'Aha!\\' said the undertaker; looking up from the book, and pausing in\\nthe middle of a word; \\'is that you, Bumble?\\'\\n\\n\\'No one else, Mr. Sowerberry,\\' replied the beadle.  \\'Here! I\\'ve brought\\nthe boy.\\'  Oliver made a bow.\\n\\n\\'Oh! that\\'s the boy, is it?\\' said the undertaker:  raising the candle\\nabove his head, to get a better view of Oliver. \\'Mrs. Sowerberry, will\\nyou have the goodness to come here a moment, my dear?\\'\\n\\nMrs. Sowerberry emerged from a little room behind the shop, and\\npresented the form of a short, then, squeezed-up woman, with a vixenish\\ncountenance.\\n\\n\\'My dear,\\' said Mr. Sowerberry, deferentially, \\'this is the boy from\\nthe workhouse that I told you of.\\'  Oliver bowed again.\\n\\n\\'Dear me!\\' said the undertaker\\'s wife, \\'he\\'s very small.\\'\\n\\n\\'Why, he _is_ rather small,\\' replied Mr. Bumble: looking at Oliver as\\nif it were his fault that he was no bigger; \\'he is small. There\\'s no\\ndenying it.  But he\\'ll grow, Mrs. Sowerberry--he\\'ll grow.\\'\\n\\n\\'Ah!  I dare say he will,\\' replied the lady pettishly, \\'on our victuals\\nand our drink.  I see no saving in parish children, not I; for they\\nalways cost more to keep, than they\\'re worth. However, men always think\\nthey know best. There!  Get downstairs, little bag o\\' bones.\\'  With\\nthis, the undertaker\\'s wife opened a side door, and pushed Oliver down\\na steep flight of stairs into a stone cell, damp and dark: forming the\\nante-room to the coal-cellar, and denominated \\'kitchen\\'; wherein sat a\\nslatternly girl, in shoes down at heel, and blue worsted stockings very\\nmuch out of repair.\\n\\n\\'Here, Charlotte,\\' said Mr. Sowerberry, who had followed Oliver down,\\n\\'give this boy some of the cold bits that were put by for Trip.  He\\nhasn\\'t come home since the morning, so he may go without \\'em.  I dare\\nsay the boy isn\\'t too dainty to eat \\'em--are you, boy?\\'\\n\\nOliver, whose eyes had glistened at the mention of meat, and who was\\ntrembling with eagerness to devour it, replied in the negative; and a\\nplateful of coarse broken victuals was set before him.\\n\\nI wish some well-fed philosopher, whose meat and drink turn to gall\\nwithin him; whose blood is ice, whose heart is iron; could have seen\\nOliver Twist clutching at the dainty viands that the dog had neglected.\\nI wish he could have witnessed the horrible avidity with which Oliver\\ntore the bits asunder with all the ferocity of famine.  There is only\\none thing I should like better; and that would be to see the\\nPhilosopher making the same sort of meal himself, with the same relish.\\n\\n\\'Well,\\' said the undertaker\\'s wife, when Oliver had finished his\\nsupper: which she had regarded in silent horror, and with fearful\\nauguries of his future appetite: \\'have you done?\\'\\n\\nThere being nothing eatable within his reach, Oliver replied in the\\naffirmative.\\n\\n\\'Then come with me,\\' said Mrs. Sowerberry: taking up a dim and dirty\\nlamp, and leading the way upstairs; \\'your bed\\'s under the counter.  You\\ndon\\'t mind sleeping among the coffins, I suppose? But it doesn\\'t much\\nmatter whether you do or don\\'t, for you can\\'t sleep anywhere else.\\nCome; don\\'t keep me here all night!\\'\\n\\nOliver lingered no longer, but meekly followed his new mistress.\\n\\nOLIVER MINGLES WITH NEW ASSOCIATES.  GOING TO A FUNERAL FOR THE FIRST\\nTIME, HE FORMS AN UNFAVOURABLE NOTION OF HIS MASTER\\'S BUSINESS\\n\\nOliver, being left to himself in the undertaker\\'s shop, set the lamp\\ndown on a workman\\'s bench, and gazed timidly about him with a feeling\\nof awe and dread, which many people a good deal older than he will be\\nat no loss to understand.  An unfinished coffin on black tressels,\\nwhich stood in the middle of the shop, looked so gloomy and death-like\\nthat a cold tremble came over him, every time his eyes wandered in the\\ndirection of the dismal object: from which he almost expected to see\\nsome frightful form slowly rear its head, to drive him mad with terror.\\nAgainst the wall were ranged, in regular array, a long row of elm\\nboards cut in the same shape: looking in the dim light, like\\nhigh-shouldered ghosts with their hands in their breeches pockets.\\nCoffin-plates, elm-chips, bright-headed nails, and shreds of black\\ncloth, lay scattered on the floor; and the wall behind the counter was\\nornamented with a lively representation of two mutes in very stiff\\nneckcloths, on duty at a large private door, with a hearse drawn by\\nfour black steeds, approaching in the distance. The shop was close and\\nhot.  The atmosphere seemed tainted with the smell of coffins.  The\\nrecess beneath the counter in which his flock mattress was thrust,\\nlooked like a grave.\\n\\nNor were these the only dismal feelings which depressed Oliver. He was\\nalone in a strange place; and we all know how chilled and desolate the\\nbest of us will sometimes feel in such a situation. The boy had no\\nfriends to care for, or to care for him.  The regret of no recent\\nseparation was fresh in his mind; the absence of no loved and\\nwell-remembered face sank heavily into his heart.\\n\\nBut his heart was heavy, notwithstanding; and he wished, as he crept\\ninto his narrow bed, that that were his coffin, and that he could be\\nlain in a calm and lasting sleep in the churchyard ground, with the\\ntall grass waving gently above his head, and the sound of the old deep\\nbell to soothe him in his sleep.\\n\\nOliver was awakened in the morning, by a loud kicking at the outside of\\nthe shop-door: which, before he could huddle on his clothes, was\\nrepeated, in an angry and impetuous manner, about twenty-five times.\\nWhen he began to undo the chain, the legs desisted, and a voice began.\\n\\n\\'Open the door, will yer?\\' cried the voice which belonged to the legs\\nwhich had kicked at the door.\\n\\n\\'I will, directly, sir,\\' replied Oliver: undoing the chain, and turning\\nthe key.\\n\\n\\'I suppose yer the new boy, ain\\'t yer?\\' said the voice through the\\nkey-hole.\\n\\n\\'Yes, sir,\\' replied Oliver.\\n\\n\\'How old are yer?\\' inquired the voice.\\n\\n\\'Ten, sir,\\' replied Oliver.\\n\\n\\'Then I\\'ll whop yer when I get in,\\' said the voice; \\'you just see if I\\ndon\\'t, that\\'s all, my work\\'us brat!\\' and having made this obliging\\npromise, the voice began to whistle.\\n\\nOliver had been too often subjected to the process to which the very\\nexpressive monosyllable just recorded bears reference, to entertain the\\nsmallest doubt that the owner of the voice, whoever he might be, would\\nredeem his pledge, most honourably. He drew back the bolts with a\\ntrembling hand, and opened the door.\\n\\nFor a second or two, Oliver glanced up the street, and down the street,\\nand over the way: impressed with the belief that the unknown, who had\\naddressed him through the key-hole, had walked a few paces off, to warm\\nhimself; for nobody did he see but a big charity-boy, sitting on a post\\nin front of the house, eating a slice of bread and butter: which he cut\\ninto wedges, the size of his mouth, with a clasp-knife, and then\\nconsumed with great dexterity.\\n\\n\\'I beg your pardon, sir,\\' said Oliver at length: seeing that no other\\nvisitor made his appearance; \\'did you knock?\\'\\n\\n\\'I kicked,\\' replied the charity-boy.\\n\\n\\'Did you want a coffin, sir?\\' inquired Oliver, innocently.\\n\\nAt this, the charity-boy looked monstrous fierce; and said that Oliver\\nwould want one before long, if he cut jokes with his superiors in that\\nway.\\n\\n\\'Yer don\\'t know who I am, I suppose, Work\\'us?\\' said the charity-boy, in\\ncontinuation: descending from the top of the post, meanwhile, with\\nedifying gravity.\\n\\n\\'No, sir,\\' rejoined Oliver.\\n\\n\\'I\\'m Mister Noah Claypole,\\' said the charity-boy, \\'and you\\'re under me.\\nTake down the shutters, yer idle young ruffian!\\' With this, Mr.\\nClaypole administered a kick to Oliver, and entered the shop with a\\ndignified air, which did him great credit.  It is difficult for a\\nlarge-headed, small-eyed youth, of lumbering make and heavy\\ncountenance, to look dignified under any circumstances; but it is more\\nespecially so, when superadded to these personal attractions are a red\\nnose and yellow smalls.\\n\\nOliver, having taken down the shutters, and broken a pane of glass in\\nhis effort to stagger away beneath the weight of the first one to a\\nsmall court at the side of the house in which they were kept during the\\nday, was graciously assisted by Noah: who having consoled him with the\\nassurance that \\'he\\'d catch it,\\' condescended to help him.  Mr.\\nSowerberry came down soon after. Shortly afterwards, Mrs. Sowerberry\\nappeared.  Oliver having \\'caught it,\\' in fulfilment of Noah\\'s\\nprediction, followed that young gentleman down the stairs to breakfast.\\n\\n\\'Come near the fire, Noah,\\' said Charlotte.  \\'I saved a nice little bit\\nof bacon for you from master\\'s breakfast.  Oliver, shut that door at\\nMister Noah\\'s back, and take them bits that I\\'ve put out on the cover\\nof the bread-pan.  There\\'s your tea; take it away to that box, and\\ndrink it there, and make haste, for they\\'ll want you to mind the shop.\\nD\\'ye hear?\\'\\n\\n\\'D\\'ye hear, Work\\'us?\\' said Noah Claypole.\\n\\n\\'Lor, Noah!\\' said Charlotte, \\'what a rum creature you are!  Why don\\'t\\nyou let the boy alone?\\'\\n\\n\\'Let him alone!\\' said Noah.  \\'Why everybody lets him alone enough, for\\nthe matter of that.  Neither his father nor his mother will ever\\ninterfere with him.  All his relations let him have his own way pretty\\nwell.  Eh, Charlotte?  He! he! he!\\'\\n\\n\\'Oh, you queer soul!\\' said Charlotte, bursting into a hearty laugh, in\\nwhich she was joined by Noah; after which they both looked scornfully\\nat poor Oliver Twist, as he sat shivering on the box in the coldest\\ncorner of the room, and ate the stale pieces which had been specially\\nreserved for him.\\n\\nNoah was a charity-boy, but not a workhouse orphan.  No chance-child\\nwas he, for he could trace his genealogy all the way back to his\\nparents, who lived hard by; his mother being a washerwoman, and his\\nfather a drunken soldier, discharged with a wooden leg, and a diurnal\\npension of twopence-halfpenny and an unstateable fraction.  The\\nshop-boys in the neighbourhood had long been in the habit of branding\\nNoah in the public streets, with the ignominious epithets of\\n\\'leathers,\\' \\'charity,\\' and the like; and Noah had bourne them without\\nreply.  But, now that fortune had cast in his way a nameless orphan, at\\nwhom even the meanest could point the finger of scorn, he retorted on\\nhim with interest.  This affords charming food for contemplation.  It\\nshows us what a beautiful thing human nature may be made to be; and how\\nimpartially the same amiable qualities are developed in the finest lord\\nand the dirtiest charity-boy.\\n\\nOliver had been sojourning at the undertaker\\'s some three weeks or a\\nmonth.  Mr. and Mrs. Sowerberry--the shop being shut up--were taking\\ntheir supper in the little back-parlour, when Mr. Sowerberry, after\\nseveral deferential glances at his wife, said,\\n\\n\\'My dear--\\'  He was going to say more; but, Mrs. Sowerberry looking up,\\nwith a peculiarly unpropitious aspect, he stopped short.\\n\\n\\'Well,\\' said Mrs. Sowerberry, sharply.\\n\\n\\'Nothing, my dear, nothing,\\' said Mr. Sowerberry.\\n\\n\\'Ugh, you brute!\\' said Mrs. Sowerberry.\\n\\n\\'Not at all, my dear,\\' said Mr. Sowerberry humbly.  \\'I thought you\\ndidn\\'t want to hear, my dear.  I was only going to say--\\'\\n\\n\\'Oh, don\\'t tell me what you were going to say,\\' interposed Mrs.\\nSowerberry.  \\'I am nobody; don\\'t consult me, pray.  _I_ don\\'t want to\\nintrude upon your secrets.\\'  As Mrs. Sowerberry said this, she gave an\\nhysterical laugh, which threatened violent consequences.\\n\\n\\'But, my dear,\\' said Sowerberry, \\'I want to ask your advice.\\'\\n\\n\\'No, no, don\\'t ask mine,\\' replied Mrs. Sowerberry, in an affecting\\nmanner: \\'ask somebody else\\'s.\\'  Here, there was another hysterical\\nlaugh, which frightened Mr. Sowerberry very much.  This is a very\\ncommon and much-approved matrimonial course of treatment, which is\\noften very effective. It at once reduced Mr. Sowerberry to begging, as\\na special favour, to be allowed to say what Mrs. Sowerberry was most\\ncurious to hear.  After a short duration, the permission was most\\ngraciously conceded.\\n\\n\\'It\\'s only about young Twist, my dear,\\' said Mr. Sowerberry. \\'A very\\ngood-looking boy, that, my dear.\\'\\n\\n\\'He need be, for he eats enough,\\' observed the lady.\\n\\n\\'There\\'s an expression of melancholy in his face, my dear,\\' resumed Mr.\\nSowerberry, \\'which is very interesting.  He would make a delightful\\nmute, my love.\\'\\n\\nMrs. Sowerberry looked up with an expression of considerable\\nwonderment.  Mr. Sowerberry remarked it and, without allowing time for\\nany observation on the good lady\\'s part, proceeded.\\n\\n\\'I don\\'t mean a regular mute to attend grown-up people, my dear, but\\nonly for children\\'s practice.  It would be very new to have a mute in\\nproportion, my dear.  You may depend upon it, it would have a superb\\neffect.\\'\\n\\nMrs. Sowerberry, who had a good deal of taste in the undertaking way,\\nwas much struck by the novelty of this idea; but, as it would have been\\ncompromising her dignity to have said so, under existing circumstances,\\nshe merely inquired, with much sharpness, why such an obvious\\nsuggestion had not presented itself to her husband\\'s mind before?  Mr.\\nSowerberry rightly construed this, as an acquiescence in his\\nproposition; it was speedily determined, therefore, that Oliver should\\nbe at once initiated into the mysteries of the trade; and, with this\\nview, that he should accompany his master on the very next occasion of\\nhis services being required.\\n\\nThe occasion was not long in coming.  Half an hour after breakfast next\\nmorning, Mr. Bumble entered the shop; and supporting his cane against\\nthe counter, drew forth his large leathern pocket-book: from which he\\nselected a small scrap of paper, which he handed over to Sowerberry.\\n\\n\\'Aha!\\' said the undertaker, glancing over it with a lively countenance;\\n\\'an order for a coffin, eh?\\'\\n\\n\\'For a coffin first, and a porochial funeral afterwards,\\' replied Mr.\\nBumble, fastening the strap of the leathern pocket-book: which, like\\nhimself, was very corpulent.\\n\\n\\'Bayton,\\' said the undertaker, looking from the scrap of paper to Mr.\\nBumble.  \\'I never heard the name before.\\'\\n\\nBumble shook his head, as he replied, \\'Obstinate people, Mr.\\nSowerberry; very obstinate.  Proud, too, I\\'m afraid, sir.\\'\\n\\n\\'Proud, eh?\\' exclaimed Mr. Sowerberry with a sneer.  \\'Come, that\\'s too\\nmuch.\\'\\n\\n\\'Oh, it\\'s sickening,\\' replied the beadle.  \\'Antimonial, Mr. Sowerberry!\\'\\n\\n\\'So it is,\\' acquiesced the undertaker.\\n\\n\\'We only heard of the family the night before last,\\' said the beadle;\\n\\'and we shouldn\\'t have known anything about them, then, only a woman\\nwho lodges in the same house made an application to the porochial\\ncommittee for them to send the porochial surgeon to see a woman as was\\nvery bad.  He had gone out to dinner; but his \\'prentice (which is a\\nvery clever lad) sent \\'em some medicine in a blacking-bottle, offhand.\\'\\n\\n\\'Ah, there\\'s promptness,\\' said the undertaker.\\n\\n\\'Promptness, indeed!\\' replied the beadle.  \\'But what\\'s the consequence;\\nwhat\\'s the ungrateful behaviour of these rebels, sir?  Why, the husband\\nsends back word that the medicine won\\'t suit his wife\\'s complaint, and\\nso she shan\\'t take it--says she shan\\'t take it, sir!  Good, strong,\\nwholesome medicine, as was given with great success to two Irish\\nlabourers and a coal-heaver, only a week before--sent \\'em for nothing,\\nwith a blackin\\'-bottle in,--and he sends back word that she shan\\'t take\\nit, sir!\\'\\n\\nAs the atrocity presented itself to Mr. Bumble\\'s mind in full force, he\\nstruck the counter sharply with his cane, and became flushed with\\nindignation.\\n\\n\\'Well,\\' said the undertaker, \\'I ne--ver--did--\\'\\n\\n\\'Never did, sir!\\' ejaculated the beadle.  \\'No, nor nobody never did;\\nbut now she\\'s dead, we\\'ve got to bury her; and that\\'s the direction;\\nand the sooner it\\'s done, the better.\\'\\n\\nThus saying, Mr. Bumble put on his cocked hat wrong side first, in a\\nfever of parochial excitement; and flounced out of the shop.\\n\\n\\'Why, he was so angry, Oliver, that he forgot even to ask after you!\\'\\nsaid Mr. Sowerberry, looking after the beadle as he strode down the\\nstreet.\\n\\n\\'Yes, sir,\\' replied Oliver, who had carefully kept himself out of\\nsight, during the interview; and who was shaking from head to foot at\\nthe mere recollection of the sound of Mr. Bumble\\'s voice.\\n\\nHe needn\\'t haven taken the trouble to shrink from Mr. Bumble\\'s glance,\\nhowever; for that functionary, on whom the prediction of the gentleman\\nin the white waistcoat had made a very strong impression, thought that\\nnow the undertaker had got Oliver upon trial the subject was better\\navoided, until such time as he should be firmly bound for seven years,\\nand all danger of his being returned upon the hands of the parish\\nshould be thus effectually and legally overcome.\\n\\n\\'Well,\\' said Mr. Sowerberry, taking up his hat, \\'the sooner this job is\\ndone, the better.  Noah, look after the shop. Oliver, put on your cap,\\nand come with me.\\'  Oliver obeyed, and followed his master on his\\nprofessional mission.\\n\\nThey walked on, for some time, through the most crowded and densely\\ninhabited part of the town; and then, striking down a narrow street\\nmore dirty and miserable than any they had yet passed through, paused\\nto look for the house which was the object of their search.  The houses\\non either side were high and large, but very old, and tenanted by\\npeople of the poorest class: as their neglected appearance would have\\nsufficiently denoted, without the concurrent testimony afforded by the\\nsqualid looks of the few men and women who, with folded arms and bodies\\nhalf doubled, occasionally skulked along.  A great many of the\\ntenements had shop-fronts; but these were fast closed, and mouldering\\naway; only the upper rooms being inhabited.  Some houses which had\\nbecome insecure from age and decay, were prevented from falling into\\nthe street, by huge beams of wood reared against the walls, and firmly\\nplanted in the road; but even these crazy dens seemed to have been\\nselected as the nightly haunts of some houseless wretches, for many of\\nthe rough boards which supplied the place of door and window, were\\nwrenched from their positions, to afford an aperture wide enough for\\nthe passage of a human body.  The kennel was stagnant and filthy. The\\nvery rats, which here and there lay putrefying in its rottenness, were\\nhideous with famine.\\n\\nThere was neither knocker nor bell-handle at the open door where Oliver\\nand his master stopped; so, groping his way cautiously through the dark\\npassage, and bidding Oliver keep close to him and not be afraid the\\nundertaker mounted to the top of the first flight of stairs.  Stumbling\\nagainst a door on the landing, he rapped at it with his knuckles.\\n\\nIt was opened by a young girl of thirteen or fourteen.  The undertaker\\nat once saw enough of what the room contained, to know it was the\\napartment to which he had been directed.  He stepped in; Oliver\\nfollowed him.\\n\\nThere was no fire in the room; but a man was crouching, mechanically,\\nover the empty stove.  An old woman, too, had drawn a low stool to the\\ncold hearth, and was sitting beside him. There were some ragged\\nchildren in another corner; and in a small recess, opposite the door,\\nthere lay upon the ground, something covered with an old blanket.\\nOliver shuddered as he cast his eyes toward the place, and crept\\ninvoluntarily closer to his master; for though it was covered up, the\\nboy felt that it was a corpse.\\n\\nThe man\\'s face was thin and very pale; his hair and beard were grizzly;\\nhis eyes were bloodshot.  The old woman\\'s face was wrinkled; her two\\nremaining teeth protruded over her under lip; and her eyes were bright\\nand piercing.  Oliver was afraid to look at either her or the man.\\nThey seemed so like the rats he had seen outside.\\n\\n\\'Nobody shall go near her,\\' said the man, starting fiercely up, as the\\nundertaker approached the recess. \\'Keep back! Damn you, keep back, if\\nyou\\'ve a life to lose!\\'\\n\\n\\'Nonsense, my good man,\\' said the undertaker, who was pretty well used\\nto misery in all its shapes.  \\'Nonsense!\\'\\n\\n\\'I tell you,\\' said the man:  clenching his hands, and stamping\\nfuriously on the floor,--\\'I tell you I won\\'t have her put into the\\nground.  She couldn\\'t rest there.  The worms would worry her--not eat\\nher--she is so worn away.\\'\\n\\nThe undertaker offered no reply to this raving; but producing a tape\\nfrom his pocket, knelt down for a moment by the side of the body.\\n\\n\\'Ah!\\' said the man: bursting into tears, and sinking on his knees at\\nthe feet of the dead woman; \\'kneel down, kneel down--kneel round her,\\nevery one of you, and mark my words!  I say she was starved to death.\\nI never knew how bad she was, till the fever came upon her; and then\\nher bones were starting through the skin.  There was neither fire nor\\ncandle; she died in the dark--in the dark!  She couldn\\'t even see her\\nchildren\\'s faces, though we heard her gasping out their names. I begged\\nfor her in the streets: and they sent me to prison. When I came back,\\nshe was dying; and all the blood in my heart has dried up, for they\\nstarved her to death.  I swear it before the God that saw it! They\\nstarved her!\\'  He twined his hands in his hair; and, with a loud\\nscream, rolled grovelling upon the floor: his eyes fixed, and the foam\\ncovering his lips.\\n\\nThe terrified children cried bitterly; but the old woman, who had\\nhitherto remained as quiet as if she had been wholly deaf to all that\\npassed, menaced them into silence.  Having unloosened the cravat of the\\nman who still remained extended on the ground, she tottered towards the\\nundertaker.\\n\\n\\'She was my daughter,\\' said the old woman, nodding her head in the\\ndirection of the corpse; and speaking with an idiotic leer, more\\nghastly than even the presence of death in such a place. \\'Lord, Lord!\\nWell, it _is_ strange that I who gave birth to her, and was a woman\\nthen, should be alive and merry now, and she lying there: so cold and\\nstiff!  Lord, Lord!--to think of it; it\\'s as good as a play--as good as\\na play!\\'\\n\\nAs the wretched creature mumbled and chuckled in her hideous merriment,\\nthe undertaker turned to go away.\\n\\n\\'Stop, stop!\\' said the old woman in a loud whisper.  \\'Will she be\\nburied to-morrow, or next day, or to-night?  I laid her out; and I must\\nwalk, you know.  Send me a large cloak: a good warm one: for it is\\nbitter cold.  We should have cake and wine, too, before we go!  Never\\nmind; send some bread--only a loaf of bread and a cup of water.  Shall\\nwe have some bread, dear?\\' she said eagerly: catching at the\\nundertaker\\'s coat, as he once more moved towards the door.\\n\\n\\'Yes, yes,\\' said the undertaker,\\'of course.  Anything you like!\\' He\\ndisengaged himself from the old woman\\'s grasp; and, drawing Oliver\\nafter him, hurried away.\\n\\nThe next day, (the family having been meanwhile relieved with a\\nhalf-quartern loaf and a piece of cheese, left with them by Mr. Bumble\\nhimself,) Oliver and his master returned to the miserable abode; where\\nMr. Bumble had already arrived, accompanied by four men from the\\nworkhouse, who were to act as bearers.  An old black cloak had been\\nthrown over the rags of the old woman and the man; and the bare coffin\\nhaving been screwed down, was hoisted on the shoulders of the bearers,\\nand carried into the street.\\n\\n\\'Now, you must put your best leg foremost, old lady!\\' whispered\\nSowerberry in the old woman\\'s ear; \\'we are rather late; and it won\\'t\\ndo, to keep the clergyman waiting.  Move on, my men,--as quick as you\\nlike!\\'\\n\\nThus directed, the bearers trotted on under their light burden; and the\\ntwo mourners kept as near them, as they could.  Mr. Bumble and\\nSowerberry walked at a good smart pace in front; and Oliver, whose legs\\nwere not so long as his master\\'s, ran by the side.\\n\\nThere was not so great a necessity for hurrying as Mr. Sowerberry had\\nanticipated, however; for when they reached the obscure corner of the\\nchurchyard in which the nettles grew, and where the parish graves were\\nmade, the clergyman had not arrived; and the clerk, who was sitting by\\nthe vestry-room fire, seemed to think it by no means improbable that it\\nmight be an hour or so, before he came.  So, they put the bier on the\\nbrink of the grave; and the two mourners waited patiently in the damp\\nclay, with a cold rain drizzling down, while the ragged boys whom the\\nspectacle had attracted into the churchyard played a noisy game at\\nhide-and-seek among the tombstones, or varied their amusements by\\njumping backwards and forwards over the coffin.  Mr. Sowerberry and\\nBumble, being personal friends of the clerk, sat by the fire with him,\\nand read the paper.\\n\\nAt length, after a lapse of something more than an hour, Mr. Bumble,\\nand Sowerberry, and the clerk, were seen running towards the grave.\\nImmediately afterwards, the clergyman appeared: putting on his surplice\\nas he came along.  Mr. Bumble then thrashed a boy or two, to keep up\\nappearances; and the reverend gentleman, having read as much of the\\nburial service as could be compressed into four minutes, gave his\\nsurplice to the clerk, and walked away again.\\n\\n\\'Now, Bill!\\' said Sowerberry to the grave-digger. \\'Fill up!\\'\\n\\nIt was no very difficult task, for the grave was so full, that the\\nuppermost coffin was within a few feet of the surface.  The\\ngrave-digger shovelled in the earth; stamped it loosely down with his\\nfeet: shouldered his spade; and walked off, followed by the boys, who\\nmurmured very loud complaints at the fun being over so soon.\\n\\n\\'Come, my good fellow!\\' said Bumble, tapping the man on the back. \\'They\\nwant to shut up the yard.\\'\\n\\nThe man who had never once moved, since he had taken his station by the\\ngrave side, started, raised his head, stared at the person who had\\naddressed him, walked forward for a few paces; and fell down in a\\nswoon.  The crazy old woman was too much occupied in bewailing the loss\\nof her cloak (which the undertaker had taken off), to pay him any\\nattention; so they threw a can of cold water over him; and when he came\\nto, saw him safely out of the churchyard, locked the gate, and departed\\non their different ways.\\n\\n\\'Well, Oliver,\\' said Sowerberry, as they walked home, \\'how do you like\\nit?\\'\\n\\n\\'Pretty well, thank you, sir\\' replied Oliver, with considerable\\nhesitation.  \\'Not very much, sir.\\'\\n\\n\\'Ah, you\\'ll get used to it in time, Oliver,\\' said Sowerberry. \\'Nothing\\nwhen you _are_ used to it, my boy.\\'\\n\\nOliver wondered, in his own mind, whether it had taken a very long time\\nto get Mr. Sowerberry used to it.  But he thought it better not to ask\\nthe question; and walked back to the shop: thinking over all he had\\nseen and heard.\\n\\nOLIVER, BEING GOADED BY THE TAUNTS OF NOAH, ROUSES INTO ACTION, AND\\nRATHER ASTONISHES HIM\\n\\nThe month\\'s trial over, Oliver was formally apprenticed.  It was a nice\\nsickly season just at this time.  In commercial phrase, coffins were\\nlooking up; and, in the course of a few weeks, Oliver acquired a great\\ndeal of experience.  The success of Mr. Sowerberry\\'s ingenious\\nspeculation, exceeded even his most sanguine hopes.  The oldest\\ninhabitants recollected no period at which measles had been so\\nprevalent, or so fatal to infant existence; and many were the mournful\\nprocessions which little Oliver headed, in a hat-band reaching down to\\nhis knees, to the indescribable admiration and emotion of all the\\nmothers in the town.  As Oliver accompanied his master in most of his\\nadult expeditions too, in order that he might acquire that equanimity\\nof demeanour and full command of nerve which was essential to a\\nfinished undertaker, he had many opportunities of observing the\\nbeautiful resignation and fortitude with which some strong-minded\\npeople bear their trials and losses.\\n\\nFor instance; when Sowerberry had an order for the burial of some rich\\nold lady or gentleman, who was surrounded by a great number of nephews\\nand nieces, who had been perfectly inconsolable during the previous\\nillness, and whose grief had been wholly irrepressible even on the most\\npublic occasions, they would be as happy among themselves as need\\nbe--quite cheerful and contented--conversing together with as much\\nfreedom and gaiety, as if nothing whatever had happened to disturb\\nthem.  Husbands, too, bore the loss of their wives with the most heroic\\ncalmness. Wives, again, put on weeds for their husbands, as if, so far\\nfrom grieving in the garb of sorrow, they had made up their minds to\\nrender it as becoming and attractive as possible.  It was observable,\\ntoo, that ladies and gentlemen who were in passions of anguish during\\nthe ceremony of interment, recovered almost as soon as they reached\\nhome, and became quite composed before the tea-drinking was over.  All\\nthis was very pleasant and improving to see; and Oliver beheld it with\\ngreat admiration.\\n\\nThat Oliver Twist was moved to resignation by the example of these good\\npeople, I cannot, although I am his biographer, undertake to affirm\\nwith any degree of confidence; but I can most distinctly say, that for\\nmany months he continued meekly to submit to the domination and\\nill-treatment of Noah Claypole: who used him far worse than before, now\\nthat his jealousy was roused by seeing the new boy promoted to the\\nblack stick and hatband, while he, the old one, remained stationary in\\nthe muffin-cap and leathers.  Charlotte treated him ill, because Noah\\ndid; and Mrs. Sowerberry was his decided enemy, because Mr. Sowerberry\\nwas disposed to be his friend; so, between these three on one side, and\\na glut of funerals on the other, Oliver was not altogether as\\ncomfortable as the hungry pig was, when he was shut up, by mistake, in\\nthe grain department of a brewery.\\n\\nAnd now, I come to a very important passage in Oliver\\'s history; for I\\nhave to record an act, slight and unimportant perhaps in appearance,\\nbut which indirectly produced a material change in all his future\\nprospects and proceedings.\\n\\nOne day, Oliver and Noah had descended into the kitchen at the usual\\ndinner-hour, to banquet upon a small joint of mutton--a pound and a\\nhalf of the worst end of the neck--when Charlotte being called out of\\nthe way, there ensued a brief interval of time, which Noah Claypole,\\nbeing hungry and vicious, considered he could not possibly devote to a\\nworthier purpose than aggravating and tantalising young Oliver Twist.\\n\\nIntent upon this innocent amusement, Noah put his feet on the\\ntable-cloth; and pulled Oliver\\'s hair; and twitched his ears; and\\nexpressed his opinion that he was a \\'sneak\\'; and furthermore announced\\nhis intention of coming to see him hanged, whenever that desirable\\nevent should take place; and entered upon various topics of petty\\nannoyance, like a malicious and ill-conditioned charity-boy as he was.\\nBut, making Oliver cry, Noah attempted to be more facetious still; and\\nin his attempt, did what many sometimes do to this day, when they want\\nto be funny.  He got rather personal.\\n\\n\\'Work\\'us,\\' said Noah, \\'how\\'s your mother?\\'\\n\\n\\'She\\'s dead,\\' replied Oliver; \\'don\\'t you say anything about her to me!\\'\\n\\nOliver\\'s colour rose as he said this; he breathed quickly; and there\\nwas a curious working of the mouth and nostrils, which Mr. Claypole\\nthought must be the immediate precursor of a violent fit of crying.\\nUnder this impression he returned to the charge.\\n\\n\\'What did she die of, Work\\'us?\\' said Noah.\\n\\n\\'Of a broken heart, some of our old nurses told me,\\' replied Oliver:\\nmore as if he were talking to himself, than answering Noah. \\'I think I\\nknow what it must be to die of that!\\'\\n\\n\\'Tol de rol lol lol, right fol lairy, Work\\'us,\\' said Noah, as a tear\\nrolled down Oliver\\'s cheek.  \\'What\\'s set you a snivelling now?\\'\\n\\n\\'Not _you_,\\' replied Oliver, sharply. \\'There; that\\'s enough. Don\\'t say\\nanything more to me about her; you\\'d better not!\\'\\n\\n\\'Better not!\\' exclaimed Noah. \\'Well!  Better not!  Work\\'us, don\\'t be\\nimpudent.  _Your_ mother, too!  She was a nice \\'un she was.  Oh, Lor!\\'\\nAnd here, Noah nodded his head expressively; and curled up as much of\\nhis small red nose as muscular action could collect together, for the\\noccasion.\\n\\n\\'Yer know, Work\\'us,\\' continued Noah, emboldened by Oliver\\'s silence,\\nand speaking in a jeering tone of affected pity: of all tones the most\\nannoying: \\'Yer know, Work\\'us, it can\\'t be helped now; and of course yer\\ncouldn\\'t help it then; and I am very sorry for it; and I\\'m sure we all\\nare, and pity yer very much.  But yer must know, Work\\'us, yer mother\\nwas a regular right-down bad \\'un.\\'\\n\\n\\'What did you say?\\' inquired Oliver, looking up very quickly.\\n\\n\\'A regular right-down bad \\'un, Work\\'us,\\' replied Noah, coolly. \\'And\\nit\\'s a great deal better, Work\\'us, that she died when she did, or else\\nshe\\'d have been hard labouring in Bridewell, or transported, or hung;\\nwhich is more likely than either, isn\\'t it?\\'\\n\\nCrimson with fury, Oliver started up; overthrew the chair and table;\\nseized Noah by the throat; shook him, in the violence of his rage, till\\nhis teeth chattered in his head; and collecting his whole force into\\none heavy blow, felled him to the ground.\\n\\nA minute ago, the boy had looked the quiet child, mild, dejected\\ncreature that harsh treatment had made him.  But his spirit was roused\\nat last; the cruel insult to his dead mother had set his blood on fire.\\nHis breast heaved; his attitude was erect; his eye bright and vivid;\\nhis whole person changed, as he stood glaring over the cowardly\\ntormentor who now lay crouching at his feet; and defied him with an\\nenergy he had never known before.\\n\\n\\'He\\'ll murder me!\\' blubbered Noah.  \\'Charlotte!  missis!  Here\\'s the\\nnew boy a murdering of me!  Help! help!  Oliver\\'s gone mad!\\nChar--lotte!\\'\\n\\nNoah\\'s shouts were responded to, by a loud scream from Charlotte, and a\\nlouder from Mrs. Sowerberry; the former of whom rushed into the kitchen\\nby a side-door, while the latter paused on the staircase till she was\\nquite certain that it was consistent with the preservation of human\\nlife, to come further down.\\n\\n\\'Oh, you little wretch!\\' screamed Charlotte: seizing Oliver with her\\nutmost force, which was about equal to that of a moderately strong man\\nin particularly good training.  \\'Oh, you little un-grate-ful,\\nmur-de-rous, hor-rid villain!\\'  And between every syllable, Charlotte\\ngave Oliver a blow with all her might: accompanying it with a scream,\\nfor the benefit of society.\\n\\nCharlotte\\'s fist was by no means a light one; but, lest it should not\\nbe effectual in calming Oliver\\'s wrath, Mrs. Sowerberry plunged into\\nthe kitchen, and assisted to hold him with one hand, while she\\nscratched his face with the other. In this favourable position of\\naffairs, Noah rose from the ground, and pommelled him behind.\\n\\nThis was rather too violent exercise to last long.  When they were all\\nwearied out, and could tear and beat no longer, they dragged Oliver,\\nstruggling and shouting, but nothing daunted, into the dust-cellar, and\\nthere locked him up.  This being done, Mrs. Sowerberry sunk into a\\nchair, and burst into tears.\\n\\n\\'Bless her, she\\'s going off!\\' said Charlotte.  \\'A glass of water, Noah,\\ndear.  Make haste!\\'\\n\\n\\'Oh!  Charlotte,\\' said Mrs. Sowerberry:  speaking as well as she could,\\nthrough a deficiency of breath, and a sufficiency of cold water, which\\nNoah had poured over her head and shoulders.  \\'Oh! Charlotte, what a\\nmercy we have not all been murdered in our beds!\\'\\n\\n\\'Ah! mercy indeed, ma\\'am,\\' was the reply.  I only hope this\\'ll teach\\nmaster not to have any more of these dreadful creatures, that are born\\nto be murderers and robbers from their very cradle. Poor Noah!  He was\\nall but killed, ma\\'am, when I come in.\\'\\n\\n\\'Poor fellow!\\' said Mrs. Sowerberry: looking piteously on the\\ncharity-boy.\\n\\nNoah, whose top waistcoat-button might have been somewhere on a level\\nwith the crown of Oliver\\'s head, rubbed his eyes with the inside of his\\nwrists while this commiseration was bestowed upon him, and performed\\nsome affecting tears and sniffs.\\n\\n\\'What\\'s to be done!\\' exclaimed Mrs. Sowerberry.  \\'Your master\\'s not at\\nhome; there\\'s not a man in the house, and he\\'ll kick that door down in\\nten minutes.\\'  Oliver\\'s vigorous plunges against the bit of timber in\\nquestion, rendered this occurance highly probable.\\n\\n\\'Dear, dear!  I don\\'t know, ma\\'am,\\' said Charlotte, \\'unless we send for\\nthe police-officers.\\'\\n\\n\\'Or the millingtary,\\' suggested Mr. Claypole.\\n\\n\\'No, no,\\' said Mrs. Sowerberry: bethinking herself of Oliver\\'s old\\nfriend.  \\'Run to Mr. Bumble, Noah, and tell him to come here directly,\\nand not to lose a minute; never mind your cap!  Make haste!  You can\\nhold a knife to that black eye, as you run along. It\\'ll keep the\\nswelling down.\\'\\n\\nNoah stopped to make no reply, but started off at his fullest speed;\\nand very much it astonished the people who were out walking, to see a\\ncharity-boy tearing through the streets pell-mell, with no cap on his\\nhead, and a clasp-knife at his eye.\\n\\nOLIVER CONTINUES REFRACTORY\\n\\nNoah Claypole ran along the streets at his swiftest pace, and paused\\nnot once for breath, until he reached the workhouse-gate. Having rested\\nhere, for a minute or so, to collect a good burst of sobs and an\\nimposing show of tears and terror, he knocked loudly at the wicket; and\\npresented such a rueful face to the aged pauper who opened it, that\\neven he, who saw nothing but rueful faces about him at the best of\\ntimes, started back in astonishment.\\n\\n\\'Why, what\\'s the matter with the boy!\\' said the old pauper.\\n\\n\\'Mr. Bumble!  Mr. Bumble!\\' cried Noah, with well-affected dismay: and\\nin tones so loud and agitated, that they not only caught the ear of Mr.\\nBumble himself, who happened to be hard by, but alarmed him so much\\nthat he rushed into the yard without his cocked hat,--which is a very\\ncurious and remarkable circumstance: as showing that even a beadle,\\nacted upon a sudden and powerful impulse, may be afflicted with a\\nmomentary visitation of loss of self-possession, and forgetfulness of\\npersonal dignity.\\n\\n\\'Oh, Mr. Bumble, sir!\\' said Noah:  \\'Oliver, sir,--Oliver has--\\'\\n\\n\\'What?  What?\\' interposed Mr. Bumble: with a gleam of pleasure in his\\nmetallic eyes. \\'Not run away; he hasn\\'t run away, has he, Noah?\\'\\n\\n\\'No, sir, no.  Not run away, sir, but he\\'s turned wicious,\\' replied\\nNoah. \\'He tried to murder me, sir; and then he tried to murder\\nCharlotte; and then missis.  Oh! what dreadful pain it is!\\n\\nSuch agony, please, sir!\\'  And here, Noah writhed and twisted his body\\ninto an extensive variety of eel-like positions; thereby giving Mr.\\nBumble to understand that, from the violent and sanguinary onset of\\nOliver Twist, he had sustained severe internal injury and damage, from\\nwhich he was at that moment suffering the acutest torture.\\n\\nWhen Noah saw that the intelligence he communicated perfectly paralysed\\nMr. Bumble, he imparted additional effect thereunto, by bewailing his\\ndreadful wounds ten times louder than before; and when he observed a\\ngentleman in a white waistcoat crossing the yard, he was more tragic in\\nhis lamentations than ever: rightly conceiving it highly expedient to\\nattract the notice, and rouse the indignation, of the gentleman\\naforesaid.\\n\\nThe gentleman\\'s notice was very soon attracted; for he had not walked\\nthree paces, when he turned angrily round, and inquired what that young\\ncur was howling for, and why Mr. Bumble did not favour him with\\nsomething which would render the series of vocular exclamations so\\ndesignated, an involuntary process?\\n\\n\\'It\\'s a poor boy from the free-school, sir,\\' replied Mr. Bumble, \\'who\\nhas been nearly murdered--all but murdered, sir,--by young Twist.\\'\\n\\n\\'By Jove!\\' exclaimed the gentleman in the white waistcoat, stopping\\nshort.  \\'I knew it!  I felt a strange presentiment from the very first,\\nthat that audacious young savage would come to be hung!\\'\\n\\n\\'He has likewise attempted, sir, to murder the female servant,\\' said\\nMr. Bumble, with a face of ashy paleness.\\n\\n\\'And his missis,\\' interposed Mr. Claypole.\\n\\n\\'And his master, too, I think you said, Noah?\\' added Mr. Bumble.\\n\\n\\'No! he\\'s out, or he would have murdered him,\\' replied Noah. \\'He said\\nhe wanted to.\\'\\n\\n\\'Ah!  Said he wanted to, did he, my boy?\\' inquired the gentleman in the\\nwhite waistcoat.\\n\\n\\'Yes, sir,\\' replied Noah.  \\'And please, sir, missis wants to know\\nwhether Mr. Bumble can spare time to step up there, directly, and flog\\nhim--\\'cause master\\'s out.\\'\\n\\n\\'Certainly, my boy; certainly,\\' said the gentleman in the white\\nwaistcoat: smiling benignly, and patting Noah\\'s head, which was about\\nthree inches higher than his own.  \\'You\\'re a good boy--a very good boy.\\nHere\\'s a penny for you.  Bumble, just step up to Sowerberry\\'s with your\\ncane, and see what\\'s best to be done. Don\\'t spare him, Bumble.\\'\\n\\n\\'No, I will not, sir,\\' replied the beadle.  And the cocked hat and cane\\nhaving been, by this time, adjusted to their owner\\'s satisfaction, Mr.\\nBumble and Noah Claypole betook themselves with all speed to the\\nundertaker\\'s shop.\\n\\nHere the position of affairs had not at all improved.  Sowerberry had\\nnot yet returned, and Oliver continued to kick, with undiminished\\nvigour, at the cellar-door.  The accounts of his ferocity as related by\\nMrs. Sowerberry and Charlotte, were of so startling a nature, that Mr.\\nBumble judged it prudent to parley, before opening the door.  With this\\nview he gave a kick at the outside, by way of prelude; and, then,\\napplying his mouth to the keyhole, said, in a deep and impressive tone:\\n\\n\\'Oliver!\\'\\n\\n\\'Come; you let me out!\\' replied Oliver, from the inside.\\n\\n\\'Do you know this here voice, Oliver?\\' said Mr. Bumble.\\n\\n\\'Yes,\\' replied Oliver.\\n\\n\\'Ain\\'t you afraid of it, sir?  Ain\\'t you a-trembling while I speak,\\nsir?\\' said Mr. Bumble.\\n\\n\\'No!\\' replied Oliver, boldly.\\n\\nAn answer so different from the one he had expected to elicit, and was\\nin the habit of receiving, staggered Mr. Bumble not a little.  He\\nstepped back from the keyhole; drew himself up to his full height; and\\nlooked from one to another of the three bystanders, in mute\\nastonishment.\\n\\n\\'Oh, you know, Mr. Bumble, he must be mad,\\' said Mrs. Sowerberry.\\n\\n\\'No boy in half his senses could venture to speak so to you.\\'\\n\\n\\'It\\'s not Madness, ma\\'am,\\' replied Mr. Bumble, after a few moments of\\ndeep meditation.  \\'It\\'s Meat.\\'\\n\\n\\'What?\\' exclaimed Mrs. Sowerberry.\\n\\n\\'Meat, ma\\'am, meat,\\' replied Bumble, with stern emphasis. \\'You\\'ve\\nover-fed him, ma\\'am.  You\\'ve raised a artificial soul and spirit in\\nhim, ma\\'am unbecoming a person of his condition: as the board, Mrs.\\nSowerberry, who are practical philosophers, will tell you.  What have\\npaupers to do with soul or spirit?  It\\'s quite enough that we let \\'em\\nhave live bodies.  If you had kept the boy on gruel, ma\\'am, this would\\nnever have happened.\\'\\n\\n\\'Dear, dear!\\' ejaculated Mrs. Sowerberry, piously raising her eyes to\\nthe kitchen ceiling: \\'this comes of being liberal!\\'\\n\\nThe liberality of Mrs. Sowerberry to Oliver, had consisted of a profuse\\nbestowal upon him of all the dirty odds and ends which nobody else\\nwould eat; so there was a great deal of meekness and self-devotion in\\nher voluntarily remaining under Mr. Bumble\\'s heavy accusation.  Of\\nwhich, to do her justice, she was wholly innocent, in thought, word, or\\ndeed.\\n\\n\\'Ah!\\' said Mr. Bumble, when the lady brought her eyes down to earth\\nagain; \\'the only thing that can be done now, that I know of, is to\\nleave him in the cellar for a day or so, till he\\'s a little starved\\ndown; and then to take him out, and keep him on gruel all through the\\napprenticeship.  He comes of a bad family. Excitable natures, Mrs.\\nSowerberry!  Both the nurse and doctor said, that that mother of his\\nmade her way here, against difficulties and pain that would have killed\\nany well-disposed woman, weeks before.\\'\\n\\nAt this point of Mr. Bumble\\'s discourse, Oliver, just hearing enough to\\nknow that some allusion was being made to his mother, recommenced\\nkicking, with a violence that rendered every other sound inaudible.\\nSowerberry returned at this juncture.  Oliver\\'s offence having been\\nexplained to him, with such exaggerations as the ladies thought best\\ncalculated to rouse his ire, he unlocked the cellar-door in a\\ntwinkling, and dragged his rebellious apprentice out, by the collar.\\n\\nOliver\\'s clothes had been torn in the beating he had received; his face\\nwas bruised and scratched; and his hair scattered over his forehead.\\nThe angry flush had not disappeared, however; and when he was pulled\\nout of his prison, he scowled boldly on Noah, and looked quite\\nundismayed.\\n\\n\\'Now, you are a nice young fellow, ain\\'t you?\\' said Sowerberry; giving\\nOliver a shake, and a box on the ear.\\n\\n\\'He called my mother names,\\' replied Oliver.\\n\\n\\'Well, and what if he did, you little ungrateful wretch?\\' said Mrs.\\nSowerberry.  \\'She deserved what he said, and worse.\\'\\n\\n\\'She didn\\'t\\' said Oliver.\\n\\n\\'She did,\\' said Mrs. Sowerberry.\\n\\n\\'It\\'s a lie!\\' said Oliver.\\n\\nMrs. Sowerberry burst into a flood of tears.\\n\\nThis flood of tears left Mr. Sowerberry no alternative.  If he had\\nhesitated for one instant to punish Oliver most severely, it must be\\nquite clear to every experienced reader that he would have been,\\naccording to all precedents in disputes of matrimony established, a\\nbrute, an unnatural husband, an insulting creature, a base imitation of\\na man, and various other agreeable characters too numerous for recital\\nwithin the limits of this chapter.  To do him justice, he was, as far\\nas his power went--it was not very extensive--kindly disposed towards\\nthe boy; perhaps, because it was his interest to be so; perhaps,\\nbecause his wife disliked him. The flood of tears, however, left him no\\nresource; so he at once gave him a drubbing, which satisfied even Mrs.\\nSowerberry herself, and rendered Mr. Bumble\\'s subsequent application of\\nthe parochial cane, rather unnecessary.  For the rest of the day, he\\nwas shut up in the back kitchen, in company with a pump and a slice of\\nbread; and at night, Mrs. Sowerberry, after making various remarks\\noutside the door, by no means complimentary to the memory of his\\nmother, looked into the room, and, amidst the jeers and pointings of\\nNoah and Charlotte, ordered him upstairs to his dismal bed.\\n\\nIt was not until he was left alone in the silence and stillness of the\\ngloomy workshop of the undertaker, that Oliver gave way to the feelings\\nwhich the day\\'s treatment may be supposed likely to have awakened in a\\nmere child.  He had listened to their taunts with a look of contempt;\\nhe had borne the lash without a cry: for he felt that pride swelling in\\nhis heart which would have kept down a shriek to the last, though they\\nhad roasted him alive.  But now, when there were none to see or hear\\nhim, he fell upon his knees on the floor; and, hiding his face in his\\nhands, wept such tears as, God send for the credit of our nature, few\\nso young may ever have cause to pour out before him!\\n\\nFor a long time, Oliver remained motionless in this attitude. The\\ncandle was burning low in the socket when he rose to his feet. Having\\ngazed cautiously round him, and listened intently, he gently undid the\\nfastenings of the door, and looked abroad.\\n\\nIt was a cold, dark night.  The stars seemed, to the boy\\'s eyes,\\nfarther from the earth than he had ever seen them before; there was no\\nwind; and the sombre shadows thrown by the trees upon the ground,\\nlooked sepulchral and death-like, from being so still. He softly\\nreclosed the door.  Having availed himself of the expiring light of the\\ncandle to tie up in a handkerchief the few articles of wearing apparel\\nhe had, sat himself down upon a bench, to wait for morning.\\n\\nWith the first ray of light that struggled through the crevices in the\\nshutters, Oliver arose, and again unbarred the door.  One timid look\\naround--one moment\\'s pause of hesitation--he had closed it behind him,\\nand was in the open street.\\n\\nHe looked to the right and to the left, uncertain whither to fly.\\n\\nHe remembered to have seen the waggons, as they went out, toiling up\\nthe hill.  He took the same route; and arriving at a footpath across\\nthe fields: which he knew, after some distance, led out again into the\\nroad; struck into it, and walked quickly on.\\n\\nAlong this same footpath, Oliver well-remembered he had trotted beside\\nMr. Bumble, when he first carried him to the workhouse from the farm.\\nHis way lay directly in front of the cottage. His heart beat quickly\\nwhen he bethought himself of this; and he half resolved to turn back.\\nHe had come a long way though, and should lose a great deal of time by\\ndoing so.  Besides, it was so early that there was very little fear of\\nhis being seen; so he walked on.\\n\\nHe reached the house.  There was no appearance of its inmates stirring\\nat that early hour.  Oliver stopped, and peeped into the garden.  A\\nchild was weeding one of the little beds; as he stopped, he raised his\\npale face and disclosed the features of one of his former companions.\\nOliver felt glad to see him, before he went; for, though younger than\\nhimself, he had been his little friend and playmate.  They had been\\nbeaten, and starved, and shut up together, many and many a time.\\n\\n\\'Hush, Dick!\\' said Oliver, as the boy ran to the gate, and thrust his\\nthin arm between the rails to greet him.  \\'Is any one up?\\'\\n\\n\\'Nobody but me,\\' replied the child.\\n\\n\\'You musn\\'t say you saw me, Dick,\\' said Oliver.  \\'I am running away.\\nThey beat and ill-use me, Dick; and I am going to seek my fortune, some\\nlong way off.  I don\\'t know where.  How pale you are!\\'\\n\\n\\'I heard the doctor tell them I was dying,\\' replied the child with a\\nfaint smile.  \\'I am very glad to see you, dear; but don\\'t stop, don\\'t\\nstop!\\'\\n\\n\\'Yes, yes, I will, to say good-b\\'ye to you,\\' replied Oliver. \\'I shall\\nsee you again, Dick.  I know I shall!  You will be well and happy!\\'\\n\\n\\'I hope so,\\' replied the child.  \\'After I am dead, but not before.  I\\nknow the doctor must be right, Oliver, because I dream so much of\\nHeaven, and Angels, and kind faces that I never see when I am awake.\\nKiss me,\\' said the child,  climbing up the low gate, and flinging his\\nlittle arms round Oliver\\'s neck. \\'Good-b\\'ye, dear!  God bless you!\\'\\n\\nThe blessing was from a young child\\'s lips, but it was the first that\\nOliver had ever heard invoked upon his head; and through the struggles\\nand sufferings, and troubles and changes, of his after life, he never\\nonce forgot it.\\n\\nOLIVER WALKS TO LONDON.  HE ENCOUNTERS ON THE ROAD A STRANGE SORT OF\\nYOUNG GENTLEMAN\\n\\nOliver reached the stile at which the by-path terminated; and once more\\ngained the high-road.  It was eight o\\'clock now. Though he was nearly\\nfive miles away from the town, he ran, and hid behind the hedges, by\\nturns, till noon: fearing that he might be pursued and overtaken.  Then\\nhe sat down to rest by the side of the milestone, and began to think,\\nfor the first time, where he had better go and try to live.\\n\\nThe stone by which he was seated, bore, in large characters, an\\nintimation that it was just seventy miles from that spot to London. The\\nname awakened a new train of ideas in the boy\\'s mind.\\n\\nLondon!--that great place!--nobody--not even Mr. Bumble--could ever\\nfind him there!  He had often heard the old men in the workhouse, too,\\nsay that no lad of spirit need want in London; and that there were ways\\nof living in that vast city, which those who had been bred up in\\ncountry parts had no idea of.  It was the very place for a homeless\\nboy, who must die in the streets unless some one helped him. As these\\nthings passed through his thoughts, he jumped upon his feet, and again\\nwalked forward.\\n\\nHe had diminished the distance between himself and London by full four\\nmiles more, before he recollected how much he must undergo ere he could\\nhope to reach his place of destination. As this consideration forced\\nitself upon him, he slackened his pace a little, and meditated upon his\\nmeans of getting there.  He had a crust of bread, a coarse shirt, and\\ntwo pairs of stockings, in his bundle.  He had a penny too--a gift of\\nSowerberry\\'s after some funeral in which he had acquitted himself more\\nthan ordinarily well--in his pocket. \\'A clean shirt,\\' thought Oliver,\\n\\'is a very comfortable thing; and so are two pairs of darned stockings;\\nand so is a penny; but they are small helps to a sixty-five miles\\' walk\\nin winter time.\\'  But Oliver\\'s thoughts, like those of most other\\npeople, although they were extremely ready and active to point out his\\ndifficulties, were wholly at a loss to suggest any feasible mode of\\nsurmounting them; so, after a good deal of thinking to no particular\\npurpose, he changed his little bundle over to the other shoulder, and\\ntrudged on.\\n\\nOliver walked twenty miles that day; and all that time tasted nothing\\nbut the crust of dry bread, and a few draughts of water, which he\\nbegged at the cottage-doors by the road-side.  When the night came, he\\nturned into a meadow; and, creeping close under a hay-rick, determined\\nto lie there, till morning.  He felt frightened at first, for the wind\\nmoaned dismally over the empty fields: and he was cold and hungry, and\\nmore alone than he had ever felt before.  Being very tired with his\\nwalk, however, he soon fell asleep and forgot his troubles.\\n\\nHe felt cold and stiff, when he got up next morning, and so hungry that\\nhe was obliged to exchange the penny for a small loaf, in the very\\nfirst village through which he passed.  He had walked no more than\\ntwelve miles, when night closed in again. His feet were sore, and his\\nlegs so weak that they trembled beneath him.  Another night passed in\\nthe bleak damp air, made him worse; when he set forward on his journey\\nnext morning he could hardly crawl along.\\n\\nHe waited at the bottom of a steep hill till a stage-coach came up, and\\nthen begged of the outside passengers; but there were very few who took\\nany notice of him: and even those told him to wait till they got to the\\ntop of the hill, and then let them see how far he could run for a\\nhalfpenny.  Poor Oliver tried to keep up with the coach a little way,\\nbut was unable to do it, by reason of his fatigue and sore feet.  When\\nthe outsides saw this, they put their halfpence back into their pockets\\nagain, declaring that he was an idle young dog, and didn\\'t deserve\\nanything; and the coach rattled away and left only a cloud of dust\\nbehind.\\n\\nIn some villages, large painted boards were fixed up: warning all\\npersons who begged within the district, that they would be sent to\\njail.  This frightened Oliver very much, and made him glad to get out\\nof those villages with all possible expedition.  In others, he would\\nstand about the inn-yards, and look mournfully at every one who passed:\\na proceeding which generally terminated in the landlady\\'s ordering one\\nof the post-boys who were lounging about, to drive that strange boy out\\nof the place, for she was sure he had come to steal something.  If he\\nbegged at a farmer\\'s house, ten to one but they threatened to set the\\ndog on him; and when he showed his nose in a shop, they talked about\\nthe beadle--which brought Oliver\\'s heart into his mouth,--very often\\nthe only thing he had there, for many hours together.\\n\\nIn fact, if it had not been for a good-hearted turnpike-man, and a\\nbenevolent old lady, Oliver\\'s troubles would have been shortened by the\\nvery same process which had put an end to his mother\\'s; in other words,\\nhe would most assuredly have fallen dead upon the king\\'s highway.  But\\nthe turnpike-man gave him a meal of bread and cheese; and the old lady,\\nwho had a shipwrecked grandson wandering barefoot in some distant part\\nof the earth, took pity upon the poor orphan, and gave him what little\\nshe could afford--and more--with such kind and gentle words, and such\\ntears of sympathy and compassion, that they sank deeper into Oliver\\'s\\nsoul, than all the sufferings he had ever undergone.\\n\\nEarly on the seventh morning after he had left his native place, Oliver\\nlimped slowly into the little town of Barnet. The window-shutters were\\nclosed; the street was empty; not a soul had awakened to the business\\nof the day.  The sun was rising in all its splendid beauty; but the\\nlight only served to show the boy his own lonesomeness and desolation,\\nas he sat, with bleeding feet and covered with dust, upon a door-step.\\n\\nBy degrees, the shutters were opened; the window-blinds were drawn up;\\nand people began passing to and fro.  Some few stopped to gaze at\\nOliver for a moment or two, or turned round to stare at him as they\\nhurried by; but none relieved him, or troubled themselves to inquire\\nhow he came there. He had no heart to beg. And there he sat.\\n\\nHe had been crouching on the step for some time: wondering at the great\\nnumber of public-houses (every other house in Barnet was a tavern,\\nlarge or small), gazing listlessly at the coaches as they passed\\nthrough, and thinking how strange it seemed that they could do, with\\nease, in a few hours, what it had taken him a whole week of courage and\\ndetermination beyond his years to accomplish: when he was roused by\\nobserving that a boy, who had passed him carelessly some minutes\\nbefore, had returned, and was now surveying him most earnestly from the\\nopposite side of the way.  He took little heed of this at first; but\\nthe boy remained in the same attitude of close observation so long,\\nthat Oliver raised his head, and returned his steady look.  Upon this,\\nthe boy crossed over; and walking close up to Oliver, said,\\n\\n\\'Hullo, my covey!  What\\'s the row?\\'\\n\\nThe boy who addressed this inquiry to the young wayfarer, was about his\\nown age: but one of the queerest looking boys that Oliver had even\\nseen.  He was a snub-nosed, flat-browed, common-faced boy enough; and\\nas dirty a juvenile as one would wish to see; but he had about him all\\nthe airs and manners of a man.  He was short of his age: with rather\\nbow-legs, and little, sharp, ugly eyes.  His hat was stuck on the top\\nof his head so lightly, that it threatened to fall off every\\nmoment--and would have done so, very often, if the wearer had not had a\\nknack of every now and then giving his head a sudden twitch, which\\nbrought it back to its old place again.  He wore a man\\'s coat, which\\nreached nearly to his heels.  He had turned the cuffs back, half-way up\\nhis arm, to get his hands out of the sleeves: apparently with the\\nultimate view of thrusting them into the pockets of his corduroy\\ntrousers; for there he kept them.  He was, altogether, as roystering\\nand swaggering a young gentleman as ever stood four feet six, or\\nsomething less, in the bluchers.\\n\\n\\'Hullo, my covey!  What\\'s the row?\\' said this strange young gentleman\\nto Oliver.\\n\\n\\'I am very hungry and tired,\\' replied Oliver: the tears standing in his\\neyes as he spoke. \\'I have walked a long way.  I have been walking these\\nseven days.\\'\\n\\n\\'Walking for sivin days!\\' said the young gentleman.  \\'Oh, I see. Beak\\'s\\norder, eh?  But,\\' he added, noticing Oliver\\'s look of surprise, \\'I\\nsuppose you don\\'t know what a beak is, my flash com-pan-i-on.\\'\\n\\nOliver mildly replied, that he had always heard a bird\\'s mouth\\ndescribed by the term in question.\\n\\n\\'My eyes, how green!\\' exclaimed the young gentleman. \\'Why, a beak\\'s a\\nmadgst\\'rate; and when you walk by a beak\\'s order, it\\'s not straight\\nforerd, but always agoing up, and niver a coming down agin.  Was you\\nnever on the mill?\\'\\n\\n\\'What mill?\\' inquired Oliver.\\n\\n\\'What mill!  Why, _the_ mill--the mill as takes up so little room that\\nit\\'ll work inside a Stone Jug; and always goes better when the wind\\'s\\nlow with people, than when it\\'s high; acos then they can\\'t get workmen.\\nBut come,\\' said the young gentleman; \\'you want grub, and you shall have\\nit.  I\\'m at low-water-mark myself--only one bob and a magpie; but, as\\nfar as it goes, I\\'ll fork out and stump.  Up with you on your pins.\\nThere!  Now then! \\'Morrice!\\'\\n\\nAssisting Oliver to rise, the young gentleman took him to an adjacent\\nchandler\\'s shop, where he purchased a sufficiency of ready-dressed ham\\nand a half-quartern loaf, or, as he himself expressed it, \\'a fourpenny\\nbran!\\' the ham being kept clean and preserved from dust, by the\\ningenious expedient of making a hole in the loaf by pulling out a\\nportion of the crumb, and stuffing it therein.  Taking the bread under\\nhis arm, the young gentlman turned into a small public-house, and led\\nthe way to a tap-room in the rear of the premises. Here, a pot of beer\\nwas brought in, by direction of the mysterious youth; and Oliver,\\nfalling to, at his new friend\\'s bidding, made a long and hearty meal,\\nduring the progress of which the strange boy eyed him from time to time\\nwith great attention.\\n\\n\\'Going to London?\\' said the strange boy, when Oliver had at length\\nconcluded.\\n\\n\\'Yes.\\'\\n\\n\\'Got any lodgings?\\'\\n\\n\\'No.\\'\\n\\n\\'Money?\\'\\n\\n\\'No.\\'\\n\\nThe strange boy whistled; and put his arms into his pockets, as far as\\nthe big coat-sleeves would let them go.\\n\\n\\'Do you live in London?\\' inquired Oliver.\\n\\n\\'Yes. I do, when I\\'m at home,\\' replied the boy. \\'I suppose you want\\nsome place to sleep in to-night, don\\'t you?\\'\\n\\n\\'I do, indeed,\\' answered Oliver. \\'I have not slept under a roof since I\\nleft the country.\\'\\n\\n\\'Don\\'t fret your eyelids on that score,\\' said the young gentleman.\\n\\'I\\'ve got to be in London to-night; and I know a \\'spectable old\\ngentleman as lives there, wot\\'ll give you lodgings for nothink, and\\nnever ask for the change--that is, if any genelman he knows interduces\\nyou. And don\\'t he know me?  Oh, no! Not in the least!  By no means.\\nCertainly not!\\'\\n\\nThe young gentleman smiled, as if to intimate that the latter fragments\\nof discourse were playfully ironical; and finished the beer as he did\\nso.\\n\\nThis unexpected offer of shelter was too tempting to be resisted;\\nespecially as it was immediately followed up, by the assurance that the\\nold gentleman referred to, would doubtless provide Oliver with a\\ncomfortable place, without loss of time.  This led to a more friendly\\nand confidential dialogue; from which Oliver discovered that his\\nfriend\\'s name was Jack Dawkins, and that he was a peculiar pet and\\nprotege of the elderly gentleman before mentioned.\\n\\nMr. Dawkin\\'s appearance did not say a vast deal in favour of the\\ncomforts which his patron\\'s interest obtained for those whom he took\\nunder his protection; but, as he had a rather flightly and dissolute\\nmode of conversing, and furthermore avowed that among his intimate\\nfriends he was better known by the sobriquet of \\'The Artful Dodger,\\'\\nOliver concluded that, being of a dissipated and careless turn, the\\nmoral precepts of his benefactor had hitherto been thrown away upon\\nhim.  Under this impression, he secretly resolved to cultivate the good\\nopinion of the old gentleman as quickly as possible; and, if he found\\nthe Dodger incorrigible, as he more than half suspected he should, to\\ndecline the honour of his farther acquaintance.\\n\\nAs John Dawkins objected to their entering London before nightfall, it\\nwas nearly eleven o\\'clock when they reached the turnpike at Islington.\\nThey crossed from the Angel into St. John\\'s Road; struck down the small\\nstreet which terminates at Sadler\\'s Wells Theatre; through Exmouth\\nStreet and Coppice Row; down the little court by the side of the\\nworkhouse; across the classic ground which once bore the name of\\nHockley-in-the-Hole; thence into Little Saffron Hill; and so into\\nSaffron Hill the Great: along which the Dodger scudded at a rapid pace,\\ndirecting Oliver to follow close at his heels.\\n\\nAlthough Oliver had enough to occupy his attention in keeping sight of\\nhis leader, he could not help bestowing a few hasty glances on either\\nside of the way, as he passed along.  A dirtier or more wretched place\\nhe had never seen.  The street was very narrow and muddy, and the air\\nwas impregnated with filthy odours.\\n\\nThere were a good many small shops; but the only stock in trade\\nappeared to be heaps of children, who, even at that time of night, were\\ncrawling in and out at the doors, or screaming from the inside.  The\\nsole places that seemed to prosper amid the general blight of the\\nplace, were the public-houses; and in them, the lowest orders of Irish\\nwere wrangling with might and main. Covered ways and yards, which here\\nand there diverged from the main street, disclosed little knots of\\nhouses, where drunken men and women were positively wallowing in filth;\\nand from several of the door-ways, great ill-looking fellows were\\ncautiously emerging, bound, to all appearance, on no very well-disposed\\nor harmless errands.\\n\\nOliver was just considering whether he hadn\\'t better run away, when\\nthey reached the bottom of the hill.  His conductor, catching him by\\nthe arm, pushed open the door of a house near Field Lane; and drawing\\nhim into the passage, closed it behind them.\\n\\n\\'Now, then!\\' cried a voice from below, in reply to a whistle from the\\nDodger.\\n\\n\\'Plummy and slam!\\' was the reply.\\n\\nThis seemed to be some watchword or signal that all was right; for the\\nlight of a feeble candle gleamed on the wall at the remote end of the\\npassage; and a man\\'s face peeped out, from where a balustrade of the\\nold kitchen staircase had been broken away.\\n\\n\\'There\\'s two on you,\\' said the man, thrusting the candle farther out,\\nand shielding his eyes with his hand.  \\'Who\\'s the t\\'other one?\\'\\n\\n\\'A new pal,\\' replied Jack Dawkins, pulling Oliver forward.\\n\\n\\'Where did he come from?\\'\\n\\n\\'Greenland. Is Fagin upstairs?\\'\\n\\n\\'Yes, he\\'s a sortin\\' the wipes.  Up with you!\\'  The candle was drawn\\nback, and the face disappeared.\\n\\nOliver, groping his way with one hand, and having the other firmly\\ngrasped by his companion, ascended with much difficulty the dark and\\nbroken stairs: which his conductor mounted with an ease and expedition\\nthat showed he was well acquainted with them.\\n\\nHe threw open the door of a back-room, and drew Oliver in after him.\\n\\nThe walls and ceiling of the room were perfectly black with age and\\ndirt.  There was a deal table before the fire: upon which were a\\ncandle, stuck in a ginger-beer bottle, two or three pewter pots, a loaf\\nand butter, and a plate.  In a frying-pan, which was on the fire, and\\nwhich was secured to the mantelshelf by a string, some sausages were\\ncooking; and standing over them, with a toasting-fork in his hand, was\\na very old shrivelled Jew, whose villainous-looking and repulsive face\\nwas obscured by a quantity of matted red hair. He was dressed in a\\ngreasy flannel gown, with his throat bare; and seemed to be dividing\\nhis attention between the frying-pan and the clothes-horse, over which\\na great number of silk handkerchiefs were hanging.  Several rough beds\\nmade of old sacks, were huddled side by side on the floor. Seated round\\nthe table were four or five boys, none older than the Dodger, smoking\\nlong clay pipes, and drinking spirits with the air of middle-aged men.\\nThese all crowded about their associate as he whispered a few words to\\nthe Jew; and then turned round and grinned at Oliver.  So did the Jew\\nhimself, toasting-fork in hand.\\n\\n\\'This is him, Fagin,\\' said Jack Dawkins;\\'my friend Oliver Twist.\\'\\n\\nThe Jew grinned; and, making a low obeisance to Oliver, took him by the\\nhand, and hoped he should have the honour of his intimate acquaintance.\\nUpon this, the young gentleman with the pipes came round him, and shook\\nboth his hands very hard--especially the one in which he held his\\nlittle bundle.  One young gentleman was very anxious to hang up his cap\\nfor him; and another was so obliging as to put his hands in his\\npockets, in order that, as he was very tired, he might not have the\\ntrouble of emptying them, himself, when he went to bed.  These\\ncivilities would probably be extended much farther, but for a liberal\\nexercise of the Jew\\'s toasting-fork on the heads and shoulders of the\\naffectionate youths who offered them.\\n\\n\\'We are very glad to see you, Oliver, very,\\' said the Jew. \\'Dodger,\\ntake off the sausages; and draw a tub near the fire for Oliver.  Ah,\\nyou\\'re a-staring at the pocket-handkerchiefs! eh, my dear. There are a\\ngood many of \\'em, ain\\'t there? We\\'ve just looked \\'em out, ready for the\\nwash; that\\'s all, Oliver; that\\'s all. Ha! ha! ha!\\'\\n\\nThe latter part of this speech, was hailed by a boisterous shout from\\nall the hopeful pupils of the merry old gentleman. In the midst of\\nwhich they went to supper.\\n\\nOliver ate his share, and the Jew then mixed him a glass of hot\\ngin-and-water: telling him he must drink it off directly, because\\nanother gentleman wanted the tumbler. Oliver did as he was desired.\\nImmediately afterwards he felt himself gently lifted on to one of the\\nsacks; and then he sunk into a deep sleep.\\n\\nCONTAINING FURTHER PARTICULARS CONCERNING THE PLEASANT OLD GENTLEMAN,\\nAND HIS HOPEFUL PUPILS\\n\\nIt was late next morning when Oliver awoke, from a sound, long sleep.\\nThere was no other person in the room but the old Jew, who was boiling\\nsome coffee in a saucepan for breakfast, and whistling softly to\\nhimself as he stirred it round and round, with an iron spoon. He would\\nstop every now and then to listen when there was the least noise below:\\nand when he had satisfied himself, he would go on whistling and\\nstirring again, as before.\\n\\nAlthough Oliver had roused himself from sleep, he was not thoroughly\\nawake. There is a drowsy state, between sleeping and waking, when you\\ndream more in five minutes with your eyes half open, and yourself half\\nconscious of everything that is passing around you, than you would in\\nfive nights with your eyes fast closed, and your senses wrapt in\\nperfect unconsciousness. At such time, a mortal knows just enough of\\nwhat his mind is doing, to form some glimmering conception of its\\nmighty powers, its bounding from earth and spurning time and space,\\nwhen freed from the restraint of its corporeal associate.\\n\\nOliver was precisely in this condition. He saw the Jew with his\\nhalf-closed eyes; heard his low whistling; and recognised the sound of\\nthe spoon grating against the saucepan\\'s sides: and yet the self-same\\nsenses were mentally engaged, at the same time, in busy action with\\nalmost everybody he had ever known.\\n\\nWhen the coffee was done, the Jew drew the saucepan to the hob.\\nStanding, then in an irresolute attitude for a few minutes, as if he\\ndid not well know how to employ himself, he turned round and looked at\\nOliver, and called him by his name. He did not answer, and was to all\\nappearances asleep.\\n\\nAfter satisfying himself upon this head, the Jew stepped gently to the\\ndoor: which he fastened. He then drew forth: as it seemed to Oliver,\\nfrom some trap in the floor: a small box, which he placed carefully on\\nthe table. His eyes glistened as he raised the lid, and looked in.\\nDragging an old chair to the table, he sat down; and took from it a\\nmagnificent gold watch, sparkling with jewels.\\n\\n\\'Aha!\\' said the Jew, shrugging up his shoulders, and distorting every\\nfeature with a hideous grin. \\'Clever dogs! Clever dogs! Staunch to the\\nlast! Never told the old parson where they were. Never poached upon old\\nFagin! And why should they? It wouldn\\'t have loosened the knot, or kept\\nthe drop up, a minute longer. No, no, no! Fine fellows! Fine fellows!\\'\\n\\nWith these, and other muttered reflections of the like nature, the Jew\\nonce more deposited the watch in its place of safety. At least half a\\ndozen more were severally drawn forth from the same box, and surveyed\\nwith equal pleasure; besides rings, brooches, bracelets, and other\\narticles of jewellery, of such magnificent materials, and costly\\nworkmanship, that Oliver had no idea, even of their names.\\n\\nHaving replaced these trinkets, the Jew took out another: so small that\\nit lay in the palm of his hand. There seemed to be some very minute\\ninscription on it; for the Jew laid it flat upon the table, and shading\\nit with his hand, pored over it, long and earnestly. At length he put\\nit down, as if despairing of success; and, leaning back in his chair,\\nmuttered:\\n\\n\\'What a fine thing capital punishment is! Dead men never repent; dead\\nmen never bring awkward stories to light. Ah, it\\'s a fine thing for the\\ntrade! Five of \\'em strung up in a row, and none left to play booty, or\\nturn white-livered!\\'\\n\\nAs the Jew uttered these words, his bright dark eyes, which had been\\nstaring vacantly before him, fell on Oliver\\'s face; the boy\\'s eyes were\\nfixed on his in mute curiousity; and although the recognition was only\\nfor an instant--for the briefest space of time that can possibly be\\nconceived--it was enough to show the old man that he had been observed.\\n\\nHe closed the lid of the box with a loud crash; and, laying his hand on\\na bread knife which was on the table, started furiously up. He trembled\\nvery much though; for, even in his terror, Oliver could see that the\\nknife quivered in the air.\\n\\n\\'What\\'s that?\\' said the Jew. \\'What do you watch me for? Why are you\\nawake? What have you seen? Speak out, boy! Quick--quick! for your life.\\n\\n\\'I wasn\\'t able to sleep any longer, sir,\\' replied Oliver, meekly. \\'I am\\nvery sorry if I have disturbed you, sir.\\'\\n\\n\\'You were not awake an hour ago?\\' said the Jew, scowling fiercely on\\nthe boy.\\n\\n\\'No! No, indeed!\\' replied Oliver.\\n\\n\\'Are you sure?\\' cried the Jew: with a still fiercer look than before:\\nand a threatening attitude.\\n\\n\\'Upon my word I was not, sir,\\' replied Oliver, earnestly. \\'I was not,\\nindeed, sir.\\'\\n\\n\\'Tush, tush, my dear!\\' said the Jew, abruptly resuming his old manner,\\nand playing with the knife a little, before he laid it down; as if to\\ninduce the belief that he had caught it up, in mere sport. \\'Of course I\\nknow that, my dear. I only tried to frighten you. You\\'re a brave boy.\\nHa! ha! you\\'re a brave boy, Oliver.\\' The Jew rubbed his hands with a\\nchuckle, but glanced uneasily at the box, notwithstanding.\\n\\n\\'Did you see any of these pretty things, my dear?\\' said the Jew, laying\\nhis hand upon it after a short pause.\\n\\n\\'Yes, sir,\\' replied Oliver.\\n\\n\\'Ah!\\' said the Jew, turning rather pale. \\'They--they\\'re mine, Oliver;\\nmy little property. All I have to live upon, in my old age. The folks\\ncall me a miser, my dear. Only a miser; that\\'s all.\\'\\n\\nOliver thought the old gentleman must be a decided miser to live in\\nsuch a dirty place, with so many watches; but, thinking that perhaps\\nhis fondness for the Dodger and the other boys, cost him a good deal of\\nmoney, he only cast a deferential look at the Jew, and asked if he\\nmight get up.\\n\\n\\'Certainly, my dear, certainly,\\' replied the old gentleman. \\'Stay.\\nThere\\'s a pitcher of water in the corner by the door. Bring it here;\\nand I\\'ll give you a basin to wash in, my dear.\\'\\n\\nOliver got up; walked across the room; and stooped for an instant to\\nraise the pitcher.  When he turned his head, the box was gone.\\n\\nHe had scarcely washed himself, and made everything tidy, by emptying\\nthe basin out of the window, agreeably to the Jew\\'s directions, when\\nthe Dodger returned: accompanied by a very sprightly young friend, whom\\nOliver had seen smoking on the previous night, and who was now formally\\nintroduced to him as Charley Bates. The four sat down, to breakfast, on\\nthe coffee, and some hot rolls and ham which the Dodger had brought\\nhome in the crown of his hat.\\n\\n\\'Well,\\' said the Jew, glancing slyly at Oliver, and addressing himself\\nto the Dodger, \\'I hope you\\'ve been at work this morning, my dears?\\'\\n\\n\\'Hard,\\' replied the Dodger.\\n\\n\\'As nails,\\' added Charley Bates.\\n\\n\\'Good boys, good boys!\\' said the Jew. \\'What have you got, Dodger?\\'\\n\\n\\'A couple of pocket-books,\\' replied that young gentlman.\\n\\n\\'Lined?\\' inquired the Jew, with eagerness.\\n\\n\\'Pretty well,\\' replied the Dodger, producing two pocket-books; one\\ngreen, and the other red.\\n\\n\\'Not so heavy as they might be,\\' said the Jew, after looking at the\\ninsides carefully; \\'but very neat and nicely made.  Ingenious workman,\\nain\\'t he, Oliver?\\'\\n\\n\\'Very indeed, sir,\\' said Oliver. At which Mr. Charles Bates laughed\\nuproariously; very much to the amazement of Oliver, who saw nothing to\\nlaugh at, in anything that had passed.\\n\\n\\'And what have you got, my dear?\\' said Fagin to Charley Bates.\\n\\n\\'Wipes,\\' replied Master Bates; at the same time producing four\\npocket-handkerchiefs.\\n\\n\\'Well,\\' said the Jew, inspecting them closely; \\'they\\'re very good ones,\\nvery. You haven\\'t marked them well, though, Charley; so the marks shall\\nbe picked out with a needle, and we\\'ll teach Oliver how to do it. Shall\\nus, Oliver, eh? Ha! ha! ha!\\'\\n\\n\\'If you please, sir,\\' said Oliver.\\n\\n\\'You\\'d like to be able to make pocket-handkerchiefs as easy as Charley\\nBates, wouldn\\'t you, my dear?\\' said the Jew.\\n\\n\\'Very much, indeed, if you\\'ll teach me, sir,\\' replied Oliver.\\n\\nMaster Bates saw something so exquisitely ludicrous in this reply, that\\nhe burst into another laugh; which laugh, meeting the coffee he was\\ndrinking, and carrying it down some wrong channel, very nearly\\nterminated in his premature suffocation.\\n\\n\\'He is so jolly green!\\' said Charley when he recovered, as an apology\\nto the company for his unpolite behaviour.\\n\\nThe Dodger said nothing, but he smoothed Oliver\\'s hair over his eyes,\\nand said he\\'d know better, by and by; upon which the old gentleman,\\nobserving Oliver\\'s colour mounting, changed the subject by asking\\nwhether there had been much of a crowd at the execution that morning?\\nThis made him wonder more and more; for it was plain from the replies\\nof the two boys that they had both been there; and Oliver naturally\\nwondered how they could possibly have found time to be so very\\nindustrious.\\n\\nWhen the breakfast was cleared away; the merry old gentlman and the two\\nboys played at a very curious and uncommon game, which was performed in\\nthis way. The merry old gentleman, placing a snuff-box in one pocket of\\nhis trousers, a note-case in the other, and a watch in his waistcoat\\npocket, with a guard-chain round his neck, and sticking a mock diamond\\npin in his shirt: buttoned his coat tight round him, and putting his\\nspectacle-case and handkerchief in his pockets, trotted up and down the\\nroom with a stick, in imitation of the manner in which old gentlemen\\nwalk about the streets any hour in the day.  Sometimes he stopped at\\nthe fire-place, and sometimes at the door, making believe that he was\\nstaring with all his might into shop-windows.  At such times, he would\\nlook constantly round him, for fear of thieves, and would keep slapping\\nall his pockets in turn, to see that he hadn\\'t lost anything, in such a\\nvery funny and natural manner, that Oliver laughed till the tears ran\\ndown his face.  All this time, the two boys followed him closely about:\\ngetting out of his sight, so nimbly, every time he turned round, that\\nit was impossible to follow their motions. At last, the Dodger trod\\nupon his toes, or ran upon his boot accidently, while Charley Bates\\nstumbled up against him behind; and in that one moment they took from\\nhim, with the most extraordinary rapidity, snuff-box, note-case,\\nwatch-guard, chain, shirt-pin, pocket-handkerchief, even the\\nspectacle-case.  If the old gentlman felt a hand in any one of his\\npockets, he cried out where it was; and then the game began all over\\nagain.\\n\\nWhen this game had been played a great many times, a couple of young\\nladies called to see the young gentleman; one of whom was named Bet,\\nand the other Nancy.  They wore a good deal of hair, not very neatly\\nturned up behind, and were rather untidy about the shoes and stockings.\\nThey were not exactly pretty, perhaps; but they had a great deal of\\ncolour in their faces, and looked quite stout and hearty.  Being\\nremarkably free and agreeable in their manners, Oliver thought them\\nvery nice girls indeed.  As there is no doubt they were.\\n\\nThe visitors stopped a long time. Spirits were produced, in consequence\\nof one of the young ladies complaining of a coldness in her inside; and\\nthe conversation took a very convivial and improving turn. At length,\\nCharley Bates expressed his opinion that it was time to pad the hoof.\\nThis, it occurred to Oliver, must be French for going out; for directly\\nafterwards, the Dodger, and Charley, and the two young ladies, went\\naway together, having been kindly furnished by the amiable old Jew with\\nmoney to spend.\\n\\n\\'There, my dear,\\' said Fagin. \\'That\\'s a pleasant life, isn\\'t it? They\\nhave gone out for the day.\\'\\n\\n\\'Have they done work, sir?\\' inquired Oliver.\\n\\n\\'Yes,\\' said the Jew; \\'that is, unless they should unexpectedly come\\nacross any, when they are out; and they won\\'t neglect it, if they do,\\nmy dear, depend upon it.  Make \\'em your models, my dear. Make \\'em your\\nmodels,\\' tapping the fire-shovel on the hearth to add force to his\\nwords; \\'do everything they bid you, and take their advice in all\\nmatters--especially the Dodger\\'s, my dear. He\\'ll be a great man\\nhimself, and will make you one too, if you take pattern by him.--Is my\\nhandkerchief hanging out of my pocket, my dear?\\' said the Jew, stopping\\nshort.\\n\\n\\'Yes, sir,\\' said Oliver.\\n\\n\\'See if you can take it out, without my feeling it; as you saw them do,\\nwhen we were at play this morning.\\'\\n\\nOliver held up the bottom of the pocket with one hand, as he had seen\\nthe Dodger hold it, and drew the handkerchief lightly out of it with\\nthe other.\\n\\n\\'Is it gone?\\' cried the Jew.\\n\\n\\'Here it is, sir,\\' said Oliver, showing it in his hand.\\n\\n\\'You\\'re a clever boy, my dear,\\' said the playful old gentleman, patting\\nOliver on the head approvingly. \\'I never saw a sharper lad. Here\\'s a\\nshilling for you. If you go on, in this way, you\\'ll be the greatest man\\nof the time. And now come here, and I\\'ll show you how to take the marks\\nout of the handkerchiefs.\\'\\n\\nOliver wondered what picking the old gentleman\\'s pocket in play, had to\\ndo with his chances of being a great man.  But, thinking that the Jew,\\nbeing so much his senior, must know best, he followed him quietly to\\nthe table, and was soon deeply involved in his new study.\\n\\nOLIVER BECOMES BETTER ACQUAINTED WITH THE CHARACTERS OF HIS NEW\\nASSOCIATES; AND PURCHASES EXPERIENCE AT A HIGH PRICE. BEING A SHORT,\\nBUT VERY IMPORTANT CHAPTER, IN THIS HISTORY\\n\\nFor many days, Oliver remained in the Jew\\'s room, picking the marks out\\nof the pocket-handkerchief, (of which a great number were brought\\nhome,) and sometimes taking part in the game already described: which\\nthe two boys and the Jew played, regularly, every morning. At length,\\nhe began to languish for fresh air, and took many occasions of\\nearnestly entreating the old gentleman to allow him to go out to work\\nwith his two companions.\\n\\nOliver was rendered the more anxious to be actively employed, by what\\nhe had seen of the stern morality of the old gentleman\\'s character.\\nWhenever the Dodger or Charley Bates came home at night, empty-handed,\\nhe would expatiate with great vehemence on the misery of idle and lazy\\nhabits; and would enforce upon them the necessity of an active life, by\\nsending them supperless to bed. On one occasion, indeed, he even went\\nso far as to knock them both down a flight of stairs; but this was\\ncarrying out his virtuous precepts to an unusual extent.\\n\\nAt length, one morning, Oliver obtained the permission he had so\\neagerly sought. There had been no handkerchiefs to work upon, for two\\nor three days, and the dinners had been rather meagre. Perhaps these\\nwere reasons for the old gentleman\\'s giving his assent; but, whether\\nthey were or no, he told Oliver he might go, and placed him under the\\njoint guardianship of Charley Bates, and his friend the Dodger.\\n\\nThe three boys sallied out; the Dodger with his coat-sleeves tucked up,\\nand his hat cocked, as usual; Master Bates sauntering along with his\\nhands in his pockets; and Oliver between them, wondering where they\\nwere going, and what branch of manufacture he would be instructed in,\\nfirst.\\n\\nThe pace at which they went, was such a very lazy, ill-looking saunter,\\nthat Oliver soon began to think his companions were going to deceive\\nthe old gentleman, by not going to work at all. The Dodger had a\\nvicious propensity, too, of pulling the caps from the heads of small\\nboys and tossing them down areas; while Charley Bates exhibited some\\nvery loose notions concerning the rights of property, by pilfering\\ndivers apples and onions from the stalls at the kennel sides, and\\nthrusting them into pockets which were so surprisingly capacious, that\\nthey seemed to undermine his whole suit of clothes in every direction.\\nThese things looked so bad, that Oliver was on the point of declaring\\nhis intention of seeking his way back, in the best way he could; when\\nhis thoughts were suddenly directed into another channel, by a very\\nmysterious change of behaviour on the part of the Dodger.\\n\\nThey were just emerging from a narrow court not far from the open\\nsquare in Clerkenwell, which is yet called, by some strange perversion\\nof terms, \\'The Green\\': when the Dodger made a sudden stop; and, laying\\nhis finger on his lip, drew his companions back again, with the\\ngreatest caution and circumspection.\\n\\n\\'What\\'s the matter?\\' demanded Oliver.\\n\\n\\'Hush!\\' replied the Dodger. \\'Do you see that old cove at the\\nbook-stall?\\'\\n\\n\\'The old gentleman over the way?\\' said Oliver. \\'Yes, I see him.\\'\\n\\n\\'He\\'ll do,\\' said the Dodger.\\n\\n\\'A prime plant,\\' observed Master Charley Bates.\\n\\nOliver looked from one to the other, with the greatest surprise; but he\\nwas not permitted to make any inquiries; for the two boys walked\\nstealthily across the road, and slunk close behind the old gentleman\\ntowards whom his attention had been directed. Oliver walked a few paces\\nafter them; and, not knowing whether to advance or retire, stood\\nlooking on in silent amazement.\\n\\nThe old gentleman was a very respectable-looking personage, with a\\npowdered head and gold spectacles. He was dressed in a bottle-green\\ncoat with a black velvet collar; wore white trousers; and carried a\\nsmart bamboo cane under his arm. He had taken up a book from the stall,\\nand there he stood, reading away, as hard as if he were in his\\nelbow-chair, in his own study. It is very possible that he fancied\\nhimself there, indeed; for it was plain, from his abstraction, that he\\nsaw not the book-stall, nor the street, nor the boys, nor, in short,\\nanything but the book itself: which he was reading straight through:\\nturning over the leaf when he got to the bottom of a page, beginning at\\nthe top line of the next one, and going regularly on, with the greatest\\ninterest and eagerness.\\n\\nWhat was Oliver\\'s horror and alarm as he stood a few paces off, looking\\non with his eyelids as wide open as they would possibly go, to see the\\nDodger plunge his hand into the old gentleman\\'s pocket, and draw from\\nthence a handkerchief! To see him hand the same to Charley Bates; and\\nfinally to behold them, both running away round the corner at full\\nspeed!\\n\\nIn an instant the whole mystery of the hankerchiefs, and the watches,\\nand the jewels, and the Jew, rushed upon the boy\\'s mind.\\n\\nHe stood, for a moment, with the blood so tingling through all his\\nveins from terror, that he felt as if he were in a burning fire; then,\\nconfused and frightened, he took to his heels; and, not knowing what he\\ndid, made off as fast as he could lay his feet to the ground.\\n\\nThis was all done in a minute\\'s space. In the very instant when Oliver\\nbegan to run, the old gentleman, putting his hand to his pocket, and\\nmissing his handkerchief, turned sharp round. Seeing the boy scudding\\naway at such a rapid pace, he very naturally concluded him to be the\\ndepredator; and shouting \\'Stop thief!\\' with all his might, made off\\nafter him, book in hand.\\n\\nBut the old gentleman was not the only person who raised the\\nhue-and-cry. The Dodger and Master Bates, unwilling to attract public\\nattention by running down the open street, had merely retired into the\\nvery first doorway round the corner. They no sooner heard the cry, and\\nsaw Oliver running, than, guessing exactly how the matter stood, they\\nissued forth with great promptitude; and, shouting \\'Stop thief!\\' too,\\njoined in the pursuit like good citizens.\\n\\nAlthough Oliver had been brought up by philosophers, he was not\\ntheoretically acquainted with the beautiful axiom that\\nself-preservation is the first law of nature. If he had been, perhaps\\nhe would have been prepared for this. Not being prepared, however, it\\nalarmed him the more; so away he went like the wind, with the old\\ngentleman and the two boys roaring and shouting behind him.\\n\\n\\'Stop thief! Stop thief!\\' There is a magic in the sound. The tradesman\\nleaves his counter, and the car-man his waggon; the butcher throws down\\nhis tray; the baker his basket; the milkman his pail; the errand-boy\\nhis parcels; the school-boy his marbles; the paviour his pickaxe; the\\nchild his battledore. Away they run, pell-mell, helter-skelter,\\nslap-dash: tearing, yelling, screaming, knocking down the passengers as\\nthey turn the corners, rousing up the dogs, and astonishing the fowls:\\nand streets, squares, and courts, re-echo with the sound.\\n\\n\\'Stop thief! Stop thief!\\' The cry is taken up by a hundred voices, and\\nthe crowd accumulate at every turning. Away they fly, splashing through\\nthe mud, and rattling along the pavements: up go the windows, out run\\nthe people, onward bear the mob, a whole audience desert Punch in the\\nvery thickest of the plot, and, joining the rushing throng, swell the\\nshout, and lend fresh vigour to the cry, \\'Stop thief! Stop thief!\\'\\n\\n\\'Stop thief! Stop thief!\\' There is a passion FOR _hunting_ _something_\\ndeeply implanted in the human breast.  One wretched breathless child,\\npanting with exhaustion; terror in his looks; agony in his eyes; large\\ndrops of perspiration streaming down his face; strains every nerve to\\nmake head upon his pursuers; and as they follow on his track, and gain\\nupon him every instant, they hail his decreasing strength with joy.\\n\\'Stop thief!\\'  Ay, stop him for God\\'s sake, were it only in mercy!\\n\\nStopped at last!  A clever blow.  He is down upon the pavement; and the\\ncrowd eagerly gather round him:  each new comer, jostling and\\nstruggling with the others to catch a glimpse.  \\'Stand aside!\\'  \\'Give\\nhim a little air!\\'  \\'Nonsense! he don\\'t deserve it.\\'  \\'Where\\'s the\\ngentleman?\\'  \\'Here his is, coming down the street.\\'  \\'Make room there\\nfor the gentleman!\\' \\'Is this the boy, sir!\\'  \\'Yes.\\'\\n\\nOliver lay, covered with mud and dust, and bleeding from the mouth,\\nlooking wildly round upon the heap of faces that surrounded him, when\\nthe old gentleman was officiously dragged and pushed into the circle by\\nthe foremost of the pursuers.\\n\\n\\'Yes,\\' said the gentleman, \\'I am afraid it is the boy.\\'\\n\\n\\'Afraid!\\' murmured the crowd.  \\'That\\'s a good \\'un!\\'\\n\\n\\'Poor fellow!\\' said the gentleman, \\'he has hurt himself.\\'\\n\\n\\'_I_ did that, sir,\\' said a great lubberly fellow, stepping forward;\\n\\'and preciously I cut my knuckle agin\\' his mouth.  I stopped him, sir.\\'\\n\\nThe fellow touched his hat with a grin, expecting something for his\\npains; but, the old gentleman, eyeing him with an expression of\\ndislike, look anxiously round, as if he contemplated running away\\nhimself:  which it is very possible he might have attempted to do, and\\nthus have afforded another chase, had not a police officer (who is\\ngenerally the last person to arrive in such cases) at that moment made\\nhis way through the crowd, and seized Oliver by the collar.\\n\\n\\'Come, get up,\\' said the man, roughly.\\n\\n\\'It wasn\\'t me indeed, sir.  Indeed, indeed, it was two other boys,\\'\\nsaid Oliver, clasping his hands passionately, and looking round.  \\'They\\nare here somewhere.\\'\\n\\n\\'Oh no, they ain\\'t,\\' said the officer.  He meant this to be ironical,\\nbut it was true besides; for the Dodger and Charley Bates had filed off\\ndown the first convenient court they came to.\\n\\n\\'Come, get up!\\'\\n\\n\\'Don\\'t hurt him,\\' said the old gentleman, compassionately.\\n\\n\\'Oh no, I won\\'t hurt him,\\' replied the officer, tearing his jacket half\\noff his back, in proof thereof.  \\'Come, I know you; it won\\'t do.  Will\\nyou stand upon your legs, you young devil?\\'\\n\\nOliver, who could hardly stand, made a shift to raise himself on his\\nfeet, and was at once lugged along the streets by the jacket-collar, at\\na rapid pace.  The gentleman walked on with them by the officer\\'s side;\\nand as many of the crowd as could achieve the feat, got a little ahead,\\nand stared back at Oliver from time to time.  The boys shouted in\\ntriumph; and on they went.\\n\\n\\n\\nCHAPTER XI\\n\\nTREATS OF MR. FANG THE POLICE MAGISTRATE; AND FURNISHES A SLIGHT\\nSPECIMEN OF HIS MODE OF ADMINISTERING JUSTICE\\n\\nThe offence had been committed within the district, and indeed in the\\nimmediate neighborhood of, a very notorious metropolitan police office.\\nThe crowd had only the satisfaction of accompanying Oliver through two\\nor three streets, and down a place called Mutton Hill, when he was led\\nbeneath a low archway, and up a dirty court, into this dispensary of\\nsummary justice, by the back way.  It was a small paved yard into which\\nthey turned; and here they encountered a stout man with a bunch of\\nwhiskers on his face, and a bunch of keys in his hand.\\n\\n\\'What\\'s the matter now?\\' said the man carelessly.\\n\\n\\'A young fogle-hunter,\\' replied the man who had Oliver in charge.\\n\\n\\'Are you the party that\\'s been robbed, sir?\\' inquired the man with the\\nkeys.\\n\\n\\'Yes, I am,\\' replied the old gentleman; \\'but I am not sure that this\\nboy actually took the handkerchief.  I--I would rather not press the\\ncase.\\'\\n\\n\\'Must go before the magistrate now, sir,\\' replied the man. \\'His worship\\nwill be disengaged in half a minute.  Now, young gallows!\\'\\n\\nThis was an invitation for Oliver to enter through a door which he\\nunlocked as he spoke, and which led into a stone cell.  Here he was\\nsearched; and nothing being found upon him, locked up.\\n\\nThis cell was in shape and size something like an area cellar, only not\\nso light.  It was most intolerably dirty; for it was Monday morning;\\nand it had been tenanted by six drunken people, who had been locked up,\\nelsewhere, since Saturday night.  But this is little.  In our\\nstation-houses, men and women are every night confined on the most\\ntrivial charges--the word is worth noting--in dungeons, compared with\\nwhich, those in Newgate, occupied by the most atrocious felons, tried,\\nfound guilty, and under sentence of death, are palaces. Let any one who\\ndoubts this, compare the two.\\n\\nThe old gentleman looked almost as rueful as Oliver when the key grated\\nin the lock.  He turned with a sigh to the book, which had been the\\ninnocent cause of all this disturbance.\\n\\n\\'There is something in that boy\\'s face,\\' said the old gentleman to\\nhimself as he walked slowly away, tapping his chin with the cover of\\nthe book, in a thoughtful manner; \\'something that touches and interests\\nme.  _Can_ he be innocent?  He looked like--Bye the bye,\\' exclaimed the\\nold gentleman, halting very abruptly, and staring up into the sky,\\n\\'Bless my soul!--where have I seen something like that look before?\\'\\n\\nAfter musing for some minutes, the old gentleman walked, with the same\\nmeditative face, into a back anteroom opening from the yard; and there,\\nretiring into a corner, called up before his mind\\'s eye a vast\\namphitheatre of faces over which a dusky curtain had hung for many\\nyears.  \\'No,\\' said the old gentleman, shaking his head; \\'it must be\\nimagination.\\'\\n\\nHe wandered over them again.  He had called them into view, and it was\\nnot easy to replace the shroud that had so long concealed them.  There\\nwere the faces of friends, and foes, and of many that had been almost\\nstrangers peering intrusively from the crowd; there were the faces of\\nyoung and blooming girls that were now old women; there were faces that\\nthe grave had changed and closed upon, but which the mind, superior to\\nits power, still dressed in their old freshness and beauty, calling\\nback the lustre of the eyes, the brightness of the smile, the beaming\\nof the soul through its mask of clay, and whispering of beauty beyond\\nthe tomb, changed but to be heightened, and taken from earth only to be\\nset up as a light, to shed a soft and gentle glow upon the path to\\nHeaven.\\n\\nBut the old gentleman could recall no one countenance of which Oliver\\'s\\nfeatures bore a trace.  So, he heaved a sigh over the recollections he\\nawakened; and being, happily for himself, an absent old gentleman,\\nburied them again in the pages of the musty book.\\n\\nHe was roused by a touch on the shoulder, and a request from the man\\nwith the keys to follow him into the office.  He closed his book\\nhastily; and was at once ushered into the imposing presence of the\\nrenowned Mr. Fang.\\n\\nThe office was a front parlour, with a panelled wall.  Mr. Fang sat\\nbehind a bar, at the upper end; and on one side the door was a sort of\\nwooden pen in which poor little Oliver was already deposited; trembling\\nvery much at the awfulness of the scene.\\n\\nMr. Fang was a lean, long-backed, stiff-necked, middle-sized man, with\\nno great quantity of hair, and what he had, growing on the back and\\nsides of his head.  His face was stern, and much flushed.  If he were\\nreally not in the habit of drinking rather more than was exactly good\\nfor him, he might have brought action against his countenance for\\nlibel, and have recovered heavy damages.\\n\\nThe old gentleman bowed respectfully; and advancing to the magistrate\\'s\\ndesk, said, suiting the action to the word, \\'That is my name and\\naddress, sir.\\'  He then withdrew a pace or two; and, with another\\npolite and gentlemanly inclination of the head, waited to be questioned.\\n\\nNow, it so happened that Mr. Fang was at that moment perusing a leading\\narticle in a newspaper of the morning, adverting to some recent\\ndecision of his, and commending him, for the three hundred and fiftieth\\ntime, to the special and particular notice of the Secretary of State\\nfor the Home Department.  He was out of temper; and he looked up with\\nan angry scowl.\\n\\n\\'Who are you?\\' said Mr. Fang.\\n\\nThe old gentleman pointed, with some surprise, to his card.\\n\\n\\'Officer!\\' said Mr. Fang, tossing the card contemptuously away with the\\nnewspaper.  \\'Who is this fellow?\\'\\n\\n\\'My name, sir,\\' said the old gentleman, speaking _like_ a gentleman,\\n\\'my name, sir, is Brownlow.  Permit me to inquire the name of the\\nmagistrate who offers a gratuitous and unprovoked insult to a\\nrespectable person, under the protection of the bench.\\'  Saying this,\\nMr. Brownlow looked around the office as if in search of some person\\nwho would afford him the required information.\\n\\n\\'Officer!\\' said Mr. Fang, throwing the paper on one side, \\'what\\'s this\\nfellow charged with?\\'\\n\\n\\'He\\'s not charged at all, your worship,\\' replied the officer. \\'He\\nappears against this boy, your worship.\\'\\n\\nHis worship knew this perfectly well; but it was a good annoyance, and\\na safe one.\\n\\n\\'Appears against the boy, does he?\\' said Mr. Fang, surveying Mr.\\nBrownlow contemptuously from head to foot.  \\'Swear him!\\'\\n\\n\\'Before I am sworn, I must beg to say one word,\\' said Mr. Brownlow;\\n\\'and that is, that I really never, without actual experience, could\\nhave believed--\\'\\n\\n\\'Hold your tongue, sir!\\' said Mr. Fang, peremptorily.\\n\\n\\'I will not, sir!\\' replied the old gentleman.\\n\\n\\'Hold your tongue this instant, or I\\'ll have you turned out of the\\noffice!\\' said Mr. Fang.  \\'You\\'re an insolent impertinent fellow.  How\\ndare you bully a magistrate!\\'\\n\\n\\'What!\\' exclaimed the old gentleman, reddening.\\n\\n\\'Swear this person!\\' said Fang to the clerk.  \\'I\\'ll not hear another\\nword.  Swear him.\\'\\n\\nMr. Brownlow\\'s indignation was greatly roused; but reflecting perhaps,\\nthat he might only injure the boy by giving vent to it, he suppressed\\nhis feelings and submitted to be sworn at once.\\n\\n\\'Now,\\' said Fang, \\'what\\'s the charge against this boy?  What have you\\ngot to say, sir?\\'\\n\\n\\'I was standing at a bookstall--\\' Mr. Brownlow began.\\n\\n\\'Hold your tongue, sir,\\' said Mr. Fang.  \\'Policeman!  Where\\'s the\\npoliceman?  Here, swear this policeman.  Now, policeman, what is this?\\'\\n\\nThe policeman, with becoming humility, related how he had taken the\\ncharge; how he had searched Oliver, and found nothing on his person;\\nand how that was all he knew about it.\\n\\n\\'Are there any witnesses?\\' inquired Mr. Fang.\\n\\n\\'None, your worship,\\' replied the policeman.\\n\\nMr. Fang sat silent for some minutes, and then, turning round to the\\nprosecutor, said in a towering passion.\\n\\n\\'Do you mean to state what your complaint against this boy is, man, or\\ndo you not?  You have been sworn.  Now, if you stand there, refusing to\\ngive evidence, I\\'ll punish you for disrespect to the bench; I will,\\nby--\\'\\n\\nBy what, or by whom, nobody knows, for the clerk and jailor coughed\\nvery loud, just at the right moment; and the former dropped a heavy\\nbook upon the floor, thus preventing the word from being\\nheard--accidently, of course.\\n\\nWith many interruptions, and repeated insults, Mr. Brownlow contrived\\nto state his case;  observing that, in the surprise of the moment, he\\nhad run after the boy because he had saw him running away; and\\nexpressing his hope that, if the magistrate should believe him,\\nalthough not actually the thief, to be connected with the thieves, he\\nwould deal as leniently with him as justice would allow.\\n\\n\\'He has been hurt already,\\' said the old gentleman in conclusion. \\'And\\nI fear,\\' he added, with great energy, looking towards the bar, \\'I\\nreally fear that he is ill.\\'\\n\\n\\'Oh! yes, I dare say!\\' said Mr. Fang, with a sneer.  \\'Come, none of\\nyour tricks here, you young vagabond; they won\\'t do. What\\'s your name?\\'\\n\\nOliver tried to reply but his tongue failed him.  He was deadly pale;\\nand the whole place seemed turning round and round.\\n\\n\\'What\\'s your name, you hardened scoundrel?\\' demanded Mr. Fang.\\n\\'Officer, what\\'s his name?\\'\\n\\nThis was addressed to a bluff old fellow, in a striped waistcoat, who\\nwas standing by the bar.  He bent over Oliver, and repeated the\\ninquiry; but finding him really incapable of understanding the\\nquestion; and knowing that his not replying would only infuriate the\\nmagistrate the more, and add to the severity of his sentence; he\\nhazarded a guess.\\n\\n\\'He says his name\\'s Tom White, your worship,\\' said the kind-hearted\\nthief-taker.\\n\\n\\'Oh, he won\\'t speak out, won\\'t he?\\' said Fang.  \\'Very well, very well.\\nWhere does he live?\\'\\n\\n\\'Where he can, your worship,\\' replied the officer; again pretending to\\nreceive Oliver\\'s answer.\\n\\n\\'Has he any parents?\\' inquired Mr. Fang.\\n\\n\\'He says they died in his infancy, your worship,\\' replied the officer:\\nhazarding the usual reply.\\n\\nAt this point of the inquiry, Oliver raised his head; and, looking\\nround with imploring eyes, murmured a feeble prayer for a draught of\\nwater.\\n\\n\\'Stuff and nonsense!\\' said Mr. Fang:  \\'don\\'t try to make a fool of me.\\'\\n\\n\\'I think he really is ill, your worship,\\' remonstrated the officer.\\n\\n\\'I know better,\\' said Mr. Fang.\\n\\n\\'Take care of him, officer,\\' said the old gentleman, raising his hands\\ninstinctively; \\'he\\'ll fall down.\\'\\n\\n\\'Stand away, officer,\\' cried Fang;  \\'let him, if he likes.\\'\\n\\nOliver availed himself of the kind permission, and fell to the floor in\\na fainting fit.  The men in the office looked at each other, but no one\\ndared to stir.\\n\\n\\'I knew he was shamming,\\' said Fang, as if this were incontestable\\nproof of the fact.  \\'Let him lie there; he\\'ll soon be tired of that.\\'\\n\\n\\'How do you propose to deal with the case, sir?\\'  inquired the clerk in\\na low voice.\\n\\n\\'Summarily,\\' replied Mr. Fang.  \\'He stands committed for three\\nmonths--hard labour of course.  Clear the office.\\'\\n\\nThe door was opened for this purpose, and a couple of men were\\npreparing to carry the insensible boy to his cell; when an elderly man\\nof decent but poor appearance, clad in an old suit of black, rushed\\nhastily into the office, and advanced towards the bench.\\n\\n\\'Stop, stop!  don\\'t take him away!  For Heaven\\'s sake stop a moment!\\'\\ncried the new comer, breathless with haste.\\n\\nAlthough the presiding Genii in such an office as this, exercise a\\nsummary and arbitrary power over the liberties, the good name, the\\ncharacter, almost the lives, of Her Majesty\\'s subjects, expecially of\\nthe poorer class; and although, within such walls, enough fantastic\\ntricks are daily played to make the angels blind with weeping; they are\\nclosed to the public, save through the medium of the daily\\npress.[Footnote:  Or were virtually, then.] Mr. Fang was consequently\\nnot a little indignant to see an unbidden guest enter in such\\nirreverent disorder.\\n\\n\\'What is this?  Who is this?  Turn this man out.  Clear the office!\\'\\ncried Mr. Fang.\\n\\n\\'I _will_ speak,\\' cried the man; \\'I will not be turned out.  I saw it\\nall.  I keep the book-stall.  I demand to be sworn. I will not be put\\ndown.  Mr. Fang, you must hear me.  You must not refuse, sir.\\'\\n\\nThe man was right.  His manner was determined; and the matter was\\ngrowing rather too serious to be hushed up.\\n\\n\\'Swear the man,\\' growled Mr. Fang, with a very ill grace. \\'Now, man,\\nwhat have you got to say?\\'\\n\\n\\'This,\\' said the man:  \\'I saw three boys:  two others and the prisoner\\nhere:  loitering on the opposite side of the way, when this gentleman\\nwas reading.  The robbery was committed by another boy.  I saw it done;\\nand I saw that this boy was perfectly amazed and stupified by it.\\'\\nHaving by this time recovered a little breath, the worthy book-stall\\nkeeper proceeded to relate, in a more coherent manner the exact\\ncircumstances of the robbery.\\n\\n\\'Why didn\\'t you come here before?\\' said Fang, after a pause.\\n\\n\\'I hadn\\'t a soul to mind the shop,\\' replied the man.  \\'Everybody who\\ncould have helped me, had joined in the pursuit.  I could get nobody\\ntill five minutes ago; and I\\'ve run here all the way.\\'\\n\\n\\'The prosecutor was reading, was he?\\' inquired Fang, after another\\npause.\\n\\n\\'Yes,\\' replied the man.  \\'The very book he has in his hand.\\'\\n\\n\\'Oh, that book, eh?\\' said Fang.  \\'Is it paid for?\\'\\n\\n\\'No, it is not,\\' replied the man, with a smile.\\n\\n\\'Dear me, I forgot all about it!\\' exclaimed the absent old gentleman,\\ninnocently.\\n\\n\\'A nice person to prefer a charge against a poor boy!\\' said Fang, with\\na comical effort to look humane.  \\'I consider, sir, that you have\\nobtained possession of that book, under very suspicious and\\ndisreputable circumstances; and you may think yourself very fortunate\\nthat the owner of the property declines to prosecute. Let this be a\\nlesson to you, my man, or the law will overtake you yet.  The boy is\\ndischarged.  Clear the office!\\'\\n\\n\\'D--n me!\\' cried the old gentleman, bursting out with the rage he had\\nkept down so long, \\'d--n me!   I\\'ll--\\'\\n\\n\\'Clear the office!\\' said the magistrate.  \\'Officers, do you hear? Clear\\nthe office!\\'\\n\\nThe mandate was obeyed; and the indignant Mr. Brownlow was conveyed\\nout, with the book in one hand, and the bamboo cane in the other:  in a\\nperfect phrenzy of rage and defiance.  He reached the yard; and his\\npassion vanished in a moment.  Little Oliver Twist lay on his back on\\nthe pavement, with his shirt unbuttoned, and his temples bathed with\\nwater; his face a deadly white; and a cold tremble convulsing his whole\\nframe.\\n\\n\\'Poor boy, poor boy!\\' said Mr. Brownlow, bending over him. \\'Call a\\ncoach, somebody, pray.  Directly!\\'\\n\\nA coach was obtained, and Oliver having been carefully laid on the\\nseat, the old gentleman got in and sat himself on the other.\\n\\n\\'May I accompany you?\\' said the book-stall keeper, looking in.\\n\\n\\'Bless me, yes, my dear sir,\\' said Mr. Brownlow quickly.  \\'I forgot\\nyou.  Dear, dear!  I have this unhappy book still! Jump in.  Poor\\nfellow!  There\\'s no time to lose.\\'\\n\\nThe book-stall keeper got into the coach; and away they drove.'"
      ]
     },
     "execution_count": 85,
     "metadata": {},
     "output_type": "execute_result"
    }
   ],
   "source": [
    "# Read in the oliver-twist-0-9.txt text\n",
    "def read_file(filepath):\n",
    "    \n",
    "    with open(filepath) as h:\n",
    "        str_text = h.read()\n",
    "    \n",
    "    return str_text\n",
    "read_file('oliver-twist-0-9.txt')"
   ]
  },
  {
   "cell_type": "markdown",
   "metadata": {},
   "source": [
    "### Tokenize and Clean Text"
   ]
  },
  {
   "cell_type": "code",
   "execution_count": 86,
   "metadata": {},
   "outputs": [],
   "source": [
    "# Import standard libraries\n",
    "import spacy\n",
    "nlp = spacy.load('en',disable=['parser', 'tagger','ner'])\n",
    "# Increase the allowable max lentgh\n",
    "nlp.max_length = 1198623"
   ]
  },
  {
   "cell_type": "code",
   "execution_count": 87,
   "metadata": {},
   "outputs": [],
   "source": [
    "# Run this function to seperate punctuations\n",
    "def separate_punc(doc_text):\n",
    "    \n",
    "    return [token.text.lower() for token in nlp(doc_text) if token.text not in '\\n\\n \\n\\n\\n!\"-#$%&()--.*+,-/:;<=>?@[\\\\]^_`{|}~\\t\\n ']\n",
    "#tokens = separate_punc('oliver-twist-0-9.txt')"
   ]
  },
  {
   "cell_type": "code",
   "execution_count": 88,
   "metadata": {},
   "outputs": [],
   "source": [
    "d = read_file('oliver-twist-0-9.txt')\n",
    "tokens = separate_punc(d)"
   ]
  },
  {
   "cell_type": "code",
   "execution_count": 89,
   "metadata": {},
   "outputs": [
    {
     "data": {
      "text/plain": [
       "30746"
      ]
     },
     "execution_count": 89,
     "metadata": {},
     "output_type": "execute_result"
    }
   ],
   "source": [
    "len(tokens)"
   ]
  },
  {
   "cell_type": "markdown",
   "metadata": {},
   "source": [
    "### Create Sequences of Tokens"
   ]
  },
  {
   "cell_type": "code",
   "execution_count": 90,
   "metadata": {},
   "outputs": [],
   "source": [
    "# organize into sequences of tokens\n",
    "train_len = 25+1 # 50 training words , then one target word\n",
    "\n",
    "# Empty list of sequences\n",
    "text_sequences = []\n",
    "\n",
    "for i in range(train_len, len(tokens)):\n",
    "    \n",
    "    # Grab train_len# amount of characters\n",
    "    seq = tokens[i-train_len:i]\n",
    "    \n",
    "    # Add to list of sequences\n",
    "    text_sequences.append(seq)\n"
   ]
  },
  {
   "cell_type": "code",
   "execution_count": 91,
   "metadata": {},
   "outputs": [
    {
     "data": {
      "text/plain": [
       "'treats of the place where oliver twist was born and of the circumstances attending his birth among other public buildings in a certain town which for'"
      ]
     },
     "execution_count": 91,
     "metadata": {},
     "output_type": "execute_result"
    }
   ],
   "source": [
    "' '.join(text_sequences[0])"
   ]
  },
  {
   "cell_type": "code",
   "execution_count": 92,
   "metadata": {},
   "outputs": [
    {
     "data": {
      "text/plain": [
       "'of the place where oliver twist was born and of the circumstances attending his birth among other public buildings in a certain town which for many'"
      ]
     },
     "execution_count": 92,
     "metadata": {},
     "output_type": "execute_result"
    }
   ],
   "source": [
    "' '.join(text_sequences[1])"
   ]
  },
  {
   "cell_type": "code",
   "execution_count": 93,
   "metadata": {},
   "outputs": [
    {
     "data": {
      "text/plain": [
       "'the place where oliver twist was born and of the circumstances attending his birth among other public buildings in a certain town which for many reasons'"
      ]
     },
     "execution_count": 93,
     "metadata": {},
     "output_type": "execute_result"
    }
   ],
   "source": [
    "' '.join(text_sequences[2])"
   ]
  },
  {
   "cell_type": "code",
   "execution_count": 94,
   "metadata": {},
   "outputs": [
    {
     "data": {
      "text/plain": [
       "30720"
      ]
     },
     "execution_count": 94,
     "metadata": {},
     "output_type": "execute_result"
    }
   ],
   "source": [
    "len(text_sequences)"
   ]
  },
  {
   "cell_type": "markdown",
   "metadata": {},
   "source": [
    "### Keras Tokenization"
   ]
  },
  {
   "cell_type": "code",
   "execution_count": 97,
   "metadata": {},
   "outputs": [
    {
     "name": "stderr",
     "output_type": "stream",
     "text": [
      "Using TensorFlow backend.\n"
     ]
    },
    {
     "ename": "ImportError",
     "evalue": "Traceback (most recent call last):\n  File \"C:\\Users\\USER\\Anaconda3\\lib\\site-packages\\tensorflow\\python\\pywrap_tensorflow.py\", line 58, in <module>\n    from tensorflow.python.pywrap_tensorflow_internal import *\n  File \"C:\\Users\\USER\\Anaconda3\\lib\\site-packages\\tensorflow\\python\\pywrap_tensorflow_internal.py\", line 28, in <module>\n    _pywrap_tensorflow_internal = swig_import_helper()\n  File \"C:\\Users\\USER\\Anaconda3\\lib\\site-packages\\tensorflow\\python\\pywrap_tensorflow_internal.py\", line 24, in swig_import_helper\n    _mod = imp.load_module('_pywrap_tensorflow_internal', fp, pathname, description)\n  File \"C:\\Users\\USER\\Anaconda3\\lib\\imp.py\", line 242, in load_module\n    return load_dynamic(name, filename, file)\n  File \"C:\\Users\\USER\\Anaconda3\\lib\\imp.py\", line 342, in load_dynamic\n    return _load(spec)\nImportError: DLL load failed: A dynamic link library (DLL) initialization routine failed.\n\n\nFailed to load the native TensorFlow runtime.\n\nSee https://www.tensorflow.org/install/errors\n\nfor some common reasons and solutions.  Include the entire stack trace\nabove this error message when asking for help.",
     "output_type": "error",
     "traceback": [
      "\u001b[1;31m---------------------------------------------------------------------------\u001b[0m",
      "\u001b[1;31mImportError\u001b[0m                               Traceback (most recent call last)",
      "\u001b[1;32m~\\Anaconda3\\lib\\site-packages\\tensorflow\\python\\pywrap_tensorflow.py\u001b[0m in \u001b[0;36m<module>\u001b[1;34m\u001b[0m\n\u001b[0;32m     57\u001b[0m \u001b[1;33m\u001b[0m\u001b[0m\n\u001b[1;32m---> 58\u001b[1;33m   \u001b[1;32mfrom\u001b[0m \u001b[0mtensorflow\u001b[0m\u001b[1;33m.\u001b[0m\u001b[0mpython\u001b[0m\u001b[1;33m.\u001b[0m\u001b[0mpywrap_tensorflow_internal\u001b[0m \u001b[1;32mimport\u001b[0m \u001b[1;33m*\u001b[0m\u001b[1;33m\u001b[0m\u001b[1;33m\u001b[0m\u001b[0m\n\u001b[0m\u001b[0;32m     59\u001b[0m   \u001b[1;32mfrom\u001b[0m \u001b[0mtensorflow\u001b[0m\u001b[1;33m.\u001b[0m\u001b[0mpython\u001b[0m\u001b[1;33m.\u001b[0m\u001b[0mpywrap_tensorflow_internal\u001b[0m \u001b[1;32mimport\u001b[0m \u001b[0m__version__\u001b[0m\u001b[1;33m\u001b[0m\u001b[1;33m\u001b[0m\u001b[0m\n",
      "\u001b[1;32m~\\Anaconda3\\lib\\site-packages\\tensorflow\\python\\pywrap_tensorflow_internal.py\u001b[0m in \u001b[0;36m<module>\u001b[1;34m\u001b[0m\n\u001b[0;32m     27\u001b[0m             \u001b[1;32mreturn\u001b[0m \u001b[0m_mod\u001b[0m\u001b[1;33m\u001b[0m\u001b[1;33m\u001b[0m\u001b[0m\n\u001b[1;32m---> 28\u001b[1;33m     \u001b[0m_pywrap_tensorflow_internal\u001b[0m \u001b[1;33m=\u001b[0m \u001b[0mswig_import_helper\u001b[0m\u001b[1;33m(\u001b[0m\u001b[1;33m)\u001b[0m\u001b[1;33m\u001b[0m\u001b[1;33m\u001b[0m\u001b[0m\n\u001b[0m\u001b[0;32m     29\u001b[0m     \u001b[1;32mdel\u001b[0m \u001b[0mswig_import_helper\u001b[0m\u001b[1;33m\u001b[0m\u001b[1;33m\u001b[0m\u001b[0m\n",
      "\u001b[1;32m~\\Anaconda3\\lib\\site-packages\\tensorflow\\python\\pywrap_tensorflow_internal.py\u001b[0m in \u001b[0;36mswig_import_helper\u001b[1;34m()\u001b[0m\n\u001b[0;32m     23\u001b[0m             \u001b[1;32mtry\u001b[0m\u001b[1;33m:\u001b[0m\u001b[1;33m\u001b[0m\u001b[1;33m\u001b[0m\u001b[0m\n\u001b[1;32m---> 24\u001b[1;33m                 \u001b[0m_mod\u001b[0m \u001b[1;33m=\u001b[0m \u001b[0mimp\u001b[0m\u001b[1;33m.\u001b[0m\u001b[0mload_module\u001b[0m\u001b[1;33m(\u001b[0m\u001b[1;34m'_pywrap_tensorflow_internal'\u001b[0m\u001b[1;33m,\u001b[0m \u001b[0mfp\u001b[0m\u001b[1;33m,\u001b[0m \u001b[0mpathname\u001b[0m\u001b[1;33m,\u001b[0m \u001b[0mdescription\u001b[0m\u001b[1;33m)\u001b[0m\u001b[1;33m\u001b[0m\u001b[1;33m\u001b[0m\u001b[0m\n\u001b[0m\u001b[0;32m     25\u001b[0m             \u001b[1;32mfinally\u001b[0m\u001b[1;33m:\u001b[0m\u001b[1;33m\u001b[0m\u001b[1;33m\u001b[0m\u001b[0m\n",
      "\u001b[1;32m~\\Anaconda3\\lib\\imp.py\u001b[0m in \u001b[0;36mload_module\u001b[1;34m(name, file, filename, details)\u001b[0m\n\u001b[0;32m    241\u001b[0m         \u001b[1;32melse\u001b[0m\u001b[1;33m:\u001b[0m\u001b[1;33m\u001b[0m\u001b[1;33m\u001b[0m\u001b[0m\n\u001b[1;32m--> 242\u001b[1;33m             \u001b[1;32mreturn\u001b[0m \u001b[0mload_dynamic\u001b[0m\u001b[1;33m(\u001b[0m\u001b[0mname\u001b[0m\u001b[1;33m,\u001b[0m \u001b[0mfilename\u001b[0m\u001b[1;33m,\u001b[0m \u001b[0mfile\u001b[0m\u001b[1;33m)\u001b[0m\u001b[1;33m\u001b[0m\u001b[1;33m\u001b[0m\u001b[0m\n\u001b[0m\u001b[0;32m    243\u001b[0m     \u001b[1;32melif\u001b[0m \u001b[0mtype_\u001b[0m \u001b[1;33m==\u001b[0m \u001b[0mPKG_DIRECTORY\u001b[0m\u001b[1;33m:\u001b[0m\u001b[1;33m\u001b[0m\u001b[1;33m\u001b[0m\u001b[0m\n",
      "\u001b[1;32m~\\Anaconda3\\lib\\imp.py\u001b[0m in \u001b[0;36mload_dynamic\u001b[1;34m(name, path, file)\u001b[0m\n\u001b[0;32m    341\u001b[0m             name=name, loader=loader, origin=path)\n\u001b[1;32m--> 342\u001b[1;33m         \u001b[1;32mreturn\u001b[0m \u001b[0m_load\u001b[0m\u001b[1;33m(\u001b[0m\u001b[0mspec\u001b[0m\u001b[1;33m)\u001b[0m\u001b[1;33m\u001b[0m\u001b[1;33m\u001b[0m\u001b[0m\n\u001b[0m\u001b[0;32m    343\u001b[0m \u001b[1;33m\u001b[0m\u001b[0m\n",
      "\u001b[1;31mImportError\u001b[0m: DLL load failed: A dynamic link library (DLL) initialization routine failed.",
      "\nDuring handling of the above exception, another exception occurred:\n",
      "\u001b[1;31mImportError\u001b[0m                               Traceback (most recent call last)",
      "\u001b[1;32m<ipython-input-97-ae98a23cd1b6>\u001b[0m in \u001b[0;36m<module>\u001b[1;34m\u001b[0m\n\u001b[1;32m----> 1\u001b[1;33m \u001b[1;32mfrom\u001b[0m \u001b[0mkeras\u001b[0m\u001b[1;33m.\u001b[0m\u001b[0mpreprocessing\u001b[0m\u001b[1;33m.\u001b[0m\u001b[0mtext\u001b[0m \u001b[1;32mimport\u001b[0m \u001b[0mTokenizer\u001b[0m\u001b[1;33m\u001b[0m\u001b[1;33m\u001b[0m\u001b[0m\n\u001b[0m\u001b[0;32m      2\u001b[0m \u001b[1;32mimport\u001b[0m \u001b[0mnumpy\u001b[0m \u001b[1;32mas\u001b[0m \u001b[0mnp\u001b[0m\u001b[1;33m\u001b[0m\u001b[1;33m\u001b[0m\u001b[0m\n",
      "\u001b[1;32m~\\Anaconda3\\lib\\site-packages\\keras\\__init__.py\u001b[0m in \u001b[0;36m<module>\u001b[1;34m\u001b[0m\n\u001b[0;32m      1\u001b[0m \u001b[1;32mfrom\u001b[0m \u001b[0m__future__\u001b[0m \u001b[1;32mimport\u001b[0m \u001b[0mabsolute_import\u001b[0m\u001b[1;33m\u001b[0m\u001b[1;33m\u001b[0m\u001b[0m\n\u001b[0;32m      2\u001b[0m \u001b[1;33m\u001b[0m\u001b[0m\n\u001b[1;32m----> 3\u001b[1;33m \u001b[1;32mfrom\u001b[0m \u001b[1;33m.\u001b[0m \u001b[1;32mimport\u001b[0m \u001b[0mutils\u001b[0m\u001b[1;33m\u001b[0m\u001b[1;33m\u001b[0m\u001b[0m\n\u001b[0m\u001b[0;32m      4\u001b[0m \u001b[1;32mfrom\u001b[0m \u001b[1;33m.\u001b[0m \u001b[1;32mimport\u001b[0m \u001b[0mactivations\u001b[0m\u001b[1;33m\u001b[0m\u001b[1;33m\u001b[0m\u001b[0m\n\u001b[0;32m      5\u001b[0m \u001b[1;32mfrom\u001b[0m \u001b[1;33m.\u001b[0m \u001b[1;32mimport\u001b[0m \u001b[0mapplications\u001b[0m\u001b[1;33m\u001b[0m\u001b[1;33m\u001b[0m\u001b[0m\n",
      "\u001b[1;32m~\\Anaconda3\\lib\\site-packages\\keras\\utils\\__init__.py\u001b[0m in \u001b[0;36m<module>\u001b[1;34m\u001b[0m\n\u001b[0;32m      4\u001b[0m \u001b[1;32mfrom\u001b[0m \u001b[1;33m.\u001b[0m \u001b[1;32mimport\u001b[0m \u001b[0mdata_utils\u001b[0m\u001b[1;33m\u001b[0m\u001b[1;33m\u001b[0m\u001b[0m\n\u001b[0;32m      5\u001b[0m \u001b[1;32mfrom\u001b[0m \u001b[1;33m.\u001b[0m \u001b[1;32mimport\u001b[0m \u001b[0mio_utils\u001b[0m\u001b[1;33m\u001b[0m\u001b[1;33m\u001b[0m\u001b[0m\n\u001b[1;32m----> 6\u001b[1;33m \u001b[1;32mfrom\u001b[0m \u001b[1;33m.\u001b[0m \u001b[1;32mimport\u001b[0m \u001b[0mconv_utils\u001b[0m\u001b[1;33m\u001b[0m\u001b[1;33m\u001b[0m\u001b[0m\n\u001b[0m\u001b[0;32m      7\u001b[0m \u001b[1;33m\u001b[0m\u001b[0m\n\u001b[0;32m      8\u001b[0m \u001b[1;31m# Globally-importable utils.\u001b[0m\u001b[1;33m\u001b[0m\u001b[1;33m\u001b[0m\u001b[1;33m\u001b[0m\u001b[0m\n",
      "\u001b[1;32m~\\Anaconda3\\lib\\site-packages\\keras\\utils\\conv_utils.py\u001b[0m in \u001b[0;36m<module>\u001b[1;34m\u001b[0m\n\u001b[0;32m      7\u001b[0m \u001b[1;32mfrom\u001b[0m \u001b[0msix\u001b[0m\u001b[1;33m.\u001b[0m\u001b[0mmoves\u001b[0m \u001b[1;32mimport\u001b[0m \u001b[0mrange\u001b[0m\u001b[1;33m\u001b[0m\u001b[1;33m\u001b[0m\u001b[0m\n\u001b[0;32m      8\u001b[0m \u001b[1;32mimport\u001b[0m \u001b[0mnumpy\u001b[0m \u001b[1;32mas\u001b[0m \u001b[0mnp\u001b[0m\u001b[1;33m\u001b[0m\u001b[1;33m\u001b[0m\u001b[0m\n\u001b[1;32m----> 9\u001b[1;33m \u001b[1;32mfrom\u001b[0m \u001b[1;33m.\u001b[0m\u001b[1;33m.\u001b[0m \u001b[1;32mimport\u001b[0m \u001b[0mbackend\u001b[0m \u001b[1;32mas\u001b[0m \u001b[0mK\u001b[0m\u001b[1;33m\u001b[0m\u001b[1;33m\u001b[0m\u001b[0m\n\u001b[0m\u001b[0;32m     10\u001b[0m \u001b[1;33m\u001b[0m\u001b[0m\n\u001b[0;32m     11\u001b[0m \u001b[1;33m\u001b[0m\u001b[0m\n",
      "\u001b[1;32m~\\Anaconda3\\lib\\site-packages\\keras\\backend\\__init__.py\u001b[0m in \u001b[0;36m<module>\u001b[1;34m\u001b[0m\n\u001b[0;32m     87\u001b[0m \u001b[1;32melif\u001b[0m \u001b[0m_BACKEND\u001b[0m \u001b[1;33m==\u001b[0m \u001b[1;34m'tensorflow'\u001b[0m\u001b[1;33m:\u001b[0m\u001b[1;33m\u001b[0m\u001b[1;33m\u001b[0m\u001b[0m\n\u001b[0;32m     88\u001b[0m     \u001b[0msys\u001b[0m\u001b[1;33m.\u001b[0m\u001b[0mstderr\u001b[0m\u001b[1;33m.\u001b[0m\u001b[0mwrite\u001b[0m\u001b[1;33m(\u001b[0m\u001b[1;34m'Using TensorFlow backend.\\n'\u001b[0m\u001b[1;33m)\u001b[0m\u001b[1;33m\u001b[0m\u001b[1;33m\u001b[0m\u001b[0m\n\u001b[1;32m---> 89\u001b[1;33m     \u001b[1;32mfrom\u001b[0m \u001b[1;33m.\u001b[0m\u001b[0mtensorflow_backend\u001b[0m \u001b[1;32mimport\u001b[0m \u001b[1;33m*\u001b[0m\u001b[1;33m\u001b[0m\u001b[1;33m\u001b[0m\u001b[0m\n\u001b[0m\u001b[0;32m     90\u001b[0m \u001b[1;32melse\u001b[0m\u001b[1;33m:\u001b[0m\u001b[1;33m\u001b[0m\u001b[1;33m\u001b[0m\u001b[0m\n\u001b[0;32m     91\u001b[0m     \u001b[1;31m# Try and load external backend.\u001b[0m\u001b[1;33m\u001b[0m\u001b[1;33m\u001b[0m\u001b[1;33m\u001b[0m\u001b[0m\n",
      "\u001b[1;32m~\\Anaconda3\\lib\\site-packages\\keras\\backend\\tensorflow_backend.py\u001b[0m in \u001b[0;36m<module>\u001b[1;34m\u001b[0m\n\u001b[0;32m      3\u001b[0m \u001b[1;32mfrom\u001b[0m \u001b[0m__future__\u001b[0m \u001b[1;32mimport\u001b[0m \u001b[0mprint_function\u001b[0m\u001b[1;33m\u001b[0m\u001b[1;33m\u001b[0m\u001b[0m\n\u001b[0;32m      4\u001b[0m \u001b[1;33m\u001b[0m\u001b[0m\n\u001b[1;32m----> 5\u001b[1;33m \u001b[1;32mimport\u001b[0m \u001b[0mtensorflow\u001b[0m \u001b[1;32mas\u001b[0m \u001b[0mtf\u001b[0m\u001b[1;33m\u001b[0m\u001b[1;33m\u001b[0m\u001b[0m\n\u001b[0m\u001b[0;32m      6\u001b[0m \u001b[1;32mfrom\u001b[0m \u001b[0mtensorflow\u001b[0m\u001b[1;33m.\u001b[0m\u001b[0mpython\u001b[0m\u001b[1;33m.\u001b[0m\u001b[0mframework\u001b[0m \u001b[1;32mimport\u001b[0m \u001b[0mops\u001b[0m \u001b[1;32mas\u001b[0m \u001b[0mtf_ops\u001b[0m\u001b[1;33m\u001b[0m\u001b[1;33m\u001b[0m\u001b[0m\n\u001b[0;32m      7\u001b[0m \u001b[1;32mfrom\u001b[0m \u001b[0mtensorflow\u001b[0m\u001b[1;33m.\u001b[0m\u001b[0mpython\u001b[0m\u001b[1;33m.\u001b[0m\u001b[0mtraining\u001b[0m \u001b[1;32mimport\u001b[0m \u001b[0mmoving_averages\u001b[0m\u001b[1;33m\u001b[0m\u001b[1;33m\u001b[0m\u001b[0m\n",
      "\u001b[1;32m~\\Anaconda3\\lib\\site-packages\\tensorflow\\__init__.py\u001b[0m in \u001b[0;36m<module>\u001b[1;34m\u001b[0m\n\u001b[0;32m     26\u001b[0m \u001b[1;33m\u001b[0m\u001b[0m\n\u001b[0;32m     27\u001b[0m \u001b[1;31m# pylint: disable=g-bad-import-order\u001b[0m\u001b[1;33m\u001b[0m\u001b[1;33m\u001b[0m\u001b[1;33m\u001b[0m\u001b[0m\n\u001b[1;32m---> 28\u001b[1;33m \u001b[1;32mfrom\u001b[0m \u001b[0mtensorflow\u001b[0m\u001b[1;33m.\u001b[0m\u001b[0mpython\u001b[0m \u001b[1;32mimport\u001b[0m \u001b[0mpywrap_tensorflow\u001b[0m  \u001b[1;31m# pylint: disable=unused-import\u001b[0m\u001b[1;33m\u001b[0m\u001b[1;33m\u001b[0m\u001b[0m\n\u001b[0m\u001b[0;32m     29\u001b[0m \u001b[1;32mfrom\u001b[0m \u001b[0mtensorflow\u001b[0m\u001b[1;33m.\u001b[0m\u001b[0mpython\u001b[0m\u001b[1;33m.\u001b[0m\u001b[0mtools\u001b[0m \u001b[1;32mimport\u001b[0m \u001b[0mmodule_util\u001b[0m \u001b[1;32mas\u001b[0m \u001b[0m_module_util\u001b[0m\u001b[1;33m\u001b[0m\u001b[1;33m\u001b[0m\u001b[0m\n\u001b[0;32m     30\u001b[0m \u001b[1;33m\u001b[0m\u001b[0m\n",
      "\u001b[1;32m~\\Anaconda3\\lib\\site-packages\\tensorflow\\python\\__init__.py\u001b[0m in \u001b[0;36m<module>\u001b[1;34m\u001b[0m\n\u001b[0;32m     47\u001b[0m \u001b[1;32mimport\u001b[0m \u001b[0mnumpy\u001b[0m \u001b[1;32mas\u001b[0m \u001b[0mnp\u001b[0m\u001b[1;33m\u001b[0m\u001b[1;33m\u001b[0m\u001b[0m\n\u001b[0;32m     48\u001b[0m \u001b[1;33m\u001b[0m\u001b[0m\n\u001b[1;32m---> 49\u001b[1;33m \u001b[1;32mfrom\u001b[0m \u001b[0mtensorflow\u001b[0m\u001b[1;33m.\u001b[0m\u001b[0mpython\u001b[0m \u001b[1;32mimport\u001b[0m \u001b[0mpywrap_tensorflow\u001b[0m\u001b[1;33m\u001b[0m\u001b[1;33m\u001b[0m\u001b[0m\n\u001b[0m\u001b[0;32m     50\u001b[0m \u001b[1;33m\u001b[0m\u001b[0m\n\u001b[0;32m     51\u001b[0m \u001b[1;31m# Protocol buffers\u001b[0m\u001b[1;33m\u001b[0m\u001b[1;33m\u001b[0m\u001b[1;33m\u001b[0m\u001b[0m\n",
      "\u001b[1;32m~\\Anaconda3\\lib\\site-packages\\tensorflow\\python\\pywrap_tensorflow.py\u001b[0m in \u001b[0;36m<module>\u001b[1;34m\u001b[0m\n\u001b[0;32m     72\u001b[0m \u001b[1;32mfor\u001b[0m \u001b[0msome\u001b[0m \u001b[0mcommon\u001b[0m \u001b[0mreasons\u001b[0m \u001b[1;32mand\u001b[0m \u001b[0msolutions\u001b[0m\u001b[1;33m.\u001b[0m  \u001b[0mInclude\u001b[0m \u001b[0mthe\u001b[0m \u001b[0mentire\u001b[0m \u001b[0mstack\u001b[0m \u001b[0mtrace\u001b[0m\u001b[1;33m\u001b[0m\u001b[1;33m\u001b[0m\u001b[0m\n\u001b[0;32m     73\u001b[0m above this error message when asking for help.\"\"\" % traceback.format_exc()\n\u001b[1;32m---> 74\u001b[1;33m   \u001b[1;32mraise\u001b[0m \u001b[0mImportError\u001b[0m\u001b[1;33m(\u001b[0m\u001b[0mmsg\u001b[0m\u001b[1;33m)\u001b[0m\u001b[1;33m\u001b[0m\u001b[1;33m\u001b[0m\u001b[0m\n\u001b[0m\u001b[0;32m     75\u001b[0m \u001b[1;33m\u001b[0m\u001b[0m\n\u001b[0;32m     76\u001b[0m \u001b[1;31m# pylint: enable=wildcard-import,g-import-not-at-top,unused-import,line-too-long\u001b[0m\u001b[1;33m\u001b[0m\u001b[1;33m\u001b[0m\u001b[1;33m\u001b[0m\u001b[0m\n",
      "\u001b[1;31mImportError\u001b[0m: Traceback (most recent call last):\n  File \"C:\\Users\\USER\\Anaconda3\\lib\\site-packages\\tensorflow\\python\\pywrap_tensorflow.py\", line 58, in <module>\n    from tensorflow.python.pywrap_tensorflow_internal import *\n  File \"C:\\Users\\USER\\Anaconda3\\lib\\site-packages\\tensorflow\\python\\pywrap_tensorflow_internal.py\", line 28, in <module>\n    _pywrap_tensorflow_internal = swig_import_helper()\n  File \"C:\\Users\\USER\\Anaconda3\\lib\\site-packages\\tensorflow\\python\\pywrap_tensorflow_internal.py\", line 24, in swig_import_helper\n    _mod = imp.load_module('_pywrap_tensorflow_internal', fp, pathname, description)\n  File \"C:\\Users\\USER\\Anaconda3\\lib\\imp.py\", line 242, in load_module\n    return load_dynamic(name, filename, file)\n  File \"C:\\Users\\USER\\Anaconda3\\lib\\imp.py\", line 342, in load_dynamic\n    return _load(spec)\nImportError: DLL load failed: A dynamic link library (DLL) initialization routine failed.\n\n\nFailed to load the native TensorFlow runtime.\n\nSee https://www.tensorflow.org/install/errors\n\nfor some common reasons and solutions.  Include the entire stack trace\nabove this error message when asking for help."
     ]
    }
   ],
   "source": [
    "from keras.preprocessing.text import Tokenizer\n",
    "import numpy as np"
   ]
  },
  {
   "cell_type": "code",
   "execution_count": 96,
   "metadata": {},
   "outputs": [
    {
     "ename": "NameError",
     "evalue": "name 'Tokenizer' is not defined",
     "output_type": "error",
     "traceback": [
      "\u001b[1;31m---------------------------------------------------------------------------\u001b[0m",
      "\u001b[1;31mNameError\u001b[0m                                 Traceback (most recent call last)",
      "\u001b[1;32m<ipython-input-96-740cfdb6dc57>\u001b[0m in \u001b[0;36m<module>\u001b[1;34m\u001b[0m\n\u001b[0;32m      1\u001b[0m \u001b[1;31m# integer encode sequences of words\u001b[0m\u001b[1;33m\u001b[0m\u001b[1;33m\u001b[0m\u001b[1;33m\u001b[0m\u001b[0m\n\u001b[0;32m      2\u001b[0m \u001b[1;33m\u001b[0m\u001b[0m\n\u001b[1;32m----> 3\u001b[1;33m \u001b[0mtokenizer\u001b[0m \u001b[1;33m=\u001b[0m \u001b[0mTokenizer\u001b[0m\u001b[1;33m(\u001b[0m\u001b[1;33m)\u001b[0m\u001b[1;33m\u001b[0m\u001b[1;33m\u001b[0m\u001b[0m\n\u001b[0m\u001b[0;32m      4\u001b[0m \u001b[0mtokenizer\u001b[0m\u001b[1;33m.\u001b[0m\u001b[0mfit_on_texts\u001b[0m\u001b[1;33m(\u001b[0m\u001b[0mtext_sequences\u001b[0m\u001b[1;33m)\u001b[0m\u001b[1;33m\u001b[0m\u001b[1;33m\u001b[0m\u001b[0m\n\u001b[0;32m      5\u001b[0m \u001b[0msequences\u001b[0m \u001b[1;33m=\u001b[0m \u001b[0mtokenizer\u001b[0m\u001b[1;33m.\u001b[0m\u001b[0mtexts_to_sequences\u001b[0m\u001b[1;33m(\u001b[0m\u001b[0mtext_sequences\u001b[0m\u001b[1;33m)\u001b[0m\u001b[1;33m\u001b[0m\u001b[1;33m\u001b[0m\u001b[0m\n",
      "\u001b[1;31mNameError\u001b[0m: name 'Tokenizer' is not defined"
     ]
    }
   ],
   "source": [
    "# integer encode sequences of words\n",
    "\n",
    "tokenizer = Tokenizer()\n",
    "tokenizer.fit_on_texts(text_sequences)\n",
    "sequences = tokenizer.texts_to_sequences(text_sequences)\n"
   ]
  },
  {
   "cell_type": "code",
   "execution_count": null,
   "metadata": {},
   "outputs": [],
   "source": [
    "sequences[0]"
   ]
  },
  {
   "cell_type": "code",
   "execution_count": null,
   "metadata": {},
   "outputs": [],
   "source": [
    "tokenizer.index_word"
   ]
  },
  {
   "cell_type": "code",
   "execution_count": null,
   "metadata": {},
   "outputs": [],
   "source": [
    "for i in sequences[0]:\n",
    "    print(f'{i} : {tokenizer.index_word[i]}')"
   ]
  },
  {
   "cell_type": "code",
   "execution_count": null,
   "metadata": {},
   "outputs": [],
   "source": [
    "tokenizer.word_counts"
   ]
  },
  {
   "cell_type": "code",
   "execution_count": null,
   "metadata": {},
   "outputs": [],
   "source": [
    "vocabulary_size = len(tokenizer.word_counts)\n",
    "sequences = np.array(sequences)"
   ]
  },
  {
   "cell_type": "markdown",
   "metadata": {},
   "source": [
    "### Creating an LSTM based model"
   ]
  },
  {
   "cell_type": "code",
   "execution_count": null,
   "metadata": {},
   "outputs": [],
   "source": [
    "import keras\n",
    "from keras.models import Sequential\n",
    "from keras.layers import Dense,LSTM,Embedding"
   ]
  },
  {
   "cell_type": "code",
   "execution_count": null,
   "metadata": {},
   "outputs": [],
   "source": [
    "# create your own custom model\n",
    "def create_model(vocabulary_size, seq_len):\n",
    "    \n",
    "    #CODE IN HERE\n",
    "    \n",
    "    return model"
   ]
  },
  {
   "cell_type": "code",
   "execution_count": null,
   "metadata": {},
   "outputs": [],
   "source": [
    "from keras.utils import to_categorical"
   ]
  },
  {
   "cell_type": "code",
   "execution_count": null,
   "metadata": {},
   "outputs": [],
   "source": [
    "# Train / Test Split\n",
    "X = sequences[:,:-1]\n",
    "y = sequences[:,-1]\n",
    "y = to_categorical(y, num_classes=vocabulary_size+1)\n",
    "seq_len = X.shape[1]"
   ]
  },
  {
   "cell_type": "code",
   "execution_count": null,
   "metadata": {},
   "outputs": [],
   "source": [
    "from pickle import dump,load"
   ]
  },
  {
   "cell_type": "code",
   "execution_count": null,
   "metadata": {},
   "outputs": [],
   "source": [
    "# define model\n",
    "model = create_model(vocabulary_size+1, seq_len)\n",
    "# fit model\n",
    "model.fit(X, y, batch_size=128, epochs=30,verbose=1)\n"
   ]
  },
  {
   "cell_type": "code",
   "execution_count": null,
   "metadata": {},
   "outputs": [],
   "source": [
    "# save the model to file\n",
    "model.save('epoch30.h5')\n",
    "# save the tokenizer\n",
    "dump(tokenizer, open('epoch30', 'wb'))"
   ]
  },
  {
   "cell_type": "markdown",
   "metadata": {},
   "source": [
    "### Generating New Text"
   ]
  },
  {
   "cell_type": "code",
   "execution_count": null,
   "metadata": {},
   "outputs": [],
   "source": [
    "from random import randint\n",
    "from pickle import load\n",
    "from keras.models import load_model\n",
    "from keras.preprocessing.sequence import pad_sequences"
   ]
  },
  {
   "cell_type": "code",
   "execution_count": null,
   "metadata": {},
   "outputs": [],
   "source": [
    "def generate_text(model, tokenizer, seq_len, seed_text, num_gen_words):\n",
    "    '''\n",
    "    INPUTS:\n",
    "    model : model that was trained on text data\n",
    "    tokenizer : tokenizer that was fit on text data\n",
    "    seq_len : length of training sequence\n",
    "    seed_text : raw string text to serve as the seed\n",
    "    num_gen_words : number of words to be generated by model\n",
    "    '''\n",
    "    \n",
    "    # Final Output\n",
    "    output_text = []\n",
    "    \n",
    "    # Intial Seed Sequence\n",
    "    input_text = seed_text\n",
    "    \n",
    "    # Create num_gen_words\n",
    "    for i in range(num_gen_words):\n",
    "        \n",
    "        # Take the input text string and encode it to a sequence\n",
    "        encoded_text = tokenizer.texts_to_sequences([input_text])[0]\n",
    "        \n",
    "        # Pad sequences to our trained rate (50 words in the video)\n",
    "        pad_encoded = pad_sequences([encoded_text], maxlen=seq_len, truncating='pre')\n",
    "        \n",
    "        # Predict Class Probabilities for each word\n",
    "        pred_word_ind = model.predict_classes(pad_encoded, verbose=0)[0]\n",
    "        \n",
    "        # Grab word\n",
    "        pred_word = tokenizer.index_word[pred_word_ind] \n",
    "        \n",
    "        # Update the sequence of input text (shifting one over with the new word)\n",
    "        input_text += ' ' + pred_word\n",
    "        \n",
    "        output_text.append(pred_word)\n",
    "        \n",
    "    # Make it look like a sentence.\n",
    "    return ' '.join(output_text)"
   ]
  },
  {
   "cell_type": "markdown",
   "metadata": {},
   "source": [
    "### Grab a random seed sequence"
   ]
  },
  {
   "cell_type": "code",
   "execution_count": null,
   "metadata": {},
   "outputs": [],
   "source": [
    "import random\n",
    "random.seed(102)\n",
    "random_pick = random.randint(0,len(text_sequences))\n",
    "random_seed_text = text_sequences[random_pick]\n",
    "seed_text = ' '.join(random_seed_text)"
   ]
  },
  {
   "cell_type": "code",
   "execution_count": null,
   "metadata": {},
   "outputs": [],
   "source": [
    "generate_text(model,tokenizer,seq_len,seed_text=seed_text,num_gen_words=30)"
   ]
  },
  {
   "cell_type": "code",
   "execution_count": null,
   "metadata": {},
   "outputs": [],
   "source": []
  }
 ],
 "metadata": {
  "kernelspec": {
   "display_name": "Python 3",
   "language": "python",
   "name": "python3"
  },
  "language_info": {
   "codemirror_mode": {
    "name": "ipython",
    "version": 3
   },
   "file_extension": ".py",
   "mimetype": "text/x-python",
   "name": "python",
   "nbconvert_exporter": "python",
   "pygments_lexer": "ipython3",
   "version": "3.7.3"
  }
 },
 "nbformat": 4,
 "nbformat_minor": 2
}
