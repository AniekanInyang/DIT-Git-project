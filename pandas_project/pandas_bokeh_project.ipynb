{
 "cells": [
  {
   "cell_type": "code",
   "execution_count": 1,
   "metadata": {},
   "outputs": [],
   "source": [
    "import datetime as dt"
   ]
  },
  {
   "cell_type": "markdown",
   "metadata": {},
   "source": [
    "### Question 1"
   ]
  },
  {
   "cell_type": "code",
   "execution_count": 2,
   "metadata": {},
   "outputs": [],
   "source": [
    "import pandas as pd"
   ]
  },
  {
   "cell_type": "code",
   "execution_count": 3,
   "metadata": {},
   "outputs": [
    {
     "data": {
      "text/plain": [
       "'0.24.2'"
      ]
     },
     "execution_count": 3,
     "metadata": {},
     "output_type": "execute_result"
    }
   ],
   "source": [
    "# This shows the version of pandas\n",
    "\n",
    "pd.__version__"
   ]
  },
  {
   "cell_type": "markdown",
   "metadata": {},
   "source": [
    "### Question 2"
   ]
  },
  {
   "cell_type": "code",
   "execution_count": 4,
   "metadata": {},
   "outputs": [],
   "source": [
    "a = pd.read_csv(\"Csv1.csv\")\n",
    "\n",
    "\n",
    "a[\"LocationMilestones.OpenDate\"] = pd.to_datetime(a[\"LocationMilestones.OpenDate\"]).dt.date\n",
    "a[\"LocationMilestones.LastRemodelDate\"] = pd.to_datetime(a[\"LocationMilestones.LastRemodelDate\"], errors = 'coerce').dt.date\n",
    "\n",
    "a[\"TimeZone.TimeZoneCode\"]= a[\"TimeZone.TimeZoneCode\"].astype(\"category\")"
   ]
  },
  {
   "cell_type": "code",
   "execution_count": 5,
   "metadata": {},
   "outputs": [],
   "source": [
    "b = pd.read_csv(\"Csv2.csv\", parse_dates= [\"BeginTime.MF\",\"ThruTime.MF\"])\n",
    "\n",
    "b[\"BeginTime.MF\"] = b[\"BeginTime.MF\"].dt.time\n",
    "b[\"ThruTime.MF\"] = b[\"ThruTime.MF\"].dt.time\n"
   ]
  },
  {
   "cell_type": "markdown",
   "metadata": {},
   "source": [
    "### Question 3"
   ]
  },
  {
   "cell_type": "code",
   "execution_count": 6,
   "metadata": {},
   "outputs": [],
   "source": [
    "# Merging Dataframes a and b on the \"ID\" column: Name and Address.City was added because the columns were identical.\n",
    "\n",
    "c = a.merge(b, how=\"inner\", on = [\"ID\", \"Name\", \"Address.City\"], sort = True)"
   ]
  },
  {
   "cell_type": "markdown",
   "metadata": {},
   "source": [
    "### Question 4"
   ]
  },
  {
   "cell_type": "code",
   "execution_count": 7,
   "metadata": {},
   "outputs": [
    {
     "data": {
      "text/plain": [
       "108"
      ]
     },
     "execution_count": 7,
     "metadata": {},
     "output_type": "execute_result"
    }
   ],
   "source": [
    "# Getting the number of rows\n",
    "\n",
    "len(c)"
   ]
  },
  {
   "cell_type": "code",
   "execution_count": 8,
   "metadata": {},
   "outputs": [
    {
     "data": {
      "text/plain": [
       "13"
      ]
     },
     "execution_count": 8,
     "metadata": {},
     "output_type": "execute_result"
    }
   ],
   "source": [
    "# Getting the number of columns\n",
    "\n",
    "len(c.columns)"
   ]
  },
  {
   "cell_type": "code",
   "execution_count": 9,
   "metadata": {
    "collapsed": true
   },
   "outputs": [
    {
     "data": {
      "text/plain": [
       "Address.City                            object\n",
       "ID                                       int64\n",
       "LocationMilestones.LastRemodelDate      object\n",
       "LocationMilestones.OpenDate             object\n",
       "Name                                    object\n",
       "Store.StoreDistrictID                    int64\n",
       "TimeZone.TimeZoneCode                 category\n",
       "PhoneNumber                             object\n",
       "FaxNumber                               object\n",
       "BeginTime.MF                            object\n",
       "ThruTime.MF                             object\n",
       "IsOpen.Sat                                bool\n",
       "IsOpen.Sun                                bool\n",
       "dtype: object"
      ]
     },
     "execution_count": 9,
     "metadata": {},
     "output_type": "execute_result"
    }
   ],
   "source": [
    "# Getting the datatypes \n",
    "\n",
    "c.dtypes"
   ]
  },
  {
   "cell_type": "code",
   "execution_count": 10,
   "metadata": {
    "collapsed": true
   },
   "outputs": [
    {
     "name": "stdout",
     "output_type": "stream",
     "text": [
      "<class 'pandas.core.frame.DataFrame'>\n",
      "Int64Index: 108 entries, 0 to 107\n",
      "Data columns (total 13 columns):\n",
      "Address.City                          108 non-null object\n",
      "ID                                    108 non-null int64\n",
      "LocationMilestones.LastRemodelDate    73 non-null object\n",
      "LocationMilestones.OpenDate           108 non-null object\n",
      "Name                                  108 non-null object\n",
      "Store.StoreDistrictID                 108 non-null int64\n",
      "TimeZone.TimeZoneCode                 108 non-null category\n",
      "PhoneNumber                           108 non-null object\n",
      "FaxNumber                             103 non-null object\n",
      "BeginTime.MF                          108 non-null object\n",
      "ThruTime.MF                           108 non-null object\n",
      "IsOpen.Sat                            108 non-null bool\n",
      "IsOpen.Sun                            108 non-null bool\n",
      "dtypes: bool(2), category(1), int64(2), object(8)\n",
      "memory usage: 9.8+ KB\n"
     ]
    }
   ],
   "source": [
    "# Getting the summary\n",
    "\n",
    "c.info()"
   ]
  },
  {
   "cell_type": "code",
   "execution_count": 11,
   "metadata": {
    "collapsed": true
   },
   "outputs": [
    {
     "data": {
      "text/plain": [
       "array([['Madison', 144, datetime.date(2007, 3, 23), ...,\n",
       "        datetime.time(22, 0), True, True],\n",
       "       ['Nashville', 146, datetime.date(2012, 3, 22), ...,\n",
       "        datetime.time(23, 0), True, True],\n",
       "       ['Knoxville', 151, datetime.date(2014, 4, 3), ...,\n",
       "        datetime.time(23, 0), True, False],\n",
       "       ...,\n",
       "       ['Homewood', 2796, NaT, ..., datetime.time(23, 0), True, False],\n",
       "       ['Knoxville', 2815, NaT, ..., datetime.time(22, 0), False, True],\n",
       "       ['Madison', 2816, NaT, ..., datetime.time(22, 0), True, True]],\n",
       "      dtype=object)"
      ]
     },
     "execution_count": 11,
     "metadata": {},
     "output_type": "execute_result"
    }
   ],
   "source": [
    "# The numpy array of the dataframe\n",
    "\n",
    "c.values"
   ]
  },
  {
   "cell_type": "code",
   "execution_count": 12,
   "metadata": {
    "collapsed": true
   },
   "outputs": [
    {
     "data": {
      "text/plain": [
       "['Address.City',\n",
       " 'ID',\n",
       " 'LocationMilestones.LastRemodelDate',\n",
       " 'LocationMilestones.OpenDate',\n",
       " 'Name',\n",
       " 'Store.StoreDistrictID',\n",
       " 'TimeZone.TimeZoneCode',\n",
       " 'PhoneNumber',\n",
       " 'FaxNumber',\n",
       " 'BeginTime.MF',\n",
       " 'ThruTime.MF',\n",
       " 'IsOpen.Sat',\n",
       " 'IsOpen.Sun']"
      ]
     },
     "execution_count": 12,
     "metadata": {},
     "output_type": "execute_result"
    }
   ],
   "source": [
    "# The list equivalent of the dataframe\n",
    "\n",
    "list(c)"
   ]
  },
  {
   "cell_type": "markdown",
   "metadata": {},
   "source": [
    "### Question 5"
   ]
  },
  {
   "cell_type": "code",
   "execution_count": 13,
   "metadata": {},
   "outputs": [],
   "source": [
    "# Renaming the column\n",
    "\n",
    "c.rename(columns = {\"Name\": \"Store Name\"}, inplace = True)"
   ]
  },
  {
   "cell_type": "markdown",
   "metadata": {},
   "source": [
    "### Question 6"
   ]
  },
  {
   "cell_type": "code",
   "execution_count": 14,
   "metadata": {
    "collapsed": true
   },
   "outputs": [
    {
     "data": {
      "text/plain": [
       "Address.City                           0\n",
       "ID                                     0\n",
       "LocationMilestones.LastRemodelDate    35\n",
       "LocationMilestones.OpenDate            0\n",
       "Store Name                             0\n",
       "Store.StoreDistrictID                  0\n",
       "TimeZone.TimeZoneCode                  0\n",
       "PhoneNumber                            0\n",
       "FaxNumber                              5\n",
       "BeginTime.MF                           0\n",
       "ThruTime.MF                            0\n",
       "IsOpen.Sat                             0\n",
       "IsOpen.Sun                             0\n",
       "dtype: int64"
      ]
     },
     "execution_count": 14,
     "metadata": {},
     "output_type": "execute_result"
    }
   ],
   "source": [
    "# Checking for null values\n",
    "\n",
    "c.isnull().sum()"
   ]
  },
  {
   "cell_type": "markdown",
   "metadata": {},
   "source": [
    "### Question 7"
   ]
  },
  {
   "cell_type": "code",
   "execution_count": 15,
   "metadata": {},
   "outputs": [],
   "source": [
    "w = c[\"IsOpen.Sat\"].value_counts()"
   ]
  },
  {
   "cell_type": "code",
   "execution_count": 16,
   "metadata": {},
   "outputs": [],
   "source": [
    "x = c[\"IsOpen.Sun\"].value_counts()"
   ]
  },
  {
   "cell_type": "code",
   "execution_count": 32,
   "metadata": {},
   "outputs": [
    {
     "data": {
      "text/plain": [
       "True     101\n",
       "False      7\n",
       "Name: IsOpen.Sat, dtype: int64"
      ]
     },
     "execution_count": 32,
     "metadata": {},
     "output_type": "execute_result"
    }
   ],
   "source": [
    "w"
   ]
  },
  {
   "cell_type": "code",
   "execution_count": 33,
   "metadata": {},
   "outputs": [
    {
     "data": {
      "text/plain": [
       "True     86\n",
       "False    22\n",
       "Name: IsOpen.Sun, dtype: int64"
      ]
     },
     "execution_count": 33,
     "metadata": {},
     "output_type": "execute_result"
    }
   ],
   "source": [
    "x"
   ]
  },
  {
   "cell_type": "code",
   "execution_count": 34,
   "metadata": {},
   "outputs": [
    {
     "data": {
      "text/html": [
       "\n",
       "    <div class=\"bk-root\">\n",
       "        <a href=\"https://bokeh.pydata.org\" target=\"_blank\" class=\"bk-logo bk-logo-small bk-logo-notebook\"></a>\n",
       "        <span id=\"2056\">Loading BokehJS ...</span>\n",
       "    </div>"
      ]
     },
     "metadata": {},
     "output_type": "display_data"
    },
    {
     "data": {
      "application/javascript": [
       "\n",
       "(function(root) {\n",
       "  function now() {\n",
       "    return new Date();\n",
       "  }\n",
       "\n",
       "  var force = true;\n",
       "\n",
       "  if (typeof root._bokeh_onload_callbacks === \"undefined\" || force === true) {\n",
       "    root._bokeh_onload_callbacks = [];\n",
       "    root._bokeh_is_loading = undefined;\n",
       "  }\n",
       "\n",
       "  var JS_MIME_TYPE = 'application/javascript';\n",
       "  var HTML_MIME_TYPE = 'text/html';\n",
       "  var EXEC_MIME_TYPE = 'application/vnd.bokehjs_exec.v0+json';\n",
       "  var CLASS_NAME = 'output_bokeh rendered_html';\n",
       "\n",
       "  /**\n",
       "   * Render data to the DOM node\n",
       "   */\n",
       "  function render(props, node) {\n",
       "    var script = document.createElement(\"script\");\n",
       "    node.appendChild(script);\n",
       "  }\n",
       "\n",
       "  /**\n",
       "   * Handle when an output is cleared or removed\n",
       "   */\n",
       "  function handleClearOutput(event, handle) {\n",
       "    var cell = handle.cell;\n",
       "\n",
       "    var id = cell.output_area._bokeh_element_id;\n",
       "    var server_id = cell.output_area._bokeh_server_id;\n",
       "    // Clean up Bokeh references\n",
       "    if (id != null && id in Bokeh.index) {\n",
       "      Bokeh.index[id].model.document.clear();\n",
       "      delete Bokeh.index[id];\n",
       "    }\n",
       "\n",
       "    if (server_id !== undefined) {\n",
       "      // Clean up Bokeh references\n",
       "      var cmd = \"from bokeh.io.state import curstate; print(curstate().uuid_to_server['\" + server_id + \"'].get_sessions()[0].document.roots[0]._id)\";\n",
       "      cell.notebook.kernel.execute(cmd, {\n",
       "        iopub: {\n",
       "          output: function(msg) {\n",
       "            var id = msg.content.text.trim();\n",
       "            if (id in Bokeh.index) {\n",
       "              Bokeh.index[id].model.document.clear();\n",
       "              delete Bokeh.index[id];\n",
       "            }\n",
       "          }\n",
       "        }\n",
       "      });\n",
       "      // Destroy server and session\n",
       "      var cmd = \"import bokeh.io.notebook as ion; ion.destroy_server('\" + server_id + \"')\";\n",
       "      cell.notebook.kernel.execute(cmd);\n",
       "    }\n",
       "  }\n",
       "\n",
       "  /**\n",
       "   * Handle when a new output is added\n",
       "   */\n",
       "  function handleAddOutput(event, handle) {\n",
       "    var output_area = handle.output_area;\n",
       "    var output = handle.output;\n",
       "\n",
       "    // limit handleAddOutput to display_data with EXEC_MIME_TYPE content only\n",
       "    if ((output.output_type != \"display_data\") || (!output.data.hasOwnProperty(EXEC_MIME_TYPE))) {\n",
       "      return\n",
       "    }\n",
       "\n",
       "    var toinsert = output_area.element.find(\".\" + CLASS_NAME.split(' ')[0]);\n",
       "\n",
       "    if (output.metadata[EXEC_MIME_TYPE][\"id\"] !== undefined) {\n",
       "      toinsert[toinsert.length - 1].firstChild.textContent = output.data[JS_MIME_TYPE];\n",
       "      // store reference to embed id on output_area\n",
       "      output_area._bokeh_element_id = output.metadata[EXEC_MIME_TYPE][\"id\"];\n",
       "    }\n",
       "    if (output.metadata[EXEC_MIME_TYPE][\"server_id\"] !== undefined) {\n",
       "      var bk_div = document.createElement(\"div\");\n",
       "      bk_div.innerHTML = output.data[HTML_MIME_TYPE];\n",
       "      var script_attrs = bk_div.children[0].attributes;\n",
       "      for (var i = 0; i < script_attrs.length; i++) {\n",
       "        toinsert[toinsert.length - 1].firstChild.setAttribute(script_attrs[i].name, script_attrs[i].value);\n",
       "      }\n",
       "      // store reference to server id on output_area\n",
       "      output_area._bokeh_server_id = output.metadata[EXEC_MIME_TYPE][\"server_id\"];\n",
       "    }\n",
       "  }\n",
       "\n",
       "  function register_renderer(events, OutputArea) {\n",
       "\n",
       "    function append_mime(data, metadata, element) {\n",
       "      // create a DOM node to render to\n",
       "      var toinsert = this.create_output_subarea(\n",
       "        metadata,\n",
       "        CLASS_NAME,\n",
       "        EXEC_MIME_TYPE\n",
       "      );\n",
       "      this.keyboard_manager.register_events(toinsert);\n",
       "      // Render to node\n",
       "      var props = {data: data, metadata: metadata[EXEC_MIME_TYPE]};\n",
       "      render(props, toinsert[toinsert.length - 1]);\n",
       "      element.append(toinsert);\n",
       "      return toinsert\n",
       "    }\n",
       "\n",
       "    /* Handle when an output is cleared or removed */\n",
       "    events.on('clear_output.CodeCell', handleClearOutput);\n",
       "    events.on('delete.Cell', handleClearOutput);\n",
       "\n",
       "    /* Handle when a new output is added */\n",
       "    events.on('output_added.OutputArea', handleAddOutput);\n",
       "\n",
       "    /**\n",
       "     * Register the mime type and append_mime function with output_area\n",
       "     */\n",
       "    OutputArea.prototype.register_mime_type(EXEC_MIME_TYPE, append_mime, {\n",
       "      /* Is output safe? */\n",
       "      safe: true,\n",
       "      /* Index of renderer in `output_area.display_order` */\n",
       "      index: 0\n",
       "    });\n",
       "  }\n",
       "\n",
       "  // register the mime type if in Jupyter Notebook environment and previously unregistered\n",
       "  if (root.Jupyter !== undefined) {\n",
       "    var events = require('base/js/events');\n",
       "    var OutputArea = require('notebook/js/outputarea').OutputArea;\n",
       "\n",
       "    if (OutputArea.prototype.mime_types().indexOf(EXEC_MIME_TYPE) == -1) {\n",
       "      register_renderer(events, OutputArea);\n",
       "    }\n",
       "  }\n",
       "\n",
       "  \n",
       "  if (typeof (root._bokeh_timeout) === \"undefined\" || force === true) {\n",
       "    root._bokeh_timeout = Date.now() + 5000;\n",
       "    root._bokeh_failed_load = false;\n",
       "  }\n",
       "\n",
       "  var NB_LOAD_WARNING = {'data': {'text/html':\n",
       "     \"<div style='background-color: #fdd'>\\n\"+\n",
       "     \"<p>\\n\"+\n",
       "     \"BokehJS does not appear to have successfully loaded. If loading BokehJS from CDN, this \\n\"+\n",
       "     \"may be due to a slow or bad network connection. Possible fixes:\\n\"+\n",
       "     \"</p>\\n\"+\n",
       "     \"<ul>\\n\"+\n",
       "     \"<li>re-rerun `output_notebook()` to attempt to load from CDN again, or</li>\\n\"+\n",
       "     \"<li>use INLINE resources instead, as so:</li>\\n\"+\n",
       "     \"</ul>\\n\"+\n",
       "     \"<code>\\n\"+\n",
       "     \"from bokeh.resources import INLINE\\n\"+\n",
       "     \"output_notebook(resources=INLINE)\\n\"+\n",
       "     \"</code>\\n\"+\n",
       "     \"</div>\"}};\n",
       "\n",
       "  function display_loaded() {\n",
       "    var el = document.getElementById(\"2056\");\n",
       "    if (el != null) {\n",
       "      el.textContent = \"BokehJS is loading...\";\n",
       "    }\n",
       "    if (root.Bokeh !== undefined) {\n",
       "      if (el != null) {\n",
       "        el.textContent = \"BokehJS \" + root.Bokeh.version + \" successfully loaded.\";\n",
       "      }\n",
       "    } else if (Date.now() < root._bokeh_timeout) {\n",
       "      setTimeout(display_loaded, 100)\n",
       "    }\n",
       "  }\n",
       "\n",
       "\n",
       "  function run_callbacks() {\n",
       "    try {\n",
       "      root._bokeh_onload_callbacks.forEach(function(callback) {\n",
       "        if (callback != null)\n",
       "          callback();\n",
       "      });\n",
       "    } finally {\n",
       "      delete root._bokeh_onload_callbacks\n",
       "    }\n",
       "    console.debug(\"Bokeh: all callbacks have finished\");\n",
       "  }\n",
       "\n",
       "  function load_libs(css_urls, js_urls, callback) {\n",
       "    if (css_urls == null) css_urls = [];\n",
       "    if (js_urls == null) js_urls = [];\n",
       "\n",
       "    root._bokeh_onload_callbacks.push(callback);\n",
       "    if (root._bokeh_is_loading > 0) {\n",
       "      console.debug(\"Bokeh: BokehJS is being loaded, scheduling callback at\", now());\n",
       "      return null;\n",
       "    }\n",
       "    if (js_urls == null || js_urls.length === 0) {\n",
       "      run_callbacks();\n",
       "      return null;\n",
       "    }\n",
       "    console.debug(\"Bokeh: BokehJS not loaded, scheduling load and callback at\", now());\n",
       "    root._bokeh_is_loading = css_urls.length + js_urls.length;\n",
       "\n",
       "    function on_load() {\n",
       "      root._bokeh_is_loading--;\n",
       "      if (root._bokeh_is_loading === 0) {\n",
       "        console.debug(\"Bokeh: all BokehJS libraries/stylesheets loaded\");\n",
       "        run_callbacks()\n",
       "      }\n",
       "    }\n",
       "\n",
       "    function on_error() {\n",
       "      console.error(\"failed to load \" + url);\n",
       "    }\n",
       "\n",
       "    for (var i = 0; i < css_urls.length; i++) {\n",
       "      var url = css_urls[i];\n",
       "      const element = document.createElement(\"link\");\n",
       "      element.onload = on_load;\n",
       "      element.onerror = on_error;\n",
       "      element.rel = \"stylesheet\";\n",
       "      element.type = \"text/css\";\n",
       "      element.href = url;\n",
       "      console.debug(\"Bokeh: injecting link tag for BokehJS stylesheet: \", url);\n",
       "      document.body.appendChild(element);\n",
       "    }\n",
       "\n",
       "    for (var i = 0; i < js_urls.length; i++) {\n",
       "      var url = js_urls[i];\n",
       "      var element = document.createElement('script');\n",
       "      element.onload = on_load;\n",
       "      element.onerror = on_error;\n",
       "      element.async = false;\n",
       "      element.src = url;\n",
       "      console.debug(\"Bokeh: injecting script tag for BokehJS library: \", url);\n",
       "      document.head.appendChild(element);\n",
       "    }\n",
       "  };var element = document.getElementById(\"2056\");\n",
       "  if (element == null) {\n",
       "    console.error(\"Bokeh: ERROR: autoload.js configured with elementid '2056' but no matching script tag was found. \")\n",
       "    return false;\n",
       "  }\n",
       "\n",
       "  function inject_raw_css(css) {\n",
       "    const element = document.createElement(\"style\");\n",
       "    element.appendChild(document.createTextNode(css));\n",
       "    document.body.appendChild(element);\n",
       "  }\n",
       "\n",
       "  var js_urls = [\"https://cdn.pydata.org/bokeh/release/bokeh-1.2.0.min.js\", \"https://cdn.pydata.org/bokeh/release/bokeh-widgets-1.2.0.min.js\", \"https://cdn.pydata.org/bokeh/release/bokeh-tables-1.2.0.min.js\", \"https://cdn.pydata.org/bokeh/release/bokeh-gl-1.2.0.min.js\"];\n",
       "  var css_urls = [\"https://cdn.pydata.org/bokeh/release/bokeh-1.2.0.min.css\", \"https://cdn.pydata.org/bokeh/release/bokeh-widgets-1.2.0.min.css\", \"https://cdn.pydata.org/bokeh/release/bokeh-tables-1.2.0.min.css\"];\n",
       "\n",
       "  var inline_js = [\n",
       "    function(Bokeh) {\n",
       "      Bokeh.set_log_level(\"info\");\n",
       "    },\n",
       "    \n",
       "    function(Bokeh) {\n",
       "      \n",
       "    },\n",
       "    function(Bokeh) {} // ensure no trailing comma for IE\n",
       "  ];\n",
       "\n",
       "  function run_inline_js() {\n",
       "    \n",
       "    if ((root.Bokeh !== undefined) || (force === true)) {\n",
       "      for (var i = 0; i < inline_js.length; i++) {\n",
       "        inline_js[i].call(root, root.Bokeh);\n",
       "      }if (force === true) {\n",
       "        display_loaded();\n",
       "      }} else if (Date.now() < root._bokeh_timeout) {\n",
       "      setTimeout(run_inline_js, 100);\n",
       "    } else if (!root._bokeh_failed_load) {\n",
       "      console.log(\"Bokeh: BokehJS failed to load within specified timeout.\");\n",
       "      root._bokeh_failed_load = true;\n",
       "    } else if (force !== true) {\n",
       "      var cell = $(document.getElementById(\"2056\")).parents('.cell').data().cell;\n",
       "      cell.output_area.append_execute_result(NB_LOAD_WARNING)\n",
       "    }\n",
       "\n",
       "  }\n",
       "\n",
       "  if (root._bokeh_is_loading === 0) {\n",
       "    console.debug(\"Bokeh: BokehJS loaded, going straight to plotting\");\n",
       "    run_inline_js();\n",
       "  } else {\n",
       "    load_libs(css_urls, js_urls, function() {\n",
       "      console.debug(\"Bokeh: BokehJS plotting callback run at\", now());\n",
       "      run_inline_js();\n",
       "    });\n",
       "  }\n",
       "}(window));"
      ],
      "application/vnd.bokehjs_load.v0+json": "\n(function(root) {\n  function now() {\n    return new Date();\n  }\n\n  var force = true;\n\n  if (typeof root._bokeh_onload_callbacks === \"undefined\" || force === true) {\n    root._bokeh_onload_callbacks = [];\n    root._bokeh_is_loading = undefined;\n  }\n\n  \n\n  \n  if (typeof (root._bokeh_timeout) === \"undefined\" || force === true) {\n    root._bokeh_timeout = Date.now() + 5000;\n    root._bokeh_failed_load = false;\n  }\n\n  var NB_LOAD_WARNING = {'data': {'text/html':\n     \"<div style='background-color: #fdd'>\\n\"+\n     \"<p>\\n\"+\n     \"BokehJS does not appear to have successfully loaded. If loading BokehJS from CDN, this \\n\"+\n     \"may be due to a slow or bad network connection. Possible fixes:\\n\"+\n     \"</p>\\n\"+\n     \"<ul>\\n\"+\n     \"<li>re-rerun `output_notebook()` to attempt to load from CDN again, or</li>\\n\"+\n     \"<li>use INLINE resources instead, as so:</li>\\n\"+\n     \"</ul>\\n\"+\n     \"<code>\\n\"+\n     \"from bokeh.resources import INLINE\\n\"+\n     \"output_notebook(resources=INLINE)\\n\"+\n     \"</code>\\n\"+\n     \"</div>\"}};\n\n  function display_loaded() {\n    var el = document.getElementById(\"2056\");\n    if (el != null) {\n      el.textContent = \"BokehJS is loading...\";\n    }\n    if (root.Bokeh !== undefined) {\n      if (el != null) {\n        el.textContent = \"BokehJS \" + root.Bokeh.version + \" successfully loaded.\";\n      }\n    } else if (Date.now() < root._bokeh_timeout) {\n      setTimeout(display_loaded, 100)\n    }\n  }\n\n\n  function run_callbacks() {\n    try {\n      root._bokeh_onload_callbacks.forEach(function(callback) {\n        if (callback != null)\n          callback();\n      });\n    } finally {\n      delete root._bokeh_onload_callbacks\n    }\n    console.debug(\"Bokeh: all callbacks have finished\");\n  }\n\n  function load_libs(css_urls, js_urls, callback) {\n    if (css_urls == null) css_urls = [];\n    if (js_urls == null) js_urls = [];\n\n    root._bokeh_onload_callbacks.push(callback);\n    if (root._bokeh_is_loading > 0) {\n      console.debug(\"Bokeh: BokehJS is being loaded, scheduling callback at\", now());\n      return null;\n    }\n    if (js_urls == null || js_urls.length === 0) {\n      run_callbacks();\n      return null;\n    }\n    console.debug(\"Bokeh: BokehJS not loaded, scheduling load and callback at\", now());\n    root._bokeh_is_loading = css_urls.length + js_urls.length;\n\n    function on_load() {\n      root._bokeh_is_loading--;\n      if (root._bokeh_is_loading === 0) {\n        console.debug(\"Bokeh: all BokehJS libraries/stylesheets loaded\");\n        run_callbacks()\n      }\n    }\n\n    function on_error() {\n      console.error(\"failed to load \" + url);\n    }\n\n    for (var i = 0; i < css_urls.length; i++) {\n      var url = css_urls[i];\n      const element = document.createElement(\"link\");\n      element.onload = on_load;\n      element.onerror = on_error;\n      element.rel = \"stylesheet\";\n      element.type = \"text/css\";\n      element.href = url;\n      console.debug(\"Bokeh: injecting link tag for BokehJS stylesheet: \", url);\n      document.body.appendChild(element);\n    }\n\n    for (var i = 0; i < js_urls.length; i++) {\n      var url = js_urls[i];\n      var element = document.createElement('script');\n      element.onload = on_load;\n      element.onerror = on_error;\n      element.async = false;\n      element.src = url;\n      console.debug(\"Bokeh: injecting script tag for BokehJS library: \", url);\n      document.head.appendChild(element);\n    }\n  };var element = document.getElementById(\"2056\");\n  if (element == null) {\n    console.error(\"Bokeh: ERROR: autoload.js configured with elementid '2056' but no matching script tag was found. \")\n    return false;\n  }\n\n  function inject_raw_css(css) {\n    const element = document.createElement(\"style\");\n    element.appendChild(document.createTextNode(css));\n    document.body.appendChild(element);\n  }\n\n  var js_urls = [\"https://cdn.pydata.org/bokeh/release/bokeh-1.2.0.min.js\", \"https://cdn.pydata.org/bokeh/release/bokeh-widgets-1.2.0.min.js\", \"https://cdn.pydata.org/bokeh/release/bokeh-tables-1.2.0.min.js\", \"https://cdn.pydata.org/bokeh/release/bokeh-gl-1.2.0.min.js\"];\n  var css_urls = [\"https://cdn.pydata.org/bokeh/release/bokeh-1.2.0.min.css\", \"https://cdn.pydata.org/bokeh/release/bokeh-widgets-1.2.0.min.css\", \"https://cdn.pydata.org/bokeh/release/bokeh-tables-1.2.0.min.css\"];\n\n  var inline_js = [\n    function(Bokeh) {\n      Bokeh.set_log_level(\"info\");\n    },\n    \n    function(Bokeh) {\n      \n    },\n    function(Bokeh) {} // ensure no trailing comma for IE\n  ];\n\n  function run_inline_js() {\n    \n    if ((root.Bokeh !== undefined) || (force === true)) {\n      for (var i = 0; i < inline_js.length; i++) {\n        inline_js[i].call(root, root.Bokeh);\n      }if (force === true) {\n        display_loaded();\n      }} else if (Date.now() < root._bokeh_timeout) {\n      setTimeout(run_inline_js, 100);\n    } else if (!root._bokeh_failed_load) {\n      console.log(\"Bokeh: BokehJS failed to load within specified timeout.\");\n      root._bokeh_failed_load = true;\n    } else if (force !== true) {\n      var cell = $(document.getElementById(\"2056\")).parents('.cell').data().cell;\n      cell.output_area.append_execute_result(NB_LOAD_WARNING)\n    }\n\n  }\n\n  if (root._bokeh_is_loading === 0) {\n    console.debug(\"Bokeh: BokehJS loaded, going straight to plotting\");\n    run_inline_js();\n  } else {\n    load_libs(css_urls, js_urls, function() {\n      console.debug(\"Bokeh: BokehJS plotting callback run at\", now());\n      run_inline_js();\n    });\n  }\n}(window));"
     },
     "metadata": {},
     "output_type": "display_data"
    }
   ],
   "source": [
    "from math import pi\n",
    "\n",
    "from bokeh.layouts import row\n",
    "from bokeh.models import HoverTool\n",
    "from bokeh.io import output_file, show, output_notebook\n",
    "from bokeh.plotting import figure\n",
    "from bokeh.transform import cumsum\n",
    "\n",
    "output_notebook()"
   ]
  },
  {
   "cell_type": "code",
   "execution_count": 39,
   "metadata": {},
   "outputs": [
    {
     "data": {
      "text/html": [
       "\n",
       "\n",
       "\n",
       "\n",
       "\n",
       "\n",
       "  <div class=\"bk-root\" id=\"7c218b3c-e738-494f-8f25-ef4274a23e0f\" data-root-id=\"3347\"></div>\n"
      ]
     },
     "metadata": {},
     "output_type": "display_data"
    },
    {
     "data": {
      "application/javascript": [
       "(function(root) {\n",
       "  function embed_document(root) {\n",
       "    \n",
       "  var docs_json = {\"f06b2fc4-313b-4026-9352-8e77f3e2a607\":{\"roots\":{\"references\":[{\"attributes\":{\"children\":[{\"id\":\"3243\",\"subtype\":\"Figure\",\"type\":\"Plot\"},{\"id\":\"3295\",\"subtype\":\"Figure\",\"type\":\"Plot\"}]},\"id\":\"3347\",\"type\":\"Row\"},{\"attributes\":{\"end_angle\":{\"expr\":{\"id\":\"3280\",\"type\":\"CumSum\"},\"units\":\"rad\"},\"fill_alpha\":{\"value\":0.1},\"fill_color\":{\"value\":\"#1f77b4\"},\"line_alpha\":{\"value\":0.1},\"line_color\":{\"value\":\"#1f77b4\"},\"radius\":{\"units\":\"data\",\"value\":0.4},\"start_angle\":{\"expr\":{\"id\":\"3279\",\"type\":\"CumSum\"},\"units\":\"rad\"},\"x\":{\"value\":0},\"y\":{\"value\":1}},\"id\":\"3284\",\"type\":\"Wedge\"},{\"attributes\":{\"grid_line_color\":null,\"ticker\":{\"id\":\"3255\",\"type\":\"BasicTicker\"}},\"id\":\"3258\",\"type\":\"Grid\"},{\"attributes\":{},\"id\":\"3321\",\"type\":\"HelpTool\"},{\"attributes\":{\"axis_label\":null,\"formatter\":{\"id\":\"3288\",\"type\":\"BasicTickFormatter\"},\"ticker\":{\"id\":\"3260\",\"type\":\"BasicTicker\"},\"visible\":false},\"id\":\"3259\",\"type\":\"LinearAxis\"},{\"attributes\":{},\"id\":\"3288\",\"type\":\"BasicTickFormatter\"},{\"attributes\":{\"active_drag\":\"auto\",\"active_inspect\":\"auto\",\"active_multi\":null,\"active_scroll\":\"auto\",\"active_tap\":\"auto\",\"tools\":[{\"id\":\"3316\",\"type\":\"PanTool\"},{\"id\":\"3317\",\"type\":\"WheelZoomTool\"},{\"id\":\"3318\",\"type\":\"BoxZoomTool\"},{\"id\":\"3319\",\"type\":\"SaveTool\"},{\"id\":\"3320\",\"type\":\"ResetTool\"},{\"id\":\"3321\",\"type\":\"HelpTool\"},{\"id\":\"3345\",\"type\":\"HoverTool\"}]},\"id\":\"3322\",\"type\":\"Toolbar\"},{\"attributes\":{},\"id\":\"3260\",\"type\":\"BasicTicker\"},{\"attributes\":{},\"id\":\"3290\",\"type\":\"BasicTickFormatter\"},{\"attributes\":{\"dimension\":1,\"grid_line_color\":null,\"ticker\":{\"id\":\"3260\",\"type\":\"BasicTicker\"}},\"id\":\"3263\",\"type\":\"Grid\"},{\"attributes\":{\"below\":[{\"id\":\"3306\",\"type\":\"LinearAxis\"}],\"center\":[{\"id\":\"3310\",\"type\":\"Grid\"},{\"id\":\"3315\",\"type\":\"Grid\"},{\"id\":\"3343\",\"type\":\"Legend\"}],\"left\":[{\"id\":\"3311\",\"type\":\"LinearAxis\"}],\"plot_height\":350,\"renderers\":[{\"id\":\"3335\",\"type\":\"GlyphRenderer\"}],\"title\":{\"id\":\"3296\",\"type\":\"Title\"},\"toolbar\":{\"id\":\"3322\",\"type\":\"Toolbar\"},\"x_range\":{\"id\":\"3298\",\"type\":\"DataRange1d\"},\"x_scale\":{\"id\":\"3302\",\"type\":\"LinearScale\"},\"y_range\":{\"id\":\"3300\",\"type\":\"DataRange1d\"},\"y_scale\":{\"id\":\"3304\",\"type\":\"LinearScale\"}},\"id\":\"3295\",\"subtype\":\"Figure\",\"type\":\"Plot\"},{\"attributes\":{\"end_angle\":{\"expr\":{\"id\":\"3330\",\"type\":\"CumSum\"},\"units\":\"rad\"},\"fill_color\":{\"field\":\"color\"},\"line_color\":{\"value\":\"white\"},\"radius\":{\"units\":\"data\",\"value\":0.4},\"start_angle\":{\"expr\":{\"id\":\"3329\",\"type\":\"CumSum\"},\"units\":\"rad\"},\"x\":{\"value\":0},\"y\":{\"value\":1}},\"id\":\"3333\",\"type\":\"Wedge\"},{\"attributes\":{\"bottom_units\":\"screen\",\"fill_alpha\":{\"value\":0.5},\"fill_color\":{\"value\":\"lightgrey\"},\"left_units\":\"screen\",\"level\":\"overlay\",\"line_alpha\":{\"value\":1.0},\"line_color\":{\"value\":\"black\"},\"line_dash\":[4,4],\"line_width\":{\"value\":2},\"render_mode\":\"css\",\"right_units\":\"screen\",\"top_units\":\"screen\"},\"id\":\"3292\",\"type\":\"BoxAnnotation\"},{\"attributes\":{\"source\":{\"id\":\"3331\",\"type\":\"ColumnDataSource\"}},\"id\":\"3336\",\"type\":\"CDSView\"},{\"attributes\":{\"callback\":null},\"id\":\"3300\",\"type\":\"DataRange1d\"},{\"attributes\":{\"callback\":null},\"id\":\"3298\",\"type\":\"DataRange1d\"},{\"attributes\":{\"items\":[{\"id\":\"3294\",\"type\":\"LegendItem\"}]},\"id\":\"3293\",\"type\":\"Legend\"},{\"attributes\":{\"data_source\":{\"id\":\"3331\",\"type\":\"ColumnDataSource\"},\"glyph\":{\"id\":\"3333\",\"type\":\"Wedge\"},\"hover_glyph\":null,\"muted_glyph\":null,\"nonselection_glyph\":{\"id\":\"3334\",\"type\":\"Wedge\"},\"selection_glyph\":null,\"view\":{\"id\":\"3336\",\"type\":\"CDSView\"}},\"id\":\"3335\",\"type\":\"GlyphRenderer\"},{\"attributes\":{\"field\":\"angle\",\"include_zero\":true},\"id\":\"3279\",\"type\":\"CumSum\"},{\"attributes\":{\"field\":\"angle\"},\"id\":\"3280\",\"type\":\"CumSum\"},{\"attributes\":{\"label\":{\"field\":\"Is_Open\"},\"renderers\":[{\"id\":\"3285\",\"type\":\"GlyphRenderer\"}]},\"id\":\"3294\",\"type\":\"LegendItem\"},{\"attributes\":{\"active_drag\":\"auto\",\"active_inspect\":\"auto\",\"active_multi\":null,\"active_scroll\":\"auto\",\"active_tap\":\"auto\",\"tools\":[{\"id\":\"3264\",\"type\":\"PanTool\"},{\"id\":\"3265\",\"type\":\"WheelZoomTool\"},{\"id\":\"3266\",\"type\":\"BoxZoomTool\"},{\"id\":\"3267\",\"type\":\"SaveTool\"},{\"id\":\"3268\",\"type\":\"ResetTool\"},{\"id\":\"3269\",\"type\":\"HelpTool\"},{\"id\":\"3277\",\"type\":\"HoverTool\"}]},\"id\":\"3270\",\"type\":\"Toolbar\"},{\"attributes\":{\"end_angle\":{\"expr\":{\"id\":\"3330\",\"type\":\"CumSum\"},\"units\":\"rad\"},\"fill_alpha\":{\"value\":0.1},\"fill_color\":{\"value\":\"#1f77b4\"},\"line_alpha\":{\"value\":0.1},\"line_color\":{\"value\":\"#1f77b4\"},\"radius\":{\"units\":\"data\",\"value\":0.4},\"start_angle\":{\"expr\":{\"id\":\"3329\",\"type\":\"CumSum\"},\"units\":\"rad\"},\"x\":{\"value\":0},\"y\":{\"value\":1}},\"id\":\"3334\",\"type\":\"Wedge\"},{\"attributes\":{\"axis_label\":null,\"formatter\":{\"id\":\"3338\",\"type\":\"BasicTickFormatter\"},\"ticker\":{\"id\":\"3312\",\"type\":\"BasicTicker\"},\"visible\":false},\"id\":\"3311\",\"type\":\"LinearAxis\"},{\"attributes\":{},\"id\":\"3264\",\"type\":\"PanTool\"},{\"attributes\":{\"field\":\"angle\"},\"id\":\"3330\",\"type\":\"CumSum\"},{\"attributes\":{},\"id\":\"3265\",\"type\":\"WheelZoomTool\"},{\"attributes\":{\"callback\":null,\"tooltips\":[[\"Is Open\",\"@Is_Open\"],[\"How Many\",\"@count\"],[\"Percentage\",\"@percentage\"]]},\"id\":\"3345\",\"type\":\"HoverTool\"},{\"attributes\":{},\"id\":\"3338\",\"type\":\"BasicTickFormatter\"},{\"attributes\":{},\"id\":\"3307\",\"type\":\"BasicTicker\"},{\"attributes\":{},\"id\":\"3302\",\"type\":\"LinearScale\"},{\"attributes\":{\"callback\":null,\"data\":{\"Is_Open\":[true,false],\"angle\":{\"__ndarray__\":\"ZC1vGFsDFEDR/lPvgHr0Pw==\",\"dtype\":\"float64\",\"shape\":[2]},\"color\":[\"green\",\"olive\"],\"count\":[86,22],\"index\":[0,1],\"percentage\":{\"__ndarray__\":\"hfYS2kvoU0DtJbSX0F40QA==\",\"dtype\":\"float64\",\"shape\":[2]}},\"selected\":{\"id\":\"3481\",\"type\":\"Selection\"},\"selection_policy\":{\"id\":\"3482\",\"type\":\"UnionRenderers\"}},\"id\":\"3331\",\"type\":\"ColumnDataSource\"},{\"attributes\":{\"overlay\":{\"id\":\"3292\",\"type\":\"BoxAnnotation\"}},\"id\":\"3266\",\"type\":\"BoxZoomTool\"},{\"attributes\":{},\"id\":\"3478\",\"type\":\"Selection\"},{\"attributes\":{},\"id\":\"3255\",\"type\":\"BasicTicker\"},{\"attributes\":{},\"id\":\"3340\",\"type\":\"BasicTickFormatter\"},{\"attributes\":{},\"id\":\"3267\",\"type\":\"SaveTool\"},{\"attributes\":{\"callback\":null},\"id\":\"3246\",\"type\":\"DataRange1d\"},{\"attributes\":{},\"id\":\"3312\",\"type\":\"BasicTicker\"},{\"attributes\":{\"below\":[{\"id\":\"3254\",\"type\":\"LinearAxis\"}],\"center\":[{\"id\":\"3258\",\"type\":\"Grid\"},{\"id\":\"3263\",\"type\":\"Grid\"},{\"id\":\"3293\",\"type\":\"Legend\"}],\"left\":[{\"id\":\"3259\",\"type\":\"LinearAxis\"}],\"plot_height\":350,\"renderers\":[{\"id\":\"3285\",\"type\":\"GlyphRenderer\"}],\"title\":{\"id\":\"3244\",\"type\":\"Title\"},\"toolbar\":{\"id\":\"3270\",\"type\":\"Toolbar\"},\"x_range\":{\"id\":\"3246\",\"type\":\"DataRange1d\"},\"x_scale\":{\"id\":\"3250\",\"type\":\"LinearScale\"},\"y_range\":{\"id\":\"3248\",\"type\":\"DataRange1d\"},\"y_scale\":{\"id\":\"3252\",\"type\":\"LinearScale\"}},\"id\":\"3243\",\"subtype\":\"Figure\",\"type\":\"Plot\"},{\"attributes\":{\"bottom_units\":\"screen\",\"fill_alpha\":{\"value\":0.5},\"fill_color\":{\"value\":\"lightgrey\"},\"left_units\":\"screen\",\"level\":\"overlay\",\"line_alpha\":{\"value\":1.0},\"line_color\":{\"value\":\"black\"},\"line_dash\":[4,4],\"line_width\":{\"value\":2},\"render_mode\":\"css\",\"right_units\":\"screen\",\"top_units\":\"screen\"},\"id\":\"3342\",\"type\":\"BoxAnnotation\"},{\"attributes\":{},\"id\":\"3268\",\"type\":\"ResetTool\"},{\"attributes\":{\"axis_label\":null,\"formatter\":{\"id\":\"3340\",\"type\":\"BasicTickFormatter\"},\"ticker\":{\"id\":\"3307\",\"type\":\"BasicTicker\"},\"visible\":false},\"id\":\"3306\",\"type\":\"LinearAxis\"},{\"attributes\":{\"callback\":null,\"tooltips\":[[\"Is Open\",\"@Is_Open\"],[\"How Many\",\"@count\"],[\"Percentage\",\"@percentage\"]]},\"id\":\"3277\",\"type\":\"HoverTool\"},{\"attributes\":{},\"id\":\"3252\",\"type\":\"LinearScale\"},{\"attributes\":{\"items\":[{\"id\":\"3344\",\"type\":\"LegendItem\"}]},\"id\":\"3343\",\"type\":\"Legend\"},{\"attributes\":{},\"id\":\"3269\",\"type\":\"HelpTool\"},{\"attributes\":{\"align\":\"center\",\"text\":\"Stores Availability on Sundays (in %)\",\"text_font_size\":{\"value\":\"20px\"}},\"id\":\"3296\",\"type\":\"Title\"},{\"attributes\":{\"label\":{\"field\":\"Is_Open\"},\"renderers\":[{\"id\":\"3335\",\"type\":\"GlyphRenderer\"}]},\"id\":\"3344\",\"type\":\"LegendItem\"},{\"attributes\":{\"grid_line_color\":null,\"ticker\":{\"id\":\"3307\",\"type\":\"BasicTicker\"}},\"id\":\"3310\",\"type\":\"Grid\"},{\"attributes\":{\"dimension\":1,\"grid_line_color\":null,\"ticker\":{\"id\":\"3312\",\"type\":\"BasicTicker\"}},\"id\":\"3315\",\"type\":\"Grid\"},{\"attributes\":{\"align\":\"center\",\"text\":\"Stores Availability on Saturdays (in %)\",\"text_font_size\":{\"value\":\"20px\"}},\"id\":\"3244\",\"type\":\"Title\"},{\"attributes\":{\"callback\":null,\"data\":{\"Is_Open\":[true,false],\"angle\":{\"__ndarray__\":\"GVAj5PaAF0Dzzw0CRxDaPw==\",\"dtype\":\"float64\",\"shape\":[2]},\"color\":[\"violet\",\"gray\"],\"count\":[101,7],\"index\":[0,1],\"percentage\":{\"__ndarray__\":\"E9pLaC9hV0DQXkJ7Ce0ZQA==\",\"dtype\":\"float64\",\"shape\":[2]}},\"selected\":{\"id\":\"3478\",\"type\":\"Selection\"},\"selection_policy\":{\"id\":\"3479\",\"type\":\"UnionRenderers\"}},\"id\":\"3281\",\"type\":\"ColumnDataSource\"},{\"attributes\":{},\"id\":\"3316\",\"type\":\"PanTool\"},{\"attributes\":{\"axis_label\":null,\"formatter\":{\"id\":\"3290\",\"type\":\"BasicTickFormatter\"},\"ticker\":{\"id\":\"3255\",\"type\":\"BasicTicker\"},\"visible\":false},\"id\":\"3254\",\"type\":\"LinearAxis\"},{\"attributes\":{},\"id\":\"3317\",\"type\":\"WheelZoomTool\"},{\"attributes\":{\"callback\":null},\"id\":\"3248\",\"type\":\"DataRange1d\"},{\"attributes\":{\"overlay\":{\"id\":\"3342\",\"type\":\"BoxAnnotation\"}},\"id\":\"3318\",\"type\":\"BoxZoomTool\"},{\"attributes\":{\"end_angle\":{\"expr\":{\"id\":\"3280\",\"type\":\"CumSum\"},\"units\":\"rad\"},\"fill_color\":{\"field\":\"color\"},\"line_color\":{\"value\":\"white\"},\"radius\":{\"units\":\"data\",\"value\":0.4},\"start_angle\":{\"expr\":{\"id\":\"3279\",\"type\":\"CumSum\"},\"units\":\"rad\"},\"x\":{\"value\":0},\"y\":{\"value\":1}},\"id\":\"3283\",\"type\":\"Wedge\"},{\"attributes\":{},\"id\":\"3479\",\"type\":\"UnionRenderers\"},{\"attributes\":{\"field\":\"angle\",\"include_zero\":true},\"id\":\"3329\",\"type\":\"CumSum\"},{\"attributes\":{\"source\":{\"id\":\"3281\",\"type\":\"ColumnDataSource\"}},\"id\":\"3286\",\"type\":\"CDSView\"},{\"attributes\":{},\"id\":\"3250\",\"type\":\"LinearScale\"},{\"attributes\":{},\"id\":\"3319\",\"type\":\"SaveTool\"},{\"attributes\":{},\"id\":\"3481\",\"type\":\"Selection\"},{\"attributes\":{},\"id\":\"3304\",\"type\":\"LinearScale\"},{\"attributes\":{\"data_source\":{\"id\":\"3281\",\"type\":\"ColumnDataSource\"},\"glyph\":{\"id\":\"3283\",\"type\":\"Wedge\"},\"hover_glyph\":null,\"muted_glyph\":null,\"nonselection_glyph\":{\"id\":\"3284\",\"type\":\"Wedge\"},\"selection_glyph\":null,\"view\":{\"id\":\"3286\",\"type\":\"CDSView\"}},\"id\":\"3285\",\"type\":\"GlyphRenderer\"},{\"attributes\":{},\"id\":\"3320\",\"type\":\"ResetTool\"},{\"attributes\":{},\"id\":\"3482\",\"type\":\"UnionRenderers\"}],\"root_ids\":[\"3347\"]},\"title\":\"Bokeh Application\",\"version\":\"1.2.0\"}};\n",
       "  var render_items = [{\"docid\":\"f06b2fc4-313b-4026-9352-8e77f3e2a607\",\"roots\":{\"3347\":\"7c218b3c-e738-494f-8f25-ef4274a23e0f\"}}];\n",
       "  root.Bokeh.embed.embed_items_notebook(docs_json, render_items);\n",
       "\n",
       "  }\n",
       "  if (root.Bokeh !== undefined) {\n",
       "    embed_document(root);\n",
       "  } else {\n",
       "    var attempts = 0;\n",
       "    var timer = setInterval(function(root) {\n",
       "      if (root.Bokeh !== undefined) {\n",
       "        embed_document(root);\n",
       "        clearInterval(timer);\n",
       "      }\n",
       "      attempts++;\n",
       "      if (attempts > 100) {\n",
       "        console.log(\"Bokeh: ERROR: Unable to run BokehJS code because BokehJS library is missing\");\n",
       "        clearInterval(timer);\n",
       "      }\n",
       "    }, 10, root)\n",
       "  }\n",
       "})(window);"
      ],
      "application/vnd.bokehjs_exec.v0+json": ""
     },
     "metadata": {
      "application/vnd.bokehjs_exec.v0+json": {
       "id": "3347"
      }
     },
     "output_type": "display_data"
    }
   ],
   "source": [
    "data = w.reset_index(name='count').rename(columns={'index':'Is_Open'})\n",
    "data['angle'] = data['count']/sum(w.values) * 2*pi\n",
    "data['color'] = ['violet', 'gray']\n",
    "data['percentage'] = data['count']/sum(w.values) * 100\n",
    "\n",
    "\n",
    "\n",
    "p = figure(plot_height=350, title=\"Stores Availability on Saturdays (in %)\", toolbar_location='right')\n",
    "\n",
    "hover = HoverTool(tooltips = [('Is Open','@Is_Open'),('How Many','@count'), ('Percentage','@percentage')])\n",
    "p.add_tools(hover)\n",
    "\n",
    "p.title.align = \"center\"\n",
    "p.title.text_font_size = \"20px\"\n",
    "\n",
    "p.wedge(x=0, y=1, radius=0.4, source = data,start_angle=cumsum('angle', include_zero=True), end_angle=cumsum('angle'),\n",
    "        line_color=\"white\", legend='Is_Open', fill_color='color')\n",
    "\n",
    "data = x.reset_index(name='count').rename(columns={'index':'Is_Open'})\n",
    "data['angle'] = data['count']/sum(x.values) * 2*pi\n",
    "data['color'] = ['green', 'olive']\n",
    "data['percentage'] = data['count']/sum(x.values) * 100\n",
    "\n",
    "pc = figure(plot_height=350, title=\"Stores Availability on Sundays (in %)\", toolbar_location='right')\n",
    "pc.wedge(x=0, y=1, radius=0.4, source = data,start_angle=cumsum('angle', include_zero=True), end_angle=cumsum('angle'),\n",
    "        line_color=\"white\", legend='Is_Open', fill_color='color')\n",
    "\n",
    "hover = HoverTool(tooltips = [('Is Open','@Is_Open'),('How Many','@count'), ('Percentage','@percentage')])\n",
    "pc.add_tools(hover)\n",
    "\n",
    "pc.title.align = \"center\"\n",
    "pc.title.text_font_size = \"20px\"\n",
    "\n",
    "p.axis.axis_label=None\n",
    "p.axis.visible=False\n",
    "p.grid.grid_line_color = None\n",
    "\n",
    "pc.axis.axis_label=None\n",
    "pc.axis.visible=False\n",
    "pc.grid.grid_line_color = None\n",
    "\n",
    "\n",
    "f = row(p,pc)\n",
    "show(f)"
   ]
  },
  {
   "cell_type": "markdown",
   "metadata": {},
   "source": [
    "### Question 8"
   ]
  },
  {
   "cell_type": "code",
   "execution_count": null,
   "metadata": {},
   "outputs": [],
   "source": [
    "data"
   ]
  },
  {
   "cell_type": "code",
   "execution_count": null,
   "metadata": {},
   "outputs": [],
   "source": [
    "mask2 = c[\"ThruTime.MF\"]== dt.time(23)\n",
    "\n",
    "eleven_pm_stores = c[mask2][\"Store Name\"].to_list()"
   ]
  },
  {
   "cell_type": "code",
   "execution_count": null,
   "metadata": {},
   "outputs": [],
   "source": [
    "eleven_pm_stores"
   ]
  },
  {
   "cell_type": "markdown",
   "metadata": {},
   "source": [
    "### Question 9"
   ]
  },
  {
   "cell_type": "code",
   "execution_count": null,
   "metadata": {},
   "outputs": [],
   "source": [
    "# list of stores remodelled and remodel date\n",
    "\n",
    "mask1 = c[\"LocationMilestones.LastRemodelDate\"].notnull()\n",
    "\n",
    "# list of stores that were remodeled\n",
    "store_names = c[mask1][\"Store Name\"].to_list()\n",
    "\n",
    "# list of store remodel dates\n",
    "remodel_dates = c[mask1][\"LocationMilestones.LastRemodelDate\"].to_list()"
   ]
  },
  {
   "cell_type": "code",
   "execution_count": null,
   "metadata": {},
   "outputs": [],
   "source": [
    "remodeled_stores = {}\n",
    "\n",
    "for i,j in zip(store_names, remodel_dates):\n",
    "    remodeled_stores[i] = j\n",
    "    "
   ]
  },
  {
   "cell_type": "code",
   "execution_count": null,
   "metadata": {},
   "outputs": [],
   "source": [
    "remodeled_stores"
   ]
  },
  {
   "cell_type": "markdown",
   "metadata": {},
   "source": [
    "### Question 10"
   ]
  },
  {
   "cell_type": "code",
   "execution_count": null,
   "metadata": {},
   "outputs": [],
   "source": [
    "# Grouping the dataframe by Address City\n",
    "\n",
    "d = c.groupby(\"Address.City\")"
   ]
  },
  {
   "cell_type": "code",
   "execution_count": null,
   "metadata": {},
   "outputs": [],
   "source": [
    "# Count of occurence\n",
    "d.size()"
   ]
  },
  {
   "cell_type": "markdown",
   "metadata": {},
   "source": [
    "### Question 11"
   ]
  },
  {
   "cell_type": "code",
   "execution_count": null,
   "metadata": {},
   "outputs": [],
   "source": [
    "time_range = pd.date_range('2018-01-01', periods=10, freq='YS')"
   ]
  },
  {
   "cell_type": "code",
   "execution_count": null,
   "metadata": {},
   "outputs": [],
   "source": [
    "time_series = pd.Series(time_range)"
   ]
  },
  {
   "cell_type": "code",
   "execution_count": null,
   "metadata": {},
   "outputs": [],
   "source": [
    "time_series"
   ]
  },
  {
   "cell_type": "code",
   "execution_count": null,
   "metadata": {},
   "outputs": [],
   "source": [
    "c.head()"
   ]
  },
  {
   "cell_type": "code",
   "execution_count": null,
   "metadata": {},
   "outputs": [],
   "source": []
  },
  {
   "cell_type": "code",
   "execution_count": null,
   "metadata": {},
   "outputs": [],
   "source": []
  },
  {
   "cell_type": "code",
   "execution_count": null,
   "metadata": {},
   "outputs": [],
   "source": []
  },
  {
   "cell_type": "code",
   "execution_count": null,
   "metadata": {},
   "outputs": [],
   "source": []
  },
  {
   "cell_type": "code",
   "execution_count": null,
   "metadata": {},
   "outputs": [],
   "source": []
  },
  {
   "cell_type": "code",
   "execution_count": null,
   "metadata": {},
   "outputs": [],
   "source": []
  },
  {
   "cell_type": "code",
   "execution_count": null,
   "metadata": {},
   "outputs": [],
   "source": []
  }
 ],
 "metadata": {
  "kernelspec": {
   "display_name": "Python 3",
   "language": "python",
   "name": "python3"
  },
  "language_info": {
   "codemirror_mode": {
    "name": "ipython",
    "version": 3
   },
   "file_extension": ".py",
   "mimetype": "text/x-python",
   "name": "python",
   "nbconvert_exporter": "python",
   "pygments_lexer": "ipython3",
   "version": "3.6.5"
  }
 },
 "nbformat": 4,
 "nbformat_minor": 2
}
