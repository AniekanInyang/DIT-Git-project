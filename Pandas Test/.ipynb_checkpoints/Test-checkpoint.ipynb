{
 "cells": [
  {
   "cell_type": "markdown",
   "metadata": {},
   "source": [
    "# Qusetion 1"
   ]
  },
  {
   "cell_type": "code",
   "execution_count": 16,
   "metadata": {},
   "outputs": [
    {
     "data": {
      "text/plain": [
       "'0.23.0'"
      ]
     },
     "execution_count": 16,
     "metadata": {},
     "output_type": "execute_result"
    }
   ],
   "source": [
    "import pandas as pd\n",
    "pd.__version__"
   ]
  },
  {
   "cell_type": "markdown",
   "metadata": {},
   "source": [
    "# Question 2"
   ]
  },
  {
   "cell_type": "code",
   "execution_count": 62,
   "metadata": {},
   "outputs": [
    {
     "data": {
      "text/html": [
       "<div>\n",
       "<style scoped>\n",
       "    .dataframe tbody tr th:only-of-type {\n",
       "        vertical-align: middle;\n",
       "    }\n",
       "\n",
       "    .dataframe tbody tr th {\n",
       "        vertical-align: top;\n",
       "    }\n",
       "\n",
       "    .dataframe thead th {\n",
       "        text-align: right;\n",
       "    }\n",
       "</style>\n",
       "<table border=\"1\" class=\"dataframe\">\n",
       "  <thead>\n",
       "    <tr style=\"text-align: right;\">\n",
       "      <th></th>\n",
       "      <th>Address.City</th>\n",
       "      <th>ID</th>\n",
       "      <th>LocationMilestones.LastRemodelDate</th>\n",
       "      <th>LocationMilestones.OpenDate</th>\n",
       "      <th>Name</th>\n",
       "      <th>Store.StoreDistrictID</th>\n",
       "      <th>TimeZone.TimeZoneCode</th>\n",
       "      <th>PhoneNumber</th>\n",
       "    </tr>\n",
       "  </thead>\n",
       "  <tbody>\n",
       "    <tr>\n",
       "      <th>0</th>\n",
       "      <td>Oxford</td>\n",
       "      <td>2153</td>\n",
       "      <td>NaN</td>\n",
       "      <td>2006-07-19T12:00:00</td>\n",
       "      <td>Oxford</td>\n",
       "      <td>340</td>\n",
       "      <td>CST</td>\n",
       "      <td>(256) 231-2900</td>\n",
       "    </tr>\n",
       "    <tr>\n",
       "      <th>1</th>\n",
       "      <td>Opelika</td>\n",
       "      <td>1499</td>\n",
       "      <td>NaN</td>\n",
       "      <td>2005-07-20T12:00:00</td>\n",
       "      <td>Opelika</td>\n",
       "      <td>340</td>\n",
       "      <td>CST</td>\n",
       "      <td>(334) 705-0152</td>\n",
       "    </tr>\n",
       "    <tr>\n",
       "      <th>2</th>\n",
       "      <td>Carrollton</td>\n",
       "      <td>1073</td>\n",
       "      <td>NaN</td>\n",
       "      <td>1997-07-23T12:00:00</td>\n",
       "      <td>Carrollton</td>\n",
       "      <td>336</td>\n",
       "      <td>EST</td>\n",
       "      <td>(770) 838-9221</td>\n",
       "    </tr>\n",
       "  </tbody>\n",
       "</table>\n",
       "</div>"
      ],
      "text/plain": [
       "  Address.City    ID LocationMilestones.LastRemodelDate  \\\n",
       "0       Oxford  2153                                NaN   \n",
       "1      Opelika  1499                                NaN   \n",
       "2   Carrollton  1073                                NaN   \n",
       "\n",
       "  LocationMilestones.OpenDate        Name  Store.StoreDistrictID  \\\n",
       "0         2006-07-19T12:00:00      Oxford                    340   \n",
       "1         2005-07-20T12:00:00     Opelika                    340   \n",
       "2         1997-07-23T12:00:00  Carrollton                    336   \n",
       "\n",
       "  TimeZone.TimeZoneCode     PhoneNumber  \n",
       "0                   CST  (256) 231-2900  \n",
       "1                   CST  (334) 705-0152  \n",
       "2                   EST  (770) 838-9221  "
      ]
     },
     "execution_count": 62,
     "metadata": {},
     "output_type": "execute_result"
    }
   ],
   "source": [
    "yet = pd.read_csv(\"Csv1.csv\")\n",
    "yet.head(3)"
   ]
  },
  {
   "cell_type": "code",
   "execution_count": 18,
   "metadata": {},
   "outputs": [
    {
     "data": {
      "text/html": [
       "<div>\n",
       "<style scoped>\n",
       "    .dataframe tbody tr th:only-of-type {\n",
       "        vertical-align: middle;\n",
       "    }\n",
       "\n",
       "    .dataframe tbody tr th {\n",
       "        vertical-align: top;\n",
       "    }\n",
       "\n",
       "    .dataframe thead th {\n",
       "        text-align: right;\n",
       "    }\n",
       "</style>\n",
       "<table border=\"1\" class=\"dataframe\">\n",
       "  <thead>\n",
       "    <tr style=\"text-align: right;\">\n",
       "      <th></th>\n",
       "      <th>Address.City</th>\n",
       "      <th>ID</th>\n",
       "      <th>Name</th>\n",
       "      <th>FaxNumber</th>\n",
       "      <th>BeginTime.MF</th>\n",
       "      <th>ThruTime.MF</th>\n",
       "      <th>IsOpen.Sat</th>\n",
       "      <th>IsOpen.Sun</th>\n",
       "    </tr>\n",
       "  </thead>\n",
       "  <tbody>\n",
       "    <tr>\n",
       "      <th>0</th>\n",
       "      <td>Oxford</td>\n",
       "      <td>2153</td>\n",
       "      <td>Oxford</td>\n",
       "      <td>(256) 231-2910</td>\n",
       "      <td>08:00:00</td>\n",
       "      <td>22:00:00</td>\n",
       "      <td>True</td>\n",
       "      <td>False</td>\n",
       "    </tr>\n",
       "    <tr>\n",
       "      <th>1</th>\n",
       "      <td>Opelika</td>\n",
       "      <td>1499</td>\n",
       "      <td>Opelika</td>\n",
       "      <td>(334) 363-3235</td>\n",
       "      <td>08:00:00</td>\n",
       "      <td>22:00:00</td>\n",
       "      <td>False</td>\n",
       "      <td>True</td>\n",
       "    </tr>\n",
       "    <tr>\n",
       "      <th>2</th>\n",
       "      <td>Carrollton</td>\n",
       "      <td>1073</td>\n",
       "      <td>Carrollton</td>\n",
       "      <td>(678) 664-3234</td>\n",
       "      <td>08:00:00</td>\n",
       "      <td>22:00:00</td>\n",
       "      <td>True</td>\n",
       "      <td>True</td>\n",
       "    </tr>\n",
       "  </tbody>\n",
       "</table>\n",
       "</div>"
      ],
      "text/plain": [
       "  Address.City    ID        Name       FaxNumber BeginTime.MF ThruTime.MF  \\\n",
       "0       Oxford  2153      Oxford  (256) 231-2910     08:00:00    22:00:00   \n",
       "1      Opelika  1499     Opelika  (334) 363-3235     08:00:00    22:00:00   \n",
       "2   Carrollton  1073  Carrollton  (678) 664-3234     08:00:00    22:00:00   \n",
       "\n",
       "   IsOpen.Sat  IsOpen.Sun  \n",
       "0        True       False  \n",
       "1       False        True  \n",
       "2        True        True  "
      ]
     },
     "execution_count": 18,
     "metadata": {},
     "output_type": "execute_result"
    }
   ],
   "source": [
    "again = pd.read_csv(\"Csv2.csv\")\n",
    "again.head(3)"
   ]
  },
  {
   "cell_type": "markdown",
   "metadata": {},
   "source": [
    "# Question 3"
   ]
  },
  {
   "cell_type": "code",
   "execution_count": 19,
   "metadata": {},
   "outputs": [
    {
     "data": {
      "text/html": [
       "<div>\n",
       "<style scoped>\n",
       "    .dataframe tbody tr th:only-of-type {\n",
       "        vertical-align: middle;\n",
       "    }\n",
       "\n",
       "    .dataframe tbody tr th {\n",
       "        vertical-align: top;\n",
       "    }\n",
       "\n",
       "    .dataframe thead th {\n",
       "        text-align: right;\n",
       "    }\n",
       "</style>\n",
       "<table border=\"1\" class=\"dataframe\">\n",
       "  <thead>\n",
       "    <tr style=\"text-align: right;\">\n",
       "      <th></th>\n",
       "      <th>Address.City-1st</th>\n",
       "      <th>ID</th>\n",
       "      <th>LocationMilestones.LastRemodelDate</th>\n",
       "      <th>LocationMilestones.OpenDate</th>\n",
       "      <th>Name-1st</th>\n",
       "      <th>Store.StoreDistrictID</th>\n",
       "      <th>TimeZone.TimeZoneCode</th>\n",
       "      <th>PhoneNumber</th>\n",
       "      <th>Address.City-2nd</th>\n",
       "      <th>Name-2nd</th>\n",
       "      <th>FaxNumber</th>\n",
       "      <th>BeginTime.MF</th>\n",
       "      <th>ThruTime.MF</th>\n",
       "      <th>IsOpen.Sat</th>\n",
       "      <th>IsOpen.Sun</th>\n",
       "    </tr>\n",
       "  </thead>\n",
       "  <tbody>\n",
       "    <tr>\n",
       "      <th>0</th>\n",
       "      <td>Oxford</td>\n",
       "      <td>2153</td>\n",
       "      <td>NaN</td>\n",
       "      <td>2006-07-19T12:00:00</td>\n",
       "      <td>Oxford</td>\n",
       "      <td>340</td>\n",
       "      <td>CST</td>\n",
       "      <td>(256) 231-2900</td>\n",
       "      <td>Oxford</td>\n",
       "      <td>Oxford</td>\n",
       "      <td>(256) 231-2910</td>\n",
       "      <td>08:00:00</td>\n",
       "      <td>22:00:00</td>\n",
       "      <td>True</td>\n",
       "      <td>False</td>\n",
       "    </tr>\n",
       "    <tr>\n",
       "      <th>1</th>\n",
       "      <td>Opelika</td>\n",
       "      <td>1499</td>\n",
       "      <td>NaN</td>\n",
       "      <td>2005-07-20T12:00:00</td>\n",
       "      <td>Opelika</td>\n",
       "      <td>340</td>\n",
       "      <td>CST</td>\n",
       "      <td>(334) 705-0152</td>\n",
       "      <td>Opelika</td>\n",
       "      <td>Opelika</td>\n",
       "      <td>(334) 363-3235</td>\n",
       "      <td>08:00:00</td>\n",
       "      <td>22:00:00</td>\n",
       "      <td>False</td>\n",
       "      <td>True</td>\n",
       "    </tr>\n",
       "    <tr>\n",
       "      <th>2</th>\n",
       "      <td>Carrollton</td>\n",
       "      <td>1073</td>\n",
       "      <td>NaN</td>\n",
       "      <td>1997-07-23T12:00:00</td>\n",
       "      <td>Carrollton</td>\n",
       "      <td>336</td>\n",
       "      <td>EST</td>\n",
       "      <td>(770) 838-9221</td>\n",
       "      <td>Carrollton</td>\n",
       "      <td>Carrollton</td>\n",
       "      <td>(678) 664-3234</td>\n",
       "      <td>08:00:00</td>\n",
       "      <td>22:00:00</td>\n",
       "      <td>True</td>\n",
       "      <td>True</td>\n",
       "    </tr>\n",
       "  </tbody>\n",
       "</table>\n",
       "</div>"
      ],
      "text/plain": [
       "  Address.City-1st    ID LocationMilestones.LastRemodelDate  \\\n",
       "0           Oxford  2153                                NaN   \n",
       "1          Opelika  1499                                NaN   \n",
       "2       Carrollton  1073                                NaN   \n",
       "\n",
       "  LocationMilestones.OpenDate    Name-1st  Store.StoreDistrictID  \\\n",
       "0         2006-07-19T12:00:00      Oxford                    340   \n",
       "1         2005-07-20T12:00:00     Opelika                    340   \n",
       "2         1997-07-23T12:00:00  Carrollton                    336   \n",
       "\n",
       "  TimeZone.TimeZoneCode     PhoneNumber Address.City-2nd    Name-2nd  \\\n",
       "0                   CST  (256) 231-2900           Oxford      Oxford   \n",
       "1                   CST  (334) 705-0152          Opelika     Opelika   \n",
       "2                   EST  (770) 838-9221       Carrollton  Carrollton   \n",
       "\n",
       "        FaxNumber BeginTime.MF ThruTime.MF  IsOpen.Sat  IsOpen.Sun  \n",
       "0  (256) 231-2910     08:00:00    22:00:00        True       False  \n",
       "1  (334) 363-3235     08:00:00    22:00:00       False        True  \n",
       "2  (678) 664-3234     08:00:00    22:00:00        True        True  "
      ]
     },
     "execution_count": 19,
     "metadata": {},
     "output_type": "execute_result"
    }
   ],
   "source": [
    "result = yet.merge(again, on = \"ID\", how = \"inner\", suffixes = [ \"-1st\", \"-2nd\"])\n",
    "result.head(3)"
   ]
  },
  {
   "cell_type": "markdown",
   "metadata": {},
   "source": [
    "# Question 4"
   ]
  },
  {
   "cell_type": "code",
   "execution_count": 20,
   "metadata": {},
   "outputs": [
    {
     "name": "stdout",
     "output_type": "stream",
     "text": [
      "<class 'pandas.core.frame.DataFrame'>\n",
      "Int64Index: 108 entries, 0 to 107\n",
      "Data columns (total 15 columns):\n",
      "Address.City-1st                      108 non-null object\n",
      "ID                                    108 non-null int64\n",
      "LocationMilestones.LastRemodelDate    73 non-null object\n",
      "LocationMilestones.OpenDate           108 non-null object\n",
      "Name-1st                              108 non-null object\n",
      "Store.StoreDistrictID                 108 non-null int64\n",
      "TimeZone.TimeZoneCode                 108 non-null object\n",
      "PhoneNumber                           108 non-null object\n",
      "Address.City-2nd                      108 non-null object\n",
      "Name-2nd                              108 non-null object\n",
      "FaxNumber                             103 non-null object\n",
      "BeginTime.MF                          108 non-null object\n",
      "ThruTime.MF                           108 non-null object\n",
      "IsOpen.Sat                            108 non-null bool\n",
      "IsOpen.Sun                            108 non-null bool\n",
      "dtypes: bool(2), int64(2), object(11)\n",
      "memory usage: 12.0+ KB\n"
     ]
    }
   ],
   "source": [
    "result.info()"
   ]
  },
  {
   "cell_type": "code",
   "execution_count": 30,
   "metadata": {},
   "outputs": [
    {
     "data": {
      "text/plain": [
       "Index(['Address.City_x', 'ID', 'LocationMilestones.LastRemodelDate',\n",
       "       'LocationMilestones.OpenDate', 'Name_x', 'Store.StoreDistrictID',\n",
       "       'TimeZone.TimeZoneCode', 'PhoneNumber', 'Address.City_y', 'Name_y',\n",
       "       'FaxNumber', 'BeginTime.MF', 'ThruTime.MF', 'IsOpen.Sat', 'IsOpen.Sun'],\n",
       "      dtype='object')"
      ]
     },
     "execution_count": 30,
     "metadata": {},
     "output_type": "execute_result"
    }
   ],
   "source": [
    "result.columns"
   ]
  },
  {
   "cell_type": "code",
   "execution_count": 75,
   "metadata": {},
   "outputs": [
    {
     "data": {
      "text/plain": [
       "(108, 15)"
      ]
     },
     "execution_count": 75,
     "metadata": {},
     "output_type": "execute_result"
    }
   ],
   "source": [
    "result.shape"
   ]
  },
  {
   "cell_type": "code",
   "execution_count": 132,
   "metadata": {},
   "outputs": [
    {
     "name": "stderr",
     "output_type": "stream",
     "text": [
      "C:\\Users\\Maxwell\\Anaconda3\\lib\\site-packages\\ipykernel_launcher.py:1: FutureWarning: Method .as_matrix will be removed in a future version. Use .values instead.\n",
      "  \"\"\"Entry point for launching an IPython kernel.\n",
      "C:\\Users\\Maxwell\\Anaconda3\\lib\\site-packages\\ipykernel_launcher.py:3: FutureWarning: Method .as_matrix will be removed in a future version. Use .values instead.\n",
      "  This is separate from the ipykernel package so we can avoid doing imports until\n"
     ]
    },
    {
     "data": {
      "text/plain": [
       "array([['Oxford', 2153, nan, ..., '22:00:00', True, False],\n",
       "       ['Opelika', 1499, nan, ..., '22:00:00', False, True],\n",
       "       ['Carrollton', 1073, nan, ..., '22:00:00', True, True],\n",
       "       ...,\n",
       "       ['Arden', 2011, '2012-06-21T12:00:00', ..., '22:00:00', True,\n",
       "        False],\n",
       "       ['Spartanburg', 1349, '2012-06-21T12:00:00', ..., '22:00:00',\n",
       "        True, True],\n",
       "       ['Asheville', 1807, '2012-03-22T12:00:00', ..., '23:00:00', True,\n",
       "        True]], dtype=object)"
      ]
     },
     "execution_count": 132,
     "metadata": {},
     "output_type": "execute_result"
    }
   ],
   "source": [
    "X=result.as_matrix(columns=[result[1:]])\n",
    "result.columns[1:]\n",
    "result.as_matrix(columns=result.columns)"
   ]
  },
  {
   "cell_type": "code",
   "execution_count": null,
   "metadata": {},
   "outputs": [],
   "source": []
  },
  {
   "cell_type": "code",
   "execution_count": 15,
   "metadata": {},
   "outputs": [
    {
     "data": {
      "text/plain": [
       "pandas.core.frame.DataFrame"
      ]
     },
     "execution_count": 15,
     "metadata": {},
     "output_type": "execute_result"
    }
   ],
   "source": [
    "type(result)"
   ]
  },
  {
   "cell_type": "markdown",
   "metadata": {},
   "source": [
    "# Question 5"
   ]
  },
  {
   "cell_type": "code",
   "execution_count": 154,
   "metadata": {},
   "outputs": [
    {
     "data": {
      "text/html": [
       "<div>\n",
       "<style scoped>\n",
       "    .dataframe tbody tr th:only-of-type {\n",
       "        vertical-align: middle;\n",
       "    }\n",
       "\n",
       "    .dataframe tbody tr th {\n",
       "        vertical-align: top;\n",
       "    }\n",
       "\n",
       "    .dataframe thead th {\n",
       "        text-align: right;\n",
       "    }\n",
       "</style>\n",
       "<table border=\"1\" class=\"dataframe\">\n",
       "  <thead>\n",
       "    <tr style=\"text-align: right;\">\n",
       "      <th></th>\n",
       "      <th>Address.City</th>\n",
       "      <th>ID</th>\n",
       "      <th>LocationMilestones.LastRemodelDate</th>\n",
       "      <th>LocationMilestones.OpenDate</th>\n",
       "      <th>Store Name</th>\n",
       "      <th>Store.StoreDistrictID</th>\n",
       "      <th>TimeZone.TimeZoneCode</th>\n",
       "      <th>PhoneNumber</th>\n",
       "    </tr>\n",
       "  </thead>\n",
       "  <tbody>\n",
       "    <tr>\n",
       "      <th>0</th>\n",
       "      <td>Oxford</td>\n",
       "      <td>2153</td>\n",
       "      <td>NaN</td>\n",
       "      <td>2006-07-19T12:00:00</td>\n",
       "      <td>Oxford</td>\n",
       "      <td>340</td>\n",
       "      <td>CST</td>\n",
       "      <td>(256) 231-2900</td>\n",
       "    </tr>\n",
       "    <tr>\n",
       "      <th>1</th>\n",
       "      <td>Opelika</td>\n",
       "      <td>1499</td>\n",
       "      <td>NaN</td>\n",
       "      <td>2005-07-20T12:00:00</td>\n",
       "      <td>Opelika</td>\n",
       "      <td>340</td>\n",
       "      <td>CST</td>\n",
       "      <td>(334) 705-0152</td>\n",
       "    </tr>\n",
       "    <tr>\n",
       "      <th>2</th>\n",
       "      <td>Carrollton</td>\n",
       "      <td>1073</td>\n",
       "      <td>NaN</td>\n",
       "      <td>1997-07-23T12:00:00</td>\n",
       "      <td>Carrollton</td>\n",
       "      <td>336</td>\n",
       "      <td>EST</td>\n",
       "      <td>(770) 838-9221</td>\n",
       "    </tr>\n",
       "  </tbody>\n",
       "</table>\n",
       "</div>"
      ],
      "text/plain": [
       "  Address.City    ID LocationMilestones.LastRemodelDate  \\\n",
       "0       Oxford  2153                                NaN   \n",
       "1      Opelika  1499                                NaN   \n",
       "2   Carrollton  1073                                NaN   \n",
       "\n",
       "  LocationMilestones.OpenDate  Store Name  Store.StoreDistrictID  \\\n",
       "0         2006-07-19T12:00:00      Oxford                    340   \n",
       "1         2005-07-20T12:00:00     Opelika                    340   \n",
       "2         1997-07-23T12:00:00  Carrollton                    336   \n",
       "\n",
       "  TimeZone.TimeZoneCode     PhoneNumber  \n",
       "0                   CST  (256) 231-2900  \n",
       "1                   CST  (334) 705-0152  \n",
       "2                   EST  (770) 838-9221  "
      ]
     },
     "execution_count": 154,
     "metadata": {},
     "output_type": "execute_result"
    }
   ],
   "source": [
    "first_data = yet.rename(columns = {\"Name\":\"Store Name\"}, inplace = True)\n",
    "yet.head(3)"
   ]
  },
  {
   "cell_type": "code",
   "execution_count": 155,
   "metadata": {},
   "outputs": [
    {
     "data": {
      "text/html": [
       "<div>\n",
       "<style scoped>\n",
       "    .dataframe tbody tr th:only-of-type {\n",
       "        vertical-align: middle;\n",
       "    }\n",
       "\n",
       "    .dataframe tbody tr th {\n",
       "        vertical-align: top;\n",
       "    }\n",
       "\n",
       "    .dataframe thead th {\n",
       "        text-align: right;\n",
       "    }\n",
       "</style>\n",
       "<table border=\"1\" class=\"dataframe\">\n",
       "  <thead>\n",
       "    <tr style=\"text-align: right;\">\n",
       "      <th></th>\n",
       "      <th>Address.City</th>\n",
       "      <th>ID</th>\n",
       "      <th>Store Name</th>\n",
       "      <th>FaxNumber</th>\n",
       "      <th>BeginTime.MF</th>\n",
       "      <th>ThruTime.MF</th>\n",
       "      <th>IsOpen.Sat</th>\n",
       "      <th>IsOpen.Sun</th>\n",
       "    </tr>\n",
       "  </thead>\n",
       "  <tbody>\n",
       "    <tr>\n",
       "      <th>0</th>\n",
       "      <td>Oxford</td>\n",
       "      <td>2153</td>\n",
       "      <td>Oxford</td>\n",
       "      <td>(256) 231-2910</td>\n",
       "      <td>08:00:00</td>\n",
       "      <td>22:00:00</td>\n",
       "      <td>True</td>\n",
       "      <td>False</td>\n",
       "    </tr>\n",
       "    <tr>\n",
       "      <th>1</th>\n",
       "      <td>Opelika</td>\n",
       "      <td>1499</td>\n",
       "      <td>Opelika</td>\n",
       "      <td>(334) 363-3235</td>\n",
       "      <td>08:00:00</td>\n",
       "      <td>22:00:00</td>\n",
       "      <td>False</td>\n",
       "      <td>True</td>\n",
       "    </tr>\n",
       "    <tr>\n",
       "      <th>2</th>\n",
       "      <td>Carrollton</td>\n",
       "      <td>1073</td>\n",
       "      <td>Carrollton</td>\n",
       "      <td>(678) 664-3234</td>\n",
       "      <td>08:00:00</td>\n",
       "      <td>22:00:00</td>\n",
       "      <td>True</td>\n",
       "      <td>True</td>\n",
       "    </tr>\n",
       "  </tbody>\n",
       "</table>\n",
       "</div>"
      ],
      "text/plain": [
       "  Address.City    ID  Store Name       FaxNumber BeginTime.MF ThruTime.MF  \\\n",
       "0       Oxford  2153      Oxford  (256) 231-2910     08:00:00    22:00:00   \n",
       "1      Opelika  1499     Opelika  (334) 363-3235     08:00:00    22:00:00   \n",
       "2   Carrollton  1073  Carrollton  (678) 664-3234     08:00:00    22:00:00   \n",
       "\n",
       "   IsOpen.Sat  IsOpen.Sun  \n",
       "0        True       False  \n",
       "1       False        True  \n",
       "2        True        True  "
      ]
     },
     "execution_count": 155,
     "metadata": {},
     "output_type": "execute_result"
    }
   ],
   "source": [
    "second_data = again.rename(columns = {\"Name\":\"Store Name\"}, inplace = True)\n",
    "again.head(3)"
   ]
  },
  {
   "cell_type": "markdown",
   "metadata": {},
   "source": [
    "# Question 6"
   ]
  },
  {
   "cell_type": "code",
   "execution_count": 157,
   "metadata": {},
   "outputs": [
    {
     "data": {
      "text/html": [
       "<div>\n",
       "<style scoped>\n",
       "    .dataframe tbody tr th:only-of-type {\n",
       "        vertical-align: middle;\n",
       "    }\n",
       "\n",
       "    .dataframe tbody tr th {\n",
       "        vertical-align: top;\n",
       "    }\n",
       "\n",
       "    .dataframe thead th {\n",
       "        text-align: right;\n",
       "    }\n",
       "</style>\n",
       "<table border=\"1\" class=\"dataframe\">\n",
       "  <thead>\n",
       "    <tr style=\"text-align: right;\">\n",
       "      <th></th>\n",
       "      <th>Address.City</th>\n",
       "      <th>ID</th>\n",
       "      <th>LocationMilestones.LastRemodelDate</th>\n",
       "      <th>LocationMilestones.OpenDate</th>\n",
       "      <th>Store Name</th>\n",
       "      <th>Store.StoreDistrictID</th>\n",
       "      <th>TimeZone.TimeZoneCode</th>\n",
       "      <th>PhoneNumber</th>\n",
       "    </tr>\n",
       "  </thead>\n",
       "  <tbody>\n",
       "    <tr>\n",
       "      <th>0</th>\n",
       "      <td>False</td>\n",
       "      <td>False</td>\n",
       "      <td>True</td>\n",
       "      <td>False</td>\n",
       "      <td>False</td>\n",
       "      <td>False</td>\n",
       "      <td>False</td>\n",
       "      <td>False</td>\n",
       "    </tr>\n",
       "    <tr>\n",
       "      <th>1</th>\n",
       "      <td>False</td>\n",
       "      <td>False</td>\n",
       "      <td>True</td>\n",
       "      <td>False</td>\n",
       "      <td>False</td>\n",
       "      <td>False</td>\n",
       "      <td>False</td>\n",
       "      <td>False</td>\n",
       "    </tr>\n",
       "    <tr>\n",
       "      <th>2</th>\n",
       "      <td>False</td>\n",
       "      <td>False</td>\n",
       "      <td>True</td>\n",
       "      <td>False</td>\n",
       "      <td>False</td>\n",
       "      <td>False</td>\n",
       "      <td>False</td>\n",
       "      <td>False</td>\n",
       "    </tr>\n",
       "  </tbody>\n",
       "</table>\n",
       "</div>"
      ],
      "text/plain": [
       "   Address.City     ID  LocationMilestones.LastRemodelDate  \\\n",
       "0         False  False                                True   \n",
       "1         False  False                                True   \n",
       "2         False  False                                True   \n",
       "\n",
       "   LocationMilestones.OpenDate  Store Name  Store.StoreDistrictID  \\\n",
       "0                        False       False                  False   \n",
       "1                        False       False                  False   \n",
       "2                        False       False                  False   \n",
       "\n",
       "   TimeZone.TimeZoneCode  PhoneNumber  \n",
       "0                  False        False  \n",
       "1                  False        False  \n",
       "2                  False        False  "
      ]
     },
     "execution_count": 157,
     "metadata": {},
     "output_type": "execute_result"
    }
   ],
   "source": [
    "#this generally checks for null values across all rows and columns\n",
    "#if i had extracted a paticular row then i will have a dataframe \n",
    "null = yet.isnull()\n",
    "null.head(3)"
   ]
  },
  {
   "cell_type": "code",
   "execution_count": 158,
   "metadata": {},
   "outputs": [
    {
     "data": {
      "text/html": [
       "<div>\n",
       "<style scoped>\n",
       "    .dataframe tbody tr th:only-of-type {\n",
       "        vertical-align: middle;\n",
       "    }\n",
       "\n",
       "    .dataframe tbody tr th {\n",
       "        vertical-align: top;\n",
       "    }\n",
       "\n",
       "    .dataframe thead th {\n",
       "        text-align: right;\n",
       "    }\n",
       "</style>\n",
       "<table border=\"1\" class=\"dataframe\">\n",
       "  <thead>\n",
       "    <tr style=\"text-align: right;\">\n",
       "      <th></th>\n",
       "      <th>Address.City</th>\n",
       "      <th>ID</th>\n",
       "      <th>Store Name</th>\n",
       "      <th>FaxNumber</th>\n",
       "      <th>BeginTime.MF</th>\n",
       "      <th>ThruTime.MF</th>\n",
       "      <th>IsOpen.Sat</th>\n",
       "      <th>IsOpen.Sun</th>\n",
       "    </tr>\n",
       "  </thead>\n",
       "  <tbody>\n",
       "    <tr>\n",
       "      <th>112</th>\n",
       "      <td>False</td>\n",
       "      <td>False</td>\n",
       "      <td>False</td>\n",
       "      <td>False</td>\n",
       "      <td>False</td>\n",
       "      <td>False</td>\n",
       "      <td>False</td>\n",
       "      <td>False</td>\n",
       "    </tr>\n",
       "    <tr>\n",
       "      <th>113</th>\n",
       "      <td>False</td>\n",
       "      <td>False</td>\n",
       "      <td>False</td>\n",
       "      <td>False</td>\n",
       "      <td>False</td>\n",
       "      <td>False</td>\n",
       "      <td>False</td>\n",
       "      <td>False</td>\n",
       "    </tr>\n",
       "    <tr>\n",
       "      <th>114</th>\n",
       "      <td>False</td>\n",
       "      <td>False</td>\n",
       "      <td>False</td>\n",
       "      <td>False</td>\n",
       "      <td>False</td>\n",
       "      <td>False</td>\n",
       "      <td>False</td>\n",
       "      <td>False</td>\n",
       "    </tr>\n",
       "  </tbody>\n",
       "</table>\n",
       "</div>"
      ],
      "text/plain": [
       "     Address.City     ID  Store Name  FaxNumber  BeginTime.MF  ThruTime.MF  \\\n",
       "112         False  False       False      False         False        False   \n",
       "113         False  False       False      False         False        False   \n",
       "114         False  False       False      False         False        False   \n",
       "\n",
       "     IsOpen.Sat  IsOpen.Sun  \n",
       "112       False       False  \n",
       "113       False       False  \n",
       "114       False       False  "
      ]
     },
     "execution_count": 158,
     "metadata": {},
     "output_type": "execute_result"
    }
   ],
   "source": [
    "null = again.isnull()\n",
    "null.tail(3)\n",
    "# again[null]"
   ]
  },
  {
   "cell_type": "code",
   "execution_count": 72,
   "metadata": {},
   "outputs": [
    {
     "data": {
      "text/plain": [
       "ID    115\n",
       "dtype: int64"
      ]
     },
     "execution_count": 72,
     "metadata": {},
     "output_type": "execute_result"
    }
   ],
   "source": [
    "address = again[[ \"ID\" ]].isnull()\n",
    "address.head(3)\n",
    "address.count()"
   ]
  },
  {
   "cell_type": "code",
   "execution_count": 195,
   "metadata": {},
   "outputs": [
    {
     "data": {
      "text/html": [
       "<div>\n",
       "<style scoped>\n",
       "    .dataframe tbody tr th:only-of-type {\n",
       "        vertical-align: middle;\n",
       "    }\n",
       "\n",
       "    .dataframe tbody tr th {\n",
       "        vertical-align: top;\n",
       "    }\n",
       "\n",
       "    .dataframe thead th {\n",
       "        text-align: right;\n",
       "    }\n",
       "</style>\n",
       "<table border=\"1\" class=\"dataframe\">\n",
       "  <thead>\n",
       "    <tr style=\"text-align: right;\">\n",
       "      <th></th>\n",
       "      <th>Address.City-1st</th>\n",
       "      <th>ID</th>\n",
       "      <th>LocationMilestones.LastRemodelDate</th>\n",
       "      <th>LocationMilestones.OpenDate</th>\n",
       "      <th>Store Name-1st</th>\n",
       "      <th>Store.StoreDistrictID</th>\n",
       "      <th>TimeZone.TimeZoneCode</th>\n",
       "      <th>PhoneNumber</th>\n",
       "      <th>Address.City-2nd</th>\n",
       "      <th>Store Name-2nd</th>\n",
       "      <th>FaxNumber</th>\n",
       "      <th>BeginTime.MF</th>\n",
       "      <th>ThruTime.MF</th>\n",
       "      <th>IsOpen.Sat</th>\n",
       "      <th>IsOpen.Sun</th>\n",
       "    </tr>\n",
       "  </thead>\n",
       "  <tbody>\n",
       "    <tr>\n",
       "      <th>0</th>\n",
       "      <td>False</td>\n",
       "      <td>False</td>\n",
       "      <td>True</td>\n",
       "      <td>False</td>\n",
       "      <td>False</td>\n",
       "      <td>False</td>\n",
       "      <td>False</td>\n",
       "      <td>False</td>\n",
       "      <td>False</td>\n",
       "      <td>False</td>\n",
       "      <td>False</td>\n",
       "      <td>False</td>\n",
       "      <td>False</td>\n",
       "      <td>False</td>\n",
       "      <td>False</td>\n",
       "    </tr>\n",
       "    <tr>\n",
       "      <th>1</th>\n",
       "      <td>False</td>\n",
       "      <td>False</td>\n",
       "      <td>True</td>\n",
       "      <td>False</td>\n",
       "      <td>False</td>\n",
       "      <td>False</td>\n",
       "      <td>False</td>\n",
       "      <td>False</td>\n",
       "      <td>False</td>\n",
       "      <td>False</td>\n",
       "      <td>False</td>\n",
       "      <td>False</td>\n",
       "      <td>False</td>\n",
       "      <td>False</td>\n",
       "      <td>False</td>\n",
       "    </tr>\n",
       "    <tr>\n",
       "      <th>2</th>\n",
       "      <td>False</td>\n",
       "      <td>False</td>\n",
       "      <td>True</td>\n",
       "      <td>False</td>\n",
       "      <td>False</td>\n",
       "      <td>False</td>\n",
       "      <td>False</td>\n",
       "      <td>False</td>\n",
       "      <td>False</td>\n",
       "      <td>False</td>\n",
       "      <td>False</td>\n",
       "      <td>False</td>\n",
       "      <td>False</td>\n",
       "      <td>False</td>\n",
       "      <td>False</td>\n",
       "    </tr>\n",
       "  </tbody>\n",
       "</table>\n",
       "</div>"
      ],
      "text/plain": [
       "   Address.City-1st     ID  LocationMilestones.LastRemodelDate  \\\n",
       "0             False  False                                True   \n",
       "1             False  False                                True   \n",
       "2             False  False                                True   \n",
       "\n",
       "   LocationMilestones.OpenDate  Store Name-1st  Store.StoreDistrictID  \\\n",
       "0                        False           False                  False   \n",
       "1                        False           False                  False   \n",
       "2                        False           False                  False   \n",
       "\n",
       "   TimeZone.TimeZoneCode  PhoneNumber  Address.City-2nd  Store Name-2nd  \\\n",
       "0                  False        False             False           False   \n",
       "1                  False        False             False           False   \n",
       "2                  False        False             False           False   \n",
       "\n",
       "   FaxNumber  BeginTime.MF  ThruTime.MF  IsOpen.Sat  IsOpen.Sun  \n",
       "0      False         False        False       False       False  \n",
       "1      False         False        False       False       False  \n",
       "2      False         False        False       False       False  "
      ]
     },
     "execution_count": 195,
     "metadata": {},
     "output_type": "execute_result"
    }
   ],
   "source": [
    "null = result.isnull()\n",
    "null.head(3)"
   ]
  },
  {
   "cell_type": "code",
   "execution_count": 50,
   "metadata": {},
   "outputs": [
    {
     "data": {
      "text/plain": [
       "Address.City_x                        108\n",
       "ID                                    108\n",
       "LocationMilestones.LastRemodelDate    108\n",
       "LocationMilestones.OpenDate           108\n",
       "Name_x                                108\n",
       "Store.StoreDistrictID                 108\n",
       "TimeZone.TimeZoneCode                 108\n",
       "PhoneNumber                           108\n",
       "Address.City_y                        108\n",
       "Name_y                                108\n",
       "FaxNumber                             108\n",
       "BeginTime.MF                          108\n",
       "ThruTime.MF                           108\n",
       "IsOpen.Sat                            108\n",
       "IsOpen.Sun                            108\n",
       "dtype: int64"
      ]
     },
     "execution_count": 50,
     "metadata": {},
     "output_type": "execute_result"
    }
   ],
   "source": [
    "null.count()"
   ]
  },
  {
   "cell_type": "markdown",
   "metadata": {},
   "source": [
    "# Question 7"
   ]
  },
  {
   "cell_type": "code",
   "execution_count": 190,
   "metadata": {},
   "outputs": [
    {
     "data": {
      "text/html": [
       "<div>\n",
       "<style scoped>\n",
       "    .dataframe tbody tr th:only-of-type {\n",
       "        vertical-align: middle;\n",
       "    }\n",
       "\n",
       "    .dataframe tbody tr th {\n",
       "        vertical-align: top;\n",
       "    }\n",
       "\n",
       "    .dataframe thead th {\n",
       "        text-align: right;\n",
       "    }\n",
       "</style>\n",
       "<table border=\"1\" class=\"dataframe\">\n",
       "  <thead>\n",
       "    <tr style=\"text-align: right;\">\n",
       "      <th></th>\n",
       "      <th>Address.City</th>\n",
       "      <th>ID</th>\n",
       "      <th>Store Name</th>\n",
       "      <th>FaxNumber</th>\n",
       "      <th>BeginTime.MF</th>\n",
       "      <th>ThruTime.MF</th>\n",
       "      <th>IsOpen.Sat</th>\n",
       "      <th>IsOpen.Sun</th>\n",
       "    </tr>\n",
       "  </thead>\n",
       "  <tbody>\n",
       "    <tr>\n",
       "      <th>0</th>\n",
       "      <td>Oxford</td>\n",
       "      <td>2153</td>\n",
       "      <td>Oxford</td>\n",
       "      <td>(256) 231-2910</td>\n",
       "      <td>08:00:00</td>\n",
       "      <td>22:00:00</td>\n",
       "      <td>True</td>\n",
       "      <td>False</td>\n",
       "    </tr>\n",
       "    <tr>\n",
       "      <th>1</th>\n",
       "      <td>Opelika</td>\n",
       "      <td>1499</td>\n",
       "      <td>Opelika</td>\n",
       "      <td>(334) 363-3235</td>\n",
       "      <td>08:00:00</td>\n",
       "      <td>22:00:00</td>\n",
       "      <td>False</td>\n",
       "      <td>True</td>\n",
       "    </tr>\n",
       "    <tr>\n",
       "      <th>2</th>\n",
       "      <td>Carrollton</td>\n",
       "      <td>1073</td>\n",
       "      <td>Carrollton</td>\n",
       "      <td>(678) 664-3234</td>\n",
       "      <td>08:00:00</td>\n",
       "      <td>22:00:00</td>\n",
       "      <td>True</td>\n",
       "      <td>True</td>\n",
       "    </tr>\n",
       "  </tbody>\n",
       "</table>\n",
       "</div>"
      ],
      "text/plain": [
       "  Address.City    ID  Store Name       FaxNumber BeginTime.MF ThruTime.MF  \\\n",
       "0       Oxford  2153      Oxford  (256) 231-2910     08:00:00    22:00:00   \n",
       "1      Opelika  1499     Opelika  (334) 363-3235     08:00:00    22:00:00   \n",
       "2   Carrollton  1073  Carrollton  (678) 664-3234     08:00:00    22:00:00   \n",
       "\n",
       "   IsOpen.Sat  IsOpen.Sun  \n",
       "0        True       False  \n",
       "1       False        True  \n",
       "2        True        True  "
      ]
     },
     "execution_count": 190,
     "metadata": {},
     "output_type": "execute_result"
    }
   ],
   "source": [
    "#Using this data because it is the one that contains the needed datas\n",
    "again = pd.read_csv(\"Csv2.csv\")\n",
    "second_data = again.rename(columns = {\"Name\":\"Store Name\"}, inplace = True)\n",
    "again.head(3)"
   ]
  },
  {
   "cell_type": "code",
   "execution_count": 161,
   "metadata": {},
   "outputs": [
    {
     "data": {
      "text/html": [
       "<div>\n",
       "<style scoped>\n",
       "    .dataframe tbody tr th:only-of-type {\n",
       "        vertical-align: middle;\n",
       "    }\n",
       "\n",
       "    .dataframe tbody tr th {\n",
       "        vertical-align: top;\n",
       "    }\n",
       "\n",
       "    .dataframe thead th {\n",
       "        text-align: right;\n",
       "    }\n",
       "</style>\n",
       "<table border=\"1\" class=\"dataframe\">\n",
       "  <thead>\n",
       "    <tr style=\"text-align: right;\">\n",
       "      <th></th>\n",
       "      <th>IsOpen.Sat</th>\n",
       "      <th>IsOpen.Sun</th>\n",
       "    </tr>\n",
       "  </thead>\n",
       "  <tbody>\n",
       "    <tr>\n",
       "      <th>0</th>\n",
       "      <td>True</td>\n",
       "      <td>False</td>\n",
       "    </tr>\n",
       "    <tr>\n",
       "      <th>1</th>\n",
       "      <td>False</td>\n",
       "      <td>True</td>\n",
       "    </tr>\n",
       "    <tr>\n",
       "      <th>2</th>\n",
       "      <td>True</td>\n",
       "      <td>True</td>\n",
       "    </tr>\n",
       "  </tbody>\n",
       "</table>\n",
       "</div>"
      ],
      "text/plain": [
       "   IsOpen.Sat  IsOpen.Sun\n",
       "0        True       False\n",
       "1       False        True\n",
       "2        True        True"
      ]
     },
     "execution_count": 161,
     "metadata": {},
     "output_type": "execute_result"
    }
   ],
   "source": [
    "response = again[[\"IsOpen.Sat\", \"IsOpen.Sun\"]]\n",
    "response.head(3)"
   ]
  },
  {
   "cell_type": "code",
   "execution_count": 162,
   "metadata": {},
   "outputs": [
    {
     "data": {
      "text/plain": [
       "True     107\n",
       "False      8\n",
       "Name: IsOpen.Sat, dtype: int64"
      ]
     },
     "execution_count": 162,
     "metadata": {},
     "output_type": "execute_result"
    }
   ],
   "source": [
    "#focus point \"IsOpen.Sat\" which returns true\n",
    "# booleantrue = response[response[\"IsOpen.Sat\"]]\n",
    "# booleantrue.head(5)\n",
    "response[\"IsOpen.Sat\"].value_counts()"
   ]
  },
  {
   "cell_type": "code",
   "execution_count": 166,
   "metadata": {},
   "outputs": [],
   "source": [
    "#this alraedy retuens true\n",
    "# booleantrue = response[response[\"IsOpen.Sat\"]].count()\n",
    "# booleantrue\n",
    "#this alraedy retuens true\n",
    "# booleansun = response[response[\"IsOpen.Sun\"]].count\n",
    "# booleansun\n"
   ]
  },
  {
   "cell_type": "code",
   "execution_count": 164,
   "metadata": {},
   "outputs": [
    {
     "data": {
      "text/plain": [
       "True     90\n",
       "False    25\n",
       "Name: IsOpen.Sun, dtype: int64"
      ]
     },
     "execution_count": 164,
     "metadata": {},
     "output_type": "execute_result"
    }
   ],
   "source": [
    "#this already returns true, focus point sun\n",
    "response[\"IsOpen.Sun\"].value_counts()"
   ]
  },
  {
   "cell_type": "code",
   "execution_count": 104,
   "metadata": {},
   "outputs": [
    {
     "name": "stderr",
     "output_type": "stream",
     "text": [
      "C:\\Users\\Maxwell\\Anaconda3\\lib\\site-packages\\ipykernel_launcher.py:14: SettingWithCopyWarning: \n",
      "A value is trying to be set on a copy of a slice from a DataFrame\n",
      "\n",
      "See the caveats in the documentation: http://pandas.pydata.org/pandas-docs/stable/indexing.html#indexing-view-versus-copy\n",
      "  \n"
     ]
    }
   ],
   "source": [
    "from collections import Counter\n",
    "from bokeh.palettes import Category20c\n",
    "from ipykernel import kernelapp as app\n",
    "from bokeh.plotting import figure, output_file, show\n",
    "from bokeh.models import Range1d, PanTool, ResetTool, HoverTool\n",
    "\n",
    "x = Counter({'Saturday True': 90, 'Saturday False': 25, 'Sunday True': 107, 'Sunday False': 8 })\n",
    "\n",
    "x = pd.DataFrame.from_dict(dict(x), orient='index').reset_index().rename(index=str, \\\n",
    "                                                                         columns={0:'value', 'index':'weekend_stats'})\n",
    "x['val'] = x['value']\n",
    "x['value'] = x['value']/x['value'].sum()*360.0\n",
    "x['end']=x['value'].expanding(1).sum()\n",
    "x['start'] = x['end'].shift(1)\n",
    "x['start'][0]=0\n",
    "r=[]\n",
    "p = figure(plot_height=350, title=\"Weekend Graphical Statistics\", toolbar_location=None, tools=\"\")\n",
    "for i in range(len(x)):\n",
    "    r1 = p.wedge(x=0, y=1, radius=0.5,start_angle=x.iloc[i]['start'], end_angle=x.iloc[i]['end'],\\\n",
    "               start_angle_units='deg', end_angle_units = 'deg', fill_color=Category20c[20][i],\\\n",
    "                legend = x.iloc[i]['weekend_stats'])\n",
    "    Weekend_Stats = x.iloc[i]['weekend_stats']\n",
    "    Value = x.iloc[i]['val']\n",
    "    hover = HoverTool(tooltips=[\n",
    "        (\"Weekend_Stats\", \"%s\" %Weekend_Stats),\n",
    "        (\"Value\", \"%s\" %Value)\n",
    "    ], renderers=[r1])\n",
    "    p.add_tools(hover)\n",
    "\n",
    "#Style axis\n",
    "p.xaxis.axis_label = \"X-axis\"\n",
    "p.yaxis.axis_label = \"Y-axis\"\n",
    "\n",
    "#Style the plot area\n",
    "p.plot_width=900\n",
    "p.plot_height=580\n",
    "p.background_fill_color=\"#FFA500\"\n",
    "p.background_fill_alpha=0.5\n",
    "\n",
    "#Style the tools\n",
    "\n",
    "p.toolbar_location = 'right'\n",
    "# p.toolbar.logo = None\n",
    "    \n",
    "\n",
    "output_file(\"update.html\")\n",
    "show(p)"
   ]
  },
  {
   "cell_type": "markdown",
   "metadata": {},
   "source": [
    "# Question 8"
   ]
  },
  {
   "cell_type": "code",
   "execution_count": 5,
   "metadata": {},
   "outputs": [
    {
     "data": {
      "text/html": [
       "<div>\n",
       "<style scoped>\n",
       "    .dataframe tbody tr th:only-of-type {\n",
       "        vertical-align: middle;\n",
       "    }\n",
       "\n",
       "    .dataframe tbody tr th {\n",
       "        vertical-align: top;\n",
       "    }\n",
       "\n",
       "    .dataframe thead th {\n",
       "        text-align: right;\n",
       "    }\n",
       "</style>\n",
       "<table border=\"1\" class=\"dataframe\">\n",
       "  <thead>\n",
       "    <tr style=\"text-align: right;\">\n",
       "      <th></th>\n",
       "      <th>Address.City</th>\n",
       "      <th>ID</th>\n",
       "      <th>Store Name</th>\n",
       "      <th>FaxNumber</th>\n",
       "      <th>BeginTime.MF</th>\n",
       "      <th>ThruTime.MF</th>\n",
       "      <th>IsOpen.Sat</th>\n",
       "      <th>IsOpen.Sun</th>\n",
       "    </tr>\n",
       "  </thead>\n",
       "  <tbody>\n",
       "    <tr>\n",
       "      <th>0</th>\n",
       "      <td>Oxford</td>\n",
       "      <td>2153</td>\n",
       "      <td>Oxford</td>\n",
       "      <td>(256) 231-2910</td>\n",
       "      <td>08:00:00</td>\n",
       "      <td>22:00:00</td>\n",
       "      <td>True</td>\n",
       "      <td>False</td>\n",
       "    </tr>\n",
       "    <tr>\n",
       "      <th>1</th>\n",
       "      <td>Opelika</td>\n",
       "      <td>1499</td>\n",
       "      <td>Opelika</td>\n",
       "      <td>(334) 363-3235</td>\n",
       "      <td>08:00:00</td>\n",
       "      <td>22:00:00</td>\n",
       "      <td>False</td>\n",
       "      <td>True</td>\n",
       "    </tr>\n",
       "    <tr>\n",
       "      <th>2</th>\n",
       "      <td>Carrollton</td>\n",
       "      <td>1073</td>\n",
       "      <td>Carrollton</td>\n",
       "      <td>(678) 664-3234</td>\n",
       "      <td>08:00:00</td>\n",
       "      <td>22:00:00</td>\n",
       "      <td>True</td>\n",
       "      <td>True</td>\n",
       "    </tr>\n",
       "  </tbody>\n",
       "</table>\n",
       "</div>"
      ],
      "text/plain": [
       "  Address.City    ID  Store Name       FaxNumber BeginTime.MF ThruTime.MF  \\\n",
       "0       Oxford  2153      Oxford  (256) 231-2910     08:00:00    22:00:00   \n",
       "1      Opelika  1499     Opelika  (334) 363-3235     08:00:00    22:00:00   \n",
       "2   Carrollton  1073  Carrollton  (678) 664-3234     08:00:00    22:00:00   \n",
       "\n",
       "   IsOpen.Sat  IsOpen.Sun  \n",
       "0        True       False  \n",
       "1       False        True  \n",
       "2        True        True  "
      ]
     },
     "execution_count": 5,
     "metadata": {},
     "output_type": "execute_result"
    }
   ],
   "source": [
    "import datetime as dt\n",
    "again = pd.read_csv(\"Csv2.csv\")\n",
    "second_data = again.rename(columns = {\"Name\":\"Store Name\"}, inplace = True)\n",
    "again.head(3)"
   ]
  },
  {
   "cell_type": "code",
   "execution_count": 37,
   "metadata": {},
   "outputs": [
    {
     "data": {
      "text/html": [
       "<div>\n",
       "<style scoped>\n",
       "    .dataframe tbody tr th:only-of-type {\n",
       "        vertical-align: middle;\n",
       "    }\n",
       "\n",
       "    .dataframe tbody tr th {\n",
       "        vertical-align: top;\n",
       "    }\n",
       "\n",
       "    .dataframe thead th {\n",
       "        text-align: right;\n",
       "    }\n",
       "</style>\n",
       "<table border=\"1\" class=\"dataframe\">\n",
       "  <thead>\n",
       "    <tr style=\"text-align: right;\">\n",
       "      <th></th>\n",
       "      <th>Address.City</th>\n",
       "      <th>ID</th>\n",
       "      <th>Store Name</th>\n",
       "      <th>FaxNumber</th>\n",
       "      <th>BeginTime.MF</th>\n",
       "      <th>ThruTime.MF</th>\n",
       "      <th>IsOpen.Sat</th>\n",
       "      <th>IsOpen.Sun</th>\n",
       "    </tr>\n",
       "  </thead>\n",
       "  <tbody>\n",
       "  </tbody>\n",
       "</table>\n",
       "</div>"
      ],
      "text/plain": [
       "Empty DataFrame\n",
       "Columns: [Address.City, ID, Store Name, FaxNumber, BeginTime.MF, ThruTime.MF, IsOpen.Sat, IsOpen.Sun]\n",
       "Index: []"
      ]
     },
     "execution_count": 37,
     "metadata": {},
     "output_type": "execute_result"
    }
   ],
   "source": [
    "import pandas as pd\n",
    "import datetime as dt\n",
    "again = pd.read_csv(\"Csv2.csv\")\n",
    "second_data = again.rename(columns = {\"Name\":\"Store Name\"}, inplace = True)\n",
    "mask = again[\"ThruTime.MF\"] == \"11:00:00\"\n",
    "again[mask]"
   ]
  },
  {
   "cell_type": "code",
   "execution_count": 4,
   "metadata": {},
   "outputs": [
    {
     "data": {
      "text/html": [
       "<div>\n",
       "<style scoped>\n",
       "    .dataframe tbody tr th:only-of-type {\n",
       "        vertical-align: middle;\n",
       "    }\n",
       "\n",
       "    .dataframe tbody tr th {\n",
       "        vertical-align: top;\n",
       "    }\n",
       "\n",
       "    .dataframe thead th {\n",
       "        text-align: right;\n",
       "    }\n",
       "</style>\n",
       "<table border=\"1\" class=\"dataframe\">\n",
       "  <thead>\n",
       "    <tr style=\"text-align: right;\">\n",
       "      <th></th>\n",
       "      <th>Address.City-1st</th>\n",
       "      <th>ID</th>\n",
       "      <th>LocationMilestones.LastRemodelDate</th>\n",
       "      <th>LocationMilestones.OpenDate</th>\n",
       "      <th>Name-1st</th>\n",
       "      <th>Store.StoreDistrictID</th>\n",
       "      <th>TimeZone.TimeZoneCode</th>\n",
       "      <th>PhoneNumber</th>\n",
       "      <th>Address.City-2nd</th>\n",
       "      <th>Name-2nd</th>\n",
       "      <th>FaxNumber</th>\n",
       "      <th>BeginTime.MF</th>\n",
       "      <th>ThruTime.MF</th>\n",
       "      <th>IsOpen.Sat</th>\n",
       "      <th>IsOpen.Sun</th>\n",
       "    </tr>\n",
       "  </thead>\n",
       "  <tbody>\n",
       "    <tr>\n",
       "      <th>0</th>\n",
       "      <td>Oxford</td>\n",
       "      <td>2153</td>\n",
       "      <td>NaN</td>\n",
       "      <td>2006-07-19T12:00:00</td>\n",
       "      <td>Oxford</td>\n",
       "      <td>340</td>\n",
       "      <td>CST</td>\n",
       "      <td>(256) 231-2900</td>\n",
       "      <td>Oxford</td>\n",
       "      <td>Oxford</td>\n",
       "      <td>(256) 231-2910</td>\n",
       "      <td>08:00:00</td>\n",
       "      <td>22:00:00</td>\n",
       "      <td>True</td>\n",
       "      <td>False</td>\n",
       "    </tr>\n",
       "    <tr>\n",
       "      <th>1</th>\n",
       "      <td>Opelika</td>\n",
       "      <td>1499</td>\n",
       "      <td>NaN</td>\n",
       "      <td>2005-07-20T12:00:00</td>\n",
       "      <td>Opelika</td>\n",
       "      <td>340</td>\n",
       "      <td>CST</td>\n",
       "      <td>(334) 705-0152</td>\n",
       "      <td>Opelika</td>\n",
       "      <td>Opelika</td>\n",
       "      <td>(334) 363-3235</td>\n",
       "      <td>08:00:00</td>\n",
       "      <td>22:00:00</td>\n",
       "      <td>False</td>\n",
       "      <td>True</td>\n",
       "    </tr>\n",
       "    <tr>\n",
       "      <th>2</th>\n",
       "      <td>Carrollton</td>\n",
       "      <td>1073</td>\n",
       "      <td>NaN</td>\n",
       "      <td>1997-07-23T12:00:00</td>\n",
       "      <td>Carrollton</td>\n",
       "      <td>336</td>\n",
       "      <td>EST</td>\n",
       "      <td>(770) 838-9221</td>\n",
       "      <td>Carrollton</td>\n",
       "      <td>Carrollton</td>\n",
       "      <td>(678) 664-3234</td>\n",
       "      <td>08:00:00</td>\n",
       "      <td>22:00:00</td>\n",
       "      <td>True</td>\n",
       "      <td>True</td>\n",
       "    </tr>\n",
       "  </tbody>\n",
       "</table>\n",
       "</div>"
      ],
      "text/plain": [
       "  Address.City-1st    ID LocationMilestones.LastRemodelDate  \\\n",
       "0           Oxford  2153                                NaN   \n",
       "1          Opelika  1499                                NaN   \n",
       "2       Carrollton  1073                                NaN   \n",
       "\n",
       "  LocationMilestones.OpenDate    Name-1st  Store.StoreDistrictID  \\\n",
       "0         2006-07-19T12:00:00      Oxford                    340   \n",
       "1         2005-07-20T12:00:00     Opelika                    340   \n",
       "2         1997-07-23T12:00:00  Carrollton                    336   \n",
       "\n",
       "  TimeZone.TimeZoneCode     PhoneNumber Address.City-2nd    Name-2nd  \\\n",
       "0                   CST  (256) 231-2900           Oxford      Oxford   \n",
       "1                   CST  (334) 705-0152          Opelika     Opelika   \n",
       "2                   EST  (770) 838-9221       Carrollton  Carrollton   \n",
       "\n",
       "        FaxNumber BeginTime.MF ThruTime.MF  IsOpen.Sat  IsOpen.Sun  \n",
       "0  (256) 231-2910     08:00:00    22:00:00        True       False  \n",
       "1  (334) 363-3235     08:00:00    22:00:00       False        True  \n",
       "2  (678) 664-3234     08:00:00    22:00:00        True        True  "
      ]
     },
     "execution_count": 4,
     "metadata": {},
     "output_type": "execute_result"
    }
   ],
   "source": [
    "yet = pd.read_csv(\"Csv1.csv\")\n",
    "again = pd.read_csv(\"Csv2.csv\")\n",
    "result = yet.merge(again, on = \"ID\", how = \"inner\", suffixes = [ \"-1st\", \"-2nd\"])\n",
    "result.head(3)"
   ]
  },
  {
   "cell_type": "markdown",
   "metadata": {},
   "source": [
    "# Question 9"
   ]
  },
  {
   "cell_type": "code",
   "execution_count": 135,
   "metadata": {},
   "outputs": [
    {
     "name": "stdout",
     "output_type": "stream",
     "text": [
      "{3: '2013-06-27T12:00:00', 4: '2004-10-17T12:00:00', 5: '2013-10-10T12:00:00', 6: '2014-04-03T12:00:00', 10: '2007-10-18T12:00:00', 14: '2012-06-21T12:00:00', 16: '2004-08-08T12:00:00', 18: '2013-06-27T12:00:00', 22: '2012-03-22T12:00:00', 23: '2012-03-22T12:00:00', 24: '2012-03-22T12:00:00', 26: '2012-06-21T12:00:00', 27: '2012-06-21T12:00:00', 28: '2017-03-30T12:00:00', 29: '2012-06-21T12:00:00', 30: '2013-03-21T12:00:00', 31: '2013-10-10T12:00:00', 32: '2012-03-22T12:00:00', 34: '2004-09-19T12:00:00', 36: '2012-03-22T12:00:00', 37: '2000-03-01T12:00:00', 38: '2017-10-26T12:00:00', 39: '2012-06-21T12:00:00', 40: '2012-10-11T12:00:00', 42: '2013-06-27T12:00:00', 44: '2012-06-21T12:00:00', 46: '2017-03-30T12:00:00', 48: '2012-03-22T12:00:00', 49: '2017-10-26T12:00:00', 50: '2007-04-13T12:00:00', 55: '2017-03-30T12:00:00', 56: '2012-10-11T12:00:00', 58: '2012-03-22T12:00:00', 60: '2012-06-21T12:00:00', 61: '2012-03-22T12:00:00', 62: '2012-03-22T12:00:00', 64: '2007-07-13T12:00:00', 65: '2012-03-22T12:00:00', 66: '2009-07-09T12:00:00', 67: '2012-03-22T12:00:00', 68: '2012-03-22T12:00:00', 69: '2012-10-11T12:00:00', 71: '2013-06-27T12:00:00', 73: '2012-03-22T12:00:00', 74: '2012-03-22T12:00:00', 75: '2004-08-08T12:00:00', 76: '2012-03-22T12:00:00', 77: '2014-10-12T12:00:00', 78: '2012-10-11T12:00:00', 79: '2012-10-11T12:00:00', 81: '2012-06-21T12:00:00', 82: '2012-06-21T12:00:00', 85: '2012-06-21T12:00:00', 86: '2014-04-03T12:00:00', 87: '2012-06-21T12:00:00', 88: '2012-06-21T12:00:00', 90: '2017-04-13T12:00:00', 91: '2012-10-11T12:00:00', 92: '2010-10-14T12:00:00', 93: '2012-03-22T12:00:00', 94: '2012-06-21T12:00:00', 95: '2012-03-22T12:00:00', 96: '2018-04-13T12:00:00', 97: '2014-04-03T12:00:00', 98: '2006-05-12T12:00:00', 99: '2003-08-12T12:00:00', 100: '2012-03-22T12:00:00', 101: '2007-03-23T12:00:00', 102: '2012-10-11T12:00:00', 104: '2012-06-21T12:00:00', 105: '2012-06-21T12:00:00', 106: '2012-06-21T12:00:00', 107: '2012-03-22T12:00:00', 108: '2011-06-02T12:00:00', 109: '2011-10-06T12:00:00', 111: '2011-10-06T12:00:00', 113: '2014-10-12T12:00:00', 115: '2012-06-21T12:00:00', 116: '2018-04-13T12:00:00', 117: '2011-07-21T12:00:00', 118: '2012-03-22T12:00:00'}\n"
     ]
    }
   ],
   "source": [
    "again = pd.read_csv(\"Csv1.csv\")\n",
    "second_data = again.rename(columns = {\"LocationMilestones.LastRemodelDate\":\"LastRemodelDate\"}, inplace = True)\n",
    "sub = again.dropna(subset = [\"LastRemodelDate\"])\n",
    "last = sub.LastRemodelDate.to_dict()\n",
    "print(last)\n",
    "# i use print to save more spaces instead of having a long list since dict does not allow the use of heads()"
   ]
  },
  {
   "cell_type": "code",
   "execution_count": 103,
   "metadata": {},
   "outputs": [
    {
     "name": "stdout",
     "output_type": "stream",
     "text": [
      "{0: 'Oxford', 1: 'Opelika', 2: 'Carrollton', 3: 'Newnan', 4: 'Columbus', 5: 'Peachtree City', 6: 'Montgomery', 7: 'Douglasville', 8: 'Prattville', 9: 'Birmingham 280 Corridor', 10: 'Fayetteville', 11: 'Trussville', 12: 'Hiram', 13: 'Alabaster', 14: 'East Point', 15: 'Homewood', 16: 'Austell', 17: 'Hoover West', 18: 'West Marietta', 19: 'Fultondale', 20: 'Acworth', 21: 'McDonough', 22: 'Atlanta Midtown', 23: 'Smyrna', 24: 'Atlanta Edgewood', 25: 'Bessemer', 26: 'Cobb', 27: 'Buckhead South', 28: 'Cartersville', 29: 'Buckhead', 30: 'North Druid Hills', 31: 'Sandy Springs Prado', 32: 'Marietta East', 33: 'Woodstock', 34: 'Cobb NE', 35: 'Atlanta Perimeter', 36: 'Northlake', 37: 'Roswell', 38: 'Peachtree Corners', 39: 'Conyers', 40: 'Alpharetta', 41: 'Canton', 42: 'Riverwood', 43: 'Milton', 44: 'Snellville', 45: \"John's Creek\", 46: 'Lawrenceville', 47: 'Cumming', 48: 'Buford', 49: 'Tuscaloosa', 50: 'Warner Robins', 51: 'Winder', 52: 'Flowery Branch', 53: 'Huntsville South', 54: 'Decatur', 55: 'Gainesville', 56: 'Dothan', 57: 'Huntsville West', 58: 'Albany', 59: 'Madison', 60: 'Chattanooga East', 61: 'Athens', 62: 'Chattanooga North', 63: 'Cleveland', 64: 'Florence', 65: 'Anderson', 66: 'Tallahassee North', 67: 'Murfreesboro', 68: 'Destin', 69: 'Pace', 70: 'Spring Hill', 71: 'Mary Esther', 72: 'Evans', 73: 'Pier Park', 74: 'Tallahassee', 75: 'Maryville', 76: 'Panama City', 77: 'Augusta', 78: 'Pensacola NE', 79: 'Franklin', 80: 'Smyrna', 81: 'Valdosta', 82: 'Pensacola', 83: 'Knoxville South', 84: 'Farragut', 85: 'Cool Springs', 86: 'Knoxville West', 87: 'Brentwood', 88: 'Mt Juliet', 89: 'Pensacola West', 90: 'Knoxville NW', 91: 'Simpsonville', 92: 'Nashville East', 93: 'White Bridge', 94: 'Greenville', 95: 'Nashville West', 96: 'Daphne', 97: 'Knoxville North', 98: 'Aiken', 99: 'Bel-Air', 100: 'Greer', 101: 'Rivergate', 102: 'Hendersonville', 103: 'Mobile West', 104: 'Gulf Shores', 105: 'Asheville South', 106: 'Spartanburg', 107: 'Asheville', 108: 'Palm Desert', 109: 'Palm Springs', 110: 'Apple Valley North', 111: 'Apple Valley', 112: 'Hesperia', 113: 'Grand Junction', 114: 'Montrose', 115: 'Orem State Street', 116: 'American Fork', 117: 'Rancho California', 118: 'Murrieta'}\n"
     ]
    }
   ],
   "source": [
    "# mask = result[\"LocationMilestones.LastRemodelDate\"].notnull()\n",
    "# result[mask].head(5)\n",
    "\n",
    "again = pd.read_csv(\"Csv1.csv\")\n",
    "second_data = again.rename(columns = {\"Name\":\"Store Name\"}, inplace = True)\n",
    "sub = again.dropna(subset = [\"Store Name\"])\n",
    "last = sub[\"Store Name\"].to_dict()\n",
    "print(last)"
   ]
  },
  {
   "cell_type": "markdown",
   "metadata": {},
   "source": [
    "# Question 10"
   ]
  },
  {
   "cell_type": "code",
   "execution_count": 32,
   "metadata": {},
   "outputs": [
    {
     "data": {
      "text/html": [
       "<div>\n",
       "<style scoped>\n",
       "    .dataframe tbody tr th:only-of-type {\n",
       "        vertical-align: middle;\n",
       "    }\n",
       "\n",
       "    .dataframe tbody tr th {\n",
       "        vertical-align: top;\n",
       "    }\n",
       "\n",
       "    .dataframe thead th {\n",
       "        text-align: right;\n",
       "    }\n",
       "</style>\n",
       "<table border=\"1\" class=\"dataframe\">\n",
       "  <thead>\n",
       "    <tr style=\"text-align: right;\">\n",
       "      <th></th>\n",
       "      <th>Address.City</th>\n",
       "      <th>ID</th>\n",
       "      <th>Store Name</th>\n",
       "      <th>FaxNumber</th>\n",
       "      <th>BeginTime.MF</th>\n",
       "      <th>ThruTime.MF</th>\n",
       "      <th>IsOpen.Sat</th>\n",
       "      <th>IsOpen.Sun</th>\n",
       "    </tr>\n",
       "  </thead>\n",
       "  <tbody>\n",
       "    <tr>\n",
       "      <th>0</th>\n",
       "      <td>Oxford</td>\n",
       "      <td>2153</td>\n",
       "      <td>Oxford</td>\n",
       "      <td>(256) 231-2910</td>\n",
       "      <td>08:00:00</td>\n",
       "      <td>22:00:00</td>\n",
       "      <td>True</td>\n",
       "      <td>False</td>\n",
       "    </tr>\n",
       "    <tr>\n",
       "      <th>1</th>\n",
       "      <td>Opelika</td>\n",
       "      <td>1499</td>\n",
       "      <td>Opelika</td>\n",
       "      <td>(334) 363-3235</td>\n",
       "      <td>08:00:00</td>\n",
       "      <td>22:00:00</td>\n",
       "      <td>False</td>\n",
       "      <td>True</td>\n",
       "    </tr>\n",
       "    <tr>\n",
       "      <th>2</th>\n",
       "      <td>Carrollton</td>\n",
       "      <td>1073</td>\n",
       "      <td>Carrollton</td>\n",
       "      <td>(678) 664-3234</td>\n",
       "      <td>08:00:00</td>\n",
       "      <td>22:00:00</td>\n",
       "      <td>True</td>\n",
       "      <td>True</td>\n",
       "    </tr>\n",
       "  </tbody>\n",
       "</table>\n",
       "</div>"
      ],
      "text/plain": [
       "  Address.City    ID  Store Name       FaxNumber BeginTime.MF ThruTime.MF  \\\n",
       "0       Oxford  2153      Oxford  (256) 231-2910     08:00:00    22:00:00   \n",
       "1      Opelika  1499     Opelika  (334) 363-3235     08:00:00    22:00:00   \n",
       "2   Carrollton  1073  Carrollton  (678) 664-3234     08:00:00    22:00:00   \n",
       "\n",
       "   IsOpen.Sat  IsOpen.Sun  \n",
       "0        True       False  \n",
       "1       False        True  \n",
       "2        True        True  "
      ]
     },
     "execution_count": 32,
     "metadata": {},
     "output_type": "execute_result"
    }
   ],
   "source": [
    "again = pd.read_csv(\"Csv2.csv\")\n",
    "second_data = again.rename(columns = {\"Name\":\"Store Name\"}, inplace = True)\n",
    "again.groupby(\"Address.City\")\n",
    "again.head(3)"
   ]
  },
  {
   "cell_type": "code",
   "execution_count": 36,
   "metadata": {},
   "outputs": [
    {
     "data": {
      "text/plain": [
       "Atlanta       6\n",
       "Knoxville     5\n",
       "Birmingham    3\n",
       "Nashville     3\n",
       "Marietta      3\n",
       "Name: Address.City, dtype: int64"
      ]
     },
     "execution_count": 36,
     "metadata": {},
     "output_type": "execute_result"
    }
   ],
   "source": [
    "add = again[\"Address.City\"].value_counts()\n",
    "add.head(5)"
   ]
  },
  {
   "cell_type": "markdown",
   "metadata": {},
   "source": [
    "# Question 11"
   ]
  },
  {
   "cell_type": "code",
   "execution_count": 120,
   "metadata": {},
   "outputs": [
    {
     "data": {
      "text/plain": [
       "0   2000-12-31\n",
       "1   2001-12-31\n",
       "2   2002-12-31\n",
       "3   2003-12-31\n",
       "dtype: datetime64[ns]"
      ]
     },
     "execution_count": 120,
     "metadata": {},
     "output_type": "execute_result"
    }
   ],
   "source": [
    "import datetime as dt\n",
    "date_serial = pd.date_range(start = \"2000-03-10\", end =\"2018-12-28\", freq = \"Y\")\n",
    "serial_conv = pd.Series(date_serial)\n",
    "serial_conv.head(4)"
   ]
  },
  {
   "cell_type": "code",
   "execution_count": null,
   "metadata": {},
   "outputs": [],
   "source": []
  }
 ],
 "metadata": {
  "kernelspec": {
   "display_name": "Python 3",
   "language": "python",
   "name": "python3"
  },
  "language_info": {
   "codemirror_mode": {
    "name": "ipython",
    "version": 3
   },
   "file_extension": ".py",
   "mimetype": "text/x-python",
   "name": "python",
   "nbconvert_exporter": "python",
   "pygments_lexer": "ipython3",
   "version": "3.6.5"
  }
 },
 "nbformat": 4,
 "nbformat_minor": 2
}
