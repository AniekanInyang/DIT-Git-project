{
 "cells": [
  {
   "cell_type": "code",
   "execution_count": 231,
   "metadata": {},
   "outputs": [],
   "source": [
    "import datetime as dt"
   ]
  },
  {
   "cell_type": "markdown",
   "metadata": {},
   "source": [
    "### Question 1"
   ]
  },
  {
   "cell_type": "code",
   "execution_count": 1,
   "metadata": {},
   "outputs": [],
   "source": [
    "import pandas as pd"
   ]
  },
  {
   "cell_type": "code",
   "execution_count": 14,
   "metadata": {
    "collapsed": true
   },
   "outputs": [
    {
     "name": "stdout",
     "output_type": "stream",
     "text": [
      "\n",
      "INSTALLED VERSIONS\n",
      "------------------\n",
      "commit: None\n",
      "python: 3.6.5.final.0\n",
      "python-bits: 64\n",
      "OS: Windows\n",
      "OS-release: 10\n",
      "machine: AMD64\n",
      "processor: Intel64 Family 6 Model 42 Stepping 7, GenuineIntel\n",
      "byteorder: little\n",
      "LC_ALL: None\n",
      "LANG: None\n",
      "LOCALE: None.None\n",
      "\n",
      "pandas: 0.24.2\n",
      "pytest: None\n",
      "pip: 19.1.1\n",
      "setuptools: 41.0.1\n",
      "Cython: None\n",
      "numpy: 1.16.4\n",
      "scipy: 1.2.1\n",
      "pyarrow: None\n",
      "xarray: None\n",
      "IPython: 7.6.0\n",
      "sphinx: None\n",
      "patsy: None\n",
      "dateutil: 2.8.0\n",
      "pytz: 2019.1\n",
      "blosc: None\n",
      "bottleneck: 1.2.1\n",
      "tables: None\n",
      "numexpr: None\n",
      "feather: None\n",
      "matplotlib: 3.1.0\n",
      "openpyxl: 2.6.2\n",
      "xlrd: 1.2.0\n",
      "xlwt: None\n",
      "xlsxwriter: 1.1.8\n",
      "lxml.etree: 4.3.3\n",
      "bs4: 4.7.1\n",
      "html5lib: None\n",
      "sqlalchemy: None\n",
      "pymysql: None\n",
      "psycopg2: 2.8.2 (dt dec pq3 ext lo64)\n",
      "jinja2: 2.10.1\n",
      "s3fs: None\n",
      "fastparquet: None\n",
      "pandas_gbq: None\n",
      "pandas_datareader: 0.7.0\n",
      "gcsfs: None\n"
     ]
    }
   ],
   "source": [
    "# This shows the version of pandas\n",
    "\n",
    "pd.show_versions()"
   ]
  },
  {
   "cell_type": "markdown",
   "metadata": {},
   "source": [
    "### Question 2"
   ]
  },
  {
   "cell_type": "code",
   "execution_count": null,
   "metadata": {},
   "outputs": [],
   "source": []
  },
  {
   "cell_type": "code",
   "execution_count": null,
   "metadata": {},
   "outputs": [],
   "source": []
  },
  {
   "cell_type": "code",
   "execution_count": 234,
   "metadata": {},
   "outputs": [],
   "source": [
    "a = pd.read_csv(\"Csv1.csv\")\n",
    "\n",
    "\n",
    "a[\"LocationMilestones.OpenDate\"] = pd.to_datetime(a[\"LocationMilestones.OpenDate\"]).dt.date\n",
    "a[\"LocationMilestones.LastRemodelDate\"] = pd.to_datetime(a[\"LocationMilestones.LastRemodelDate\"], errors = 'coerce').dt.date\n",
    "\n",
    "a[\"TimeZone.TimeZoneCode\"]= a[\"TimeZone.TimeZoneCode\"].astype(\"category\")"
   ]
  },
  {
   "cell_type": "code",
   "execution_count": 154,
   "metadata": {},
   "outputs": [],
   "source": [
    "b = pd.read_csv(\"Csv2.csv\", parse_dates= [\"BeginTime.MF\",\"ThruTime.MF\"])\n",
    "\n",
    "b[\"BeginTime.MF\"] = b[\"BeginTime.MF\"].dt.time\n",
    "b[\"ThruTime.MF\"] = b[\"ThruTime.MF\"].dt.time\n"
   ]
  },
  {
   "cell_type": "markdown",
   "metadata": {},
   "source": [
    "### Question 3"
   ]
  },
  {
   "cell_type": "code",
   "execution_count": 176,
   "metadata": {},
   "outputs": [],
   "source": [
    "# Merging Dataframes a and b on the \"ID\" column: Name and Address.City was added because the columns were identical.\n",
    "\n",
    "c = a.merge(b, how=\"inner\", on = [\"ID\", \"Name\", \"Address.City\"], sort = True)"
   ]
  },
  {
   "cell_type": "markdown",
   "metadata": {},
   "source": [
    "### Question 4"
   ]
  },
  {
   "cell_type": "code",
   "execution_count": 44,
   "metadata": {
    "collapsed": true
   },
   "outputs": [
    {
     "data": {
      "text/plain": [
       "108"
      ]
     },
     "execution_count": 44,
     "metadata": {},
     "output_type": "execute_result"
    }
   ],
   "source": [
    "# Getting the number of rows\n",
    "\n",
    "len(c)"
   ]
  },
  {
   "cell_type": "code",
   "execution_count": 45,
   "metadata": {
    "collapsed": true
   },
   "outputs": [
    {
     "data": {
      "text/plain": [
       "13"
      ]
     },
     "execution_count": 45,
     "metadata": {},
     "output_type": "execute_result"
    }
   ],
   "source": [
    "# Getting the number of columns\n",
    "\n",
    "len(c.columns)"
   ]
  },
  {
   "cell_type": "code",
   "execution_count": 159,
   "metadata": {
    "collapsed": true
   },
   "outputs": [
    {
     "data": {
      "text/plain": [
       "Address.City                          object\n",
       "ID                                     int64\n",
       "LocationMilestones.LastRemodelDate    object\n",
       "LocationMilestones.OpenDate           object\n",
       "Name                                  object\n",
       "Store.StoreDistrictID                  int64\n",
       "TimeZone.TimeZoneCode                 object\n",
       "PhoneNumber                           object\n",
       "FaxNumber                             object\n",
       "BeginTime.MF                          object\n",
       "ThruTime.MF                           object\n",
       "IsOpen.Sat                              bool\n",
       "IsOpen.Sun                              bool\n",
       "dtype: object"
      ]
     },
     "execution_count": 159,
     "metadata": {},
     "output_type": "execute_result"
    }
   ],
   "source": [
    "# Getting the datatypes \n",
    "\n",
    "c.dtypes"
   ]
  },
  {
   "cell_type": "code",
   "execution_count": 158,
   "metadata": {
    "collapsed": true
   },
   "outputs": [
    {
     "name": "stdout",
     "output_type": "stream",
     "text": [
      "<class 'pandas.core.frame.DataFrame'>\n",
      "Int64Index: 108 entries, 0 to 107\n",
      "Data columns (total 13 columns):\n",
      "Address.City                          108 non-null object\n",
      "ID                                    108 non-null int64\n",
      "LocationMilestones.LastRemodelDate    73 non-null object\n",
      "LocationMilestones.OpenDate           108 non-null object\n",
      "Name                                  108 non-null object\n",
      "Store.StoreDistrictID                 108 non-null int64\n",
      "TimeZone.TimeZoneCode                 108 non-null object\n",
      "PhoneNumber                           108 non-null object\n",
      "FaxNumber                             103 non-null object\n",
      "BeginTime.MF                          108 non-null object\n",
      "ThruTime.MF                           108 non-null object\n",
      "IsOpen.Sat                            108 non-null bool\n",
      "IsOpen.Sun                            108 non-null bool\n",
      "dtypes: bool(2), int64(2), object(9)\n",
      "memory usage: 10.3+ KB\n"
     ]
    }
   ],
   "source": [
    "# Getting the summary\n",
    "\n",
    "c.info()"
   ]
  },
  {
   "cell_type": "code",
   "execution_count": 35,
   "metadata": {
    "collapsed": true
   },
   "outputs": [
    {
     "data": {
      "text/plain": [
       "array([['Oxford', 2153, NaT, ..., Timestamp('2019-07-25 22:00:00'), True,\n",
       "        False],\n",
       "       ['Opelika', 1499, NaT, ..., Timestamp('2019-07-25 22:00:00'),\n",
       "        False, True],\n",
       "       ['Carrollton', 1073, NaT, ..., Timestamp('2019-07-25 22:00:00'),\n",
       "        True, True],\n",
       "       ...,\n",
       "       ['Arden', 2011, Timestamp('2012-06-21 12:00:00'), ...,\n",
       "        Timestamp('2019-07-25 22:00:00'), True, False],\n",
       "       ['Spartanburg', 1349, Timestamp('2012-06-21 12:00:00'), ...,\n",
       "        Timestamp('2019-07-25 22:00:00'), True, True],\n",
       "       ['Asheville', 1807, Timestamp('2012-03-22 12:00:00'), ...,\n",
       "        Timestamp('2019-07-25 23:00:00'), True, True]], dtype=object)"
      ]
     },
     "execution_count": 35,
     "metadata": {},
     "output_type": "execute_result"
    }
   ],
   "source": [
    "# The numpy array of the dataframe\n",
    "\n",
    "c.values"
   ]
  },
  {
   "cell_type": "code",
   "execution_count": 230,
   "metadata": {
    "collapsed": true
   },
   "outputs": [
    {
     "data": {
      "text/plain": [
       "['Address.City',\n",
       " 'ID',\n",
       " 'LocationMilestones.LastRemodelDate',\n",
       " 'LocationMilestones.OpenDate',\n",
       " 'Name',\n",
       " 'Store.StoreDistrictID',\n",
       " 'TimeZone.TimeZoneCode',\n",
       " 'PhoneNumber',\n",
       " 'FaxNumber',\n",
       " 'BeginTime.MF',\n",
       " 'ThruTime.MF',\n",
       " 'IsOpen.Sat',\n",
       " 'IsOpen.Sun']"
      ]
     },
     "execution_count": 230,
     "metadata": {},
     "output_type": "execute_result"
    }
   ],
   "source": [
    "# The list equivalent of the dataframe\n",
    "\n",
    "list(c)"
   ]
  },
  {
   "cell_type": "markdown",
   "metadata": {},
   "source": [
    "### Question 5"
   ]
  },
  {
   "cell_type": "code",
   "execution_count": 240,
   "metadata": {},
   "outputs": [],
   "source": [
    "# Renaming the column\n",
    "\n",
    "c.rename(columns = {\"Name\": \"Store Name\"}, inplace = True)"
   ]
  },
  {
   "cell_type": "markdown",
   "metadata": {},
   "source": [
    "### Question 6"
   ]
  },
  {
   "cell_type": "code",
   "execution_count": 58,
   "metadata": {
    "collapsed": true
   },
   "outputs": [
    {
     "data": {
      "text/plain": [
       "Address.City                           0\n",
       "ID                                     0\n",
       "LocationMilestones.LastRemodelDate    35\n",
       "LocationMilestones.OpenDate            0\n",
       "Name                                   0\n",
       "Store.StoreDistrictID                  0\n",
       "TimeZone.TimeZoneCode                  0\n",
       "PhoneNumber                            0\n",
       "FaxNumber                              5\n",
       "BeginTime.MF                           0\n",
       "ThruTime.MF                            0\n",
       "IsOpen.Sat                             0\n",
       "IsOpen.Sun                             0\n",
       "dtype: int64"
      ]
     },
     "execution_count": 58,
     "metadata": {},
     "output_type": "execute_result"
    }
   ],
   "source": [
    "# Checking for null values\n",
    "\n",
    "c.isnull().sum()"
   ]
  },
  {
   "cell_type": "markdown",
   "metadata": {},
   "source": [
    "### Question 7"
   ]
  },
  {
   "cell_type": "code",
   "execution_count": 342,
   "metadata": {},
   "outputs": [],
   "source": [
    "w = c[\"IsOpen.Sat\"].value_counts()"
   ]
  },
  {
   "cell_type": "code",
   "execution_count": 405,
   "metadata": {},
   "outputs": [
    {
     "data": {
      "text/html": [
       "\n",
       "    <div class=\"bk-root\">\n",
       "        <a href=\"https://bokeh.pydata.org\" target=\"_blank\" class=\"bk-logo bk-logo-small bk-logo-notebook\"></a>\n",
       "        <span id=\"13073\">Loading BokehJS ...</span>\n",
       "    </div>"
      ]
     },
     "metadata": {},
     "output_type": "display_data"
    },
    {
     "data": {
      "application/javascript": [
       "\n",
       "(function(root) {\n",
       "  function now() {\n",
       "    return new Date();\n",
       "  }\n",
       "\n",
       "  var force = true;\n",
       "\n",
       "  if (typeof root._bokeh_onload_callbacks === \"undefined\" || force === true) {\n",
       "    root._bokeh_onload_callbacks = [];\n",
       "    root._bokeh_is_loading = undefined;\n",
       "  }\n",
       "\n",
       "  var JS_MIME_TYPE = 'application/javascript';\n",
       "  var HTML_MIME_TYPE = 'text/html';\n",
       "  var EXEC_MIME_TYPE = 'application/vnd.bokehjs_exec.v0+json';\n",
       "  var CLASS_NAME = 'output_bokeh rendered_html';\n",
       "\n",
       "  /**\n",
       "   * Render data to the DOM node\n",
       "   */\n",
       "  function render(props, node) {\n",
       "    var script = document.createElement(\"script\");\n",
       "    node.appendChild(script);\n",
       "  }\n",
       "\n",
       "  /**\n",
       "   * Handle when an output is cleared or removed\n",
       "   */\n",
       "  function handleClearOutput(event, handle) {\n",
       "    var cell = handle.cell;\n",
       "\n",
       "    var id = cell.output_area._bokeh_element_id;\n",
       "    var server_id = cell.output_area._bokeh_server_id;\n",
       "    // Clean up Bokeh references\n",
       "    if (id != null && id in Bokeh.index) {\n",
       "      Bokeh.index[id].model.document.clear();\n",
       "      delete Bokeh.index[id];\n",
       "    }\n",
       "\n",
       "    if (server_id !== undefined) {\n",
       "      // Clean up Bokeh references\n",
       "      var cmd = \"from bokeh.io.state import curstate; print(curstate().uuid_to_server['\" + server_id + \"'].get_sessions()[0].document.roots[0]._id)\";\n",
       "      cell.notebook.kernel.execute(cmd, {\n",
       "        iopub: {\n",
       "          output: function(msg) {\n",
       "            var id = msg.content.text.trim();\n",
       "            if (id in Bokeh.index) {\n",
       "              Bokeh.index[id].model.document.clear();\n",
       "              delete Bokeh.index[id];\n",
       "            }\n",
       "          }\n",
       "        }\n",
       "      });\n",
       "      // Destroy server and session\n",
       "      var cmd = \"import bokeh.io.notebook as ion; ion.destroy_server('\" + server_id + \"')\";\n",
       "      cell.notebook.kernel.execute(cmd);\n",
       "    }\n",
       "  }\n",
       "\n",
       "  /**\n",
       "   * Handle when a new output is added\n",
       "   */\n",
       "  function handleAddOutput(event, handle) {\n",
       "    var output_area = handle.output_area;\n",
       "    var output = handle.output;\n",
       "\n",
       "    // limit handleAddOutput to display_data with EXEC_MIME_TYPE content only\n",
       "    if ((output.output_type != \"display_data\") || (!output.data.hasOwnProperty(EXEC_MIME_TYPE))) {\n",
       "      return\n",
       "    }\n",
       "\n",
       "    var toinsert = output_area.element.find(\".\" + CLASS_NAME.split(' ')[0]);\n",
       "\n",
       "    if (output.metadata[EXEC_MIME_TYPE][\"id\"] !== undefined) {\n",
       "      toinsert[toinsert.length - 1].firstChild.textContent = output.data[JS_MIME_TYPE];\n",
       "      // store reference to embed id on output_area\n",
       "      output_area._bokeh_element_id = output.metadata[EXEC_MIME_TYPE][\"id\"];\n",
       "    }\n",
       "    if (output.metadata[EXEC_MIME_TYPE][\"server_id\"] !== undefined) {\n",
       "      var bk_div = document.createElement(\"div\");\n",
       "      bk_div.innerHTML = output.data[HTML_MIME_TYPE];\n",
       "      var script_attrs = bk_div.children[0].attributes;\n",
       "      for (var i = 0; i < script_attrs.length; i++) {\n",
       "        toinsert[toinsert.length - 1].firstChild.setAttribute(script_attrs[i].name, script_attrs[i].value);\n",
       "      }\n",
       "      // store reference to server id on output_area\n",
       "      output_area._bokeh_server_id = output.metadata[EXEC_MIME_TYPE][\"server_id\"];\n",
       "    }\n",
       "  }\n",
       "\n",
       "  function register_renderer(events, OutputArea) {\n",
       "\n",
       "    function append_mime(data, metadata, element) {\n",
       "      // create a DOM node to render to\n",
       "      var toinsert = this.create_output_subarea(\n",
       "        metadata,\n",
       "        CLASS_NAME,\n",
       "        EXEC_MIME_TYPE\n",
       "      );\n",
       "      this.keyboard_manager.register_events(toinsert);\n",
       "      // Render to node\n",
       "      var props = {data: data, metadata: metadata[EXEC_MIME_TYPE]};\n",
       "      render(props, toinsert[toinsert.length - 1]);\n",
       "      element.append(toinsert);\n",
       "      return toinsert\n",
       "    }\n",
       "\n",
       "    /* Handle when an output is cleared or removed */\n",
       "    events.on('clear_output.CodeCell', handleClearOutput);\n",
       "    events.on('delete.Cell', handleClearOutput);\n",
       "\n",
       "    /* Handle when a new output is added */\n",
       "    events.on('output_added.OutputArea', handleAddOutput);\n",
       "\n",
       "    /**\n",
       "     * Register the mime type and append_mime function with output_area\n",
       "     */\n",
       "    OutputArea.prototype.register_mime_type(EXEC_MIME_TYPE, append_mime, {\n",
       "      /* Is output safe? */\n",
       "      safe: true,\n",
       "      /* Index of renderer in `output_area.display_order` */\n",
       "      index: 0\n",
       "    });\n",
       "  }\n",
       "\n",
       "  // register the mime type if in Jupyter Notebook environment and previously unregistered\n",
       "  if (root.Jupyter !== undefined) {\n",
       "    var events = require('base/js/events');\n",
       "    var OutputArea = require('notebook/js/outputarea').OutputArea;\n",
       "\n",
       "    if (OutputArea.prototype.mime_types().indexOf(EXEC_MIME_TYPE) == -1) {\n",
       "      register_renderer(events, OutputArea);\n",
       "    }\n",
       "  }\n",
       "\n",
       "  \n",
       "  if (typeof (root._bokeh_timeout) === \"undefined\" || force === true) {\n",
       "    root._bokeh_timeout = Date.now() + 5000;\n",
       "    root._bokeh_failed_load = false;\n",
       "  }\n",
       "\n",
       "  var NB_LOAD_WARNING = {'data': {'text/html':\n",
       "     \"<div style='background-color: #fdd'>\\n\"+\n",
       "     \"<p>\\n\"+\n",
       "     \"BokehJS does not appear to have successfully loaded. If loading BokehJS from CDN, this \\n\"+\n",
       "     \"may be due to a slow or bad network connection. Possible fixes:\\n\"+\n",
       "     \"</p>\\n\"+\n",
       "     \"<ul>\\n\"+\n",
       "     \"<li>re-rerun `output_notebook()` to attempt to load from CDN again, or</li>\\n\"+\n",
       "     \"<li>use INLINE resources instead, as so:</li>\\n\"+\n",
       "     \"</ul>\\n\"+\n",
       "     \"<code>\\n\"+\n",
       "     \"from bokeh.resources import INLINE\\n\"+\n",
       "     \"output_notebook(resources=INLINE)\\n\"+\n",
       "     \"</code>\\n\"+\n",
       "     \"</div>\"}};\n",
       "\n",
       "  function display_loaded() {\n",
       "    var el = document.getElementById(\"13073\");\n",
       "    if (el != null) {\n",
       "      el.textContent = \"BokehJS is loading...\";\n",
       "    }\n",
       "    if (root.Bokeh !== undefined) {\n",
       "      if (el != null) {\n",
       "        el.textContent = \"BokehJS \" + root.Bokeh.version + \" successfully loaded.\";\n",
       "      }\n",
       "    } else if (Date.now() < root._bokeh_timeout) {\n",
       "      setTimeout(display_loaded, 100)\n",
       "    }\n",
       "  }\n",
       "\n",
       "\n",
       "  function run_callbacks() {\n",
       "    try {\n",
       "      root._bokeh_onload_callbacks.forEach(function(callback) {\n",
       "        if (callback != null)\n",
       "          callback();\n",
       "      });\n",
       "    } finally {\n",
       "      delete root._bokeh_onload_callbacks\n",
       "    }\n",
       "    console.debug(\"Bokeh: all callbacks have finished\");\n",
       "  }\n",
       "\n",
       "  function load_libs(css_urls, js_urls, callback) {\n",
       "    if (css_urls == null) css_urls = [];\n",
       "    if (js_urls == null) js_urls = [];\n",
       "\n",
       "    root._bokeh_onload_callbacks.push(callback);\n",
       "    if (root._bokeh_is_loading > 0) {\n",
       "      console.debug(\"Bokeh: BokehJS is being loaded, scheduling callback at\", now());\n",
       "      return null;\n",
       "    }\n",
       "    if (js_urls == null || js_urls.length === 0) {\n",
       "      run_callbacks();\n",
       "      return null;\n",
       "    }\n",
       "    console.debug(\"Bokeh: BokehJS not loaded, scheduling load and callback at\", now());\n",
       "    root._bokeh_is_loading = css_urls.length + js_urls.length;\n",
       "\n",
       "    function on_load() {\n",
       "      root._bokeh_is_loading--;\n",
       "      if (root._bokeh_is_loading === 0) {\n",
       "        console.debug(\"Bokeh: all BokehJS libraries/stylesheets loaded\");\n",
       "        run_callbacks()\n",
       "      }\n",
       "    }\n",
       "\n",
       "    function on_error() {\n",
       "      console.error(\"failed to load \" + url);\n",
       "    }\n",
       "\n",
       "    for (var i = 0; i < css_urls.length; i++) {\n",
       "      var url = css_urls[i];\n",
       "      const element = document.createElement(\"link\");\n",
       "      element.onload = on_load;\n",
       "      element.onerror = on_error;\n",
       "      element.rel = \"stylesheet\";\n",
       "      element.type = \"text/css\";\n",
       "      element.href = url;\n",
       "      console.debug(\"Bokeh: injecting link tag for BokehJS stylesheet: \", url);\n",
       "      document.body.appendChild(element);\n",
       "    }\n",
       "\n",
       "    for (var i = 0; i < js_urls.length; i++) {\n",
       "      var url = js_urls[i];\n",
       "      var element = document.createElement('script');\n",
       "      element.onload = on_load;\n",
       "      element.onerror = on_error;\n",
       "      element.async = false;\n",
       "      element.src = url;\n",
       "      console.debug(\"Bokeh: injecting script tag for BokehJS library: \", url);\n",
       "      document.head.appendChild(element);\n",
       "    }\n",
       "  };var element = document.getElementById(\"13073\");\n",
       "  if (element == null) {\n",
       "    console.error(\"Bokeh: ERROR: autoload.js configured with elementid '13073' but no matching script tag was found. \")\n",
       "    return false;\n",
       "  }\n",
       "\n",
       "  function inject_raw_css(css) {\n",
       "    const element = document.createElement(\"style\");\n",
       "    element.appendChild(document.createTextNode(css));\n",
       "    document.body.appendChild(element);\n",
       "  }\n",
       "\n",
       "  var js_urls = [\"https://cdn.pydata.org/bokeh/release/bokeh-1.2.0.min.js\", \"https://cdn.pydata.org/bokeh/release/bokeh-widgets-1.2.0.min.js\", \"https://cdn.pydata.org/bokeh/release/bokeh-tables-1.2.0.min.js\", \"https://cdn.pydata.org/bokeh/release/bokeh-gl-1.2.0.min.js\"];\n",
       "  var css_urls = [\"https://cdn.pydata.org/bokeh/release/bokeh-1.2.0.min.css\", \"https://cdn.pydata.org/bokeh/release/bokeh-widgets-1.2.0.min.css\", \"https://cdn.pydata.org/bokeh/release/bokeh-tables-1.2.0.min.css\"];\n",
       "\n",
       "  var inline_js = [\n",
       "    function(Bokeh) {\n",
       "      Bokeh.set_log_level(\"info\");\n",
       "    },\n",
       "    \n",
       "    function(Bokeh) {\n",
       "      \n",
       "    },\n",
       "    function(Bokeh) {} // ensure no trailing comma for IE\n",
       "  ];\n",
       "\n",
       "  function run_inline_js() {\n",
       "    \n",
       "    if ((root.Bokeh !== undefined) || (force === true)) {\n",
       "      for (var i = 0; i < inline_js.length; i++) {\n",
       "        inline_js[i].call(root, root.Bokeh);\n",
       "      }if (force === true) {\n",
       "        display_loaded();\n",
       "      }} else if (Date.now() < root._bokeh_timeout) {\n",
       "      setTimeout(run_inline_js, 100);\n",
       "    } else if (!root._bokeh_failed_load) {\n",
       "      console.log(\"Bokeh: BokehJS failed to load within specified timeout.\");\n",
       "      root._bokeh_failed_load = true;\n",
       "    } else if (force !== true) {\n",
       "      var cell = $(document.getElementById(\"13073\")).parents('.cell').data().cell;\n",
       "      cell.output_area.append_execute_result(NB_LOAD_WARNING)\n",
       "    }\n",
       "\n",
       "  }\n",
       "\n",
       "  if (root._bokeh_is_loading === 0) {\n",
       "    console.debug(\"Bokeh: BokehJS loaded, going straight to plotting\");\n",
       "    run_inline_js();\n",
       "  } else {\n",
       "    load_libs(css_urls, js_urls, function() {\n",
       "      console.debug(\"Bokeh: BokehJS plotting callback run at\", now());\n",
       "      run_inline_js();\n",
       "    });\n",
       "  }\n",
       "}(window));"
      ],
      "application/vnd.bokehjs_load.v0+json": "\n(function(root) {\n  function now() {\n    return new Date();\n  }\n\n  var force = true;\n\n  if (typeof root._bokeh_onload_callbacks === \"undefined\" || force === true) {\n    root._bokeh_onload_callbacks = [];\n    root._bokeh_is_loading = undefined;\n  }\n\n  \n\n  \n  if (typeof (root._bokeh_timeout) === \"undefined\" || force === true) {\n    root._bokeh_timeout = Date.now() + 5000;\n    root._bokeh_failed_load = false;\n  }\n\n  var NB_LOAD_WARNING = {'data': {'text/html':\n     \"<div style='background-color: #fdd'>\\n\"+\n     \"<p>\\n\"+\n     \"BokehJS does not appear to have successfully loaded. If loading BokehJS from CDN, this \\n\"+\n     \"may be due to a slow or bad network connection. Possible fixes:\\n\"+\n     \"</p>\\n\"+\n     \"<ul>\\n\"+\n     \"<li>re-rerun `output_notebook()` to attempt to load from CDN again, or</li>\\n\"+\n     \"<li>use INLINE resources instead, as so:</li>\\n\"+\n     \"</ul>\\n\"+\n     \"<code>\\n\"+\n     \"from bokeh.resources import INLINE\\n\"+\n     \"output_notebook(resources=INLINE)\\n\"+\n     \"</code>\\n\"+\n     \"</div>\"}};\n\n  function display_loaded() {\n    var el = document.getElementById(\"13073\");\n    if (el != null) {\n      el.textContent = \"BokehJS is loading...\";\n    }\n    if (root.Bokeh !== undefined) {\n      if (el != null) {\n        el.textContent = \"BokehJS \" + root.Bokeh.version + \" successfully loaded.\";\n      }\n    } else if (Date.now() < root._bokeh_timeout) {\n      setTimeout(display_loaded, 100)\n    }\n  }\n\n\n  function run_callbacks() {\n    try {\n      root._bokeh_onload_callbacks.forEach(function(callback) {\n        if (callback != null)\n          callback();\n      });\n    } finally {\n      delete root._bokeh_onload_callbacks\n    }\n    console.debug(\"Bokeh: all callbacks have finished\");\n  }\n\n  function load_libs(css_urls, js_urls, callback) {\n    if (css_urls == null) css_urls = [];\n    if (js_urls == null) js_urls = [];\n\n    root._bokeh_onload_callbacks.push(callback);\n    if (root._bokeh_is_loading > 0) {\n      console.debug(\"Bokeh: BokehJS is being loaded, scheduling callback at\", now());\n      return null;\n    }\n    if (js_urls == null || js_urls.length === 0) {\n      run_callbacks();\n      return null;\n    }\n    console.debug(\"Bokeh: BokehJS not loaded, scheduling load and callback at\", now());\n    root._bokeh_is_loading = css_urls.length + js_urls.length;\n\n    function on_load() {\n      root._bokeh_is_loading--;\n      if (root._bokeh_is_loading === 0) {\n        console.debug(\"Bokeh: all BokehJS libraries/stylesheets loaded\");\n        run_callbacks()\n      }\n    }\n\n    function on_error() {\n      console.error(\"failed to load \" + url);\n    }\n\n    for (var i = 0; i < css_urls.length; i++) {\n      var url = css_urls[i];\n      const element = document.createElement(\"link\");\n      element.onload = on_load;\n      element.onerror = on_error;\n      element.rel = \"stylesheet\";\n      element.type = \"text/css\";\n      element.href = url;\n      console.debug(\"Bokeh: injecting link tag for BokehJS stylesheet: \", url);\n      document.body.appendChild(element);\n    }\n\n    for (var i = 0; i < js_urls.length; i++) {\n      var url = js_urls[i];\n      var element = document.createElement('script');\n      element.onload = on_load;\n      element.onerror = on_error;\n      element.async = false;\n      element.src = url;\n      console.debug(\"Bokeh: injecting script tag for BokehJS library: \", url);\n      document.head.appendChild(element);\n    }\n  };var element = document.getElementById(\"13073\");\n  if (element == null) {\n    console.error(\"Bokeh: ERROR: autoload.js configured with elementid '13073' but no matching script tag was found. \")\n    return false;\n  }\n\n  function inject_raw_css(css) {\n    const element = document.createElement(\"style\");\n    element.appendChild(document.createTextNode(css));\n    document.body.appendChild(element);\n  }\n\n  var js_urls = [\"https://cdn.pydata.org/bokeh/release/bokeh-1.2.0.min.js\", \"https://cdn.pydata.org/bokeh/release/bokeh-widgets-1.2.0.min.js\", \"https://cdn.pydata.org/bokeh/release/bokeh-tables-1.2.0.min.js\", \"https://cdn.pydata.org/bokeh/release/bokeh-gl-1.2.0.min.js\"];\n  var css_urls = [\"https://cdn.pydata.org/bokeh/release/bokeh-1.2.0.min.css\", \"https://cdn.pydata.org/bokeh/release/bokeh-widgets-1.2.0.min.css\", \"https://cdn.pydata.org/bokeh/release/bokeh-tables-1.2.0.min.css\"];\n\n  var inline_js = [\n    function(Bokeh) {\n      Bokeh.set_log_level(\"info\");\n    },\n    \n    function(Bokeh) {\n      \n    },\n    function(Bokeh) {} // ensure no trailing comma for IE\n  ];\n\n  function run_inline_js() {\n    \n    if ((root.Bokeh !== undefined) || (force === true)) {\n      for (var i = 0; i < inline_js.length; i++) {\n        inline_js[i].call(root, root.Bokeh);\n      }if (force === true) {\n        display_loaded();\n      }} else if (Date.now() < root._bokeh_timeout) {\n      setTimeout(run_inline_js, 100);\n    } else if (!root._bokeh_failed_load) {\n      console.log(\"Bokeh: BokehJS failed to load within specified timeout.\");\n      root._bokeh_failed_load = true;\n    } else if (force !== true) {\n      var cell = $(document.getElementById(\"13073\")).parents('.cell').data().cell;\n      cell.output_area.append_execute_result(NB_LOAD_WARNING)\n    }\n\n  }\n\n  if (root._bokeh_is_loading === 0) {\n    console.debug(\"Bokeh: BokehJS loaded, going straight to plotting\");\n    run_inline_js();\n  } else {\n    load_libs(css_urls, js_urls, function() {\n      console.debug(\"Bokeh: BokehJS plotting callback run at\", now());\n      run_inline_js();\n    });\n  }\n}(window));"
     },
     "metadata": {},
     "output_type": "display_data"
    }
   ],
   "source": [
    "from math import pi\n",
    "\n",
    "from bokeh.models import HoverTool\n",
    "from bokeh.io import output_file, show, output_notebook \n",
    "from bokeh.plotting import figure\n",
    "from bokeh.transform import cumsum\n",
    "\n",
    "output_notebook()"
   ]
  },
  {
   "cell_type": "code",
   "execution_count": 423,
   "metadata": {
    "collapsed": true
   },
   "outputs": [
    {
     "data": {
      "text/html": [
       "\n",
       "\n",
       "\n",
       "\n",
       "\n",
       "\n",
       "  <div class=\"bk-root\" id=\"17ce0f6b-ebcc-4d31-85b6-1f573cbae394\" data-root-id=\"16077\"></div>\n"
      ]
     },
     "metadata": {},
     "output_type": "display_data"
    },
    {
     "data": {
      "application/javascript": [
       "(function(root) {\n",
       "  function embed_document(root) {\n",
       "    \n",
       "  var docs_json = {\"b5181cc9-1774-4f36-87bc-6b3a011f4cf8\":{\"roots\":{\"references\":[{\"attributes\":{\"below\":[{\"id\":\"16088\",\"type\":\"LinearAxis\"}],\"center\":[{\"id\":\"16092\",\"type\":\"Grid\"},{\"id\":\"16097\",\"type\":\"Grid\"},{\"id\":\"16127\",\"type\":\"Legend\"}],\"left\":[{\"id\":\"16093\",\"type\":\"LinearAxis\"}],\"plot_height\":350,\"renderers\":[{\"id\":\"16119\",\"type\":\"GlyphRenderer\"}],\"title\":{\"id\":\"16078\",\"type\":\"Title\"},\"toolbar\":{\"id\":\"16104\",\"type\":\"Toolbar\"},\"x_range\":{\"id\":\"16080\",\"type\":\"DataRange1d\"},\"x_scale\":{\"id\":\"16084\",\"type\":\"LinearScale\"},\"y_range\":{\"id\":\"16082\",\"type\":\"DataRange1d\"},\"y_scale\":{\"id\":\"16086\",\"type\":\"LinearScale\"}},\"id\":\"16077\",\"subtype\":\"Figure\",\"type\":\"Plot\"},{\"attributes\":{},\"id\":\"16098\",\"type\":\"PanTool\"},{\"attributes\":{\"active_drag\":\"auto\",\"active_inspect\":\"auto\",\"active_multi\":null,\"active_scroll\":\"auto\",\"active_tap\":\"auto\",\"tools\":[{\"id\":\"16098\",\"type\":\"PanTool\"},{\"id\":\"16099\",\"type\":\"WheelZoomTool\"},{\"id\":\"16100\",\"type\":\"BoxZoomTool\"},{\"id\":\"16101\",\"type\":\"SaveTool\"},{\"id\":\"16102\",\"type\":\"ResetTool\"},{\"id\":\"16103\",\"type\":\"HelpTool\"},{\"id\":\"16111\",\"type\":\"HoverTool\"}]},\"id\":\"16104\",\"type\":\"Toolbar\"},{\"attributes\":{},\"id\":\"16123\",\"type\":\"BasicTickFormatter\"},{\"attributes\":{\"label\":{\"field\":\"Is_Open\"},\"renderers\":[{\"id\":\"16119\",\"type\":\"GlyphRenderer\"}]},\"id\":\"16128\",\"type\":\"LegendItem\"},{\"attributes\":{},\"id\":\"16125\",\"type\":\"BasicTickFormatter\"},{\"attributes\":{\"bottom_units\":\"screen\",\"fill_alpha\":{\"value\":0.5},\"fill_color\":{\"value\":\"lightgrey\"},\"left_units\":\"screen\",\"level\":\"overlay\",\"line_alpha\":{\"value\":1.0},\"line_color\":{\"value\":\"black\"},\"line_dash\":[4,4],\"line_width\":{\"value\":2},\"render_mode\":\"css\",\"right_units\":\"screen\",\"top_units\":\"screen\"},\"id\":\"16126\",\"type\":\"BoxAnnotation\"},{\"attributes\":{},\"id\":\"16102\",\"type\":\"ResetTool\"},{\"attributes\":{},\"id\":\"16103\",\"type\":\"HelpTool\"},{\"attributes\":{},\"id\":\"16524\",\"type\":\"Selection\"},{\"attributes\":{},\"id\":\"16101\",\"type\":\"SaveTool\"},{\"attributes\":{},\"id\":\"16084\",\"type\":\"LinearScale\"},{\"attributes\":{},\"id\":\"16525\",\"type\":\"UnionRenderers\"},{\"attributes\":{\"overlay\":{\"id\":\"16126\",\"type\":\"BoxAnnotation\"}},\"id\":\"16100\",\"type\":\"BoxZoomTool\"},{\"attributes\":{\"data_source\":{\"id\":\"16115\",\"type\":\"ColumnDataSource\"},\"glyph\":{\"id\":\"16117\",\"type\":\"Wedge\"},\"hover_glyph\":null,\"muted_glyph\":null,\"nonselection_glyph\":{\"id\":\"16118\",\"type\":\"Wedge\"},\"selection_glyph\":null,\"view\":{\"id\":\"16120\",\"type\":\"CDSView\"}},\"id\":\"16119\",\"type\":\"GlyphRenderer\"},{\"attributes\":{\"callback\":null,\"tooltips\":[[\"Is Open\",\"@Is_Open\"],[\"How Many\",\"@count\"],[\"Percentage\",\"@percentage\"]]},\"id\":\"16111\",\"type\":\"HoverTool\"},{\"attributes\":{},\"id\":\"16099\",\"type\":\"WheelZoomTool\"},{\"attributes\":{\"callback\":null},\"id\":\"16080\",\"type\":\"DataRange1d\"},{\"attributes\":{\"callback\":null},\"id\":\"16082\",\"type\":\"DataRange1d\"},{\"attributes\":{\"dimension\":1,\"grid_line_color\":null,\"ticker\":{\"id\":\"16094\",\"type\":\"BasicTicker\"}},\"id\":\"16097\",\"type\":\"Grid\"},{\"attributes\":{\"axis_label\":null,\"formatter\":{\"id\":\"16123\",\"type\":\"BasicTickFormatter\"},\"ticker\":{\"id\":\"16094\",\"type\":\"BasicTicker\"},\"visible\":false},\"id\":\"16093\",\"type\":\"LinearAxis\"},{\"attributes\":{\"end_angle\":{\"expr\":{\"id\":\"16114\",\"type\":\"CumSum\"},\"units\":\"rad\"},\"fill_color\":{\"field\":\"color\"},\"line_color\":{\"value\":\"white\"},\"radius\":{\"units\":\"data\",\"value\":0.4},\"start_angle\":{\"expr\":{\"id\":\"16113\",\"type\":\"CumSum\"},\"units\":\"rad\"},\"x\":{\"value\":0},\"y\":{\"value\":1}},\"id\":\"16117\",\"type\":\"Wedge\"},{\"attributes\":{\"callback\":null,\"data\":{\"Is_Open\":[true,false],\"angle\":{\"__ndarray__\":\"GVAj5PaAF0Dzzw0CRxDaPw==\",\"dtype\":\"float64\",\"shape\":[2]},\"color\":[\"blue\",\"red\"],\"count\":[101,7],\"index\":[0,1],\"percentage\":{\"__ndarray__\":\"E9pLaC9hV0DQXkJ7Ce0ZQA==\",\"dtype\":\"float64\",\"shape\":[2]}},\"selected\":{\"id\":\"16524\",\"type\":\"Selection\"},\"selection_policy\":{\"id\":\"16525\",\"type\":\"UnionRenderers\"}},\"id\":\"16115\",\"type\":\"ColumnDataSource\"},{\"attributes\":{\"source\":{\"id\":\"16115\",\"type\":\"ColumnDataSource\"}},\"id\":\"16120\",\"type\":\"CDSView\"},{\"attributes\":{\"axis_label\":null,\"formatter\":{\"id\":\"16125\",\"type\":\"BasicTickFormatter\"},\"ticker\":{\"id\":\"16089\",\"type\":\"BasicTicker\"},\"visible\":false},\"id\":\"16088\",\"type\":\"LinearAxis\"},{\"attributes\":{\"grid_line_color\":null,\"ticker\":{\"id\":\"16089\",\"type\":\"BasicTicker\"}},\"id\":\"16092\",\"type\":\"Grid\"},{\"attributes\":{\"field\":\"angle\"},\"id\":\"16114\",\"type\":\"CumSum\"},{\"attributes\":{},\"id\":\"16089\",\"type\":\"BasicTicker\"},{\"attributes\":{\"items\":[{\"id\":\"16128\",\"type\":\"LegendItem\"}]},\"id\":\"16127\",\"type\":\"Legend\"},{\"attributes\":{\"field\":\"angle\",\"include_zero\":true},\"id\":\"16113\",\"type\":\"CumSum\"},{\"attributes\":{},\"id\":\"16086\",\"type\":\"LinearScale\"},{\"attributes\":{\"align\":\"center\",\"text\":\"Stores Availability on Saturdays (in %)\",\"text_font_size\":{\"value\":\"20px\"}},\"id\":\"16078\",\"type\":\"Title\"},{\"attributes\":{},\"id\":\"16094\",\"type\":\"BasicTicker\"},{\"attributes\":{\"end_angle\":{\"expr\":{\"id\":\"16114\",\"type\":\"CumSum\"},\"units\":\"rad\"},\"fill_alpha\":{\"value\":0.1},\"fill_color\":{\"value\":\"#1f77b4\"},\"line_alpha\":{\"value\":0.1},\"line_color\":{\"value\":\"#1f77b4\"},\"radius\":{\"units\":\"data\",\"value\":0.4},\"start_angle\":{\"expr\":{\"id\":\"16113\",\"type\":\"CumSum\"},\"units\":\"rad\"},\"x\":{\"value\":0},\"y\":{\"value\":1}},\"id\":\"16118\",\"type\":\"Wedge\"}],\"root_ids\":[\"16077\"]},\"title\":\"Bokeh Application\",\"version\":\"1.2.0\"}};\n",
       "  var render_items = [{\"docid\":\"b5181cc9-1774-4f36-87bc-6b3a011f4cf8\",\"roots\":{\"16077\":\"17ce0f6b-ebcc-4d31-85b6-1f573cbae394\"}}];\n",
       "  root.Bokeh.embed.embed_items_notebook(docs_json, render_items);\n",
       "\n",
       "  }\n",
       "  if (root.Bokeh !== undefined) {\n",
       "    embed_document(root);\n",
       "  } else {\n",
       "    var attempts = 0;\n",
       "    var timer = setInterval(function(root) {\n",
       "      if (root.Bokeh !== undefined) {\n",
       "        embed_document(root);\n",
       "        clearInterval(timer);\n",
       "      }\n",
       "      attempts++;\n",
       "      if (attempts > 100) {\n",
       "        console.log(\"Bokeh: ERROR: Unable to run BokehJS code because BokehJS library is missing\");\n",
       "        clearInterval(timer);\n",
       "      }\n",
       "    }, 10, root)\n",
       "  }\n",
       "})(window);"
      ],
      "application/vnd.bokehjs_exec.v0+json": ""
     },
     "metadata": {
      "application/vnd.bokehjs_exec.v0+json": {
       "id": "16077"
      }
     },
     "output_type": "display_data"
    }
   ],
   "source": [
    "data = w.reset_index(name='count').rename(columns={'index':'Is_Open'})\n",
    "data['angle'] = data['count']/sum(w.values) * 2*pi\n",
    "data['color'] = ['blue', 'red']\n",
    "data['percentage'] = data['count']/sum(w.values) * 100\n",
    "\n",
    "\n",
    "\n",
    "p = figure(plot_height=350, title=\"Stores Availability on Saturdays (in %)\", toolbar_location='right')\n",
    "\n",
    "hover = HoverTool(tooltips = [('Is Open','@Is_Open'),('How Many','@count'), ('Percentage','@percentage')])\n",
    "p.add_tools(hover)\n",
    "\n",
    "p.title.align = \"center\"\n",
    "p.title.text_font_size = \"20px\"\n",
    "\n",
    "p.wedge(x=0, y=1, radius=0.4, source = data,start_angle=cumsum('angle', include_zero=True), end_angle=cumsum('angle'),\n",
    "        line_color=\"white\", legend='Is_Open', fill_color='color')\n",
    "\n",
    "\n",
    "p.axis.axis_label=None\n",
    "p.axis.visible=False\n",
    "p.grid.grid_line_color = None\n",
    "\n",
    "\n",
    "\n",
    "show(p)"
   ]
  },
  {
   "cell_type": "markdown",
   "metadata": {},
   "source": [
    "### Question 8"
   ]
  },
  {
   "cell_type": "code",
   "execution_count": 359,
   "metadata": {},
   "outputs": [
    {
     "data": {
      "text/html": [
       "<div>\n",
       "<style scoped>\n",
       "    .dataframe tbody tr th:only-of-type {\n",
       "        vertical-align: middle;\n",
       "    }\n",
       "\n",
       "    .dataframe tbody tr th {\n",
       "        vertical-align: top;\n",
       "    }\n",
       "\n",
       "    .dataframe thead th {\n",
       "        text-align: right;\n",
       "    }\n",
       "</style>\n",
       "<table border=\"1\" class=\"dataframe\">\n",
       "  <thead>\n",
       "    <tr style=\"text-align: right;\">\n",
       "      <th></th>\n",
       "      <th>bool</th>\n",
       "      <th>value</th>\n",
       "      <th>angle</th>\n",
       "      <th>color</th>\n",
       "      <th>percentage</th>\n",
       "    </tr>\n",
       "  </thead>\n",
       "  <tbody>\n",
       "    <tr>\n",
       "      <th>0</th>\n",
       "      <td>True</td>\n",
       "      <td>101</td>\n",
       "      <td>5.875942</td>\n",
       "      <td>blue</td>\n",
       "      <td>93.518519</td>\n",
       "    </tr>\n",
       "    <tr>\n",
       "      <th>1</th>\n",
       "      <td>False</td>\n",
       "      <td>7</td>\n",
       "      <td>0.407243</td>\n",
       "      <td>red</td>\n",
       "      <td>6.481481</td>\n",
       "    </tr>\n",
       "  </tbody>\n",
       "</table>\n",
       "</div>"
      ],
      "text/plain": [
       "    bool  value     angle color  percentage\n",
       "0   True    101  5.875942  blue   93.518519\n",
       "1  False      7  0.407243   red    6.481481"
      ]
     },
     "execution_count": 359,
     "metadata": {},
     "output_type": "execute_result"
    }
   ],
   "source": [
    "data"
   ]
  },
  {
   "cell_type": "code",
   "execution_count": 242,
   "metadata": {},
   "outputs": [],
   "source": [
    "mask2 = c[\"ThruTime.MF\"]== dt.time(23)\n",
    "\n",
    "eleven_pm_stores = c[mask2][\"Store Name\"].to_list()"
   ]
  },
  {
   "cell_type": "code",
   "execution_count": 233,
   "metadata": {
    "collapsed": true
   },
   "outputs": [
    {
     "data": {
      "text/plain": [
       "['White Bridge',\n",
       " 'Knoxville West',\n",
       " 'Smyrna',\n",
       " 'Pensacola',\n",
       " 'Cool Springs',\n",
       " 'Tallahassee',\n",
       " 'Alpharetta',\n",
       " 'Cobb',\n",
       " 'Augusta',\n",
       " 'Columbus',\n",
       " 'Greenville',\n",
       " 'Buckhead',\n",
       " 'Buford',\n",
       " 'Chattanooga East',\n",
       " 'Huntsville West',\n",
       " 'Huntsville South',\n",
       " 'Farragut',\n",
       " 'Mobile West',\n",
       " 'Northlake',\n",
       " 'Hiram',\n",
       " 'Athens',\n",
       " 'McDonough',\n",
       " 'North Druid Hills',\n",
       " 'East Point',\n",
       " 'Birmingham 280 Corridor',\n",
       " 'Asheville',\n",
       " 'Greer',\n",
       " 'Atlanta Edgewood',\n",
       " 'Brentwood',\n",
       " 'Atlanta Perimeter',\n",
       " \"John's Creek\",\n",
       " 'Marietta East',\n",
       " 'Atlanta Midtown',\n",
       " 'Buckhead South',\n",
       " 'Pier Park',\n",
       " 'Nashville West',\n",
       " 'Sandy Springs Prado',\n",
       " 'Smyrna',\n",
       " 'Hoover West',\n",
       " 'Homewood']"
      ]
     },
     "execution_count": 233,
     "metadata": {},
     "output_type": "execute_result"
    }
   ],
   "source": [
    "eleven_pm_stores"
   ]
  },
  {
   "cell_type": "markdown",
   "metadata": {},
   "source": [
    "### Question 9"
   ]
  },
  {
   "cell_type": "code",
   "execution_count": 243,
   "metadata": {},
   "outputs": [],
   "source": [
    "# list of stores remodelled and remodel date\n",
    "\n",
    "mask1 = c[\"LocationMilestones.LastRemodelDate\"].notnull()\n",
    "\n",
    "# list of stores that were remodeled\n",
    "store_names = c[mask1][\"Store Name\"].to_list()\n",
    "\n",
    "# list of store remodel dates\n",
    "remodel_dates = c[mask1][\"LocationMilestones.LastRemodelDate\"].to_list()"
   ]
  },
  {
   "cell_type": "code",
   "execution_count": 227,
   "metadata": {},
   "outputs": [],
   "source": [
    "remodeled_stores = {}\n",
    "\n",
    "for i,j in zip(store_names, remodel_dates):\n",
    "    remodeled_stores[i] = j\n",
    "    "
   ]
  },
  {
   "cell_type": "code",
   "execution_count": 228,
   "metadata": {
    "collapsed": true
   },
   "outputs": [
    {
     "data": {
      "text/plain": [
       "{'Rivergate': datetime.date(2007, 3, 23),\n",
       " 'White Bridge': datetime.date(2012, 3, 22),\n",
       " 'Knoxville West': datetime.date(2014, 4, 3),\n",
       " 'Smyrna': datetime.date(2012, 3, 22),\n",
       " 'Pensacola': datetime.date(2012, 6, 21),\n",
       " 'Cool Springs': datetime.date(2012, 6, 21),\n",
       " 'Albany': datetime.date(2012, 3, 22),\n",
       " 'Mary Esther': datetime.date(2013, 6, 27),\n",
       " 'Lawrenceville': datetime.date(2017, 3, 30),\n",
       " 'Riverwood': datetime.date(2013, 6, 27),\n",
       " 'Valdosta': datetime.date(2012, 6, 21),\n",
       " 'Fayetteville': datetime.date(2007, 10, 18),\n",
       " 'Knoxville NW': datetime.date(2017, 4, 13),\n",
       " 'Gainesville': datetime.date(2017, 3, 30),\n",
       " 'Bel-Air': datetime.date(2003, 8, 12),\n",
       " 'Panama City': datetime.date(2012, 3, 22),\n",
       " 'Tallahassee': datetime.date(2012, 3, 22),\n",
       " 'Snellville': datetime.date(2012, 6, 21),\n",
       " 'Cartersville': datetime.date(2017, 3, 30),\n",
       " 'Alpharetta': datetime.date(2012, 10, 11),\n",
       " 'Cobb': datetime.date(2012, 6, 21),\n",
       " 'Peachtree Corners': datetime.date(2017, 10, 26),\n",
       " 'Nashville East': datetime.date(2010, 10, 14),\n",
       " 'Augusta': datetime.date(2014, 10, 12),\n",
       " 'Cobb NE': datetime.date(2004, 9, 19),\n",
       " 'Murfreesboro': datetime.date(2012, 3, 22),\n",
       " 'Austell': datetime.date(2004, 8, 8),\n",
       " 'West Marietta': datetime.date(2013, 6, 27),\n",
       " 'Columbus': datetime.date(2004, 10, 17),\n",
       " 'Greenville': datetime.date(2012, 6, 21),\n",
       " 'Buckhead': datetime.date(2012, 6, 21),\n",
       " 'Anderson': datetime.date(2012, 3, 22),\n",
       " 'Buford': datetime.date(2012, 3, 22),\n",
       " 'Newnan': datetime.date(2013, 6, 27),\n",
       " 'Maryville': datetime.date(2004, 8, 8),\n",
       " 'Pensacola NE': datetime.date(2012, 10, 11),\n",
       " 'Daphne': datetime.date(2018, 4, 13),\n",
       " 'Chattanooga East': datetime.date(2012, 6, 21),\n",
       " 'Aiken': datetime.date(2006, 5, 12),\n",
       " 'Florence': datetime.date(2007, 7, 13),\n",
       " 'Spartanburg': datetime.date(2012, 6, 21),\n",
       " 'Warner Robins': datetime.date(2007, 4, 13),\n",
       " 'Northlake': datetime.date(2012, 3, 22),\n",
       " 'Athens': datetime.date(2012, 3, 22),\n",
       " 'Dothan': datetime.date(2012, 10, 11),\n",
       " 'North Druid Hills': datetime.date(2013, 3, 21),\n",
       " 'Hendersonville': datetime.date(2012, 10, 11),\n",
       " 'East Point': datetime.date(2012, 6, 21),\n",
       " 'Roswell': datetime.date(2000, 3, 1),\n",
       " 'Tuscaloosa': datetime.date(2017, 10, 26),\n",
       " 'Asheville': datetime.date(2012, 3, 22),\n",
       " 'Montgomery': datetime.date(2014, 4, 3),\n",
       " 'Simpsonville': datetime.date(2012, 10, 11),\n",
       " 'Greer': datetime.date(2012, 3, 22),\n",
       " 'Franklin': datetime.date(2012, 10, 11),\n",
       " 'Atlanta Edgewood': datetime.date(2012, 3, 22),\n",
       " 'Tallahassee North': datetime.date(2009, 7, 9),\n",
       " 'Brentwood': datetime.date(2012, 6, 21),\n",
       " 'Asheville South': datetime.date(2012, 6, 21),\n",
       " 'Chattanooga North': datetime.date(2012, 3, 22),\n",
       " 'Knoxville North': datetime.date(2014, 4, 3),\n",
       " 'Destin': datetime.date(2012, 3, 22),\n",
       " 'Marietta East': datetime.date(2012, 3, 22),\n",
       " 'Mt Juliet': datetime.date(2012, 6, 21),\n",
       " 'Peachtree City': datetime.date(2013, 10, 10),\n",
       " 'Atlanta Midtown': datetime.date(2012, 3, 22),\n",
       " 'Gulf Shores': datetime.date(2012, 6, 21),\n",
       " 'Buckhead South': datetime.date(2012, 6, 21),\n",
       " 'Conyers': datetime.date(2012, 6, 21),\n",
       " 'Pier Park': datetime.date(2012, 3, 22),\n",
       " 'Nashville West': datetime.date(2012, 3, 22),\n",
       " 'Pace': datetime.date(2012, 10, 11),\n",
       " 'Sandy Springs Prado': datetime.date(2013, 10, 10)}"
      ]
     },
     "execution_count": 228,
     "metadata": {},
     "output_type": "execute_result"
    }
   ],
   "source": [
    "remodeled_stores"
   ]
  },
  {
   "cell_type": "markdown",
   "metadata": {},
   "source": [
    "### Question 10"
   ]
  },
  {
   "cell_type": "code",
   "execution_count": 75,
   "metadata": {},
   "outputs": [],
   "source": [
    "# Grouping the dataframe by Address City\n",
    "\n",
    "d = c.groupby(\"Address.City\")"
   ]
  },
  {
   "cell_type": "code",
   "execution_count": 84,
   "metadata": {
    "collapsed": true
   },
   "outputs": [
    {
     "data": {
      "text/plain": [
       "Address.City\n",
       "Acworth              1\n",
       "Aiken                1\n",
       "Alabaster            1\n",
       "Albany               1\n",
       "Alpharetta           1\n",
       "Anderson             1\n",
       "Arden                1\n",
       "Asheville            1\n",
       "Athens               1\n",
       "Atlanta              6\n",
       "Augusta              1\n",
       "Austell              1\n",
       "Bessemer             1\n",
       "Bethlehem            1\n",
       "Birmingham           3\n",
       "Brentwood            1\n",
       "Buford               1\n",
       "Canton               1\n",
       "Carrollton           1\n",
       "Cartersville         1\n",
       "Chattanooga          1\n",
       "Cleveland            1\n",
       "Columbus             1\n",
       "Conyers              1\n",
       "Cumming              1\n",
       "Daphne               1\n",
       "Decatur              1\n",
       "Destin               1\n",
       "Dothan               1\n",
       "Douglasville         1\n",
       "                    ..\n",
       "Mobile               2\n",
       "Montgomery           1\n",
       "Mount Juliet         1\n",
       "Murfreesboro         1\n",
       "Nashville            3\n",
       "Newnan               1\n",
       "Opelika              1\n",
       "Oxford               1\n",
       "Pace                 1\n",
       "Panama City          1\n",
       "Panama City Beach    1\n",
       "Peachtree City       1\n",
       "Peachtree Corners    1\n",
       "Pensacola            3\n",
       "Prattville           1\n",
       "Roswell              1\n",
       "Sandy Springs        1\n",
       "Simpsonville         1\n",
       "Smyrna               2\n",
       "Snellville           1\n",
       "Spartanburg          1\n",
       "Spring Hill          1\n",
       "Suwanee              1\n",
       "Tallahassee          2\n",
       "Taylors              1\n",
       "Tucker               1\n",
       "Tuscaloosa           1\n",
       "Valdosta             1\n",
       "Warner Robins        1\n",
       "Woodstock            1\n",
       "Length: 85, dtype: int64"
      ]
     },
     "execution_count": 84,
     "metadata": {},
     "output_type": "execute_result"
    }
   ],
   "source": [
    "# Count of occurence\n",
    "d.size()"
   ]
  },
  {
   "cell_type": "markdown",
   "metadata": {},
   "source": [
    "### Question 11"
   ]
  },
  {
   "cell_type": "code",
   "execution_count": 70,
   "metadata": {},
   "outputs": [],
   "source": [
    "time_range = pd.date_range('2018-01-01', periods=10, freq='YS')"
   ]
  },
  {
   "cell_type": "code",
   "execution_count": 71,
   "metadata": {},
   "outputs": [],
   "source": [
    "time_series = pd.Series(time_range)"
   ]
  },
  {
   "cell_type": "code",
   "execution_count": 72,
   "metadata": {
    "collapsed": true
   },
   "outputs": [
    {
     "data": {
      "text/plain": [
       "0   2018-01-01\n",
       "1   2019-01-01\n",
       "2   2020-01-01\n",
       "3   2021-01-01\n",
       "4   2022-01-01\n",
       "5   2023-01-01\n",
       "6   2024-01-01\n",
       "7   2025-01-01\n",
       "8   2026-01-01\n",
       "9   2027-01-01\n",
       "dtype: datetime64[ns]"
      ]
     },
     "execution_count": 72,
     "metadata": {},
     "output_type": "execute_result"
    }
   ],
   "source": [
    "time_series"
   ]
  },
  {
   "cell_type": "code",
   "execution_count": 241,
   "metadata": {
    "collapsed": true
   },
   "outputs": [
    {
     "data": {
      "text/html": [
       "<div>\n",
       "<style scoped>\n",
       "    .dataframe tbody tr th:only-of-type {\n",
       "        vertical-align: middle;\n",
       "    }\n",
       "\n",
       "    .dataframe tbody tr th {\n",
       "        vertical-align: top;\n",
       "    }\n",
       "\n",
       "    .dataframe thead th {\n",
       "        text-align: right;\n",
       "    }\n",
       "</style>\n",
       "<table border=\"1\" class=\"dataframe\">\n",
       "  <thead>\n",
       "    <tr style=\"text-align: right;\">\n",
       "      <th></th>\n",
       "      <th>Address.City</th>\n",
       "      <th>ID</th>\n",
       "      <th>LocationMilestones.LastRemodelDate</th>\n",
       "      <th>LocationMilestones.OpenDate</th>\n",
       "      <th>Store Name</th>\n",
       "      <th>Store.StoreDistrictID</th>\n",
       "      <th>TimeZone.TimeZoneCode</th>\n",
       "      <th>PhoneNumber</th>\n",
       "      <th>FaxNumber</th>\n",
       "      <th>BeginTime.MF</th>\n",
       "      <th>ThruTime.MF</th>\n",
       "      <th>IsOpen.Sat</th>\n",
       "      <th>IsOpen.Sun</th>\n",
       "    </tr>\n",
       "  </thead>\n",
       "  <tbody>\n",
       "    <tr>\n",
       "      <th>0</th>\n",
       "      <td>Madison</td>\n",
       "      <td>144</td>\n",
       "      <td>2007-03-23</td>\n",
       "      <td>1981-02-24</td>\n",
       "      <td>Rivergate</td>\n",
       "      <td>333</td>\n",
       "      <td>CST</td>\n",
       "      <td>(615) 859-5260</td>\n",
       "      <td>(615) 756-3261</td>\n",
       "      <td>08:00:00</td>\n",
       "      <td>22:00:00</td>\n",
       "      <td>True</td>\n",
       "      <td>True</td>\n",
       "    </tr>\n",
       "    <tr>\n",
       "      <th>1</th>\n",
       "      <td>Nashville</td>\n",
       "      <td>146</td>\n",
       "      <td>2012-03-22</td>\n",
       "      <td>1981-07-22</td>\n",
       "      <td>White Bridge</td>\n",
       "      <td>369</td>\n",
       "      <td>CST</td>\n",
       "      <td>(615) 352-8461</td>\n",
       "      <td>(615) 970-3683</td>\n",
       "      <td>08:00:00</td>\n",
       "      <td>23:00:00</td>\n",
       "      <td>True</td>\n",
       "      <td>True</td>\n",
       "    </tr>\n",
       "    <tr>\n",
       "      <th>2</th>\n",
       "      <td>Knoxville</td>\n",
       "      <td>151</td>\n",
       "      <td>2014-04-03</td>\n",
       "      <td>1981-07-22</td>\n",
       "      <td>Knoxville West</td>\n",
       "      <td>351</td>\n",
       "      <td>EST</td>\n",
       "      <td>(865) 693-2203</td>\n",
       "      <td>(865) 291-4819</td>\n",
       "      <td>08:00:00</td>\n",
       "      <td>23:00:00</td>\n",
       "      <td>True</td>\n",
       "      <td>False</td>\n",
       "    </tr>\n",
       "    <tr>\n",
       "      <th>3</th>\n",
       "      <td>Smyrna</td>\n",
       "      <td>373</td>\n",
       "      <td>2012-03-22</td>\n",
       "      <td>1989-04-26</td>\n",
       "      <td>Smyrna</td>\n",
       "      <td>334</td>\n",
       "      <td>EST</td>\n",
       "      <td>(770) 952-2241</td>\n",
       "      <td>(770) 250-7501</td>\n",
       "      <td>08:00:00</td>\n",
       "      <td>23:00:00</td>\n",
       "      <td>True</td>\n",
       "      <td>False</td>\n",
       "    </tr>\n",
       "    <tr>\n",
       "      <th>4</th>\n",
       "      <td>Pensacola</td>\n",
       "      <td>686</td>\n",
       "      <td>2012-06-21</td>\n",
       "      <td>1992-03-11</td>\n",
       "      <td>Pensacola</td>\n",
       "      <td>359</td>\n",
       "      <td>CST</td>\n",
       "      <td>(850) 494-9070</td>\n",
       "      <td>(850) 466-4685</td>\n",
       "      <td>08:00:00</td>\n",
       "      <td>23:00:00</td>\n",
       "      <td>True</td>\n",
       "      <td>True</td>\n",
       "    </tr>\n",
       "  </tbody>\n",
       "</table>\n",
       "</div>"
      ],
      "text/plain": [
       "  Address.City   ID LocationMilestones.LastRemodelDate  \\\n",
       "0      Madison  144                         2007-03-23   \n",
       "1    Nashville  146                         2012-03-22   \n",
       "2    Knoxville  151                         2014-04-03   \n",
       "3       Smyrna  373                         2012-03-22   \n",
       "4    Pensacola  686                         2012-06-21   \n",
       "\n",
       "  LocationMilestones.OpenDate      Store Name  Store.StoreDistrictID  \\\n",
       "0                  1981-02-24       Rivergate                    333   \n",
       "1                  1981-07-22    White Bridge                    369   \n",
       "2                  1981-07-22  Knoxville West                    351   \n",
       "3                  1989-04-26          Smyrna                    334   \n",
       "4                  1992-03-11       Pensacola                    359   \n",
       "\n",
       "  TimeZone.TimeZoneCode     PhoneNumber       FaxNumber BeginTime.MF  \\\n",
       "0                   CST  (615) 859-5260  (615) 756-3261     08:00:00   \n",
       "1                   CST  (615) 352-8461  (615) 970-3683     08:00:00   \n",
       "2                   EST  (865) 693-2203  (865) 291-4819     08:00:00   \n",
       "3                   EST  (770) 952-2241  (770) 250-7501     08:00:00   \n",
       "4                   CST  (850) 494-9070  (850) 466-4685     08:00:00   \n",
       "\n",
       "  ThruTime.MF  IsOpen.Sat  IsOpen.Sun  \n",
       "0    22:00:00        True        True  \n",
       "1    23:00:00        True        True  \n",
       "2    23:00:00        True       False  \n",
       "3    23:00:00        True       False  \n",
       "4    23:00:00        True        True  "
      ]
     },
     "execution_count": 241,
     "metadata": {},
     "output_type": "execute_result"
    }
   ],
   "source": [
    "c.head()"
   ]
  },
  {
   "cell_type": "code",
   "execution_count": null,
   "metadata": {},
   "outputs": [],
   "source": []
  },
  {
   "cell_type": "code",
   "execution_count": null,
   "metadata": {},
   "outputs": [],
   "source": []
  },
  {
   "cell_type": "code",
   "execution_count": null,
   "metadata": {},
   "outputs": [],
   "source": []
  },
  {
   "cell_type": "code",
   "execution_count": null,
   "metadata": {},
   "outputs": [],
   "source": []
  },
  {
   "cell_type": "code",
   "execution_count": null,
   "metadata": {},
   "outputs": [],
   "source": []
  },
  {
   "cell_type": "code",
   "execution_count": null,
   "metadata": {},
   "outputs": [],
   "source": []
  },
  {
   "cell_type": "code",
   "execution_count": null,
   "metadata": {},
   "outputs": [],
   "source": []
  }
 ],
 "metadata": {
  "kernelspec": {
   "display_name": "Python 3",
   "language": "python",
   "name": "python3"
  },
  "language_info": {
   "codemirror_mode": {
    "name": "ipython",
    "version": 3
   },
   "file_extension": ".py",
   "mimetype": "text/x-python",
   "name": "python",
   "nbconvert_exporter": "python",
   "pygments_lexer": "ipython3",
   "version": "3.6.5"
  }
 },
 "nbformat": 4,
 "nbformat_minor": 2
}
