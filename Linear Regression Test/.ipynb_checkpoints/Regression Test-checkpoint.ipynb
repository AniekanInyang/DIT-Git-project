{
 "cells": [
  {
   "cell_type": "code",
   "execution_count": 19,
   "metadata": {},
   "outputs": [
    {
     "ename": "ValueError",
     "evalue": "too many values to unpack (expected 2)",
     "output_type": "error",
     "traceback": [
      "\u001b[1;31m---------------------------------------------------------------------------\u001b[0m",
      "\u001b[1;31mValueError\u001b[0m                                Traceback (most recent call last)",
      "\u001b[1;32m<ipython-input-19-a63d27da1d77>\u001b[0m in \u001b[0;36m<module>\u001b[1;34m()\u001b[0m\n\u001b[0;32m     21\u001b[0m \u001b[0mY\u001b[0m \u001b[1;33m=\u001b[0m \u001b[1;33m[\u001b[0m\u001b[1;33m]\u001b[0m\u001b[1;33m\u001b[0m\u001b[0m\n\u001b[0;32m     22\u001b[0m \u001b[1;32mfor\u001b[0m \u001b[0mline\u001b[0m \u001b[1;32min\u001b[0m \u001b[0mopen\u001b[0m\u001b[1;33m(\u001b[0m\u001b[1;34m\"weight-height.csv\"\u001b[0m\u001b[1;33m)\u001b[0m\u001b[1;33m:\u001b[0m\u001b[1;33m\u001b[0m\u001b[0m\n\u001b[1;32m---> 23\u001b[1;33m     \u001b[0mx\u001b[0m\u001b[1;33m,\u001b[0m \u001b[0my\u001b[0m \u001b[1;33m=\u001b[0m \u001b[0mline\u001b[0m\u001b[1;33m.\u001b[0m\u001b[0msplit\u001b[0m\u001b[1;33m(\u001b[0m\u001b[1;34m','\u001b[0m\u001b[1;33m)\u001b[0m\u001b[1;33m\u001b[0m\u001b[0m\n\u001b[0m\u001b[0;32m     24\u001b[0m     \u001b[0mX\u001b[0m\u001b[1;33m.\u001b[0m\u001b[0mappend\u001b[0m\u001b[1;33m(\u001b[0m\u001b[0mfloat\u001b[0m\u001b[1;33m(\u001b[0m\u001b[0mx\u001b[0m\u001b[1;33m)\u001b[0m\u001b[1;33m)\u001b[0m\u001b[1;33m\u001b[0m\u001b[0m\n\u001b[0;32m     25\u001b[0m     \u001b[0mY\u001b[0m\u001b[1;33m.\u001b[0m\u001b[0mappend\u001b[0m\u001b[1;33m(\u001b[0m\u001b[0mfloat\u001b[0m\u001b[1;33m(\u001b[0m\u001b[0my\u001b[0m\u001b[1;33m)\u001b[0m\u001b[1;33m)\u001b[0m\u001b[1;33m\u001b[0m\u001b[0m\n",
      "\u001b[1;31mValueError\u001b[0m: too many values to unpack (expected 2)"
     ]
    }
   ],
   "source": [
    "import numpy as np\n",
    "import matplotlib.pyplot as plt\n",
    "import pandas as pd\n",
    "\n",
    "\n",
    "#weight-height.csv\n",
    "#load the data\n",
    "\n",
    "df = pd.read_csv(\"weight-height.csv\")\n",
    "df.drop(\"Gender\", axis = 1, inplace=True)\n",
    "new_df = df[['Weight','Height']]\n",
    "new_df\n",
    "\n",
    "# df = pd.read_csv(\"weight-height.csv\", header=None, skiprows=1)\n",
    "# new_df = df.drop(columns=0)\n",
    "# new_df = df[[2, 1]] # i change their position by their index position and then save as new_weight.csv\n",
    "# new_df.to_csv('new_weight.csv', index = False)\n",
    "\n",
    "\n",
    "X = []\n",
    "Y = []\n",
    "for line in open(\"weight-height.csv\"):\n",
    "    x, y = line.split(',')\n",
    "    X.append(float(x))\n",
    "    Y.append(float(y))\n",
    "    \n",
    "#Turning X and Y into numpy arrays\n",
    "X = np.array(X)\n",
    "Y = np.array(Y)\n",
    "\n",
    "#plot to see what it looks like\n",
    "plt.scatter(X, Y)\n",
    "plt.show()\n",
    "\n",
    "# apply the equations we learned to calculate\n",
    "\n",
    "denominator = X.dot(X) - X.mean() * X.sum()\n",
    "a = (X.dot(Y) - Y.mean() * X.sum() ) / denominator\n",
    "b = (Y.mean() * X.dot(X) - X.mean() * X.dot(Y) ) / denominator\n",
    "\n",
    "#to calculte the predicted y\n",
    "Yhat = a * X + b\n",
    "\n",
    "#plot it all\n",
    "plt.scatter(X, Y)\n",
    "plt.plot(X, Yhat)\n",
    "plt.show()\n",
    "\n",
    "#Calculate r-squared for number 1\n",
    "d1 = Y - Yhat\n",
    "d2 = Y - Y.mean() \n",
    "r2_one = 1 - d1.dot(d1) / d2.dot(d2)\n",
    "print(\"the r-squared for quastion 1 is: \", r2_one)"
   ]
  },
  {
   "cell_type": "code",
   "execution_count": 18,
   "metadata": {},
   "outputs": [
    {
     "name": "stdout",
     "output_type": "stream",
     "text": [
      "the r-squared for question 2 is:  0.660007579992113\n"
     ]
    }
   ],
   "source": [
    "N = 1000\n",
    "X = np.linspace(0, 10, N) #leaving space points between 0 and 10\n",
    "Y = 0.5*X + np.random.randn(N)\n",
    "\n",
    "#we sole for best weight by adding bias term\n",
    "X = np.vstack([np.ones(N), X]).T\n",
    "\n",
    "w_ml = np.linalg.solve(X.T.dot(X), X.T.dot(Y))\n",
    "Yhat_ml = X.dot(w_ml)\n",
    "\n",
    "#Calculate r-squared for number 2\n",
    "d1 = Y - Yhat_ml\n",
    "d2 = Y - Y.mean() \n",
    "r2 = 1 - d1.dot(d1) / d2.dot(d2)\n",
    "print(\"the r-squared for question 2 is: \", r2)"
   ]
  },
  {
   "cell_type": "code",
   "execution_count": null,
   "metadata": {},
   "outputs": [],
   "source": []
  },
  {
   "cell_type": "code",
   "execution_count": null,
   "metadata": {},
   "outputs": [],
   "source": []
  }
 ],
 "metadata": {
  "kernelspec": {
   "display_name": "Python 3",
   "language": "python",
   "name": "python3"
  },
  "language_info": {
   "codemirror_mode": {
    "name": "ipython",
    "version": 3
   },
   "file_extension": ".py",
   "mimetype": "text/x-python",
   "name": "python",
   "nbconvert_exporter": "python",
   "pygments_lexer": "ipython3",
   "version": "3.6.5"
  }
 },
 "nbformat": 4,
 "nbformat_minor": 2
}
