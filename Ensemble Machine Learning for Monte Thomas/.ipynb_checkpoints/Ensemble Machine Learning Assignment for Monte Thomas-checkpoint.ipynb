{
 "cells": [
  {
   "cell_type": "code",
   "execution_count": 51,
   "metadata": {},
   "outputs": [],
   "source": [
    "from __future__ import print_function, division\n",
    "\n",
    "from sklearn.model_selection import GridSearchCV\n",
    "from sklearn.neighbors import KNeighborsClassifier\n",
    "from sklearn.ensemble import VotingClassifier, RandomForestClassifier\n",
    "from sklearn.linear_model import LogisticRegression\n",
    "from sklearn.model_selection import train_test_split\n",
    "from sklearn.preprocessing import StandardScaler\n",
    "import matplotlib.pyplot as plt\n",
    "import pandas as pd\n",
    "import numpy as np\n",
    "\n",
    "from future.utils import iteritems\n",
    "from builtins import range, input\n",
    "\n",
    "\n",
    "from sklearn.ensemble import RandomForestRegressor\n",
    "from sklearn.ensemble import BaggingRegressor"
   ]
  },
  {
   "cell_type": "code",
   "execution_count": null,
   "metadata": {},
   "outputs": [],
   "source": []
  },
  {
   "cell_type": "markdown",
   "metadata": {},
   "source": [
    "# 1. Use two model ensembling methods to predict Y"
   ]
  },
  {
   "cell_type": "code",
   "execution_count": 52,
   "metadata": {},
   "outputs": [],
   "source": [
    "NUMERICAL_COLS = [\n",
    "    '# num_pages',\n",
    "    'ratings_count',\n",
    "    'text_reviews_count'\n",
    "]\n",
    "\n",
    "\n",
    "\n",
    "class DataTransformer:\n",
    "    def fit(self, df):\n",
    "        self.scalers = {}\n",
    "        for col in NUMERICAL_COLS:\n",
    "            scaler = StandardScaler()\n",
    "            scaler.fit(df[col].values.reshape(-1, 1))\n",
    "            self.scalers[col] = scaler\n",
    "\n",
    "    def transform(self, df):\n",
    "        N, _ = df.shape\n",
    "        D = len(NUMERICAL_COLS) #There was no need to create a NO_TRANSFORM column as seen the video example since there was no ready binary column in the data set\n",
    "        X = np.zeros((N, D))\n",
    "        i = 0\n",
    "        for col, scaler in iteritems(self.scalers):\n",
    "            X[:, i] = scaler.transform(df[col].values.reshape(-1, 1)).flatten()\n",
    "            i += 1\n",
    "        return X\n",
    "\n",
    "    def fit_transform(self, df):\n",
    "        self.fit(df)\n",
    "        return self.transform(df)"
   ]
  },
  {
   "cell_type": "code",
   "execution_count": null,
   "metadata": {},
   "outputs": [],
   "source": []
  },
  {
   "cell_type": "code",
   "execution_count": 53,
   "metadata": {},
   "outputs": [],
   "source": [
    "def get_data():\n",
    "    df = pd.read_csv('data.csv') #Loading data directly from the directory on the local storage\n",
    "\n",
    "    transformer = DataTransformer()\n",
    "\n",
    "    # shuffle the data\n",
    "    N = len(df)\n",
    "    train_idx = np.random.choice(N, size=int(0.7 * N), replace=False)\n",
    "    test_idx = [i for i in range(N) if i not in train_idx]\n",
    "    df_train = df.loc[train_idx]\n",
    "    df_test = df.loc[test_idx]\n",
    "\n",
    "    Xtrain = transformer.fit_transform(df_train)\n",
    "    Ytrain = df_train['average_rating'].values.astype(float)\n",
    "    Ytrain = Ytrain / Ytrain.max()\n",
    "    # Ytrain = np.log(df_train['average_rating'].values.astype(np.float))\n",
    "    # train_nan_index = np.where(np.isnan(Xtrain))[0]\n",
    "    # Xtrain = np.delete(Xtrain, train_nan_index, axis=0)\n",
    "    # Ytrain = np.delete(Ytrain, train_nan_index, axis=0)\n",
    "\n",
    "    Xtest = transformer.transform(df_test)\n",
    "    Ytest = df_test['average_rating'].values.astype(float)\n",
    "    Ytest = Ytest / Ytest.max()\n",
    "    # test_nan_index = np.where(np.isnan(Xtest))[0]\n",
    "    # Xtest = np.delete(Xtest, test_nan_index, axis=0)\n",
    "    # Ytest = np.delete(Ytest, test_nan_index, axis=0)\n",
    "\n",
    "    return Xtrain, Ytrain, Xtest, Ytest"
   ]
  },
  {
   "cell_type": "code",
   "execution_count": 54,
   "metadata": {},
   "outputs": [
    {
     "name": "stderr",
     "output_type": "stream",
     "text": [
      "C:\\Users\\USER\\Anaconda3\\lib\\site-packages\\sklearn\\utils\\validation.py:595: DataConversionWarning: Data with input dtype int64 was converted to float64 by StandardScaler.\n",
      "  warnings.warn(msg, DataConversionWarning)\n",
      "C:\\Users\\USER\\Anaconda3\\lib\\site-packages\\sklearn\\utils\\validation.py:595: DataConversionWarning: Data with input dtype int64 was converted to float64 by StandardScaler.\n",
      "  warnings.warn(msg, DataConversionWarning)\n",
      "C:\\Users\\USER\\Anaconda3\\lib\\site-packages\\sklearn\\utils\\validation.py:595: DataConversionWarning: Data with input dtype int64 was converted to float64 by StandardScaler.\n",
      "  warnings.warn(msg, DataConversionWarning)\n",
      "C:\\Users\\USER\\Anaconda3\\lib\\site-packages\\sklearn\\utils\\validation.py:595: DataConversionWarning: Data with input dtype int64 was converted to float64 by StandardScaler.\n",
      "  warnings.warn(msg, DataConversionWarning)\n",
      "C:\\Users\\USER\\Anaconda3\\lib\\site-packages\\sklearn\\utils\\validation.py:595: DataConversionWarning: Data with input dtype int64 was converted to float64 by StandardScaler.\n",
      "  warnings.warn(msg, DataConversionWarning)\n",
      "C:\\Users\\USER\\Anaconda3\\lib\\site-packages\\sklearn\\utils\\validation.py:595: DataConversionWarning: Data with input dtype int64 was converted to float64 by StandardScaler.\n",
      "  warnings.warn(msg, DataConversionWarning)\n"
     ]
    }
   ],
   "source": [
    "Xtrain, Ytrain, Xtest, Ytest = get_data()"
   ]
  },
  {
   "cell_type": "code",
   "execution_count": null,
   "metadata": {},
   "outputs": [],
   "source": []
  },
  {
   "cell_type": "code",
   "execution_count": null,
   "metadata": {},
   "outputs": [],
   "source": [
    "#I created a new rf classifier, did a gridsearch and got 200 as the best estimator\n",
    "rf = RandomForestRegressor()\n",
    "\n",
    "#create a dictionary of all values we want to test for n_estimators\n",
    "params_rf = {'n_estimators': [50, 100, 200]}\n",
    "\n",
    "#use gridsearch to test all values for n_estimators\n",
    "rf_gs = GridSearchCV(rf, params_rf, cv=5, error_score='raise')\n",
    "\n",
    "#fit model to training data\n",
    "rf_gs.fit(Xtrain, Ytrain)"
   ]
  },
  {
   "cell_type": "code",
   "execution_count": 88,
   "metadata": {},
   "outputs": [
    {
     "name": "stdout",
     "output_type": "stream",
     "text": [
      "{'n_estimators': 200}\n"
     ]
    }
   ],
   "source": [
    "#save best model\n",
    "rf_best = rf_gs.best_estimator_\n",
    "\n",
    "#check best n_estimators value\n",
    "print(rf_gs.best_params_)"
   ]
  },
  {
   "cell_type": "code",
   "execution_count": null,
   "metadata": {},
   "outputs": [],
   "source": []
  },
  {
   "cell_type": "code",
   "execution_count": 66,
   "metadata": {},
   "outputs": [
    {
     "data": {
      "image/png": "[encoded data removed]",
      "text/plain": [
       "<Figure size 432x288 with 1 Axes>"
      ]
     },
     "metadata": {
      "needs_background": "light"
     },
     "output_type": "display_data"
    }
   ],
   "source": [
    "num_trees = 200\n",
    "\n",
    "rf = RandomForestRegressor(n_estimators=num_trees)\n",
    "rf.fit(Xtrain, Ytrain)\n",
    "rf_predictions = rf.predict(Xtest)\n",
    "\n",
    "\n",
    "bg = BaggingRegressor(n_estimators=num_trees)\n",
    "bg.fit(Xtrain, Ytrain)\n",
    "bg_predictions = rf.predict(Xtest)\n",
    "\n",
    "plt.plot(Ytest, label='targets')\n",
    "plt.plot(rf_predictions, label='rf_predictions')\n",
    "plt.plot(bg_predictions, label='bg_predictions')\n",
    "plt.legend()\n",
    "plt.show()"
   ]
  },
  {
   "cell_type": "code",
   "execution_count": null,
   "metadata": {},
   "outputs": [],
   "source": []
  },
  {
   "cell_type": "code",
   "execution_count": 68,
   "metadata": {},
   "outputs": [
    {
     "name": "stdout",
     "output_type": "stream",
     "text": [
      "r_squared value for RandomForest Ensemble model:  -0.07009075382769869\n",
      "r_squared value for BaggedTree Ensemble model:  -0.08150529148526742\n"
     ]
    }
   ],
   "source": [
    "rf_score = rf.score(Xtest, Ytest)\n",
    "bg_score = bg.score(Xtest, Ytest)\n",
    "print(\"r_squared value for RandomForest Ensemble model: \", rf_score)\n",
    "print(\"r_squared value for BaggedTree Ensemble model: \", bg_score)\n"
   ]
  },
  {
   "cell_type": "code",
   "execution_count": null,
   "metadata": {},
   "outputs": [],
   "source": []
  }
 ],
 "metadata": {
  "kernelspec": {
   "display_name": "Python 3",
   "language": "python",
   "name": "python3"
  },
  "language_info": {
   "codemirror_mode": {
    "name": "ipython",
    "version": 3
   },
   "file_extension": ".py",
   "mimetype": "text/x-python",
   "name": "python",
   "nbconvert_exporter": "python",
   "pygments_lexer": "ipython3",
   "version": "3.7.3"
  }
 },
 "nbformat": 4,
 "nbformat_minor": 2
}
